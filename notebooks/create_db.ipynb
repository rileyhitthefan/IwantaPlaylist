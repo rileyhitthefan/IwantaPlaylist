{
 "cells": [
  {
   "cell_type": "markdown",
   "metadata": {},
   "source": [
    "## Test script for app\n",
    "\n",
    "This notebook includes all of the test code I ran to try out different query methods, including: \n",
    "- Sentiment analysis for lyrics: use VADER and HuggingFace pipeline, results may be usable for English lyrics, but was not optimal for other languages\n",
    "- TF-IDF to query for top keywords: use [text2text library](https://github.com/artitw/text2text#tf-idf)\n",
    "- Summarize lyrics and mood to use as query: use NLTK"
   ]
  },
  {
   "cell_type": "markdown",
   "metadata": {},
   "source": [
    "### Spotify and Genius Authentication"
   ]
  },
  {
   "cell_type": "code",
   "execution_count": 42,
   "metadata": {},
   "outputs": [
    {
     "data": {
      "text/plain": [
       "{'display_name': 'rile',\n",
       " 'external_urls': {'spotify': 'https://open.spotify.com/user/4ssmxat4kvsarq280tilxd9cw'},\n",
       " 'followers': {'href': None, 'total': 15},\n",
       " 'href': 'https://api.spotify.com/v1/users/4ssmxat4kvsarq280tilxd9cw',\n",
       " 'id': '4ssmxat4kvsarq280tilxd9cw',\n",
       " 'images': [{'height': 300,\n",
       "   'url': 'https://i.scdn.co/image/ab6775700000ee85b075d0a3febdc0142cda438f',\n",
       "   'width': 300},\n",
       "  {'height': 64,\n",
       "   'url': 'https://i.scdn.co/image/ab67757000003b82b075d0a3febdc0142cda438f',\n",
       "   'width': 64}],\n",
       " 'type': 'user',\n",
       " 'uri': 'spotify:user:4ssmxat4kvsarq280tilxd9cw'}"
      ]
     },
     "execution_count": 42,
     "metadata": {},
     "output_type": "execute_result"
    }
   ],
   "source": [
    "import os\n",
    "from dotenv import load_dotenv\n",
    "load_dotenv()\n",
    "\n",
    "import spotipy\n",
    "from spotipy.oauth2 import SpotifyOAuth, SpotifyClientCredentials\n",
    "\n",
    "# Get Spotify app credentials\n",
    "client_id = os.getenv(\"SPOTIFY_CLIENT_ID\")\n",
    "client_secret = os.getenv(\"SPOTIFY_CLIENT_SECRET\")\n",
    "redirect_uri = os.getenv(\"SPOTIFY_REDIRECT_URI\")\n",
    "scope = \"user-library-read playlist-read-private user-top-read\"\n",
    "\n",
    "# Authenticate \n",
    "client_credentials_manager = SpotifyClientCredentials(\n",
    "    client_id=client_id,\n",
    "    client_secret=client_secret\n",
    ")\n",
    "\n",
    "oauth_manager = SpotifyOAuth(\n",
    "    client_id=client_id,\n",
    "    client_secret=client_secret,\n",
    "    redirect_uri=redirect_uri,\n",
    "    scope=scope\n",
    ")\n",
    "\n",
    "sp = spotipy.Spotify(oauth_manager=oauth_manager)\n",
    "sp.current_user()"
   ]
  },
  {
   "cell_type": "markdown",
   "metadata": {},
   "source": [
    "### Fetch Spotify songs"
   ]
  },
  {
   "cell_type": "markdown",
   "metadata": {},
   "source": [
    "5YkfW67PCvWAOO63TjYwLl"
   ]
  },
  {
   "cell_type": "code",
   "execution_count": 79,
   "metadata": {},
   "outputs": [],
   "source": [
    "user_list = sp.playlist_items('1GfuMQxvw8BcgUx0ozH3fl')"
   ]
  },
  {
   "cell_type": "code",
   "execution_count": 81,
   "metadata": {},
   "outputs": [],
   "source": [
    "user_songs = []\n",
    "for item in user_list['items']:\n",
    "    track = item['track']\n",
    "    user_songs.append({\n",
    "        'name': track['name'],\n",
    "        'artist': track['artists'][0]['name'],\n",
    "        'album': track['album']['name'],\n",
    "        'release_date': track['album']['release_date'],\n",
    "        'popularity': track['popularity']\n",
    "    })"
   ]
  },
  {
   "cell_type": "code",
   "execution_count": 82,
   "metadata": {},
   "outputs": [
    {
     "data": {
      "application/vnd.microsoft.datawrangler.viewer.v0+json": {
       "columns": [
        {
         "name": "index",
         "rawType": "int64",
         "type": "integer"
        },
        {
         "name": "name",
         "rawType": "object",
         "type": "string"
        },
        {
         "name": "artist",
         "rawType": "object",
         "type": "string"
        },
        {
         "name": "album",
         "rawType": "object",
         "type": "string"
        },
        {
         "name": "release_date",
         "rawType": "object",
         "type": "string"
        },
        {
         "name": "popularity",
         "rawType": "int64",
         "type": "integer"
        }
       ],
       "conversionMethod": "pd.DataFrame",
       "ref": "a99abd05-9760-4522-bb56-9f66c2875c64",
       "rows": [
        [
         "0",
         "exes",
         "Tate McRae",
         "THINK LATER",
         "2023-12-08",
         "77"
        ],
        [
         "1",
         "Big Energy",
         "Latto",
         "Big Energy",
         "2021-09-24",
         "60"
        ],
        [
         "2",
         "It's ok I'm ok",
         "Tate McRae",
         "It's ok I'm ok (remixes)",
         "2024-10-11",
         "52"
        ],
        [
         "3",
         "Guess featuring billie eilish",
         "Charli xcx",
         "Brat and it’s completely different but also still brat",
         "2024-10-11",
         "80"
        ],
        [
         "4",
         "Woman",
         "Doja Cat",
         "Planet Her",
         "2021-06-24",
         "50"
        ],
        [
         "5",
         "Dear god",
         "Tate McRae",
         "So Close To What",
         "2025-02-21",
         "76"
        ],
        [
         "6",
         "7 rings",
         "Ariana Grande",
         "thank u, next",
         "2019-02-08",
         "78"
        ],
        [
         "7",
         "greedy",
         "Tate McRae",
         "greedy",
         "2023-09-15",
         "81"
        ],
        [
         "8",
         "1, 2 Step (feat. Missy Elliott)",
         "Ciara",
         "Goodies",
         "2004-09-27",
         "72"
        ],
        [
         "9",
         "2 hands",
         "Tate McRae",
         "2 hands",
         "2024-11-14",
         "75"
        ],
        [
         "10",
         "Flowers",
         "Miley Cyrus",
         "Endless Summer Vacation",
         "2023-08-18",
         "83"
        ],
        [
         "11",
         "Breakin' Dishes",
         "Rihanna",
         "Good Girl Gone Bad: Reloaded",
         "2008-06-02",
         "81"
        ],
        [
         "12",
         "Your Love Is My Drug",
         "Kesha",
         "Your Love Is My Drug",
         "2010-05-14",
         "40"
        ],
        [
         "13",
         "Toxic",
         "Britney Spears",
         "In The Zone",
         "2003-11-13",
         "78"
        ],
        [
         "14",
         "Get Into It (Yuh)",
         "Doja Cat",
         "Planet Her",
         "2021-06-25",
         "68"
        ],
        [
         "15",
         "Rockstar",
         "LISA",
         "Rockstar",
         "2024-06-27",
         "77"
        ],
        [
         "16",
         "Diva",
         "Beyoncé",
         "I AM...SASHA FIERCE",
         "2008-11-14",
         "72"
        ],
        [
         "17",
         "hurt my feelings",
         "Tate McRae",
         "THINK LATER",
         "2023-12-08",
         "66"
        ],
        [
         "18",
         "Kill Bill",
         "SZA",
         "SOS",
         "2022-12-09",
         "75"
        ],
        [
         "19",
         "Tia Tamera (feat. Rico Nasty)",
         "Doja Cat",
         "Amala (Deluxe Version)",
         "2019-03-01",
         "67"
        ],
        [
         "20",
         "Never Lose Me",
         "Flo Milli",
         "Never Lose Me",
         "2023-11-30",
         "69"
        ],
        [
         "21",
         "7/11",
         "Beyoncé",
         "BEYONCÉ [Platinum Edition]",
         "2014-11-24",
         "66"
        ],
        [
         "22",
         "Mamushi (feat. Yuki Chiba)",
         "Megan Thee Stallion",
         "MEGAN",
         "2024-06-28",
         "72"
        ],
        [
         "23",
         "thank u, next",
         "Ariana Grande",
         "thank u, next",
         "2019-02-08",
         "75"
        ],
        [
         "24",
         "Sports car",
         "Tate McRae",
         "Sports car",
         "2025-01-24",
         "84"
        ],
        [
         "25",
         "Run the World (Girls)",
         "Beyoncé",
         "4",
         "2011-06-24",
         "66"
        ],
        [
         "26",
         "Barbie World (with Aqua) [From Barbie The Album]",
         "Nicki Minaj",
         "Barbie World (with Aqua) [From Barbie The Album]",
         "2023-06-23",
         "66"
        ],
        [
         "27",
         "FE!N (feat. Playboi Carti)",
         "Travis Scott",
         "UTOPIA",
         "2023-07-28",
         "82"
        ],
        [
         "28",
         "Boy's a liar Pt. 2",
         "PinkPantheress",
         "Boy's a liar Pt. 2",
         "2023-02-03",
         "68"
        ],
        [
         "29",
         "break up with your girlfriend, i'm bored",
         "Ariana Grande",
         "thank u, next",
         "2019-02-08",
         "70"
        ],
        [
         "30",
         "LUNCH",
         "Billie Eilish",
         "HIT ME HARD AND SOFT",
         "2024-05-17",
         "82"
        ],
        [
         "31",
         "Agora Hills",
         "Doja Cat",
         "Scarlet",
         "2023-09-22",
         "73"
        ],
        [
         "32",
         "MONTERO (Call Me By Your Name)",
         "Lil Nas X",
         "MONTERO (Call Me By Your Name)",
         "2021-03-31",
         "65"
        ],
        [
         "33",
         "WAP (feat. Megan Thee Stallion)",
         "Cardi B",
         "WAP (feat. Megan Thee Stallion)",
         "2020-08-07",
         "72"
        ],
        [
         "34",
         "That's My Girl",
         "Fifth Harmony",
         "7/27 (Deluxe)",
         "2016-05-27",
         "24"
        ],
        [
         "35",
         "Dark Horse",
         "Katy Perry",
         "PRISM (Deluxe)",
         "2013-10-18",
         "70"
        ],
        [
         "36",
         "Hurts Like Hell (feat. Offset)",
         "Madison Beer",
         "Hurts Like Hell (feat. Offset)",
         "2018-11-09",
         "51"
        ],
        [
         "37",
         "Made You Look",
         "Meghan Trainor",
         "Takin' It Back",
         "2022-10-21",
         "74"
        ],
        [
         "38",
         "Primadonna",
         "MARINA",
         "Electra Heart (Deluxe)",
         "2012-04-27",
         "68"
        ],
        [
         "39",
         "Levitating (feat. DaBaby)",
         "Dua Lipa",
         "Future Nostalgia",
         "2020-03-27",
         "75"
        ],
        [
         "40",
         "Don't Let Me Down",
         "The Chainsmokers",
         "Collage EP",
         "2016-11-04",
         "45"
        ],
        [
         "41",
         "Cohete",
         "Shakira",
         "Cohete",
         "2024-03-21",
         "43"
        ],
        [
         "42",
         "SkeeYee",
         "Sexyy Red",
         "Hood Hottest Princess",
         "2023-06-09",
         "63"
        ],
        [
         "43",
         "I Love It (feat. Charli XCX)",
         "Icona Pop",
         "Iconic EP",
         "2012-10-16",
         "39"
        ],
        [
         "44",
         "Big Energy",
         "Latto",
         "Big Energy",
         "2021-09-24",
         "60"
        ],
        [
         "45",
         "Work Bitch",
         "Britney Spears",
         "Britney Jean (Deluxe Version)",
         "2013-11-30",
         "64"
        ],
        [
         "46",
         "Still into You",
         "Paramore",
         "Paramore (Deluxe Edition)",
         "2013-04-09",
         "57"
        ],
        [
         "47",
         "Cruel Summer",
         "Taylor Swift",
         "The Cruelest Summer",
         "2023-10-19",
         "44"
        ],
        [
         "48",
         "Umbrella",
         "Rihanna",
         "Good Girl Gone Bad: Reloaded",
         "2008-06-02",
         "78"
        ],
        [
         "49",
         "2 On (feat. ScHoolboy Q)",
         "Tinashe",
         "Academia 2024/2025 - Treino Animado",
         "2024-09-26",
         "26"
        ]
       ],
       "shape": {
        "columns": 5,
        "rows": 100
       }
      },
      "text/html": [
       "<div>\n",
       "<style scoped>\n",
       "    .dataframe tbody tr th:only-of-type {\n",
       "        vertical-align: middle;\n",
       "    }\n",
       "\n",
       "    .dataframe tbody tr th {\n",
       "        vertical-align: top;\n",
       "    }\n",
       "\n",
       "    .dataframe thead th {\n",
       "        text-align: right;\n",
       "    }\n",
       "</style>\n",
       "<table border=\"1\" class=\"dataframe\">\n",
       "  <thead>\n",
       "    <tr style=\"text-align: right;\">\n",
       "      <th></th>\n",
       "      <th>name</th>\n",
       "      <th>artist</th>\n",
       "      <th>album</th>\n",
       "      <th>release_date</th>\n",
       "      <th>popularity</th>\n",
       "    </tr>\n",
       "  </thead>\n",
       "  <tbody>\n",
       "    <tr>\n",
       "      <th>0</th>\n",
       "      <td>exes</td>\n",
       "      <td>Tate McRae</td>\n",
       "      <td>THINK LATER</td>\n",
       "      <td>2023-12-08</td>\n",
       "      <td>77</td>\n",
       "    </tr>\n",
       "    <tr>\n",
       "      <th>1</th>\n",
       "      <td>Big Energy</td>\n",
       "      <td>Latto</td>\n",
       "      <td>Big Energy</td>\n",
       "      <td>2021-09-24</td>\n",
       "      <td>60</td>\n",
       "    </tr>\n",
       "    <tr>\n",
       "      <th>2</th>\n",
       "      <td>It's ok I'm ok</td>\n",
       "      <td>Tate McRae</td>\n",
       "      <td>It's ok I'm ok (remixes)</td>\n",
       "      <td>2024-10-11</td>\n",
       "      <td>52</td>\n",
       "    </tr>\n",
       "    <tr>\n",
       "      <th>3</th>\n",
       "      <td>Guess featuring billie eilish</td>\n",
       "      <td>Charli xcx</td>\n",
       "      <td>Brat and it’s completely different but also st...</td>\n",
       "      <td>2024-10-11</td>\n",
       "      <td>80</td>\n",
       "    </tr>\n",
       "    <tr>\n",
       "      <th>4</th>\n",
       "      <td>Woman</td>\n",
       "      <td>Doja Cat</td>\n",
       "      <td>Planet Her</td>\n",
       "      <td>2021-06-24</td>\n",
       "      <td>50</td>\n",
       "    </tr>\n",
       "    <tr>\n",
       "      <th>...</th>\n",
       "      <td>...</td>\n",
       "      <td>...</td>\n",
       "      <td>...</td>\n",
       "      <td>...</td>\n",
       "      <td>...</td>\n",
       "    </tr>\n",
       "    <tr>\n",
       "      <th>95</th>\n",
       "      <td>J CHRIST</td>\n",
       "      <td>Lil Nas X</td>\n",
       "      <td>J CHRIST</td>\n",
       "      <td>2024-01-12</td>\n",
       "      <td>53</td>\n",
       "    </tr>\n",
       "    <tr>\n",
       "      <th>96</th>\n",
       "      <td>NO MIENTEN</td>\n",
       "      <td>Becky G</td>\n",
       "      <td>NO MIENTEN</td>\n",
       "      <td>2022-04-20</td>\n",
       "      <td>43</td>\n",
       "    </tr>\n",
       "    <tr>\n",
       "      <th>97</th>\n",
       "      <td>Sorry</td>\n",
       "      <td>Justin Bieber</td>\n",
       "      <td>Nacido para jugar</td>\n",
       "      <td>2023-12-01</td>\n",
       "      <td>38</td>\n",
       "    </tr>\n",
       "    <tr>\n",
       "      <th>98</th>\n",
       "      <td>Blow</td>\n",
       "      <td>Kesha</td>\n",
       "      <td>Cannibal (Expanded Edition)</td>\n",
       "      <td>2010-11-19</td>\n",
       "      <td>67</td>\n",
       "    </tr>\n",
       "    <tr>\n",
       "      <th>99</th>\n",
       "      <td>Makeba</td>\n",
       "      <td>Jain</td>\n",
       "      <td>Zanaka (Deluxe)</td>\n",
       "      <td>2016-11-25</td>\n",
       "      <td>58</td>\n",
       "    </tr>\n",
       "  </tbody>\n",
       "</table>\n",
       "<p>100 rows × 5 columns</p>\n",
       "</div>"
      ],
      "text/plain": [
       "                             name         artist  \\\n",
       "0                            exes     Tate McRae   \n",
       "1                      Big Energy          Latto   \n",
       "2                  It's ok I'm ok     Tate McRae   \n",
       "3   Guess featuring billie eilish     Charli xcx   \n",
       "4                           Woman       Doja Cat   \n",
       "..                            ...            ...   \n",
       "95                       J CHRIST      Lil Nas X   \n",
       "96                     NO MIENTEN        Becky G   \n",
       "97                          Sorry  Justin Bieber   \n",
       "98                           Blow          Kesha   \n",
       "99                         Makeba           Jain   \n",
       "\n",
       "                                                album release_date  popularity  \n",
       "0                                         THINK LATER   2023-12-08          77  \n",
       "1                                          Big Energy   2021-09-24          60  \n",
       "2                            It's ok I'm ok (remixes)   2024-10-11          52  \n",
       "3   Brat and it’s completely different but also st...   2024-10-11          80  \n",
       "4                                          Planet Her   2021-06-24          50  \n",
       "..                                                ...          ...         ...  \n",
       "95                                           J CHRIST   2024-01-12          53  \n",
       "96                                         NO MIENTEN   2022-04-20          43  \n",
       "97                                  Nacido para jugar   2023-12-01          38  \n",
       "98                        Cannibal (Expanded Edition)   2010-11-19          67  \n",
       "99                                    Zanaka (Deluxe)   2016-11-25          58  \n",
       "\n",
       "[100 rows x 5 columns]"
      ]
     },
     "execution_count": 82,
     "metadata": {},
     "output_type": "execute_result"
    }
   ],
   "source": [
    "import pandas as pd\n",
    "user_songs = pd.DataFrame(user_songs)\n",
    "user_songs"
   ]
  },
  {
   "cell_type": "markdown",
   "metadata": {},
   "source": [
    "### Match songs with lyrics"
   ]
  },
  {
   "cell_type": "code",
   "execution_count": 83,
   "metadata": {},
   "outputs": [
    {
     "name": "stdout",
     "output_type": "stream",
     "text": [
      "Searching for \"exes\" by Tate McRae...\n",
      "Done.\n",
      "Searching for \"Big Energy\" by Latto...\n",
      "Done.\n",
      "Searching for \"It's ok I'm ok\" by Tate McRae...\n",
      "Done.\n",
      "Searching for \"Guess featuring billie eilish\" by Charli xcx...\n",
      "Done.\n",
      "Searching for \"Woman\" by Doja Cat...\n",
      "Done.\n",
      "Searching for \"Dear god\" by Tate McRae...\n",
      "Done.\n",
      "Searching for \"7 rings\" by Ariana Grande...\n",
      "Done.\n",
      "Searching for \"greedy\" by Tate McRae...\n",
      "Done.\n",
      "Searching for \"1, 2 Step (feat. Missy Elliott)\" by Ciara...\n",
      "Done.\n",
      "Searching for \"2 hands\" by Tate McRae...\n",
      "Done.\n",
      "Searching for \"Flowers\" by Miley Cyrus...\n",
      "Done.\n",
      "Searching for \"Breakin' Dishes\" by Rihanna...\n",
      "Done.\n",
      "Searching for \"Your Love Is My Drug\" by Kesha...\n",
      "Done.\n",
      "Searching for \"Toxic\" by Britney Spears...\n",
      "Done.\n",
      "Searching for \"Get Into It (Yuh)\" by Doja Cat...\n",
      "Done.\n",
      "Searching for \"Rockstar\" by LISA...\n",
      "Done.\n",
      "Searching for \"Diva\" by Beyoncé...\n",
      "Done.\n",
      "Searching for \"hurt my feelings\" by Tate McRae...\n",
      "Done.\n",
      "Searching for \"Kill Bill\" by SZA...\n",
      "Done.\n",
      "Searching for \"Tia Tamera (feat. Rico Nasty)\" by Doja Cat...\n",
      "Done.\n",
      "Searching for \"Never Lose Me\" by Flo Milli...\n",
      "Done.\n",
      "Searching for \"7/11\" by Beyoncé...\n",
      "Done.\n",
      "Searching for \"Mamushi (feat. Yuki Chiba)\" by Megan Thee Stallion...\n",
      "Done.\n",
      "Searching for \"thank u, next\" by Ariana Grande...\n",
      "Done.\n",
      "Searching for \"Sports car\" by Tate McRae...\n",
      "Done.\n",
      "Searching for \"Run the World (Girls)\" by Beyoncé...\n",
      "Done.\n",
      "Searching for \"Barbie World (with Aqua) [From Barbie The Album]\" by Nicki Minaj...\n",
      "No results found for: 'Barbie World (with Aqua) [From Barbie The Album] Nicki Minaj'\n",
      "Searching for \"FE!N (feat. Playboi Carti)\" by Travis Scott...\n",
      "Done.\n",
      "Searching for \"Boy's a liar Pt. 2\" by PinkPantheress...\n",
      "Done.\n",
      "Searching for \"break up with your girlfriend, i'm bored\" by Ariana Grande...\n",
      "Done.\n",
      "Searching for \"LUNCH\" by Billie Eilish...\n",
      "Done.\n",
      "Searching for \"Agora Hills\" by Doja Cat...\n",
      "Done.\n",
      "Searching for \"MONTERO (Call Me By Your Name)\" by Lil Nas X...\n",
      "Done.\n",
      "Searching for \"WAP (feat. Megan Thee Stallion)\" by Cardi B...\n",
      "Done.\n",
      "Searching for \"That's My Girl\" by Fifth Harmony...\n",
      "Done.\n",
      "Searching for \"Dark Horse\" by Katy Perry...\n",
      "Done.\n",
      "Searching for \"Hurts Like Hell (feat. Offset)\" by Madison Beer...\n",
      "Done.\n",
      "Searching for \"Made You Look\" by Meghan Trainor...\n",
      "Done.\n",
      "Searching for \"Primadonna\" by MARINA...\n",
      "Done.\n",
      "Searching for \"Levitating (feat. DaBaby)\" by Dua Lipa...\n",
      "Done.\n",
      "Searching for \"Don't Let Me Down\" by The Chainsmokers...\n",
      "Done.\n",
      "Searching for \"Cohete\" by Shakira...\n",
      "Done.\n",
      "Searching for \"SkeeYee\" by Sexyy Red...\n",
      "Done.\n",
      "Searching for \"I Love It (feat. Charli XCX)\" by Icona Pop...\n",
      "Done.\n",
      "Searching for \"Big Energy\" by Latto...\n",
      "Done.\n",
      "Searching for \"Work Bitch\" by Britney Spears...\n",
      "Done.\n",
      "Searching for \"Still into You\" by Paramore...\n",
      "Done.\n",
      "Searching for \"Cruel Summer\" by Taylor Swift...\n",
      "Done.\n",
      "Searching for \"Umbrella\" by Rihanna...\n",
      "Done.\n",
      "Searching for \"2 On (feat. ScHoolboy Q)\" by Tinashe...\n",
      "Done.\n",
      "Searching for \"Woman Like Me (feat. Nicki Minaj)\" by Little Mix...\n",
      "Done.\n",
      "Searching for \"Wicked\" by Future...\n",
      "Done.\n",
      "Searching for \"bad guy\" by Billie Eilish...\n",
      "Done.\n",
      "Searching for \"She Loves Control\" by Camila Cabello...\n",
      "Done.\n",
      "Searching for \"Paint The Town Red\" by Doja Cat...\n",
      "Done.\n",
      "Searching for \"Heat\" by Era Istrefi...\n",
      "Done.\n",
      "Searching for \"2 die 4 (feat. Charli XCX)\" by Addison Rae...\n",
      "Done.\n",
      "Searching for \"get him back!\" by Olivia Rodrigo...\n",
      "Done.\n",
      "Searching for \"I Wanna Go\" by Britney Spears...\n",
      "Done.\n",
      "Searching for \"In Ha Mood\" by Ice Spice...\n",
      "Done.\n",
      "Searching for \"15 MINUTES\" by Madison Beer...\n",
      "Done.\n",
      "Searching for \"How Deep Is Your Love\" by Calvin Harris...\n",
      "Done.\n",
      "Searching for \"SexyBack (feat. Timbaland)\" by Justin Timberlake...\n",
      "Done.\n",
      "Searching for \"Conceited\" by Flo Milli...\n",
      "Done.\n",
      "Searching for \"Lovin On Me\" by Jack Harlow...\n",
      "Done.\n",
      "Searching for \"All In My Head (Flex) (feat. Fetty Wap)\" by Fifth Harmony...\n",
      "Done.\n",
      "Searching for \"On My Mama\" by Victoria Monét...\n",
      "Done.\n",
      "Searching for \"I Like It\" by Cardi B...\n",
      "Done.\n",
      "Searching for \"We R Who We R\" by Kesha...\n",
      "Done.\n",
      "Searching for \"Mount Everest\" by Labrinth...\n",
      "Done.\n",
      "Searching for \"She Wolf\" by Shakira...\n",
      "Done.\n",
      "Searching for \"We Can't Stop\" by Miley Cyrus...\n",
      "Done.\n",
      "Searching for \"What It Is - Solo Version\" by Doechii...\n",
      "Done.\n",
      "Searching for \"Motivation\" by Normani...\n",
      "Done.\n",
      "Searching for \"Hot Girl (Bodies Bodies Bodies)\" by Charli xcx...\n",
      "Done.\n",
      "Searching for \"Femme Fatale (feat. Coi Leray & Kaliii)\" by G-Eazy...\n",
      "Done.\n",
      "Searching for \"Chulo pt.2\" by Bad Gyal...\n",
      "Done.\n",
      "Searching for \"Diva\" by Beyoncé...\n",
      "Done.\n",
      "Searching for \"Toxic\" by Britney Spears...\n",
      "Done.\n",
      "Searching for \"Only Girl (In The World)\" by Rihanna...\n",
      "Done.\n",
      "Searching for \"Make You Mine\" by Madison Beer...\n",
      "Done.\n",
      "Searching for \"Tomboy\" by Destiny Rogers...\n",
      "Done.\n",
      "Searching for \"Summer Love\" by Justin Timberlake...\n",
      "Done.\n",
      "Searching for \"TiK ToK\" by Kesha...\n",
      "Done.\n",
      "Searching for \"I LUV IT (feat. Playboi Carti)\" by Camila Cabello...\n",
      "Done.\n",
      "Searching for \"brutal\" by Olivia Rodrigo...\n",
      "Done.\n",
      "Searching for \"Sunday Service\" by Latto...\n",
      "Done.\n",
      "Searching for \"Shakira: Bzrp Music Sessions, Vol. 53\" by Bizarrap...\n",
      "Done.\n",
      "Searching for \"I Want You To Know\" by Zedd...\n",
      "Done.\n",
      "Searching for \"Yeah! (feat. Lil Jon & Ludacris)\" by USHER...\n",
      "Done.\n",
      "Searching for \"Like a Boy\" by Ciara...\n",
      "Done.\n",
      "Searching for \"In The Party\" by Flo Milli...\n",
      "Done.\n",
      "Searching for \"Prisoner (feat. Dua Lipa)\" by Miley Cyrus...\n",
      "Done.\n",
      "Searching for \"Doctor (Work It Out) [feat. Miley Cyrus]\" by Pharrell Williams...\n",
      "Done.\n",
      "Searching for \"DON'T\" by Ari Abdul...\n",
      "Done.\n",
      "Searching for \"J CHRIST\" by Lil Nas X...\n",
      "Done.\n",
      "Searching for \"NO MIENTEN\" by Becky G...\n",
      "Done.\n",
      "Searching for \"Sorry\" by Justin Bieber...\n",
      "Done.\n",
      "Searching for \"Blow\" by Kesha...\n",
      "Done.\n",
      "Searching for \"Makeba\" by Jain...\n",
      "Done.\n"
     ]
    }
   ],
   "source": [
    "import lyricsgenius\n",
    "gen_client_access_token = os.getenv(\"GENIUS_CLIENT_TOKEN\")\n",
    "genius = lyricsgenius.Genius(gen_client_access_token, timeout=10)\n",
    "\n",
    "list_lyrics = []\n",
    "\n",
    "for i, song in user_songs.iterrows():\n",
    "    title = song['name']\n",
    "    artist = song['artist']\n",
    "    retries = 0\n",
    "    while retries < 3:\n",
    "        try:\n",
    "            lyrics = genius.search_song(title, artist)\n",
    "        except:\n",
    "            retries += 1\n",
    "            continue\n",
    "        if lyrics:\n",
    "            list_lyrics.append({\n",
    "                'title': title,\n",
    "                'lyrics': lyrics.lyrics\n",
    "            })\n",
    "        break"
   ]
  },
  {
   "cell_type": "markdown",
   "metadata": {},
   "source": [
    "Clean and tokenize lyrics"
   ]
  },
  {
   "cell_type": "code",
   "execution_count": 47,
   "metadata": {},
   "outputs": [],
   "source": [
    "import random\n",
    "import pandas as pd\n",
    "\n",
    "import nltk\n",
    "from nltk.tokenize import word_tokenize\n",
    "from nltk.corpus import stopwords\n",
    "from nltk.probability import FreqDist\n",
    "\n",
    "# nltk.download('stopwords')\n",
    "# nltk.download('wordnet')   \n",
    "# nltk.download('punkt')\n",
    "# nltk.download('wordnet')\n",
    "# nltk.download('averaged_perceptron_tagger')   \n",
    "\n",
    "def clean_lyrics(df, column):\n",
    "    \"\"\"\n",
    "    Cleans the words without importance and fix the format of the  dataframe's column lyrics \n",
    "    Args:\n",
    "        df (DataFrame): df containing song information\n",
    "        column (str): column to clean\n",
    "    Returns:\n",
    "        df (DataFrame): DataFrame containing the cleaned lyrics\n",
    "    \"\"\"\n",
    "    df[column] = df[column].str.lower()\n",
    "    # remove section marker\n",
    "    df[column] = df[column].str.replace(r\"(verse\\s?\\d*|chorus|bridge|outro|intro)\", \"\", regex=True)\n",
    "    df[column] = df[column].str.replace(r\"(instrumental|guitar|solo)\", \"\", regex=True) \n",
    "    df[column] = df[column].str.replace(r\"\\[.*?\\]\", \"\", regex=True)\n",
    "    # remove new line\n",
    "    df[column] = df[column].str.replace(r\"\\n\", \". \", regex=True)\n",
    "    # remove special characters\n",
    "    df[column] = df[column].str.replace(r\"[^\\w\\d'\\s.]+\", \"\", regex=True)\n",
    "    df[column] = df[column].str.strip()\n",
    "    df[column] = df[column].str[2:] # impromptu removing the 1st period when replacing \"\\n\"\n",
    "\n",
    "    return df"
   ]
  },
  {
   "cell_type": "code",
   "execution_count": 84,
   "metadata": {},
   "outputs": [],
   "source": [
    "# Convert list_lyrics to DataFrame\n",
    "list_lyrics_df = pd.DataFrame(list_lyrics)"
   ]
  },
  {
   "cell_type": "code",
   "execution_count": 85,
   "metadata": {},
   "outputs": [
    {
     "data": {
      "application/vnd.microsoft.datawrangler.viewer.v0+json": {
       "columns": [
        {
         "name": "index",
         "rawType": "int64",
         "type": "integer"
        },
        {
         "name": "title",
         "rawType": "object",
         "type": "string"
        },
        {
         "name": "lyrics",
         "rawType": "object",
         "type": "string"
        }
       ],
       "conversionMethod": "pd.DataFrame",
       "ref": "89802bc1-fcae-46e0-b851-cbeb4c29d4ca",
       "rows": [
        [
         "0",
         "exes",
         "oh i'm sorry sorry that you love me hahahahahaha. changed my mind up like it's origami. oh i'm sorry sorry that you love me hahahahahaha. changed my mind up like it's origami. . . kisskisskiss kisses to my exes who don't give a shit about me. kisses kisses to the next ones who think they can live without me. we make up then we break up then they swear they'll never call me. but i still keep their number and their necklace kisses to my exes. . . happens еvery time. i don't mean mеan to be cold but that's how i get oh. me and all my pride. tryna burn down every damn  any time we can and again. . . i'm a i'm a i'm a wild ride that never stops. i'm a i'm a i'm a hard case they can't unlock. and i and i swear i care a lot just not enough. let's just say it is what it is and was what it was. . . kisskisskiss kisses to my exes who don't give a shit about me. kisses kisses to the next ones who think they can live without me. we make up then we break up then they swear they'll never call me. but i still keep their number and their necklace kisses to my exes. . . oh i'm sorry sorry that you love me hahahahahaha. changed my mind up like it's origami. oh i'm sorry sorry that you love me ohohoh. changed my mind up like it's ori. . . say say i wanna go there then i wanna leave. make another promise that i can't keep. i don't ever know what i want but that's what you want. if you're down well then don't blame me. breakin' it all before it starts makin' it all up in my head. but i just overshare 'bout things i never meant. . . i'm a i'm a i'm a wild ride that never stops. i'm a i'm a i'm a hard case they can't unlock. and i and i swear i care a lot just not enough. let's just say it is what it is and was what it was was. . . kisses to my exes who don't give a shit about me. kisses kisses to the next ones who think they can live without me nah nah. we make up then we break up then they swear they'll never call me yeah. but i still keep their number and their necklace kisses to my exes. . . oh i'm sorry sorry that you love me hahahahahaha. changed my mind up like it's origami. oh i'm sorry sorry that you love me hahahahahaha. changed my mind up like it's origami haha. . . kisses to my exes i know that i did you dirty. little messed up little selfish we ain't married i ain't thirty. yeah we hooked up then we broke up then i said you really hurt me. but i still got your number and your necklace kisses to my exes"
        ],
        [
         "1",
         "Big Energy",
         "got that real big energy uhhuh. got that big big energy energy. hey daddy. when you gon' stop playin' yeah. . . bad bitch i could be your fantasy yeah. i can tell you got big dick energy uhhuh. it ain't too many niggas that can handle me yeah. but i might let you try it off the hennessy uh. make 'em sing to this pussy like a melody make 'em sang. and if your bitch ain't right i got the remedy ooh. it ain't too many niggas that can handle me ayy. bad bitch i could be your fantasy ayy ayy. . . tell me how you want it huh. three two one and i'm on it on it. feel good don't it don't it. hood bitch fuck you in a bonnet yeah. i'ma bust it on a pole like onyx ooh. i'm just bein' honest uhhuh. pussy juicy minutе maid oh. but can't do it one minute man hell no. not a sidе or a main. i'm the only bitch he entertain yeah. spendin' his mine in the bank in the bank. i like what i see yeah. a boss like you need a boss like me uhhuh. daddy from the street so he move lowkey. tryna rock that mic' like karaoke oh. . . on the count of three bad bitches get money money. broke niggas to the left we don't want it we don't want. i'm the one these bitches hate but they can't get past uhhuh. pretty face no waist and a big ol' ass ha. . . bad bitch i could be your fantasy yeah. i can tell you got big dick energy uhhuh. it ain't too many niggas that can handle me yeah. but i might let you try it off the hennessy uh. make 'em sing to this pussy like a melody make 'em sang. and if your bitch ain't right i got the remedy ooh. it ain't too many niggas that can handle me ayy. bad bitch i could be your fantasy ayy ayy. . . got that real big energy. got that big big energy big dick energy. got that real big energy. got that big big energy big dick energy. . . yuh tell me how you want it want it. three two one camera rollin' ooh. do it slow motion uhhuh. real bitch them other hoes phony uh. all that big talk latto put 'em on it latto. i'm just bein' honest yeah. lingerie dolce ha. blindfold yeah tie me to the bed yeah while we roleplay yeah. can't skip foreplay kill the pussy cold case uhhuh. i'm a boss bitch but tonight we do it your way. . . on the count of three bad bitches get money get money. broke niggas to the left we don't want it hell nah. if you ever see me broke i'm probably rockin' a cast. pretty face no waist with a big ol' bag ha. . . bad bitch i could be your fantasy yeah. i can tell you got big dick energy uhhuh. it ain't too many niggas that can handle me yeah. but i might let you try it off the hennessy uh. make 'em sing to this pussy like a melody make 'em sang. and if your bitch ain't right i got the remedy ooh. it ain't too many niggas that can handle me ayy. bad bitch i could be your fantasy ayy ayy. . . got that real big energy. got that big big energy big dick energy. got that real big energy. got that big big energy big dick energy"
        ],
        [
         "2",
         "It's ok I'm ok",
         "mm. yeah uh. . . see you so excited mm. you got him locked down mmh yeah. you're movin' like i did mm. before i found out. he ain't just a prettyfaced talker. good with his money close to his mother. you're seein' onesided sided. you got him right now. . . and she be like he's so perfect. i be like oh what version. ain't nobody got me this nervous. oh baby i been there hey. and right in that same position hey. so baby don't get this twisted hey. no nothin' could make me miss it. take him he's yours. . . it's okay i'm okay had him in the first place. it's okay i'm okay i'm okay yeah yeah. it's okay i'm okay i don't really gotta say. it's okay okay. . . you can have him anyway way. anyway way. you can have him anyway way. anyway oh oh oh oh. . . was such a romantic romantic. you got me like fuck that. some months and some long flights. now i can't go near that. . . and she be like he's so perfect. i be like oh what version. ain't nobody got me this nervous nervous. oh baby i've been there hey. and right in that same position hey. so baby don't get this twisted hey. no nothin' could make me miss it. take him he's yours. . . it's okay i'm okay had him in the first place. it's okay i'm okay i'm okay. it's okay i'm okay i don't really gotta say. it's okay okay. . . you can have him anyway way. anyway way. you can have him anyway way. anyway way way way. . . it's okay i'm okay had him in the first place. it's okay i'm okay i'm okay i'm okay. it's okay i'm okay i don't really gotta say it's okay. it's okay. . . you can have him anyway anyway. anyway anyway. you can have him anyway anyway. anyway oh oh oh oh. . . i don't want him anyway girl take him. i don't want him anyway girl take him. i don't want him anyway girl take him it's okay take him. i don't want him yeah i don't i don't want him yeah i don't. i don't want him anyway anyway girl take him want him anyway. i don't want him anyway anyway girl take him anyway. i don't it's okay it's okay take him anyway. i don't want him yeah i don't i don't want him"
        ],
        [
         "3",
         "Guess featuring billie eilish",
         "hey billie you there. uhuh. . . you wanna guess the colour of my underwear. you wanna know what i got goin' on down there. is it pretty in pink or all seethrough. is it showin' off my brandnew lowerback tattoo. you wanna put 'em in your mouth pull 'em all down south. you wanna turn this shit out that's what i'm talkin' about. pupupuput 'em in your mouth pull 'em all down south. you wanna turn this shit out that's what l'm talkin' about yeah. . . try it bite it lick it spit it. pull it to the side and get all up in it. wear 'em post 'em might remix it. send 'em to the dare yeah i think he's with it. try it bite it lick it spit it. pull it to the side and get all up in it. wear 'em post 'em might remix it. eat it up for lunch yeah it's so delicious. work it out. . . don't have to guess the color of your underwear. already know what you've got goin' on down there. it's that lacy black pair with the little bows. the ones i picked out for you in tokyo. i saw them when you sat down they were peekin' out. i'm gonna tell you right now they're all i'm thinkin' about. . . i wanna try it bite it lick it spit it. pull it to the side and get all up in it. kiss it ride it can i fit it. charli likes boys but she knows i'd hit it. knows i'd hit it. charli call me if you're with it. . . yeah guess guess guess guess guess guess guess guess. guess guess guess guess guess guess guess guess. guess guess guess guess guess guess guess guess. guess guess guess guess guess guess guess guess. . . you wanna guess what me and billie have been textin' about we've been disrespectful. still tryin' to guess the password to my google drive are you obsessed with me. you wanna guess the address of the party we're at you know you're not invited. you wanna guess if we're serious about this song"
        ],
        [
         "4",
         "Woman",
         "hey woman. hey woman. . . ayy woman. let me be your woman. woman woman woman ayy. i can be your woman. woman woman woman ayy. let me be your woman. woman woman woman ayy. i can be your woman. woman woman woman ayy. . . what you need. she give tenfold come here papa plant your seed. she can grow right from her womb a family. provide lovin' overlooked and unappreciated you see  ayy. you can reciprocate. i got delicious taste you need a woman's touch in your place. just protect her and keep her safe. baby worship my hips and waist. so feminine with grace. i touch your soul when you hear me say boy. let me be your woman. . . woman daddy. let mе be your woman i know mm. woman woman woman daddy. i can be your woman i know. woman woman woman daddy. let mе be your woman i know. woman woman woman ayy daddy. i can be your woman i know. woman woman woman. . . i can be your lady i'm a woman. i'm a motherfucker but they got a problem. put some babies in your life and take away the drama. put the paper in a picture like a diorama. gotta face a lot of people of the opposite. 'cause the world told me we ain't got the common sense. gotta prove it to myself that i'm on top of shit. and you would never know a god without the goddesses. honest as fuckin' honest get. and i could be on everything. i mean i could be the leader head of all the states. i could smile and jiggle it 'til his pockets empty. i could be the ceo just look at robyn fenty. and i'ma be there for you 'cause you on my team girl. don't ever think you ain't hella these niggas dream girl. they wanna pit us against each other. when we succeedin' for no reasons. they wanna see us end up like we regina on mean girls. princess or queen tomboy or king yeah. you've heard a lot you've never seen nah. mother earth mother mary rise to the top top. divine feminine i'm feminine why. . . woman daddy. let me be your woman let me be your i know. woman woman woman i need to be your daddy. i can be your woman i know. woman woman woman daddy. let me be your woman i know. woman woman woman daddy. i can be your woman i wanna be i know. woman woman woman. . . woman. eee hey woman woman. eee hey hey woman woman. mm mm hey woman woman. hey woman"
        ],
        [
         "5",
         "Dear god",
         "yeah. . . lay there. back of my mind he stay there. pops up time to time like hey there. haven't seen you in two years but baby we still breathe the same air. new love and it's almost workin'. and i never used to be this person. but here i am. hands on my chest and my knees on the carpet. hopin' you'll stop it ah. . . dear god. take his kiss right out of my brain. take the pleasure out of my pain. take the way he used to say i love you. dear god. get his imprint out of my bed. take amazing out of our sex. take away the way i still might want to. . . facts. all the memories babe i play 'em all play 'em all play 'em all play 'em all back. to erase his name i'd give it all give it all give everything that i have. all my nogood thoughts i pray about pray about pray about pray about that. take away the way i still might want to. . . hottest. thing i've ever touched just bein' honest. really tryna be good i promise. that's why i'm here. with my hands on my chest and my knees on the carpet. hopin' you'll stop it ah. . . dear god. take his kiss right out of my brain. take the pleasure out of my pain. take the way he used to say i love you. dear god. get his imprint out of my bed. take amazing out of our sex. take away the way i still might want to no. . . facts. all the memories babe i play 'em all play 'em all play 'em all play 'em all back. to erase his name i'd give it all give it all give everything that i have. all my nogood thoughts i pray about pray about pray about pray about that. take away the way i still might want to. . . dear god uh uh uhuh. dear god uh uh. . . dear god i hope you're listenin'. i play 'em all play 'em all play 'em all play 'em all back. i pray it ain't him i'm missin'. dear god i hope you're listenin'. i play 'em all play 'em all play 'em all play 'em all back. i pray it ain't him i'm missin'. dear god i hope you're listenin'. dear god dear god dear god. i'd give it all give it all give everything that i have. dear god dear god dear god i pray about pray about pray about"
        ],
        [
         "6",
         "7 rings",
         "yeah breakfast at tiffany's and bottles of bubbles. girls with tattoos who like getting in trouble. lashes and diamonds atm machines. buy myself all of my favorite things yeah. been through some bad shit i should be a sad bitch. who woulda thought it'd turn me to a savage. rather be tied up with calls and not strings. write my own checks like i write what i sing yeah yeah. . . my wrist stop watchin' my neck is flossy. make big deposits my gloss is poppin'. you like my hair gee thanks just bought it. i see it i like it i want it i got it yeah. . . i want it i got it i want it i got it. i want it i got it i want it i got it. you like my hair gee thanks just bought it. i see it i like it i want it i got it yep. . wearing a ring but ain't gon' be no mrs.. bought matching diamonds for six of my bitches. i'd rather spoil all my friends with my riches. think retail therapy my new addiction. whoever said money can't solve your problems. must not have had enough money to solve 'em. they say which one i say nah i want all of 'em. happiness is the same price as redbottoms. . . my smile is beamin' yeah my skin is gleamin' is gleamin'. the way it shine i know you've seen it you've seen it. i bought a crib just for just for the closet closet. both his and hers i want it i got it yeah. . . i want it i got it i want it i got it. i want it i got it i want it i got it baby. you like my hair gee thanks just bought it oh yeah. i see it i like it i want it i got it yep. . . yeah my receipts be lookin' like phone numbers. if it ain't money then wrong number. black card is my business card. the way it be settin' the tone for me. i don't mean to brag but i be like put it in the bag yeah. when you see them racks they stacked up like my ass yeah. shoot go from the store to the booth. make it all back in one loop gimme the loot. never mind i got the juice. nothing but net when we shoot. look at my neck look at my jet. ain't got enough money to pay me respect. ain't no budget when i'm on the set. if i like it then that's what i get yeah. . . i want it i got it i want it i got it oh yeah. i want it i got it i want it i got it oh yeah yeah. you like my hair gee thanks just bought it. i see it i like it i want it i got it i see yep"
        ],
        [
         "7",
         "greedy",
         "woo. . . he said are you serious i've tried but i can't figure out. i've been next to you all night and still don't know what you're about. you keep ta tata talkin' but not much comin' out your mouth. can't you tell that i want you i say yeah. . i would want myself. baby please believe me. i'll put you through hell. just to know me yeah yeah. so sure of yourself. baby don't get greedy. that shit won't end well. no it won't end well. . . uhuh uhuhuh uhuh woo. . . i see you eyein' me down but you'll never know much past my name. or how i'm runnin' this room around and that i'm still half your age. yeah you're loo looloo lookin' at me like i'm some sweet escape. obvious that you want me but i said. . . i would want myself. baby please believe me. i'll put you through hell. just to know me yeah yeah. so sure of yourself. baby don't get greedy. that shit won't end well. no it won't end well. . . he said i'm just curious is this for real or just an act. can't tell if you love or hate me never met someone like that. drive me so so so crazy did you know you got that effect. i said lemme check yeah. . i would want myself. baby please believe me. i'll put you through hell. just to know me yeah yeah. so sure of yourself. baby don't get greedy. that shit won't end well. no it won't end well. . . i would want myself. i would want myself. i would want myself. i would want myself. i would want myself. uhuh uhuhuh uh"
        ],
        [
         "8",
         "1, 2 Step (feat. Missy Elliott)",
         "ladies and gentlemen ladies and gentlemen gentlemen gentlemen oohwee. this is a jazze phizzle phizzle phizzle productizzle uh oh. missy missy the princess is here she's here ciara. . . this beat is automatic supersonic hypnotic funky fresh huh. work my body so melodic this beat rolls right through my chest yup. everybody ma and papi came to party grab somebody. work ya body work ya body. let me see you one two step here we go. . . rock it don't stop it. everybody get on the floor. crank the party up. we about to get it on. let me see you one two step. i love it when you one two step. everybody one two step. we about to get it on. . . this beat is outrageous so contagious make you crave it. jazze made it huh. so retarded top charted ever since the day i started woo. strut my stuff and yes i flaunt it. goodies make the boys jump on it hah. no i can't control myself. now let me do my one two step come on. . . rock it don't stop it. everybody get on the floor. crank the party up. we about to get it on. let me see you one two step. i love it when you one two step. everybody one two step. we about to get it on. . . we gon' flip it like this ooh wee. . . it don't matter to me we can dance slow ladies and gentlemen. whichever way the beat drops our bodies will go i like this. so swing it over here mr. dj hey hey. and we will we will rock you oh woah woah. it don't matter to me we can dance slow yeah dance slow. whichever way the beat drops our bodies will go. so swing it over here mr. dj ladies and gentlemen. and we will we will rock you let's shake. . . i shake it like jello make the boys say hello. 'cause they know i'm rockin' the beat uhhuh. i know you heard about a lot of great mc's. but they ain't got nothing on me. because i'm 5 foot 2 i wanna dance with you. and i'm sophisticated fun. i eat filet mignon i'm nice and young. best believe i'm number one. . . rock it don't stop it. everybody get on the floor. crank the party up. we about to get it on. let me see you one two step. i love it when you one two step. everybody one two step. we about to get it on. rock it don't stop it. everybody get on the floor. crank the party up. we about to get it on. let me see you one two step. i love it when you one two step. everybody one two step. we about to get it on. . . this is for the hearing impaired. a jazze pha production"
        ],
        [
         "9",
         "2 hands",
         "i want your two hands. don't ever let me go. i want your two hands. two hands on me. . . you don't need to tell me you love me. seventeen times in a day yeah. i don't need to hear i'm your number one. and everybody's second place. you don't gotta shittalk your last girl. sayin' she don't compare to me yeah. baby i ain't saying you don't know me well it's. just not the shit i need. . . 'cause they just words they don't mean much. they don't mean much no no. need a little less talk. and a lot more touch. . . i just want your two hands on me. at all times baby. if you let go i want your two hands. better put 'em right back fast. want your two hands on mе. like my life needs savin'. let 'еm all know i want your two hands. can you do it like that yeah. . . you ain't gonna win with the jewelry. don't need the cute fuckin' names no. we don't gotta live out of hotels mmmm. we could do it in my room all day. and i know you could spoil me plenty more. but i don't really trust that anymore. and i already got that bag for free ah. but if you bought it then that's sweet sweet. . . still they're just things they don't mean much. they don't mean much no no. seen a real good thing. turn to real fucked up mm ah. . . i just want your two hands on me. at all times baby. if you let go i want your two hands. better put 'em right back fast. want your two hands on me. like my life needs savin'. let 'em all know i want your two hands. can you do it like that yeah. . . 'cause i want 'em all to see. you look good on top of me. at this time at night i need. not one not three yeah. just your two hands on me. like my life needs savin'. let 'em all know i want your two hands. can you do it like that yeah. . . i want your two hands mm woah. don't ever let me go. i want your two hands. two hands on me. i want your two i want your two hands. don't let go no don't ever let me go. i want your two hands i want your two hands. can you do it like that two hands on me. . . i just want your two hands on me. at all times baby. if you let go i want your two hands. better put 'em right back fast ohoh. want your two hands on me. like my life needs savin'. let 'em all know i want your two hands. can you do it like that yeah like that like that. . . 'cause i want 'em all to see yeah. you look good on top of me. at this time at night i need. not one not three. just your two hands on me. like my life needs savin'. let 'em all know i want your two hands. can you do it like that yeah alright"
        ],
        [
         "10",
         "Flowers",
         "we were good we were gold. kinda dream that can't be sold. we were right 'til we weren't. built a home and watched it burn. . . mm i didn't wanna leave you i didn't wanna lie. started to cry but then remembered i. . . i can buy myself flowers. write my name in the sand. talk to myself for hours. say things you don't understand. i can take myself dancing. and i can hold my own hand. yeah i can love me better than you can. . . can love me better i can love me better baby. can love me better i can love me better baby. . . paint my nails cherryred. match the roses that you left. no remorse no regret. i forgive every word you said. . . ooh i didn't wanna leave you baby i didn't wanna fight. started to cry but then remembered i. . . i can buy myself flowers. write my name in the sand. talk to myself for hours yeah. say things you don't understand. i can take myself dancing yeah. i can hold my own hand. yeah i can love me better than you can. . . can love me better i can love me better baby. can love me better i can love me better baby. can love me better i can love me better baby. can love me better i ooh i. . . i didn't wanna leave you i didn't wanna fight. started to cry but then remembered i. . . i can buy myself flowers uhhuh. write my name in the sand. talk to myself for hours yeah. say things you don't understand you never will. i can take myself dancing yeah. i can hold my own hand. yeah i can love me better than. yeah i can love me better than you can. . . can love me better i can love me better baby uh. can love me better i can love me better baby than you can. can love me better i can love me better baby. can love me better i"
        ],
        [
         "11",
         "Breakin' Dishes",
         "owow owow. owow owow. owow owowow. i don't know who you think i am. i don't know who you think i am. i don't know who you think i am. i don't know who you think i am. ow. . . he been gone gone since 330 330. been coming home lately at 330 330. i'm super cool i've been a fool. but now i'm hot and baby you gon' get it. now i ain't trippin' i i ain't twisted i. i ain't demented ha well just a lil' bit huh. i'm kickin'  i'm taking names. i'm on flame don't come home babe. . . i'm breakin' dishes up in here all night uhhuh. i ain't gon' stop until i see police lights uhhuh. i'ma fight a man tonight i'ma fight a man tonight. i'ma fight a man a man a maeaaan. a man a man a maeaaan oh. . . i'm still waitin' come through the door. i'm killin' time you know bleachin' your clothes. i'm roastin' marshmallows on the fire. and what i'm burnin' ah is your attire. i'm gettin' restless i'm gettin' tested. and i can't believe he's always out every night and never checks in. is he cheatin' man i don't know. i'm lookin' 'round for somethin' else to throw. . . i'm breakin' dishes up in here all night uhhuh. i ain't gon' stop until i see police lights uhhuh. i'ma fight a man tonight i'ma fight a man tonight. i'ma fight a man a man a maeaaan. a man a man a maeaaan oh. . . ah i don't know who you think i am i don't know who you think i am. but i really don't give a damn right now. ah if you don't come i'ma huff and puff and blow this blow this oh. blow this blow this. i'ma blow this blow this oh. blow this blow this. i'ma blow this blow this oh. blow this house house down. dishes breakin' dishes breakin' dishes. . . i'm breakin' dishes up in here all night uhhuh. i ain't gon' stop until i see police lights uhhuh. i'ma fight a man tonight i'ma fight a man tonight. i'ma fight a man a man a maeaaan. a man a man a maeaaan. fight a man a man a maeaaan. a man a man a maeaaan oh. . . breakin' dishes dishes dishes. breakin' dishes dishes dishes"
        ],
        [
         "12",
         "Your Love Is My Drug",
         "maybe i need some rehab. or maybe just need some sleep. i got a sick obsession. i'm seein' it in my dreams. i'm lookin' down every alley. i'm makin' those desperate calls. i'm stayin' up all night hopin'. hittin' my head against the wall. . . what you've got boy is hard to find. i think about it all the time. i'm all strung out my heart is fried. i just can't get you off my mind. . . because your love your love your love is my drug. your love your love your love. i said your love your love your love is my drug. your love your love your love. . . won't listen to any advice. mama's tellin' me i should think twice. but left to my own devices. i'm addicted it's a crisis. my friends think i've gone crazy. my judgment's gettin' kinda hazy. my steeze is gonna be affected. if i keep it up like a lovesick crackhead. . . what you've got boy is hard to find. i think about it all the time all the time. i'm all strung out my heart is fried. i just can't get you off my mind. . . because your love your love your love is my drug. your love your love your love. i said your love your love your love is my drug. your love your love your love. . . i don't care what people say. the rush is worth the price i pay. i get so high when you're with me. but crash and crave you when you leave you leave. hey so i got a question you leave. do you wanna have a slumber party in my basement you leave. do i make your heart beat like an 808 drum. is my love your drug when you leave. your drug you leave. huh your drug you leave. huh your drug when you leave. is my love your drug. . . because your love your love your love is my drug. your love your love your love. i said your love your love your love is my drug. your love your love your love. because your love your love your love is my drug ah ah oohwoah. your love your love your love ah ah oohwoah. i said your love your love your love is my drug ah ah oohwoah. your love your love your love ah ah oohwoah. . . hey. hey. so. your love your love your love your love. is my drug. i like your beard"
        ],
        [
         "13",
         "Toxic",
         "baby can't you see i'm callin'. a guy like you should wear a warnin'. it's dangerous i'm fallin'. there's no escape i can't wait. i need a hit baby give me it. you're dangerous i'm lovin' it. . too high can't come down. losing my head spinnin' round and round. do you feel me now. . . with a taste of your lips i'm on a ride. you're toxic i'm slippin' under. with a taste of a poison paradise. i'm addicted to you. don't you know that you're toxic. and i love what you do. don't you know that you're toxic. . . it's gettin' late to give you up. i took a sip from my devil's cup. slowly it's takin' over me. . . too high can't come down. it's in the air and it's all around. can you feel me now. . . with a taste of your lips i'm on a ride. you're toxic i'm slippin' under. with a taste of a poison paradise. i'm addicted to you. don't you know that you're toxic. and i love what you do. don't you know that you're toxic. don't you know that you're toxic. . . . . taste of your lips i'm on a ride. you're toxic i'm slippin' under. with a taste of a poison paradise. i'm addicted to you. don't you know that you're toxic. with a taste of your lips i'm on a ride. you're toxic i'm slippin' under toxic. with a taste of a poison paradise. i'm addicted to you. don't you know that you're toxic. . . intoxicate me now with your lovin' now. i think i'm ready now i think i'm ready now. intoxicate me now with your lovin' now. i think i'm ready now"
        ],
        [
         "14",
         "Get Into It (Yuh)",
         "yeah ayy. ha ayy yeah. . . they say i just got a buck uh. get into it yuh. pop out with a truck ha. get into it yuh yuh. if you go to church. i said get into it yuh. if she ain't got a butt. nah fuck it get into it yuh. and i say i just got a buck. get into it yuh. pop out with a truck. get into it yuh. if you go to church. get into it yuh. if she ain't got a butt. fuck it get into it yuh. . . yeah you just wanna party you just wanna lap dance. you just wanna pop up on these clowns like you're the batman. you just wanna ball out in designer with your best friends. you don't wanna talk no more about it in the past tense. get me out my zone i'm just talkin' comfort shawty. i ain't give you nothin' you could come for shawty. i got plenty things you make a run for shawty. call him ed sheeran he in love with my body. . . they say i just got a buck uh. get into it yuh. pop out with a truck ha. get into it yuh yuh. if you go to church. i said get into it yuh. if she ain't got a butt. nah fuck it gеt into it yuh. and i say i just got a buck. get into it yuh. pop out with a truck. get into it yuh. if you go to church. get into it yuh. if shе ain't got a butt. fuck it get into it yuh. . y'all need to get into the drip like a piranha. y'all need to get into my drip like y'all need water. i mean it's only head to toe balenciaga. i mean y'all bitches better yuh like ariana. if they ever tryna knock her put my foot up in your caca. call your mama and your papa like i'm finna take your daughter. turn that bitch into a soccer ball and rocka rocka rocka brrr. get into it like a suit and fuck a stock up like a broker. . . they say i just got a buck yuh. get into it yuh ayy. pop out with a truck ha. get into it yuh pop out pop out. if you go to church. i said get into it yuh. if she ain't got a butt. nah fuck it get into it yuh. and i say i just got a buck ayy. get into it yuh. pop out with a truck. get into it yuh yeah. if you go to church. get into it yuh go to church. if she ain't got a butt. fuck it get into it yuh. yeah yeah yeah yeah. . . thank you nicki i love you. got that big rocket launcher"
        ],
        [
         "15",
         "Rockstar",
         "gold teeth sittin' on the dash she a rockstar. make your favorite singer wanna rap baby la la. lisa can you teach me japanese i said はいはい. that's my life life baby i'm a rockstar. . . been on a mission boy they call me catchandkill. i'm stealin' diamonds make them chase me for the thrill. been mia bkk so pretty. every city that i go is my city. . . gold teeth sittin' on the dash she a rockstar. make your favorite singer wanna rap baby la la. lisa can you teach me japanese i said はいはい. that's my life life baby i'm a rockstar. . . i'm a rockstar i'm a rockstar. it's not hype hype baby make you rockhard. . . make a wish babe what you wanna do. dippin' outta big cities like a ponzu. it's a fast life it's an attitude. put it on the calеndar and tell me when to comе through. yes yes i can spend it. yes yes no pretendin'. tight dress lv sent it. oh shit lisa reppin'. . . been on a mission boy they call me catchandkill. i'm stealin' diamonds make them chase me for the thrill. been mia bkk so pretty. every city that i go is my city. . . gold teeth sittin' on the dash she a rockstar. make your favorite singer wanna rap baby la la. lisa can you teach me japanese i said はいはい. that's my life life baby i'm a rockstar. gold teeth sittin' on the dash she a rockstar. make your favorite singer wanna rap baby la la. lisa can you teach me japanese i said はいはい. that's my life life baby i'm a rockstar. . . i'm a rockstar i'm a rockstar. it's not hype hype baby make you rockhard. i'm a rockstar i'm a rockstar. it's not hype hype baby make you rockhard. . . ooh and the music goin'. ooh and the girls are posin'. ooh don't it get you in a mood. it's not hype hype baby i'm a rockstar"
        ],
        [
         "16",
         "Diva",
         "i'm a a diva hey i'm a i'm a a diva hey. i'm a i'm a a diva hey i'm a i'm a a diva. i'm a i'm a a diva hey i'm a i'm a a diva. i'm a i'm a a diva hey i'm a i'm a a div. . . nanana diva is a female version of a hustla ohoh. of a hustla of a of a hustla ohoh. nanana diva is a female version of a hustla ohoh. of a hustla of a of a hustla ohoh first. . . stop the track let me state facts. i told you give a minute and i'll be right back first. fifty million 'round the world and they say that i couldn't get it. i done got so sick and filthy with benjis i can't spend it first. how you gon' be talkin' shit you act like i just got up in it. been the number one diva in this game for a minute first. i know you read the paper the one that they call the queen. every radio 'round the world know me 'cause that's where i be first. . . i'm a a diva hey i'm a i'm a a diva hey. i'm a i'm a a diva hey i'm a i'm a a diva. i'm a i'm a a diva hey i'm a i'm a a diva. i'm a i'm a a diva hey i'm a i'm a a div. . . nanana diva is a female version of a hustla ohoh. of a hustla of a of a hustla ohoh. nanana diva is a female version of a hustla ohoh. of a hustla of a of a hustla ohoh first. . . when he pull up up wanna pop my hood up up. bet he better have a sixpack in the cooler first. gettin' money money diva's gettin' money money. if you ain't gettin' money then you ain't got nothin' for me first. tell me somethin' tell me somethin'. where yo boss at where yo' boss at. where my ladies up in here. that like to talk back that like to talk back first. i wanna see her i wanna see her. i'd like to meet ya i'd like to meet her. what you say not to me. she ain't no diva she ain't no diva first. . . nanana diva is a female version of a hustla ohoh. of a hustla of a of a hustla ohoh. nanana diva is a female version of a hustla ohoh. of a hustla of a of a hustla ohoh. . . since 15 in my stilettos been struttin' in this game game. what's yo' age was the question they ask when i hit the stage stage. i'm a diva best believe her you see how she gettin' paid paid. she ain't callin' him to greet her don't need him her bed's made made. this is a stickup stickup i need them bags all that money. we're gonna stickup stickup you see them ask where that money. all my ladies get it up i see you i do the same. take it to another level no passengers on my plane. . . i'm a a diva hey i'm a i'm a a diva hey. i'm a i'm a a diva hey i'm a i'm a a diva. this is a stickup stickup i need them bags all that money. i'm a i'm a a diva hey i'm a i'm a a diva. stickup stickup you see the mask where that money. i'm a i'm a a diva hey i'm a i'm a a div. . . nanana diva is a female version of a hustla ohoh. of a hustla of a of a hustla ohoh. nanana diva is a female version of a hustla ohoh. of a hustla of a of a hustla ohoh. . . i'm a i'm a a diva i'm a i'm a a diva. i'm a i'm a a diva i'm a i'm a a diva. i'm a i'm a a diva i'm a i'm a a diva. i'm a i'm a a diva i'm a i'm a a diva. i'm a i'm a a diva i'm a i'm a a diva. i'm a i'm a a diva i'm a i'm a a diva. i'm a i'm a a diva i'm a i'm a a diva. i'm a i'm a a diva i'm a i'm a a diva. hey"
        ],
        [
         "17",
         "hurt my feelings",
         "she wears your number but i got what you like. she's got you right now but im still on your mind. . . i should've known better. you should've known better than me. nights staying up talking. told me everything except where was she. now ive got you figured out. i'm tryna tell myself. i'm gonna stay away from you. i should've known better. you got a way that's gonna weighweigh on me. . . oh nananana got me heavy breathin'. oh nananana every time we're speakin'. oh nananana got me real real deep in. want you so bad baby hurt my feelings. oh nananana got me mеssed up dreamin. oh nananana that your girlfriends lеavin'. oh nananana got me real real deep in. want you so bad baby hurt my feelings. . . i wanna do somethin i know ain't polite like. show up at your house without callin' callin'. like doin somethin' batshit and make you fall all in. she's where you're wakin' up. she's got you makin' up such pretty boy excuses. ooh but i know one thing one thing. she can't stop it happenin' in my mind oh na na. . . oh nananana got me heavy breathin' no. oh nananana every time we're speakin'. oh nananana got me real real deep in. want you so bad baby hurt my feelings. oh nananana got me messed up dreamin' messed up dreamin'. oh nananana that your girlfriend's leavin' girlfriend's leavin'. oh nananana got me real real deep in. want you so bad baby hurt my feelings. . . no no. no baby hurt my feelings. . . she wears your number but i got what you like. she's got you right now but i'm still on your mind. she wears your number but i got what you like. she's got you right now but i'm still on your mind"
        ],
        [
         "18",
         "Kill Bill",
         "i'm still a fan even though i was salty. hate to see you with some other broad know you happy. hate to see you happy if i'm not the one drivin'. . . i'm so mature i'm so mature. i'm so mature i got me a therapist to tell me there's other men. i don't want none i just want you. if i can't have you no one should. . . i might. i might kill my ex not the best idea. his new girlfriend's next how'd i get here. i might kill my ex i still love him though. rather be in jail than alone. . . i get the sense that it's a lost cause. i get the sense that you might really love her. this text gon' be evidence this text is evidence. i tried to ration with you no murders or crime of passion but damn. you was out of reach. you was at the farmer's market with your perfect peach. now i'm in the basement plannin' home invasion. now you layin' facedown got me singin' over a beat. . . i'm so mature i'm so mature. i'm so mature i got me a therapist to tell me there's other men. i don't want none i just want you. if i can't have you no one will. . . i might i. i might kill my ex not the best idea. his new girlfriend's next how'd i get here. i might kill my ex i still love him though. rather be in jail than alone. . . i did it all for love love. i did it all on no drugs drugs. i did all of this sober. i did it all for us oh. i did it all for love love. i did all of this on no drugs drugs. i did all of this sober. don't you know i did it all for us i'm gon' kill your ass tonight. . . oh i just killed my ex my ex oops not the best idea idea. killed his girlfriend next how'd i get here he left me no choice. i just killed my ex my ex i still love him though i do. rather be in hell than alone"
        ],
        [
         "19",
         "Tia Tamera (feat. Rico Nasty)",
         "hair grow long like chia. money go long like nia. i am the big idea. my twins big like tia. my twins big like tia tamera uh wait. tia tamera uh wait. tia tamera uh wait. tia tamera. hair grow long like chia. money go long like nia. i am the big idea. my twins big like tia. my twins big like tia tamera uh wait. tia tamera uh wait. tia tamera uh wait. tia tamera. . . they said doja hit so sticky i said thank you very much. bent the whole world over and said spank you very much. cheese like pizzeria. have a seat bitch please ikea. from the westside like maria. i'm hot like grits madеa. beat the pussy up call peta. i rock the boat likе aaliyah ayy. i rock a bob like sia ayy. doja on deck bitch reup ayy. thick in the thigh thick in the waist. thick in the right motherfuckin' places. hits like venus serena ayy. he wanna eat up the caesar ayy. bonita bonita bonita ayy. baby girl needed the wiener ayy. dug in the guts and i skeet her ayy. arena arena arena hey. i'm in the hall regina. i'm on the wall at genius. i am the wiz the teacher. skinny legend like wiz khalifa woo. . . hair grow long like chia. money go long like nia. i am the big idea. my twins big like tia. my twins big like tia tamera uh wait. tia tamera uh wait. tia tamera uh wait. tia tamera. hair grow long like chia. money go long like nia. i am the big idea. my twins big like tia. my twins big like tia tamera uh wait. tia tamera rico uh wait. tia tamera rico uh wait. tia tamera. . . guess how much money i just took from this deal. wanna guess the password to my google drive. you wanna guess the address of the party i'm at. you wanna guess if i'm serious about this song"
        ],
        [
         "20",
         "Never Lose Me",
         "never had a bitch like me in your life. you ain't never had a bitch like me in your life uh. never had a bitch like me in your life. you ain't never had a bitch like me in your life yeah. . . he speed in the wraith while his hand on my coochie yeah. he touchin' emilio pucci uh. doin' good bitch i'm gucci i'm good. fly to asia he feedin' me sushi ooh. when we fuckin' it feel like a movie. raw bitch ain't never been a groupie. stiff on a ho i like my nigga bougie yeah. tell me you don't nevеr wanna lose me. . . tell mе you don't never wanna lose me. tell me you don't never wanna lose me. tell me you don't never wanna lose me. tell me you don't never wanna lose me. tell me you don't never wanna lose me. tell me you don't never wanna lose me lose me. tell me you don't never. . . keep me a haitian i love me a zoe. i've been thinkin' 'bout you on the road. we havin' rich sex on a boat. he hit it back to back like it's dope like it's dope. how you gon' prove you could treat me right. you stole my heart like a thief in the night. yeah he my man he was never your type. if you try me ho it's on sight. he totin' the uzi but he actin' real bougie bougie yeah. i like to fight over dick ho don't get hit with the twopiece twopiece. you know you can call if you need me. tell me you ain't never ever leavin' no. when i suck it i look in your eyes yeah. you better fuck me like you mean it fuck me like you mean it. . . tell me you don't never wanna lose me. tell me you don't never wanna lose me. tell me you don't never wanna lose me. tell me you don't never wanna lose me. tell me you don't never wanna lose me. tell me you don't never wanna lose me lose me. tell me you don't never. . . he speed in the wraith while his hand on my coochie. doin' good bitch i'm gucci. when we fuckin' it feel like a movie. be stiff on a ho i like my nigga bougie yeah. tell me you don't never wanna lose me"
        ],
        [
         "21",
         "7/11",
         "shoulders sideways smack it smack it in the air. legs movin' side to side smack it in the air. legs movin' side to side smack you in the air. shoulders sideways smack it smack it in the air. smack it smack it in the air air legs movin' side to side yeah. smack it smack it in the air smack it smack it in the air. wave your. . . wave your hands side to side put it in the air in the air. wave your hands side to side put it in the air to side to side to side. clap clap clap like you don't care to side to side to side. smack that clap clap clap like you don't care. i know you care. . . clap clap clap clap clap it clap it clap it clap it foot up. foot up my foot up woo hold up now my foot up spinnin'. i'm spinnin' my foot up foot up yeah my foot up spinnin'. i'm spinnin' my foot up put my foot down yeah my hands up hands up. my hands up my hands up flexin' flexin' while my hands up flexin'. my hands up my hands up i stand up with my hands up. then i put up my hands up put up i put up my hands up air. i put up my hands up then i'm spinnin' all my hands up spinnin'. spinnin' while my hands up spinnin' spinnin' while my hands up i'm spinnin'. spinnin' while my hands up then i'm tippin' all my hands up. i'm spinnin' i'm spinnin' i'm spinnin' while my hands up spinnin'. i'm spinnin' i'm spinnin' i'm spinnin' while my hands up. drank. . . hold that cup like alcohol hold that cup like alcohol drank. hold that cup like alcohol don't you drop that alcohol drank. never drop that alcohol never drop that alcohol drank. i know you thinkin' about alcohol i know i'm thinkin' bout that alcohol dice. . . man this here like rollin' dice man this here like rollin' dice dice. seven eleven seven eleven seven twice man seven twice. man it feel like rollin' dice dice man this feel like rollin' dice dice. man it feel like rollin' dice dice seven twice seven twice kick it. girl i'm tryna kick it with ya girl girl i'm tryna kick it with ya man. man i'm tryna kick it with ya my feet up i kick it with ya man. man i swear i kick it with ya girl girl i wanna kick it with ya man. man i know i kick it with ya yeah i spin around and i kick it with ya. . . shoulders sideways smack it smack it in the air move the leg. legs movin' side to side smack it in the air to side to side to side move the leg. legs movin' side to side smack it in the air to side to side. shoulders movin' side to side smack it in the air smack it ho. smack it in the air smack it smack it smack it in the air to side to side to side smack it ho. smack it in the air smack it smack it in the air air. . . wave your hands side to side put it in the air in your air. wave your hands side to side put it in the air to side to side to side. clap clap clap like you don't care to side to side to side. smack that clap clap clap like you don't care. i know you care. . . ooh you care. i know you care care. wave ya hands side to side grind. wave ya hands side to side grind. wave ya hands from side to side grind. wave ya hands side to side ahaha. ooh wee bb freaky deaky think me see she pink bikini. rock that kufi dye dashiki nefertiti edges kinky. sweatin' out my blow out sweatin' out my presses. this trick about to go off mad 'cause i'm so fresh. fresher than you i'm fresher than you. fresher than you oh"
        ],
        [
         "22",
         "Mamushi (feat. Yuki Chiba)",
         ". . koshy アッツー. 私は スター. スター ミーガン. ah. 雄喜 千葉. . . i get money i'm a star star star. star star star star. i get money i'm a star star star. star star star star. お金 稼ぐ 俺らは スター. お金 稼ぐ 私は スター. スタースタースタースターキラキラ. 私は スター real hot girl shit. . . he know who i am ain't had to say my name. stack it up like tetris but this money ain't a game. 私可愛い いい体. drinkin' out the bottle gettin' twisted maruchan. big exotic hermès this a croc' hmm. watch too expensive ain't no way i'm gettin' clocked hmm. i think i'm so sexy every shirt i own is cropped hmm. so many carats diamonds do the bunny hop ah. in the us or japan if he meet me he gon' bow. i got yen for your friends if they pretty bring 'em out. goin' dumb in madam woo pourin' sake in they mouth. told him put me on his plate bring them chopsticks to the south. . . i gеt money i'm a star star star. star star star star. i get money i'm a star star star. star star star star. お金 稼ぐ 俺らは スター. お金 稼ぐ 私は スター. スタースタースタースターキラキラ. 私は スター. . . 流れる  星たち どこに向かう. また 願い叶えながら暮らす. ジュエリー身につけたまま歌う. スター達が集まったスタジオ. 夜な夜な酒たくさん並ぶアジト. さっきまで六本木で収録ラジオ. そっからテレビ撮影するはしご. カメラたち追いかけてる俺たちを. 大好きピカピカのダイヤ. 暗いとこ輝いてる毎晩. nicе to meet you する挨拶. i'm so happy ありがたいな. . . i get money i'm a star star star. star star star star. i get money i'm a star star star. star star star star. お金 稼ぐ 俺らは スター. お金 稼ぐ 私は スター. スタースタースタースターキラキラ. 私は スター"
        ],
        [
         "23",
         "thank u, next",
         "thought i'd end up with sean. but he wasn't a match. wrote some songs about ricky. now i listen and laugh. even almost got married. and for pete i'm so thankful. wish i could say thank you to malcolm. 'cause he was an angel. . . one taught me love. one taught me patience. and one taught me pain. now i'm so amazing. say i've loved and i've lost. but that's not what i see. so look what i got. look what you taught me. and for that i say. . . thank you next next. thank you next next. thank you next. i'm so fuckin' grateful for my ex. thank you next next. thank you next next. thank you next next. i'm so fuckin'. . . spend more time with my friends. i ain't worried 'bout nothin'. plus i met someone else. we havin' better discussions. i know they say i move on too fast. but this one gon' last. 'cause her name is ari. and i'm so good with that so good with that. . . she taught me love love. she taught me patience patience. how she handles pain pain. that shit's amazing yeah she's amazing. i've loved and i've lost yeah yeah. but that's not what i see yeah yeah. 'cause look what i've found yeah yeah i've found. ain't no need for searching and for that i say. . . thank you next thank you next. thank you next thank you next. thank you next thank you. i'm so fuckin' grateful for my ex. thank you next thank you next. thank you next said thank you next. thank you next next. i'm so fuckin' grateful for my ex. . . thank you next. thank you next. thank you next. i'm so fuckin'. . . one day i'll walk down the aisle. holding hands with my mama. i'll be thanking my dad. 'cause she grew from the drama. only wanna do it once real bad. gon' make that shit last. god forbid something happens. least this song is a smash song is a smash. . . i've got so much love love. got so much patience patience. and i've learned from the pain pain. i turned out amazing turned out amazing. say i've loved and i've lost yeah yeah. but that's not what i see yeah yeah. 'cause look what i've found yeah yeah. ain't no need for searching. and for that i say. . . thank you next thank you next. thank you next thank you next. thank you next. i'm so fuckin' grateful for my ex. thank you next thank you next. thank you next said thank you next. thank you next next. i'm so fuckin' grateful for my ex. . . thank you next. thank you next. thank you next. yeah yee. thank you next. thank you next. thank you next. yeah yee"
        ],
        [
         "24",
         "Sports car",
         "illegal. illegal. . . hey cute jeans. take mine off me. oh golly gee. i can't take no more. i'm goin' weak in my knees. where'd you put those keys. we can share one seat. we can share one seat. . . in the alley in the back. in the center of this room. with the windows rolled down. boy don't make me choose. in the alley in the back. in the center of this room. with the windows rolled down. boy don't makе me choose. . . i think you know what this is. i think you wanna uh. no you ain't got no mrs.. oh but you got a sports car. we can uhuh in it. whilе you drive it real far. yeah you know what this is. yeah you know what this is. . . pretty blue streetlights. and my hazel eyes. and if it feels right. we could go again like three four times. so my type. got butterflies. so good it hurts. thinkin' 'bout what we did before this . . on the corner of my bed. oh and maybe on the beach. you could do it on your own. while you're lookin' at me. . . i think you know what this is. i think you wanna uh do you. no you ain't got no mrs.. oh but you got a sports car. we can uhuh in it we can uh. while you drive it real far. yeah you know what this is. yeah you know what this is. i think you know what this is oh. i think you wanna uh you wanna. no you ain't got no mrs.. oh but you got a sports car. we can uhuh in it uhuh uhuh mm. while you drive it real far. yeah you know what this is. yeah you know what this is. . . oh my guy. you don't wanna waste my time my time. let's go ride let's go. let's go ride come on. oh my guy. you don't wanna waste my time you don't wanna waste my time. let's go ride. let's go ride. . . i think you wanna wanna oh. but you got a sports car oh. while you drive it real far. ah yeah you know what this is"
        ],
        [
         "25",
         "Run the World (Girls)",
         "girls ah yeah. we run this mutha ah yeah. girls ah yeah. we run this mutha ah yeah. girls ah yeah. we run this mutha ah yeah. girls ah yeah. we run this mutha girls. . . who run the world girls girls. who run the world girls girls. who run the world girls girls. who run the world girls girls. who run this mutha ah girls. who run this mutha ah yeah girls. who run this mutha ah girls. who run this mutha ah yeah girls. who run the world girls girls. who run the world girls girls. who run the world girls girls. who run the world gggirls girls. . . some of them men think they freak this. like we do but no they don't. make your check come at they neck. disrespect us no they won't. boy don't even try to touch this tttouch this. boy this beat is crazy crazy. this is how they made me made me. houston texas baby. this goes out to all my girls. that's in the club rockin' the latest. who will buy it for themselves. and get more money later. i think i need a barber barber. none of these  can fade me fade me. i'm so good with this. i remind you i'm so hood with this. . . boy i'm just playin'. come here baby. hope you still like me. fu pay me. . . my persuasion can build a nation ooh ooh. endless power with our love we can devour ooh. you'll do anythin' for me. who run the world girls girls. . . who run the world girls girls. who run the world girls girls. who run the world girls girls. who run the world girls girls. who run this mutha ah girls. who run this mutha ah yeah girls. who run this mutha ah girls. who run this mutha ah yeah girls. who run the world girls girls. who run the world girls girls. who run the world girls girls. who run the world gggirls girls. . . it's hot up in here. dj don't be scared to run this run this back. i'm reppin' for the girls who takin' over the world. help me raise a glass for the college grads. 41' rollie to let you know what time it is check. you can't hold me you can't hold me. i work my nine to five better cut my check. this goes out to all the women gettin' it in. you on your grind. to other men that respect what i do. please accept my shine. boy you know you love it. how we smart enough to make these millions. strong enough to bear the children children. then get back to business business. . . see you better not play me me. oh come here baby baby. hope you still like me. fu pay me. . . my persuasion can build a nation ooh ooh. endless power with our love we can devour ooh. you'll do anythin' for me. who run the world girls girls. . . who run the world girls girls. who run the world girls girls. who run the world girls girls. who run the world girls girls. who run this mutha ah girls. who run this mutha ah yeah girls. who run this mutha ah girls. who run this mutha ah yeah girls. who run the world girls girls. who run the world girls girls. who run the world girls girls. who run the world gggirls girls. . . who are we what we run the world. who run this mutha yeah. who are we what we run the world. who run this mutha yeah. who are we what do we run we run the world. who run this mutha yeah. who are we what we run we run the world. who run the world girls girls"
        ],
        [
         "26",
         "FE!N (feat. Playboi Carti)",
         "dışarı çık gece için evet. acele etme ışığını al evet. johnny dang'e selam evet evet. kafam hep güzel sürtük. . . . zebani zebani zebani zebani zebani evet. zebani zebani zebani zebani zebani evet. zebani zebani zebani zebani zebani. zebani zebani evet zebani zebani zebani. . . . kariyerin sen zirvedеyken daha da tehlike altında. evrakları boş vеr yüzüm imza yerine geçer. biraz nefes almak için şehirden ayrılıyorum. sanki her zaman benden bi' parça istiyorlarmış gibi. hep geleceğe odaklıydım hiçbir zaman şimdiye değil. içtiğim kombucha değil ya pembe ya da kahverengi. şu anda sana seni tanıtan benim. aman tanrım bu kaltak ısırıyor. pekala keyfime bakmaya çalışacağım. gece olunca gitgide canlanıyor. uyku yok yok yok yok. . . . zebani zebani zebani zebani zebani. zebani zebani zebani zebani zebani. zebani zebani zebani zebani zebani. zebani zebani zebani zebani. zebani zebani zebani zebani zebani. . . . şurup woah ne. ne. homixide homixide homixide homixide ne. evet woah evet evet. homixide homixide homixide homixide evet. evet bekle evet. . . . kafayı sıyırıp bunları canlı yayında izletiyordum dur hele. yanlış hareket ettin ve biz de lastiklerini patlattık dur hele. yüz tane kurşun öfkeli hissediyorum. bu kaltaklarla ikili oynuyorum kızım arkadaşını sikiyorum. delirdiğim de oldu kızım diplerde de olmuştum. o kız masum falan değil şey gibi davranmaya çalışıyor. . . . zebani neyden bahsediyorsun zebani zebani evet zebani zebani schyeah oh oh ne. zebani zebani schyeah zebani zebani zebani oh oh. zebani neyden bahsediyorsun zebani zebani  zebani zebani neyden bahsediyorsun. . . . sürtüklerime elmaslar alıyorum sürtüklerimi güzel giydiriyorum. bu bambaşka bir seviye kızım sürtükleri parmak uçlarında dolaştırırım. bu kaşara yol verdim çünkü opium ortamımıza takılmaya çalıştı. bu sürtükse benle bana bir şeyler göstermeye çalışıyor. günlerce yetecek kadar flowum var bu zenciler hiçbir şeyden anlamıyor. kardeşimle stüdyoya kapandık bu işten anladığımızı biliyorsun. bizim köşede güneş doğana kadar deliler gibi takılıyoruz. hala o kaltak için endişeleniyorsun o kaltak seçimini yaptı bile. bütün silahlar mutfakta konumumu falan atamam. zebani zebani zebani. neden bu zenciler bizi tanıyormuş gibi davranıyorlar. opium ve cactus işi iyice büyüttük. orospumu değiştirdim bu zenciler buradan atılıyor. her şeyimiz hit her şeyimiz homixide homixide homixide homixide homixide homixide. . . . zebani zebani zebani zebani zebani zebani homixide homixide homixide homixide homixide homixide homixide homixide"
        ],
        [
         "27",
         "Boy's a liar Pt. 2",
         "take a look inside your heart is there any room for me. i won't have to hold my breath till you get down on one knee. because you only want to hold me when i'm looking good enough. did you ever feel me would you ever picture us. every time i pull my hair well it's only out of fear. that you'll find me ugly and one day you'll disappear because. what's the point of crying it was never even love. did you ever want me was i ever good enough. . . thеthe boy's a liar the boy's a liar. he doеsn't see ya you're not looking at me boy. the boy's a liar the boy's a liar. he doesn't see ya you're not looking at me boy. . . good enooough good enooough. good enooough good enooough. good enooough good enooough. good enooough good enooough. . . he say that i'm good enough yeah grabbin' my duhduhduh. thinkin' 'bout shit that i shouldn't've huh. so i tell him there's one of me he makin' fun of me haha. his girl is a bum to me grrah. like that boy is a cap. sayin' he home but i know where he at like. bet he blowin' her back. thinkin' 'bout me 'cause he know that it's fat damn. and it been what it been huh. callin' his phone like yo send me a pin. duckin' my shit 'cause he know what i'm on grrah. but when he hit me i'm not gon' respond grrah. but i don't sleep enough without you. and i can't eat enough without you huh. if you don't speak does that mean we're through huh. don't like sneaky shit that you do grrah. . . thethe boy's a liar the boy's a liar. he doesn't see ya you're not looking at me boy. the boy's a liar the boy's a liar. he doesn't see ya you're not looking at me boy. . . good enooough good enooough. good enooough good enooough. good enooough good enooough. good enooough good enooough"
        ],
        [
         "28",
         "break up with your girlfriend, i'm bored",
         "you got me some type of way hmm. ain't used to feelin' this way mmmmmm. i do not know what to say yeah yeah. but i know i shouldn't think about it. took one fuckin' look at your face hmm. now i wanna know how you taste mmmmmm. usually don't give it away yeah yeah. but you know i'm out here thinkin' 'bout it. . . then i realize she's right there. and i'm at home like damn this ain't fair. . . break up with your girlfriend girlfriend. yeah yeah 'cause i'm bored. you could hit it in the mornin' mornin'. yeah yeah like it's yours. i know it ain't right. but i don't care care. break up with your girlfriend girlfriend. yeah yeah 'cause i'm bored. . . this shit always happen to me yeah. why can't we just play for keeps mmmmmm. practically on my knees yeah yeah. but i know i shouldn't think about it. you know what you're doin' to me. you're singin' my songs in the streets yeah yeah. actin' all innocent please. when i know you out here thinkin' 'bout it. . . then you realize she's right there yeah. and you're at home like damn she can't compare. . . break up with your girlfriend girlfriend. yeah yeah 'cause i'm bored. you could hit it in the mornin' in the mornin'. yeah yeah like it's yours. i know it ain't right. but i don't care i don't care yee. break up with your girlfriend with your girlfriend. yeah yeah 'cause i'm bored. . . with your girlfriend girlfriend girlfriend girlfriend. with your girlfriend. with your girlfriend girlfriend girlfriend girlfriend. . . you could say i'm hatin' if you want to. but i only hate on her 'cause i want you. say i'm trippin' if you feel like. but you without me ain't right ain't right. you could call me crazy 'cause i want you. and i never even ever fuckin' met you. say i'm trippin' and it ain't right. but you without me ain't nice ain't nice yeah. . . break up with your girlfriend with your girlfriend. yeah yeah 'cause i'm bored. you could hit it in the mornin' hit in the mornin' yeah yeah yeah. yeah yeah like it's yours. i know it ain't right. but i don't care care yeah. break up with your girlfriend with your girlfriend. yeah yeah 'cause i'm bored. . . with your girlfriend girlfriend girlfriend baby girlfriend. with your girlfriend. with your girlfriend girlfriend girlfriend girlfriend. with your girlfriend"
        ],
        [
         "29",
         "LUNCH",
         "oh mmmm. . . i could eat that girl for lunch. yeah she dances on my tongue. tastes like she might be the one. and i could never get enough. i could buy her so much stuff. it's a craving not a crush huh. . . call me when you're there. said i bought you somethin' rare. and i left it under 'claire'. so now she's comin' up the stairs. so i'm pullin' up a chair. and i'm puttin' up my hair. . . baby i think you were made for me. somebody write down the recipe. been tryin' hard not to overeat. you're just so sweet. . . i'll run a shower for you like you want. clothеs on the counter for you try 'em on. if i'm allowеd i'll help you take 'em off. huh. . . i could eat that girl for lunch. yeah she dances on my tongue. tastes like she might be the one. and i could never get enough. i could buy her so much stuff. it's a craving not a crush huh. . . oh i just wanna get her off oh. oh. oh oh. oh. . . she's takin' pictures in the mirror. oh my god her skin's so clear. tell her bring that over here. you need a seat i'll volunteer. now she's smilin' ear to ear. she's the headlights i'm the deer. . . i've said it all before but i'll say it again. i'm interested in more than just bein' your friend. i don't wanna break it just want it to bend. do you know how to bend. . . i could eat that girl for lunch. she dances on my tongue. i know it's just a hunch. but she might be the one. i could. eat that girl for lunch. yeah she. tastes like she might be the one. i could. i could. eat that girl for lunch. yeah she. yeah she. tastes like she might be the one"
        ],
        [
         "30",
         "Agora Hills",
         "ooh. yeah yeah. . . kissin' and hope they caught us ah. whether they like or not not. i wanna show you off off. i wanna show you off off. i wanna brag about it yeah. i wanna tie the knot knot. i wanna show you off off. i wanna show you off off. . . i wanna show you off. yeah yeah. i wanna show you off off. i wanna show you off off. i wanna show you yeah. yeah yeah. i wanna show you off off. i wanna show you off off. i wanna show you. . . hold my hand. you can hit while they watch boy. . . so 930 i'll see you there. no you hang up you hang up. . . somethin' different about you. love it when he hit and smack too. baby let me lick on your tattoos. that's true that i like pda take it to a seedy place. suck a little dick in the bathroom. who that man with the big strong hands. on her ass in the club with the paps baby that's you. frontseat chillin' with the window down. i be ten toеs down on the dash gettin' fast food. hope you can handlе the heat put your name in the streets. get used to my fans lookin' at you. fuck what they heard i don't fuck with them birds. i'm a mean kitty don't get stabbed with the rat tooth. boys be mad that i don't fuck incels. girls hate too gun to their pigtail. i love you i wanna big chill. boy don't trip i'll split a big bill. take you 'round the world they don't have to understand. rub it in their face put a rock on her hand. . . baby can you call me back i miss you. it's so lonely in my mansion. . . kissin' and hope they caught us ah. whether they like or not not. i wanna show you off off. i wanna show you off off. i wanna brag about it yeah. i wanna tie the knot knot. i wanna show you off off. i wanna show you off off. . . i wanna show you off. yeah yeah. i wanna show you off off. i wanna show you off off. i wanna show you yeah. yeah yeah. i wanna show you off off. i wanna show you off off. i wanna show you. . . hold my hand. you can hit while they watch boy. . . ah sorry i was takin' a sip of my root beer. . . 'cause love is pain but i need this shit yeah. we fuck too good when the bean kicks in. like fortnite i'ma need your skin yeah. don't give a fuck where the penis been uh. boy you're the one you're the only man. me and you on my onlyfans. holy cow you're the holy trin'. hold me down when a hole need dick. be my security it's your therapy. with you i ain't holding shit back. when i need my space you give that. when he broke my heart you fixed that. with a long walk on the beach. love it when they honkhonk on the street beep. when they see us zoom by in the jeep yeah. we a whole damn joint we a energy. baby we could just ride on our enemies. they all wanna know how you get to me. let 'em feel how they feel and be philistines. 'cause this type of love's the epitome said. . . baby you're literally capping to me right now. like why are you capping me. you just cap so hard it's i don't know what to do. . . kissin' and hope they caught us ah. whether they like or not not. i wanna show you off off. i wanna show you off off. i wanna brag about it yeah. i wanna tie the knot knot. i wanna show you off off. i wanna show you off off. . . i wanna show you off. yeah yeah. i wanna show you off off. i wanna show you off off. i wanna show you yeah. yeah yeah. i wanna show you off off. i wanna show you off off. i wanna show you. . . hold my hand. you can hit while they watch boy"
        ],
        [
         "31",
         "MONTERO (Call Me By Your Name)",
         "i caught it bad yesterday. you hit me with a call to your place. ain't been out in a while anyway. was hopin' i could catch you throwin' smiles in my face. romantic talkin' you don't even have to try. you're cute enough to fuck with me tonight. lookin' at the table all i see is weed and white. baby you livin' the life but nigga you ain't livin' right. . . cocaine and drinkin' with your friends. you live in the dark boy i cannot pretend. i'm not fazed only here to sin. if eve ain't in your garden you know that you can. . . call me when you want call me when you need. call me in the morning i'll be on the way. call me when you want call me when you need. call me out by your name i'll be on the way like. . . mm mm mm. mm mm mm. . . ayy ayy. i wanna sell what you're buyin'. i wanna feel on your ass in hawaii. i want that jet lag from fuckin' and flyin'. shoot a child in your mouth while i'm ridin'. oh oh oh why me. a sign of the times every time that i speak. a dime and a nine it was mine every week. what a time an incline god was shinin' on me. now i can't leave. and now i'm actin' hella elite. never want the niggas that's in my league. i wanna fuck the ones i envy i envy. . . cocaine and drinkin' with your friends. you live in the dark boy i cannot pretend. i'm not fazed only here to sin. if eve ain't in your garden you know that you can. . . call me when you want call me when you need. call me in the morning i'll be on the way. call me when you want call me when you need. call me out by your name i'll be on the way like. . . oh call me by your name mm mm mm. tell me you love me in private. call me by your name mm mm mm. i do not care if you're lyin'. . . uh well i'm just feeling mmuh. i wanna get mmuh. i'm in my into my uh i'm mm. mm i'm still money mmmm ooh"
        ],
        [
         "32",
         "WAP (feat. Megan Thee Stallion)",
         " saku diņkapauri tu. katru dienu tu. slapā pusē. īsti ielikt nemāki nu. jē jē jē jē jē. tu fukājies ar neīsto pusi. atnes lupatu un spaini. jo man slapā puse. ieliec visu kas tev ir. manā slapā pusē. bīdi ritmu itkā saceļās. ekstra liels un ekstra sārts. met to peten' tieši sejā. liec to degun' iekšā ejā. augšā lejā tā man jāj. tā man patīk nepārstāj. skaties man acīs mutē spļauj. nodžummī makstī jā es ļauj. sien mani striķī lai es bļauj. lomu spēle masku auj. es gribu lai noparko. to fūri šaurajā garāžā man. diņķis krīmo es tik skrīmo. bize vaļā tā es dzīvo. ne es cep ne es tīru. jo šis ir veids kā tikt pie vīra. . . . ēd mani rij mani. iekšā aicinu pirms tev sula nāk. izvelc bеciņu parādīšu tev. kur novietot sēkliņu kamēr. nika skrien to pеlmeni. tev vajag viņam dirst lūpā kod. noslauc piķi kamēr grūzmī dod. nedod savu ilzīti tāpat vien. lai samaksā par īri pirms iekšā lien. tāpēc ņem kamēr var. savu slapo pusi. būs tev aifons ar ko bildēt. savu slapo pusi. maksā īri ja tu sūknēt. gribi slapo pusi. liec lai naktī saule spīd. ja gribi slapo pusi. . . . jē jē jē jē jē. tu fukājies ar neīsto pusi. atnes lupatu un spaini. jo man slapā puse. ieliec visu kas tev ir. manā slapā pusē. lai tik pil lai tik pil. mana slapā puse. atnes lupatu un spaini. jo man slapā puse. lai tik pil pil pil. mana slapā puse. makaroni katlā vārās. jo man slapā puse ha"
        ],
        [
         "33",
         "That's My Girl",
         "that's my girl. . . yeah who's been working so damn hard. you got that head on overload. got yourself this flawless body. achin' now from head to toe. . . ain't nothin' ain't nothin' ooh ah. all my ladies 'round the world. ain't nothin' ain't nothin' ooh ah. good girls better get bad. . . you've been down before. you've been hurt before. you got up before. you'll be good to go good to go. . . destiny said it you got to get up and get it. get mad independent and dodon't you ever forget it. got some dirt on your shoulder then let me brush it off for ya. if you're feeling me put your five high. that's my girl. . . that's my girl. that's my girl. that's my girl get up. what you waitin' for. that's my girl. that's my girl that's my girl. that's my girl my girl. . . that's my girl. nah. . . nod if you've been played by every boo. just tryna show you off yeah. thought he was the best you ever had. until he cut you off. . . ain't nothin' ain't nothin' ooh ah. bet you bet you know your worth. ain't nothin' ain't nothin' ooh ah. good girls better get bad. . . you've been down before oh. you've been hurt before oh. you got up before. you'll be good to go good to go. . . destiny said it you got to get up and get it get up and get it. get mad independent and dodon't you ever forget it don't you ever forget it. got some dirt on your shoulder then let me brush it off for ya. if you're feeling me put your five high if you're feeling me put your five high. that's my girl that's my girl. . . that's my girl. that's my girl. that's my girl. what you wa what you wa what you waitin' for for for. that's my girl for for woah. that's my girl for for that's my girl. that's my girl nooh. . . you've been down before. you've been hurt before. you got up before. you'll be good to go good to go. baby get up no no oh. . . destiny said it you got to get up and get it. get mad independent and don't you ever forget it don't you ever forget it. got some dirt on your shoulder let me brush it off for ya. if you're feeling me put your five high. that's my girl woah woah. . . that's my girl. that's my girl that's my girl. that's my girl. what you wa what you wa what you waitin' for for for. that's my girl for for. that's my girl for for. that's my girl. that's my girl that's my girl that's my girl. . . ain't nothin' ain't nothin'. ain't nothin' put your heart and your soul in it. ain't nothin' ain't nothin' ain't nothin'. ain't nothin' put your heart and your soul in it yeah yeah. . . for for. that's my girl for for. that's my girl for for. that's my girl that's my girl. . . that's my girl. that's my girl. that's my girl that's my girl. baby that's my girl dududum"
        ],
        [
         "34",
         "Dark Horse",
         "yeah y'all know what it is. katy perry juicy j. uhhuh let's rage. . . i knew you were you were gonna come to me. and here you are but you better choose carefully. 'cause i i'm capable of anything. of anything and everything. . . make me your aphrodite. make me your one and only. but don't make me your enemy enemy. your enemy your enemy your enemy. . . so you wanna play with magic. boy you should know what you're fallin' for. baby do you dare to do this. 'cause i'm comin' at you like a dark horse. are you ready for ready for. a perfect storm perfect storm. 'cause once you're mine once you're mine. there's no goin' back. . . mark my words this love will make you levitate. like a bird like a bird without a cage. we're down to earth if you choose to walk away. don't walk away walk away. . . it's in the palm of your hand now baby. it's a yes or a no no maybe. so just be sure before you give it all to me. all to me give it all to me. . . so you wanna play with magic. boy you should know what you're fallin' for. baby do you dare to do this. 'cause i'm comin' at you like a dark horse. are you ready for ready for. a perfect storm perfect storm. 'cause once you're mine once you're mine. there's no goin' back. . . she's a beast i call her karma come back. she eat your heart out like jeffrey dahmer woo. be careful try not to lead her on. shawty heart is on steroids 'cause her love is so strong. you may fall in love when you meet her meet her. if you get the chance you better keep her keep her. she's sweet as pie but if you break her heart. she turn cold as a freezer freezer. that fairy tale ending with a knight in shining armor. she can be my sleepin' beauty i'm gon' put her in a coma woo. damn i think i love her shawty so bad i'm sprung and i don't care. she ride me like a roller coaster turn the bedroom into a fair a fair. her love is like a drug i was tryna hit it and quit it. but lil' mama so dope i messed around and got addicted. . . so you wanna play with magic. boy you should know what you're fallin' for you should know. baby do you dare to do this. 'cause i'm comin' at you like a dark horse like a dark horse. are you ready for ready for ready for. a perfect storm perfect storm a perfect storm. 'cause once you're mine once you're mine mine. there's no goin' back. ."
        ],
        [
         "35",
         "Hurts Like Hell (feat. Offset)",
         "i really hope it hurts like hell. i really hope it hurts like hell. i really hope it hurts like hell. i really hope it hurts like hell. i really hope it hurts like hell. i really hope it hurts like hell. . . my baby said he loved me. my baby said he need me. gonna eat sleep and breathe me out. 'til the end yeah. but then my baby went bad went bad. i guess he had a relapse yeah. had to sneak cheat and bring me down. it had to end end yeah. . . my baby falls asleep sleep in his bed bed. fingertips tips on the edge. he left me for a girl girl. but he regrets leaving me leaving me leaving me. . . and i hope it hurts like hell ohohoh. and i hope it hurts like hell ohohoh. you shoulda  never let me go. i know im messing up your mind. the devil got you good this time. and i hope it hurts like hell ohohoh. . . my baby said he loved me yeah i do. my baby had it easy yeah. got to touch kiss and please me. all night and day day yeah. remember when we took that trip to cabo. 24 hours then we took it to the chateau. how does it feel to do it on your own. missing me yeah yeah. . . my babys all alone all alone in his bed in his bed. fingertips fingertips yeah on the edge on the edge. he left me for a girl. but he regrets leaving me leaving me. . . and i hope it hurts like hell ohohoh. and i hope it hurts like hell ohohoh. you shoulda never let me go. i know im messing up your mind. the devil got you good this time. and i hope it hurts like hell ohohoh. i really hope it hurts like hell. . . offset. drop tears from my eyes tears. i cant cry cry im on fire fire. cheatin' night 'n night night. no more flights flights. you got caught in the hype hoo. ain't take my advice. you gotta the steak the fork and the whole knife. no more ice ice. in a course on the jet on flight jet. you so trife. i cant trust you sheist no. you gon miss this pipe. billie jean i think i'm mike mike yeah. ima miss her in the bed. fuckin up my head fuck it up like lice. i hope it was worth it worth it. jumpin' on dick like kermit kermit. it was picture perfect. 'til the bullshit had surfaced surfaced. lookin at you like a clown. lookin at you like a bird bitch clown. i don't even want you now you can go live on the curb bitch curb. . . i really hope it hurts like. like like hell hell. i really hope it hurts like oh. like hell like hell hell. i really hope it hurts like oh. like hell like hell hell. i really hope it hurts like oh. like hell like hell"
        ],
        [
         "36",
         "Made You Look",
         "i could have my gucci on. i could wear my louis vuitton. but even with nothin' on. bet i made you look i made you look. . . i'll make you double take soon as i walk away. call up your chiropractor just in case your neck break. ooh tell me what you what you what you gon' do ooh. 'cause i'm 'bout to make a scene double up that sunscreen. i'm 'bout to turn the heat up gonna make your glasses steam. ooh tell me what you what you what you gon' do ooh. . . when i do my walk walk. i can guarantee your jaw will drop drop. 'cause they don't make a lot of what i got got. ladies if you feel me this your bop bop bop bop bop. . . i could have my gucci on gucci on. i could wear my louis vuitton. but even with nothin' on. bet i made you look i made you look. yeah i look good in my versacе dress take it off. but i'm hotter whеn my morning hair's a mess. 'cause even with my hoodie on. bet i made you look i made you look. mhmhmhm. . . and once you get a taste woo you'll never be the same. this ain't that ordinary this that 14 karat cake. ooh tell me what you what you what you gon' do ooh. . . when i do my walk walk. i can guarantee your jaw will drop drop i guarantee your jaw will drop drop. 'cause they don't make a lot of what i got got. ladies if you feel me this your bop bop bop bop bop. . . ooh i could have my gucci on gucci on. i could wear my louis vuitton louis vuitton. but even with nothin' on. bet i made you look said i made you look. yeah i look good in my versace dress take it off baby. but i'm hotter when my morning hair's a mess. 'cause even with my hoodie on. bet i made you look said i made you look"
        ],
        [
         "37",
         "Primadonna",
         "primadonna girl yeah. all i ever wanted was the world. i can't help that i need it all. the primadonna life the rise and fall. you say that i'm kinda difficult. but it's always someone else's fault. got you wrapped around my finger babe. you can count on me to misbehave. primadonna girl. . . would you do anything for me. buy a big diamond ring for me. would you get down on your knees for me. pop that pretty question right now baby. beauty queen on a silver screen. living life like i'm in a dream. i know i've got a big ego. i really don't know why it's such a big deal though. . . ooh and i'm sad to the core core core. yeah every day is a chore chore chore. wow when you give i want more more more. i wanna be adored. . . 'cause i'm a primadonna girl yeah. all i ever wanted was the world. i can't help that i need it all. the primadonna life the rise and fall. you say that i'm kinda difficult. but it's always someone else's fault. got you wrapped around my finger babe. you can count on me to misbehave. primadonna girl. . . fill the void up with celluloid. take a picture i'm with the boys. get what i want 'cause i ask for it. not because i'm really that deserving of it. living life like i'm in a play. in the limelight i want to stay. i know i've got a big ego. i really don't know why it's such a big deal though. . . ooh going up going down down down. yeah anything for the crown crown crown. wow when the lights dimming down down down. i spin around. . . 'cause i'm a primadonna girl yeah. all i ever wanted was the world. i can't help that i need it all. the primadonna life the rise and fall. you say that i'm kinda difficult. but it's always someone else's fault. got you wrapped around my finger babe. you can count on me to misbehave. . . primadonna girl yeah. all i ever wanted was the world. i can't help that i need it all. the primadonna life the rise and fall. you say that i'm kinda difficult. but it's always someone else's fault. got you wrapped around my finger babe. you can count on me to misbehave. primadonna girl"
        ],
        [
         "38",
         "Levitating (feat. DaBaby)",
         "billboard bebeğim dua lipa gelirken onları dans ettir. herkes koşacak bir dans pisti arıyor. . . eğer benimle kaçmak istiyorsan bir galaksi biliyorum. ve seni gezmeye götürebilirim. içimde ritme kapılacağımıza dair bir his var. müziğin ömür boyu durmadığı bir yerde. parıltı gökyüzünde parıltı gözlerimde. tam istediğim gibi parlıyor. eğer bir ortağa ihtiyacın olduğunu düşünüyorsan. benimle mükemmel zamanda tanıştın. . . sen beni istiyorsun ben seni istiyorum bebeğim. şekerim havaya uçuyorum. samanyolu kaçıyoruz. evet evet evet evet evet. . . yakladım seni ay ışığı sen benim yıldız ışığımsın. bütün gece sana ihtiyacım var hadi benimle dans et. havalara uçuyorum. sen ay ışığı sen benim yıldız ışığımsın sen ay ışığısın. bütün gece sana ihtiyacım var hadi benimle dans et. havalara uçuyorum. . . ben en iyilerindeyim tartışılacak bir şey yok hadi. hala uçuyorum ağır ilaç etkisindeyim. ironik ben onlara aşk veriyorum sonunda yine benden nefret ediyorlar git. kız bana söyledi beni seviyormuş ve beklemiş. senin aşkın için çabalıyordum ve sabrım tükeniyor. sarılacak birine ihtiyacım var temele bile döndüm. görüyor musun bana neler yaptırdığını evet. beni yerimden edebilirler ama kimse bu eylemi durduramaz. uhuh hadi. sol ayak sağ ayak uçuyorum hadi. pop yıldızları git dua lipa ve dababy. peşinde olduğum tüm nimetler için ayakkabılarımı bağlamak zorunda kaldım git. eğer düşersem daha iyi bir durumda olurum. yani yetiş daha iyisin yap. kalk ve parayı kovala evet evet. hep terk ederler düştüğünde ama beraber koşarsınız hey. dünyanın ağırlığı omuzlarımda başımı dik tutuyorum. şimdi bebek aya kalk çünkü kız sen. . . sen beni istiyorsun ben seni istiyorum bebeğim. şekerim havaya uçuyorum. samanyolu kaçıyoruz. evet evet evet evet evet. . . yakladım seni ay ışığı sen benim yıldız ışığımsın. bütün gece sana ihtiyacım var hadi benimle dans et. havalara uçuyorum. sen ay ışığı sen benim yıldız ışığımsın sen ay ışığısın. bütün gece sana ihtiyacım var hadi benimle dans et. havalara uçuyorum. . . bu gece benimle uzaklara uçabilirsin. bu gece benimle uzaklara uçabilirsin. bebeğim bırak seni gezmeye götüreyim. evet evet evet evet evet. havalara uçuyorum woo. bu gece benimle uzaklara uçabilirsin. bu gece benimle uzaklara uçabilirsin. bebeğim bırak seni gezmeye götüreyim. evet evet evet evet evet woo. . . aşkım bir roket gibi fırlamasını izle. ve çok heyecan verici hissediyorum dibine kadar dans ediyorum. ve istesem bile durduramam. evet evet evet evet evet. aşkım bir roket gibi fırlamasını izle. ve çok heyecan verici hissediyorum dibine kadar dans ediyorum. ve istesem bile durduramam. evet evet evet evet evet. . . sen beni istiyorsun ben seni istiyorum bebeğim. şekerim havalara uçuyorum. samanyolu kaçıyoruz. . . yakladım seni evet ay ışığı sen benim yıldız ışığımsın. bütün gece sana ihtiyacım var bütün gece hadi benimle dans et. havalara uçuyorum woo. . . bu gece benimle uzaklara uçabilirsin bu gece. bu gece benimle uzaklara uçabilirsin. bebeğim bırak seni gezmeye götüreyim. evet evet evet evet evet seni gezmeye götüreyim. havalara uçuyorum woo. bu gece benimle uzaklara uçabilirsin bu gece. bu gece benimle uzaklara uçabilirsin. bebeğim bırak seni gezmeye götüreyim. evet evet evet evet evet bırak seni gezmeye götüreyim. . . yakladım seni  ay ışığı sen benim yıldız ışığımsın. bütün gece sana ihtiyacım var hadi benimle dans et. havalara uçuyorum"
        ],
        [
         "39",
         "Don't Let Me Down",
         "crashin' hit a wall. right now i need a miracle. hurry up now i need a miracle. stranded reachin' out. i call your name but you're not around. i say your name but you're not around. . . i need ya i need ya i need you right now. yeah i need you right now. so don't let me don't let me don't let me down. i think i'm losin' my mind now. it's in my head darlin' i hope. that you'll be here when i need you the most. so don't let me don't let me don't let me down. ddon't let me down. . . don't let me down. don't let me down down down. don't let me down. don't let me down down down. . . rrrunnin' out of time. i really thought you were on my side. but now there's nobody by my side. . . i need ya i need ya i need you right now. yeah i need you right now. so don't let me don't let me don't let me down. i think i'm losin' my mind now. it's in my head darlin' i hope. that you'll be here when i need you the most. so don't let me don't let me don't let me down. ddon't let me down. . . don't let me down. don't let me down down down. don't let me down down down. don't let me down down down. don't let me down. don't let me down down down. . . ooh i think i'm losin' my mind now yeah. ooh i think i'm losin' my mind now yeah. . . i need ya i need ya i need you right now. yeah i need you right now. so don't let me don't let me don't let me down. i think i'm losin' my mind now. it's in my head darlin' i hope. that you'll be here when i need you the most. so don't let me don't let me don't let me down. don't let me down. . . yeah don't let me down. yeah don't let me down. don't let me down oh no. said don't let me down. don't let me down no oh. . . don't let me down. don't let me down down down"
        ],
        [
         "40",
         "Cohete",
         ". . la luna está pa' que nos besemo' ey. si ellos supieran toa' las cosas que hacemo' uh. por las estrella' siempre nos perdemo' yih. se alinean los planetas cada vez que nos vemo' eh yah. . . uhuhuhuh. despega y vente que quiero verte ohoh oh. uhuhuhuh. te haré salir volando como un cohete ahah ah. . . uhuhuhuh. contigo me voy sin regresar ohoh oh. uhuhuhuh. tú te volviste un problema. uhuhuhuh. si confesamo' nos vamo' viral ohoh oh. uhuhuhuh ey. tú mi playa yo tu arena. . . me mandas a otro planeta cuando acabas tu misión. no quiero que nadie se meta en nuestra relación. baby  anhelo estar contigo amarnos en algún rincón. y comernos sin ninguna complicación. no hay mayor placer que el de tocarte. nadie como tú me hace fluir. no quiero la luna ni ir a marte no.  quiero hacerte venir por mí. . . uhuhuhuh. despega y vente que quiero verte ohoh oh. uhuhuhuh. te haré salir volando como un cohete ahah ah. . . uhuhuhuh. contigo me voy sin regresar ohoh oh. uhuhuhuh. tú te volviste un problema. uhuhuhuh. si confesamo' nos vamo' viral ohoh oh. uhuhuhuh. tú mi playa yo tu arena. . . la luna está pa' que nos besemo' ey. si ellos supieran toa' las cosas que hacemo' uh. por las estrella' siempre nos perdemo' yih. se alinean los planetas cada vez que nos vemo' eh yah. . . uhuhuhuh. despega y vente que quiero verte ohoh oh. uhuhuhuh. te haré salir volando como un cohete ahah ah. . . uhuhuhuh. contigo me voy sin regresar ohoh oh. uhuhuhuh. tú te volviste un problema. uhuhuhuh. si confesamo' nos vamo' viral ohoh oh. uhuhuhuh ey. tú mi playa yo tu arena"
        ],
        [
         "41",
         "SkeeYee",
         "tay keith fuck these niggas up. skeeyee. dj meech lil' bitch. skeeyee. skeeyee. skeeyee. . . if you see me and you tryna see what's up skeeyee. he wanna fuck with me then i'ma have him stuck skeeyee. bitch lookin' bad and got a stupid butt skeeyee. jewelry on yo' wrist fuck it hold it up skeeyee. when i holler skeeyee that mean pull up skeeyee. cars tinted five and they fast as fuck skeeyee. i'm lookin' good when i'm hoppin' out that truck skeeyee. where the hood niggas at that get them bucks skeeyee. . . benz clean but we ridin' dirty yum. slidin' with your boo yeah that's my dirty you know it. my sister in the backseat with a .30 baow. niggas tryna shoot they shot stephen curry swish. take a bitch nigga show no mercy nope. do the pussy bitch dirty. she like sexyy why you hurt me i don't know. took him down off them yerkys uh uh uh uh. when you with me put that dick all up in my backside uh uh uh. i'm a hood bitch sittin' courtside i'm hood. i'll show a pussy how this mac ride. lil' bitch i'm from the northside skeeyee. . . if you see me and you tryna see what's up skeeyee. he wanna fuck with me then i'ma have him stuck skeeyee. bitch lookin' bad and got a stupid butt skeeyee. jewelry on yo' wrist fuck it hold it up skeeyee. when i holler skeeyee that mean pull up skeeyee. cars tinted five and they fast as fuck skeeyee. i'm lookin' good when i'm hoppin' out that truck skeeyee. where the hood niggas at that get them bucks skeeyee. . . bbbitch it's big sexyy i'm the chosen one bet. i'll drop a bag on your head i got a lot of funds. and i got them shooters in the cut they got a lot of guns grrah boom. put my lil' nigga on yo' ass he gon' blam somethin' bitch. you know i swerve that benz like a nascar. i like hellcats skrrt off the lot then make the engine fart skrrt skrrt skrrt skrrt. don't put yo' trust in me pussy nigga i'ma break yo' heart. young turnt bitch when i pull up that's when the party start skeeyee. in the booty club standin' on the couch throwin' b's. better respect me bitch my peoples in the cut with them things. wafi got me icy now my chain hit like blaowbling. in new york with my partners we be jammin' nah'mean. . . if you see me and you tryna see what's up skeeyee. he wanna fuck with me then i'ma have him stuck skeeyee. bitch lookin' bad and got a stupid butt skeeyee. jewelry on yo' wrist fuck it hold it up skeeyee. when i holler skeeyee that mean pull up skeeyee. cars tinted five and they fast as fuck skeeyee. i'm lookin' good when i'm hoppin' out that truck skeeyee. where the hood niggas at that get them bucks skeeyee"
        ],
        [
         "42",
         "I Love It (feat. Charli XCX)",
         "i got this feelin' on the summer day when you were gone. i crashed my car into the  i watched i let it burn. i threw your shit into a bag and pushed it down the stairs. i crashed my car into the . . . i don't care i love it. i don't care. . . i got this feeling on the summer day when you were gone. i crashed my car into the  i watched i let it burn. i threw your shit into a bag and pushed it down the stairs. i crashed my car into the . . . i don't care i love it. i don't care. . . you're on a different road i'm in the milky way. you want me down on earth but i am up in space. you're so damn hard to please we gotta kill this switch. you're from the '70s but i'm a '90s bitch. . . i love it. i love it. . . i got this feeling on the summer day when you were gone. i crashed my car into the  i watched i let it burn. i threw your shit into a bag and pushed it down the stairs. i crashed my car into the . . . i don't care i love it. i don't care i love it i love it. i don't care i love it. i don't care. . . you're on a different road i'm in the milky way. you want me down on earth but i am up in space. you're so damn hard to please we gotta kill this switch. you're from the '70s but i'm a '90s bitch. . . i don't care i love it. i don't care i love it i love it. i don't care i love it. i don't care i love it i love it. i don't care. . . i love it"
        ],
        [
         "43",
         "Big Energy",
         "got that real big energy uhhuh. got that big big energy energy. hey daddy. when you gon' stop playin' yeah. . . bad bitch i could be your fantasy yeah. i can tell you got big dick energy uhhuh. it ain't too many niggas that can handle me yeah. but i might let you try it off the hennessy uh. make 'em sing to this pussy like a melody make 'em sang. and if your bitch ain't right i got the remedy ooh. it ain't too many niggas that can handle me ayy. bad bitch i could be your fantasy ayy ayy. . . tell me how you want it huh. three two one and i'm on it on it. feel good don't it don't it. hood bitch fuck you in a bonnet yeah. i'ma bust it on a pole like onyx ooh. i'm just bein' honest uhhuh. pussy juicy minutе maid oh. but can't do it one minute man hell no. not a sidе or a main. i'm the only bitch he entertain yeah. spendin' his mine in the bank in the bank. i like what i see yeah. a boss like you need a boss like me uhhuh. daddy from the street so he move lowkey. tryna rock that mic' like karaoke oh. . . on the count of three bad bitches get money money. broke niggas to the left we don't want it we don't want. i'm the one these bitches hate but they can't get past uhhuh. pretty face no waist and a big ol' ass ha. . . bad bitch i could be your fantasy yeah. i can tell you got big dick energy uhhuh. it ain't too many niggas that can handle me yeah. but i might let you try it off the hennessy uh. make 'em sing to this pussy like a melody make 'em sang. and if your bitch ain't right i got the remedy ooh. it ain't too many niggas that can handle me ayy. bad bitch i could be your fantasy ayy ayy. . . got that real big energy. got that big big energy big dick energy. got that real big energy. got that big big energy big dick energy. . . yuh tell me how you want it want it. three two one camera rollin' ooh. do it slow motion uhhuh. real bitch them other hoes phony uh. all that big talk latto put 'em on it latto. i'm just bein' honest yeah. lingerie dolce ha. blindfold yeah tie me to the bed yeah while we roleplay yeah. can't skip foreplay kill the pussy cold case uhhuh. i'm a boss bitch but tonight we do it your way. . . on the count of three bad bitches get money get money. broke niggas to the left we don't want it hell nah. if you ever see me broke i'm probably rockin' a cast. pretty face no waist with a big ol' bag ha. . . bad bitch i could be your fantasy yeah. i can tell you got big dick energy uhhuh. it ain't too many niggas that can handle me yeah. but i might let you try it off the hennessy uh. make 'em sing to this pussy like a melody make 'em sang. and if your bitch ain't right i got the remedy ooh. it ain't too many niggas that can handle me ayy. bad bitch i could be your fantasy ayy ayy. . . got that real big energy. got that big big energy big dick energy. got that real big energy. got that big big energy big dick energy"
        ],
        [
         "44",
         "Work Bitch",
         "you wanna. you wanna. . . you want a hot body you want a bugatti. you want a maserati you better work bitch. you want a lamborghini sip martinis. look hot in a bikini you better work bitch. you wanna live fancy live in a big mansion. party in france you better work bitch. you better work bitch you better work bitch. you better work bitch. . . now get to work bitch. ah. now get to work bitch. ah. . . bring it on ring the alarm. don't stop now just be the champion. work it hard like it's your profession. watch out now 'cause here it comes. . . here comes the smasher here comes the master. here comes the big beat big beat to blast ya. no time to quit now just time to get it now. pick up what i'm puttin' down pick up what i'm puttin' down. . . you want a hot body you want a bugatti. you want a maserati you better work bitch. you want a lamborghini sip martinis. look hot in a bikini you better work bitch. you wanna live fancy live in a big mansion. party in france you better work bitch. you better work bitch you better work bitch. you better work bitch. . . now get to work bitch. ah. now get to work bitch. ah. . . break it up break it down. see me comin' you can hear my sound. tell somebody in your town. spread the word spread the word. . . go call the police go call the governor. i bring the treble don't mean to trouble ya. i make it bubble up call me the bubbler. i am the bad bitch the bitch that you're lovin' up. . . hold your head high fingers to the sky. they gon' try and try ya but they can't deny ya. keep it moving higher and higher. keep it moving higher and higher. so hold your head high fingers to the sky. now they don't believe ya but they gonna need ya. keep it moving higher and higher. keep it moving higher and higher and higher. . . work work work work. work work work work work. work work work work work work. work work work work. . . work it out work it out work it out. work it out work it out work it out. work it out work it out work it out. work it out work it out work it out. work it out work it out work it out. work it out work it out work it out. work it out work it out work it out. . . you better work bitch. you better work bitch"
        ],
        [
         "45",
         "Still into You",
         "can't count the years on one hand that we've been together. i need the other one to hold you. make you feel make you feel better. it's not a walk in the park to love each other. but when our fingers interlock. can't deny can't deny you're worth it. . . 'cause after all this time. i'm still into you. . . i should be over all the butterflies. but i'm into you i'm into you. and baby even on our worst nights. i'm into you i'm into you. let 'em wonder how we got this far. 'cause i don't really need to wonder at all. yeah after all this time. i'm still into you. . . recount the night that i first met your mother. and on the drive back to my house. i told you that i told you that i loved ya. you felt the weight of the world fall off your shoulder. and to your favorite song. we sang along to the start of forever. . . and after all this time. i'm still into you. . . i should be over all the butterflies. but i'm into you i'm into you. and baby even on our worst nights. i'm into you i'm into you. let 'em wonder how we got this far. 'cause i don't really need to wonder at all. yeah after all this time. i'm still into you. . . some things just some things just make sense. and one of those is you and i hey. some things just some things just make sense. and even after all this time hey. i'm into you. baby not a day goes by that i'm not into you. . . i should be over all the butterflies. but i'm into you i'm into you. and baby even on our worst nights. i'm into you i'm into you. let 'em wonder how we got this far. 'cause i don't really need to wonder at all. yeah after all this time. i'm still into you. i'm still into you. i'm still into you"
        ],
        [
         "46",
         "Cruel Summer",
         "yeah yeah yeah yeah. . . fever dream high in the quiet of the night. you know that i caught it oh yeah you're right i want it. bad bad boy shiny toy with a price. you know that i bought it oh yeah you're right i want it. . . killing me slow out the window. i'm always waiting for you to be waiting below. devils roll the dice angels roll their eyes. what doesn't kill me makes me want you more. . . and it's new the shape of your body. it's blue the feeling i've got. and it's ooh woahoh. it's a cruel summer. it's cool that's what i tell 'em. no rules in breakable heaven. but ooh woahoh. it's a cruel summer with you. . . hang your head low in the glow of the vending machine. i'm not dying oh yeah you're right i want it. we say that we'll just screw it up in these trying times. we're not trying oh yeah you're right i want it. . . so cut the headlights summer's a knife. i'm always waiting for you just to cut to the bone. devils roll the dice angels roll their eyes. and if i bleed you'll be the last to know oh. . . it's new the shape of your body. it's blue the feeling i've got. and it's ooh woahoh. it's a cruel summer. it's cool that's what i tell 'em. no rules in breakable heaven. but ooh woahoh. it's a cruel summer with you. . . i'm drunk in the back of the car. and i cried like a baby comin' home from the bar oh. said i'm fine but it wasn't true. i don't wanna keep secrets just to keep you. and i snuck in through the garden gate. every night that summer just to seal my fate oh. and i scream for whatever it's worth. i love you ain't that the worst thing you ever heard. he looks up grinnin' like a devil. . . it's new the shape of your body. it's blue the feeling i've got. and it's ooh woahoh. it's a cruel summer. it's cool that's what i tell 'em. no rules in breakable heaven. but ooh woahoh. it's a cruel summer with you. . . i'm drunk in the back of the car. and i cried like a baby comin' home from the bar oh. said i'm fine but it wasn't true. i don't wanna keep secrets just to keep you. and i snuck in through the garden gate. every night that summer just to seal my fate oh. and i scream for whatever it's worth. i love you ain't that the worst thing you ever heard. yeah yeah yeah yeah"
        ],
        [
         "47",
         "Umbrella",
         "uhhuh uhhuh yeah rihanna. uhhuh uhhuh good girl gone bad. uhhuh uhhuh take three action. uhhuh uhhuh hov. . no clouds in my stones. let it rain i hydroplane in the bank. comin' down with the dow jones ayy ayy ayy. when the clouds come we go we rocafella ayyayyayy ayy. we fly higher than weather in g5's or better. you know me you know me. in anticipation for precipitation stack chips for the rainy day. jay rain man is back ayyayyayy ayy. with little miss sunshine rihanna where you at  ayyayyayy ayy. . you have my heart and we'll never be worlds apart. may be in magazines but you'll still be my star. baby 'cause in the dark you can't see shiny cars. and that's when you need me there. with you i'll always share because. . . when the sun shine we shine together. told you i'll be here forever. said i'll always be your friend. took an oath i'ma stick it out 'til the end. now that it's rainin' more than ever. know that we'll still have each other. you can stand under my umbrella. you can stand under my umbrella. ellaella ayy ayy ayy. under my umbrella. ellaella ayy ayy ayy. under my umbrella. ellaella ayy ayy ayy. under my umbrella. ellaella ayy ayy ayy ayy ayy ayy. . . these fancy things. will never come in between. you're part of my entity. here for infinity. when the war has took its part. when the world has dealt its cards. if the hand is hard. together we'll mend your heart because. . . when the sun shine we shine together. told you i'll be here forever. said i'll always be your friend. took an oath i'ma stick it out 'til the end. now that it's rainin' more than ever. know that we'll still have each other. you can stand under my umbrella. you can stand under my umbrella. ellaella ayy ayy ayy. under my umbrella. ellaella ayy ayy ayy. under my umbrella. ellaella ayy ayy ayy. under my umbrella. ellaella ayy ayy ayy ayy ayy ayy. . . you can run into my arms. it's okay don't be alarmed. come into me. there's no distance in between our love. so gonna let the rain pour. i'll be all you need and more because. . . when the sun shine we shine together. told you i'll be here forever. said i'll always be your friend. took an oath i'ma stick it out 'til the end. now that it's rainin' more than ever. know that we'll still have each other. you can stand under my umbrella. you can stand under my umbrella. ellaella ayy ayy ayy. under my umbrella. ellaella ayy ayy ayy. under my umbrella. ellaella ayy ayy ayy. under my umbrella. ellaella ayy ayy ayy ayy ayy ayy. . . it's rainin' rainin'. ooh baby it's rainin' rainin'. baby come into me. come into me. it's rainin' rainin'. ooh baby it's rainin' rainin'. you can always come into me. come into me. it's pourin' rain. it's pourin' rain. come into me. come into me. it's pourin' rain. it's pourin' rain. come into me"
        ],
        [
         "48",
         "2 On (feat. ScHoolboy Q)",
         "mustard on the beat ho. . . give me all that you got now. make you want me cause i'm hot now. i'm gone so faded i'm on one. bang bang pop off like a long gun. . if you a lame nigga you ain't making no noise. get faded turn up with the big boys. live fast die young that's my choice. get money get money like an invoice. we can mob all in the whip. make the money make a grip. i be stuntin' with my clique. getting faded 'til we trip oh. . . man i love to get on. i love to get 2 on. when the drink be too strong. when the tree be way too strong. get faded turn up bruh. pour it on up 'til i can't even think no more. get ratchet go dumb then go more dumb then. we can keep it lit let's roll. i love to get 2 on. letlet... let's roll. i love to get 2 on i love to. letletlet's roll. letletlet's roll. . . yea we can get active. and all my bitches attractive. we go you know who we are now. get high hotbox in my car now. . if you a lame nigga you ain't making no noise. get faded turn up with the big boys. live fast die young that's my choice. get money get money like an invoice. we can mob all in the whip. make the money make a grip. i be stuntin' with my clique. getting faded 'til we trip oh. . . man i love to get on. i love to get 2 on. when the drink be too strong. when the tree be way too strong. get faded turn up bruh. pour it on up 'til i can't even think no more. get ratchet go dumb then go more dumb then. we can keep it lit let's roll. i love to get 2 on. letlet... let's roll. i love to get 2 on i love to. letletlet's roll. letletlet's roll. . . uh pull your panties down from under you. beat that pussy up make you wanna holla q. drunk than a bitch high on that mary jane. pussy in my mouth pussy on my pinky ring. nasty baby me do it in the backseat. swear this marijuana keep it cracking. lights camera action i ain't doing nothing 'til the cash in. money money money weed fashion. draped up and dripped out keep the trees passing. girl toot that thing up fuck me fuck rapping. days of our lives so clap clap that cake. spreading your thighs i pump pump your brakes ay. . just give me the trees and we can smoke it ya. just give me the drink and we can pour it ya. and my enemies they see me living now. and if you roll with me then you'll be winning now oh. . . man i love to get on. i love to get 2 on. when the drink be too strong. when the tree be way too strong. get faded turn up bruh. pour it on up 'til i can't even think no more. get ratchet go dumb then go more dumb then. we can keep it lit let's roll. i love to get 2 on. letlet... let's roll. i love to get 2 on i love to. letletlet's roll. letletlet's roll"
        ],
        [
         "49",
         "Woman Like Me (feat. Nicki Minaj)",
         "i always say what i'm feeling. i was born without a zip on my mouth. sometimes i don't even mean it. it takes a little while to figure me out. . . i like my coffee with two sugars in it. high heels and my jewellery dripping. drink and i get all fired up hey hey hey. insecure but i'm working with it. many things that i could get rid of. ain't about to give it up. . . i made a few mistakes i regret it nightly. i broke a couple hearts that i wear on my sleeve. my mama always said girl you're trouble and. and now i wonder could you fall for a woman like me. and every time we touch boy you make me feel weak. i can tell you're shy and i think you're so sweet. spending every night under covers and. still i wonder could you fall for a woman like me. a woman. . . woman like me like a woman like me. lalala woman like me like a woman like me a woman. lalala woman like me like a woman like me. lalala woman like me like a woman like me. . . and baby just be mine for the weekend. we can get a takeaway and sit on the couch. or we could just go out for the evening. hopefully end up with you kissing my mouth ayy ayy. . . you got them blue jeans with a rip up in them. my hair with your fingers in it. love it when you turn me on. 'yoncé with a little bit of. love drunk in the middle with it. get down to our favorite song. . . i made a few mistakes i regret it nightly. i broke a couple hearts that i wear on my sleeve. my mama always said girl you're trouble and. and now i wonder could you fall for a woman like me. and every time we touch boy you make me feel weak. i can tell you're shy and i think you're so sweet. spending every night under covers and. still i wonder could you fall for a woman like me. a woman. . . woman like me like a woman like me. lalala woman like me like a woman like me a woman. lalala woman like me like a woman like me. lalala woman like me like a woman like me. . . yo woman like me yes a woman like me oh. soon as i brush up on him i could tell he like me oh. you know all them mandem a try fi swipe me kyuh. knotted up he could afford to ice me ah. tell 'em there's a bad trini bitch inna your area uh. but the more bad bitches then the more merrier come on. baddies to my left and to the right a little scarier uh. rude boy tell me can you handle all this derrière. uh a million i'm getting my billy on. greatest of all time 'cause i'm a chameleon. i switch it up for every era i'm really bomb. these bitches really wanna be nicki i'm really mom uh. apple cut the check i want all this money. seven up go grip the tec and leave all this bloody. iit's the queen and little mix skated on 'em sorry. my daddy is indian swish aall this curry mm. . . woman like me like a woman like me. lalala woman like me like a woman like me. . . i made a few mistakes i regret it nightly. i broke a couple hearts that i wear on my sleeve. my mama always said girl you're trouble and. and now i wonder could you fall for a woman like me like a woman like me yeah. and every time we touch boy you make me feel weak. i can tell you're shy and i think you're so sweet. spending every night under covers and. still i wonder could you fall for a woman like me fall for a woman for a woman like me. . . nanananana. woman like me like a woman like me. like a woman like me like me. lalala woman like me like a woman like me. oh for a woman like me. lalala woman like me like a woman like me. nanananana uh. lalala woman like me like a woman like me. i said a woman like woman like woman like me yeah. a woman like me young money rrr"
        ]
       ],
       "shape": {
        "columns": 2,
        "rows": 99
       }
      },
      "text/html": [
       "<div>\n",
       "<style scoped>\n",
       "    .dataframe tbody tr th:only-of-type {\n",
       "        vertical-align: middle;\n",
       "    }\n",
       "\n",
       "    .dataframe tbody tr th {\n",
       "        vertical-align: top;\n",
       "    }\n",
       "\n",
       "    .dataframe thead th {\n",
       "        text-align: right;\n",
       "    }\n",
       "</style>\n",
       "<table border=\"1\" class=\"dataframe\">\n",
       "  <thead>\n",
       "    <tr style=\"text-align: right;\">\n",
       "      <th></th>\n",
       "      <th>title</th>\n",
       "      <th>lyrics</th>\n",
       "    </tr>\n",
       "  </thead>\n",
       "  <tbody>\n",
       "    <tr>\n",
       "      <th>0</th>\n",
       "      <td>exes</td>\n",
       "      <td>oh i'm sorry sorry that you love me hahahahaha...</td>\n",
       "    </tr>\n",
       "    <tr>\n",
       "      <th>1</th>\n",
       "      <td>Big Energy</td>\n",
       "      <td>got that real big energy uhhuh. got that big b...</td>\n",
       "    </tr>\n",
       "    <tr>\n",
       "      <th>2</th>\n",
       "      <td>It's ok I'm ok</td>\n",
       "      <td>mm. yeah uh. . . see you so excited mm. you go...</td>\n",
       "    </tr>\n",
       "    <tr>\n",
       "      <th>3</th>\n",
       "      <td>Guess featuring billie eilish</td>\n",
       "      <td>hey billie you there. uhuh. . . you wanna gues...</td>\n",
       "    </tr>\n",
       "    <tr>\n",
       "      <th>4</th>\n",
       "      <td>Woman</td>\n",
       "      <td>hey woman. hey woman. . . ayy woman. let me be...</td>\n",
       "    </tr>\n",
       "    <tr>\n",
       "      <th>...</th>\n",
       "      <td>...</td>\n",
       "      <td>...</td>\n",
       "    </tr>\n",
       "    <tr>\n",
       "      <th>94</th>\n",
       "      <td>J CHRIST</td>\n",
       "      <td>hey look look look but look. we going all the ...</td>\n",
       "    </tr>\n",
       "    <tr>\n",
       "      <th>95</th>\n",
       "      <td>NO MIENTEN</td>\n",
       "      <td>. . uhwuh. . . puedes mentir de nuevo. pero yo...</td>\n",
       "    </tr>\n",
       "    <tr>\n",
       "      <th>96</th>\n",
       "      <td>Sorry</td>\n",
       "      <td>. . you gotta go and get angry at all of my ho...</td>\n",
       "    </tr>\n",
       "    <tr>\n",
       "      <th>97</th>\n",
       "      <td>Blow</td>\n",
       "      <td>haha. dance. . . back door cracked we don't ne...</td>\n",
       "    </tr>\n",
       "    <tr>\n",
       "      <th>98</th>\n",
       "      <td>Makeba</td>\n",
       "      <td>oohee. oohee. . . oohee makeba. makeba ma che ...</td>\n",
       "    </tr>\n",
       "  </tbody>\n",
       "</table>\n",
       "<p>99 rows × 2 columns</p>\n",
       "</div>"
      ],
      "text/plain": [
       "                            title  \\\n",
       "0                            exes   \n",
       "1                      Big Energy   \n",
       "2                  It's ok I'm ok   \n",
       "3   Guess featuring billie eilish   \n",
       "4                           Woman   \n",
       "..                            ...   \n",
       "94                       J CHRIST   \n",
       "95                     NO MIENTEN   \n",
       "96                          Sorry   \n",
       "97                           Blow   \n",
       "98                         Makeba   \n",
       "\n",
       "                                               lyrics  \n",
       "0   oh i'm sorry sorry that you love me hahahahaha...  \n",
       "1   got that real big energy uhhuh. got that big b...  \n",
       "2   mm. yeah uh. . . see you so excited mm. you go...  \n",
       "3   hey billie you there. uhuh. . . you wanna gues...  \n",
       "4   hey woman. hey woman. . . ayy woman. let me be...  \n",
       "..                                                ...  \n",
       "94  hey look look look but look. we going all the ...  \n",
       "95  . . uhwuh. . . puedes mentir de nuevo. pero yo...  \n",
       "96  . . you gotta go and get angry at all of my ho...  \n",
       "97  haha. dance. . . back door cracked we don't ne...  \n",
       "98  oohee. oohee. . . oohee makeba. makeba ma che ...  \n",
       "\n",
       "[99 rows x 2 columns]"
      ]
     },
     "execution_count": 85,
     "metadata": {},
     "output_type": "execute_result"
    }
   ],
   "source": [
    "# Clean and tokenize lyrics\n",
    "list_lyrics_df = clean_lyrics(list_lyrics_df, 'lyrics')\n",
    "list_lyrics_df"
   ]
  },
  {
   "cell_type": "code",
   "execution_count": 86,
   "metadata": {},
   "outputs": [],
   "source": [
    "df = pd.read_csv('songs_lyrics.csv', index_col=0)\n",
    "lyrics = pd.concat([df, list_lyrics_df], ignore_index=True).drop_duplicates(subset=['title'], keep='first')"
   ]
  },
  {
   "cell_type": "code",
   "execution_count": 87,
   "metadata": {},
   "outputs": [],
   "source": [
    "lyrics.to_csv('songs_lyrics.csv')"
   ]
  },
  {
   "cell_type": "markdown",
   "metadata": {},
   "source": [
    "### Add songs and lyrics to db"
   ]
  },
  {
   "cell_type": "code",
   "execution_count": 78,
   "metadata": {},
   "outputs": [],
   "source": [
    "import sqlite3\n",
    "\n",
    "with open('spotify_db/playlist_schema.sql', 'r') as file:\n",
    "    create_table_query = file.read()\n",
    "    \n",
    "connection = sqlite3.connect('spotify_db/spotify.db')\n",
    "connection.execute(create_table_query)\n",
    "\n",
    "list_lyrics_df.to_sql('songs_lyrics', connection, if_exists='append', index=False)\n",
    "\n",
    "connection.commit()\n",
    "connection.close()"
   ]
  },
  {
   "cell_type": "markdown",
   "metadata": {},
   "source": [
    "### Sentiment analysis \n",
    "\n",
    "Using NLTK VADER"
   ]
  },
  {
   "cell_type": "code",
   "execution_count": 12,
   "metadata": {},
   "outputs": [],
   "source": [
    "from nltk.sentiment import vader\n",
    "# nltk.download('vader_lexicon')\n",
    "\n",
    "negative = []\n",
    "neutral = []\n",
    "positive = []\n",
    "compound = []\n",
    "\n",
    "analyzer = vader.SentimentIntensityAnalyzer()\n",
    "\n",
    "for text in list_lyrics_df['lyrics']:\n",
    "    scores = analyzer.polarity_scores(text)\n",
    "    negative.append(scores['neg'])\n",
    "    neutral.append(scores['neu'])\n",
    "    positive.append(scores['pos'])\n",
    "    compound.append(scores['compound'])\n",
    "\n",
    "list_lyrics_df['negative'] = negative\n",
    "list_lyrics_df['neutral'] = neutral\n",
    "list_lyrics_df['positive'] = positive\n",
    "list_lyrics_df['compound'] = compound"
   ]
  },
  {
   "cell_type": "code",
   "execution_count": 13,
   "metadata": {},
   "outputs": [
    {
     "data": {
      "text/plain": [
       "np.float64(0.3719018041237113)"
      ]
     },
     "execution_count": 13,
     "metadata": {},
     "output_type": "execute_result"
    }
   ],
   "source": [
    "# get mean sentiment score for dataset\n",
    "list_sentiment = list_lyrics_df[['negative', 'neutral', 'positive', 'compound']].mean(axis=1)\n",
    "list_sentiment.mean()"
   ]
  },
  {
   "cell_type": "markdown",
   "metadata": {},
   "source": [
    "Sentiment analysis using [this model](tabularisai/multilingual-sentiment-analysis) from HuggingFace:\n",
    "- Better than VADER: \n",
    "  - Less neutral results\n",
    "  - Language support\n",
    "- VADER: \n",
    "  - Excellent sentiment for English\n",
    "  - Tend to lean toward neutral?"
   ]
  },
  {
   "cell_type": "code",
   "execution_count": 23,
   "metadata": {},
   "outputs": [
    {
     "name": "stderr",
     "output_type": "stream",
     "text": [
      "c:\\Users\\bi020\\Downloads\\data\\IWantaPlaylist\\spotify\\Lib\\site-packages\\tqdm\\auto.py:21: TqdmWarning: IProgress not found. Please update jupyter and ipywidgets. See https://ipywidgets.readthedocs.io/en/stable/user_install.html\n",
      "  from .autonotebook import tqdm as notebook_tqdm\n",
      "c:\\Users\\bi020\\Downloads\\data\\IWantaPlaylist\\spotify\\Lib\\site-packages\\huggingface_hub\\file_download.py:142: UserWarning: `huggingface_hub` cache-system uses symlinks by default to efficiently store duplicated files but your machine does not support them in C:\\Users\\bi020\\.cache\\huggingface\\hub\\models--tabularisai--multilingual-sentiment-analysis. Caching files will still work but in a degraded version that might require more space on your disk. This warning can be disabled by setting the `HF_HUB_DISABLE_SYMLINKS_WARNING` environment variable. For more details, see https://huggingface.co/docs/huggingface_hub/how-to-cache#limitations.\n",
      "To support symlinks on Windows, you either need to activate Developer Mode or to run Python as an administrator. In order to activate developer mode, see this article: https://docs.microsoft.com/en-us/windows/apps/get-started/enable-your-device-for-development\n",
      "  warnings.warn(message)\n"
     ]
    }
   ],
   "source": [
    "# Example\n",
    "from transformers import AutoTokenizer, AutoModelForSequenceClassification, pipeline\n",
    "import torch\n",
    "\n",
    "model_name = \"tabularisai/multilingual-sentiment-analysis\"\n",
    "tokenizer = AutoTokenizer.from_pretrained(model_name)\n",
    "model = AutoModelForSequenceClassification.from_pretrained(model_name)\n",
    "\n",
    "# def predict_sentiment(text):\n",
    "#         inputs = tokenizer(text, return_tensors=\"pt\", padding=True, truncation=True)\n",
    "#         with torch.no_grad():\n",
    "#             outputs = model(**inputs)\n",
    "#         probabilities = torch.nn.functional.softmax(outputs.logits, dim=-1)\n",
    "#         sentiment_map = {\n",
    "#             0: \"sombre\",\n",
    "#             1: \"sad\",\n",
    "#             2: \"neutral\",\n",
    "#             3: \"happy\",\n",
    "#             4: \"ecstatic\"\n",
    "#         }\n",
    "#         return [sentiment_map[p] for p in torch.argmax(probabilities, dim=-1).tolist()] \n",
    "\n",
    "def predict_sentiment(texts):\n",
    "    # sentiment_map = {0: \"Somber\", 1: \"Sad\", 2: \"Neutral\", 3: \"Happy\", 4: \"Estactic\"}\n",
    "    pipe = pipeline(task=\"sentiment-analysis\", model=model_name)\n",
    "    sentiments = pipe(texts)\n",
    "    labels = [sentiment['label'] for sentiment in sentiments]\n",
    "    # return [sentiment_map[int(p)] for p in labels]\n",
    "    return labels\n",
    "    \n",
    "# texts = [\n",
    "#     # English\n",
    "#     \"I absolutely love the new design of this app!\", \"The customer service was disappointing.\", \"The weather is fine, nothing special.\",\n",
    "#     # Chinese\n",
    "#     \"这家餐厅的菜味道非常棒！\", \"我对他的回答很失望。\", \"天气今天一般。\",\n",
    "#     # Spanish\n",
    "#     \"¡Me encanta cómo quedó la decoración!\", \"El servicio fue terrible y muy lento.\", \"El libro estuvo más o menos.\",\n",
    "#     # Arabic\n",
    "#     \"الخدمة في هذا الفندق رائعة جدًا!\", \"لم يعجبني الطعام في هذا المطعم.\", \"كانت الرحلة عادية。\",\n",
    "#     # Ukrainian\n",
    "#     \"Мені дуже сподобалася ця вистава!\", \"Обслуговування було жахливим.\", \"Книга була посередньою。\",\n",
    "#     # Hindi\n",
    "#     \"यह जगह सच में अद्भुत है!\", \"यह अनुभव बहुत खराब था।\", \"फिल्म ठीक-ठाक थी।\",\n",
    "#     # Bengali\n",
    "#     \"এখানকার পরিবেশ অসাধারণ!\", \"সেবার মান একেবারেই খারাপ।\", \"খাবারটা মোটামুটি ছিল।\",\n",
    "#     # Portuguese\n",
    "#     \"Este livro é fantástico! Eu aprendi muitas coisas novas e inspiradoras.\", \n",
    "#     \"Não gostei do produto, veio quebrado.\", \"O filme foi ok, nada de especial.\",\n",
    "#     # Japanese\n",
    "#     \"このレストランの料理は本当に美味しいです！\", \"このホテルのサービスはがっかりしました。\", \"天気はまあまあです。\",\n",
    "#     # Russian\n",
    "#     \"Я в восторге от этого нового гаджета!\", \"Этот сервис оставил у меня только разочарование.\", \"Встреча была обычной, ничего особенного.\",\n",
    "#     # French\n",
    "#     \"J'adore ce restaurant, c'est excellent !\", \"L'attente était trop longue et frustrante.\", \"Le film était moyen, sans plus.\",\n",
    "#     # Turkish\n",
    "#     \"Bu otelin manzarasına bayıldım!\", \"Ürün tam bir hayal kırıklığıydı.\", \"Konser fena değildi, ortalamaydı.\",\n",
    "#     # Italian\n",
    "#     \"Adoro questo posto, è fantastico!\", \"Il servizio clienti è stato pessimo.\", \"La cena era nella media.\",\n",
    "#     # Polish\n",
    "#     \"Uwielbiam tę restaurację, jedzenie jest świetne!\", \"Obsługa klienta była rozczarowująca.\", \"Pogoda jest w porządku, nic szczególnego.\",\n",
    "#     # Tagalog\n",
    "#     \"Ang ganda ng lugar na ito, sobrang aliwalas!\", \"Hindi maganda ang serbisyo nila dito.\", \"Maayos lang ang palabas, walang espesyal.\",\n",
    "#     # Dutch\n",
    "#     \"Ik ben echt blij met mijn nieuwe aankoop!\", \"De klantenservice was echt slecht.\", \"De presentatie was gewoon oké, niet bijzonder.\",\n",
    "#     # Malay\n",
    "#     \"Saya suka makanan di sini, sangat sedap!\", \"Pengalaman ini sangat mengecewakan.\", \"Hari ini cuacanya biasa sahaja.\",\n",
    "#     # Korean\n",
    "#     \"이 가게의 케이크는 정말 맛있어요!\", \"서비스가 너무 별로였어요.\", \"날씨가 그저 그렇네요.\",\n",
    "#     # Swiss German\n",
    "#     \"Ich find dä Service i de Beiz mega guet!\", \"Däs Esä het mir nöd gfalle.\", \"D Wätter hüt isch so naja.\",\n",
    "#     # Vietnamese\n",
    "#     \"Tôi thích cách trang trí mới của quán!\", \"Dịch vụ khách hàng thì thất vọng.\", \"Bộ phim này tạm ổn, không gì đặc biệt.\"\n",
    "# ]\n",
    "\n",
    "# for text, sentiment in zip(texts, predict_sentiment(texts)):\n",
    "#     print(f\"Text: {text}\\nSentiment: {sentiment}\\n\")"
   ]
  },
  {
   "cell_type": "code",
   "execution_count": 24,
   "metadata": {},
   "outputs": [
    {
     "name": "stderr",
     "output_type": "stream",
     "text": [
      "Device set to use cpu\n",
      "Device set to use cpu\n",
      "Device set to use cpu\n",
      "Device set to use cpu\n",
      "Device set to use cpu\n",
      "Device set to use cpu\n",
      "Device set to use cpu\n",
      "Device set to use cpu\n",
      "Device set to use cpu\n",
      "Device set to use cpu\n",
      "Device set to use cpu\n",
      "Device set to use cpu\n",
      "Device set to use cpu\n",
      "Device set to use cpu\n",
      "Device set to use cpu\n",
      "Device set to use cpu\n",
      "Device set to use cpu\n",
      "Device set to use cpu\n",
      "Device set to use cpu\n",
      "Device set to use cpu\n",
      "Device set to use cpu\n",
      "Device set to use cpu\n",
      "Device set to use cpu\n",
      "Device set to use cpu\n",
      "Device set to use cpu\n",
      "Device set to use cpu\n",
      "Device set to use cpu\n",
      "Device set to use cpu\n",
      "Device set to use cpu\n",
      "Device set to use cpu\n",
      "Device set to use cpu\n",
      "Device set to use cpu\n",
      "Device set to use cpu\n",
      "Device set to use cpu\n",
      "Device set to use cpu\n",
      "Device set to use cpu\n",
      "Device set to use cpu\n",
      "Device set to use cpu\n",
      "Device set to use cpu\n",
      "Device set to use cpu\n",
      "Device set to use cpu\n",
      "Device set to use cpu\n",
      "Device set to use cpu\n",
      "Device set to use cpu\n",
      "Device set to use cpu\n",
      "Device set to use cpu\n",
      "Device set to use cpu\n",
      "Device set to use cpu\n",
      "Device set to use cpu\n",
      "Device set to use cpu\n",
      "Device set to use cpu\n",
      "Device set to use cpu\n",
      "Device set to use cpu\n",
      "Device set to use cpu\n",
      "Device set to use cpu\n",
      "Device set to use cpu\n",
      "Device set to use cpu\n",
      "Device set to use cpu\n",
      "Device set to use cpu\n",
      "Device set to use cpu\n",
      "Device set to use cpu\n",
      "Device set to use cpu\n",
      "Device set to use cpu\n",
      "Device set to use cpu\n",
      "Device set to use cpu\n",
      "Device set to use cpu\n",
      "Device set to use cpu\n",
      "Device set to use cpu\n",
      "Device set to use cpu\n",
      "Device set to use cpu\n",
      "Device set to use cpu\n",
      "Device set to use cpu\n",
      "Device set to use cpu\n",
      "Device set to use cpu\n",
      "Device set to use cpu\n",
      "Device set to use cpu\n",
      "Device set to use cpu\n",
      "Device set to use cpu\n",
      "Device set to use cpu\n",
      "Device set to use cpu\n",
      "Device set to use cpu\n",
      "Device set to use cpu\n",
      "Device set to use cpu\n",
      "Device set to use cpu\n",
      "Device set to use cpu\n",
      "Device set to use cpu\n",
      "Device set to use cpu\n",
      "Device set to use cpu\n",
      "Device set to use cpu\n",
      "Device set to use cpu\n",
      "Device set to use cpu\n",
      "Device set to use cpu\n",
      "Device set to use cpu\n",
      "Device set to use cpu\n",
      "Device set to use cpu\n",
      "Device set to use cpu\n",
      "Device set to use cpu\n"
     ]
    }
   ],
   "source": [
    "sentiments = []\n",
    "for text in list_lyrics_df['lyrics']:\n",
    "    sentiment = (predict_sentiment([text[:512]])[0])\n",
    "    sentiments.append(sentiment)\n",
    "\n",
    "list_lyrics_df['sentiment'] = sentiments"
   ]
  },
  {
   "cell_type": "markdown",
   "metadata": {},
   "source": [
    "### Get embedding for similarity search\n",
    "[Embedding model: ](sentence-transformers/distiluse-base-multilingual-cased)"
   ]
  },
  {
   "cell_type": "code",
   "execution_count": 14,
   "metadata": {},
   "outputs": [
    {
     "name": "stderr",
     "output_type": "stream",
     "text": [
      "c:\\Users\\bi020\\Downloads\\data\\IWantaPlaylist\\spotify\\Lib\\site-packages\\tqdm\\auto.py:21: TqdmWarning: IProgress not found. Please update jupyter and ipywidgets. See https://ipywidgets.readthedocs.io/en/stable/user_install.html\n",
      "  from .autonotebook import tqdm as notebook_tqdm\n"
     ]
    },
    {
     "name": "stdout",
     "output_type": "stream",
     "text": [
      "Sentences: This is an example\n",
      "0: 1.0000\n",
      "1: 0.9409\n",
      "2: 0.9583\n",
      "3: 0.9228\n",
      "Sentences: Đây là một ví dụ\n",
      "0: 0.9409\n",
      "1: 1.0000\n",
      "2: 0.9728\n",
      "3: 0.9859\n",
      "Sentences: C'est un exemple\n",
      "0: 0.9583\n",
      "1: 0.9728\n",
      "2: 1.0000\n",
      "3: 0.9804\n",
      "Sentences: 这是一个例子\n",
      "0: 0.9228\n",
      "1: 0.9859\n",
      "2: 0.9804\n",
      "3: 1.0000\n"
     ]
    }
   ],
   "source": [
    "from sentence_transformers import SentenceTransformer\n",
    "from sklearn.metrics.pairwise import cosine_similarity\n",
    "\n",
    "sentences = [\"This is an example\", \"Đây là một ví dụ\", \"C'est un exemple\", \"这是一个例子\"]\n",
    "\n",
    "model = SentenceTransformer('sentence-transformers/distiluse-base-multilingual-cased')\n",
    "embeddings = model.encode(sentences)\n",
    "\n",
    "for i, sentence in enumerate(sentences):\n",
    "    print(f\"Sentences: {sentence}\")\n",
    "    for j, sentence in enumerate(sentences):\n",
    "        print(str(j) + f\": {cosine_similarity([embeddings[i]], [embeddings[j]])[0][0]:.4f}\")"
   ]
  },
  {
   "cell_type": "code",
   "execution_count": 26,
   "metadata": {},
   "outputs": [
    {
     "name": "stdout",
     "output_type": "stream",
     "text": [
      "(512,)\n"
     ]
    }
   ],
   "source": [
    "print(embeddings[0].shape)"
   ]
  },
  {
   "cell_type": "code",
   "execution_count": 15,
   "metadata": {},
   "outputs": [],
   "source": [
    "lyrics_embed = []\n",
    "for text in list_lyrics_df['lyrics']:\n",
    "    lyrics_embed.append(model.encode(text))\n",
    "\n",
    "list_lyrics_df['lyrics_embed'] = lyrics_embed"
   ]
  },
  {
   "cell_type": "markdown",
   "metadata": {},
   "source": [
    "# TF-IDF to get top keywords"
   ]
  },
  {
   "cell_type": "code",
   "execution_count": 4,
   "metadata": {},
   "outputs": [
    {
     "data": {
      "text/plain": [
       "['ah',\n",
       " 'aheh',\n",
       " 'away',\n",
       " 'cause',\n",
       " 'come',\n",
       " 'day',\n",
       " 'deserves',\n",
       " 'disappear',\n",
       " 'don',\n",
       " 'feel',\n",
       " 'gay',\n",
       " 'gonna',\n",
       " 'good',\n",
       " 'goodbye',\n",
       " 'got',\n",
       " 'hear',\n",
       " 'heart',\n",
       " 'home',\n",
       " 'just',\n",
       " 'know',\n",
       " 'learn',\n",
       " 'let',\n",
       " 'life',\n",
       " 'like',\n",
       " 'little',\n",
       " 'll',\n",
       " 'look',\n",
       " 'love',\n",
       " 'make',\n",
       " 'man',\n",
       " 'need',\n",
       " 'new',\n",
       " 'oh',\n",
       " 'said',\n",
       " 'say',\n",
       " 'shot',\n",
       " 'story',\n",
       " 'summer',\n",
       " 'tell',\n",
       " 'things',\n",
       " 'think',\n",
       " 'time',\n",
       " 've',\n",
       " 'wanna',\n",
       " 'want',\n",
       " 'way',\n",
       " 'woah',\n",
       " 'won',\n",
       " 'world',\n",
       " 'yeah']"
      ]
     },
     "execution_count": 4,
     "metadata": {},
     "output_type": "execute_result"
    }
   ],
   "source": [
    "from sklearn.feature_extraction.text import TfidfVectorizer\n",
    "\n",
    "vectorizer = TfidfVectorizer(stop_words='english', max_features=50)\n",
    "all_lyrics = \"\".join(list_lyrics_df['lyrics'])\n",
    "lyrics_tfidf = vectorizer.fit_transform([all_lyrics])\n",
    "query = vectorizer.get_feature_names_out()\n",
    "query.tolist()"
   ]
  },
  {
   "cell_type": "markdown",
   "metadata": {},
   "source": [
    "This is a library that supports multiple languages, including Vietnamese and Korean"
   ]
  },
  {
   "cell_type": "code",
   "execution_count": null,
   "metadata": {},
   "outputs": [],
   "source": [
    "# example: https://colab.research.google.com/drive/1RaWj5SqWvyC2SsCTGg8IAVcl9G5hOB50?usp=sharing\n",
    "import text2text as t2t\n",
    "\n",
    "top_kw = t2t.Tfidfer().transform(all_lyrics)\n",
    "\n",
    "kw_query = []\n",
    "for kw in top_kw:\n",
    "    kw_query += list(kw.keys())\n",
    "\n",
    "kw_query"
   ]
  },
  {
   "cell_type": "markdown",
   "metadata": {},
   "source": [
    "### Get recommendations using spotify API search function"
   ]
  },
  {
   "cell_type": "code",
   "execution_count": null,
   "metadata": {},
   "outputs": [],
   "source": [
    "# take random 50 top keywords\n",
    "kw_query = random.sample(kw_query, 50)\n",
    "search_recs = sp.search(q=\"\".join(kw_query), type=\"track\", limit=30)\n",
    "recs = []\n",
    "for track in search_recs['tracks']['items']:\n",
    "    recs.append({\n",
    "        'name': track['name'],\n",
    "        'artist': track['artists'][0]['name']\n",
    "    })\n",
    "pd.DataFrame(recs)"
   ]
  },
  {
   "cell_type": "markdown",
   "metadata": {},
   "source": [
    "### Summarization \n",
    "\n",
    "Instead of using top keywords, use a brief query that acts as a summary for the playlist"
   ]
  },
  {
   "cell_type": "code",
   "execution_count": 21,
   "metadata": {},
   "outputs": [],
   "source": [
    "def text_summarizer(text, num_sen = 1):\n",
    "    languages = stopwords.fileids() # list of supported languages\n",
    "    stopWords = set(stopwords.words([language for language in languages]))\n",
    "    \n",
    "    sentences = []\n",
    "    for sentence in text.split('.'):\n",
    "        sentences.append(sentence)\n",
    "        \n",
    "    words = word_tokenize(text)\n",
    "    words = [word for word in words if word not in stopWords]\n",
    "    \n",
    "    fdict = FreqDist(words) # frequency distribution\n",
    "    \n",
    "    # assign scores to senteces based on word frequencies\n",
    "    sentence_scores = [sum(fdict[word] for word in word_tokenize(sentence) if word in fdict) for sentence in sentences]\n",
    "    sentence_scores = list(enumerate(sentence_scores))\n",
    "    \n",
    "    # sort descending\n",
    "    sorted_sentences = sorted(sentence_scores, key = lambda x: x[1], reverse = True)\n",
    "    \n",
    "    # Randomly select the top `num_sentences` sentences for the summary\n",
    "    random_sentences = random.sample(sorted_sentences[:10], num_sen)\n",
    "\n",
    "    # Sort the randomly selected sentences based on their original order in the text\n",
    "    summary_sentences = sorted(random_sentences, key=lambda x: x[0])\n",
    "\n",
    "    # Create the summary\n",
    "    summary = ' '.join([sentences[i] for i, _ in summary_sentences])\n",
    "\n",
    "    return summary"
   ]
  },
  {
   "cell_type": "code",
   "execution_count": 22,
   "metadata": {},
   "outputs": [
    {
     "data": {
      "application/vnd.microsoft.datawrangler.viewer.v0+json": {
       "columns": [
        {
         "name": "index",
         "rawType": "int64",
         "type": "integer"
        },
        {
         "name": "Unnamed: 0",
         "rawType": "int64",
         "type": "integer"
        },
        {
         "name": "title",
         "rawType": "object",
         "type": "string"
        },
        {
         "name": "lyrics",
         "rawType": "object",
         "type": "string"
        },
        {
         "name": "negative",
         "rawType": "float64",
         "type": "float"
        },
        {
         "name": "neutral",
         "rawType": "float64",
         "type": "float"
        },
        {
         "name": "positive",
         "rawType": "float64",
         "type": "float"
        },
        {
         "name": "compound",
         "rawType": "float64",
         "type": "float"
        },
        {
         "name": "lyrics_embed",
         "rawType": "object",
         "type": "unknown"
        },
        {
         "name": "summary",
         "rawType": "object",
         "type": "string"
        }
       ],
       "conversionMethod": "pd.DataFrame",
       "ref": "ef148c55-50e1-46f5-a81d-91b22ee180c8",
       "rows": [
        [
         "0",
         "0",
         "In a Crowd of Thousands",
         "it was june. i was ten. i still think of that day now and then. a parade and a girl. and a crowd of thousands. she sat straight as a queen. only eight but so proud and serene. how they cheered. how i stared. in that crowd of thousands. . then i started to run. and to call out her name. as the crowd on the road went wild. i reached out with my hand and looked up. and then she smiled. . the parade travelled on. with the sun in my eyes she was gone. but if i were still ten. in that crowd of thousands. id find her again. . . youre making me feel i was there too. . . maybe you were. make it part of your story. . a parade. . . a parade. . . passing by. . . passing by. . . it was hot. not a cloud in the sky. then a boy. caught my eye. . . in a crowd of thousands. . . he was thin. not too clean. there were guards. but he dodged in between. . yes he made himself seen. in that crowd of thousands. . then he called out my name. and he started to run. through the sun and heat and the crowd. and i tried not to smile but i smiled. and then. he bowed. . i didnt tell you that. . . you didnt have to. i remember. . . the parade travelled on. with the sun in my eyes you were gone. but i knew even then. in a crowd of thousands. id find you again. . your highness",
         "0.022",
         "0.843",
         "0.135",
         "0.9851",
         "[ 0.00656066  0.05123887 -0.07534626 -0.01034271  0.06539329  0.00594354\n -0.00172994  0.01940949  0.01341882  0.0175201  -0.00683468 -0.05414199\n -0.05110214  0.05454956 -0.02669911  0.05202894 -0.05656116  0.01827846\n  0.02412691  0.00776076 -0.05961512  0.00541958  0.03932067  0.08418514\n -0.03823289 -0.0160397  -0.00691026  0.01124031  0.03734804  0.05189807\n  0.07400736  0.0639666  -0.0406791  -0.0131358  -0.05705798  0.01152751\n -0.02340863  0.07075424 -0.0492421  -0.06991086 -0.02798171 -0.05570747\n  0.02345682 -0.1011214   0.07488262 -0.00347051  0.00122385 -0.02015196\n  0.01074587  0.04519976 -0.02227759 -0.00026249 -0.03469502 -0.05044222\n  0.0254619  -0.01185546 -0.03770668  0.01824656 -0.003338   -0.03718602\n -0.01870617  0.00427784 -0.05966336  0.00473623 -0.01587802 -0.01850822\n -0.03999933  0.0174072  -0.02267721  0.00935594 -0.01042058 -0.03846838\n  0.01187321 -0.05518005  0.03972197 -0.01334386 -0.10866923  0.01413756\n -0.07686061 -0.0487235  -0.00868515 -0.04498057 -0.0065856  -0.03318291\n  0.01833056  0.01149447  0.00933003  0.00498478 -0.06568822  0.01186469\n  0.03444619  0.03099037  0.02870964 -0.02466416 -0.00907083  0.046539\n  0.00225437  0.019612    0.02651309 -0.03006228 -0.03744955 -0.03460221\n -0.06915525 -0.01805659 -0.02410601  0.00957316  0.02337038  0.00752595\n  0.02931347 -0.02521293 -0.0023854   0.00695854  0.06922528 -0.00581069\n -0.0351021   0.04287717  0.02460482  0.00764645  0.03717649  0.02385199\n  0.07181343  0.01941847 -0.01750093 -0.00820377  0.01467153 -0.02048717\n  0.01520655 -0.01082654  0.036561    0.02474868  0.07832566 -0.03101354\n  0.03052538 -0.05157967 -0.00272384  0.0106582  -0.04485233  0.00867257\n  0.01514695 -0.02178703 -0.0173185  -0.05591218  0.0288559   0.0342177\n -0.04261589  0.0242456  -0.0164237   0.06629655  0.00111835 -0.01461518\n -0.0295997   0.11268216 -0.06088744  0.0482765  -0.01436054  0.03965201\n  0.00266247  0.0462384   0.03041228  0.00023378  0.02060217 -0.02002601\n  0.01237642 -0.02901389 -0.00750152  0.03263577  0.00900646  0.02595709\n  0.01580864  0.03871279 -0.02824669 -0.02431705  0.07067447  0.00325773\n  0.02760502 -0.05449313  0.01253522  0.06336293 -0.0229871  -0.02143286\n -0.05138448 -0.05623618 -0.05362696 -0.01034801 -0.01445694  0.03414403\n  0.01346087 -0.02968118  0.03844963  0.07435487  0.04116319  0.0064671\n -0.00910313  0.02141819  0.09297509 -0.0340822   0.00676879  0.046618\n -0.01087527 -0.00078247  0.02108061 -0.07084299  0.02520736 -0.02380811\n  0.05770291  0.0153397   0.07826772  0.00240198  0.01014145 -0.01008373\n -0.00033096  0.00776462  0.05239574  0.02300962  0.00977388  0.04465104\n -0.0440709   0.02420368 -0.04129441 -0.03087365  0.03390405 -0.00859766\n  0.04358657 -0.03317618 -0.05199282 -0.01363502 -0.00948664 -0.04660886\n  0.00470491  0.03304569  0.01822322 -0.04477916 -0.03200776 -0.03586765\n -0.01242238  0.00951716 -0.02427469  0.00281346 -0.08921815 -0.03135965\n  0.00057606  0.03993187  0.02073106 -0.00210972  0.01131229 -0.03546947\n  0.00767127 -0.05635694 -0.05614785  0.01676057 -0.0071221  -0.02415202\n  0.06157359  0.035292    0.01485947 -0.06309744 -0.03181238  0.00130493\n -0.04204046 -0.02215484 -0.01350191  0.03671219 -0.00394765  0.03890223\n -0.04028551 -0.00960265 -0.02462077 -0.00291873  0.01090379  0.01209863\n  0.00269844  0.06040131  0.01861025  0.00260964 -0.06833887  0.02331939\n  0.05059927  0.01159657 -0.00586801  0.01670177  0.01659562 -0.02619596\n  0.01370633  0.08270922  0.05014915 -0.00047196 -0.0152938  -0.07776802\n  0.00074351  0.02603666 -0.01908338  0.09613249  0.13699885  0.00831389\n -0.0565639   0.04493477  0.05914604 -0.074001   -0.02343524 -0.0036267\n -0.02600585  0.11950085  0.00469465  0.0384934  -0.006735   -0.03027171\n -0.03077142  0.01428941 -0.0080612  -0.03178568  0.00641624 -0.03995804\n  0.07380511 -0.00288304  0.02298284  0.00563135  0.02946795  0.03185359\n  0.00197377  0.06089914  0.03596962  0.07237733  0.03622936 -0.02678812\n  0.0512521  -0.0205792  -0.0651067  -0.0004804   0.00486022 -0.00742182\n  0.01407802  0.00491132 -0.04027248  0.0226829  -0.04056116 -0.08749241\n -0.04869415 -0.0277223  -0.00793059 -0.02961967  0.00964256  0.08971026\n -0.04297207  0.03654055  0.0521613  -0.03200293  0.00488216  0.01542925\n -0.02339653  0.01153576  0.02095533  0.0283169  -0.04852761 -0.00916842\n -0.03199469  0.06327081 -0.05710218  0.06600133 -0.07237501  0.02542104\n  0.01345099  0.00770107  0.05387886 -0.0115565  -0.01741963  0.02177892\n  0.04669343 -0.01621559  0.02937559 -0.00712333 -0.02902574 -0.00853272\n -0.0696866   0.03060763 -0.02574281 -0.05475385 -0.0013241  -0.02542756\n  0.06504956 -0.02111847  0.07864546 -0.03857838  0.04229121  0.02774853\n  0.00797237 -0.03687681 -0.01511211  0.02841599  0.01247601 -0.00084679\n -0.08704878  0.02201188 -0.04731425 -0.04128589 -0.0494526   0.04793718\n -0.01293033  0.01320606  0.07640936 -0.03104686 -0.00575764 -0.01226092\n -0.00571673  0.01369137 -0.02991899  0.00492713 -0.02012496 -0.02673468\n  0.02981429 -0.05112869 -0.0224109  -0.04046972  0.02971634  0.02483886\n -0.01347271 -0.00706757  0.02788968  0.02112316 -0.02749871 -0.00061048\n -0.01090217  0.03237901 -0.00289347  0.00259256 -0.04723319 -0.00186144\n -0.02821933  0.0402971  -0.02705678  0.03072956  0.0143195  -0.01580277\n  0.1040592  -0.00685345 -0.05894248 -0.05072188  0.02900587  0.02026286\n  0.02106308 -0.04521549  0.01186392 -0.07483149 -0.01451083 -0.04183433\n  0.05914108 -0.07151143 -0.00940123  0.02714871  0.01107676  0.01382616\n -0.07334506  0.00103656  0.01014531 -0.04636477  0.00345348 -0.07449689\n  0.00454915  0.00096225 -0.0344933  -0.01704007 -0.01543535  0.0034789\n  0.07110251  0.01816228 -0.05786203 -0.01134874 -0.05928886  0.01420005\n -0.07045083 -0.08455998 -0.00192359  0.0100388  -0.09502824 -0.04352419\n  0.05509305  0.04304443  0.01692178 -0.01337769 -0.00376467 -0.03036422\n  0.07586228  0.0662363  -0.01876     0.00684419 -0.12067298  0.03124897\n -0.00274261 -0.06375756  0.03565542  0.01267942  0.00121512  0.09929932\n -0.03453146 -0.01051009 -0.064284    0.00122089 -0.0364977  -0.00900782\n  0.02925025 -0.02410159  0.02050155  0.01710307  0.09871011 -0.01508685\n  0.04270567 -0.04207439 -0.00014086 -0.03492501  0.01376807 -0.05988753\n -0.01292436  0.01366062]",
         " in that crowd of thousands"
        ],
        [
         "1",
         "1",
         "A Rumor in St. Petersburg",
         "the neva flows a new wind blows. and soon it will be spring. . we hear you comrades. the revolution hears you. together we will forge a new russia that will be the envy of all the world. the tsar's st. petersburg is now the people's leningrad. . . they can call it leningrad but it will always be petersburg. . new name same empty stomachs. . . sung. they tell us times are better. well i say they're not. can't cook an empty promise in an empty pot. a brighter day is dawning it's almost at hand. the skies are gray the walls have ears. and he who argues disappears. . . hail our brave new land. . st. petersburg is booming. a city on the rise. . it's really very friendly. . . if you don't mind spies. . . we stand behind our leaders. . . and stand in line for bread. . . we're good and loyal comrades. and our favorite color's red. . . now everyone is equal. professors push the brooms. . . twodozen total strangers live in two small rooms. you hold a revolution. and here's the price you pay. thank goodness for the gossip. . . спасибо за слухи. . . thank goodness for the gossip. that gets us through the day. . hey. have you heard. there's a rumor in st. petersburg. have you heard. what they're saying on the street. . . although the tsar did not survive. one daughter may be still alive. . . the princess anastasia. . . but please do not repeat. . . it's a rumor a legend a mystery. something whispered in an alleyway. or through a crack. it's a rumor that's part of our history. . . they say her royal grandmama will pay a royal sum. . . to someone who can bring the princess back. . . dmitry they've closed another border. . we should've gotten out of russia while we still could. . sung. st. petersburg was lovely when royalty was in. i called myself a count as though i'd always been. i hobnobbed with the royals but then a change of luck. the tsar was dead the royals fled. and comrade now we're stuck. . . vlad i've been thinking about the princess anastasia. . . . oh not you too dmitry. . . it's the rumor the legend the mystery. it's the princess anastasia who will help us fly. you and i friend will go down in history. we'll find a girl to play the part and teach her what to say. dress her up and take her to paris. . . imagine the reward her dear old grandmama would pay. . . who else could pull it off but you and me. . no. . . it was a truck backfiring comrade. that's all it was. . those days are over neighbor against neighbor. there's nothing to be afraid of anymore.nbps. you're shaking. there's a tea shop just steps from here. let me. . . thank you. . . . what's your hurry. . . i can't lose this job. they're not easy to come by. but thank you. . . . i'm here every day. . . a ruble for this painting. it's romanov i swear. . . count yusupov's pajamas comrade. buy the pair. . . i found this in a palace. initialed with an a. it could be anastasia's. now what will someone pay. . . we need something of hers to show the old lady. . how much is that music box. . . ah the music box. it's genuine romanov i could never part with it. . . two cans of beans comrade. . . done. . . . do you believe in fairytales vlad. . . once upon a time i did. . . we're going to create a fairytale the whole world will believe. . sung. now it's risky but not more than usual. we'll need papers we'll need tickets we'll need nerves of steel. . . yes it's risky a lot more than usual. . . we'll try to cross the border with our princess and our plot. . . hopefully disaster won't ensue. . . with luck it all goes smoothly. . . and with luck we won't be shot. . . who else could pull it off but me and you. . . we'll be rich. . . we'll be rich. . . we'll be out. . . we'll be out. . . and st. petersburg will have some more to talk about. . . i heard it from a person i heard it from a person. i heard it from a person who a person who. assured me it was absolutely true. shh. . have you heard. there's a rumor in st. petersburg. have you heard. comrade what do you suppose. . . a fascinating mystery. . . the biggest con in history. . . the princess anastasia. alive or dead. who knows. shh",
         "0.074",
         "0.752",
         "0.174",
         "0.9983",
         "[-1.06800245e-02 -1.14255818e-02  6.57823384e-02 -7.55857443e-03\n  5.79011627e-02 -3.53587529e-04 -6.93794116e-02  6.44827336e-02\n  3.20548750e-02  5.26032969e-02  8.94612260e-03 -2.21960209e-02\n -9.05094203e-03 -2.33478611e-04  7.99261034e-03  9.96828079e-03\n -1.58471894e-02 -5.17374240e-02 -1.44816358e-02 -4.26669195e-02\n -1.09205637e-02  2.65395734e-02 -3.75474542e-02  4.89005819e-02\n -2.69842502e-02 -3.71525250e-02 -1.77378207e-02  7.73717090e-03\n  2.11888440e-02 -3.33797410e-02  5.92528619e-02 -1.83045063e-02\n -1.53139355e-02 -5.51962927e-02 -1.60351545e-02  9.73239727e-03\n  2.89757345e-02  4.54363599e-02 -1.49575332e-02  7.92037845e-02\n -1.16569763e-02 -1.33103337e-02  3.28846127e-02  9.57930684e-02\n -4.58010957e-02 -2.65262686e-02 -5.13716787e-02  1.72163080e-02\n -1.33492332e-02  1.78659912e-02 -1.02571569e-01  5.56595810e-02\n  5.20397164e-03 -2.84861177e-02  5.99694215e-02  3.95996030e-03\n -1.79341808e-02 -5.45138642e-02  3.71815972e-02  2.05633119e-02\n -6.61445083e-03 -3.01469322e-02  1.30925896e-02  9.89787001e-03\n -1.07421847e-02 -4.79468936e-03 -7.04192556e-03  2.23465096e-02\n -2.49071307e-02  3.33044007e-02 -1.38394872e-03 -5.59009649e-02\n  3.15771513e-02 -6.16826862e-02 -1.22308470e-02  4.23119374e-04\n -1.51757924e-02  8.35627376e-04  5.89950308e-02  1.14321709e-03\n  8.48695710e-02 -7.81768560e-02  4.73834900e-03 -4.06464748e-02\n  2.24829428e-02  9.96816996e-03  1.03613604e-02 -1.36904549e-02\n -3.83083196e-03 -4.59857211e-02  5.93252517e-02  8.93366616e-03\n -2.14824267e-02 -4.03137319e-02 -2.61754319e-02  4.90840934e-02\n  3.19464430e-02  4.99641150e-02  1.00963761e-03 -9.25904512e-03\n -1.47486280e-03 -4.94262949e-03 -6.20848164e-02  4.76550534e-02\n -4.41176333e-02 -3.92718092e-02 -6.66541234e-03  9.17521864e-03\n  5.84070338e-03 -2.58592274e-02  2.98932884e-02  4.98725986e-03\n  2.80972905e-02 -1.57005731e-02 -4.77053598e-03  3.01738828e-02\n  2.13741157e-02 -9.26489767e-04  1.54363727e-02 -4.36136946e-02\n  8.02807808e-02 -3.67804919e-03  2.59987898e-02 -6.18042760e-02\n -1.47284865e-02 -3.39698792e-02 -2.58708354e-02 -3.95691358e-02\n -3.78731126e-03 -3.55077125e-02  3.43227871e-02 -5.26474826e-02\n  4.44970615e-02 -3.98780480e-02 -4.58721146e-02 -3.15195648e-04\n -2.85867061e-02 -8.03381484e-03  2.95151733e-02  3.65877524e-02\n -9.24286991e-03  3.17774452e-02  7.40773976e-02 -1.74482085e-03\n -6.91279862e-03  1.38637959e-03 -7.14438735e-03 -8.54667425e-02\n  5.39712235e-02 -2.24157004e-04 -7.67925233e-02  5.85570075e-02\n  3.06969862e-02 -2.37293188e-02  1.88619848e-02  8.47563669e-02\n -3.97695564e-02  3.15341875e-02  8.65331944e-03 -4.53183940e-03\n -1.69506893e-02 -3.72437239e-02  4.37840149e-02  3.14588957e-02\n -2.49185693e-02 -5.86758777e-02  9.45944991e-03  3.47554572e-02\n -6.13030745e-03  3.03580016e-02 -1.95755307e-02 -4.70729591e-03\n  7.54636079e-02 -9.32036899e-03 -5.21756820e-02 -2.04016585e-02\n  3.57230157e-02  3.58250849e-02 -5.46734780e-02  1.47424862e-02\n  5.61736040e-02 -2.96508223e-02 -1.97403375e-02 -2.13436037e-02\n -5.51524349e-02  4.60648164e-02  4.89708781e-02 -6.64683878e-02\n -4.27590832e-02  1.76181160e-02 -7.11663533e-03 -4.04275954e-02\n -1.22193256e-02 -1.20784901e-02 -3.99443060e-02 -4.66285041e-03\n  3.58733572e-02 -3.75137888e-02 -2.65449528e-02 -9.41966008e-03\n  2.73231119e-02 -1.01827167e-01  1.04611311e-02  1.10308174e-02\n -1.72172636e-02  4.24671657e-02  4.38913181e-02  6.27754023e-03\n -2.96713449e-02 -6.08026935e-03  1.18186716e-02  6.71894252e-02\n  3.62166460e-03 -8.18153284e-03 -1.98524632e-02  6.36554360e-02\n -3.08274035e-03  2.33564079e-02  2.66102236e-02  3.75199541e-02\n  1.81035453e-03  1.13355257e-01  2.53151450e-02 -6.68827165e-03\n -7.91218802e-02 -3.29996012e-02  5.68565875e-02 -4.74510118e-02\n  8.70556012e-02 -4.31293957e-02  4.26832102e-02 -2.00453494e-02\n  5.41143632e-03 -6.22521304e-02 -2.28284206e-02 -1.03105335e-02\n  4.55331132e-02  3.18200327e-02 -1.11837238e-02  3.85714066e-03\n  3.84665513e-03 -2.01610457e-02 -7.63206370e-03  3.33135412e-03\n -4.13990840e-02  4.01275083e-02  4.99252183e-03 -7.61181340e-02\n  6.77799433e-02 -3.11984979e-02  1.22670373e-02  4.64552315e-03\n -1.10635674e-02  7.91459978e-02 -2.79852729e-02 -2.33848877e-02\n  6.31168634e-02  4.40593138e-02  3.30274254e-02  1.43300043e-02\n  1.90640260e-02  7.33515341e-03 -2.06422508e-02  8.53974968e-02\n  1.78519413e-02 -2.06254032e-02  1.52997915e-02  2.91259810e-02\n  5.58405109e-02 -1.11389868e-02  2.87080035e-02 -4.71254513e-02\n  9.47650406e-05 -9.88444034e-03 -4.97638918e-02 -1.04554025e-02\n  1.61418002e-02 -2.79051391e-03 -2.18100343e-02  1.54335964e-02\n -2.90311109e-02  1.41261425e-02  4.79347892e-02  2.00754292e-02\n  3.65197435e-02 -2.24406924e-02  2.42692530e-02 -2.05303002e-02\n  3.16813625e-02  1.13801192e-02 -2.30822470e-02  1.04052608e-03\n  6.68225959e-02 -5.81060685e-02 -7.36139715e-02  3.47405337e-02\n  5.46578430e-02  4.07938696e-02 -5.35851950e-03 -4.54882570e-02\n  3.93853709e-02 -5.13319597e-02 -4.17582951e-02 -7.49718305e-03\n -1.81097183e-02 -4.72601093e-02 -1.64129920e-02  5.98099083e-02\n  2.89183781e-02  2.51572225e-02  6.78483546e-02  5.04251756e-03\n  3.09296581e-03 -2.23876722e-02  9.88792777e-02 -1.95886148e-03\n  5.16711781e-03  3.08998339e-02  1.16442777e-02  2.83295568e-02\n  5.02875634e-02  3.81001495e-02 -1.15565676e-02 -4.00012024e-02\n -6.02956675e-02  1.07166590e-02  3.72918919e-02 -7.62125524e-03\n -5.64718060e-03  4.03112620e-02  1.85490623e-02  2.33279634e-02\n  1.68441911e-03  5.50787374e-02 -2.69925725e-02 -6.29930347e-02\n -2.37243995e-03  3.33512425e-02  4.85433042e-02  8.42214748e-03\n -3.90246860e-03  8.66752211e-03  2.69900542e-02  2.40234789e-02\n  6.58790693e-02 -2.20947731e-02  6.08058795e-02  3.56297046e-02\n  8.01751763e-03 -5.85057586e-02 -3.79160047e-02 -2.26720385e-02\n -6.05021529e-02 -2.38978621e-02 -2.85962187e-02 -1.74240340e-02\n -1.92375649e-02  3.73578891e-02  2.25121863e-02  1.31308585e-02\n -2.28571240e-02 -1.39731856e-03  5.08777378e-03 -1.48130124e-02\n -1.95089467e-02  2.69754231e-02  2.52480637e-02 -1.85509790e-02\n  3.22889164e-02  2.20432063e-03 -9.29537788e-03  6.23833127e-02\n  5.63868880e-03  1.14453295e-02 -7.60020036e-03 -6.27704412e-02\n  8.34266562e-03 -1.44131687e-02  6.57337755e-02 -3.58012915e-02\n -4.54358384e-02  8.00398737e-03  7.84197450e-03 -6.30194023e-02\n  2.29759198e-02  4.12496738e-03 -3.82319055e-02  4.47404422e-02\n -3.11483387e-02  3.97036597e-02  8.62451196e-02 -3.15277725e-02\n -2.81550400e-02 -1.42581975e-02 -5.91778234e-02 -4.94980626e-02\n  7.23972991e-02 -6.61788136e-02  1.22782560e-02 -5.46175577e-02\n  2.09030267e-02 -2.20993757e-02 -4.34209220e-03 -1.44932009e-02\n -3.26978862e-02  1.27849113e-02  3.12213879e-02 -4.22763564e-02\n  6.78063137e-03  1.57395040e-03 -2.45638061e-02 -2.36038286e-02\n -3.93488370e-02  1.69933252e-02 -2.97438707e-02  2.50595948e-03\n -5.19940816e-02  2.14416701e-02  2.79928222e-02  9.08716694e-02\n -1.05866650e-02 -2.15241406e-02  1.95907392e-02 -3.13279033e-02\n  1.08506270e-02 -3.40856686e-02  1.26754707e-02  1.98225304e-02\n -7.89971370e-03  3.47046554e-02  1.01974385e-03 -1.77473649e-02\n  1.21395297e-01  4.09974856e-03 -6.97514340e-02  4.79039811e-02\n -2.82220403e-03 -3.95513093e-03 -3.79576534e-02 -1.38316900e-02\n  1.59029802e-03 -1.25988543e-01  4.44203056e-02  2.54828129e-02\n  5.43177128e-02 -5.32655120e-02  2.52887066e-02  6.77812984e-03\n -1.54173933e-02 -1.69830360e-02 -2.15923563e-02  2.48958077e-02\n  1.47718871e-02  4.52055335e-02 -3.12634598e-04 -1.99017581e-04\n -5.09789512e-02 -4.09522280e-02  8.75596609e-03  2.49803755e-02\n  5.47864325e-02 -4.53574903e-04  6.18398339e-02  1.70788970e-02\n  1.42178999e-03  2.46926863e-02 -7.69425184e-02  3.43234837e-02\n -4.82958332e-02  7.15959352e-03 -2.86194286e-03 -3.09281796e-02\n -9.40159038e-02 -3.64943617e-03  3.11631132e-02  1.22243881e-01\n -4.08119261e-02 -2.29241867e-02  2.15518177e-02 -3.56784984e-02\n -1.60475150e-02 -3.19231115e-02 -7.49012008e-02  6.55352743e-03\n -4.94799344e-03  1.38387987e-02 -1.99522339e-02  5.27550988e-02\n  1.64890382e-02 -9.85352919e-02  5.44631761e-03  4.06955741e-02\n  1.20817253e-03  5.71424067e-02  1.90581679e-02  2.33913250e-02\n -4.72269244e-02  3.10260877e-02  1.52138965e-02 -1.65229794e-02\n  8.02162103e-03 -6.28899038e-02 -2.93214358e-02 -3.70759284e-03\n -2.58722273e-03 -2.99095027e-02  7.34923058e-04 -4.29066718e-02\n -5.64987510e-02  2.59678960e-02 -1.86625402e-02  3.62669006e-02]",
         " it's genuine romanov i could never part with it"
        ],
        [
         "2",
         "2",
         "Wake Up",
         "i don't wanna wake up. i want you spread out on the sheets. said pussy so good. uh pussy so sweet uh. i don't wanna wake up. i want it flowin' through my streams. gettin' me hot. under my feet. i don't wanna wake up. . . please don't wake me up i feel it creepin' yeah. controllin' how you movin' lucid dreamin' dreams. always on the side of different seasons yeahyeah. took the beltway down to your hood it's lit. say you was in the crowd i never looked. lookin' back how things came back around guess i was hooked. burn the bread and then we burn the town we both was cooked yeah. nah nah please don't wake me up feel like i'm dreamin'. any given sunday you can get it willie beamen. i can make your mondays even better like the weekend yeah. that's my coco i'm her icet coco yeah yeah. bend her over for some pipin' it's lit. bust a cloud shoot the lightnin' pop it. pop it now know we can't sleep sleep. . . i don't wanna wake up yeah. want you spread out on the sheets it's lit. say pussy so good pop it. oh pussy so sweet yeah. when i wake up yeah yeah. want a drop top on the beach straight up. gettin' me hot yeah yeah. under my feet. when i wake up. . . you decide if i live or die. when you're close i'm alive i can feel the sky. i just want your body close to me oh. and if i o.d. i'll be alone with no heartbeat. i hope they kill us with a ghost in the lambo'. and the doors goin' up suicide. . . i don't wanna wake up i don't wanna wake up. i want you spread out on the sheets want you spread out on the sheets. 'cause that pussy so good pussy so good yeah. girl that pussy so sweet pussy so sweet. i don't wanna wake up i don't wanna wake up. i want it flowin' through my streams want it flowin' through my streams. ha gettin' me hot gettin' me hot. oh under my feet my feet. i don't wanna wake up yeah",
         "0.065",
         "0.699",
         "0.236",
         "0.9953",
         "[ 0.04577305 -0.02060557 -0.02354185 -0.01114511  0.07231209  0.02961944\n -0.00756343  0.00726959 -0.01679818  0.05572087  0.0010634   0.02041252\n -0.00872189  0.0219668  -0.0390501   0.09370101  0.00650129 -0.05573156\n -0.06192283  0.05284123 -0.00642245 -0.03406732  0.01601872  0.05480346\n -0.02492543 -0.05118475 -0.02176262  0.00521904 -0.10096889 -0.02997371\n  0.0651726  -0.07856882 -0.00960357 -0.03079431 -0.0308276   0.00831435\n -0.02988463  0.04064889 -0.00386068 -0.03293322 -0.03740779  0.03854712\n -0.00851161  0.01619816 -0.07983244 -0.03136772  0.01844368  0.01004673\n  0.01021534 -0.03804295 -0.06123665  0.02050437  0.00895038 -0.0155067\n -0.01859184  0.01241555 -0.0276285  -0.02257299  0.04633054  0.02425857\n -0.02266847  0.080492   -0.03730903  0.00248667 -0.01491261  0.04251336\n  0.01581856 -0.02878085  0.05681772  0.03905675  0.01556434 -0.02117098\n  0.03969306 -0.00742111 -0.00376101 -0.0325326  -0.00118457  0.00930516\n  0.00415105 -0.01806127 -0.00555848 -0.08253539  0.06780974 -0.06676938\n  0.00675726  0.06244676  0.07086192 -0.08906294  0.01126352  0.00997929\n  0.00448207 -0.00974581 -0.01076028  0.01975848 -0.05708974  0.0262038\n -0.02416094  0.02850184  0.03790846  0.00364547 -0.05333736 -0.07033337\n -0.00807585  0.02679484  0.01192891 -0.06478679 -0.02134793 -0.0545884\n  0.00162263  0.00326365  0.00430369 -0.00813142  0.0683572  -0.07693884\n -0.06941947  0.05279064 -0.01717027  0.05446432  0.00333776 -0.0413024\n -0.00600788  0.0630381   0.04828277 -0.00225563  0.00124235  0.00026849\n  0.01360648 -0.01584691 -0.00585234 -0.00595167  0.01574178 -0.04082792\n -0.01099639 -0.02556924  0.00917279 -0.01746047 -0.06621227 -0.09709366\n  0.00211001  0.02947193 -0.06309314  0.02555996  0.05162078 -0.03098569\n -0.02061167 -0.00653706  0.04007095 -0.00875759  0.05482368 -0.02034387\n -0.022069    0.05276228 -0.01803998  0.06886183  0.01762233 -0.00863573\n -0.067692   -0.00851305 -0.01714883  0.04765085  0.03088347 -0.04255394\n -0.06838896  0.00666284 -0.03448402 -0.05094781 -0.01370293  0.05077305\n  0.02517666 -0.03623262 -0.02528901  0.0411225   0.05793179  0.03770264\n -0.02727565  0.00309008  0.0206546  -0.02391135  0.01129353  0.01705384\n  0.01810827 -0.00810434  0.00964346 -0.00486689 -0.03400248  0.00749996\n  0.06686363 -0.05518249  0.00278099  0.02893717  0.01092448  0.08502146\n  0.00072787  0.02850982  0.04971436 -0.07255238  0.01368352 -0.03455899\n  0.03223089  0.04368516  0.02444799 -0.14138551  0.02686934 -0.04785419\n -0.01812074 -0.00920355  0.00526923 -0.07026755  0.04203586 -0.08413053\n -0.01342393  0.05935496 -0.03140507  0.02425681 -0.01591023  0.03477355\n -0.02997633  0.01992533  0.02178844 -0.01882342 -0.04008924  0.00486329\n  0.00699047  0.01086029 -0.09183245 -0.06869198  0.0120686   0.0278874\n  0.02960153 -0.04666469  0.04708832  0.0344845  -0.03472787 -0.03552853\n  0.01724685  0.06703408  0.03978892 -0.05310206 -0.04322302  0.012439\n  0.02375667 -0.01955601 -0.08789636  0.01561439 -0.0194848   0.01076912\n  0.02914319 -0.03469312 -0.00660575  0.05760749  0.03756437 -0.04381049\n -0.12338049 -0.03890343  0.0839437  -0.03783932 -0.01060889  0.09946889\n  0.04063697  0.04546703 -0.04796495 -0.01302689 -0.01204187  0.07969952\n -0.03236654 -0.00139701 -0.01809328  0.01825608  0.02080661 -0.04164032\n -0.00982981 -0.04698326  0.04137709 -0.01913274 -0.00660341 -0.02352058\n  0.00493853  0.05582287  0.05357216 -0.03762886  0.01277821  0.04081208\n  0.06703389  0.00048477  0.03182603 -0.00592526 -0.0499395  -0.00400246\n -0.031158    0.00413285 -0.0287324   0.02992086  0.03703788 -0.04378039\n -0.04152537  0.01153575  0.02680534  0.03931807  0.0446587  -0.09729003\n  0.01393656 -0.10077322  0.01729431  0.02666924 -0.02353527  0.00806122\n  0.02810754  0.02402435 -0.01455534  0.0448106   0.03147496  0.03056798\n  0.02584927  0.00214698 -0.00991862  0.01056554 -0.02580434 -0.01420271\n  0.04041402 -0.05173298  0.0237087   0.05416492 -0.02411229  0.00543086\n -0.09625374 -0.01826235  0.01335119 -0.01558307 -0.01547278  0.01481205\n  0.01322351  0.00925466  0.0582136   0.05032539 -0.01732237  0.03144151\n -0.03551615  0.03511849  0.00573277  0.03907175  0.02023629 -0.00115924\n  0.04906725  0.03610588  0.03486518 -0.0278267  -0.04334596 -0.01883206\n  0.00905657 -0.013272   -0.03086502 -0.01265715 -0.03079086 -0.01924132\n -0.05849066 -0.00107082  0.05976269 -0.0781167   0.02827901 -0.04593378\n  0.04909651  0.01745084  0.04169457  0.07702192  0.00974662  0.01897673\n  0.01891873 -0.01113184  0.02026823  0.0361682   0.0040953  -0.0165047\n  0.00828641  0.06020138 -0.02513938 -0.0770157   0.0301265  -0.00067825\n  0.05335888  0.04228728  0.01139412  0.11837612 -0.00817741  0.0033058\n -0.01643364 -0.03112884  0.01556347  0.01280397 -0.01436     0.05648346\n -0.02580314  0.02626748 -0.06304515 -0.05770199 -0.0349417  -0.02471168\n -0.0079102  -0.05098866  0.02459078  0.03192366  0.01124416 -0.01211111\n -0.00109543  0.00087726  0.00638688  0.06640229  0.02419837 -0.03690397\n -0.07558928  0.00955676  0.0268958   0.01362756  0.05888129 -0.02641324\n  0.00487958  0.0368829   0.06344731 -0.02851573  0.05161657  0.00574964\n -0.01817593  0.02599868  0.00335089  0.05737977 -0.05518657  0.04776519\n  0.06750164  0.03860321  0.05750891 -0.06019187 -0.03527856  0.04140519\n  0.07361695 -0.0699382  -0.00132837  0.03253878  0.08139771 -0.05321929\n -0.00324966  0.02048144  0.01256524 -0.10817882 -0.03075148  0.00734801\n  0.06068415 -0.04753031 -0.03974629  0.02099301 -0.00357906  0.01118411\n -0.00713815  0.0697189   0.04207205  0.00353516 -0.00261795 -0.07218148\n -0.03495796 -0.00193924 -0.01428401 -0.01581262 -0.00235366 -0.05700321\n  0.09099998 -0.01922536  0.03927854  0.04034982  0.00687783 -0.03020243\n -0.03792496 -0.04828212 -0.04843126 -0.06093338 -0.02526062  0.0136359\n  0.05348663 -0.00971398  0.00974497  0.04484117  0.0123134  -0.01234682\n  0.01529576 -0.02286161 -0.05135565 -0.00166205  0.08737347 -0.11857468\n -0.06415631 -0.01968301  0.03581978 -0.0806493   0.03071238  0.01045759\n -0.02768049 -0.00400609 -0.00323523 -0.02027122 -0.05775025  0.04779076\n  0.01604156 -0.02301537  0.00913052  0.0692215   0.12823337 -0.00235028\n -0.07719395 -0.01155397  0.07855296 -0.02596364  0.05895644 -0.02105227\n -0.0226768  -0.03529499]",
         " i don't wanna wake up"
        ],
        [
         "3",
         "3",
         "No",
         "my mind is invaded. my gates are ignored. my thoughts are negated. and you're on a roll. . . and i am offended. by your acts of shamelessness. your lack of conscience. and your flagrant steamroll. what part of no do you not understand. do you not understand. . . what part of no do you not understand. do you not understand. . . my sorrow is left off. my rages discounted. . . my fears are founded. this dam is no more. . . what part of no do you not understand. do you not understand. what part of no do you not understand. do you not understand. don't touch me. my body is frozen. thanks to you. and i've sat with these secrets. i'm no longer willing to. what part of no do you not understand. do you not understand. what part of no do you not understand. do you not understand. . . it's easy not to. . . what goes around so much easier not to. to you.... wake up. . what part of no. do you not understand",
         "0.192",
         "0.756",
         "0.052",
         "-0.9688",
         "[-8.55144300e-03 -4.31204736e-02 -2.32327748e-02  1.71202589e-02\n  1.39275491e-02 -1.71103794e-02 -7.41098495e-03 -1.98957920e-02\n -2.82955095e-02 -2.46262760e-03 -5.37202656e-02  4.18314449e-02\n -2.82656122e-02  8.58557131e-03 -5.17274290e-02  1.70238651e-02\n  4.68215980e-02 -5.66323847e-02 -4.15223278e-02  3.01076914e-03\n  5.04358392e-03 -2.95363786e-03 -2.81763840e-02  1.00531869e-01\n -4.53916751e-03 -4.62946808e-03  1.06418366e-02  2.49846559e-02\n -4.82752360e-03  2.06475370e-02  2.85648908e-02 -5.81066832e-02\n -3.76407355e-02 -1.31807020e-02 -8.94642100e-02  6.81679770e-02\n -3.19843367e-02  1.52761079e-02  4.80356254e-02  1.77866947e-02\n -1.35725550e-02 -3.82912569e-02  4.76341359e-02 -8.40774179e-02\n  4.50097071e-03  4.43009213e-02  5.79505228e-02 -1.19451582e-02\n  2.33660396e-02  3.66413780e-02 -7.95460716e-02  1.24036036e-02\n  4.58831899e-03 -5.70024131e-03  5.60884587e-02  2.48513892e-02\n -7.05995783e-03  3.42669301e-02  1.33446297e-02  3.07486858e-02\n -7.66160265e-02  3.15519460e-02  3.58417220e-02  2.35490445e-02\n -1.80119853e-02  4.47039306e-02  8.51099342e-02 -2.72931084e-02\n  4.60943282e-02 -2.10072398e-02  3.52938101e-02  1.01336110e-02\n  4.92821410e-02 -3.54401581e-02  5.21149151e-02 -3.16719860e-02\n  2.62905043e-02  7.42462203e-02 -4.84133288e-02 -5.44132181e-02\n  2.24942435e-02 -7.63316154e-02  1.53326653e-02  1.97112357e-04\n  1.25004470e-01  1.13055259e-01 -4.48250212e-02 -4.53646518e-02\n  5.12095802e-02 -4.18155603e-02  6.21742336e-03  5.86777413e-03\n  2.77032983e-02  2.45282729e-03 -3.19653749e-02  5.47813950e-03\n  8.51201564e-02  2.45298855e-02  5.62633201e-02 -1.48132313e-02\n -2.65713744e-02  3.47930454e-02 -7.42742792e-02  1.63388140e-02\n  2.97870394e-02 -3.46706100e-02  4.62159887e-02 -4.30437699e-02\n -7.75687844e-02  4.00176570e-02  1.52118122e-02  1.65877678e-02\n -9.36925877e-03  3.54247801e-02 -1.09137595e-01  1.88341714e-03\n -1.11144315e-02 -1.55727929e-02  4.20684628e-02  2.16692146e-02\n -9.31735337e-03  2.80042887e-02 -1.41364085e-02  1.23413317e-02\n -6.75684884e-02 -6.34498009e-03 -2.55893543e-02 -1.42763853e-02\n -6.24939427e-02  6.15618303e-02 -1.19032487e-02  1.18314493e-02\n -2.44338755e-02 -2.51616854e-02  3.62689160e-02  3.23298723e-02\n -4.69965395e-03  5.00245355e-02 -4.37619723e-02  2.97571607e-02\n -2.03010757e-02 -3.02326623e-02  5.48205525e-02  5.55188879e-02\n -4.91316505e-02 -2.49305479e-02 -6.50147423e-02  2.61624381e-02\n -1.77218858e-02 -1.62554272e-02  2.23918748e-03  7.18536824e-02\n -4.95568253e-02 -4.33265455e-02  9.13545024e-03  1.56393033e-02\n  2.36164071e-02  7.83999860e-02 -3.62967066e-02  1.32497624e-02\n -4.55355924e-03 -1.14055900e-02 -1.45310042e-02 -1.49523579e-02\n  2.99670324e-02  4.43110679e-04 -5.89946508e-02  3.85823585e-02\n -4.23008725e-02  1.91670395e-02  1.65090170e-02  3.29179093e-02\n  1.17895911e-02  4.46708649e-02 -6.36211336e-02  8.04460980e-03\n  4.84337062e-02 -6.54611066e-02  2.28218865e-02  4.20640446e-02\n -1.63705777e-02 -3.93551216e-02  2.62328759e-02 -5.97895086e-02\n -5.39247058e-02 -2.64143851e-02 -3.00605260e-02 -3.35617140e-02\n -7.95322657e-03  4.36541028e-02 -3.10199670e-02  4.89812717e-03\n  3.80034186e-02  2.81290505e-02  6.50131563e-03 -4.86717373e-02\n  3.06163691e-02 -3.48952110e-03  1.86928213e-02  9.48915631e-03\n  3.65801640e-02 -1.25485182e-01 -1.76304504e-02  4.69333492e-02\n  7.71750882e-02 -4.91078570e-03 -4.35150377e-02  9.14441515e-03\n -1.66379493e-02  6.01165891e-02 -2.89420951e-02  1.12852156e-02\n -4.25730906e-02 -2.25281958e-02 -2.40086727e-02  2.79013813e-02\n -3.59635614e-02 -5.49701217e-04  4.75271605e-02  3.03911027e-02\n  2.12755445e-02  3.80731747e-03  2.39763651e-02 -3.50332484e-02\n -1.17492743e-01 -7.79228611e-03  4.84119244e-02 -3.88359167e-02\n  4.70669568e-02 -6.56559616e-02  2.94781290e-02 -2.67918054e-02\n -1.47118038e-02 -5.02088433e-03  2.65522189e-02 -2.38777716e-02\n  9.05301515e-03 -3.76957445e-03 -3.49682383e-02  3.44643965e-02\n -6.57531396e-02 -2.28380002e-02  2.13550776e-03  1.19301807e-02\n  3.07838470e-02  1.01637885e-01  4.84191254e-02 -2.93289796e-02\n -5.91663597e-03 -1.35233058e-02 -6.06756322e-02 -7.72012398e-02\n -5.16633829e-03  6.98288437e-03  5.45817278e-02 -5.16567305e-02\n  1.37750972e-02  2.66862586e-02  5.31398468e-02  1.21204043e-02\n -2.23824065e-02  2.63617262e-02 -4.07508388e-02  3.42103355e-02\n -1.71539616e-02  7.05441013e-02  3.66299832e-03 -4.90729883e-02\n -2.38241218e-02 -3.79732400e-02  3.47949564e-02 -3.26399878e-02\n  5.15250564e-02 -3.44455540e-02  4.13765907e-02 -2.12705368e-03\n -1.28477616e-02  3.93168405e-02  3.65204401e-02  1.16901537e-02\n  1.08873630e-02  3.32085276e-03  5.46744913e-02  1.62415709e-02\n  1.74176954e-02  3.89480940e-03 -5.21929469e-03 -2.06631795e-02\n -2.33391784e-02  1.16735063e-02  3.21892910e-02 -3.23276408e-02\n -7.28404596e-02 -1.60754435e-02 -5.81112243e-02  3.77871911e-03\n  1.86504144e-02 -5.03950752e-03  5.61503693e-02 -8.77604932e-02\n -5.41334646e-03 -5.68490382e-03 -5.74767180e-02  2.65003312e-02\n -1.79478992e-02 -1.31597545e-03 -6.30981252e-02 -1.45711303e-02\n  1.50357056e-02 -1.62231643e-02  9.32080671e-02  3.34053710e-02\n  2.63930624e-03  3.90105546e-02  2.09221337e-02  5.61011024e-03\n  5.21642808e-03  1.89312885e-03 -7.67803118e-02  4.09546159e-02\n -1.73120461e-02  7.63486624e-02 -1.28625184e-02  2.03966014e-02\n -1.10879324e-01  2.15264242e-02  1.27695845e-02 -4.82403120e-04\n -8.04455578e-03 -4.50270250e-02  3.83412070e-03 -1.30495215e-02\n -9.70173907e-03  2.68278159e-02 -7.32087623e-03  6.62766024e-03\n  2.05911919e-02  7.05423206e-02  1.53236482e-02  5.89113273e-02\n -5.56083359e-02 -6.76131099e-02  2.69806236e-02  4.54967842e-02\n  3.94790024e-02  1.87103674e-02 -4.11138050e-02 -6.33299071e-03\n  6.91940337e-02 -3.53738889e-02 -4.54203635e-02 -5.90798184e-02\n -1.50194159e-02  3.12249903e-02  2.66311131e-02 -1.39447162e-02\n  2.40832940e-03 -2.94687636e-02  5.93167245e-02 -2.08603926e-02\n -1.13103306e-04  6.80527743e-03  2.40833517e-02 -8.52904655e-03\n -7.64183374e-03  1.32553633e-02  3.31391096e-02  2.95648109e-02\n -5.81157673e-03 -7.10759824e-03 -7.81884342e-02  1.14050293e-02\n -3.17196436e-02  2.36643921e-03 -2.32358482e-02 -5.51304221e-02\n -6.43057078e-02 -2.70333551e-02  1.14756353e-01  3.96497399e-02\n  1.02444915e-02  5.57580255e-02 -1.47230420e-02  5.10650836e-02\n  6.74195215e-02 -2.33410485e-02 -1.15333982e-02  1.24070402e-02\n -6.23125536e-03  6.76121004e-03 -2.11436693e-02  2.27019656e-04\n -5.32635767e-03 -8.19628239e-02  6.15336858e-02  2.21430808e-02\n  7.36964270e-02 -4.00795043e-03  7.23695382e-02 -6.12601526e-02\n  3.92538942e-02 -6.37404546e-02 -5.21391630e-02 -6.78306492e-03\n -5.04119433e-02  1.28094535e-02  3.66962664e-02  2.08684392e-02\n -5.29432343e-03  3.84241231e-02 -8.01866967e-03  3.38869542e-02\n -2.39120424e-02  5.23151644e-03  3.04077473e-03  1.78005304e-02\n  1.78255346e-02  3.37993652e-02 -5.44725172e-02 -1.60084292e-02\n -3.79007496e-02 -2.57270131e-02  2.12770849e-02  3.73331904e-02\n -2.96065807e-02  1.14974417e-02  4.13315222e-02 -8.18330969e-04\n  7.00512305e-02 -3.95363532e-02  2.00763997e-02  1.66687388e-02\n  3.31085213e-02 -2.72793937e-02 -7.31265452e-03  6.11170977e-02\n  6.92091300e-04  1.53224468e-02  1.76045801e-02  3.06355637e-02\n  9.17750504e-03 -9.61341187e-02 -7.52120167e-02  1.64641757e-02\n  2.61671916e-02  3.48377861e-02 -3.02819312e-02 -6.20279312e-02\n  2.15964578e-02 -3.24053951e-02 -2.33968589e-02 -5.34147657e-02\n  6.10236600e-02  2.73259971e-02  8.77740048e-03 -2.09988039e-02\n  8.64173193e-03  3.39962840e-02 -3.90541889e-02  4.95435391e-03\n -4.06006575e-02 -2.52333451e-02 -1.05494363e-02  7.70776719e-02\n  2.48243730e-03  1.88604053e-02 -7.80731738e-02 -3.90016325e-02\n  1.64880436e-02 -1.08646989e-01 -2.91234087e-02  5.01478836e-02\n -9.25010890e-02  6.02697302e-03  6.76351879e-03  7.38702156e-03\n -6.19239814e-04  5.65270893e-02  1.46905100e-02 -2.84941904e-02\n -2.05884688e-03  2.10527610e-03 -5.63824512e-02  1.79372840e-02\n -8.58359877e-03 -2.99421381e-02 -4.13930640e-02  8.65176022e-02\n  4.66802828e-02  1.49613814e-02  6.34200200e-02  2.09277309e-02\n -8.32746252e-02  6.48449510e-02 -4.29743640e-02  5.65107763e-02\n -1.46545051e-02  4.18934375e-02  1.96521878e-02 -1.30445594e-02\n  3.78055274e-02  1.83833409e-02  1.28411010e-01 -1.09482100e-02\n  1.70586705e-02 -5.01486957e-02  5.26392087e-03  2.93199625e-02\n -4.22937870e-02 -7.83359930e-02 -7.47289211e-02 -8.91826488e-03]",
         " do you not understand"
        ],
        [
         "4",
         "4",
         "Perfect",
         "sometimes is never quite enough. if you're flawless then you'll win my love. don't forget to win first place. don't forget to keep that smile on your face. . how long before you screw it up. and how many times do i have to tell you to hurry up. with everything i do for you. the least you can do is keep quiet. . be a good boy. you've got to try a little harder. that simply wasn't good enough. to make us proud. . i'll live through you. i'll make you what i never was. if you're the best then maybe so am i. compared to him compared to her. i'm doing this for your own damn good. you'll make up for what i blew. what's the problem why are you crying. . be a good boy. push a little farther now. that wasn't fast enough. to make us happy. we'll love you just the way you are. if you're perfect",
         "0.052",
         "0.679",
         "0.269",
         "0.9915",
         "[-4.47471291e-02 -1.10161980e-03 -6.10346608e-02 -1.99678522e-02\n  1.22998282e-01  9.89886466e-03 -2.20208447e-02 -2.05415152e-02\n  2.72266641e-02  1.31823001e-02  3.26824328e-03  4.19338718e-02\n  2.85632573e-02  2.72710752e-02  1.00795841e-02  1.98975634e-02\n  1.38110248e-02 -3.48392408e-03 -2.18729321e-02  1.07716797e-02\n -8.78481492e-02  8.88367668e-02  3.13513465e-02  7.43550947e-03\n -3.77501734e-02  2.87784059e-02  1.73264258e-02  4.95508611e-02\n  1.44326389e-02  6.16924092e-03  2.37576328e-02 -6.62324727e-02\n -6.74314564e-03 -9.17903986e-03  2.44811475e-02  6.51956256e-03\n  2.48532277e-02 -1.31450186e-03  3.62879969e-02 -3.97194363e-02\n -3.37751657e-02 -2.38637310e-02 -7.73048773e-03 -2.01727655e-02\n  2.72148475e-02 -6.57725800e-03 -2.42897402e-02 -9.16064717e-03\n -1.71152838e-02  7.66138546e-05 -5.45695536e-02  5.51793305e-03\n  3.15554515e-02 -2.52225939e-02  7.99542367e-02 -2.65215132e-02\n  2.24057958e-02 -6.16195658e-03  3.27478312e-02 -1.33209527e-02\n -6.90626912e-03 -1.19885067e-02  2.54849438e-02 -3.12919095e-02\n -5.85616007e-02 -9.54481028e-03 -4.70796488e-02  2.14109421e-02\n  2.08259374e-02  2.54505165e-02 -2.59993020e-02  2.26919577e-02\n -1.03310300e-02  4.04594205e-02  2.12729890e-02  3.11884023e-02\n -8.32314864e-02 -4.28111516e-02 -8.97569209e-03 -4.87221032e-02\n -2.55630482e-02 -6.36568889e-02  4.30714712e-02 -2.59182620e-04\n -4.73622158e-02  2.30052248e-02 -9.28895269e-03  3.04260012e-03\n -2.62241121e-02  5.02937548e-02  2.32682396e-02 -4.83501442e-02\n  2.88839769e-02 -4.41328771e-02 -3.50535698e-02 -5.62545517e-03\n -1.14161577e-02  9.16081946e-03  2.13989224e-02 -3.24326307e-02\n -5.64223249e-03 -2.07904670e-02  3.01884785e-02  3.57863829e-02\n -1.04176002e-02 -2.59329882e-02  4.35990840e-02 -3.53001989e-02\n -3.33511643e-03 -1.23779883e-03 -1.87545922e-02  1.44294640e-02\n  9.76642966e-02 -2.03886554e-02 -9.99670848e-03 -6.63502794e-03\n -1.78846307e-02  8.82636104e-03  1.29993390e-02  3.78619917e-02\n -1.86608788e-02  5.51656000e-02  9.02939364e-02 -3.52667756e-02\n  5.31203672e-02 -5.72238769e-03  2.78111803e-03 -5.96762495e-03\n  2.07645614e-02  5.67808598e-02 -4.24317867e-02 -2.53257379e-02\n  8.65002647e-02  3.66572663e-02  3.71031761e-02 -4.29167002e-02\n -4.72861603e-02 -5.72068663e-03 -5.19089177e-02  5.40179526e-03\n -5.45019209e-02 -7.29390606e-02 -4.43341583e-02 -3.12321614e-02\n -6.33726455e-03  1.39586339e-02  1.97158381e-03 -3.00435461e-02\n  4.75486591e-02  6.49596564e-03  1.83484294e-02  3.64792608e-02\n -7.28556002e-03 -3.68113406e-02 -6.14727894e-03 -8.71667638e-03\n  3.79971862e-02 -1.21042533e-02  8.97127297e-03  2.60606091e-02\n -1.83446314e-02 -3.43281180e-02  1.25128701e-02 -1.20168775e-02\n  1.00109531e-02 -1.59403849e-02 -4.13297452e-02  5.04137948e-02\n -2.22503766e-02  5.92106674e-03 -3.39091532e-02  5.21541983e-02\n  7.31172115e-02 -2.72499900e-02  2.69240420e-02  3.14854234e-02\n  1.86759513e-02  1.49200350e-04  3.12943533e-02  2.27808394e-02\n  7.14798048e-02 -2.31368449e-02 -4.25013341e-02 -3.00727729e-02\n  1.15211448e-02  2.52813771e-02  3.44386660e-02  4.35922332e-02\n  1.09062176e-02  6.53305501e-02 -5.93785709e-03 -3.00001241e-02\n -1.69962179e-02  4.46729846e-02  6.13517277e-02  3.27478647e-02\n  1.30601460e-03 -5.39449714e-02  9.89029463e-03 -7.49637606e-03\n -4.01685052e-02 -1.40730962e-01  6.36089593e-02  1.39123946e-02\n  7.52185583e-02  2.77485065e-02  4.28849794e-02 -2.17984263e-02\n  5.63567504e-02  4.02425453e-02 -3.07803452e-02  3.46405581e-02\n -2.70642266e-02  9.30519626e-02 -1.24541400e-02  5.24461716e-02\n -2.69332435e-02 -4.79951464e-02 -8.99412036e-02  1.68320686e-02\n -5.38560078e-02  9.10681561e-02  1.24180885e-02 -2.72571295e-03\n -3.74641344e-02 -2.16518361e-02 -1.17592346e-02  5.10592274e-02\n  2.80134846e-04  4.22666501e-03  1.90974921e-02 -2.16355245e-03\n  3.53993289e-02 -5.20569235e-02  2.08064038e-02  7.31028966e-04\n  2.94589046e-02  1.22054657e-02 -3.47331166e-02  6.59662336e-02\n -1.64597500e-02 -2.05767378e-02  2.65339706e-02  3.19059789e-02\n -6.11831509e-02 -2.09176075e-02 -2.96911839e-02 -4.29793075e-02\n  8.05030465e-02  3.21260020e-02 -3.19797248e-02 -1.70364082e-02\n  2.40424033e-02  1.16713764e-02  8.12174752e-03 -5.83371148e-02\n -4.14928980e-03 -3.48132886e-02  1.30322529e-03  5.52662537e-02\n -3.72427478e-02  3.59560028e-02  2.52389489e-03  3.82108008e-03\n  2.19680518e-02  8.51094350e-03  1.54857514e-02  6.43709442e-03\n -1.48240281e-02 -5.62170371e-02 -1.34236980e-02 -6.73752725e-02\n  2.28027944e-02 -2.92102937e-02 -3.96654084e-02  8.54362845e-02\n -7.17196497e-04  3.12347990e-02  7.00890198e-02 -3.49207968e-02\n  2.67034420e-03  4.00993563e-02  3.74238417e-02 -3.24616097e-02\n  4.71026972e-02  9.87645239e-03  3.10440119e-02  3.52337700e-03\n  4.08078748e-04 -1.92568991e-02 -1.59363858e-02  2.70113125e-02\n  8.64408165e-02  5.75254075e-02 -6.70121387e-02  8.97575468e-02\n -3.91430641e-03 -2.88516120e-03  1.01832626e-02 -1.16843641e-01\n  9.91526153e-03 -5.30391783e-02 -2.75467299e-02  1.40331639e-02\n -1.99943166e-02  1.99206267e-02 -4.76958789e-03  3.76409627e-02\n  1.90622285e-02 -7.38960924e-03  1.01629585e-01 -8.50624219e-02\n  2.86777057e-02  3.90821584e-02  2.43780557e-02 -6.51044995e-02\n  7.27638137e-03  3.48714329e-02 -4.80328202e-02  2.37000231e-02\n  3.84838954e-02  1.59549396e-02 -2.55410932e-02 -4.24552560e-02\n -3.33794877e-02 -2.58601899e-03  5.60378395e-02 -6.20267838e-02\n  3.90960909e-02  2.16070563e-02 -2.49237455e-02  7.01739490e-02\n  4.90073934e-02  5.35851046e-02  8.18370469e-03 -3.72011401e-02\n  7.95962382e-03 -2.21576970e-02  5.24576800e-03 -2.93274876e-02\n  1.92201361e-02  2.17409208e-02  2.90829763e-02  1.86584853e-02\n  3.36742699e-02  2.57589333e-02 -6.59171194e-02  1.19432798e-02\n  4.08623889e-02  2.29679067e-02  5.19520091e-03 -7.69911185e-02\n -9.35558826e-02  2.72237957e-02 -1.82850510e-02 -2.04833085e-03\n  7.72443321e-03  2.82494277e-02 -2.28301026e-02 -8.04436859e-05\n  2.00895183e-02  9.49684251e-03 -3.86489253e-03 -5.21328412e-02\n -4.50947843e-02  2.83777365e-03 -2.11533792e-02  1.21575212e-02\n -6.28402084e-02  2.74156872e-02 -4.76142801e-02  4.05240804e-02\n -3.00726313e-02  2.06795242e-02  1.32633811e-02 -3.73390852e-03\n -8.88984744e-03 -2.90017147e-02  4.25063223e-02  1.72185376e-02\n -2.74091642e-02  7.31156468e-02 -8.92096944e-03 -2.32502930e-02\n  9.97965187e-02 -2.26603076e-02  2.13474985e-02  4.46729138e-02\n -2.40019970e-02 -2.08025742e-02  5.26283309e-03 -2.26550288e-02\n -3.20467018e-02  4.96661328e-02 -3.18274014e-02  4.29926850e-02\n  2.57247146e-02 -1.15993274e-02 -6.51204085e-04 -2.43967250e-02\n -6.15960397e-02  1.07489126e-02  1.69783812e-02  7.43257925e-02\n  3.45113804e-03 -2.53875125e-02 -7.45634083e-03 -2.99718115e-03\n -2.42356118e-03  1.72612406e-02 -2.86148619e-02  5.68411313e-02\n -5.31029552e-02  4.37989198e-02  4.23982143e-02  1.02948463e-02\n  2.93691885e-02 -6.53425790e-03  6.90417960e-02 -1.87488906e-02\n  4.36325418e-03 -2.61689071e-04 -8.09233729e-03  3.30598354e-02\n  4.91291331e-03 -6.12963438e-02 -2.15342129e-03 -1.33043639e-02\n -1.67241190e-02 -5.50455377e-02  2.77926642e-02 -4.85991035e-03\n  2.84903590e-02  2.93513294e-02 -2.00804393e-03 -3.55334207e-02\n  6.65841624e-02  2.81713647e-03 -1.11887837e-02 -1.21115539e-02\n -3.14669684e-04 -9.92308632e-02  2.67494749e-02 -9.46983993e-02\n -4.94851246e-02  2.01427210e-02 -6.95936829e-02 -5.74288405e-02\n -5.13429567e-03  2.82974523e-02  8.01361054e-02  3.20185139e-03\n  3.44825238e-02  1.32218879e-02  5.47371171e-02 -6.24133199e-02\n  3.01417802e-02  3.21777612e-02  2.41065919e-02  3.67271937e-02\n  2.07700068e-04  2.45490074e-02  7.87050873e-02  3.90347838e-02\n -6.22271411e-02  4.34832238e-02 -2.91767344e-02 -9.93859768e-02\n  2.86285412e-02 -3.00609283e-02 -4.47571278e-02 -3.27544995e-02\n -1.00613780e-01 -2.85096990e-04 -1.99692827e-02 -1.03095323e-02\n -6.01572059e-02  4.69712280e-02  1.09101376e-02  1.17336847e-02\n  4.63581132e-03  5.95236868e-02 -8.79223496e-02  2.40939651e-02\n  2.64878813e-02 -6.31713420e-02  2.18000468e-02  7.39334673e-02\n -3.63204516e-02  6.61176979e-04  6.08758293e-02  2.33327737e-03\n -1.61575479e-03 -2.83383019e-02  4.43223156e-02 -4.78106597e-03\n  1.93668529e-02  5.64718805e-02  1.07463002e-02  4.46308375e-04\n -1.94620006e-02 -6.08347207e-02  2.41969153e-03 -4.26318869e-02\n  3.34454700e-02 -5.27250655e-02  3.60591300e-02 -1.34960199e-02\n -2.68123224e-02 -3.30127999e-02 -1.83587763e-02 -7.04873935e-04]",
         " that wasn't fast enough"
        ],
        [
         "5",
         "5",
         "You Shine",
         "mmy spoken. now ive just pulled up in my dads car. mimics breaks squealing and a horn honking. and youre in your pink dress. . sue spoken. blue. . tommy spoken. oooh you always look great in blue. and im wearing my rental tux looking like a total dork. the whole things kinda cheesy but nice. then you drag me onto the dance floor and of course i hate dancing but its the last dance of senior year. and im with the most incredible person i know. . sue spoken. me yeah right. all i do lately is mess up. . tommy spoken. i mean it you dont give yourself enough credit. . tommy. if you could see the. way that you look to me. i bet that you'd be amazed at the sight. you'd see a heart that's. fearless and true. from my point of view. oh you shine. . sue spoken. what about you why is everything so easy for you. . tommy spoken. man if you only knew. half the time i'm just faking it hoping that no one will discover i'm a complete fraud. . sue. i think you hide so much you feel inside. but i know deep down there's. a fire burning bright. from where you stand. it might not be clear. but you shine from here. . both. no doubts no more fears. i see you shine and the dark disappears. . tommy. then i know everything is gonna be fine. because you shine oh how you shine. you shine. . sue spoken. what a surprise gazing into your eyes. i swear that i still. get lost in the light. no photograph could possibly show. the you i know. . both. no doubts no more fears. i see you shine and the dark disappears. i'll be your mirror and you can be mine. look to me and you'll see. just how you shine. . tommy spoken. oh damn i have to go pick up my tux before they close. . sue spoken. tommy thank you. . tommy spoken. i love you. . sue spoken. i love you. he'd never said that before. that's what i remember. most about that day. . sue. no doubts no more fears. i see you shine and the dark disappears. then i know everything is gonna be fine. because you're mine. you shine",
         "0.204",
         "0.67",
         "0.125",
         "-0.985",
         "[-1.11911334e-02  1.47224097e-02 -1.60330385e-02  1.90138351e-04\n  5.19243032e-02  7.20567210e-03 -1.36429388e-02 -8.74423329e-03\n  1.20291775e-02  4.71347757e-02 -5.94085790e-02  1.15006324e-03\n  1.98236816e-02 -1.92944531e-03  1.92292798e-02  5.92092276e-02\n  2.10152362e-02 -9.86977364e-04  3.59297134e-02  6.23388141e-02\n -4.85679135e-02 -1.71318017e-02  2.51855403e-02  5.21683954e-02\n -5.36699593e-03 -1.88989788e-02 -1.20605659e-02 -8.88942648e-03\n -4.70304191e-02 -2.54523172e-03  7.95184523e-02  4.05080467e-02\n -3.58874239e-02 -1.31404195e-02 -4.89713810e-02  3.97425285e-03\n  6.94436878e-02 -2.42439862e-02  1.00774476e-02 -4.00062650e-02\n  5.61130513e-03 -2.83493078e-03 -3.79045792e-02  2.72832885e-02\n -4.60117171e-03  4.28805798e-02  5.92705235e-02 -3.51548172e-03\n  1.06024789e-02 -1.09849870e-03 -5.25766937e-03 -5.29399142e-02\n -1.64664071e-02 -2.95871384e-02  7.18324780e-02 -1.19588235e-02\n -5.13705388e-02 -3.67491506e-02  2.03284118e-02  4.19791490e-02\n  1.75532501e-03  2.92978287e-02 -3.19771580e-02 -2.79783662e-02\n -1.85332764e-02  4.51982282e-02 -2.76323780e-03 -2.48524453e-02\n  7.24029727e-03  1.21738464e-02  8.03501625e-03 -6.86716735e-02\n -4.02856320e-02 -1.80407949e-02  4.46130894e-03  2.16268431e-02\n -5.80974929e-02 -4.10321541e-02 -7.62581974e-02 -3.15385200e-02\n -6.89798733e-03 -5.74084632e-02 -3.13358270e-02  2.03340575e-02\n  8.70705210e-03  6.91899136e-02  1.37309879e-02  1.01796519e-02\n -4.79779430e-02  7.00256079e-02  3.32282819e-02 -3.59182507e-02\n  3.64363231e-02 -1.69662386e-02 -1.46489451e-02  2.46896371e-02\n  2.31531411e-02  1.34104669e-01  1.33712683e-02 -2.23020203e-02\n  2.39200667e-02  6.21021725e-02 -1.83531977e-02 -4.29921933e-02\n  1.84591319e-02 -1.08181126e-01  6.68497640e-04 -5.25444299e-02\n  5.35394363e-02  2.28099171e-02  1.81372389e-02 -5.49258338e-03\n  7.77791962e-02  6.93299100e-02 -7.91187733e-02 -9.65507887e-03\n  2.79760882e-02 -5.51824048e-02  1.27810193e-02 -2.54592532e-03\n  1.84619762e-02 -3.58546227e-02  3.96266440e-03 -2.41895206e-02\n -1.73763055e-02 -1.88095234e-02 -1.51224667e-03 -5.97934388e-02\n  2.45237947e-02 -1.81043539e-02  2.07515229e-02 -1.45842787e-02\n -1.01507390e-02  1.54566001e-02 -5.14329933e-02  1.88808367e-02\n -1.53499749e-02 -4.56492156e-02 -1.20133068e-02  3.73231396e-02\n -2.18111873e-02 -4.02215868e-02  3.27670574e-02  3.97409089e-02\n  6.98547903e-03  1.20917205e-02  4.24189568e-02  2.53033638e-02\n  7.88579881e-02 -3.20738517e-02  1.13943294e-02  9.02158245e-02\n -2.20879186e-02 -3.97327691e-02  7.93066844e-02  2.37878598e-02\n  1.60708409e-02 -1.60666388e-02 -3.32308412e-02 -1.25168664e-02\n  9.21372324e-03 -9.95533634e-03  3.09032761e-02  1.10130208e-02\n  3.79417390e-02 -5.78617416e-02  9.44087934e-03  5.17502353e-02\n -1.18622212e-02  3.19040492e-02 -2.08606217e-02  2.02472173e-02\n  7.99576640e-02  4.66475412e-02 -4.42798473e-02  1.27595360e-03\n  4.56680879e-02  7.33980536e-03 -3.32636796e-02 -1.16609419e-02\n  4.67363745e-02 -2.45117880e-02 -2.64854692e-02 -4.94108256e-03\n -1.24093220e-02  1.35608530e-02 -8.34652316e-03 -4.56672050e-02\n -8.77529941e-03  5.57012931e-02 -6.99554905e-02 -1.94527097e-02\n -1.70918852e-02  2.16822643e-02  7.07492977e-02 -6.27529845e-02\n -5.85429464e-03 -7.21037909e-02 -1.63173415e-02  5.31065539e-02\n -1.68884452e-02 -1.05728783e-01 -4.70965728e-02 -2.56105121e-02\n  4.48083170e-02 -3.89581658e-02 -1.36248758e-02  3.79423872e-02\n  4.45602834e-02 -4.95981518e-03 -8.85682181e-03 -2.64760968e-03\n -1.60342958e-02  8.64262972e-03 -2.54889019e-02  6.18667565e-02\n -1.88891478e-02 -2.50404887e-02 -3.62064987e-02 -8.35879985e-03\n -5.05199097e-03 -2.24382300e-02 -9.64356121e-03  3.78577001e-02\n -6.42451923e-03  3.04690842e-02 -3.37014608e-02 -2.12916732e-02\n  5.23991957e-02  3.56651321e-02  5.14534824e-02 -4.94585633e-02\n  1.03606051e-02 -2.36588567e-02 -5.25498530e-03  9.79180634e-02\n  2.08763536e-02 -1.61325280e-02 -4.35420033e-03 -4.18235511e-02\n  5.47472527e-03  4.09185998e-02  6.39147907e-02  3.38457618e-03\n  3.74021269e-02  5.22450358e-03  8.33177939e-03 -4.26972061e-02\n -1.53348548e-02  1.56078869e-02  1.20029068e-02 -1.69171896e-02\n  2.74159554e-02  2.99670026e-02  5.35574742e-02 -4.45122272e-02\n  4.64973822e-02  3.74430753e-02  1.31454505e-02  1.05495844e-02\n -6.63014129e-02  5.50534762e-03  6.85553849e-02  2.63330918e-02\n -6.30105808e-02 -1.47684086e-02 -4.56043333e-02  2.59790476e-02\n -3.11091952e-02 -1.26337111e-02 -1.48425894e-02 -6.13928167e-03\n  5.46967909e-02 -3.86050381e-02 -1.67790130e-02 -3.29808667e-02\n -9.52520594e-03  1.43390642e-02  3.87478843e-02  3.89819257e-02\n -4.18982236e-05 -4.03899979e-03  2.45281179e-02  1.10545093e-02\n  6.61194995e-02 -1.11980001e-02  7.37374602e-03  1.76166426e-02\n -1.14191324e-02  4.09169085e-02  1.03990566e-02  3.62918191e-02\n  6.79058209e-02 -3.69942598e-02 -3.34015153e-02  4.11638319e-02\n  3.69214080e-02 -6.81842268e-02 -1.89461075e-02 -7.81090260e-02\n -2.88835429e-02  5.61124459e-03  1.75904445e-02  2.38078423e-02\n -3.47191282e-02  3.01783048e-02 -2.47414876e-02  4.89706136e-02\n -8.45252816e-03  8.33324790e-02  7.40059391e-02 -5.28847240e-03\n  6.41300976e-02 -4.42619473e-02  4.40533571e-02 -2.84672412e-03\n  6.36953637e-02  2.62390338e-02  1.47188164e-03  3.77137884e-02\n  1.79280248e-02  6.46924973e-02  2.34502051e-02 -4.03064415e-02\n  7.85846822e-03 -1.53677901e-02  5.72699048e-02  3.80952656e-02\n  2.42398288e-02 -1.90929454e-02  7.04086274e-02  2.74622603e-03\n -1.58484152e-03  6.26819432e-02  3.59348458e-04 -1.75701752e-02\n -3.21752317e-02 -5.79946153e-02  1.66295096e-02  4.32891119e-03\n  2.62331497e-02  1.71083249e-02  4.31374684e-02 -5.03822695e-03\n  4.61952277e-02 -5.30272117e-03 -3.14781489e-03  6.36594445e-02\n -2.16630772e-02  1.39154829e-02  9.54869017e-03 -1.00129871e-02\n  4.43621166e-03 -8.64271447e-02 -1.54799493e-02  1.01220077e-02\n  2.46254858e-02 -3.05708288e-03 -2.11193860e-02  2.29726937e-02\n  7.41924420e-02 -2.98485067e-02  8.89455900e-03  7.43228495e-02\n -4.15302143e-02  5.51485643e-02  4.67472002e-02 -5.51126376e-02\n  4.49698344e-02 -3.30529176e-02 -1.77751165e-02 -4.56900485e-02\n -6.88044578e-02  1.01259239e-02  2.10572332e-02  2.76493914e-02\n  1.44319711e-02 -3.29379737e-02  7.99204856e-02  1.79648306e-02\n -3.05509642e-02  2.67546494e-02  2.23387312e-03  1.68194603e-02\n  3.87301259e-02  1.22784758e-02  3.80740472e-04 -4.66600657e-02\n -3.90575430e-03 -2.80476939e-02 -1.41658485e-02  4.47187759e-02\n  3.83048505e-02 -3.02017182e-02 -3.08050718e-02  6.18521981e-02\n  2.26527285e-02 -1.99670140e-02  2.85144821e-02 -2.93519646e-02\n -3.40849161e-02 -1.45579781e-02  2.31641978e-02 -1.93514824e-02\n -4.07925546e-02  1.01606464e-02  5.96989356e-02  1.06493346e-02\n -3.94191369e-02  1.63121298e-02 -1.39071038e-02 -4.16329056e-02\n  1.49576021e-02  4.51415963e-02 -4.33342010e-02  1.04419654e-04\n  5.77661172e-02 -4.00641412e-02  1.34002501e-02 -5.18874452e-02\n  1.94161329e-02 -8.62994231e-03  5.43217734e-02 -2.33678687e-02\n  6.72699437e-02  5.92897646e-02 -5.72704710e-03  6.44712597e-02\n -4.84821238e-02 -2.27013491e-02  4.56772707e-02  2.10585408e-02\n  1.27456680e-01  2.28467267e-02  2.26461161e-02  1.54383508e-02\n  6.25512674e-02 -9.99691896e-03 -5.42751029e-02  3.61167453e-02\n  6.97227474e-03 -9.24515873e-02  1.86509918e-04  7.31672421e-02\n  1.78658850e-02 -8.79361480e-02 -5.29611446e-02  2.16474570e-02\n -3.27581465e-02  4.73618023e-02  3.55639793e-02  1.89463627e-02\n -1.05286122e-03 -4.07228768e-02  3.24961506e-02 -4.27457355e-02\n -4.64456193e-02  7.99728278e-03 -4.12733294e-03  1.68593861e-02\n  3.48105952e-02 -3.86729613e-02  1.09289967e-01 -7.36927055e-03\n -4.72633578e-02  3.25613208e-02 -1.24806622e-02 -6.95063313e-03\n -1.60846338e-02  2.12145094e-02  2.32396889e-02 -7.22727850e-02\n -5.26778065e-02  2.95463149e-02 -5.39503545e-02  4.46549803e-03\n  1.48383379e-02 -2.87665147e-02  1.14263399e-02 -1.69454701e-02\n  3.09112649e-02 -3.73319276e-02 -4.88615371e-02 -2.73083523e-03\n -2.19735447e-02 -3.36398482e-02 -2.07072813e-02 -6.99316990e-03\n  5.50634153e-02 -1.50790690e-02  1.96148772e-02  1.54499020e-02\n -5.49020653e-04  8.74176621e-03  1.01478556e-02 -3.80637939e-03\n -7.31056780e-02 -4.13574688e-02  1.52951637e-02  1.14900386e-03\n -1.29497088e-02 -1.79476123e-02  1.10933706e-01 -2.40890421e-02\n -3.18604428e-03 -1.89499781e-02  7.97847286e-02 -2.84612663e-02\n  9.81907011e-04  3.66681907e-03 -9.56456084e-03 -1.68565642e-02]",
         " tommy spoken"
        ],
        [
         "6",
         "6",
         "All I Really Want",
         "do i stress you out. my sweater's on backwards and inside out. and you say how appropriate. . . and i'd like to dissect everything today. i don't mean to pick you apart you see. but i can't help it. . . and there i go jumping before the gun shot has gone off. slap me with a splintered ruler. . and it would knock me to the floor if i wasn't there already. if only i could hunt the hunter. . . and all i really want. is some patience. a way to calm the angry voice. . . and all i really want. is deliverance. ahh. . . do i wear you out do i wear you out. you must wonder why i'm relentless and all strung out. i'm consumed by the chill of solitary ahh. . . i'm like estella. i like to reel it in. . . and then spit it out. i'm frustrated by your apathy your apathy your apathy... . . and i am frightened by the corrupted ways of this land. if only i could meet the maker. and i am fascinated by the spiritual woman. . . i'm humbled by her humble nature yeah. and what i wouldn't give to find a soul mate. someone else to catch this drift. and what i wouldn't give to meet a kindred. ahh. . . enough about me. let's talk about you for a minute. . . enough about you. let's talk about life for a while. . . the conflicts. . . the craziness. . . and the sound of pretenses is falling. all around all around. . . why are you so petrified of silence. here can you handle this. .                                                                  . did you think about your bills                                bills. your pills                                                                    pills. your deadlines                                                          deadlines. or when you think you're going to die               you're gonna die. or did you long for the next distraction             mmm... . and all i need now is intellectual intercourse       do do do.... a soul to dig the hole much deeper                      oh oh oh. . . and i have no concept of time                                do do do.... other than it is flying. . . if only i could kill the killer                                        ah ah ah... . . and all i really want is some peace man. a place to find some common ground. . . and all i really want is a wavelength. ahhh. . . and all i really want is some comfort ohh. a way to get my hands untied ohh. . . and all i really want is some justice ohh. . . ahh. . . ahhh. and all i really want is some patience. a way to calm me down. . . and all i really want is deliverance. a way to find some common ground",
         "0.151",
         "0.728",
         "0.121",
         "-0.9757",
         "[ 1.22401826e-02 -4.79290931e-04 -1.56444889e-02 -1.57590397e-02\n  9.87050906e-02  1.31782144e-04 -1.05261232e-03  2.53036283e-02\n -2.23411992e-02  5.36963977e-02  5.49057126e-02  6.52282825e-03\n -2.59805820e-03 -2.36532316e-02  1.14805754e-02  4.56775837e-02\n -3.79775837e-02 -4.65382747e-02 -6.65932298e-02  4.26569693e-02\n -1.67270505e-03 -1.93785578e-02  2.31938809e-02  7.57887363e-02\n -5.84458187e-03  1.50442971e-02 -2.81663593e-02  3.13315839e-02\n -1.96074732e-02 -2.30872240e-02  4.30616103e-02 -3.39846015e-02\n -3.30393091e-02 -3.05065960e-02  3.84742878e-02  3.67044006e-03\n -1.77496746e-02  3.04918326e-02  2.43464317e-02 -3.29499948e-03\n -9.14338510e-03  1.34100032e-03 -3.31903361e-02 -8.71860702e-03\n -5.84388785e-02  3.47687416e-02  3.77888762e-04 -1.24824932e-03\n  2.97962204e-02 -5.10231312e-03  7.52527714e-02  3.30024841e-03\n  3.28022093e-02 -5.70545122e-02  5.15993647e-02  1.66933369e-02\n -2.21314318e-02  9.30284522e-03 -2.41931658e-02  3.32121775e-02\n -2.33701281e-02  3.30890417e-02  6.66164532e-02 -5.56197353e-02\n -2.68265288e-02 -1.90592445e-02 -4.28761914e-02  1.27280708e-02\n -1.34769203e-02  8.98128841e-03 -4.93336692e-02  4.51077893e-03\n  3.67481783e-02  3.61010693e-02  2.36989968e-02  6.29135668e-02\n -2.11887341e-02  7.01493174e-02  1.77666708e-03  6.72753947e-03\n -1.37596962e-03 -7.69317225e-02  1.79142244e-02 -3.21044549e-02\n  5.03892340e-02  1.05245560e-01  3.06700170e-02 -3.34300511e-02\n  2.17433460e-02 -5.49974479e-02  6.76681846e-03 -5.33950590e-02\n  4.16278727e-02  3.34573612e-02 -6.22574463e-02  1.59054659e-02\n  3.84259224e-02 -9.22930706e-03  4.19630595e-02 -3.81382033e-02\n -9.33589879e-03  1.71759948e-02 -6.51612505e-02  8.16676207e-03\n -9.74241830e-03 -2.07762588e-02 -2.51110103e-02 -1.88573357e-02\n -1.26560461e-02  5.47036454e-02 -1.68279875e-02  2.24147048e-02\n  4.88625318e-02  3.89392748e-02 -8.92613977e-02  1.25765922e-02\n -1.33173801e-02 -1.99498031e-02  4.51267436e-02  4.90389094e-02\n  5.79698198e-03  5.02548739e-02 -2.57349703e-02  1.37513503e-03\n  3.94823067e-02 -2.53032986e-02 -4.10859771e-02 -3.71438824e-02\n  1.06083080e-02 -1.28229102e-02 -3.11893667e-03  1.70096755e-05\n -2.62037432e-03 -2.03664731e-02 -1.03528472e-02 -2.58885399e-02\n  9.37685184e-03 -2.41965875e-02 -2.36267149e-02  3.61446291e-02\n -4.55988906e-02 -6.55087456e-02  2.19384506e-02 -8.42486322e-03\n -4.60284203e-02  1.62876751e-02  1.57705601e-02  7.58126974e-02\n  2.76524667e-02 -1.29014300e-02 -4.61805938e-03  6.38648868e-02\n  3.66507284e-03 -2.37291511e-02  2.37286501e-02  2.36225892e-02\n  7.68148666e-03  4.53119911e-02  1.96146127e-02  3.91456634e-02\n  2.17553917e-02 -2.42019724e-03  4.45510121e-03  3.93718220e-02\n -3.05096875e-03  2.91770678e-02 -6.48026243e-02  5.32508008e-02\n -5.59265949e-02  3.39374952e-02  1.96309038e-03  6.76164925e-02\n  6.22814707e-02  1.64206401e-02  1.03403181e-02  4.70314315e-03\n  1.39575312e-02 -1.38675710e-02  1.44311106e-02  4.75846045e-02\n  2.58534923e-02 -4.78280485e-02  1.53204212e-02 -1.81015569e-03\n  6.12222450e-03 -2.95350049e-02 -2.58365627e-02  3.26472288e-03\n -1.14326468e-02 -1.79884173e-02  3.37040685e-02 -5.41053750e-02\n  6.02087379e-03 -2.59634550e-03 -1.23058760e-03 -2.84993500e-02\n -1.68338255e-03  2.07314882e-02 -3.12551595e-02  7.45502347e-03\n -2.16625910e-02 -1.12268306e-01  6.63940161e-02 -1.28933722e-02\n -2.61564013e-02  9.09336959e-04  4.14192751e-02  1.92938522e-02\n  1.48363756e-02  3.39202955e-02 -3.55143547e-02 -1.90216806e-02\n  3.12280189e-02 -1.30414804e-02  5.44829434e-03  3.91656952e-03\n -2.29576156e-02  3.38057876e-02  1.49141960e-02 -7.01260790e-02\n  3.95757593e-02  4.44037933e-03 -1.30002713e-02  2.30584349e-02\n -5.60492873e-02 -2.03217734e-02  5.53643778e-02 -1.01606194e-02\n  3.78305204e-02 -2.86382018e-03  6.04980700e-02 -3.69992033e-02\n  7.91161656e-02 -4.24987748e-02 -2.61076186e-02  8.20715446e-03\n -1.09693613e-02 -1.63243581e-02  1.22630503e-02 -6.65908353e-03\n -3.06740380e-03  3.54307070e-02  6.49474701e-03  6.40543085e-03\n -8.43222905e-03 -7.91636936e-04  1.36226285e-02 -1.43547328e-02\n -1.73552670e-02  1.86112374e-02  2.54675262e-02  3.72878555e-03\n  2.32234001e-02  1.59112178e-02  6.67816401e-02 -4.10443656e-02\n  1.54318810e-02  7.46730296e-03  4.46660258e-02 -4.93623577e-02\n -3.58046428e-03  4.08772901e-02  2.43682731e-02  5.55654541e-02\n  7.52860354e-03  2.07575876e-02 -8.35458573e-04  3.80081795e-02\n  6.14784174e-02 -4.60135527e-02 -1.02353876e-03 -2.36730818e-02\n  2.36497372e-02 -4.60099578e-02 -1.95850339e-02  3.97942439e-02\n  1.99791789e-02  1.45045398e-02  1.85393915e-03 -4.37507592e-03\n  1.83225740e-02 -1.04299793e-02  2.16896888e-02  1.37858288e-02\n -4.31034826e-02  5.07157156e-03 -5.67530142e-03 -2.09322143e-02\n  3.67175154e-02  2.01849733e-02  2.12298296e-02  3.14741991e-02\n  5.01666367e-02 -2.03451756e-02 -5.32222502e-02  1.87536534e-02\n -2.56240126e-02 -4.33526449e-02 -2.52363179e-02 -1.11388996e-01\n -1.05462773e-02 -8.95370245e-02 -7.86191449e-02  5.24581112e-02\n -7.16684908e-02  2.00449638e-02 -2.80484110e-02  2.39396449e-02\n  4.73192334e-02  5.41987009e-02  4.32800762e-02  1.60639714e-02\n -1.31475711e-02  1.70869567e-02 -1.35165104e-03  4.06988934e-02\n  3.51857990e-02 -3.15168127e-02  2.61590164e-02  2.68836040e-02\n  3.27002443e-02  3.43405493e-02  6.62759040e-03 -4.57105525e-02\n -7.40781650e-02 -4.01491597e-02  2.42184401e-02  1.63880792e-02\n  4.10895199e-02 -2.81412378e-02 -2.15311218e-02  1.99585706e-02\n -6.01625908e-03  5.59126539e-03 -5.09095518e-03 -7.13652223e-02\n -4.48910519e-02  3.63347530e-02 -8.56662262e-03  3.58980559e-02\n -3.55843566e-02 -2.86561269e-02  1.65807717e-02  1.64140593e-02\n  2.10427810e-02 -2.47921813e-02 -1.68589503e-02  2.06848085e-02\n -3.65131833e-02  5.85703924e-03  3.55702341e-02 -1.95451602e-02\n -6.12288341e-03  1.50295696e-03 -3.00709177e-02  4.03082408e-02\n -8.18369910e-03 -1.36322491e-02 -4.95390259e-02 -2.27832869e-02\n -2.24737376e-02  1.02397697e-02  1.91692878e-02 -1.57589968e-02\n -5.67878671e-02  9.10851918e-03 -6.76336582e-04  8.01744461e-02\n  4.23612213e-03  4.73804474e-02 -6.75697401e-02  2.70139500e-02\n -4.56964038e-02  1.53873488e-02  4.05034348e-02 -1.67162239e-03\n  1.52487177e-02 -3.78392115e-02  6.92179278e-02 -6.15065219e-03\n  1.23542761e-02 -1.47525556e-02  1.30307698e-03  3.51427752e-03\n  3.04287020e-02 -5.11610769e-02 -8.07777699e-03  3.57266478e-02\n -1.99031946e-03 -1.52613670e-02  5.66776767e-02 -3.10994461e-02\n -8.01043492e-03 -6.87050298e-02  3.82127538e-02  7.28622265e-03\n -1.57213572e-03 -2.97374595e-02  4.26683351e-02 -5.30541351e-04\n -4.83675627e-03 -2.45697815e-02 -3.14740427e-02  5.22068655e-03\n -3.63448076e-02  1.66238174e-02  6.39946088e-02  1.65075250e-02\n -3.69945243e-02  1.61306765e-02 -7.88217317e-03  1.79725960e-02\n  5.21685602e-03 -1.08726015e-02  2.17912532e-02 -2.00898270e-03\n -3.81627074e-03 -1.80691679e-03  2.62909345e-02 -9.44409054e-03\n  2.87467390e-02 -2.96735037e-02  1.28903585e-02  2.30678767e-02\n  2.03546975e-02 -2.86414083e-02 -2.58141737e-02  1.39181651e-02\n -5.33835441e-02 -1.81184858e-02  4.90274094e-02  6.29779650e-03\n  5.02316989e-02 -5.21910079e-02 -3.88992541e-02 -1.04076331e-02\n  3.31225544e-02 -4.83797677e-02 -1.37137054e-02  3.26760635e-02\n  5.13711805e-03 -1.22596674e-01  1.48526365e-02  1.80552714e-02\n  5.43939210e-02  1.52990734e-02 -4.00509574e-02 -2.67370977e-02\n  1.46941375e-02  1.64958425e-02  2.17366423e-02  3.49249318e-02\n  3.05230804e-02  6.60425867e-04 -3.57854962e-02 -6.10931106e-02\n  2.00373940e-02 -2.12835222e-02  1.21129991e-03  3.00973356e-02\n -2.85160057e-02 -4.97399084e-02  3.15751359e-02  7.12756366e-02\n -2.32670214e-02  2.38963198e-02  1.29997591e-02 -5.47768474e-02\n -6.29509985e-02 -3.46501917e-02  1.21467514e-02 -6.01138500e-03\n -7.61086494e-02  2.60191448e-02 -2.67158113e-02  3.82174328e-02\n -3.17446589e-02  5.79185085e-03 -1.94799080e-02  6.76690368e-04\n  7.25566521e-02  1.31701725e-02 -9.40071195e-02  4.45159385e-03\n  6.05350994e-02 -6.33565113e-02 -2.54576951e-02 -3.39318486e-03\n -8.95622093e-03 -8.99108499e-02  1.97937004e-02 -1.77167933e-02\n -8.39001238e-02  7.47326715e-03  3.08766998e-02 -1.97392311e-02\n -6.55821785e-02 -1.37874680e-02  3.90275046e-02  5.68740012e-04\n  2.00361833e-02 -3.86004187e-02  1.32251769e-01  3.60540627e-03\n -8.80228356e-03 -2.71958597e-02  8.37586150e-02  1.90107413e-02\n  2.37680953e-02  6.52649673e-03 -8.58803019e-02  3.06279622e-02]",
         " i'm humbled by her humble nature yeah"
        ],
        [
         "7",
         "7",
         "My Petersburg",
         "i grew up on the sly. in the gutters and the streets of petersburg. just a kid on the fly. getting good at getting by in petersburg. . i've bartered for a blanket stolen for my bread. learned to take my chances. and use my head. a russian rat is clever. clever or he ends up dead. . boils down to. there are some who survive some who don't. some give up some give in. me i won't. black and blue welcome to my petersburg. . standing here you can see. from the spires to the piers of petersburg. i'd be down on that quay. selling stolen souvenirs of petersburg. . the palaces above and alleyways below. funny when a city is all you know. how even when you hate it. something in you loves it so. . that's where i learned my stuff. in some rough company. there's a boy growing up who was me. all i've been all i'll be. . we can do what we're told. we can go where we're led. but i learned from my father to see what's ahead. nothing here to hold me. no one that i owe. funny how a boy can grow. funny how a city tells you when it's time to go. . boils down to. there are some who have walls yet to climb. you and i on the fly just in time. but tonight theres a sky and quite a view. . welcome to.... my petersburg",
         "0.048",
         "0.844",
         "0.108",
         "0.9136",
         "[-8.07720423e-03 -3.90350306e-03  1.21694028e-01 -1.10619776e-02\n  6.01164512e-02 -4.42442335e-02 -2.77332217e-02 -9.50639136e-03\n  5.42636588e-02  1.81639362e-02 -1.77441258e-02 -6.12469129e-02\n -4.85003591e-02  4.42073680e-03  2.22024005e-02  3.52151319e-02\n  4.60956339e-03  2.36515645e-02 -5.43540996e-03 -7.76383886e-03\n -2.03203727e-02  2.37874854e-02  2.37364764e-03  3.15845795e-02\n -5.63629670e-03  1.99829936e-02 -8.47221725e-03 -1.14736576e-02\n -2.39574499e-02 -9.48652998e-03  4.20833491e-02 -3.09944786e-02\n -5.21553792e-02  5.80786262e-03 -6.25388278e-03  1.42308641e-02\n  3.77689712e-02  4.36058678e-02 -7.88214654e-02 -4.30239178e-02\n  4.16949727e-02 -4.08816338e-03 -3.56375314e-02 -8.75001401e-03\n -4.42327783e-02  3.13398913e-02 -2.92199943e-02 -1.80899426e-02\n -4.25413214e-02  4.03223513e-03 -6.95277005e-02 -1.16074942e-02\n  3.34118330e-03 -9.94337909e-03  6.19978597e-03  1.12806289e-02\n  3.04666441e-03 -1.99590512e-02 -5.67230303e-03 -8.17725062e-03\n  2.49263123e-02 -7.94055313e-02 -4.26064216e-04 -5.92963882e-02\n -2.69159209e-03  2.57721599e-02 -5.50380349e-02 -2.04305295e-02\n -2.30804477e-02  1.61222555e-02 -1.87417399e-02  6.04274776e-03\n -2.39588041e-02 -3.26968171e-02  4.69798520e-02  6.99623898e-02\n -3.74585800e-02 -2.61586569e-02 -4.32448648e-02 -7.48789683e-02\n  6.14638999e-03 -6.14312068e-02 -1.12989107e-02 -3.41347046e-02\n  6.60182238e-02  4.91635986e-02  2.88854614e-02 -1.99823938e-02\n -4.02727015e-02 -1.52272135e-02  1.79718640e-02 -4.10725996e-02\n  2.53453199e-02  6.47175405e-03 -3.92289646e-02  1.87828932e-02\n  3.28955948e-02  9.70596224e-02  4.05726135e-02 -2.18246551e-03\n  3.32892723e-02 -2.57692523e-02 -2.55363658e-02  5.17184585e-02\n -1.44903520e-02 -7.25843012e-03  7.28741735e-02 -3.24208178e-02\n -3.30409631e-02 -7.48365535e-04  5.04834503e-02 -1.23530077e-02\n -9.03123245e-03  8.97186995e-03 -8.39223862e-02 -2.29140092e-02\n  5.40222488e-02 -1.66274514e-02  1.03829978e-02 -3.74775715e-02\n  4.46542799e-02  1.71409745e-03  3.57916579e-02 -2.32025944e-02\n -1.19398432e-02 -6.27169907e-02 -3.62316184e-02  9.62010305e-03\n  2.06577796e-02 -1.92005634e-02  3.85694578e-02 -3.90992500e-05\n  9.00038891e-03 -1.43240010e-02 -5.34812994e-02 -2.37448495e-02\n -4.07552719e-02  4.85092066e-02  4.22220267e-02 -2.16098353e-02\n -7.52035715e-03 -3.33209522e-02  4.05875891e-02 -3.83935906e-02\n -2.40670759e-02  3.73983197e-02 -3.68771777e-02 -4.48187366e-02\n  7.92757049e-03  5.32160886e-02 -3.48194055e-02  8.25568736e-02\n  3.10984370e-03 -6.06897920e-02  4.16042879e-02  2.41779964e-02\n -1.41919842e-02  1.24098495e-01  8.05877615e-03 -1.51112620e-02\n -7.81895742e-02 -3.86422873e-02 -5.61267026e-02 -3.78781818e-02\n -5.38335368e-02 -9.24714506e-02 -2.48532603e-03  2.35326327e-02\n  2.22318936e-02  7.68939732e-03 -3.36019769e-02  4.68040928e-02\n  7.61456788e-02  1.49013735e-02 -2.44723838e-02 -2.62415744e-02\n  3.80351879e-02 -1.72749348e-02  2.49813218e-02  1.49767827e-02\n -4.46327515e-02 -3.07540428e-02 -5.35469353e-02  5.69395022e-03\n -2.22629178e-02  5.95370028e-03  2.37617772e-02 -5.40262535e-02\n  5.46362251e-03  1.24579892e-02 -4.76676449e-02 -6.67866394e-02\n  2.84570549e-03  3.69410142e-02 -8.95731300e-02 -1.57455821e-02\n  3.19677778e-02 -4.04475778e-02 -1.24960672e-02  2.74227783e-02\n  3.49818692e-02 -1.04652651e-01 -2.31935736e-02 -3.69699672e-03\n -2.54312670e-03 -2.91643385e-03  4.87384386e-03  1.08489748e-02\n -3.10781281e-02  5.95756173e-02 -4.97105233e-02 -2.19198242e-02\n -2.76717190e-02  3.96869844e-03 -3.45027968e-02 -1.44893015e-02\n -1.71666536e-02 -2.31086835e-02  1.63623935e-03 -4.80330773e-02\n  2.44712997e-02  2.89131161e-02  1.31854881e-02  4.71633952e-03\n -5.37943207e-02 -1.83303729e-02 -3.13686915e-02 -1.21092619e-02\n  1.02376267e-01 -5.75652858e-03  3.60096730e-02 -6.20225854e-02\n  5.07856812e-03 -2.08306368e-02 -3.68923740e-03  7.15820789e-02\n -3.98569778e-02 -5.02560986e-03 -2.37532556e-02  2.76040602e-02\n -7.28300714e-04 -1.27457706e-02 -4.76160049e-02  2.53085084e-02\n -3.03494721e-03  3.43984785e-03 -5.49803162e-03 -5.92454895e-02\n  3.87723669e-02 -2.13631522e-02 -1.52348708e-02 -3.84675600e-02\n -5.85235544e-02  2.12195031e-02  1.58327054e-02 -6.50806874e-02\n -4.81849973e-04  1.42633533e-02 -4.97342162e-02 -1.89306177e-02\n -1.70170497e-02  4.30133417e-02 -4.95586507e-02  9.87807959e-02\n -1.42474212e-02  4.65209894e-02  2.45754118e-03  2.89064329e-02\n -9.55187716e-03  1.36467228e-02  6.33261278e-02  1.76245347e-02\n -1.75223295e-02 -6.21429551e-03 -1.84049737e-02  8.75032097e-02\n  5.12073636e-02  2.09297705e-02  7.24144466e-03 -3.08956504e-02\n  2.54957434e-02  6.52486235e-02  1.19715603e-02 -3.33238803e-02\n -8.44147801e-02 -2.58307867e-02 -1.56415291e-02 -8.44874326e-03\n -3.05700209e-02  1.50732072e-02 -6.86690491e-03 -1.07100634e-02\n -3.41683328e-02  3.11755463e-02 -5.19130640e-02  4.77876887e-02\n  4.30258550e-02  2.58563142e-02  5.00952564e-02 -2.11525224e-02\n  9.15039256e-02 -5.02849882e-03 -3.14506479e-02  2.13899408e-02\n -2.70028878e-02 -1.87338609e-02  1.39696663e-03  2.21000779e-02\n -1.48546342e-02  2.50030514e-02  1.42162578e-04 -1.56876128e-02\n  9.79449693e-03 -3.94784547e-02  3.34996246e-02 -2.53740735e-02\n  1.53419254e-02  1.04489764e-02 -7.11299554e-02 -2.52260305e-02\n  2.51926742e-02  1.09821009e-02 -1.55910710e-02 -3.83104645e-02\n -5.01073524e-02  6.95620663e-04  6.96724355e-02 -3.10124978e-02\n -1.26482900e-02  9.21577122e-03 -2.29770392e-02  6.19602099e-04\n  2.92687006e-02  5.91831543e-02 -4.43675816e-02 -2.39204727e-02\n -3.25953327e-02  5.12561575e-02 -2.26020887e-02 -3.15753967e-02\n -1.83950290e-02 -8.56372435e-03 -5.26924944e-03  3.71309929e-02\n -1.72192452e-03  9.43442713e-03 -1.47451879e-02  4.40056669e-03\n -2.63076760e-02 -9.94407013e-03 -3.13217454e-02 -2.12298948e-02\n -2.70882007e-02 -5.04371114e-02 -2.91176401e-02 -2.69123213e-03\n  2.74008811e-02  5.55323958e-02  4.32652161e-02 -1.59703121e-02\n  2.18816381e-03 -3.18201743e-02 -2.31352895e-02  1.41340280e-02\n  4.01756391e-02 -3.70606631e-02  4.55934703e-02 -2.62265792e-03\n  3.05279214e-02 -1.59084722e-02 -1.21559361e-02  4.01728526e-02\n -7.61836842e-02  4.35772389e-02 -2.74739303e-02 -2.65376009e-02\n  7.90290162e-02  2.61649489e-02  5.69088683e-02 -4.62223291e-02\n -3.66733260e-02  4.40921299e-02 -3.69972736e-02 -4.59880335e-04\n  9.43858922e-03  7.64336437e-05 -1.94884054e-02 -9.30935219e-02\n  3.19673233e-02 -1.50755495e-02  5.34498505e-02 -1.82191597e-03\n -5.82797378e-02  2.65500508e-02 -5.46296909e-02 -5.24470396e-02\n -1.44811273e-02 -2.79819313e-03  6.57030614e-03 -5.61548881e-02\n -3.67173888e-02 -5.34231700e-02 -4.63348366e-02 -1.57515751e-05\n -8.74151196e-03 -1.13960700e-02  1.99819971e-02 -3.02704889e-02\n  7.08994875e-03  2.18976066e-02 -4.31955643e-02 -9.81148891e-03\n  1.11132795e-02  7.02980682e-02 -2.79015526e-02 -9.46656801e-03\n  6.34961121e-04 -1.25716804e-02 -4.16390486e-02  7.22877085e-02\n -2.90058739e-02 -5.32341050e-03  3.37040015e-02 -1.12536885e-02\n  1.53018683e-02  4.93140817e-02 -1.39223207e-02  2.07282584e-02\n  1.77709907e-02  1.83047187e-02 -4.14736681e-02 -8.64014309e-03\n  7.39768073e-02  2.83479430e-02 -8.95915329e-02 -3.47946072e-04\n -1.59754530e-02  1.37535455e-02  1.96408406e-02  2.26222556e-02\n  4.03415132e-03 -1.01377249e-01 -3.70641076e-03  1.58632305e-02\n -7.68733118e-03 -1.07181799e-02 -7.98618495e-02 -1.28724948e-02\n  1.19829122e-02  3.68745029e-02  1.55244144e-02  4.62247767e-02\n  3.27816196e-02  7.08564837e-03  7.40127778e-03 -9.72201303e-02\n -2.28538718e-02 -1.16237458e-02 -2.13349499e-02  1.72458645e-02\n  4.27793115e-02  5.21241641e-03  4.66402583e-02  4.82913367e-02\n -7.08091184e-02  1.89515054e-02 -8.23958293e-02  2.21164301e-02\n -4.08392660e-02 -2.99876556e-02 -2.13603508e-02  5.74324876e-02\n -6.55156150e-02 -1.96210761e-02  9.73907579e-03  1.52040906e-02\n -1.02040758e-02  3.88223082e-02  1.21545225e-01 -1.37920137e-02\n -5.36679290e-03 -2.74241157e-02 -8.02518576e-02  2.40267515e-02\n -2.84544844e-02 -6.66795159e-03 -3.25559303e-02  3.36627923e-02\n -8.92225374e-03 -2.76034940e-02  2.95764208e-02 -1.65915992e-02\n -4.02374193e-02 -2.25406960e-02 -8.62259883e-03  1.40146529e-02\n -7.20629767e-02  8.81785993e-03  5.63487075e-02 -1.67210717e-02\n -1.00204842e-02 -4.62317988e-02  1.08927801e-01 -5.23772612e-02\n  1.28545370e-02 -3.12196538e-02  1.81985309e-03 -4.43069860e-02\n -6.96877986e-02 -4.45704870e-02 -5.32872975e-03  7.45581510e-03]",
         " from the spires to the piers of petersburg"
        ],
        [
         "8",
         "8",
         "Paris Holds the Key (To Your Heart)",
         "voilà mes amis here's paris. now that we're here follow me. begin with the view as you stroll down la rue. . and soon all paris will be singing to you. ooh. ahh ah. paris holds the key to your heart. and all of paris plays a part. paris turned a page to the new modern age. . . and we'll do it too if we're smart. . . the french have it down to an art. . . everyone's a writer painter poet. everything is avantgarde or chic. . . we'll be in the know before we know it. . . when you're in the know it's oh it's magnifique. to find in paris what you seek. . . . . paris holds the key to her fate. we won't have much longer to wait. and then come what may. we will each go our way. . . i dreamed of a city beyond all compare. it's hard to believe that i'm finally there. . . at last there's a future. . . there's freedom. . . there's hope. . . in the air. . . ahh ahh ahh. . . paris holds the key to your heart. the pleasures of life à la carte. come dance through the night and forget all your woes. the city of light how it glitters and glows. and one never knows what will start. paris hold the key to your heart",
         "0.029",
         "0.894",
         "0.077",
         "0.891",
         "[-0.01347154 -0.05233171 -0.08355747 -0.03337622  0.04799214  0.02799717\n -0.02059064  0.01620146  0.04814696  0.03260339  0.05625012 -0.14682965\n  0.01124403  0.05317413  0.02903036 -0.06757434  0.05286823 -0.04791227\n -0.03351516  0.03047187 -0.03091968 -0.01825574  0.00507659  0.06763854\n  0.01759781  0.01739452  0.05407767  0.02313917 -0.02107136  0.00277745\n  0.06292768  0.04491169  0.00923734 -0.04856356  0.00234654  0.03856893\n -0.04068168 -0.00806827 -0.05384726  0.02448045 -0.02162052  0.02053125\n  0.0268082   0.05778769  0.06843159  0.04754731 -0.03381818  0.02534467\n -0.03604716  0.04188113 -0.09784115  0.04992436  0.05428649 -0.01842684\n  0.05094019  0.01475038 -0.01840231 -0.01942417  0.02748889 -0.07417502\n -0.03645838 -0.10087819 -0.06592346 -0.01696381 -0.01513904  0.06732795\n -0.03898558 -0.07613345  0.02630364  0.01496602  0.01226485 -0.05560471\n  0.0008788   0.04111378  0.07928561 -0.00370107  0.02978135  0.00162513\n  0.0226616  -0.04685007  0.04078033 -0.09461293  0.02629391  0.02171395\n  0.06994526  0.08058834 -0.09847083 -0.08434379 -0.01977564 -0.00999551\n  0.03769655 -0.06003382 -0.01264671  0.06483611  0.00221177 -0.00950474\n  0.04919185  0.01470918  0.05688033  0.07425605  0.02769924 -0.0258765\n -0.02169378  0.02717393 -0.00380817 -0.01926176  0.13994864 -0.0455699\n -0.01865937 -0.05978764  0.01042183 -0.02254092 -0.01061644 -0.00780921\n -0.0861326   0.030188    0.01391231 -0.02908295  0.01217658 -0.01767206\n -0.03681036 -0.0337479   0.0227257  -0.05558006 -0.03480157  0.0466844\n -0.03108831 -0.00612097  0.05846482  0.02726412 -0.03488806  0.03215523\n -0.03572034 -0.11498176 -0.06260041  0.00405986  0.03482046  0.05261997\n  0.09339605  0.07204593 -0.03639987 -0.04873102  0.02817231 -0.01002617\n  0.0091691  -0.0289961  -0.0036766  -0.01023142  0.04435761 -0.05145132\n  0.02358016  0.05804882  0.03013468 -0.02561472  0.00520091  0.06022367\n -0.00046564  0.01987556 -0.00969253  0.01735476  0.04084723  0.05259296\n  0.01355993  0.02327342 -0.04560138 -0.03700306 -0.00633835  0.07402751\n  0.01242007 -0.03054149 -0.01078701  0.0024384   0.08655126  0.03422347\n -0.00919657  0.00162689  0.0333274  -0.01515116 -0.09045039 -0.05232588\n -0.06400103 -0.02679768  0.00398901  0.01900123 -0.02329697 -0.01547886\n  0.07501692 -0.02954856 -0.00757356  0.00768615 -0.07916269 -0.06546245\n -0.006903   -0.05985134  0.03051013  0.0343925  -0.03671447 -0.03652072\n  0.0601448  -0.03983465 -0.05375874 -0.09037544 -0.05889588  0.03118748\n  0.00784597  0.08216724  0.00358952  0.01155125  0.02529205 -0.00805741\n  0.03337624  0.01562845 -0.03752598  0.04839126  0.01716956  0.09114416\n -0.12431107  0.03298153  0.03396526 -0.01484386 -0.01866715  0.0114345\n -0.06092149 -0.03629214 -0.02403065 -0.03313751 -0.02635193 -0.07295928\n  0.02099316 -0.01007543  0.05254462  0.00979984  0.00587462 -0.05779939\n -0.00160881  0.06216655  0.01181441 -0.00495313 -0.00735561  0.0014414\n -0.00139313  0.02721184  0.01062804  0.03567524 -0.01425394 -0.00454647\n -0.0319129  -0.02851104  0.00349695  0.00021295  0.00577536  0.01256067\n -0.00498945  0.04091473 -0.02063166  0.02235242  0.0499233   0.00498192\n  0.03956073  0.07939784  0.02946475  0.05607294 -0.02520337 -0.05967924\n -0.0311876  -0.01665428 -0.07594359  0.00628946 -0.04387625  0.0321445\n -0.02840362  0.01858664  0.05356717  0.00729246  0.00313786  0.02289894\n -0.0035034   0.02201017 -0.01711028 -0.04513849 -0.09755192  0.01265099\n  0.03672354  0.02519862  0.03267659 -0.04343858  0.0091701  -0.00619063\n  0.01892664  0.03805001 -0.00438974  0.05231517  0.04832504 -0.0148503\n -0.04680199  0.02297837  0.02649299  0.03633046  0.00839715 -0.07768943\n -0.00238133 -0.06060537 -0.06912366  0.01370721 -0.04411604 -0.06609084\n -0.01577849  0.04438407 -0.0549379   0.04017394 -0.00028193 -0.03813076\n -0.02506972  0.0071358  -0.03451106 -0.03313095  0.03572752  0.03595065\n  0.02979744  0.1245355   0.01892932  0.03312897  0.0201985  -0.06461319\n  0.01215704  0.02315686  0.00704293 -0.03491857 -0.05060334 -0.05642397\n  0.00557621  0.04181883 -0.08919486  0.02460987  0.05744512 -0.06443911\n -0.09110605 -0.0950823  -0.0424354  -0.03740867 -0.06575891  0.07541852\n -0.02609085  0.03120629  0.04084708  0.01737659  0.04260141 -0.00406541\n  0.01471299 -0.00845551  0.03762145 -0.03931979 -0.01850327 -0.07363188\n -0.05083161  0.0149359  -0.01825117  0.02382488 -0.04575254 -0.00814912\n  0.06570113  0.06135972  0.01941175  0.07410563  0.0620203   0.04754271\n  0.06244627 -0.00059528  0.00307306  0.05526965 -0.04772489 -0.04759319\n -0.08886091 -0.05920536 -0.09063277  0.00857703 -0.01893125  0.00678995\n  0.05111757 -0.06653919  0.00422608 -0.02311873 -0.0188675   0.02688826\n -0.01382906  0.01199721 -0.04405231  0.04337676  0.00383876  0.01096889\n  0.01757073  0.01925359 -0.05733187  0.0146423  -0.05737958 -0.05309159\n  0.04342844 -0.01659203 -0.00017981  0.01529647  0.05527391 -0.12744288\n  0.06767932  0.0220616  -0.0391432  -0.05680836 -0.01726613  0.00121618\n  0.01696538  0.01620231  0.05207894  0.0364248  -0.00983404 -0.01002664\n -0.02742901 -0.02090389 -0.03444911 -0.0400913  -0.05701171 -0.0178316\n -0.02888351  0.0375539   0.06272414 -0.03810259  0.01716322  0.00625429\n -0.04655112  0.0332631   0.00630013 -0.08726763 -0.04343913 -0.04804323\n  0.07635894 -0.05238838 -0.0046354   0.02783535 -0.06113569 -0.06135783\n -0.05218885 -0.00736333 -0.00409947 -0.08319119  0.04041928  0.03079499\n  0.01175653 -0.0109746  -0.05056392 -0.01002156  0.03962933 -0.0427197\n -0.00150778 -0.00536873 -0.01228898  0.05940634 -0.01835176 -0.04005337\n  0.07433081 -0.05422336 -0.02051667 -0.03704844 -0.03745541 -0.00198866\n  0.05093615  0.10003117 -0.02980168  0.00920887 -0.06592344  0.00104935\n -0.03305564 -0.07283376  0.02453988 -0.06155233 -0.01910349  0.02169576\n -0.01614574  0.07235105  0.03325736  0.04401439 -0.05077343 -0.02450618\n -0.05246361  0.03894426 -0.01394554 -0.0280025  -0.00382884  0.01854619\n -0.11594983  0.00357138 -0.00222     0.04544774  0.06282641  0.06631478\n -0.01707089 -0.02213018  0.03347119 -0.01846139 -0.05250793 -0.04665484\n  0.02958193 -0.018459   -0.02605888 -0.03812561  0.02960189 -0.10493897\n -0.01092765 -0.01404172 -0.02889895  0.03038941 -0.01073871  0.00531838\n -0.04972852  0.08026961]",
         " when you're in the know it's oh it's magnifique"
        ],
        [
         "9",
         "9",
         "Learn to Do It",
         "how do you become the person you've forgotten you ever were. . . take a deep breath. . close your eyes and imagine another time. another world. . . sung. you were born in a palace by the sea. . . a palace by the sea. . . could it be. . . yes it's so. you rode horseback when you were only three. . . horseback riding me. . . horse's name. . . romeo. you threw tantrums and terrorized the cook. ha how the palace shook. . . charming child. . . wrote the book. sung. but you'd behave when you father gave that look. . . imagine how it was. your long forgotten past. . . we've lots and lots to teach you and the time is going fast. . . let's see you walk. . head up regal bearing. . sung. now shoulders back and stand up tall. and do not walk but try to float. . . i feel a little foolish. am i floating. . . like a sinking boat. . . you give a bow. . . what happens now. . . your hand receives a kiss. . . most of all remember this. . . if i can learn to do it. you can learn to do it. . . something in you knows it. . . there's nothing to it. . . follow in my footsteps. shoe by shoe. . . you can learn to do it too. . . now elbows in and sit up straight. and do not slurp the stroganoff. . . i never cared for stroganoff. . . she said that like a romanov. . . the samovar. . . the caviar. . . dessert and then goodnight. . . not until you get this right. . . if i can learn to do it. . . if he can learn to do it. . . you can learn to do it. . . you can learn to do it. . . pull yourself together. . . and you'll pull through it. . . tell yourself it's easy. . . and it's true. you can learn to do it too. . . who is your greatgrandmother. . . queen victoria. . . greatgreat grandmother. . . uh... princess victoria of saxecolburgsaalfeld. . . your best friend is. . . my little brother alexei. . . wrong your best friend is. . . i know who my best friend is. . . what a temper. . . i don't like being contradicted. . . that makes two of us. . . continuing on.... . . i've had it and i hate you both. i'm sorry that we ever met. i'm hungry i'm frightened. and i'm only human don't forget. i don't remember anything. get out and let me be. . anya darling look at me.... . we're all frightened. well slightly now and then. shall we start again. take a breath count to ten. you have courage. and strength you barely know. so blow that little nose. and dry those pretty eyes. a princess like your majesty. can do this if she tries. ready. . . set. . . go. . . now here's your great aunt olga. . . how she frolicked on the volga. . . oh. . . your distant cousin vanya loved his vodka. . . got it anya. . . no. . . the duke of oldenburgh was short. . . louise of boden. . . had a. . . wart. . . count sergei. . . wore a feathered hat. . . i hear he's gotten very fat. . . and i recall his yellow cat. . i don't believe we told her that.... . . if you can learn to do it. . . if i can learn to do it. . . he can learn to do it. . . you can learn to do it. . . pull yourself together. . . and we'll pull through it. . . tell yourself it's easy. . . and it's true. . . you can learn to do it. . . nothing to it. . . you can learn to do it.... . . the caviar the stroganoff the samovar the feathered hat. the cousin drank the duke was short here a wart and there a cat. . the horse's name was romeo so tell me something new. . . ha. . . you can learn to do it too",
         "0.059",
         "0.764",
         "0.177",
         "0.998",
         "[ 4.67840442e-03  2.39952784e-02 -6.75839931e-02  9.37011268e-04\n -2.73693372e-02 -8.14664178e-03  4.70593385e-02 -3.86008583e-02\n -9.23465099e-03 -8.91982019e-03 -3.51341181e-02 -9.80664138e-03\n -5.11600375e-02  1.68001801e-02  1.12296315e-02  2.76188478e-02\n  5.96441142e-03 -2.24141143e-02 -7.25435987e-02  2.87883542e-02\n -4.93665040e-02 -2.22993642e-02  1.50625291e-03  1.93372779e-02\n -2.90121529e-02 -2.02311128e-02 -5.30871488e-02  3.60131934e-02\n -1.21205430e-02  2.43853014e-02  2.77029760e-02  2.24574935e-02\n -4.61268835e-02  3.35986540e-02 -2.56270990e-02  3.99000198e-02\n  6.81213243e-03 -2.10047346e-02 -2.08566873e-03 -5.51208369e-02\n -3.60017009e-02 -1.24313552e-02 -1.10694785e-02 -2.88046198e-03\n  5.11694700e-02  4.62881476e-02 -1.08093191e-02 -3.52692464e-03\n  2.34708712e-02  1.24212652e-02 -2.13570725e-02  1.00514675e-02\n -9.68043134e-02  6.24535158e-02  6.35214597e-02  6.20098822e-02\n  6.34878641e-03  9.08793043e-03  5.81745133e-02  1.16823772e-02\n -6.30597919e-02  2.15407722e-02  2.94283833e-02 -2.76539512e-02\n  3.41339484e-02  1.61114056e-02  2.65895501e-02 -2.41376832e-02\n -2.28392035e-02  2.03510262e-02 -3.06225698e-02 -7.17817694e-02\n -1.19097894e-02 -5.70641048e-02 -4.45384067e-05 -1.11683756e-02\n -3.97888571e-02 -8.67388695e-02  4.26494144e-02  2.07507107e-02\n  4.69471812e-02 -1.04901545e-01  7.97021911e-02 -2.53523178e-02\n  1.03815021e-02  5.81887402e-02 -2.65899114e-02  1.85690504e-02\n -1.78780835e-02  2.19846014e-02  7.51152635e-02 -2.76739188e-02\n -3.64364707e-03 -1.49104008e-02 -3.31045464e-02 -7.19153695e-03\n  4.78968926e-04  3.35173756e-02  4.45901277e-03 -5.68224117e-02\n  5.11368364e-03 -7.24276900e-02 -9.97515917e-02 -6.03353139e-03\n -1.00694830e-02 -1.79108605e-02  3.27580087e-02 -2.84909736e-02\n  1.21691097e-02 -4.99534532e-02  6.84461221e-02  8.04430246e-03\n  7.33212829e-02  8.94475169e-03 -4.54640128e-02  2.10355800e-02\n  5.64596504e-02  1.96675938e-02  2.08586548e-02  1.15967710e-02\n  6.04240894e-02  1.68337449e-02 -9.02810413e-03 -8.83780867e-02\n -2.54267398e-02 -4.76104347e-03  2.20011901e-02 -5.19068353e-03\n  2.49247532e-02  4.30103671e-03 -6.25844300e-02  1.89831592e-02\n  9.59880278e-03 -3.06387842e-02  1.96933206e-02  2.59685516e-03\n -1.89495794e-02 -4.17974740e-02 -1.26904836e-02 -1.00435680e-02\n  1.35787216e-03 -4.55958210e-02  5.15508987e-02 -2.90523469e-02\n  2.62011532e-02 -2.96461359e-02 -6.68885782e-02  1.96920950e-02\n  8.01644996e-02 -1.17458384e-02  2.01001437e-03  6.43272921e-02\n -2.82328464e-02  3.27069834e-02 -1.80359818e-02  3.99221219e-02\n  1.86584648e-02  4.97006811e-02 -3.55712473e-02  4.02643764e-03\n -5.35726640e-03 -3.14651169e-02  2.49443613e-02  4.42900956e-02\n -1.82652511e-02 -6.45757094e-02  8.60314369e-02  5.72423488e-02\n -6.20271564e-02  1.84883010e-02  5.41375913e-02  3.36225964e-02\n  4.24013473e-02 -3.15147601e-02 -6.17200509e-03 -5.82500100e-02\n  7.41775930e-02  4.47510369e-02  4.20378782e-02 -2.55190600e-02\n  4.32745218e-02 -7.03122392e-02 -4.21770290e-02 -2.94227991e-02\n -1.27209658e-02 -2.70806979e-02  1.30193848e-02 -2.05885060e-02\n -3.98332924e-02  5.27577549e-02 -3.69324423e-02 -4.88529243e-02\n -5.41637130e-02  5.91766741e-03  4.22110818e-02 -2.94067618e-02\n -5.08497544e-02  5.30877821e-02  4.41550836e-03 -1.20504312e-02\n  4.09529125e-03 -1.24526583e-01  2.24812999e-02  9.09147933e-02\n  7.70066306e-02  5.93904108e-02 -5.25134336e-03 -7.86965191e-02\n  3.41339894e-02 -1.09690838e-02  2.43834243e-03  2.01042071e-02\n  4.90396023e-02  3.73783596e-02  1.24641065e-03  8.54276717e-02\n -3.42585780e-02 -2.43791621e-02  3.20086479e-02  5.01700640e-02\n  7.45298862e-02 -1.17116002e-02  8.71001035e-02 -8.54506250e-03\n -2.87989993e-02 -2.14099735e-02 -4.49025771e-03 -3.18974182e-02\n  1.65872052e-02 -2.45739310e-03  2.73584165e-02 -5.93042234e-03\n -2.80847847e-02 -1.44896191e-02  5.87666407e-02 -1.25095854e-02\n  7.91605040e-02 -2.39575710e-02 -2.17101760e-02  2.73542535e-02\n -4.49795797e-02 -4.10423119e-04 -3.51844244e-02  2.30552237e-02\n -5.15613053e-03  2.69418079e-02  2.28545330e-02  6.41884841e-03\n  2.08077710e-02  3.47658917e-02 -1.17340684e-02  4.26755659e-02\n  9.72632412e-03 -2.59686522e-02  4.55770493e-02 -2.07001418e-02\n  2.17509400e-02  3.42461169e-02 -6.18808493e-02 -2.64944253e-03\n -3.29178236e-02  1.04229571e-02 -3.47128287e-02  1.66330487e-02\n -5.01358137e-02 -1.65965222e-02 -1.41801434e-02  5.55533729e-02\n -2.44388133e-02 -1.00024380e-02  4.31169868e-02 -1.60713233e-02\n  5.99237792e-02  3.95706482e-03 -5.03727272e-02 -2.48311106e-02\n  5.91282733e-02  2.83899698e-02  1.71244759e-02  1.33227063e-02\n -3.10023744e-02 -1.05073312e-02  2.10560989e-02 -1.91095304e-02\n  8.07160139e-02 -3.24584730e-02  3.61278169e-02 -2.42179492e-03\n -4.48643304e-02 -4.12871912e-02  4.90921689e-03  8.21729563e-03\n  4.89420518e-02 -4.45266813e-03 -5.68914637e-02 -3.34625132e-02\n  3.29230092e-02 -1.57306425e-03  9.47202668e-02 -1.14788778e-01\n  1.12481592e-02  6.26990944e-02  6.03666017e-03  7.76436320e-03\n -5.48159033e-02 -2.58039627e-02 -6.08406439e-02 -1.92786306e-02\n -2.29386520e-02  6.18241392e-02  5.74494787e-02 -4.15315740e-02\n  4.78947163e-02  5.87621517e-02 -1.58355702e-02  7.60461995e-03\n  2.18798704e-02 -3.77074629e-02  1.14338249e-02  1.15844220e-01\n  7.96241760e-02  3.80193144e-02  4.26710360e-02 -5.26480824e-02\n  1.42525975e-02  3.54594812e-02 -3.11276279e-02 -3.25331166e-02\n  1.57109834e-02 -1.74031667e-02  8.00065789e-03 -7.11943060e-02\n -3.19500677e-02  3.53144705e-02  2.40296256e-02 -4.12584767e-02\n -2.63059919e-05  2.27173939e-02 -4.88177501e-02 -2.24880967e-02\n -2.94112004e-02  2.46859007e-02 -2.79916003e-02 -1.71816442e-02\n  2.05568299e-02 -4.76610102e-02  3.34854946e-02  3.93152647e-02\n  6.31305669e-03 -1.12178707e-02 -2.20065634e-03 -4.91295643e-02\n -4.20913324e-02 -1.70595571e-02 -4.28583845e-03 -1.29273413e-02\n -6.36175498e-02  7.39949793e-02  3.99122684e-04 -2.00959072e-02\n -1.55374920e-02 -1.01931915e-02  1.13021517e-02  1.01219036e-03\n -5.12152612e-02  8.25466886e-02  6.86894432e-02 -1.45333745e-02\n  5.78973331e-02  3.35230045e-02  3.74989118e-03 -1.62188783e-02\n -7.21258447e-02  3.18665318e-02 -2.09457465e-02 -5.45758791e-02\n -1.58656687e-02 -1.04528824e-02  7.06365630e-02 -8.49334802e-03\n  2.69683357e-02  8.22799688e-04  3.96859803e-04  9.13066119e-02\n  3.35112214e-02 -1.59234889e-02 -5.68456890e-04 -1.58421677e-02\n  3.05032684e-03  7.87809957e-03 -1.40831163e-02 -1.40941292e-02\n -4.90790457e-02 -2.43760515e-02 -4.16598953e-02 -1.95047818e-02\n  7.01927617e-02 -5.32450387e-03  4.78428490e-02 -2.93725152e-02\n  1.91518757e-02 -1.96518600e-02 -2.98611782e-02  7.42161414e-03\n -3.49162519e-02 -5.83363138e-03  1.64495017e-02  2.40823701e-02\n  2.88291927e-03 -2.04611011e-02 -5.06454008e-03 -1.54415127e-02\n -2.26153564e-02 -7.27627147e-03 -1.20979818e-02 -3.31594758e-02\n -3.59642804e-02 -3.45402630e-04  1.92883201e-02 -1.97180137e-02\n -1.65046267e-02  4.47130799e-02  3.53365690e-02  6.52790116e-03\n  5.55503066e-04 -6.87605739e-02  2.04200149e-02  5.48351333e-02\n  4.00113203e-02  1.48110064e-02 -2.45207571e-03 -4.15659957e-02\n  1.36622682e-01 -4.62872684e-02  9.52337962e-03  4.79559824e-02\n -2.71367729e-02 -1.25195435e-03  2.15744488e-02 -8.74115080e-02\n -1.25610204e-02 -1.25337929e-01 -3.18976268e-02  4.95265611e-02\n  4.03054096e-02 -4.36920859e-02 -4.18835282e-02 -2.45106574e-02\n -4.28251028e-02  4.21351679e-02  3.10560465e-02  1.71298701e-02\n  3.77449878e-02  1.47499349e-02  7.04736561e-02  1.35664418e-02\n  4.38372679e-02  4.06634957e-02 -9.82957110e-02  2.89482679e-02\n  1.46390041e-02 -6.25630841e-02  5.14227003e-02 -1.46533521e-02\n -4.81035672e-02  2.70257480e-02 -7.42846355e-02 -3.19766365e-02\n  3.40388380e-02 -3.59630734e-02 -3.07467412e-02 -5.35045564e-02\n -2.04185508e-02  1.93501618e-02  4.52056304e-02  7.74781927e-02\n -1.10341124e-02 -2.67530438e-02 -6.96237683e-02 -2.79856585e-02\n  1.60274897e-02  2.14657653e-02 -7.45202973e-02  9.76544898e-03\n -8.29138458e-02  9.72975977e-03  8.49412903e-02  6.42236555e-03\n -1.03350235e-02 -2.23434661e-02  1.16824228e-02  4.08227136e-03\n  1.99749470e-02  4.10861373e-02  2.12182477e-02 -4.14755847e-03\n -4.92001474e-02 -4.12304141e-02  4.88831252e-02  1.17512429e-02\n -9.72739700e-03 -8.74042977e-03 -7.19106104e-03  3.53256688e-02\n -1.74868423e-02 -8.53679851e-02  4.09257859e-02  2.67431252e-02\n -1.73066314e-02 -3.07000950e-02 -5.77944424e-03  9.08066183e-02]",
         " you can learn to do it"
        ],
        [
         "10",
         "10",
         "Stay, I Pray You",
         "how can i desert you. how to tell you why. coachmen hold the horses. stay i pray you. let me have a moment. let me say goodbye. . to  and river forest and waterfall. orchard sea and sky. harsh and sweet and bitter to leave it all. . . i'll bless my homeland 'til i die. how to break the tie. we have shed our tears. and shared our sorrows. though the scars remain. and tears will never dry. i'll bless my homeland 'til i die. . . never to return. . . finally breaking free. . . you are all i know. you have raised me. . . how to turn away. how to close the door. . . how to go where i have never gone before. . . how can i desert you. how to tell you why. coachmen hold the horses. stay i pray you. let me have a moment. let me say goodbye. . . ahahahahahah. ahahahahah. . . ahahah. . . harsh and sweet and bitter to leave it all. i'll bless my homeland 'til i die. . . i'll bless my homeland. . . i'll bless my homeland. . . i'll bless my homeland 'til i die",
         "0.171",
         "0.67",
         "0.158",
         "-0.4019",
         "[-6.36095367e-03  2.41356939e-02  2.07296922e-03  1.67337693e-02\n  5.67868305e-03 -5.81421554e-02  5.19975126e-02  1.14879124e-02\n -1.07946675e-02 -7.25054368e-02 -3.13144401e-02 -4.44732234e-02\n  3.14230248e-02 -1.88700333e-02 -4.16239053e-02  3.98798585e-02\n  2.55670249e-02 -4.14009206e-02 -6.51336983e-02 -3.11726201e-02\n -3.65993343e-02 -3.69133987e-02 -1.90857379e-03  3.90704684e-02\n -5.29427454e-02  1.99025273e-02 -7.62125896e-03  4.34000492e-02\n -3.46132778e-02  4.89914306e-02  3.11508793e-02 -2.12875828e-02\n  5.06133633e-03 -1.21178050e-02 -7.17266500e-02  6.24611378e-02\n -2.18903907e-02 -5.70895448e-02  3.31228785e-02  5.03872102e-03\n -5.23555093e-02  3.78627330e-03  1.51649835e-02  1.83793996e-02\n  1.58621036e-02 -9.76228528e-03  2.23996565e-02  1.08503001e-02\n -1.08119939e-02 -3.45749669e-02 -1.72038574e-03  5.63734851e-04\n -7.86876678e-02  2.70365756e-02  3.48400511e-02  2.45217849e-02\n -5.47100939e-02 -1.46886683e-04  4.71765324e-02 -1.55794434e-02\n -6.70322627e-02 -2.45963987e-02  3.39356884e-02 -7.93763101e-02\n -1.06535936e-02 -2.75499076e-02  3.32704969e-02  3.38442810e-02\n -6.62907735e-02  3.01216561e-02 -5.54249622e-02  5.73077565e-03\n -2.52470300e-02 -6.70163408e-02 -4.22086567e-03  2.52375863e-02\n -1.23274000e-02 -2.91629322e-02  1.33303432e-02  5.37889486e-04\n  1.16885211e-02 -1.03089496e-01  6.15151078e-02 -4.02737148e-02\n  9.77892056e-02  7.01781958e-02  2.69133085e-03  1.77528840e-02\n -5.62885217e-02  3.54860052e-02  5.29797971e-02 -2.79996116e-02\n  2.69109719e-02 -2.91227340e-03 -7.02896491e-02  1.30311036e-02\n  3.98573512e-03  3.98067310e-02 -1.24024889e-02 -8.38597715e-02\n  1.20191909e-02 -9.72760990e-02 -5.82065284e-02  4.81373295e-02\n  1.08829392e-02 -2.39059236e-02  3.08880843e-02 -6.83776066e-02\n -3.95213999e-02  2.53714677e-02 -2.31593121e-02  1.00941844e-02\n  1.50696868e-02 -4.01910879e-02 -1.05290867e-01  3.98281403e-03\n -1.42249623e-02  6.60018027e-02  2.23644078e-04 -3.76771726e-02\n  2.25225911e-02 -2.32827161e-02  2.59287730e-02 -6.04253728e-06\n  2.44014114e-02 -3.77653316e-02 -3.34398123e-03 -5.47892088e-03\n  2.22172905e-02 -1.71518866e-02 -1.43829668e-02 -1.43710244e-02\n  2.99315620e-02 -1.07445374e-01 -2.84153689e-02 -5.14751077e-02\n -8.29426851e-03 -3.35708708e-02 -1.41183659e-02  2.71969847e-02\n -5.83133250e-02 -9.14556459e-02 -1.81677274e-03 -2.73872577e-02\n -2.17291173e-02 -4.75723371e-02  9.86763393e-04  3.62510271e-02\n  2.99504865e-02 -2.18738690e-02  1.14038512e-02  1.12644479e-01\n -2.38712840e-02 -1.61128584e-02  3.79479267e-02  2.60676146e-02\n -3.19750495e-02  1.09179690e-02  2.06220001e-02  8.24979041e-03\n -6.05087206e-02 -1.34531893e-02  4.74157482e-02  6.55153096e-02\n  6.27063040e-04 -8.97162408e-02 -2.38332488e-02  3.88027653e-02\n -2.28771325e-02  5.32502383e-02  2.74724625e-02  5.90739287e-02\n  3.91257331e-02 -4.85178828e-02  1.90520398e-02 -9.59758535e-02\n  4.43907417e-02 -3.42938490e-02  7.49140456e-02  4.34945384e-03\n  3.66964601e-02 -5.66128036e-03  3.70814018e-02 -1.05556510e-01\n  3.61099169e-02 -3.91020533e-03  8.13821517e-03 -3.96419242e-02\n -3.74371000e-02 -5.06292039e-04 -2.94188485e-02 -4.13743444e-02\n -2.09171362e-02 -3.21640540e-03 -3.36143747e-02 -6.29892722e-02\n  5.44976480e-02 -5.53318076e-02  1.58101972e-02  2.31643040e-02\n -1.75553802e-02 -1.06985465e-01  2.66556777e-02  3.16545963e-02\n  6.47215545e-02  2.12763008e-02  2.18521915e-02 -7.98336565e-02\n  4.00960520e-02  2.67701820e-02  1.21084638e-02  1.79275274e-02\n -3.14379483e-02 -3.55263948e-02 -1.20059894e-02  3.72380838e-02\n -5.65991402e-02  1.46630863e-02 -2.90632397e-02  2.55526416e-02\n  2.93133985e-02  2.57127434e-02  1.71926785e-02  2.67482605e-02\n -2.36645937e-02 -9.22251586e-03 -1.11719663e-03  4.96025719e-02\n  8.23458098e-03 -2.35092659e-02  3.70351039e-02 -2.85126325e-02\n -2.96118837e-02 -6.28409684e-02  5.19590303e-02  4.86569479e-05\n  2.06048898e-02  2.21415795e-03 -1.61613263e-02 -9.91257373e-03\n -8.91776010e-02 -6.70186579e-02 -9.05879214e-03 -7.07659544e-03\n -3.50091942e-02  3.56796570e-02  3.52279539e-03 -4.71934639e-02\n -1.99043918e-02  3.63067165e-02 -2.61450000e-02  5.15536405e-03\n  3.79544497e-02  5.92092015e-02  6.45734891e-02 -3.87804732e-02\n  1.50346672e-02  3.17943804e-02 -3.89762484e-02 -5.20315245e-02\n -4.10747454e-02 -1.36922887e-02 -3.24478745e-02 -4.37975395e-03\n -3.32139246e-02  5.84602058e-02  7.72039732e-03  6.47647530e-02\n -3.13940533e-02  7.39682280e-03  3.98382619e-02 -4.21741642e-02\n  1.98783427e-02  1.93855297e-02 -5.96295632e-02  2.24038791e-02\n  4.89153117e-02  2.90286932e-02  5.36873490e-02 -9.38450545e-03\n -7.09983483e-02 -6.02678284e-02  1.21584637e-02 -3.54445279e-02\n  7.86725506e-02  5.74175641e-03 -4.17716280e-02  5.82520245e-03\n -3.11585274e-02  2.90821008e-02  6.82172412e-03  4.50816490e-02\n  2.42515281e-02  2.57217810e-02 -6.00601286e-02 -8.33080802e-03\n  3.26767340e-02  3.57849970e-02  2.39088479e-02 -5.65974042e-02\n  9.05530006e-02 -5.55203892e-02 -2.72599589e-02  2.46906281e-02\n  1.92624982e-02  3.86447944e-02 -3.73640582e-02  1.06250130e-01\n  2.68581752e-02  6.82463348e-02  4.91330884e-02 -7.60198385e-02\n  3.95354703e-02 -6.31917175e-03 -3.61597426e-02  3.90668958e-02\n  3.75529169e-03 -7.80405924e-02 -2.16734447e-02  6.21602274e-02\n  3.65254022e-02 -1.17189754e-02  6.76251203e-02 -1.06159961e-02\n -4.63944711e-02 -2.46162284e-02 -3.93217430e-02 -1.74057577e-02\n -2.18097423e-03  3.89356050e-03  7.31132179e-02 -9.30845737e-03\n  2.08419026e-03  5.45556583e-02 -5.05497456e-02  7.64440279e-03\n -2.34146696e-02  2.03712918e-02 -9.99394059e-03  1.42690688e-02\n -6.83981031e-02  3.41112912e-02 -2.04527620e-02 -6.82022935e-03\n -3.84963746e-03  9.74166614e-04 -2.54338235e-02  5.66940717e-02\n  9.98298451e-02  1.40697882e-02 -4.79594432e-02 -3.78697328e-02\n -8.75433832e-02  6.46359380e-03 -6.54201163e-03  5.21841533e-02\n  3.67838927e-02  3.42358090e-02  3.90752181e-02  2.08312795e-02\n  2.03332584e-02 -6.33623153e-02 -2.07501426e-02 -2.25087944e-02\n -3.32069956e-02  1.15104290e-02  6.13605976e-02 -1.86025314e-02\n  2.36944631e-02 -5.59118502e-02 -1.60972178e-02  5.06414697e-02\n -4.78947163e-02  4.29274775e-02 -9.14045703e-03 -3.21961846e-03\n -4.52119857e-02 -3.70277464e-02  1.54360712e-01 -2.31134482e-02\n  3.39942649e-02  2.06861142e-02 -8.27710237e-03  2.26650340e-03\n  5.26755489e-02 -2.06146091e-02  2.16605458e-02 -2.54878700e-02\n -6.16889559e-02  9.89723578e-03 -2.41282694e-02 -7.24647492e-02\n  2.97940336e-03 -7.60313943e-02 -5.62096462e-02 -6.97728097e-02\n  2.39798035e-02 -5.43748103e-02 -3.92108336e-02  5.48413545e-02\n -1.68608618e-03  1.91977806e-02 -2.49958076e-02 -4.48737890e-02\n -5.10986038e-02 -3.20428833e-02 -4.05846396e-03 -2.90212352e-02\n  4.86810394e-02 -6.90584630e-02 -6.37539476e-03 -6.07851893e-02\n -2.43197735e-02  2.44842172e-02 -9.50771570e-03  1.78850710e-03\n  3.32580060e-02 -5.68772387e-03 -5.78362010e-02  2.57299785e-02\n  1.38184698e-02  6.21252581e-02  1.17846821e-02 -2.23274846e-02\n -3.09510366e-03  3.59988655e-03  1.19799178e-03  2.28001140e-02\n -6.71473145e-03 -5.85082639e-03 -1.53411571e-02  1.97688248e-02\n  7.16337338e-02 -4.57025133e-02 -3.24884779e-03 -2.74287700e-03\n  3.75161991e-02  9.17453878e-03 -2.25833971e-02 -2.30834354e-03\n  1.39193302e-02 -1.24372222e-01 -2.09543407e-02  1.62510108e-02\n -2.55692471e-03 -1.54422056e-02  7.73496879e-03 -4.59480425e-03\n  1.42661491e-02 -7.22900778e-02  4.52068560e-02  1.55683151e-02\n  6.21369295e-02 -1.97965303e-03 -1.78606843e-03 -4.32255343e-02\n  4.13936973e-02  6.38348088e-02 -4.49792994e-03  3.81283648e-02\n  2.02935804e-02 -3.48733738e-02  5.21753095e-02 -1.49066253e-02\n -5.88439964e-02  6.22881688e-02 -2.31295023e-02 -3.62797976e-02\n -5.61511591e-02 -2.18348973e-03  2.35930202e-03 -3.77119258e-02\n -4.76659834e-02 -1.94889680e-02  4.45104763e-02  5.35028800e-02\n -2.23069210e-02 -4.23582308e-02 -3.65759656e-02  4.34504300e-02\n  9.59622208e-03  1.30243842e-02 -5.54404035e-02 -7.57527491e-03\n -4.14967276e-02  1.37853948e-03  6.54213130e-02  5.25258854e-02\n -2.35204445e-03  3.32297832e-02  4.43438441e-02 -5.01688570e-03\n -4.53468598e-02  6.02746271e-02  4.25343355e-03  3.42113823e-02\n  3.77232837e-03  5.10489717e-02  5.75360768e-02  1.19800093e-02\n  2.14288887e-02 -5.83664235e-03  6.95117936e-02  6.16941489e-02\n -5.69158839e-03 -2.70371959e-02  2.28165779e-02  5.81030101e-02\n  1.24464883e-02  1.90761816e-02 -7.71858469e-02  5.71982600e-02]",
         " i'll bless my homeland 'til i die"
        ],
        [
         "11",
         "11",
         "We'll Go from There",
         "i hope lily's happy to see me. be honest vlad popov how could she not be. . sung. i may have gotten fatter. but maybe that won't matter. bottom line... i'll win her. we'll do some reminiscing. she'll see what she's been missing. over wine.... and dinner. . and though i know i've grown a tiny bit gray. some women say i look distinguished this way. i'll bow as if i'm still a frisky young pup. let's hope that i can straighten up. if she says no we'll all lay low. and we'll go from there. . . hands shaking heart thund'ring. meet the royal mess. start smiling stop wondering. why did i say yes. . . this chance is all i've got. . . keep a grip and take a deep breath. and soon we'll know what's what. put on our show. rewards will flow. and we'll go from there. . . and we'll go from there. . . and we'll go from there. . . and we'll go from there. . . oh what a lovely ride. and what a lovely day. . . for a totally illegal. . . lovely getaway. . . i may have gotten fatter hands shaking. but maybe that won't matter heart thundering. bottom line... meet the royal. i'll win her mess. we'll do some reminiscing start smiling. she'll see what she's been missing stop wondering. over wine why did i say. and dinner yes. . and though i know i've grown a tiny bit gray this chance is all i've got. some women say i look distinguished this way. keep a grip and take a deep breath. i'll bow as if i'm still a frisky young pup and soon we'll know what's what. let's hope that i can straighten up. . . but no more doubt. . . no time to spare. . . we're nearly out. . . so let's prepare. . . we're on our way. to who knows where. and we'll go. and we'll go. and we'll go. from there. . . we'll go from there",
         "0.119",
         "0.691",
         "0.19",
         "0.9862",
         "[-2.60819513e-02  3.30789783e-03 -1.86176430e-02 -7.58522144e-03\n  8.87144357e-02  4.87527922e-02 -2.82682329e-02 -3.83273251e-02\n  7.42314896e-03  5.96526042e-02  2.17318758e-02 -3.21012177e-02\n -2.66211219e-02  6.52280748e-02 -1.89645216e-02  3.08748707e-02\n  7.45065231e-03 -1.48696890e-02 -4.99045216e-02 -2.83582862e-02\n -8.81826598e-03  1.19473096e-02 -4.76775914e-02 -9.58787918e-04\n -3.03030992e-03  4.84845974e-03 -3.31407823e-02 -8.23945552e-03\n  4.48356867e-02  1.45083396e-02  3.93829867e-02  1.11692464e-02\n -9.90376715e-03 -5.75738363e-02 -6.70057209e-03 -3.24055552e-02\n  3.91897112e-02  2.14341227e-02 -1.78425666e-02 -1.99518856e-02\n -4.79954742e-02 -3.36655229e-02 -2.93950867e-02 -1.71388555e-02\n  2.21582372e-02 -2.35289484e-02 -4.88600619e-02  2.56279670e-02\n  1.22510269e-02  1.74266286e-02  8.19721550e-04  2.33525466e-02\n  6.76880404e-03  1.87254716e-02  5.38164973e-02 -4.93330471e-02\n -2.41968837e-02 -7.29687363e-02  1.13566071e-02  5.44230342e-02\n  2.72006150e-02 -6.55545890e-02 -1.34478882e-02 -7.41971657e-02\n  2.86900457e-02 -1.07464544e-03 -2.11212710e-02  4.73795347e-02\n  1.30162826e-02  4.03565913e-02  9.18798894e-03 -3.34369577e-02\n -7.20680505e-02  1.16373822e-02 -2.42693014e-02 -9.58586670e-03\n -4.92532589e-02 -1.35694200e-03  1.07062370e-01  3.15498896e-02\n -3.54153812e-02 -1.01825833e-01 -4.31982009e-03  1.70759298e-02\n -4.06396911e-02  1.91889126e-02  7.30225593e-02 -2.02665702e-02\n -4.38918360e-02  2.85618193e-03  3.28791700e-02 -3.19208466e-02\n  4.09128293e-02  3.88037488e-02 -1.34190181e-02 -1.35445958e-02\n  2.66457107e-02  4.28391919e-02  3.55525911e-02 -2.79246587e-02\n -9.58901085e-03  6.25431305e-03 -1.93390530e-04  1.75182708e-02\n -2.91268136e-02  6.48126975e-02  3.40366177e-02 -5.63863479e-03\n  5.01514524e-02 -2.59759254e-03  2.78688539e-02 -9.44873784e-03\n  5.02400734e-02  5.30703254e-02 -1.03673451e-01  3.79879437e-02\n -2.23966148e-02 -4.15269285e-03  1.61835346e-02 -2.88210250e-02\n -1.35540878e-02 -3.43618542e-02  3.66421081e-02  1.26646564e-03\n  1.36615381e-01  1.50401797e-02  1.84188168e-02  1.60380714e-02\n  1.11682517e-02  2.22363938e-02  4.57145274e-02 -5.67302154e-03\n  3.27799395e-02 -1.56201813e-02  2.64276117e-02 -6.55571930e-04\n  9.25606210e-03 -2.61214916e-02 -7.31110619e-03  2.24488880e-02\n -1.61257535e-02 -6.00674339e-02  2.32884157e-02  1.99103933e-02\n  2.00834423e-02 -8.56546499e-03 -1.11911986e-02 -1.44149344e-02\n -1.83857549e-02 -1.54558802e-05 -1.16525283e-02  3.99781987e-02\n -2.29610968e-02 -9.57248807e-02  7.52991140e-02  5.44676371e-02\n -1.49786603e-02  7.20435828e-02 -7.93784577e-03  1.16238622e-02\n -3.05130463e-02  4.03029053e-03  5.14707267e-02  1.47723975e-02\n -5.83131053e-02 -3.36024091e-02  1.11033302e-02  2.74091009e-02\n -3.46492268e-02  1.29763670e-02 -2.58471165e-02  1.15247583e-03\n  5.43691963e-02  1.57044791e-02 -1.89681482e-02  5.07313646e-02\n  9.32511166e-02 -4.32939082e-02 -7.21932054e-02  6.86901212e-02\n  4.46651578e-02 -3.48525238e-03 -7.67066190e-03 -5.57462201e-02\n -7.67414458e-03 -1.40180159e-02  4.66384739e-02  9.74215101e-03\n -2.06402186e-02 -2.16620858e-03 -6.11053891e-02 -5.01343161e-02\n  3.08105052e-02 -2.83412971e-02  8.50871652e-02 -6.62473589e-02\n -2.26942748e-02 -5.74186072e-02 -9.95810237e-03 -4.63613280e-04\n  1.78898405e-03 -6.50150403e-02  3.88042070e-02  3.94682772e-02\n -2.95055769e-02  4.59031947e-02  1.93878915e-02  3.54974158e-03\n  2.67147180e-02  4.07410078e-02 -2.66338270e-02  4.75482680e-02\n  2.60282829e-02  7.47860372e-02 -2.26073302e-02  6.58247247e-02\n -5.49929030e-02  4.93450032e-04 -1.15261767e-02 -2.65026167e-02\n  6.58290014e-02  2.30156798e-02  1.83067247e-02 -2.23083235e-02\n -5.18903807e-02 -1.75205208e-02 -2.44766418e-02  2.54318994e-02\n  9.58137494e-03 -8.62173084e-03  4.08891700e-02 -4.41625006e-02\n  2.83623729e-02 -7.73370191e-02 -7.78545579e-03 -7.91890081e-03\n -3.94276083e-02  3.13713169e-03 -5.16655110e-02  2.76524425e-02\n -2.74984203e-02  1.40251741e-02 -6.26557413e-03  9.24780034e-05\n -3.97136398e-02  8.15643743e-03  4.19505723e-02 -2.13423688e-02\n  4.89161238e-02  2.96068285e-02 -5.64961918e-02 -1.83971450e-02\n  2.21813004e-02  5.65705113e-02  1.03723079e-01 -2.38124672e-02\n -2.82550342e-02 -5.40655060e-03  3.24055851e-02  5.69508672e-02\n -4.47845943e-02 -1.90391317e-02 -3.15228617e-03  2.11503729e-02\n -8.04016739e-03 -2.83362493e-02 -6.43314049e-02  9.96120367e-03\n -1.79885887e-02 -1.61958262e-02 -2.61241756e-02 -6.61845831e-03\n  5.97720407e-02 -1.42061682e-02  4.25420105e-02  3.88602614e-02\n  4.14985456e-02  4.17261478e-03  3.27209085e-02  4.30478379e-02\n -4.19037044e-02 -5.34397401e-02  8.55085030e-02  3.26396860e-02\n -1.12348255e-02 -3.25613059e-02 -3.21266428e-02 -7.09806010e-03\n  1.88295767e-02 -8.39981774e-04 -1.50990160e-03  6.07329644e-02\n -5.71502745e-02 -4.08539996e-02 -5.68779521e-02  1.55282784e-02\n  2.54376959e-02 -2.80196406e-02 -4.15612273e-02  3.85106131e-02\n  1.06170233e-02 -2.71812100e-02  1.90170165e-02 -5.30470489e-03\n -4.15753089e-02 -1.28011834e-02 -2.24683620e-02  4.18034084e-02\n -3.86819728e-02  4.19983789e-02 -5.22948522e-03  3.48584615e-02\n  2.49204300e-02 -1.51117761e-02  2.21854299e-02 -4.63159959e-04\n  8.18003640e-02  1.11982739e-03 -8.23927671e-03 -2.31954595e-03\n  2.74783783e-02  8.27654004e-02 -7.29268068e-04 -5.94895147e-02\n -1.41769946e-02  5.02375886e-03 -3.41084041e-02  2.33180318e-02\n  3.54296155e-02  3.40858698e-02  2.79708654e-02  2.83882115e-02\n  7.33271567e-03  1.05967939e-01  6.54917434e-02 -2.11035796e-02\n  5.99458301e-03  9.12431162e-03  3.32697737e-03  4.93012182e-02\n  6.27088174e-02  5.41450903e-02 -6.80026179e-03  3.42452377e-02\n  7.17372745e-02  2.33916473e-03  2.39662174e-02  1.11840114e-01\n  1.20424880e-02 -8.82477686e-03 -1.11856805e-02 -1.18804742e-02\n -4.83895466e-02  2.60050781e-02  3.54180373e-02  3.62845473e-02\n  2.08205935e-02  4.21835110e-02 -8.18141270e-03 -1.11814514e-02\n  7.45901167e-02 -4.45167907e-03  4.79739830e-02 -1.23523427e-02\n -4.24119942e-02 -1.41815946e-03  5.97794093e-02  9.53126606e-03\n -1.78562775e-02 -3.69275622e-02  3.45966294e-02  3.24307606e-02\n -2.22653151e-02  1.09935217e-02 -2.42694803e-02  9.86917038e-03\n -3.06761079e-02 -4.84806225e-02  4.02657781e-03  1.49374292e-03\n -3.91824171e-02  2.84173880e-02  1.75351668e-02 -3.89861204e-02\n  4.11825924e-04  2.79586911e-02 -2.89982762e-02  3.20145227e-02\n -3.19338515e-02  2.31848042e-02  2.39872225e-02  3.87748368e-02\n -1.50066391e-02 -1.97727811e-02  3.45936907e-03  5.43206483e-02\n -2.17604917e-02 -3.74662764e-02  2.77996473e-02 -6.36164621e-02\n  3.35521027e-02 -3.30564752e-02  6.86734263e-03  1.24137765e-02\n -1.90754309e-02 -2.36131344e-02  3.32521573e-02 -2.98775248e-02\n  4.36785854e-02 -3.86740714e-02  9.35930014e-03 -2.92983204e-02\n -6.56435043e-02  1.02539146e-02 -3.23492475e-02 -5.91379628e-02\n -3.10868975e-02 -2.38050427e-02 -2.65478343e-02 -4.09347862e-02\n -7.31498282e-03  2.09062491e-02  2.92385053e-02  6.76178858e-02\n -1.43292584e-02  4.37764917e-03 -1.29739032e-03  5.76256476e-02\n -5.10144653e-03 -3.40799950e-02  8.75018165e-03 -1.31237870e-02\n  9.03657079e-02 -1.11704908e-01 -4.68010306e-02 -2.54853815e-02\n  1.93262044e-02 -2.38639233e-03 -4.08467501e-02  1.89026278e-02\n  3.53429257e-03 -1.28285706e-01 -1.46689769e-02  4.85729277e-02\n  6.86226785e-02 -7.26535842e-02 -1.61988055e-03  3.76457870e-02\n -9.05107008e-04 -1.36609515e-02 -4.45041321e-02  3.78072485e-02\n  1.93735845e-02 -4.28220816e-02 -2.19629742e-02 -9.29052830e-02\n -6.25877734e-03  8.36402923e-02 -1.69404205e-02  3.32330950e-02\n  3.39692645e-02 -3.63999233e-02  1.08418368e-01  2.73834299e-02\n  5.24056097e-03 -2.48356611e-02  1.78914946e-02 -5.16274804e-03\n -4.03511114e-02 -4.74817306e-02  1.88097525e-02 -4.44254093e-02\n -3.62429693e-02  2.93754637e-02 -1.34720735e-03 -1.43583845e-02\n -6.39056936e-02  3.15164737e-02  4.80207987e-02 -1.55079900e-03\n -1.46300308e-02  4.18271534e-02 -1.00961328e-01 -5.65431751e-02\n -6.10711239e-03  2.75711082e-02  5.65835508e-03 -8.00628029e-03\n  1.95455505e-04 -5.82235605e-02  1.54083790e-02  1.23088241e-01\n -3.25610898e-02  2.73757917e-03 -4.89022732e-02  2.67294818e-03\n -1.99813135e-02 -6.62152888e-03  4.08654027e-02 -1.00024473e-02\n  2.59257518e-02 -5.63184284e-02  1.03709854e-01 -6.59606382e-02\n  4.87477928e-02 -8.19875970e-02 -5.14961965e-02 -3.69209312e-02\n  1.52850375e-02 -5.18321693e-02 -1.14397227e-03  5.37815364e-03]",
         " i'll win her"
        ],
        [
         "12",
         "12",
         "Everything to Win",
         "what are they saying. wonder how long they'll be. why should i worry worrying's not like me. nothing to do but pace and stew. and wait till the girl walks in. why panic now with everything to win. . nothing but silence this could be bad. but no let's assume it's good. thought it was foolproof. nothing is foolproof. woah better knock on wood. girl gets a family boy gets rich. and fairytale gets a spin. how can we fail with everything to win. . i wonder if our paths will ever cross again. the way they did when you were eight and i was ten. we said this was goodbye but even so. you never know. you never know.... . i should be glad. that we're breaking free. but nothing is what it was. i didn't know she mattered to me. but now i can see she does. conman and princess get their wish. and fairytale comes true. funny one small part i never knew. with everything to win. the only thing i lose is... you",
         "0.107",
         "0.648",
         "0.245",
         "0.988",
         "[-3.15671600e-02  3.34345363e-02 -3.27438563e-02  5.49735688e-03\n  7.81631917e-02 -2.57775784e-02  2.94617843e-03 -1.53892953e-02\n  2.82614380e-02 -1.85416639e-02 -1.01397773e-02 -1.04097445e-02\n -6.50156140e-02  3.38625908e-02 -4.44353139e-03  3.62635404e-02\n  1.63181294e-02 -2.07442492e-02 -2.25920156e-02  2.51946021e-02\n -3.21164653e-02 -3.66532244e-02  3.42302918e-02 -5.78202493e-03\n -1.80598088e-02  5.90196950e-03  6.70586363e-04  3.82686518e-02\n  3.40920947e-02 -3.83293517e-02  5.63099235e-02 -2.28202883e-02\n  1.24240583e-02 -5.99135347e-02  4.07042168e-03  1.01703657e-02\n -1.88733619e-02  2.86609810e-02  4.21718135e-02 -3.18566896e-03\n -4.56846841e-02 -6.48455769e-02 -1.41254161e-02 -8.35273787e-03\n  3.18385400e-02  3.93044315e-02 -1.59093011e-02 -9.69966967e-03\n -5.75171551e-03 -2.43684538e-02 -4.26687673e-02 -1.26694571e-02\n  7.17180176e-03 -5.03712660e-03  5.99496439e-03  1.67074669e-02\n -1.78506449e-02  6.01919834e-03  2.27684751e-02  1.85282342e-02\n -4.49664854e-02 -2.21947674e-02  5.56599982e-02  2.90707760e-02\n -7.55126327e-02  1.97029822e-02 -2.32774280e-02  4.94527854e-02\n -1.26046166e-02  5.73696271e-02 -2.70396639e-02  3.04315165e-02\n  3.64608951e-02 -5.34190470e-03 -3.84165943e-02  1.92895886e-02\n -5.92736937e-02  3.88690382e-02  5.78619763e-02 -1.37547180e-02\n -3.73511463e-02 -4.32397649e-02 -3.51198623e-03  5.88194327e-03\n -1.89130697e-02  5.27968146e-02  3.29138488e-02 -3.56542096e-02\n -3.89989279e-02 -1.21563878e-02  2.68177893e-02  8.98823421e-03\n  3.69811691e-02 -5.53706773e-02 -3.56864333e-02  2.85418965e-02\n  3.59837115e-02  1.35838315e-02  5.72615005e-02 -1.11604808e-03\n -1.32562511e-03 -2.90120319e-02 -2.27545742e-02  7.03331903e-02\n -7.30530173e-03 -3.03959399e-02  3.34077254e-02 -4.63725775e-02\n -1.09013747e-02  1.93466451e-02 -1.96125358e-02  2.56708674e-02\n  4.64707129e-02 -1.47960633e-02 -5.51275238e-02  1.80589221e-02\n  2.49087065e-02 -4.64875773e-02  2.77436548e-03  2.06728559e-02\n -1.16877491e-02  3.09809539e-02  2.84582600e-02 -1.46799907e-03\n  7.44246840e-02 -1.01488940e-01  8.99824686e-03 -5.29447459e-02\n -7.14355102e-03  5.33703482e-03  8.13341606e-03 -5.62056005e-02\n  3.85585763e-02 -7.69539620e-05 -1.96923520e-02  3.49286236e-02\n -2.23353077e-02 -4.31569405e-02 -3.05938558e-03 -4.87082871e-03\n -4.31913733e-02 -5.02464734e-02  1.61971748e-02  5.67863919e-02\n -4.63646166e-02  8.23601615e-03 -9.37706139e-03  3.90100628e-02\n  2.84932721e-02  1.52683258e-02 -7.12534273e-03  7.88720995e-02\n -5.18634310e-03 -9.47367214e-03 -1.00569548e-02 -3.61078390e-04\n  7.70024881e-02  4.41927873e-02  3.55547317e-03  6.96051568e-02\n -2.81576011e-02  6.77486416e-03  8.99664406e-03 -2.12736968e-02\n -2.18525492e-02 -2.23766994e-02 -7.55591094e-02  2.83422545e-02\n -1.49683887e-02  4.55126092e-02  6.99099014e-03  7.13040605e-02\n  5.97879142e-02 -4.67123184e-03  1.73686054e-02  1.97495730e-03\n  4.82548326e-02 -7.14897085e-03 -6.08130954e-02  2.05888897e-02\n  3.22694657e-04 -2.39226390e-02 -1.86218936e-02 -1.30335265e-03\n -2.57984214e-02 -2.97567481e-03  2.76727732e-02 -8.86019692e-03\n -1.74839608e-02  2.13954039e-02 -5.33319078e-04 -4.11392823e-02\n  1.20372083e-02  3.12676355e-02  6.51220828e-02 -6.36192365e-03\n  8.37702900e-02 -4.98330966e-02  8.94673616e-02  3.12519036e-02\n -4.61199321e-02 -1.22164130e-01  5.80351092e-02  5.52654341e-02\n  2.66443770e-02  2.73036547e-02  7.40193063e-03 -8.33998492e-04\n -2.67596450e-03 -9.64662526e-03 -5.52272834e-02  4.37549949e-02\n  3.38591039e-02 -1.33443717e-02 -1.47905294e-02  4.19960320e-02\n -4.16896828e-02 -9.97650344e-03 -2.44410448e-02 -6.53244881e-03\n -1.57232899e-02  3.12411133e-03 -1.50287859e-02  1.54171279e-03\n -4.96585108e-02 -1.07650170e-02 -4.60302830e-02 -1.86072532e-02\n  2.03163233e-02 -2.23940797e-03  4.36823443e-02 -3.00455764e-02\n  2.60668714e-02 -8.16260129e-02 -1.45095587e-02  1.78382806e-02\n  7.77073670e-03  1.84458308e-02  1.80929143e-03  8.24209303e-03\n -6.96810335e-02 -2.81865392e-02  8.09840485e-03 -2.83920821e-02\n -5.12386952e-03  9.40035854e-04 -1.34053826e-02 -2.01515872e-02\n  2.93719936e-02 -7.57100410e-04 -1.58263426e-02  5.45840058e-03\n  1.01481080e-02  7.15159904e-03  4.63242456e-02 -4.47776131e-02\n  1.98933408e-02  2.56045870e-02  9.57429875e-03  3.73200104e-02\n -1.54064074e-02 -4.38018702e-03  1.55283222e-02  9.06332396e-04\n  3.97792384e-02 -1.08308364e-02  6.23467518e-03  2.61659678e-02\n -1.27879698e-02 -1.12169534e-02 -5.05415164e-03 -6.46912605e-02\n  1.01534128e-02 -6.90779183e-03 -2.76590250e-02  2.46653780e-02\n  3.20829563e-02 -4.02962379e-02  1.01818591e-01 -2.90466640e-02\n -5.12367226e-02 -7.95997120e-03  5.41668013e-02 -2.81696767e-02\n  1.11647695e-02 -2.14760322e-02  5.54705262e-02 -1.68807153e-02\n -3.51789854e-02  5.45181043e-04 -2.38758046e-02  3.08464319e-02\n  7.18721449e-02 -1.96499862e-02 -5.36700040e-02  2.18302570e-02\n  1.05742423e-03 -1.20046467e-03  7.91420601e-03  2.67100148e-02\n  4.25163396e-02 -8.99646282e-02 -7.38445623e-03  5.84105328e-02\n  2.19910406e-04  4.18196656e-02 -2.20840462e-02  3.37333456e-02\n -2.78859437e-02  2.52863206e-02  4.67009246e-02 -3.81651148e-02\n  4.22169194e-02 -3.73420678e-02 -7.83025473e-03 -2.83554234e-02\n  4.27595749e-02 -3.27134170e-02 -4.25436459e-02  1.22556109e-02\n -1.00411440e-03  1.06626675e-01 -6.08249158e-02 -3.11288536e-02\n -5.81164695e-02 -6.38068793e-03  2.84695923e-02  1.37503482e-02\n  3.31662828e-03  6.59427326e-03  2.91893054e-02  1.33785885e-02\n  3.10422257e-02  3.01624183e-02 -5.57775572e-02 -2.80659944e-02\n -2.82920548e-03  6.86063692e-02  2.05866154e-03  4.50641885e-02\n  4.87921899e-03  6.84273392e-02 -1.18910000e-02  3.31522115e-02\n  5.13437055e-02  2.84247007e-02 -7.64984488e-02  7.78080896e-02\n  8.16762820e-02 -2.03569047e-02 -3.72998752e-02 -3.48437279e-02\n -6.18294673e-03 -1.48000009e-02 -4.47415933e-02  1.67650159e-03\n  4.13278006e-02 -9.22569633e-03  5.48813976e-02 -5.29634431e-02\n  3.41495462e-02  2.57583335e-02  2.73013096e-02 -5.63030504e-02\n -3.05121373e-02  1.51946973e-02  3.23122032e-02  1.51440399e-02\n  6.03738651e-02 -2.52803564e-02  1.40555780e-02  1.87580455e-02\n  7.26600513e-02  6.69533759e-03  9.55788419e-03 -3.95318633e-03\n  3.03644817e-02 -9.68880020e-03  8.38511288e-02 -1.27712321e-02\n -2.70863138e-02  1.70950487e-03  7.74405710e-03 -3.43492925e-02\n  5.19769266e-02  6.14652000e-02 -8.55359063e-03 -5.78494696e-03\n -2.85177249e-02 -2.55185533e-02  9.46862530e-03  5.56271300e-02\n  6.02096831e-03  1.58848253e-03  2.70096888e-03 -1.45165706e-02\n  6.25879541e-02 -5.35825528e-02  4.87497859e-02 -3.47504094e-02\n -3.67424861e-02  7.86908530e-03 -2.68719569e-02  2.22189184e-02\n -1.18212244e-02 -1.68702919e-02  2.37454884e-02 -1.53545607e-02\n -6.58763992e-03  1.00487815e-02 -2.59903055e-02  3.68964225e-02\n  6.22656802e-03  5.65201193e-02 -1.89406201e-02 -1.55026687e-03\n  2.36936901e-02  4.15963456e-02  1.47226900e-02 -2.16139685e-02\n  4.08463031e-02  3.36098149e-02  4.66863103e-02 -9.71091911e-03\n  5.42063685e-03 -4.21136804e-02 -7.58919772e-03  3.32213305e-02\n -2.15589479e-02 -1.73058845e-02  3.18900272e-02  3.75986472e-02\n  7.29543567e-02 -1.72681697e-02 -3.49487662e-02  1.16882743e-02\n  2.77742054e-02 -2.52673980e-02 -4.18605469e-02 -3.64813432e-02\n  1.58118606e-02 -1.00162372e-01 -5.07346056e-02  8.05067923e-03\n  1.44320708e-02  9.43572074e-03 -1.80989336e-02 -2.18923111e-02\n  9.65722546e-04 -1.42955352e-02 -4.19278331e-02  5.16679138e-02\n  5.82769215e-02 -2.24815793e-02 -1.67288922e-03 -5.31724207e-02\n  6.17802935e-03  1.94878820e-02  2.89098583e-02  5.00872033e-03\n -6.38523847e-02 -3.24259177e-02  9.90726426e-02  5.67688718e-02\n -6.41973317e-02 -1.87908970e-02 -1.74657907e-02 -4.20861132e-02\n -2.83330604e-02 -5.97812347e-02  1.69119202e-02  8.40608496e-03\n -2.77541652e-02 -2.20001917e-02  2.35317852e-02  2.07277071e-02\n  1.93308238e-02 -9.97788645e-03  2.34032962e-02 -7.57937804e-02\n  1.61866900e-02  2.26113088e-02 -8.12096298e-02  4.87483330e-02\n  8.02737102e-02 -4.17749882e-02 -7.58235008e-02 -1.60464365e-03\n -1.63375977e-02 -5.36409952e-02  1.74358673e-02  7.73944780e-02\n -5.19529823e-03  5.25509529e-02 -3.01965214e-02 -1.72905847e-02\n  1.22529846e-02  4.45967726e-02  3.05472855e-02 -1.37490463e-02\n -1.41652599e-02  1.06130335e-02  7.44250044e-02 -9.95853916e-03\n  1.62067562e-02 -3.20703499e-02  4.25995626e-02 -3.73286307e-02\n -1.80537514e-02 -2.69145542e-03 -1.52411470e-02  3.96586470e-02]",
         " girl gets a family boy gets rich"
        ],
        [
         "13",
         "13",
         "Charles' Song",
         "was a brother in the trenches with me. we were allies on one side of history. and we fought for the right to go home and lay down and be free. . when i came back from the war i was lost. we had won but what was the cost. i would drink i would cry watch my life pass me by i would say. . my brother in arms has now gone away. promoted advanced allegiance astray. alone in australia until that one day. i found her my muse. my mavis oh how sweet. . she picked me up and brushed off the dust. she won my heart and earned all my trust. my savior that day made the doubt go away. go away go away. . i fell into love her beautiful smile. her wit and her charm they put me on trial. mavis oh mavis just stay for a while. she swept me away my only. . i gave her my life and she ripped out my heart. i left her alone and he tore us apart. he may have saved my life but now he takes it away. . my brother in arms has left me betrayed. hes dead to me now my debts been repaid. alone in a prison cell until that one day. . . ill have my revenge. oh mavis oh mavis. ill take what he gave. oh mavis oh mavis she was the one for you. so theyll know my pain. and one of us will never be the same",
         "0.171",
         "0.681",
         "0.148",
         "-0.7311",
         "[-4.41859290e-02  3.74738686e-02 -7.02181505e-03 -3.35796364e-03\n  4.93210666e-02 -2.54914891e-02  5.02810217e-02 -1.43040977e-02\n -2.46076286e-02  4.79229763e-02 -4.32378165e-02 -2.17317808e-02\n -8.22925270e-02  2.56738681e-02  5.33994893e-03  2.41999850e-02\n -1.20949550e-02  3.03091742e-02  2.68835146e-02 -1.08853839e-02\n -5.78508638e-02  4.70982157e-02  1.61549356e-03  7.48231485e-02\n  1.12938331e-02  1.00244610e-02 -4.04977947e-02 -1.03645036e-02\n -1.22781247e-02  7.09899366e-02  4.68217507e-02  1.39205679e-02\n -3.17448676e-02  1.27781350e-02 -3.68417390e-02  2.45831776e-02\n  1.01895339e-03 -2.29235813e-02 -5.93328662e-02 -2.00348720e-02\n -6.06173463e-02 -4.07605655e-02  2.96298116e-02 -7.33983442e-02\n  2.78226510e-02  2.10132413e-02  3.26078683e-02 -2.07636598e-02\n  2.36238781e-02  8.87355208e-03 -8.57725441e-02  5.37129939e-02\n -4.90675755e-02  5.51210046e-02  7.83437416e-02 -3.92494388e-02\n -8.65632296e-03 -2.52529867e-02  2.98550893e-02 -3.32324170e-02\n -1.59790064e-03 -4.71693724e-02  2.60767210e-02  4.39517619e-03\n -4.09892164e-02  1.39745628e-03 -1.45966075e-02 -1.39136277e-02\n  5.08952178e-02 -5.08405315e-03 -4.30284906e-03 -2.50205840e-03\n  2.93343272e-02 -4.63237017e-02 -2.48384289e-02 -3.58712533e-03\n -8.35528076e-02  3.49489935e-02 -5.23480214e-02 -7.46288747e-02\n  8.23478773e-02 -6.43283799e-02 -2.16559041e-04 -5.17225116e-02\n  5.15200496e-02  5.08341454e-02  8.13680813e-02  1.03046224e-02\n -2.99321376e-02  5.96607551e-02  1.69686545e-02 -1.01745101e-02\n  3.15398350e-02  4.66296412e-02 -4.04030271e-02  4.86328118e-02\n  1.94763560e-02  2.55353991e-02  1.12048984e-02 -2.25991034e-03\n  4.93138470e-02  5.99588361e-03 -4.75976355e-02  3.60716693e-02\n -5.09552397e-02  2.78481003e-02 -5.19891977e-02 -2.78465748e-02\n -4.64291349e-02 -2.46409383e-02 -1.50088789e-02  1.86605938e-02\n  5.88408560e-02 -4.12208736e-02 -1.07315309e-01  1.91008803e-02\n  2.70782579e-02  1.92425977e-02  8.17742199e-03  3.76676470e-02\n -4.92860039e-04  6.22800477e-02 -2.71141753e-02 -9.09471735e-02\n -1.00582652e-02 -1.05943121e-01 -4.22714949e-02  8.64769053e-03\n  2.13113260e-02 -2.24504452e-02 -1.36829009e-02 -5.69458492e-03\n  4.87820692e-02 -4.08055708e-02 -4.97246012e-02  3.05732246e-05\n -1.74193382e-02  4.15423699e-02  4.64316234e-02 -3.44640650e-02\n -6.22387929e-03 -1.09461267e-02  3.53789218e-02 -7.98557922e-02\n -5.56045622e-02  1.25909848e-02 -4.81015928e-02 -4.46730815e-02\n -2.88356990e-02  1.57466978e-02 -5.65554248e-03  6.07011020e-02\n  5.31820627e-03 -7.15631917e-02  1.59966014e-02  3.02942116e-02\n  2.19614878e-02  8.69310424e-02  9.36548263e-02 -8.06679297e-03\n  6.27666265e-02 -6.34382069e-02  1.25227729e-02 -1.31024383e-02\n -2.30483748e-02  2.44503263e-02 -1.29442774e-02  5.66219836e-02\n  2.80839428e-02  5.46130054e-02 -5.73163182e-02 -1.12801529e-02\n  6.79273382e-02  5.20922206e-02  1.15425987e-02 -2.04713363e-02\n -1.52097642e-02  1.46917477e-02  1.06660891e-02 -2.86284983e-02\n  2.86166538e-02 -1.65278912e-02 -3.79350968e-02 -2.20945757e-02\n  2.64051687e-02  8.93829949e-03  4.81404364e-02 -4.19236608e-02\n  1.98193956e-02  3.43901142e-02 -2.29406189e-02  3.39831114e-02\n  5.96400816e-03 -7.15028401e-03 -1.39031764e-02 -3.93581353e-02\n -3.55420038e-02  3.07761459e-03  3.73697728e-02 -1.31394863e-02\n -3.86404060e-02 -1.01808131e-01  5.71973920e-02 -3.30824964e-02\n -7.73617812e-03 -1.44808264e-02  5.91405034e-02  8.70190933e-03\n  2.76656467e-02  5.93148470e-02  4.00187960e-03  9.44475643e-03\n -8.26259106e-02  2.06000283e-02  4.16039079e-02  9.87473596e-03\n -1.01795122e-01 -3.14597599e-02 -2.48232670e-02 -2.40485696e-03\n  9.28528421e-03  2.69398484e-02  8.12140778e-02 -7.84374997e-02\n -1.21748894e-02  6.23438181e-03  3.19216028e-02  6.01297095e-02\n  2.49430761e-02  3.65956500e-02  5.63340709e-02 -5.16571812e-02\n -1.01337221e-03  4.78653125e-02  4.85751871e-03 -1.63763259e-02\n -1.58666598e-03 -1.05491874e-03 -3.70199271e-02  8.06196651e-04\n -2.69373525e-02  4.73634005e-02 -2.15817727e-02  4.69868211e-03\n  3.42683005e-03 -1.95742794e-03  3.42952758e-02 -7.33246356e-02\n -2.20695511e-02 -7.08999811e-03 -1.36281934e-03 -3.04819946e-03\n -5.15102819e-02 -4.58770320e-02 -2.15294454e-02  1.67520568e-02\n  1.15967821e-03 -3.59157217e-03 -6.65789247e-02 -5.52157760e-02\n -1.02262087e-02  1.75472684e-02 -4.37334296e-04  5.11348434e-03\n -6.46646246e-02  4.00747638e-03 -4.68912683e-02  1.08239800e-01\n  1.63926370e-02  4.55063395e-02  4.69013751e-02 -1.58151072e-02\n  1.44006563e-02 -3.67186293e-02 -5.07846661e-03  5.45981079e-02\n  3.31450813e-02  4.27966788e-02  5.17254062e-02  9.61924642e-02\n -3.90752312e-03 -6.59505799e-02  1.11347623e-02  1.68365166e-02\n -3.09420321e-02  3.18138227e-02 -1.34677282e-02  1.34920012e-02\n -4.24912423e-02 -7.44169252e-03  9.37896501e-03 -1.33723738e-02\n  4.14579250e-02 -3.88884655e-04 -5.80436662e-02  4.06166725e-02\n -3.11850500e-03  6.85808659e-02  2.28294171e-02 -4.64404151e-02\n -4.33957800e-02  4.52316478e-02  2.71599814e-02  5.21761179e-02\n -2.09210385e-02  2.33655293e-02  2.64223050e-02  1.14525296e-02\n -1.91059187e-02 -3.33336070e-02  2.57726274e-02  8.67039412e-02\n -2.12061852e-02  2.74585113e-02  3.22568007e-02 -7.40180537e-03\n  9.36126336e-02  1.14587713e-02 -5.68573587e-02  2.95681544e-02\n -1.58415940e-02  2.37866100e-02  1.53632322e-02 -6.76293205e-03\n  1.65468957e-02 -1.82325603e-03  1.59141831e-02 -6.19075038e-02\n -2.39437819e-02  1.67042818e-02  1.15262149e-02 -4.29723188e-02\n  4.20675986e-02  5.49549994e-04 -1.56717189e-02  2.85427812e-02\n -1.12492293e-02  5.29089570e-02 -1.06134042e-02 -4.84902598e-03\n  4.81066331e-02  6.18306780e-03  8.02350231e-03  2.67666262e-02\n  7.12550506e-02 -2.17163879e-02 -2.04051733e-02  3.61930914e-02\n -1.52539052e-02 -1.50479726e-03 -1.59445591e-02 -2.53509246e-02\n -5.48291057e-02 -4.19347957e-02 -1.84645038e-02  2.98990961e-03\n  2.03370191e-02  2.67576892e-02 -9.69965290e-03  3.34668085e-02\n  5.56201674e-02  2.85605974e-02  4.22167033e-02 -2.02659536e-02\n  1.14914216e-03 -2.19759136e-03  3.61670554e-02  2.75827702e-02\n  3.38069238e-02  6.07171189e-03 -1.98705755e-02 -1.94450840e-02\n -5.00965724e-03  1.93330366e-03 -7.36927905e-06 -3.42333391e-02\n -3.83586362e-02 -1.53582720e-02  6.07127100e-02 -8.17307159e-02\n -3.72906309e-03  4.56047570e-03 -1.26330908e-02  2.96240766e-02\n  1.36920121e-02  3.17812562e-02 -1.61926467e-02 -1.28427651e-02\n -5.22367023e-02  1.69787426e-02  5.48238195e-02  9.89615452e-03\n -7.39169121e-02  2.79248469e-02  5.78451855e-03  1.49007365e-02\n -2.47685462e-02 -3.03583108e-02  2.84396987e-02 -1.67817692e-03\n -2.83331294e-02 -5.15693985e-02 -2.21407395e-02  9.37419012e-03\n -4.62756976e-02 -2.27641165e-02  1.62236877e-02  3.22323777e-02\n  4.82551381e-02  1.59074981e-02 -3.86162614e-03  2.06206385e-02\n  5.42295165e-03  6.85371011e-02 -1.19682951e-02  2.59260479e-02\n  3.08822077e-02  2.35883165e-02 -3.19055915e-02  8.52976963e-02\n -6.28731214e-03  4.34270082e-03  4.24708612e-02 -5.04321717e-02\n -3.26110832e-02 -9.55615193e-03 -2.72139460e-02  1.72196943e-02\n -4.17394824e-02  8.87204614e-03 -1.68260708e-02  2.83566359e-02\n  7.09261000e-02  2.81447042e-02  2.31090765e-02 -1.65759225e-03\n -1.14683677e-02  1.80395320e-02  2.24860813e-02  3.47971730e-02\n -2.97344830e-02 -1.04806371e-01  6.10131435e-02  2.77059320e-02\n -6.98907184e-04 -5.88685013e-02 -4.17092666e-02 -3.86688784e-02\n  5.88214658e-02 -1.25852078e-02  4.65103425e-02 -1.96798183e-02\n  2.05914816e-03  5.07394150e-02  2.69968584e-02 -1.07830353e-01\n  7.68808229e-03  3.77814174e-02  4.44289995e-03  4.24282141e-02\n -3.04555185e-02 -3.34383287e-02 -1.21062659e-02  5.19689638e-03\n -4.79460172e-02  2.23441934e-03 -6.27310202e-02  1.10867135e-02\n -8.20325464e-02 -1.49310182e-03  5.12663014e-02 -3.43786888e-02\n -3.47967483e-02  3.91703425e-03  3.49962078e-02  1.76168699e-03\n  2.15576682e-02  1.62898749e-02  1.78420637e-02 -4.89204712e-02\n  1.20350521e-03  4.02128920e-02 -5.30717075e-02  1.35946739e-02\n -1.22817330e-01 -3.16876639e-03  2.61594425e-04  2.23686965e-03\n  1.18238211e-03  3.39072086e-02 -7.80465826e-03  6.72551468e-02\n  9.68966633e-03  5.01934923e-02  1.06253792e-02  4.32520173e-02\n -6.45285621e-02 -4.36465368e-02  3.72767299e-02 -2.16315240e-02\n -2.98729967e-02 -9.49696172e-03  1.32527113e-01  3.82933430e-02\n  7.11078569e-03 -2.56007928e-02  3.24059860e-03  3.90821276e-03\n  6.65539727e-02 -4.70594056e-02 -2.34871134e-02 -2.04395317e-02]",
         " go away go away"
        ],
        [
         "14",
         "14",
         "At The Beginning - Anastasia",
         " were strangers. starting out on a journey. never dreaming what wed have to go through. now here we are. and i'm suddenly standing. at the beginning with you. . no one told me that i was going to find you. unexpected what you did to my heart. when i lost hope. you were there to remind me. this is the start. . and life is a road i wanna keep going. love is a river i want to keep flowing. life is road now and forever. wonderful journey. i'll be there when the world stops turning. i'll be there when the storm is through. in the end i wanna be standing. at the beginning with you. . we were strangers. on a crazy adventure. never dreaming that dreams would come true. now here we stand unafraid of the future. at the beginning with you. . and life is a road i wanna keep going. love is a river i want to keep flowing. life is road now and forever. wonderful journey. i'll be there when the world stops turning. i'll be there when the storm is through. in the end i wanna be standing. at the beginning with you. . knew there was somebody somewhere. like me alone in the dark. now i know that my dream will live on. i've been waiting so long. nothings gonna tear us apart. . and life is a road i wanna keep going. love is a river i want to keep flowing. life is road now and forever. wonderful journey. i'll be there when the world stops turning. i'll be there when the storm is through. in the end i wanna be standing. at the beginning with you. . life is a road and i wanna keep going. love is a river i want to keep going on. starting out on a journey. life is a road i wanna keep going. love is a river i want to keep flowing. in the end i want to be standing at the beginning. with you",
         "0.046",
         "0.801",
         "0.152",
         "0.9886",
         "[ 3.09527144e-02 -9.14530922e-03 -1.48319313e-02 -7.26661272e-03\n  6.50873333e-02  3.35659496e-02  1.23236014e-03 -1.79501642e-02\n -1.57320965e-02  6.20713597e-03 -5.29398583e-02  5.87220164e-03\n -3.29665020e-02  1.85444504e-02 -9.56740882e-03  1.91304255e-02\n -3.52373086e-02 -9.83701553e-03  3.04252636e-02 -1.23417182e-02\n  5.89314476e-03 -9.28798225e-03  3.23974006e-02  6.05044477e-02\n -3.45831062e-03  1.10394564e-02 -2.12274157e-02 -1.11320196e-02\n -4.92190756e-02 -3.01828384e-02  2.54413649e-03 -3.94270383e-02\n  1.20244874e-03 -1.71420071e-03 -2.86189374e-02 -4.09719385e-02\n -4.33725864e-03  2.43869461e-02 -1.56930387e-02  7.30096996e-02\n -3.86428237e-02 -4.39603515e-02  1.44268544e-02 -2.37562433e-02\n  2.17241328e-02  4.51264175e-04  1.41940797e-02 -3.57318781e-02\n -1.04067875e-02 -1.05036993e-03 -8.15913640e-03  5.17193303e-02\n -1.41985686e-02  1.70792062e-02  1.48322424e-02  2.64192652e-02\n  6.77668629e-03  4.79473956e-02  5.21447742e-03 -3.01119741e-02\n -6.92785904e-02  2.51960121e-02 -5.64132780e-02  4.91089560e-02\n  3.83377611e-03  1.78692602e-02  4.01892103e-02 -4.42271829e-02\n  2.41423165e-03  4.69310917e-02  2.91482676e-02  3.14766504e-02\n  4.83692735e-02 -1.61738228e-02  4.35337797e-02  5.01235612e-02\n -6.13158643e-02 -1.55213270e-02 -2.74602398e-02 -5.12015596e-02\n -1.62201673e-02 -6.75567314e-02  8.34183618e-02 -4.14835550e-02\n -8.34572222e-03  7.61156604e-02  2.03379411e-02 -4.52625602e-02\n -6.78520789e-03 -2.66234903e-03  4.01098691e-02  1.28986603e-02\n -3.68046458e-03  5.10455780e-02 -6.66043386e-02  6.92049116e-02\n -4.29092022e-03  5.73133584e-03  4.79223803e-02 -5.40827168e-03\n -2.33597234e-02 -2.91083334e-03 -6.79036230e-02 -4.73169284e-03\n -5.49730062e-02 -5.22596799e-02  7.18703046e-02 -2.92783026e-02\n -4.67119850e-02 -1.00283278e-02  4.12774235e-02 -8.05593852e-04\n  3.97914946e-02 -4.73091565e-02 -6.43811077e-02  5.46914004e-02\n  6.12059096e-03  2.93669067e-02 -8.77475459e-03  1.67526715e-02\n -3.24360356e-02  5.62310517e-02  1.22621993e-03 -2.00343821e-02\n -3.10619194e-02 -3.53717022e-02 -2.34396104e-02 -2.92096008e-02\n -2.79194061e-02  1.95516385e-02  1.74998306e-02  5.54611161e-03\n  1.08537711e-02 -6.53534615e-03  5.45551181e-02 -4.52706590e-03\n -2.67015100e-02 -2.36728322e-02  5.08951070e-03  1.55964224e-02\n -6.18648492e-02 -2.61253910e-04  7.57657886e-02  1.03167482e-02\n  5.93230547e-03  2.16860529e-02  1.88848581e-02  8.35838076e-03\n  6.77985623e-02  2.21748045e-03 -1.81287955e-02  7.68896565e-02\n  3.14374119e-02  1.17205111e-02 -2.78930310e-02 -1.05720116e-02\n -8.85261130e-03  3.86712104e-02  2.34681778e-02  3.99040021e-02\n -7.15198293e-02 -1.88937283e-03 -2.60456782e-02  1.97610501e-02\n  5.07147610e-03 -1.51629411e-02  1.81761999e-02  5.33981025e-02\n -1.49695212e-02 -3.66761652e-03 -3.68613712e-02  1.78627558e-02\n  5.37175015e-02 -4.80306242e-03 -4.30291006e-03 -1.21823810e-02\n  3.22437547e-02  1.85824148e-02 -5.10033162e-04 -7.62163708e-03\n -2.71889511e-02 -6.98824525e-02 -9.30345580e-02 -3.21122631e-02\n  3.28824506e-03  2.29015816e-02  4.73780595e-02 -5.96556440e-02\n -1.79556441e-02  7.38453935e-04 -3.28368833e-03  8.31950679e-02\n  4.38129827e-02  1.06077688e-02  5.60685024e-02  2.24630088e-02\n  8.97842087e-03 -3.40465992e-03  2.81148143e-02 -6.58939183e-02\n  7.93275088e-02 -1.01831265e-01 -1.42950714e-02 -1.82480924e-02\n -1.74777843e-02  8.03398564e-02  2.67110076e-02 -8.82133096e-02\n -1.97666902e-02 -4.42319363e-03 -8.03305488e-03  7.14102387e-02\n -4.87468094e-02  2.16249749e-02 -9.99203604e-03  6.98447302e-02\n -1.48749407e-02  1.99131463e-02 -7.07961060e-03  6.41320124e-02\n  8.34485143e-03 -9.34423588e-04  1.23153199e-02 -1.45574454e-02\n -3.61110494e-02 -1.85943749e-02 -4.49038314e-04 -6.01573475e-03\n  2.78061293e-02 -4.52825129e-02  3.27445455e-02  7.25660194e-03\n  3.17663304e-03 -9.34186205e-02  4.96186614e-02 -8.09282064e-05\n -2.73855496e-02 -1.41956424e-03 -2.92831231e-02  2.09816601e-02\n -5.28866379e-03  1.75020657e-02 -5.67587726e-02  1.84174571e-02\n -3.18522677e-02 -3.54559794e-02 -5.77619150e-02 -3.89964432e-02\n  8.57727695e-03  5.15780821e-02  1.95154008e-02  1.93652138e-02\n -4.02779952e-02 -1.31812422e-02  1.52443796e-02 -9.50423256e-03\n  2.55412683e-02 -1.12725282e-02  1.21154368e-03 -7.65375188e-03\n -2.57217884e-02  1.74417421e-02 -1.71529800e-02  8.74243751e-02\n -5.49299270e-02 -2.91893575e-02 -1.65393688e-02  7.65679628e-02\n  9.14413203e-03 -4.10957523e-02  4.81898077e-02 -6.64139027e-03\n -1.80022642e-02 -5.72113283e-02 -3.94886397e-02 -5.60667217e-02\n -2.07768776e-03  1.82922911e-02  3.91347632e-02 -1.41654769e-02\n -3.12839039e-02 -1.40441824e-02  7.40245953e-02  1.69333164e-02\n -8.24252609e-03  2.08601113e-02 -7.58983493e-02 -2.68860254e-02\n -3.13302851e-03  1.95889566e-02 -1.40947634e-02  3.25922854e-02\n -3.50238234e-02  3.79683673e-02 -7.40434378e-02  1.07326722e-02\n  4.14055660e-02  6.00143783e-02  4.38088290e-02 -1.11236073e-01\n  3.96899087e-03 -5.31608313e-02 -5.11185220e-03  5.92933856e-02\n -2.19240822e-02 -2.73366459e-02  1.97809972e-02 -5.95616410e-03\n -1.91952232e-02  6.25909641e-02  1.07166469e-01 -1.59685146e-02\n  4.29772437e-02  6.11585416e-02  7.37677366e-02  3.55437514e-03\n  4.54133376e-03 -3.01987715e-02 -8.11105408e-03 -2.38851225e-03\n  8.59688316e-03  8.85559395e-02  1.28298299e-02 -3.40017490e-02\n -1.20039294e-02 -5.78668863e-02 -1.26870140e-03 -3.79516520e-02\n -4.30548079e-02 -2.41493005e-02 -1.64554566e-02  1.23765171e-02\n -2.88985018e-02  3.59525643e-02 -6.06872188e-03  8.55831895e-03\n -4.70605083e-02  4.45208065e-02  3.97813208e-02 -3.19854058e-02\n  3.27006616e-02 -2.21551340e-02 -1.65361576e-02  1.23174591e-02\n  5.27475514e-02 -1.31459031e-02  4.88151563e-03  5.78504764e-02\n -2.85840803e-03  2.77652964e-02 -2.87461393e-02 -1.31807886e-02\n -8.51586610e-02 -1.41401961e-02 -3.23471427e-02  6.07654452e-03\n -1.19713917e-02 -3.41402702e-02 -4.02625874e-02 -8.74394551e-02\n  1.40639991e-02  3.93350348e-02  8.41480270e-02 -2.82688476e-02\n -1.85150933e-02 -2.17699595e-02  6.91922903e-02 -1.20772846e-01\n -5.87721244e-02 -2.82526314e-02 -6.76671937e-02 -9.26892739e-03\n  3.74820246e-03  4.96010035e-02 -3.21062580e-02 -3.90839875e-02\n -4.24552523e-02  9.87412129e-03 -9.44728404e-03 -1.65064428e-02\n  5.17796278e-02  2.59251278e-02  3.63850929e-02  1.82935130e-02\n  1.05003230e-02 -2.68973559e-02 -9.79512930e-03  4.15964350e-02\n -3.03712413e-02 -2.24149935e-02 -9.46234912e-02 -2.52186321e-04\n -8.38501304e-02 -2.24074628e-02 -3.60021144e-02 -1.01736821e-01\n  8.25015828e-03 -3.51337865e-02  4.95810136e-02  3.39645557e-02\n  2.28422228e-02 -4.69110385e-02  2.60855872e-02  5.65455779e-02\n -3.80553887e-03  4.64747380e-03  5.17725945e-03 -1.43621303e-02\n  2.05479357e-02  3.00553837e-03 -5.56830224e-03 -9.79334861e-03\n  4.71787117e-02  1.76888835e-02 -5.00556268e-02 -3.21301110e-02\n  2.55965116e-03 -1.87585794e-03 -4.30354550e-02 -3.11854631e-02\n  1.40305711e-02  3.18973213e-02  3.63878869e-02  4.30830419e-02\n  2.01845337e-02 -9.61142499e-03  7.34539926e-02  2.36643702e-02\n  2.63289176e-02 -6.11526258e-02 -3.15154977e-02  3.39425318e-02\n  3.68082337e-02 -3.05349156e-02 -1.79472612e-04 -1.12541150e-02\n  4.41497155e-02 -6.16960116e-02  2.60988865e-02  3.15392204e-02\n  3.27775851e-02 -9.41684693e-02 -3.85759808e-02 -1.05859176e-03\n  1.64737478e-02  1.13017643e-02 -5.72745651e-02 -2.59465128e-02\n -1.15081575e-02 -2.85438262e-02  4.78534289e-02  1.80485938e-02\n  4.82037365e-02  4.37101126e-02  2.92426459e-02 -5.65334857e-02\n  7.36916065e-03  3.77654135e-02 -4.43627350e-02  3.31472419e-02\n  2.29925718e-02 -3.04724127e-02  6.20730370e-02  2.46279147e-02\n -5.58653139e-02  2.49098465e-02 -6.10448569e-02 -1.81346126e-02\n  3.01148240e-02 -2.79036425e-02 -2.79621035e-02 -9.81233199e-04\n -6.16562814e-02  6.38877135e-03  7.77903944e-02  1.28218182e-03\n -9.79342759e-02  1.90043803e-02  1.60247721e-02 -7.01014418e-03\n -1.64150931e-02 -7.58937141e-03 -4.74798307e-02  7.04491511e-03\n -5.83884008e-02 -3.23257968e-02 -3.24195041e-03 -2.82196375e-03\n  1.74210295e-02 -3.07769049e-02  1.08608166e-02 -1.33931674e-02\n  2.08980986e-03 -8.58495757e-03 -2.92846095e-02  1.75407287e-02\n -4.50466536e-02  7.78026693e-03  3.19188051e-02  8.72033415e-04\n  2.23853365e-02  4.19196002e-02  9.10287499e-02  7.50143602e-02\n -2.32727844e-02 -6.43452182e-02  5.22278920e-02  8.36942170e-04\n  6.93857297e-02 -1.82671379e-02 -2.15620976e-02  1.64001323e-02]",
         " life is a road i wanna keep going"
        ],
        [
         "15",
         "15",
         "The Neva Flows",
         "be very careful of these rumors that prevail.... be very careful what you say. . i was a boy who lived the truth behind the tale. and no one got away. . . i saw the children as the soldiers closed the gate. the youngest daughter and her pride. . my father leaving on the night they met their fate. his pistol by his side. . . the neva flows a new wind blows. and soon it will be spring. the leaves unfold the tsar lies cold. a revolution is a simple thing. . spoken. i heard the shots. i heard the screams. . but it's the silence after i remember most. . sung. the world stopped breathing. and i was no longer a boy. my father shook his head and told me not to ask. my mother said he died of shame. . but i believe he did a proud and vital task. . and in my father's name. . the neva flows a new wind blows. and soon it will be spring. the leaves unfold the tsar lies cold. could i have pulled the trigger.... if i'd been told. be careful what a dream may bring. . a revolution is a simple thing...",
         "0.123",
         "0.786",
         "0.09",
         "-0.8209",
         "[-0.00325107  0.00771319  0.02312352  0.02170644  0.04841347 -0.05557208\n  0.00157599  0.01863974  0.0806576   0.05970739  0.00374416 -0.00570744\n -0.02508407 -0.01313285  0.0294656   0.0329766   0.03480061 -0.05445765\n -0.02403128  0.02992539 -0.0374941   0.03380588  0.03453091  0.03196314\n  0.00472019 -0.03430497 -0.05018233  0.01021686 -0.02111747 -0.03576544\n  0.03553971 -0.00294422 -0.04174355 -0.05979626 -0.01245265  0.00569121\n -0.0335947   0.03187869  0.06977633  0.07483732  0.00114451 -0.04215926\n  0.03977444  0.02338544 -0.04152771 -0.0066639   0.02111826  0.00133027\n  0.01700509  0.01444141 -0.01484627  0.01019553  0.03813701 -0.00732716\n  0.04682456  0.01651733  0.03509865  0.01928705  0.00250364  0.04201953\n -0.03194707  0.01391006  0.03667265  0.06738047 -0.05243566  0.0616711\n -0.004852   -0.05923778 -0.06529547 -0.01655402  0.01972413 -0.01833845\n  0.03029787 -0.02103825 -0.0218981   0.04623081 -0.06481408  0.01194508\n  0.01370402 -0.033037   -0.00766977 -0.07353634  0.01646861 -0.04718804\n  0.10698079  0.02404813 -0.01126292 -0.03674395 -0.00469874 -0.03496679\n  0.01044929  0.02019514  0.01687983 -0.02419211 -0.03423318  0.06235097\n  0.04082421  0.00656776  0.02456792  0.03799322 -0.00222421 -0.00291757\n -0.07395738 -0.00918551 -0.05015855  0.03825362  0.0146104  -0.05225823\n -0.0475352   0.00690784 -0.00294483 -0.01769536  0.0083844   0.00719715\n  0.01346952  0.02459293  0.03313297 -0.01039605  0.0060929  -0.00605609\n  0.09103799  0.00337428 -0.04925655 -0.04720417 -0.00715787  0.01881176\n  0.00034137 -0.02706932  0.00368143  0.04042527  0.04719387 -0.03407475\n  0.00666665 -0.023839   -0.01586232 -0.0290789  -0.04567138 -0.00117239\n  0.05815833  0.02233306 -0.01736868 -0.01256344  0.04093385  0.07780453\n -0.00805082 -0.05101149  0.01569956 -0.01849356  0.01408934  0.00336545\n -0.04746751  0.07270651  0.0329368  -0.0787947   0.00977416  0.01273228\n  0.04480128  0.08235271 -0.00624377  0.03993715 -0.01947357 -0.00191861\n  0.00780718 -0.02290691 -0.00743781  0.01741642 -0.02560917  0.0385685\n  0.01174338  0.11131949 -0.05121662  0.01684898  0.05105766  0.04639033\n -0.01940628  0.00504083  0.0633826  -0.00454443  0.02945811  0.01223519\n  0.03210038 -0.05272364 -0.04084642 -0.05784091  0.03469186 -0.04070904\n -0.0234554  -0.03678276 -0.08614846  0.04969336 -0.00818277 -0.00913886\n  0.00558291 -0.0161186  -0.00151777 -0.07856044  0.04288142 -0.01336845\n  0.04856153 -0.02805184  0.02881365 -0.09882991  0.0508723   0.00856246\n -0.00674894  0.05315001  0.03858736  0.00990507 -0.02005008 -0.00106045\n -0.044992    0.00427928  0.00308476 -0.04093073 -0.00313215  0.00956624\n -0.00696896 -0.00600571  0.00267142  0.03584182 -0.01112226  0.08214895\n -0.0046722  -0.06433929 -0.10600902 -0.07746947  0.0188283  -0.06537671\n  0.06928156  0.00121756  0.08721045 -0.08050593 -0.04457956 -0.02742565\n  0.02708709  0.01052764 -0.01646376 -0.00013124 -0.01634892  0.01727784\n -0.017262   -0.00421547 -0.03620859 -0.01264655 -0.00205319 -0.01318418\n  0.00176076 -0.02481692 -0.07290047 -0.04369674  0.00063435  0.0610417\n  0.03120583  0.00880082 -0.0360717  -0.07883097  0.02130865  0.02970615\n  0.00736847  0.06718031  0.00765214 -0.00948067  0.00231215  0.02044734\n -0.00383398  0.04279101 -0.01468903 -0.00537991  0.04414191  0.01601125\n  0.04819867 -0.0535662  -0.01467006 -0.02637778 -0.06005073  0.02573062\n  0.05155572 -0.03727227  0.01613088  0.00597733 -0.0380675  -0.09805286\n  0.04129676 -0.00182859 -0.00715248 -0.03319591 -0.03812717  0.0452194\n -0.01438188 -0.00700225 -0.017089    0.00519971  0.07134377  0.00541617\n -0.04340921  0.02851522  0.00072869  0.01826943 -0.0011889  -0.0534029\n -0.00546921 -0.03569915 -0.04482635  0.03440184 -0.0084217   0.00180842\n -0.05979212  0.03813276  0.03287905  0.01615572  0.00572128 -0.00848503\n -0.01614733 -0.01214586  0.08347376  0.03778299  0.05276149 -0.05006123\n -0.02122117  0.00181435 -0.06353561  0.0453355  -0.01551839 -0.00735292\n -0.02764398  0.00295009 -0.00823767 -0.02667721 -0.00611165  0.06670266\n  0.05598212 -0.02923142 -0.00964145  0.06672441  0.00291246 -0.06664392\n -0.00276402  0.00510904  0.02066524  0.03290313  0.00150839  0.00086536\n -0.03927067  0.04619301  0.04641645  0.03501795  0.00119593  0.05753356\n  0.00182122 -0.03219321 -0.02052028 -0.00648433 -0.01576574  0.00098505\n -0.03740564  0.01190361  0.00821711  0.02988984 -0.0455109   0.0044355\n  0.03237729 -0.03830606 -0.0123437   0.02156387 -0.02002011 -0.01019774\n  0.10267066 -0.02676839  0.11796104 -0.06584071  0.05146816  0.0054557\n  0.03550095  0.01751862 -0.01172286 -0.06139196  0.00479955 -0.008329\n  0.06445424 -0.04233053 -0.01222584 -0.01898059 -0.01556411 -0.02282574\n  0.04792046  0.03235682  0.00907736 -0.02732618  0.00359028 -0.03328452\n -0.05404118 -0.07154617 -0.05002452 -0.03115323  0.00168068 -0.0374003\n  0.00653159 -0.0868647   0.03021187 -0.03035042  0.02204819 -0.06086151\n -0.03239371  0.02308619 -0.06810275  0.04466899  0.07450039 -0.00242858\n -0.0235046   0.05386566  0.00168599 -0.03472764  0.02924293  0.08192322\n  0.03063396 -0.06086113 -0.0003242   0.03770493  0.05231687  0.05428825\n  0.05741541  0.00083037 -0.05951731 -0.00396411 -0.01785734 -0.02268194\n  0.00640133  0.02705905 -0.02315858 -0.02356284 -0.02227378  0.01346247\n  0.09190965  0.05525457 -0.02216522  0.01478978  0.01164351 -0.02979691\n -0.05445227  0.02424805  0.0442217  -0.09307268 -0.00764986  0.04643532\n  0.04458379 -0.03097793  0.03739567 -0.01270893 -0.0195612   0.03232218\n -0.09762088  0.05298751  0.01461643 -0.00027859 -0.00052331 -0.03268613\n -0.02659513 -0.01598715  0.00971016  0.06107274  0.04684022 -0.00802523\n  0.06231128  0.07744543 -0.0144058   0.02070886  0.00673825  0.00303233\n -0.01564135  0.00051896  0.00582377 -0.06608522 -0.02603581 -0.01116535\n  0.00847095  0.06103843  0.00249641  0.00963173 -0.01874565  0.0292608\n -0.03549826  0.04181876 -0.02743855  0.01084958  0.00726156  0.04907512\n -0.06583015  0.01495695 -0.02688469 -0.02620867  0.01404779 -0.00156082\n -0.00785716  0.02547025  0.0350069  -0.02977157 -0.0373187  -0.02780184\n  0.04694852  0.00548541  0.05607662  0.04189172  0.0372673  -0.01425549\n  0.01585148 -0.02168801  0.00111318 -0.02392976 -0.01668206  0.02242159\n -0.03603357 -0.03344136]",
         " my father leaving on the night they met their fate"
        ],
        [
         "16",
         "16",
         "Once Upon a December",
         "dancing bears painted wings. things i almost remember. and a song someone sings. once upon a december. . someone holds me safe and warm. horses prance through a silver storm. figures dancing gracefully. across my memory. . . ahahah. ahahah ahahah. ahahah ahahahah ahah. ahahah ahahahah. ahahah ahahahah. ahahah ahahah. ahahah ahahahahah. . . someone holds me safe and warm. horses prance through a silver storm. figures dancing gracefully. across my memory. . . ahahah. ahah. . . far away long ago. glowing dim as an ember. things my heart used to know. things it yearns to remember. . and a song someone sings. once upon a dеcember",
         "0.0",
         "0.838",
         "0.162",
         "0.9371",
         "[ 4.00614413e-03  3.93846370e-02  1.13720819e-03 -2.06407700e-02\n -9.41225514e-03  2.60891207e-02 -1.59462001e-02 -1.37945665e-02\n -5.30892517e-03  4.49483916e-02 -2.45478768e-02 -2.09206846e-02\n -6.15094742e-03  6.33385107e-02  4.32049185e-02  3.97891039e-03\n  6.80742636e-02 -1.59126576e-02 -6.27047643e-02  4.06212285e-02\n -6.77392408e-02 -2.66794860e-03  3.25335562e-02  4.65761386e-02\n -3.52617465e-02 -4.92098294e-02 -2.16819067e-02  1.00612715e-02\n -3.76013443e-02 -1.08604701e-02  4.02145833e-02  6.50353730e-02\n -1.82158202e-02  2.09036823e-02 -2.58612027e-03  2.99337152e-02\n -6.83056936e-02 -3.44516076e-02 -2.04647221e-02 -7.61009455e-02\n -5.00846431e-02  1.32448077e-02  1.05506200e-02 -4.26380970e-02\n  6.37785718e-03 -1.24853067e-02 -8.83519929e-03  3.62132937e-02\n  5.23871556e-03 -1.36344628e-02 -2.71690022e-02  2.20752810e-03\n -2.80682985e-02 -4.33738120e-02  6.00447357e-02  6.23477213e-02\n -3.64045873e-02 -2.28017066e-02  3.01216617e-02  1.83746256e-02\n -2.90307146e-03 -6.94218464e-03  3.34465317e-02 -5.55602647e-02\n -1.79012176e-02  5.61157148e-03 -3.57374847e-02 -3.53578366e-02\n -1.06534086e-01  5.09005338e-02  1.80477591e-03 -4.23198380e-02\n -5.74479625e-02  1.50245242e-03  2.78437603e-03  1.67188905e-02\n -1.84993744e-02 -2.89526731e-02 -3.77273001e-02 -5.10109738e-02\n  7.10473582e-02 -1.13939479e-01  7.59378076e-02 -7.50030205e-03\n  5.92326606e-03  4.28738333e-02  9.41123348e-03  2.15320615e-03\n -4.92860936e-02  7.14709610e-02  4.64915559e-02  1.61235463e-02\n -4.18107100e-02 -2.28728019e-02 -3.93289328e-02 -4.00532447e-02\n -1.55494092e-02  9.16804448e-02  2.20121462e-02 -1.02977306e-02\n -2.04321509e-03  1.32546322e-02 -7.01527148e-02  2.42737085e-02\n  1.06480997e-02 -5.13151698e-02  1.48046333e-02 -3.50174271e-02\n -1.20854294e-02 -6.04162216e-02  4.29879129e-02 -5.64566478e-02\n  3.30179930e-02 -3.19015794e-03 -2.72039026e-02  1.17051834e-02\n  2.09501479e-02 -1.42426812e-04  2.33228374e-02  2.25044675e-02\n  1.08790668e-02 -3.69554982e-02 -1.51418941e-02 -1.70244556e-02\n -1.50097646e-02 -2.96911523e-02 -6.81404918e-02  1.72663871e-02\n -5.82841132e-03 -4.94564287e-02  1.02393050e-02  3.35423602e-03\n -4.89457026e-02 -3.80285606e-02  1.51612458e-03  2.48699784e-02\n -3.27348821e-02 -4.23318185e-02  1.86787546e-02  7.66235590e-02\n -2.34490577e-02 -4.32718471e-02  4.36793976e-02 -9.09700803e-03\n -3.90564315e-02  7.23671820e-03  7.57484045e-03  6.42935783e-02\n  3.27137075e-02  2.78341654e-03  4.58807545e-03  5.08820489e-02\n -3.25002670e-02  3.92371155e-02  3.00170686e-02  1.74708497e-02\n  4.07660492e-02  1.55694662e-02 -2.40833238e-02  4.17950675e-02\n  4.00142279e-03 -4.62570712e-02  4.43414226e-02  4.37502824e-02\n -4.46637608e-02 -3.48185338e-02 -6.78831153e-03  6.39586002e-02\n  2.80990936e-02  5.48801571e-02 -1.27403773e-02  2.60267369e-02\n  8.54328051e-02 -2.00929232e-02 -3.29420641e-02  8.91264703e-04\n  4.76462357e-02 -3.82961743e-02  6.98857591e-04 -5.08194678e-02\n  1.39503572e-02 -1.55838327e-02 -4.93010804e-02 -3.23778950e-02\n -2.17702556e-02 -2.29108669e-02  3.78428260e-03 -5.67362411e-03\n -4.95517105e-02  2.77190488e-02  2.04572733e-02 -3.90500203e-02\n -6.52939454e-02 -5.06920507e-03  2.70891171e-02 -8.45415592e-02\n  7.20957890e-02 -3.13548977e-03  2.48550829e-02  6.16645021e-03\n -3.22931143e-03 -1.37402907e-01  4.14229333e-02  3.01986672e-02\n  5.05886450e-02 -1.36295538e-02  2.02243812e-02 -5.37491590e-02\n  1.80713423e-02  1.51515901e-02  6.65464019e-03 -3.31392288e-02\n -2.46119536e-02 -1.48024429e-02 -4.88178432e-02  1.39017582e-01\n -2.19153538e-02 -2.39164624e-02 -1.16526969e-02 -9.72466636e-03\n  1.68769006e-02  2.39814334e-02 -1.59424543e-02  1.98872592e-02\n -3.87673378e-02 -5.78927994e-02 -2.47229245e-02  2.37340666e-03\n  5.54725081e-02  1.36649478e-02  1.25043243e-02 -2.68953405e-02\n -9.58175212e-03 -5.26933819e-02 -2.42211130e-02  4.57094274e-02\n  4.93993573e-02  2.73533314e-02 -5.38329370e-02  8.28478392e-03\n -7.92707689e-03  2.60111298e-02  3.83983017e-03 -1.60769820e-02\n  3.01891882e-02 -4.43982631e-02 -2.74467282e-02 -2.35820301e-02\n -3.70977633e-02  3.93914618e-02  1.75962411e-02  8.02626647e-03\n -4.08987887e-02  1.31539966e-03  8.19089115e-02 -2.41573527e-02\n -4.30708714e-02  1.00484379e-01 -8.12657028e-02  9.22113564e-03\n -5.15692085e-02  2.41336487e-02  8.11969396e-03  8.02721679e-02\n -1.16440225e-02 -2.32960861e-02  2.78221555e-02  9.74063016e-03\n -8.91811866e-03 -1.07297944e-02  5.26106954e-02 -8.75944495e-02\n  1.94886774e-02 -5.47803193e-02 -2.77095698e-02 -3.43040079e-02\n -1.15576508e-02  9.07861665e-02  7.62564987e-02  1.48884011e-02\n  3.07918284e-02  4.33335640e-02 -4.02412228e-02 -2.09493637e-02\n  7.42196664e-02 -4.09956872e-02 -1.68056991e-02 -1.30625283e-02\n -1.26696248e-02  6.03795610e-03  5.77838346e-03  3.01165860e-02\n  3.62429135e-02  9.20720678e-03 -3.54716107e-02 -2.57747471e-02\n  7.20646083e-02 -8.88668373e-03  2.72641964e-02 -4.51816320e-02\n -4.65506921e-03  3.03639974e-02 -3.14352661e-02  2.33098269e-02\n -3.25269550e-02  1.90530904e-02 -7.18438178e-02  2.39780266e-02\n -5.07823713e-02  7.86962062e-02  4.29782420e-02 -6.66751787e-02\n  2.97706891e-02 -1.46088786e-02 -5.44807315e-02 -2.85400674e-02\n -1.04471613e-02 -2.68016141e-02  3.99553701e-02  7.38314241e-02\n  4.12532128e-02  1.91388372e-02  5.57473116e-02 -6.15773872e-02\n  3.47443298e-02 -1.75806209e-02 -3.31781320e-02  2.97593465e-03\n -1.34129822e-02  2.08489150e-02  5.98314276e-04  4.79336875e-03\n -6.29451275e-02  3.87605168e-02  2.45057251e-02 -5.96279800e-02\n  8.81356280e-03  1.88607036e-03  1.63221136e-02 -1.07434224e-02\n -4.84668324e-03  5.89473061e-02  1.04052536e-02 -4.86207800e-03\n  5.65438205e-03 -1.33155398e-02  4.63843197e-02 -5.93423843e-03\n -3.39495763e-02  1.56164486e-02  4.01744470e-02  1.32728433e-02\n -2.94159930e-02 -7.53603056e-02 -1.16352262e-02  2.14936072e-03\n  1.54750387e-03  5.85436560e-02 -3.97838876e-02 -6.55351952e-02\n  3.45311537e-02  5.13890944e-03  9.23573822e-02  1.58108007e-02\n -3.68519612e-02  4.65101078e-02  2.43876781e-02 -2.20564213e-02\n  9.03051440e-03 -3.32628153e-02 -7.80440494e-03  9.24079865e-03\n  1.49478274e-03  1.46520752e-02 -2.07722131e-02  5.43581648e-03\n  3.03460695e-02 -5.77079225e-03  2.83193719e-02 -8.49458873e-02\n  1.71014182e-02  1.81914158e-02  1.04861343e-02 -1.51696419e-02\n  7.87393935e-03 -4.83474210e-02  9.72351898e-03 -1.56358145e-02\n -8.63696914e-03 -1.06092524e-02  2.55292049e-04 -1.85145196e-02\n  2.61020213e-02  3.01622553e-03  2.31538173e-02 -4.81803678e-02\n  1.67772137e-02  4.00128886e-02  6.02778532e-02 -1.86043177e-02\n  6.15129899e-03 -3.78530324e-02 -3.55609842e-02  2.18052324e-02\n -4.54942361e-02  1.12247393e-02 -6.51102688e-04  5.38539179e-02\n -6.00575581e-02 -7.66571192e-03 -3.53033021e-02 -3.54056656e-02\n  4.64476785e-03  2.98629403e-02 -7.23076537e-02 -1.82866398e-03\n  3.25135924e-02  4.31200257e-03  1.99948228e-03 -2.09419895e-02\n  1.33248735e-02  4.90986556e-02  2.54850630e-02 -5.62239476e-02\n -7.86909554e-03  7.95669667e-03  4.84059900e-02  6.18822202e-02\n  4.67339605e-02 -3.28844860e-02  3.41037922e-02  4.19571847e-02\n  9.70774814e-02 -4.22990769e-02 -2.43271515e-02 -8.10073130e-03\n  3.23161446e-02  7.19987554e-03 -3.59327123e-02  1.74789466e-02\n -1.40532786e-02 -9.76899341e-02 -4.21396792e-02 -7.21454620e-03\n  1.06996298e-02 -8.26336443e-02 -2.13717166e-02  2.77843326e-02\n -2.75711007e-02  9.86326486e-05  3.90069350e-03  2.81841494e-03\n  2.89684031e-02 -5.50810471e-02  3.02689280e-02 -6.74362555e-02\n -1.59502625e-02  3.94142978e-02 -2.37378534e-02  6.12385981e-02\n  3.12148295e-02 -1.94440261e-02  8.27527642e-02  2.29820758e-02\n -1.18876463e-02  1.44579336e-02  5.47892228e-03  1.84357038e-03\n -8.65557790e-03 -2.31492221e-02 -1.00706704e-02  8.55839811e-03\n -2.42869314e-02 -1.54277710e-02  1.68946255e-02  1.83485411e-02\n  1.63202640e-03 -4.00379710e-02 -4.31338586e-02 -4.34829667e-02\n -3.23833115e-02 -4.33621220e-02 -5.93622494e-03 -1.66105181e-02\n -7.43217841e-02 -8.68087076e-03  5.00683375e-02  3.30317691e-02\n -2.62077041e-02 -2.39403192e-02  5.24731027e-03  3.40564619e-03\n -6.59005577e-03  4.20724042e-02  2.81186495e-02 -2.16223467e-02\n -4.26886678e-02 -2.64639296e-02  3.30095068e-02 -4.94356453e-03\n  4.13835682e-02  7.48776272e-03  7.13519678e-02 -4.07784292e-03\n -6.18480984e-03 -9.31316912e-02  3.41606177e-02 -5.28041366e-03\n  4.17206921e-02 -5.87228350e-02 -2.38271598e-02  7.63096474e-03]",
         " ahahah ahahah"
        ],
        [
         "17",
         "17",
         "Journey to the Past",
         "heart don't fail me now. courage don't desert me. don't turn back now that we're here. people always say. life is full of choices. no one ever mentions fear. or how the world can seem so vast. on a journey to the past. . somewhere down this road. i know someone's waiting. years of dreams just can't be wrong. arms will open wide. i'll be safe and wanted. finally home where i belong. well starting now i'm learning fast. on this journey to the past. . home love family. there was once a time i must have had them too. home love family. i will never be complete until i find you. . one step at a time. one hope then another. who knows where this road may go. back to who i was. on to find my future. things my heart still needs to know. yes let this be a sign. let this road be mine. let it lead me to my past. and bring me home at last",
         "0.03",
         "0.802",
         "0.168",
         "0.9747",
         "[-0.02423886  0.00344764 -0.00139537 -0.01154415  0.10693764  0.04652668\n  0.01946251 -0.00936964 -0.01990638  0.01399653 -0.01723337 -0.0091951\n -0.08597469  0.00089096  0.01204976  0.03533818  0.00426386 -0.00925373\n  0.0244922  -0.04209071 -0.03472474 -0.01267718  0.03944043  0.0702213\n -0.0280407   0.0152319  -0.03875237 -0.00725934  0.03010577 -0.00535628\n  0.04619401 -0.09306388 -0.0419381  -0.0891218  -0.03743841 -0.00841518\n -0.01088896  0.00111093 -0.00114397  0.07803411 -0.02068519 -0.05477821\n  0.00909797 -0.019264    0.03618922  0.01901104 -0.02611588  0.00991396\n -0.01138938  0.02425733 -0.01480562 -0.02423073 -0.02130841 -0.04258628\n  0.06758404 -0.0020272   0.03555918  0.02218615  0.01150349 -0.04446984\n -0.01739284 -0.01178435  0.01006921  0.02364302 -0.0099694   0.01069332\n  0.06194236 -0.05776671 -0.08364261  0.00919641 -0.00878548  0.08065558\n  0.05738987 -0.02727193  0.01051843  0.12195721 -0.01867266  0.00494408\n  0.00996917 -0.02296446 -0.0043859  -0.0575632   0.04538147 -0.04718161\n  0.08160878  0.08091141  0.04033554 -0.01009585  0.02920076 -0.00997713\n  0.04240562 -0.01818504  0.00754235 -0.00228141 -0.0754429   0.02761169\n -0.04606006  0.06315726  0.02773712 -0.01386851 -0.04995349 -0.01808071\n -0.04172179  0.05826477 -0.03495721 -0.03676944  0.06767264 -0.02659855\n -0.0613566  -0.01735054 -0.03007923 -0.00945611 -0.00767951  0.01235348\n -0.08624596  0.06278983  0.00521251  0.01818794 -0.00585142  0.03396112\n -0.02856481  0.03021674 -0.02283499  0.02499456 -0.04124675 -0.09806231\n -0.00809374 -0.05080202  0.01101498  0.0353556  -0.00368256  0.00101351\n  0.03801805 -0.01039037  0.00265642 -0.02456744 -0.0083072  -0.04335995\n -0.01105347  0.01759309 -0.06010183  0.01385263  0.01646079  0.02303224\n -0.00205199  0.03200538 -0.03560209  0.02618548  0.02125032 -0.00094302\n -0.0047593   0.05426256  0.00569676  0.0031408  -0.05936641 -0.03153143\n  0.00951012  0.09547137  0.01206419  0.01804962 -0.01873272  0.00476449\n -0.02619611  0.06478262  0.01446552 -0.03783851 -0.02079279  0.06666223\n  0.02484207  0.05426817 -0.02521224  0.0279449   0.0613247   0.00590759\n  0.00051427 -0.03063016  0.0506034  -0.0016293   0.01695309 -0.03713574\n -0.05925388 -0.03741167 -0.07412244 -0.023488   -0.013689   -0.00240162\n -0.00288434 -0.04524475 -0.01945572  0.00332198  0.00272585  0.02831597\n  0.03431822  0.05667247 -0.0032699  -0.01943287  0.00228036  0.02335742\n  0.0158136  -0.0211375  -0.0031257  -0.11035536  0.0451296  -0.00900115\n  0.00863     0.08251787  0.02858763 -0.03654383  0.01767546  0.07634367\n  0.02159544 -0.0268217  -0.01233713  0.07571333  0.01288353  0.0405206\n -0.01449402 -0.0005469  -0.0406966   0.04364451 -0.00289141 -0.00846684\n -0.04521556  0.02043424 -0.03697699 -0.07743274  0.05194158  0.01860729\n  0.07936723 -0.05534494  0.06037003  0.01370676  0.01918445 -0.11346199\n -0.05515365 -0.01549157  0.05674957 -0.00175554 -0.00591944  0.03515564\n -0.02238379 -0.04055393 -0.02637145  0.07405341 -0.00032755 -0.00783989\n -0.00758463 -0.02851039  0.03813252  0.00535842  0.01910758 -0.01807351\n -0.04559227  0.00558656  0.03067397 -0.0496732   0.0603211   0.05925463\n  0.06664352 -0.0027017  -0.03590964 -0.02903681  0.02069657  0.01224889\n  0.00746012  0.06463919 -0.005244    0.07414273  0.01422216 -0.01073485\n -0.00581076 -0.01983849 -0.02238426 -0.01557297 -0.05067936 -0.00101703\n  0.04182026  0.02710384  0.02986999  0.00866015 -0.01433967 -0.00398581\n  0.07541439  0.03087312  0.01297517  0.00564021 -0.03613894 -0.02448112\n  0.04138611 -0.01286205 -0.04790315  0.06817296 -0.01102329  0.03163229\n -0.06512202  0.02901044  0.02167463  0.01205463 -0.03840723 -0.04945427\n -0.02179731 -0.04635566 -0.00634006  0.02735706  0.00950382  0.03229965\n -0.04417467 -0.0006747   0.00256668  0.04236331  0.08230811 -0.04337844\n -0.00594497  0.03052305  0.06829457  0.01658301  0.05248164 -0.00936514\n -0.02522873  0.01924167 -0.00447249  0.02124349 -0.03953487 -0.05341446\n -0.02718198 -0.03243248  0.00393617 -0.04409382 -0.02787458  0.00345786\n  0.03666172  0.01416454  0.02996186  0.07580894 -0.03724694 -0.05200862\n -0.04018611  0.08377238  0.02310285 -0.03804795 -0.02405273 -0.02630717\n  0.05598192 -0.01539903  0.07139516 -0.03209001 -0.01425142  0.06325496\n  0.05468401  0.02838202  0.0066243  -0.00907582 -0.02219592 -0.02360621\n -0.06190513  0.00310331  0.01675555 -0.01481683 -0.00649288 -0.03033761\n  0.04092511  0.05834818  0.0714278  -0.0378013   0.01180941 -0.01912492\n  0.06101594 -0.01230178  0.02120069 -0.03117516 -0.03733269 -0.01847554\n  0.05789104  0.05272347  0.03803889  0.01426026  0.00188323  0.04547082\n  0.04640476  0.01696591 -0.01127726 -0.02441903 -0.01129606  0.00563041\n  0.00854491  0.06339961 -0.03041939 -0.00500168 -0.02266492  0.01111114\n -0.04410891 -0.09819483 -0.04191741 -0.03379107 -0.04849036 -0.08699261\n  0.0216043  -0.01146787  0.01802744  0.0357785  -0.02681319 -0.07052822\n  0.00689945  0.0502241  -0.03719625 -0.04878374  0.03601728 -0.02302922\n  0.02857156 -0.0633996  -0.04802705  0.03589699  0.01820753  0.01790902\n -0.00937855 -0.00955471  0.02878143  0.0216112   0.0274183  -0.0030465\n  0.01666948  0.01705111  0.07434457  0.02025314 -0.00858874 -0.02479286\n  0.07185584  0.0407923   0.00260993 -0.06994189 -0.00069127  0.02609877\n  0.03010168  0.00552079  0.00664807  0.02652748 -0.03230311 -0.10768024\n -0.03450391 -0.01400118 -0.00369084 -0.08797973 -0.03745662  0.03116529\n  0.00387192  0.03595576 -0.01830061 -0.06275454 -0.03713388  0.00235662\n  0.07540337 -0.004521    0.01207103  0.05221514 -0.04565083 -0.08409388\n  0.00557009  0.04575783  0.08978226  0.06544871 -0.0050894   0.00727634\n  0.0418385   0.04713184 -0.03221149  0.05681118 -0.0222082  -0.02378878\n  0.00291274 -0.03217236  0.02744944  0.00049758 -0.02313666  0.04060925\n  0.07239973  0.03557952 -0.03322     0.00263178  0.03035894  0.02047456\n  0.03387763  0.05464216 -0.0427942   0.03883316 -0.00700968 -0.0328676\n -0.01667658  0.02720521 -0.00991577 -0.07449175  0.03607148 -0.01974566\n -0.00053811 -0.03511572 -0.01498465  0.05058798 -0.00152578  0.04173973\n  0.02760943  0.00533305  0.06890831 -0.00223983  0.08977532  0.04026945\n  0.00787438 -0.04172857  0.05042085  0.04365218  0.01416339 -0.01346103\n -0.08145905  0.01645402]",
         " home love family"
        ],
        [
         "18",
         "18",
         "In My Dreams",
         "they said i was found by the side of a road. there were tracks all around it had recently snowed. in the darkness and cold with the wind in the trees. a girl with no name. and no memories but these.... . rain against a window sheets upon a bed. terrifying nurses whispering overhead. call the child anya give the child a hat. i don't know a thing before that.... . traveling the back roads sleeping in the wood. taking what i needed working when i could. keeping up my courage foolish as it seems. at night all alone in my dreams. . in my dreams shadows call. there's a light at the end of a hall. then my dreams fade away. but i know it all will come back. one day.... . . ah ah. . . i dream of a city beyond all compare. is it paris paris.... a beautiful river a  by a square. and i hear a voice whisper. i'll meet you right there in paris. paris.... . you don't know what it's like. not to know who you are. . to have lived in the shadows. and traveled this far. i've seen flashes of fire. heard the echo of screams. but i still have this faith. in the truth of my dreams. . in my dreams it's all real. and my heart has so much to reveal. and my dreams seem to say. don't be afraid to go on. don't give up hope come what may. i know it all will come back. one day",
         "0.087",
         "0.753",
         "0.16",
         "0.9753",
         "[ 2.18283031e-02  4.75708842e-02  4.33039367e-02  2.43687816e-02\n  6.11444563e-02 -2.20331345e-02 -2.08092891e-02 -2.27265861e-02\n  5.13211340e-02  5.31793758e-02 -4.79735322e-02  2.59898454e-02\n -2.23438945e-02 -2.25169994e-02  7.55448965e-03  5.40452376e-02\n -4.49829437e-02 -3.74387838e-02  7.02557899e-03  3.17723826e-02\n -5.72916605e-02  4.75574983e-03  3.23019456e-04  6.92931935e-02\n  1.58587694e-02  3.38377729e-02 -6.09056316e-02  2.12362465e-02\n -4.10275310e-02 -7.13719614e-03  5.25134802e-02 -4.01842827e-03\n -6.93290010e-02 -6.61161914e-03 -1.96885373e-02  2.91425753e-02\n  2.07510851e-02  6.74970075e-02  2.01511979e-02 -1.76401753e-02\n -4.19025263e-03  7.90405367e-03 -3.73701490e-02 -2.98927259e-02\n -5.16172359e-03 -1.25355693e-02 -1.23318201e-02 -2.26981957e-02\n -3.94745953e-02 -1.36242816e-02  2.00467110e-02  1.76422503e-02\n -8.88303947e-03 -3.90357641e-03 -6.55470230e-03  2.20591854e-02\n -3.40913571e-02  7.96856068e-04  4.08431366e-02  1.09922634e-02\n -5.84136369e-03  6.42252807e-03 -4.24369797e-02  3.86642963e-02\n -3.18009481e-02 -2.39500813e-02  1.16544692e-02 -2.86530126e-02\n -7.70855248e-02  7.55538940e-02 -3.83904763e-02  8.81754700e-03\n  4.55791466e-02  5.35086542e-03  7.05922171e-02 -2.17382261e-03\n -7.99822509e-02  5.47054335e-02 -2.15292294e-02 -2.36162134e-02\n -4.50577624e-02 -5.38724884e-02  6.49788417e-03  5.61066612e-04\n  7.28066638e-02 -1.03163917e-03  4.46420023e-03 -2.79559866e-02\n -7.36704376e-03 -5.29792234e-02 -3.51606635e-03  3.29436697e-02\n  1.98770706e-02  8.59088451e-03 -3.32407691e-02  6.02629818e-02\n  3.74822691e-02 -4.21053584e-04  3.31592634e-02  1.01464868e-01\n -1.47900078e-02 -1.01336902e-02 -3.88181843e-02  2.09376346e-02\n -1.83171430e-03 -1.40291667e-02  2.77151186e-02 -6.21685982e-02\n -3.50277275e-02  3.82734761e-02 -2.45255977e-02 -1.18718725e-02\n  2.06324998e-02 -1.13576464e-03 -4.21245806e-02 -1.80999413e-02\n  1.88402049e-02 -3.26471636e-03  2.91187968e-02  4.03916761e-02\n  1.80685462e-03  3.15824784e-02 -5.68100484e-03  1.02659380e-02\n  5.38574718e-02 -6.02349937e-02  3.80405672e-02 -7.85717666e-02\n -4.71786372e-02 -6.70264522e-03  3.14843915e-02 -4.65827528e-03\n  4.53400686e-02 -7.97888637e-02 -4.11684550e-02  1.18013509e-02\n  1.75240356e-02 -1.17494799e-02  3.35562043e-02  1.62978973e-02\n  2.29107253e-02  5.16728200e-02  7.71006122e-02 -2.36378261e-03\n -1.90336611e-02  2.10006181e-02  2.86034960e-02  1.91550180e-02\n  9.10349470e-03 -3.49676795e-02 -2.57152878e-02  7.71768317e-02\n -7.25329891e-02 -2.61259787e-02  1.66671406e-02  5.13570849e-03\n  4.72467653e-02  6.64091855e-02  3.53776813e-02  1.63303521e-02\n -1.87307820e-02 -8.30915291e-03 -6.08269684e-02  1.17853880e-02\n -5.26232012e-02  8.02777056e-03 -3.50850485e-02  5.83672374e-02\n  9.35433954e-02  6.53296039e-02 -3.51657644e-02  2.00539883e-02\n  6.56307563e-02  5.34025468e-02  2.50621699e-02  2.47048605e-02\n  3.97386104e-02  4.16187383e-03 -3.49148200e-03  2.97351293e-02\n -4.63069119e-02 -8.38849768e-02 -2.13608202e-02  9.61752236e-03\n -3.98122072e-02 -1.42729441e-02  1.37301506e-02 -5.67607209e-02\n -4.13657241e-02  2.52692346e-02  9.01713688e-03  7.73161128e-02\n  8.86687264e-03  1.89932771e-02  5.27027585e-02 -1.90367680e-02\n  5.78268059e-02  3.06191295e-02  6.32165596e-02  3.42312939e-02\n  2.52183247e-02 -8.59286562e-02  3.34050134e-02 -2.70395856e-02\n  9.94536839e-03  3.68808508e-02  4.80213501e-02 -3.50865535e-02\n -4.83783036e-02  2.97591034e-02 -3.62124480e-02  8.18166137e-03\n -2.68023461e-02 -5.18024042e-02 -1.44249909e-02  3.77331302e-02\n  2.70461868e-02  3.14807892e-02  2.22536698e-02  7.24620558e-03\n  3.80555913e-03  5.42161614e-03 -5.73760681e-02 -3.53610180e-02\n -3.04403696e-02 -3.06682773e-02  4.57514264e-03 -4.78720777e-02\n  4.44481894e-02 -3.23047787e-02  4.87765744e-02 -4.86165062e-02\n  1.46984570e-02 -4.72479966e-03 -4.07322729e-03  3.63741294e-02\n -2.24894509e-02 -2.78102662e-02 -3.33686359e-02  1.23215504e-02\n  1.06082661e-02  2.88221985e-02 -7.75122568e-02 -2.16430593e-02\n  3.18263401e-03 -8.60094428e-02 -6.04984956e-03 -6.91652903e-03\n  1.00846021e-02  1.20666055e-02 -1.21616740e-02 -2.43259151e-03\n -5.29022925e-02 -1.82457697e-02  6.77121133e-02 -5.26546910e-02\n -3.51594537e-02  8.36286545e-02  5.75812766e-03 -1.23429941e-02\n  4.18177992e-03  2.80283820e-02 -3.19226943e-02  4.37357165e-02\n  4.59973402e-02  1.98655780e-02 -6.36949530e-03 -5.09661855e-03\n  4.68049906e-02  3.38634364e-02  7.98943266e-02 -1.01890797e-02\n  1.22310277e-02  1.76014286e-03 -3.92316990e-02  3.51502784e-02\n  2.22849892e-04 -1.85274370e-02  2.78792698e-02 -6.20973259e-02\n -6.75007515e-03 -5.39588444e-02 -4.07033265e-02 -5.26865721e-02\n -8.76635090e-02 -4.10109013e-03 -5.21368459e-02 -2.58328971e-02\n  1.28886933e-02  5.40324161e-03  1.04860710e-02  2.55429167e-02\n  4.05754931e-02  8.11846852e-02 -5.27563915e-02  4.14383821e-02\n  7.96974730e-03  3.04474588e-02  5.62911518e-02  2.09105369e-02\n  1.96405351e-02 -2.61881333e-02 -2.41945665e-02  6.42710179e-02\n -3.63325775e-02  4.52709198e-02 -4.12367061e-02 -1.55258691e-02\n -4.93225530e-02  2.16969084e-02  3.66400145e-02  2.09062565e-02\n  2.02102065e-02 -3.02738734e-02  2.03047674e-02 -5.30164838e-02\n  6.69293944e-03 -8.53314996e-02 -1.25913341e-02  1.88912321e-02\n  3.10505333e-04  5.83442748e-02  3.22866440e-02 -2.37332378e-02\n -3.63354608e-02  1.80271156e-02 -3.42116095e-02  3.05464193e-02\n -2.75685862e-02  6.36898738e-04 -8.77241325e-03 -6.38876781e-02\n -5.12748361e-02  6.70416653e-02  3.57191898e-02 -6.86540455e-03\n -8.69776011e-02  2.22342927e-02  1.17181093e-02 -5.11431284e-02\n -1.63963605e-02  1.11187594e-02 -1.39575712e-02  3.04506030e-02\n  9.77360527e-04  2.76446007e-02  9.97960474e-03  3.11911944e-02\n -1.23605682e-02 -1.65783837e-02 -1.79692265e-02  1.07479617e-02\n -7.32353106e-02  2.62081046e-02 -7.28403255e-02 -1.09687466e-02\n  1.39300395e-02  9.21047386e-03  2.36694291e-02 -9.15469602e-02\n  2.77000163e-02 -3.67709398e-02  3.13169472e-02 -8.72122776e-03\n -1.25222895e-02 -4.39360552e-02  5.26072085e-02 -8.72727036e-02\n  1.03702843e-01 -3.02099101e-02 -1.44545855e-02  1.52821112e-02\n  5.63241483e-04 -1.74142839e-03  2.96920352e-02 -5.92522882e-02\n  1.64918397e-02 -9.53083299e-03  5.38061410e-02 -6.82251528e-02\n  3.51694450e-02  9.91847366e-04  1.75602380e-02 -8.97808839e-03\n  5.18293213e-03  2.84788925e-02  2.64315726e-03 -3.70123088e-02\n -3.21179777e-02  1.11057609e-02 -4.69584130e-02 -1.97015274e-02\n -3.13288346e-02 -6.60663024e-02 -9.07903351e-03 -5.74057102e-02\n -2.34790538e-02 -2.32316572e-02  6.36525527e-02  3.22352909e-02\n -3.21321264e-02 -1.61440428e-02 -3.13103124e-02  5.65691851e-02\n -5.11750299e-03  7.33258352e-02  1.82549451e-02 -6.62929378e-05\n -2.33266987e-02 -1.92492846e-02 -4.77097258e-02  2.12768260e-02\n  2.15716269e-02  4.63509448e-02 -8.31167772e-03 -3.53246741e-02\n  9.05398559e-03  2.88237841e-03 -8.97583831e-03 -3.35719511e-02\n  4.83025564e-03  5.24738505e-02 -6.56112097e-05 -1.04925940e-02\n  2.82005453e-03  3.53538635e-04  3.65216583e-02  3.85440886e-02\n  3.30181532e-02 -2.82522682e-02 -4.13428210e-02  4.53118272e-02\n  8.30873027e-02 -3.29802409e-02 -2.20726640e-03  5.65718524e-02\n  4.05272134e-02 -6.60001487e-02  3.78623307e-02  2.54951138e-02\n  3.93179506e-02 -1.17228203e-01  5.95612859e-04  4.90871295e-02\n  3.91827524e-02 -4.66315821e-02 -5.62053174e-02 -2.84392443e-02\n  3.38880643e-02  4.07600962e-02  8.04222189e-03  4.72526662e-02\n  4.06546295e-02 -4.01957370e-02 -7.60795956e-04 -6.92010447e-02\n  1.79646146e-02 -8.36074445e-03 -2.03445740e-02 -2.89731915e-03\n -6.13544360e-02 -8.29382148e-03  5.74109554e-02  6.57846332e-02\n  2.03578081e-02  3.17330882e-02  4.28641997e-02 -1.35343699e-02\n -4.74375896e-02 -6.77266270e-02  9.60021466e-03  2.08305847e-02\n -8.03373754e-02 -3.32512073e-02  4.84326705e-02  1.25905536e-02\n -2.13767085e-02 -2.40812153e-02 -1.48662273e-02  1.47535652e-02\n -5.51779084e-02 -7.32708815e-03 -1.93261579e-02  1.83830839e-02\n -3.94746661e-02  1.71328895e-02 -2.83563267e-02  2.19794512e-02\n -7.06707453e-03 -3.53544950e-02 -3.35405245e-02  6.27672598e-02\n -7.44119799e-03 -4.41483296e-02 -2.46647168e-02 -2.95773689e-02\n -2.29024068e-02 -2.33726464e-02  8.68841410e-02 -1.77815277e-02\n  3.76855358e-02 -7.62427039e-03  9.70865265e-02  1.04791054e-03\n  6.43117577e-02 -2.67308522e-02  1.49494968e-02 -2.63098143e-02\n  3.56312059e-02  3.42710838e-02  5.22153219e-03  7.41783157e-03]",
         " at night all alone in my dreams"
        ],
        [
         "19",
         "19",
         "Still",
         "an underhanded girl. an act of desperation. and to my consternation. i let her go. . she wants what she can get. is that a fair depiction. does she believe her fiction. its hard to know. . is it innocence or guile. or nothing but a childish act of will. she doesn't know she needs you. she willfully misleads you. but still... still. . a son becomes a man at his father's knee. if my father asked questions. well where would we be. . she's nothing but a child. a waif who needs protection. . i feel a strange connection i can't allow. . she said it's all a game. she trembles like a flower. but in her there's a power. i see that now. . i am nothing but a man. with nothing but his orders to fulfill. . i'm innocent she cries. but then you see her eyes. then something in them tells you that she absolutely lies. until your heart replies. but still.... still... still",
         "0.098",
         "0.788",
         "0.113",
         "0.5257",
         "[-3.27410595e-03 -1.32359620e-02 -2.02816129e-02  2.45926641e-02\n  7.76900649e-02  1.81112029e-02 -2.01180596e-02 -9.60307661e-03\n  4.48548906e-02  1.94516275e-02  2.90857628e-02 -7.43860938e-03\n -1.47008505e-02  7.43565243e-03  3.57331671e-02  1.61739681e-02\n -4.69253166e-03 -1.58233233e-02 -1.15753654e-02  3.55965234e-02\n -4.99309301e-02  5.93229271e-02  2.97827087e-02  2.99456529e-02\n  6.61238879e-02  1.16470773e-02  2.43807528e-02  1.59534309e-02\n  6.07789552e-04  6.51385710e-02  3.35231312e-02 -4.07112241e-02\n -7.51593849e-03 -5.79100065e-02 -2.19901521e-02  1.51308384e-02\n  2.31084861e-02  1.35243442e-02  2.89758909e-02 -1.16321780e-02\n  6.66410010e-03 -4.82812002e-02  2.09264401e-02 -1.15495231e-02\n -3.99980741e-03  3.60709876e-02 -1.67642105e-02  5.73440967e-03\n -8.25771689e-03  2.72766910e-02  6.46232511e-04 -4.19134786e-03\n  2.88359318e-02  3.31117287e-02  7.04461113e-02  4.60388027e-02\n  1.50928367e-02 -3.95687930e-02  2.59813983e-02  8.08525737e-03\n -2.04815101e-02 -1.32977124e-02 -1.43839438e-02  7.53673539e-02\n -3.15327384e-02  3.20473351e-02 -1.91150829e-02  2.33622063e-02\n  1.52399475e-02 -6.01146333e-02  9.05394275e-03  2.22763177e-02\n  3.85215543e-02  5.22040529e-03 -1.35361857e-03 -5.54601960e-02\n -1.72314346e-02 -3.17478292e-02 -2.50828154e-02  8.66438169e-03\n  4.79979953e-03 -4.35880460e-02  1.48495995e-02 -6.01203218e-02\n  7.22688138e-02  2.79870275e-02  7.72834271e-02 -4.08741506e-03\n -1.82578582e-02  1.41134104e-02 -1.57358516e-02  3.43977511e-02\n  8.20347760e-03  2.44946568e-03 -1.33854225e-02  3.04240715e-02\n -7.21532805e-03 -3.50567214e-02  1.62940230e-02 -2.83214096e-02\n -5.13786497e-03 -6.64846823e-02 -5.64910611e-03  4.08380702e-02\n -6.28804043e-02  8.94755311e-03  4.00604084e-02  1.81845890e-03\n -7.29838666e-03  4.74026911e-02 -1.76846106e-02  1.67420786e-02\n -1.31358681e-02  3.01487762e-02  1.99119616e-02 -1.33763384e-02\n -9.02360678e-03 -1.04825012e-02  3.21971178e-02 -2.66380273e-02\n  7.60741755e-02  2.26339139e-02 -4.50756624e-02  5.10818586e-02\n  7.64132291e-02 -6.86424784e-03  5.51073998e-03 -2.19638329e-02\n -4.19781208e-02  8.30260888e-02  4.47854958e-02 -1.85873010e-03\n  3.57221141e-02 -4.96580545e-03  7.24991970e-03  2.66747940e-02\n -2.38618404e-02  9.07295477e-03 -5.79751208e-02  8.27936642e-03\n -3.99741866e-02  1.45523287e-02 -5.82423946e-03 -3.11841001e-03\n  2.12893784e-02 -1.55451931e-02  2.60128919e-03  4.06584442e-02\n  3.24510522e-02 -1.63494777e-02 -7.84272179e-02  3.12167853e-02\n -3.22264805e-02 -4.75555807e-02  1.39521789e-02  2.08476875e-02\n  4.82101329e-02  2.46629771e-02  5.75032923e-03  3.76008004e-02\n -3.68705839e-02 -3.85352857e-02 -1.35874767e-02 -3.96503918e-02\n  3.33367125e-03 -7.20650256e-02 -5.18066362e-02  2.38651671e-02\n -3.00010387e-02 -1.07146623e-02 -1.20346714e-02  1.24625238e-02\n  8.46538693e-02  4.11434285e-02 -3.21202818e-03  1.51274651e-02\n  1.68960541e-02 -2.75298897e-02  5.23981489e-02  7.72421621e-03\n  2.15555690e-02 -4.61920761e-02 -2.23369338e-04 -2.83410586e-02\n -1.98995601e-02 -7.13129416e-02  3.42894197e-02  8.28034338e-03\n -6.71068905e-03  6.74484074e-02  1.57663580e-02 -2.55447552e-02\n  1.55622223e-02  1.86183881e-02  1.00885257e-01 -3.04321144e-02\n -5.74615113e-02 -3.41809206e-02 -3.45013198e-03 -6.50512800e-02\n  5.69000468e-02 -7.95629099e-02  4.29824889e-02  2.12224238e-02\n -2.53020171e-02 -2.05701739e-02  3.14046703e-02  2.93036811e-02\n -2.64843833e-02 -1.25364047e-02 -4.23792712e-02  1.50338411e-02\n  8.82434472e-03  5.31857684e-02  4.90965962e-04  1.45713398e-02\n -1.02183763e-02  1.73759293e-02 -1.17347967e-02 -4.66237683e-03\n -5.77022098e-02 -2.38043834e-02 -5.49909733e-02 -5.59813231e-02\n -5.21703251e-02 -3.18274759e-02 -1.63561832e-02  5.06354775e-03\n  3.71474810e-02 -2.00190637e-02  4.15370911e-02 -3.65583822e-02\n  3.71091962e-02  4.94604781e-02 -1.92651972e-02  5.03316149e-02\n  2.40527596e-02  1.87651219e-03  2.94279326e-02  2.53384095e-02\n -4.88351062e-02 -1.72638278e-02  4.04581660e-03  2.35516671e-02\n -2.36368757e-02 -8.81192368e-03  6.29277006e-02  2.36195680e-02\n  1.37774283e-02  5.89270086e-04 -4.65452783e-02  1.80633459e-02\n -4.67092097e-02  4.94233109e-02 -1.90469250e-02 -3.70618775e-02\n  2.51886956e-02  3.03828390e-03 -1.49634900e-02  6.06689416e-02\n  3.31969908e-03 -1.95598342e-02  4.63934019e-02  2.63656843e-02\n  3.59284021e-02  4.31337468e-02 -8.41516033e-02 -7.04839244e-04\n -2.54857987e-02 -4.70159911e-02  5.02668647e-03 -1.74077619e-02\n -1.86592489e-02 -7.54348710e-02 -2.00021379e-02  1.47227291e-02\n -1.22003397e-02  1.70179587e-02  3.19090337e-02  3.01296860e-02\n -1.02733402e-02 -7.75684090e-03  1.16896387e-02  2.71296711e-03\n -9.86584555e-03 -2.86409501e-02 -4.56627719e-02 -4.87898802e-03\n  1.08180544e-03 -5.92331700e-02 -4.76286019e-04  5.98642826e-02\n -2.99246237e-03  4.89066318e-02 -4.80041169e-02  2.04006247e-02\n -3.90846618e-02  2.31308285e-02  4.93263174e-03 -1.38645144e-02\n  6.18063249e-02 -2.29584947e-02  3.19602783e-03  4.43227589e-02\n  1.56232633e-03  1.98566429e-02  1.76412053e-03  4.58294014e-03\n -1.11321295e-02  1.27366204e-02  4.22762558e-02  1.85727552e-02\n  2.75521427e-02  2.64133774e-02  2.40067951e-02 -1.10308891e-02\n -4.57831770e-02 -3.44373360e-02 -4.69686911e-02 -3.39262094e-03\n -8.61973967e-03  5.80120236e-02 -2.97029670e-02  5.80065772e-02\n -5.17199449e-02  1.17019173e-02  1.15697831e-03  5.00175357e-02\n -2.68021375e-02  6.85553439e-03  4.56224270e-02  1.97936203e-02\n -3.32230190e-03 -2.00092536e-03 -4.26863320e-02  1.17990263e-02\n -5.40418290e-02 -1.12270499e-02 -5.98416012e-03 -8.11268482e-03\n -6.81567118e-02  4.42047836e-03 -6.96193147e-03  7.36804958e-03\n  4.72200476e-02 -2.71114614e-02 -1.36137968e-02  1.73084456e-02\n  3.75574008e-02 -2.60497387e-02  2.32954714e-02 -7.89446756e-03\n  2.02799048e-02  4.94322041e-03 -3.94664556e-02 -8.39422748e-04\n  2.69189943e-02  3.85132642e-03  2.15259027e-02 -1.02800773e-02\n  7.23834634e-02 -1.93877853e-02  7.73555879e-03 -2.33306438e-02\n -4.20554094e-02  6.95447102e-02  9.20318067e-02 -2.11703181e-02\n  9.77238640e-02 -7.59403035e-02 -1.87804084e-02 -2.95921769e-02\n -3.28708924e-02  5.92425503e-02 -1.43650854e-02 -2.79262569e-02\n -1.58617797e-03  5.75233391e-03  5.00316471e-02 -2.24918276e-02\n -1.80717297e-02 -1.51736923e-02  6.36778539e-03 -6.22355985e-03\n  3.44334589e-03  9.88791957e-02  2.72071008e-02 -4.15968038e-02\n  4.60339785e-02 -1.20539777e-02 -2.84612924e-02 -1.78673933e-03\n -3.09074372e-02 -6.58540577e-02 -9.76267643e-03 -2.74976213e-02\n -2.95274239e-02 -1.56670380e-02  2.94473059e-02  9.11008473e-03\n  3.42665892e-03 -2.20759064e-02 -2.45709401e-02 -3.59326275e-03\n -2.15729512e-02 -1.20007657e-02  2.25158967e-02  4.51257229e-02\n  5.79484515e-02  3.68555896e-02  2.02286243e-02 -1.01156412e-02\n -9.52255446e-03  8.16265643e-02  6.00916930e-02 -4.92101498e-02\n -1.05728768e-02 -2.17135902e-02  3.21204625e-02 -5.70817925e-02\n -1.49182202e-02 -5.65314703e-02 -6.51716068e-03 -4.34275903e-02\n -7.84643888e-02 -1.86119368e-03 -5.80862276e-02  4.00409736e-02\n  1.30554540e-02  2.24813651e-02 -3.08892094e-02  7.20476136e-02\n  4.38608304e-02  2.27967165e-02 -1.32918498e-02  2.57293638e-02\n  9.58610326e-05 -2.77568381e-02 -3.39471884e-02 -2.21312027e-02\n  4.18022275e-02 -1.07209653e-01 -2.48411987e-02  5.51867820e-02\n  2.25086771e-02 -3.47463265e-02 -7.87394717e-02 -3.31682004e-02\n -9.03073978e-03  5.21358550e-02 -8.80642235e-03  4.79771607e-02\n  4.46785949e-02 -7.49427499e-03  4.80727404e-02 -7.12208822e-02\n -1.61319319e-02  4.63959053e-02 -2.02643927e-02  3.51622812e-02\n  2.28112880e-02 -5.39516006e-03  8.58549625e-02  8.79343152e-02\n  4.77757212e-03 -2.03874633e-02  1.99276172e-02 -4.46446650e-02\n -6.56875670e-02 -5.28082699e-02 -1.73164327e-02  7.53969606e-03\n  1.79825705e-02 -4.43909504e-02 -7.40002794e-03 -8.61139130e-03\n -3.87796871e-02 -2.58991085e-02 -3.49974707e-02 -3.38394642e-02\n -3.12953144e-02  1.98173411e-02 -5.15376702e-02 -1.32809561e-02\n  1.23931924e-02 -3.72279622e-03 -2.66106725e-02  1.86046269e-02\n -3.91173214e-02 -5.09754643e-02  6.99110031e-02  1.00053065e-01\n  3.02775949e-02  1.11023011e-02 -5.50018474e-02 -6.73952419e-03\n -2.40845680e-02 -1.33317132e-02  4.20084149e-02 -9.60552599e-03\n  1.20045654e-02  9.66020767e-03  8.82514194e-02 -1.33849289e-02\n  9.54778120e-03 -2.48780120e-02 -1.02419695e-02  5.67089878e-02\n -3.36328372e-02  6.16702065e-03 -4.45319619e-03  3.44499908e-02]",
         " a son becomes a man at his father's knee"
        ],
        [
         "20",
         "20",
         "Crossing a Bridge",
         "look at the sky. look at the water. somebody's . somebody's daughter. who could've known i'd be alone. crossing this . . boats heading in. somebody calling. sun going down. shadows are falling. shimmering view. dangerous too. crossing a . . halfway between where i've been. and where i'm going. in between wondering why. and finally knowing. . thousands of lights. shining below me. somebody waits. somebody know me. . maybe we're sharing. this beautiful night. me on the left bank. you on the right. almost in sight.... crossing a . . every light is like a promise. every light could be a clue. one of them might be you",
         "0.062",
         "0.826",
         "0.112",
         "0.7597",
         "[-0.02919354 -0.01773057 -0.06565969  0.02863939  0.07018775  0.01318676\n -0.01477654 -0.02665573  0.03535086  0.00766266 -0.00082309  0.04351391\n  0.00156373 -0.04065831  0.00206457  0.05409818  0.0411418   0.03152704\n -0.02199667  0.03502282  0.01039851 -0.00623262  0.007827    0.06638183\n  0.01192339 -0.07080829  0.00253721  0.01913956  0.00954314 -0.03510974\n -0.02496272  0.08165774 -0.08201808 -0.03761467 -0.02994211  0.02825434\n  0.01483074  0.02082766 -0.03407001  0.0347462  -0.06071253 -0.02476643\n -0.03664356  0.0236093   0.04659215 -0.02899874  0.03545775 -0.02207938\n -0.01269703  0.01945083 -0.02234774 -0.0161484  -0.04402253  0.02925655\n  0.05005886  0.01638738 -0.05898134 -0.00832322 -0.03554264 -0.02747994\n -0.01934041 -0.02329216 -0.02840172  0.06739815 -0.08796116 -0.02690642\n  0.0714052   0.05994586 -0.00866641  0.024889    0.06790636 -0.04603185\n  0.01197395 -0.01716709  0.08064748  0.0278962  -0.01270058  0.00200281\n  0.01716891  0.00787168 -0.00866796 -0.07477988  0.06031466  0.00089962\n  0.06852162  0.02323329  0.08131936 -0.06384259 -0.01838042  0.01380033\n  0.02597025  0.02912364 -0.04768963  0.04786849 -0.01832864  0.01859772\n  0.03097597 -0.00941494  0.00789942  0.04027705 -0.05817307 -0.0334218\n -0.05981635  0.01946928 -0.04300759 -0.02520903  0.0770659  -0.03181887\n -0.03348374 -0.00205003  0.0146966  -0.00065635  0.08766825 -0.00203688\n -0.07780223  0.05327068  0.07111126 -0.02668298  0.02321586 -0.01885849\n  0.02773039 -0.09135936 -0.0782429   0.00205356  0.01562688  0.06010443\n -0.02156202 -0.0342172   0.01740216 -0.00907247  0.01623059 -0.0042754\n -0.01635691 -0.00234355  0.02854525 -0.04864333 -0.00535466  0.01616465\n -0.01689502  0.02396618  0.01440037 -0.02389758 -0.00325856 -0.00188742\n -0.06801213  0.03758353  0.03375622  0.03371814  0.03745748 -0.04125828\n -0.05764961 -0.00590012  0.05588851  0.00309479 -0.01547757  0.01393243\n  0.03304661  0.08442911  0.00149104 -0.00767013 -0.02542499  0.01486401\n  0.00264281  0.0259961  -0.01798607  0.00872983 -0.01429416  0.0330416\n  0.02502157  0.06790683  0.00347193  0.01533819  0.07079525  0.02784962\n  0.044619   -0.08128006  0.05769852 -0.01322167 -0.02012099 -0.00275022\n -0.05606098 -0.06276151 -0.07814489 -0.07715795  0.04123607  0.04801115\n  0.00935306 -0.06899665 -0.02665797  0.06382253 -0.03420772  0.0483988\n  0.06191111 -0.05860446  0.06572816  0.02254284 -0.03042822 -0.01850672\n  0.01511938 -0.00562523  0.01343328 -0.09353995 -0.00422281  0.01939311\n -0.02848911  0.02934745  0.01974655 -0.01376631 -0.00335858 -0.02383622\n -0.05915234  0.10073756 -0.01863464 -0.00567912 -0.03117689  0.062093\n -0.04551199  0.02694565 -0.02096369  0.05620611  0.00559835 -0.01081368\n -0.08250125  0.01892567 -0.06803504 -0.0550353  -0.01607254  0.01241582\n  0.05180587  0.03469873  0.02400813 -0.05079684  0.02913321  0.05030527\n -0.03711871  0.04534028  0.00275916 -0.02535391 -0.05580377  0.01908227\n -0.04759335 -0.00232411 -0.05974387 -0.01787608  0.00064832 -0.03943626\n -0.0365182  -0.00928993 -0.00239474  0.01688217 -0.0164749   0.01083054\n -0.04737954  0.01550223  0.03297826  0.05487803 -0.01554344  0.05070059\n -0.01848919 -0.00800366 -0.04942552  0.05927236  0.04841904 -0.00110824\n -0.01981736 -0.00726143 -0.02733061  0.04032123 -0.01130616  0.01652353\n  0.06113094  0.01673438  0.01232237 -0.00950576  0.03009161  0.00199166\n  0.06440156  0.0156916   0.03017336 -0.0183653   0.02235621 -0.08094718\n  0.02623216  0.02120836  0.0012012  -0.01669161 -0.04905714 -0.05040218\n  0.0438116  -0.02491494 -0.00049148  0.01079064  0.03685765  0.01965692\n -0.07695296 -0.02878154  0.0151159   0.02297451 -0.01116644 -0.0554433\n  0.02448248 -0.0016071   0.01369876  0.06995516 -0.03738234  0.0618249\n -0.05290531  0.001198   -0.03931843  0.04164314  0.04124365  0.01501954\n -0.01374322  0.00209638 -0.00035862  0.04630974 -0.06969277 -0.08755604\n  0.01391147 -0.11395005 -0.01008275  0.08877379 -0.00770287 -0.116539\n  0.02753401 -0.03183304  0.00860933 -0.05078375 -0.06903305  0.01130242\n  0.00688072 -0.04522789 -0.06576313  0.01154114  0.08731937 -0.00219959\n -0.04337199  0.06453423  0.00387298  0.05806179  0.00947271 -0.01964178\n  0.00386445  0.04000447  0.02063285 -0.00347818 -0.01637478  0.05045403\n  0.0855212   0.02797076 -0.02636422  0.03651709 -0.04298739 -0.03548509\n -0.03044584 -0.00792736 -0.00921703  0.02864996  0.02466788 -0.05588692\n  0.00045517 -0.02282747  0.06820744 -0.0321445  -0.04357352 -0.04160278\n  0.009674   -0.03782528  0.0716351  -0.04908302 -0.01710418 -0.00712409\n -0.02296082 -0.00888168 -0.06188933 -0.01570168 -0.00477374  0.00301809\n  0.07992235 -0.00241584  0.05117628 -0.05181274  0.01662503  0.02571479\n -0.03421101  0.11456612  0.09738144 -0.0369973  -0.04042137 -0.00608496\n -0.12245415 -0.03404654 -0.0665457  -0.03075434 -0.01558025 -0.05991761\n -0.00922316 -0.02825337 -0.00157284  0.02996166  0.02725232 -0.08113693\n -0.05542326  0.01513821 -0.07459491  0.02464512 -0.00491137 -0.00696082\n  0.00676409  0.03321753  0.0582407  -0.01650171 -0.01560341  0.05973788\n -0.02911681 -0.01559511  0.01119159 -0.04073047 -0.03821891 -0.03790651\n  0.03585717  0.05209657 -0.00297973  0.00871284 -0.01279955  0.00404733\n  0.00787168 -0.00111133  0.06625502  0.03205321 -0.04979689  0.02156301\n  0.09866169 -0.01121659 -0.00348115 -0.01400062  0.05456286 -0.02732767\n  0.0811858  -0.01202462  0.04155368 -0.09553073 -0.04391036  0.02791375\n  0.05500752 -0.05817426 -0.05701246  0.03646747  0.08349058  0.01530278\n -0.00423323  0.00389513  0.06073575 -0.01245807  0.0177299  -0.04292247\n  0.0053584   0.03256105 -0.02758274  0.03130199 -0.0083018  -0.00150019\n  0.04763268  0.12235361  0.00128194  0.05378576 -0.05181747 -0.00814956\n -0.06084228 -0.03498086  0.01574665 -0.01386589 -0.01762364 -0.0674296\n  0.08461298  0.01196843 -0.02651501 -0.08040015 -0.00551769  0.0146969\n  0.00878131  0.00427727 -0.04372725 -0.05542897  0.00050718  0.0226365\n -0.00451442 -0.03985728  0.02248204 -0.03665978  0.01240639  0.059134\n -0.01877138 -0.00253022 -0.00947349 -0.00604129 -0.03995805  0.00267149\n  0.02289032 -0.01540498  0.07452939 -0.0196798   0.06786926  0.01706964\n  0.03480143 -0.0758675   0.03176691 -0.02127338  0.02059156 -0.04295029\n -0.01733037  0.02700499]",
         " halfway between where i've been"
        ],
        [
         "21",
         "21",
         "Do You Hear The People Sing?",
         "do you hear the people sing. singing the song of angry men. it is the music of the people. who will not be slaves again. when the beating of your heart. echoes the beating of the drums. there is a life about to start. when tomorrow comes. . . will you join in our crusade. who will be strong and stand with me. beyond the barricade. is there a world you long to see. then join in the fight. that will give you the right to be free. . . do you hear the people sing. singing the song of angry men. it is the music of the people. who will not be slaves again. when the beating of your heart. echoes the beating of the drums. there is a life about to start. when tomorrow comes. . . will you give all you can give. so that our banner may advance. some will fall and some will live. will you stand up and take your chance. the blood of the martyrs. will water the meadows of france. . . do you hear the people sing. singing the song of angry men. it is the music of the people. who will not be slaves again. when the beating of your heart. echoes the beating of the drums. there is a life about to start. when tomorrow comes",
         "0.125",
         "0.821",
         "0.053",
         "-0.9552",
         "[ 1.63129605e-02 -5.89856356e-02 -6.71437010e-02  2.89896484e-02\n  5.03365435e-02 -1.94374528e-02 -1.08494959e-03 -9.78709012e-03\n  3.88507638e-03  6.27265051e-02  2.27541961e-02 -6.77432418e-02\n -2.51286458e-02 -3.54124904e-02  3.87076512e-02  4.90010791e-02\n -3.95002253e-02 -1.63548440e-02  4.44010569e-04  3.78732085e-02\n -3.77459750e-02  2.61336043e-02  3.47340815e-02  2.43453253e-02\n -2.60431301e-02 -1.81023981e-02 -2.44003460e-02 -7.73058319e-03\n  4.42335643e-02 -7.28139095e-03 -1.01315407e-02  7.45026907e-03\n  3.56450910e-05  2.96905660e-03 -1.95916351e-02  3.19884159e-02\n  2.63490677e-02  1.55194541e-02 -4.21909578e-02  4.39637713e-03\n -1.72414295e-02 -8.27939063e-02 -4.26807292e-02  4.16741706e-02\n -1.69572677e-03  4.28572260e-02 -3.69453430e-02  7.20636081e-03\n  8.08357745e-02  3.96271870e-02 -2.26543192e-02 -6.76767319e-04\n  9.54257604e-03 -4.79591154e-02  5.81825785e-02  5.03223687e-02\n  2.09561903e-02  2.97053624e-02 -1.87892746e-02  8.17695335e-02\n -4.87200879e-02 -1.88263673e-02  6.92644864e-02  1.03980228e-02\n  1.26036340e-02  3.26715820e-02 -4.88254651e-02 -6.76716715e-02\n -7.23285303e-02  3.85470837e-02  7.06335576e-03  4.86200750e-02\n  2.43542083e-02 -9.38497856e-03 -6.32437617e-02  5.60969859e-02\n -1.31829306e-02  5.97722605e-02  4.20747371e-03 -3.18404771e-02\n  4.21347022e-02 -6.65611327e-02  8.01268220e-02 -4.18755598e-02\n  7.81696811e-02  3.67873572e-02 -1.52640825e-03 -3.79396304e-02\n -2.54470110e-02  1.23013975e-02  2.08773767e-03  1.68812107e-02\n  1.45665202e-02  4.37907130e-02 -3.04095000e-02  4.91513461e-02\n  5.81847923e-03  7.83985183e-02  1.78545490e-02 -5.42606190e-02\n  3.17078596e-03 -1.97519120e-02  9.37874604e-04 -9.74639319e-03\n -2.66394950e-02 -7.95598030e-02 -1.83386635e-02 -1.38322935e-02\n -2.70222444e-02 -3.67335640e-02  1.43190203e-02  7.51007395e-03\n  3.38867903e-02  1.52724618e-02 -2.69387402e-02  3.88312573e-03\n -7.19500752e-03 -2.27077417e-02 -8.72007292e-03  2.13905182e-02\n  3.73133160e-02  2.90292432e-03 -2.29228754e-02 -1.09977508e-02\n -5.29784486e-02 -1.68818422e-02  8.23869370e-03  1.49549907e-02\n  5.49025871e-02 -4.72532287e-02 -5.12119755e-02 -3.64870502e-04\n  4.03705100e-03 -3.45535316e-02 -2.41754446e-02  2.07837299e-03\n  7.50980806e-03  7.24291429e-02 -4.86051701e-02 -1.85242598e-03\n -2.21359115e-02  6.89328387e-02  6.75900951e-02 -1.34735536e-02\n -3.15896496e-02  2.76715308e-02  2.75707971e-02 -4.23237570e-02\n  4.91807051e-02 -1.78817008e-02 -8.66974592e-02  2.55710669e-02\n -1.61405411e-02 -1.03312340e-02  9.38110612e-03  1.76968668e-02\n  4.76692244e-02  7.10028410e-02  4.13966514e-02 -1.27788316e-02\n  1.56429075e-02  8.21238477e-03  4.74466197e-02  3.07976250e-02\n  1.55264726e-02 -4.26991545e-02  1.15705067e-02  3.38784866e-02\n  3.20571400e-02  2.59182137e-02 -6.82342658e-03 -1.98153481e-02\n  3.01131532e-02 -2.14906335e-02 -1.73422750e-02 -1.83626008e-03\n  1.76949650e-02 -4.33084602e-03 -4.72037047e-02 -2.63253432e-02\n -7.65135838e-03  1.09439986e-02 -4.65798341e-02 -4.90135141e-02\n  2.29529422e-02  2.40909532e-02  6.30014623e-03 -4.94241044e-02\n -1.95631739e-02  5.10368422e-02 -4.93976334e-03 -1.30883604e-02\n -3.41767259e-02  5.13103604e-02 -1.22704310e-02 -2.72848010e-02\n  5.04891388e-02 -8.09087157e-02 -1.45439552e-02  6.69792295e-03\n -4.75993156e-02 -1.16019882e-01 -7.68704340e-03  4.28133197e-02\n  2.02467246e-03  2.89093181e-02  1.04240356e-02  9.01384978e-04\n  3.07982322e-02  1.05199916e-02  1.66307706e-02  2.50172690e-02\n -4.94851582e-02  3.14218402e-02 -2.16538943e-02  1.25145122e-01\n -2.80550085e-02  2.17886679e-02  3.70057463e-03 -1.01330169e-02\n  8.12105611e-02  4.71231192e-02 -1.70232188e-02 -7.17237294e-02\n -6.79005831e-02 -6.74516410e-02  8.20243657e-02  1.36894723e-02\n  5.16766571e-02  1.84594095e-02  3.30890864e-02  1.12655191e-02\n  3.36148776e-04 -1.18380487e-02 -4.59313616e-02  1.37123168e-02\n  5.38573116e-02  3.22271213e-02 -2.49027200e-02  1.24742766e-03\n -2.44085919e-02 -2.21341755e-02 -1.80365387e-02 -1.59209743e-02\n  2.40408052e-02  3.80023420e-02 -1.07237613e-02 -5.68326078e-02\n -1.40761510e-02 -4.40952070e-02 -3.01190801e-02  6.47969730e-03\n -1.96300931e-02 -1.67251192e-02 -3.87932658e-02 -3.16476561e-02\n  3.19781564e-02  3.53020406e-03 -1.52136255e-02 -2.31084991e-02\n -4.42958549e-02  9.98461246e-03 -4.37091775e-02  5.88311553e-02\n -2.03851908e-02  3.07650901e-02  1.86803902e-03  5.00891879e-02\n  1.70112457e-02 -8.88498686e-03  9.60404892e-03 -7.25727109e-03\n  7.75514394e-02 -3.44727933e-02  3.77301709e-03  6.15692958e-02\n -3.72953936e-02  4.66593169e-02 -1.63986739e-02  1.80586125e-04\n  4.26808260e-02  1.13837635e-02  4.84920060e-03  1.97775639e-03\n  3.78212668e-02  1.56702641e-02 -5.71809001e-02  5.38621144e-03\n  1.34115294e-02 -3.15013342e-02 -6.53221980e-02 -2.53339717e-03\n  6.64341897e-02  1.63448229e-02 -6.42384589e-02  6.21062564e-03\n  3.73872519e-02 -3.47417854e-02  3.42008360e-02 -1.01916753e-01\n -9.47276037e-03 -7.43284971e-02 -3.00847962e-02  3.05070449e-02\n -6.41322434e-02 -3.16755101e-02  2.46626674e-03  1.20382442e-03\n -2.36184057e-02  4.38420661e-02  7.35185370e-02  2.47738417e-02\n  4.60944995e-02  2.75518261e-02 -2.54402449e-03  2.12320872e-02\n  7.17988089e-02 -1.07801417e-02 -3.19015086e-02  2.65175626e-02\n  4.84031513e-02 -7.06068194e-03 -4.97302078e-02 -3.32969800e-02\n  1.39661832e-02 -2.89534628e-02 -2.68375240e-02 -2.43844911e-02\n  2.35414337e-02  5.26971510e-03  4.57442775e-02 -4.87257466e-02\n -8.76631495e-03  2.99778059e-02  7.56951328e-03 -3.98591235e-02\n -2.50682943e-02  1.13770425e-01  4.13373159e-03  1.29423589e-02\n  1.25078950e-02  2.06525344e-02  2.59959847e-02 -1.98513293e-03\n  6.96048141e-02 -6.94583878e-02 -1.32781351e-02 -5.29122725e-02\n  3.48949842e-02 -3.98291880e-03 -2.34369785e-02  2.49604452e-02\n -2.48136669e-02 -4.68659624e-02  6.75462699e-03 -2.62166075e-02\n -4.55370219e-03  3.63892913e-02 -4.19823602e-02 -3.29696909e-02\n  6.25742823e-02  6.19765744e-02  1.53573612e-02 -8.16151425e-02\n -4.37912531e-02  7.14363158e-02 -5.43403346e-03 -1.07700471e-03\n  1.65567528e-02  1.31645647e-03 -4.34939787e-02 -3.06948740e-02\n -1.31096272e-02 -1.71922278e-02  9.69055109e-03 -5.73851615e-02\n -4.20801379e-02 -3.46488617e-02  2.92964801e-02 -1.43190296e-02\n  1.48756634e-02  1.56416222e-02  9.16191563e-03 -2.10826676e-02\n -2.31292583e-02  8.86464957e-03 -1.88757032e-02 -4.56913970e-02\n -4.09903973e-02 -3.95204425e-02  1.57817435e-02 -7.05835372e-02\n -4.44577970e-02  2.50174738e-02  4.21484411e-02 -1.33735668e-02\n -6.27680914e-03 -5.51488958e-02  6.40608221e-02 -8.70369002e-03\n  3.56149971e-02 -7.23680761e-03 -1.28010157e-02 -2.20297873e-02\n  1.63397230e-02 -1.68239661e-02  1.99208241e-02  2.44837608e-02\n  1.41690457e-02 -6.42049611e-02  2.42672749e-02 -2.59781647e-02\n  4.26830053e-02  3.16427578e-03  3.84705067e-02 -2.00502425e-02\n  9.44451429e-03  4.91742715e-02  2.25668699e-02  3.30666788e-02\n  4.06277068e-02  8.90744943e-03  8.50293040e-02 -7.60993734e-02\n -2.96644457e-02 -6.21536002e-02  4.79391143e-02  5.72434030e-02\n -8.81163180e-02  7.05684652e-04 -5.38681075e-02  1.52331041e-02\n  8.17815959e-02 -4.32699509e-02  5.56600001e-03  2.26995945e-02\n  2.51327418e-02  8.26189145e-02 -2.80218050e-02  1.82762612e-02\n  2.24446859e-02 -1.22741103e-01  4.54232022e-02  8.19099620e-02\n -1.18479328e-02  1.78728402e-02  8.90636630e-03  1.29510611e-02\n  1.22192902e-02 -2.60401852e-02  1.64011084e-02  3.64485569e-02\n  1.65786669e-02  3.43116336e-02 -2.85159331e-02 -3.68952826e-02\n  2.67860759e-03  5.59402630e-02  3.29861827e-02  4.01017778e-02\n  4.14971933e-02 -2.11186074e-02  2.86173671e-02 -1.68947782e-02\n -3.54646295e-02  2.17448431e-03 -3.78703997e-02  1.75450351e-02\n -2.85185017e-02  8.15636367e-02  4.09859829e-02  8.93293321e-03\n -6.24970645e-02  6.47320896e-02  5.88685945e-02  3.26760486e-02\n -3.02020949e-03 -1.92409847e-02 -3.61443758e-02 -5.18539958e-02\n  8.23437062e-04  3.21922265e-02 -4.12339941e-02 -3.19815874e-02\n  4.22983542e-02 -2.54210103e-02  5.51656522e-02  1.94209032e-02\n  2.92104594e-02 -2.55696103e-02  1.99675709e-02 -1.79118626e-02\n  3.84347420e-03  1.05347568e-02  1.87148415e-02  6.87485933e-02\n -2.65278127e-02 -4.79893647e-02  3.40532996e-02  3.07961972e-03\n  1.18407868e-01 -5.87753728e-02 -3.19727813e-03  1.30498493e-02\n  6.15599565e-02 -5.89538850e-02  2.48169526e-02 -1.75203010e-02\n -5.24195358e-02 -3.10685765e-02 -2.82306876e-02  2.25663204e-02]",
         " singing the song of angry men"
        ],
        [
         "22",
         "22",
         "El Tango De Roxanne",
         "roxanne. . . word to the wise my dear. never fall in love with a woman who sells herself. it always ends badly. . . his eyes upon your face. his hand upon your hand. his lips caress your skin. it's more than i can stand. . roxanne. you don't have to wear that dress tonight. walk these streets for money. you don't care if it's wrong or if it is right. . roxanne. you don't have to put on the red light. roxanne. you don't have to put on the red light. roxanne put on the red light. roxanne put on the red light. roxanne put on the red light. roxanne put on the red light. roxanne put on the red light. roxanne put on the red light. . . i am andré dacor benicieux le duc de monroth. you will reject the boy shatter him you will break his heart. . . roxanne put on the red light. roxanne put on the red light. roxanne put on the red light. roxanne put on the red light. help me i'm holding on for dear life roxanne. help me i'm holding on for dear life roxanne. . why does my heart cry. feelings i can't fight. you're free to leave me but. just don't deceive me. and please believe me when i say. i love you. . . you mean nothing to me. i feel nothing for you. you are nothing",
         "0.08",
         "0.826",
         "0.094",
         "0.3134",
         "[-0.00223901 -0.03469271  0.02316686 -0.01038954  0.05715788 -0.00323662\n -0.02396907 -0.02545869 -0.0683303   0.05622635 -0.01877809 -0.00485364\n -0.00530368  0.01090661 -0.05461784  0.03857252 -0.00351311 -0.07707725\n -0.02473031 -0.04710901 -0.00067366  0.02115981 -0.00697587  0.00757137\n  0.04148119 -0.00105927 -0.00205455  0.05661118 -0.02102205 -0.00498455\n  0.06050324 -0.06850358 -0.01989857 -0.03476799 -0.08316159 -0.02425157\n  0.02764611  0.02566582  0.02102693 -0.01940259 -0.03907777 -0.03407564\n -0.07866113  0.00702137  0.067801   -0.0323869   0.00961338  0.00415241\n -0.06823976  0.05109009 -0.03444612 -0.00730488  0.00855831 -0.02722995\n  0.08914358  0.00285013 -0.02350638  0.01541961 -0.00252075 -0.02527188\n -0.04173173 -0.02307101 -0.02462741  0.00783616 -0.02892718  0.05366483\n -0.050423   -0.02894099  0.02032267  0.07090657 -0.04560664  0.05600096\n -0.00181673 -0.04736384  0.02218496 -0.0075666  -0.02503598 -0.0191496\n -0.02685533 -0.01202065  0.00849208 -0.06464349 -0.0005955   0.04329657\n  0.03855853  0.0788935  -0.04177725 -0.11227685 -0.001436    0.01690504\n  0.03180836 -0.00521566 -0.01749208  0.00121049 -0.02705824  0.0240787\n -0.02330829  0.01256739  0.0440194  -0.05263744  0.06654715 -0.02635229\n -0.01904011  0.07239129 -0.03569722 -0.0127337  -0.01597351 -0.03799544\n  0.02540935  0.05876563  0.01234769  0.01260545  0.01719951  0.00241514\n -0.0027794   0.0149926  -0.01306117  0.03242591  0.01222199  0.02749133\n -0.00933063 -0.05222696  0.0429874  -0.02708224 -0.0014794  -0.03087199\n  0.02761908  0.01571549  0.0596741  -0.04135361 -0.01131768  0.03137511\n  0.05133186 -0.02163998  0.00849459 -0.03880003 -0.01959428  0.01829719\n -0.05980893  0.03978297 -0.07428026 -0.01509353  0.04313992  0.02210635\n  0.02400183 -0.03663569 -0.01446289  0.04770551  0.00676862  0.01468298\n -0.05747166  0.04171003 -0.03431108 -0.04540018 -0.00386583  0.05539962\n  0.07772657  0.00658327 -0.00982998 -0.01551224  0.06061492 -0.01135064\n  0.01383939  0.01716584  0.01943698 -0.00873963  0.03895505  0.07872261\n -0.01742228  0.04155279 -0.02033107  0.02357781  0.0665253  -0.01457505\n -0.02119726 -0.00383069  0.05641559  0.01210653  0.00359567 -0.01477537\n -0.02636766  0.03123381 -0.01766486 -0.03612113  0.00865785 -0.00244241\n -0.00212209 -0.01302095 -0.01023972  0.02127569  0.0068916  -0.04069905\n  0.00178283  0.0432607   0.1388922  -0.00288115 -0.00989394 -0.04202362\n  0.00531675 -0.01062166  0.08002109 -0.09596197 -0.03323349  0.02031048\n  0.05064832  0.01428659  0.0254352   0.00591346  0.05417232 -0.0145317\n  0.02028916 -0.00905688  0.03778351  0.02030366  0.02878     0.03594169\n -0.00554806  0.00085717  0.05418907 -0.06402674  0.0327186   0.03612648\n  0.01651519 -0.04249078 -0.03740414 -0.00130931 -0.01331445 -0.00825438\n -0.00811927 -0.05243191  0.05668352 -0.01816039  0.02030929  0.0346502\n -0.04517081  0.05446614  0.03820541 -0.03413466  0.00578522  0.00666775\n -0.0021525  -0.01806144 -0.03823251 -0.0537032  -0.03118301 -0.03667955\n  0.0097105  -0.07807132  0.01538442  0.02886063  0.04969085 -0.02484353\n -0.04313525  0.03682179  0.00523888 -0.00401078  0.02698173 -0.01742472\n  0.02107193 -0.02859089 -0.0308655   0.01050982 -0.01180054 -0.00363772\n -0.04700257  0.04250629 -0.00596289 -0.06342782  0.03844568 -0.01809336\n  0.04227906 -0.07569344 -0.02839762 -0.08387456 -0.02052736  0.01194383\n  0.0114103  -0.03596627  0.03696693  0.00769883 -0.03607251  0.00436139\n  0.03151661 -0.01662818  0.06095325  0.0137631  -0.01392289  0.0508278\n  0.03020153 -0.05447765 -0.00639355  0.03198962  0.03601136  0.02088538\n -0.05090983  0.07010426  0.03884697 -0.01068027  0.01678161 -0.05973448\n  0.04500408 -0.06224375 -0.08791453  0.07559431 -0.04945608 -0.03189224\n -0.00187105  0.00235982 -0.01132817 -0.03193695  0.0651508   0.01511399\n -0.00895382 -0.02170113  0.02506733 -0.00035221  0.01378624  0.00249706\n -0.01923072  0.01390098  0.00656681  0.02515761  0.01235332 -0.040273\n -0.11628974  0.03703814  0.0694833  -0.02291751 -0.03022264  0.00186925\n  0.06999703 -0.02264051  0.01027853  0.00902161  0.04881453  0.06416317\n  0.02996942 -0.00220906  0.00424384 -0.09528449 -0.02537876 -0.00379089\n  0.05865399  0.01710947  0.04352261 -0.02283422  0.00750611  0.05883158\n  0.04533747  0.03666263 -0.01733726  0.00727766  0.01925824 -0.04537787\n  0.00780375  0.02880889 -0.00934859  0.09327605  0.03463151 -0.02235942\n  0.02200728 -0.02782973 -0.0687214  -0.03645426 -0.06377443  0.06145459\n  0.00696994 -0.07153803 -0.04916881  0.01500424 -0.01510414 -0.00737886\n -0.00064967  0.03109314 -0.01240811 -0.00776969 -0.03083581 -0.00556765\n  0.07245208  0.00263441 -0.03620994 -0.02783081 -0.01293683  0.01276048\n -0.02562868 -0.00092295  0.0385945   0.05035468 -0.03511364  0.01100492\n  0.04777014  0.03028178 -0.03868112 -0.0512247  -0.04838363  0.00081368\n  0.00732772  0.00249435  0.01031183 -0.02292495 -0.01979381 -0.0342499\n -0.02689418  0.05762568 -0.09300137  0.0054985   0.05610727 -0.01309168\n  0.03722506  0.03417251 -0.05177497 -0.01755774  0.00259569  0.0273493\n -0.03218915 -0.0359685  -0.03446855  0.02090229  0.01877115 -0.03705349\n  0.03353046  0.02772022 -0.02696948 -0.04485064  0.03241799  0.04809495\n  0.04891825  0.04493504 -0.01824103 -0.04851403  0.03210263  0.02985886\n  0.07588363 -0.00221805 -0.01230318  0.01009067  0.06625493  0.02182955\n  0.04657383 -0.03138591  0.02366962 -0.10245135 -0.0371251  -0.01925522\n  0.04391222 -0.01265762 -0.04871644  0.01648015 -0.00511507  0.02028234\n -0.02432392  0.0026157   0.04204473  0.05509151  0.05705399 -0.0487062\n  0.0247355  -0.03386756 -0.01699878  0.03353244  0.00489352 -0.03107456\n  0.07782794  0.05422072 -0.06839307  0.04843906 -0.04107371 -0.00229641\n -0.07313935 -0.06035011 -0.05551355 -0.00464185 -0.01746743 -0.01339337\n -0.0263569   0.03466044  0.00491299  0.02783278  0.00793713  0.00926564\n  0.02151468 -0.00891011 -0.0479705  -0.01212102  0.04428494 -0.01691528\n  0.00295892  0.03061401 -0.03672672 -0.01117557  0.01295532  0.10365424\n -0.03777289 -0.02438212  0.00262662 -0.02514665 -0.03581555  0.08556258\n -0.024134   -0.00771421  0.05998088 -0.05411975  0.00536263 -0.00254608\n  0.02128012 -0.06463873 -0.00829387  0.03280905  0.0348371  -0.09500916\n -0.00594212  0.05952142]",
         " roxanne put on the red light"
        ],
        [
         "23",
         "23",
         "Crazy Rolling",
         "i remember when i remember. i remember when i lost my mind. there was something so pleasant about that place. even you emotions have an eco. so much space. . mmm. when you're out there without care. yeah i was out of touch. but it wasn't because i didn't know enough. i just knew to much. . does that make me crazy. does that make me crazy. does that make me crazy. possibly. there's a fire starting in my heart. reaching a fever pitch and it's bringing me out the dark. finally i can see you crystal clear. so go 'head and sell me out and i'll lay your ship bare. . see how i leave with every piece of you. don't underestimate the things that i will do. there's a fire starting in my heart. reaching a fever pitch and its bringing me out the dark. the scars of your love remind me of us. they keep me thinking that we almost had it all. the scars of your love they leave me breathless i can't help feeling. . we could have had it all. rolling in the deep. you had my heart inside of your hand. and you played it to the beat. . . baby i have no story to be told. but i've heard one on you and i'm gonna make your head burn. think of me in the depths of your despair. making a home down there 'cause mine sure won't be shared. . you're gonna wish you never had met me the scars of your love remind me of us. tears are gonna fall rolling in the deep they keep me thinking that we almost had it all. you're gonna wish you never had met me tears are gonna fall the scars of your love they leave me breathless i can't help feeling. . satine  christian ensemble. we could have had it all you're gonna wish you never had met me. rolling in the deep tears are gonna fall rolling in the deep. you had my heart inside of your hand you're gonna wish you never had met me. and you played it to the beat tears are gonna fall rolling in the deep. . . my heroes had the heart. to lose their lives out on a limb. and all i remember is thinking. i wanna be like them. mmhmm ever since i was little. ever since i was little it looked like fun. and it's no coincidence i've come. and i can die when i'm done. . . throw your soul through every open door. count your blessings to find what you look for. turned my sorrow into treasured gold. you pay me back in kind and reap just what you sow. . . you're gonna wish you never had met me. tears are gonna fall rolling in the deep we could've had it all. you're gonna wish you never had met me we could have had it all. it all it all it all tears are gonna fall. . maybe i'm crazy you're gonna wish you never had met me. maybe i'm crazy tears are gonna fall rolling in the deep. you had my heart inside your hand you're gonna wish you never had met me. and you played it you played it. you played it you played it. you played it you played it. . . you played it. to the beat",
         "0.12",
         "0.678",
         "0.202",
         "0.9971",
         "[ 2.84617878e-02 -2.75828280e-02 -2.99539790e-02 -3.69419754e-02\n  7.67696127e-02  3.32834348e-02 -2.30696686e-02 -3.54634561e-02\n -5.85227832e-02  9.14892256e-02 -1.76815987e-02 -3.42659489e-03\n  2.72220820e-02  2.51253247e-02  1.46853421e-02  4.39048819e-02\n -1.34749133e-02  1.41785014e-02 -1.78952795e-02 -4.92488667e-02\n -5.62038622e-04  1.81500483e-02 -5.59444465e-02  5.03108203e-02\n  1.33093838e-02 -2.23324914e-02 -5.32207750e-02  6.91276975e-04\n  4.58467985e-05 -3.09167430e-02 -1.55862207e-02  2.19631605e-02\n -4.69511412e-02  6.08613789e-02 -8.80720988e-02 -3.63691747e-02\n -2.12113317e-02 -4.13611270e-02 -8.61570425e-03 -7.83043802e-02\n  9.96024311e-02 -1.49046304e-02 -1.03822593e-02 -9.64155942e-02\n  8.20645783e-03 -3.22696287e-03 -8.73019174e-03 -2.29775812e-02\n -3.91258858e-02 -7.04665063e-03  4.17032614e-02  4.02541133e-03\n  4.50199395e-02 -2.08093319e-02  3.95530574e-02  7.74903148e-02\n  2.23702826e-02  7.38652721e-02 -8.05417832e-04 -5.77993039e-03\n -7.13427644e-03  1.96444876e-02 -6.64431974e-03  6.24770857e-02\n -3.23972180e-02  7.00397864e-02  1.97662134e-02 -2.84538604e-02\n -6.64908113e-03  2.80002933e-02  5.49534485e-02 -3.27749294e-03\n  1.01591751e-03  4.49814238e-02  6.02822118e-02  9.01775211e-02\n -8.07313249e-02  2.70444173e-02 -8.79604816e-02 -1.10794976e-01\n -1.83447022e-02 -5.74568175e-02  5.55004925e-02 -2.31540985e-02\n -3.69283110e-02  1.38069745e-02 -1.20164156e-02  7.63205159e-03\n -4.70678695e-02 -3.87048200e-02  1.95584204e-02  3.08567379e-02\n  3.07465997e-02 -3.25989798e-02 -3.15140784e-02 -1.16988895e-02\n -4.74565178e-02 -1.53294355e-02  5.46785891e-02 -5.02326107e-03\n -2.56675091e-02  3.43881659e-02 -8.73377994e-02  3.00430018e-03\n -2.17549969e-02 -2.56118365e-02  2.14069877e-02 -2.07186528e-02\n -3.23373526e-02 -3.42489704e-02  2.68672779e-02  2.35760678e-02\n  5.77567779e-02  3.44855874e-03 -9.73276868e-02 -6.45114761e-03\n -7.62983924e-04  2.63233799e-02  3.01757194e-02  1.18262321e-02\n -4.51857671e-02  4.80416119e-02  5.90177700e-02 -2.51425933e-02\n -2.04822905e-02 -5.32041229e-02  1.16511406e-02  3.37165478e-03\n -1.71837900e-02 -8.41363240e-03 -1.76349916e-02 -1.83164445e-03\n  2.71641407e-02 -2.65739281e-02 -1.23495655e-02  5.20703057e-03\n -1.96376219e-02 -1.97573826e-02  2.03487389e-02  3.30622829e-02\n -2.88491212e-02  9.24713537e-03 -4.81818356e-02 -3.79771031e-02\n  2.65474543e-02  1.73854642e-02  1.67916045e-02  2.14741733e-02\n  9.75101627e-03 -2.89820344e-03  1.03738913e-02  2.91330442e-02\n -1.41237220e-02  8.67503975e-03  3.41370027e-03 -4.87883762e-02\n  1.84114743e-02  3.65240797e-02  1.73526574e-02  2.05865800e-02\n  6.21128920e-03 -2.62696063e-03 -3.86209302e-02 -1.34833045e-02\n -1.09163169e-02 -6.36282340e-02 -5.00700958e-02  2.63385680e-02\n  5.31474836e-02 -3.76522765e-02 -1.61837917e-02  3.03614959e-02\n  2.22628489e-02  6.36271155e-03 -4.56979126e-03  1.44091633e-03\n  2.99208425e-02  3.48350592e-03 -3.31049450e-02  2.75497790e-02\n  2.18683220e-02  4.12575901e-02 -5.92617579e-02 -2.93173939e-02\n -2.19692718e-02 -2.65273824e-02  7.91281462e-03 -2.75167590e-03\n  4.23085690e-02 -2.06260034e-03 -1.80226117e-02 -1.85332727e-02\n -1.75362837e-03  4.57858108e-02  1.58281736e-02 -2.64813937e-02\n -3.38142342e-03  5.65391108e-02  1.29807116e-02  4.41184174e-03\n  2.67575625e-02 -1.13764070e-01 -8.56358558e-03  2.31724363e-02\n  4.68955375e-02 -9.83546022e-04 -1.56756099e-02 -2.02777404e-02\n -4.81218891e-03  4.50381339e-02 -2.16532331e-02  1.61384232e-03\n  1.82487257e-02  2.14244127e-02 -5.52424490e-02  4.79753576e-02\n  1.84147339e-02 -4.93859090e-02 -3.05751688e-03  8.46271142e-02\n  2.41776407e-02 -1.28105879e-02  2.09176149e-02 -2.32984293e-02\n -4.67467383e-02 -7.40562901e-02  2.57753190e-02 -6.54137041e-03\n  2.41751014e-03 -3.92104276e-02  9.16494429e-03 -2.14591809e-02\n -1.86911672e-02 -3.58124077e-02 -1.43095125e-02 -3.65121178e-02\n  2.91308574e-02  1.27583602e-02 -3.40327285e-02  6.74327090e-02\n -1.88449360e-02  1.83145236e-02 -2.56591849e-03 -1.41281029e-02\n  3.70724732e-03 -4.93739769e-02  4.30224724e-02  7.58740061e-04\n -8.90790299e-02  1.32040158e-02 -1.64243914e-02 -1.50534706e-02\n  1.75088216e-02 -5.81068024e-02  4.03888002e-02 -2.23166356e-03\n  2.82991249e-02  4.39542942e-02 -5.64521886e-02 -2.16415543e-02\n  3.57668474e-02  4.76458780e-02  1.51700974e-02  6.88861776e-03\n -4.38931584e-03 -2.77348161e-02  2.31898949e-02  2.92454679e-02\n  4.25192602e-02 -6.13090545e-02  1.30357593e-02 -6.76115528e-02\n  5.65460660e-02 -2.43796944e-03  2.06541270e-03 -2.22265255e-03\n  4.03873436e-02  2.12278757e-02  4.01959047e-02  2.79082712e-02\n  2.87751183e-02  2.52195681e-03  2.49991603e-02 -5.94554469e-02\n -6.07346855e-02 -2.29679849e-02 -1.72736999e-02 -4.72950265e-02\n  2.05951259e-02  6.80424571e-02  1.71710588e-02  4.48545907e-05\n -8.43480055e-04  4.52820817e-03 -6.03256114e-02  5.60173988e-02\n  2.32142024e-02 -3.71563882e-02  2.55229119e-02 -4.00391631e-02\n -1.87471714e-02  4.06450331e-02 -7.32892612e-03  4.66047786e-02\n -1.24862883e-02  1.15983905e-02 -3.33675668e-02 -2.94587086e-03\n  4.01019901e-02  4.11918014e-02  5.29771037e-02 -2.00235900e-02\n -4.86070290e-02  4.62947674e-02  6.62407698e-03  2.89812796e-02\n -2.66832206e-02 -9.65709705e-03 -3.51109682e-03  8.66782814e-02\n  6.02413192e-02  9.62526649e-02  4.75106984e-02 -1.18595576e-02\n -1.57926343e-02 -1.54728666e-02  3.42743658e-03 -6.66252598e-02\n  6.81142211e-02 -4.68235947e-02 -5.03819901e-03  6.39439523e-02\n  1.06505342e-02  9.23107751e-03  1.31475891e-03  1.99241061e-02\n  2.82483175e-02 -2.54754163e-02 -2.55319048e-02 -2.08281167e-02\n  9.58813913e-03 -6.66586608e-02 -1.00614205e-02  1.95047669e-02\n  3.83119984e-03 -3.05807795e-02  9.45556851e-04  1.33878309e-02\n -5.99778146e-02  2.79103797e-02 -3.57263274e-02 -1.70228165e-02\n -5.06691746e-02  1.36535382e-02 -6.36385754e-02 -5.04993536e-02\n  9.37170070e-03  3.47911939e-02 -4.55974042e-03 -6.75633773e-02\n  1.17571587e-02  4.13054042e-02  8.89119804e-02  4.63517709e-03\n -4.78593595e-02 -1.82040278e-02  1.17918411e-02  3.98738906e-02\n  1.81329660e-02 -4.64810617e-03 -5.03951497e-02  3.76494080e-02\n -1.13581963e-01  6.11768700e-02 -8.61508120e-03 -5.18190712e-02\n -6.19374774e-03 -1.41693791e-03  4.84734550e-02 -5.17907590e-02\n  3.43485810e-02  3.73480879e-02 -5.39064258e-02  2.57919766e-02\n -2.83769984e-02 -2.20229104e-02  4.34622020e-02  4.84791100e-02\n  6.91058021e-03  2.25158930e-02 -7.67905489e-02 -8.41168221e-03\n -2.02172194e-02 -2.95150429e-02  4.53847051e-02 -9.37437713e-02\n  4.50155325e-02 -1.54248942e-02  7.92216659e-02 -2.19385866e-02\n -2.80061066e-02 -1.77629646e-02 -1.70023777e-02 -8.71940237e-03\n -3.83105129e-02  6.82729408e-02  2.49973722e-02  3.90312336e-02\n  1.67559087e-03 -5.00719622e-02 -9.57676768e-03  1.60774775e-02\n -4.31870623e-03  2.07626894e-02 -6.14660308e-02 -2.74341963e-02\n  4.93530780e-02  4.65998240e-02  2.53205318e-02 -1.63336769e-02\n -1.40904379e-03 -5.16876020e-03  2.03890726e-03  1.82896312e-02\n  7.23269116e-03  2.46141907e-02 -3.23444828e-02  5.98310865e-02\n  5.68947792e-02 -2.15528533e-02  1.73485074e-02 -1.21735819e-02\n  4.12465557e-02 -5.20443879e-02  3.05575156e-03 -3.28748301e-02\n  6.61941990e-03  3.45594250e-03  3.46578732e-02 -1.91631280e-02\n  4.76212101e-03 -9.32064876e-02  2.49126591e-02 -2.12618560e-02\n  1.51607050e-02 -2.90319677e-02 -2.55089737e-02 -3.33397314e-02\n  1.21308332e-02  2.66206153e-02  3.54096619e-03  2.75824498e-02\n  4.30801744e-03  1.47496155e-02  5.95467165e-02 -1.74950343e-02\n -4.26558517e-02  5.66404350e-02 -4.69948351e-03 -2.28519868e-02\n  1.88805107e-02 -7.15927854e-02  7.96324108e-03  3.40297353e-03\n  4.38329689e-02 -1.41064161e-02 -4.56221178e-02 -2.27018688e-02\n  2.12335903e-02 -4.89578098e-02 -6.95234304e-03  5.28422594e-02\n -7.74935335e-02  8.37568287e-03  5.58886956e-03  2.92497817e-02\n  3.44784535e-03 -2.60542650e-02  3.63403410e-02 -3.38864326e-02\n  2.84887291e-02  3.31832864e-03 -6.52751774e-02 -2.53223442e-02\n -7.29947910e-02 -1.02439754e-01 -4.98275757e-02 -1.05319787e-02\n -4.01542634e-02  4.65886621e-03  2.14127656e-02  5.00832051e-02\n  5.41851148e-02 -7.54278675e-02  3.44400220e-02 -2.47585699e-02\n -2.84006167e-02 -7.07830042e-02  1.88904796e-02 -1.50107266e-02\n  1.54463425e-02  4.83920909e-02  1.09194227e-01  4.77448255e-02\n -2.08017062e-02 -3.51049341e-02  6.56631440e-02 -1.91519167e-02\n -6.75877184e-03 -8.96045715e-02  6.16483577e-03  3.52907330e-02]",
         " rolling in the deep tears are gonna fall rolling in the deep"
        ],
        [
         "24",
         "24",
         "Someone Else's Skin",
         "there's no phone booth there's no cape. there's no steve mcqueen to help me make my great escape. how can i fly like a hero in the sky. be a shooting star out in the stratosphere. . where's the shadow he might know. where's that searchlight in the sky to point the way to go. through some new cloud to disappear into the crowd. though the future's dark there's one thing crystal clear. that there's no home here. . . son listen to me. we just need a nameyour mother or your father. . . so many voices telling me to choose. . . it can get very expensive people fighting over their children. . . it's like a game where either teami lose. . . nobody's fighting. frankie look at me. nobody's fighting. . . this kind of noise just makes me want to shout. . . frankie just give 'em a name and this all'll be over. it's gonna be okay. . . i'd like to buy a oneway ticket out. . . my brave little soldier do what you have to do. . . rules of the road say don't look back. eyes straight ahead don't jump the track. try a new game. . . i'm sorry frank. . . and pray that i can win. . . i've got no room to move here. . . 'cause i just don't feel at home in mine. so i'll slip down into someone else's skin. . . whoohoo. whoohoo. . . i see the maps from every book i've read. the worlds that i have lived inside my head. i thought a love like theirs could never die. if it can fade away then so can i. . at first you see me then you don't ooh. don't look for me you know i won't even be there. so let the games begin. 'cause i just don't feel at home in mine aah. so i'll slip down into someone else's skin. . . whoohoo. . . into someone else's skin yeah. . . whoohoo. . . i'm gonna run down the street run out of town. i'm gonna run from the whole team and never touch down. run from the books cause it's all been a fake. i'm gonna run from the choices that i don't wanna make. school's not out but i can't wait aah. it's the perfect time to graduate today. . . i've gotta run away now. . . whoohoo. . . i've got to run away. oh yeah yeah. . . whoohoo. . . i know they'll see the truth when i move on. they'll need each other much more once i'm gone. and then i'm flush and he's back on his feet. i'll pick him up and ride down easy street. . no time to cry for all the years ooh. a rusty gas tank full of tears gets you nowhere. not the places i want in. . and i just don't feel at home in mine aah. so i'll slip down into someone else's skin aah. into someone else's skin. into someone else's skin. into someone else's skin. into someone else's skin yeah. into someone else's skin. into someone else's skin. into someone else's skin",
         "0.058",
         "0.834",
         "0.108",
         "0.9708",
         "[-1.62378028e-02  5.39430194e-02 -2.75720228e-02 -2.03514788e-02\n  6.29992783e-02  4.70213927e-02  2.35774927e-02 -8.72438028e-03\n  4.96878512e-02  2.57298928e-02 -1.66365691e-02  9.14203934e-03\n  1.77593399e-02  6.58590719e-03 -9.31565743e-03  5.03723435e-02\n -3.82413529e-02  7.88953807e-03 -6.42114207e-02 -3.01512145e-02\n -4.35838588e-02  1.11904917e-02 -2.59037726e-02  2.60493550e-02\n -2.70908931e-03 -6.30105808e-02 -1.13791283e-02 -2.91486271e-02\n  1.33894142e-02  1.84903736e-03  7.71346167e-02 -1.13518752e-01\n -6.13268949e-02 -2.36356966e-02 -2.16649547e-02  1.04592368e-02\n  3.44909020e-02 -6.12752186e-03 -3.39888111e-02 -4.03292151e-03\n -8.35737959e-03 -1.81479554e-03  7.38931075e-03  4.73538563e-02\n  2.30421349e-02  5.81385717e-02 -2.60481834e-02 -1.08946683e-02\n -1.51970088e-02 -9.56754107e-03  2.33281218e-03  4.06004637e-02\n  2.78233085e-03  2.56077107e-03  7.52900690e-02  1.32158864e-02\n -3.15642692e-02 -1.06646419e-02 -4.78760116e-02  5.98815791e-02\n  5.67430072e-02  3.69252749e-02  1.53468456e-04  1.33912563e-02\n -9.45887621e-03  1.04555590e-02  3.92413549e-02  8.41115229e-03\n -4.30646315e-02  3.53969075e-02 -6.85403645e-02  2.40796227e-02\n  3.27610523e-02 -1.76227856e-02  1.69205777e-02  1.11022562e-01\n -3.00605595e-02  4.93065082e-02 -5.39312419e-03 -2.58150566e-02\n -1.77161153e-02 -5.88596873e-02  2.48390250e-02  5.71933715e-03\n  3.61088589e-02 -4.85699205e-03  1.08549651e-02  1.25921229e-02\n -1.70884263e-02 -1.27601027e-02  2.48703361e-02 -2.05327738e-02\n -1.61428861e-02  1.57995534e-03 -1.18370354e-02  2.09607724e-02\n  1.29673071e-02  1.78427552e-03  1.29468990e-02  4.01626825e-02\n -4.53199307e-03  2.68771872e-02 -5.51454462e-02  5.94367459e-02\n -7.77460262e-03  3.25025246e-02  9.64903608e-02 -1.28825931e-02\n -4.82096709e-02  1.33742439e-02  1.71506125e-02 -2.06084196e-02\n  1.10801095e-02  1.94119718e-02 -6.13436848e-02  1.25636375e-02\n  1.82960257e-02 -9.46412422e-03  6.92420229e-02 -1.53676642e-03\n  2.06755032e-03 -3.86688598e-02 -3.71109918e-02 -6.74009928e-03\n -1.42562622e-02 -4.84868512e-02 -8.32532942e-02 -5.96978292e-02\n -4.81072143e-02 -4.12418433e-02  2.75838338e-02 -1.44318072e-02\n  4.08294126e-02 -5.19448146e-02 -1.54736629e-02 -3.12935226e-02\n  1.80981811e-02  1.03842290e-02  7.53523782e-03 -4.01517889e-03\n -6.74034818e-05  1.72117613e-02  6.25612885e-02 -5.99325523e-02\n -9.68401041e-03  1.68035142e-02  5.10962568e-02  3.32415500e-03\n  8.67674276e-02 -2.71220319e-02 -4.40736376e-02  2.79814117e-02\n  5.73040992e-02 -8.44835639e-02 -1.51247336e-02  5.76356575e-02\n -2.74421573e-02  7.79011548e-02  4.79599983e-02  1.78129673e-02\n  5.91573771e-03 -1.68235581e-02 -6.29581744e-03 -7.09319860e-03\n -1.57144181e-02  8.45531560e-03  2.35584821e-03  6.33974224e-02\n -6.33479133e-02  1.09893503e-03  5.43900160e-03 -1.29923197e-02\n  8.25475678e-02  3.07348818e-02  9.00122002e-02 -2.07753703e-02\n  4.72571775e-02 -1.66821592e-02 -3.84076424e-02 -2.64174603e-02\n -1.88769214e-02 -5.44830300e-02  2.46199854e-02  5.38749583e-02\n  3.12000364e-02  1.25937471e-02  4.15922552e-02 -2.75484417e-02\n  1.46703348e-02  3.78815271e-02 -4.43640016e-02  5.69623224e-02\n  1.15218824e-02  2.94454750e-02 -3.14743035e-02  1.64409038e-02\n -2.73094680e-02  6.45445427e-03  4.18317467e-02  2.61282306e-02\n  1.86650772e-02 -1.07899919e-01  4.62757200e-02 -2.03038845e-02\n  2.59594363e-03 -3.90901510e-03  3.99839990e-02 -3.74583937e-02\n -3.47266868e-02  4.31555398e-02  2.75643393e-02  1.30886240e-02\n  4.94244788e-03  3.78291053e-03 -1.76829789e-02  3.80988792e-02\n -1.17743555e-02  3.42491344e-02 -1.42598152e-02 -1.51720047e-02\n  2.70040110e-02 -5.27141653e-02 -2.80319452e-02 -1.12289162e-02\n -4.05000895e-02 -4.97264042e-02  6.49109110e-03 -5.34550613e-03\n  2.65135262e-02 -8.21616426e-02  5.47139496e-02 -3.28269526e-02\n -2.11457117e-03 -1.15598841e-02 -5.56396060e-02 -3.90094928e-02\n  5.03048263e-02 -1.92202572e-02 -3.52561362e-02  4.33482043e-02\n -2.20302530e-02 -5.81276370e-03 -3.88143249e-02 -4.29229625e-03\n  2.85476632e-02  2.84007005e-02  1.89009104e-02 -1.45357521e-03\n  6.24998435e-02  3.10961045e-02 -7.74258077e-02 -3.92310508e-02\n -4.17052731e-02 -2.94827893e-02 -1.89014561e-02 -2.40087714e-02\n  2.40988974e-02  4.49643545e-02  5.54094128e-02  3.15872766e-02\n  1.10699506e-02  3.96264307e-02 -1.49092535e-02  1.10614570e-02\n  7.90459365e-02 -3.22800167e-02  3.34687792e-02  1.28560904e-02\n  1.57013983e-02 -4.61083055e-02  4.32221405e-02  5.54776751e-03\n  5.78946248e-02  5.17068468e-02 -3.08435895e-02 -1.98744591e-02\n  2.87141297e-02 -1.08082769e-02  1.94401313e-02  2.43719667e-02\n  2.52801571e-02 -2.23001353e-02 -1.15781873e-02 -4.50098626e-02\n -5.23502268e-02 -2.38622576e-02 -3.71714495e-02  5.97264618e-02\n  3.91978072e-03  1.33996028e-02 -2.71814987e-02 -3.68982330e-02\n -3.14244553e-02  3.41144800e-02 -5.81587814e-02 -4.45399135e-02\n  7.24482257e-03 -3.11350096e-02 -3.01075038e-02  2.90382840e-02\n -9.54144448e-03 -2.91485749e-02 -6.49448633e-02  4.40083966e-02\n -2.73994263e-02  9.85059813e-02 -7.11758733e-02 -1.91060361e-02\n -6.63930401e-02  8.20006058e-02  3.23581845e-02 -5.01710139e-02\n  3.57493386e-02 -3.29709388e-02  5.54183982e-02  1.67921148e-02\n -1.52448993e-02  2.34544575e-02 -4.86710621e-03 -5.40256128e-02\n  1.88489128e-02  7.59128034e-02  4.76579135e-03 -5.18646799e-02\n -1.07554980e-01  3.75056043e-02 -1.95218567e-02 -2.03035641e-02\n  2.20506918e-02 -4.71764430e-03  5.66867134e-03  1.43110882e-02\n -3.81596275e-02 -1.52292391e-02  6.77995756e-02  4.93182708e-03\n  5.82364434e-03  2.65912227e-02 -4.50038016e-02 -1.75639428e-02\n -1.13079492e-02 -3.53963636e-02 -6.88490178e-03  3.28770764e-02\n  1.57248117e-02  1.03927962e-02 -1.42288208e-03 -2.78134253e-02\n -2.91613750e-02 -2.05267174e-03  1.97236892e-02 -7.80358585e-03\n -5.52378707e-02 -1.84762217e-02 -4.14332263e-02 -1.18833212e-02\n -1.15650799e-02  8.21430515e-03  4.03905250e-02 -2.82795615e-02\n  6.62275329e-02 -3.62152644e-02  5.28595969e-02 -5.18413372e-02\n -4.71189730e-02  1.78000592e-02  3.89835685e-02 -9.92982276e-03\n  3.32965590e-02 -8.25970992e-03 -4.75609004e-02  2.43635494e-02\n -6.88910037e-02  7.79604912e-03  4.85222563e-02 -3.84607762e-02\n  2.23877132e-02 -4.64965627e-02  3.96273397e-02  1.69648025e-02\n  4.97276932e-02  5.74244710e-04 -1.84633490e-02  6.26791315e-03\n  3.19606215e-02  2.00586533e-03  5.38049918e-03  1.04262270e-02\n -1.74662080e-02  3.70308645e-02 -5.81212416e-02  4.08389792e-03\n -4.93043475e-02  1.64365734e-03 -4.76585664e-02 -7.32656270e-02\n  7.83503242e-03  2.02872753e-02  1.43776240e-03 -7.33234547e-03\n  3.41972224e-02 -2.66174991e-02 -3.81407999e-02  1.00380285e-02\n  3.87569913e-03  3.40890139e-02  7.66753927e-02  3.32200453e-02\n -1.19629754e-02 -1.36975516e-02 -1.09625878e-02 -3.86537611e-02\n -5.95670454e-02 -2.89350823e-02 -2.48276768e-03  1.30904531e-02\n -4.47243415e-02  2.75077242e-02  9.95094236e-03 -4.73337248e-02\n  1.00975400e-02 -2.14560777e-02  1.07948631e-02  3.35525759e-02\n  2.65107565e-02  2.41963100e-02  3.48582640e-02  3.77062969e-02\n -2.59899236e-02 -4.69896570e-03 -7.92279318e-02  3.06031816e-02\n  8.79921690e-02 -1.55247664e-02  1.18518136e-02  4.10470366e-02\n  3.74891870e-02 -6.35999739e-02  3.95723246e-02  1.97418947e-02\n -2.38852901e-03 -1.15402564e-01 -3.65051366e-02  6.68678358e-02\n  6.00140393e-02 -5.33865653e-02 -2.44635325e-02  1.29302051e-02\n  4.58251499e-02 -2.35497188e-02  3.57259810e-02  2.59548016e-02\n  4.96286452e-02  4.41318750e-03  1.86965317e-02 -6.19452633e-02\n  1.91375259e-02  2.11952645e-02 -3.32992757e-03  3.88334095e-02\n -2.07059830e-02  2.38291267e-02  2.00769324e-02  1.49396807e-02\n  6.46260707e-03  3.59979607e-02  1.62397455e-02 -9.89004225e-03\n -6.60733804e-02 -3.33731733e-02 -1.19673526e-02 -5.25702611e-02\n -5.18095791e-02  3.60609852e-02  7.32468367e-02  2.66243760e-02\n -6.01310804e-02 -5.31050973e-02 -3.31663825e-02 -5.97479707e-03\n  9.03714169e-03  3.61735895e-02 -7.42157251e-02 -2.39276923e-02\n  6.34883419e-02 -3.79036851e-02  3.72952372e-02  5.04432470e-02\n  3.37391496e-02  5.13750874e-03  3.55659751e-03 -7.19383964e-03\n  8.97035934e-03 -5.36045507e-02 -1.24962619e-02  6.00910420e-03\n -8.08902308e-02  5.73134534e-02  3.73711213e-02 -5.81652112e-02\n  4.86267246e-02 -4.94582728e-02  1.26546681e-01  1.87603030e-02\n  5.68419136e-02 -5.26146740e-02  3.29939499e-02 -8.02682340e-03\n -5.66680962e-03 -6.19429338e-04 -5.28158918e-02  4.66909409e-02]",
         " into someone else's skin"
        ],
        [
         "25",
         "25",
         "Goodbye",
         "it's my happy ending. now it's time to say goodnight. we can stop pretending. tell the spotlight man turn off my light. 'cause the show is done now. and it's time to leave the stage. yeah the good guy won now. and the band has no more songs to play. it's a happy ending so i'll say. . goodbye. goodbye to all the make believe. goodbye. there's no more magic up my sleeve. there's nothing left to act up here. i'll take my bow and disappear. no questions left for answering. there's only one word left to sing. goodbye. . it's a happy ending. to the greatest show on earth. now the curtain's descending. and i hope you got your money's worth. gonna stop the show now. 'cause i wanna leave on top. so get up and go now. 'cause there's nothing left inside my head. everything that's left to say's been said. . but goodbye. goodbye to all the song and dance. goodbye. offstage i stand a better chance. the show is through the parts been played. no standing in the wings afraid. no violins or phony tears. the word thats music to my ears is goodbye. goodbye. goodbye. goodbye. . i'm not afraid of stopping. this end could be my start. i wanna live a life. and not just play a part. i'll walk into the sunset. i'll sail across the sea. the final word. the last you'll hear of me. of me of me. . is goodbye. goodbye to every night alone. goodbye. goodbye to lives i don't own. i'm tired of living on the stage. a life that's only on the page. empty lies are in the past. i've tried before but here's the last goodbye. goodbye. goodbye. goodbye. goodbye",
         "0.089",
         "0.781",
         "0.13",
         "0.9202",
         "[-1.55651905e-02 -1.74171254e-02 -8.05094931e-03 -5.57976635e-03\n  8.70807320e-02 -2.56020557e-02  1.00179045e-02  1.34975398e-02\n -1.68816764e-02  2.64006369e-02  1.87640674e-02  6.77226530e-03\n  2.95856986e-02 -6.71650693e-02  1.03797494e-02  5.48706912e-02\n  5.93032464e-02 -4.74945754e-02 -1.82071067e-02 -1.19991861e-02\n -6.46215230e-02 -5.68460254e-03  1.74819976e-02  7.04506934e-02\n -2.69697513e-02  3.35356034e-03  1.41211515e-02  2.60161888e-02\n  2.01580189e-02  5.50418207e-03  6.37867749e-02 -3.81491631e-02\n  1.25558267e-03 -2.54949387e-02  1.56173557e-02  2.81209475e-03\n  6.55913772e-03 -9.36528377e-04  1.58471172e-04  6.51112646e-02\n -4.60589677e-02  3.85600189e-03  3.91220637e-02 -9.24467109e-03\n -6.11342536e-03 -4.15617973e-02 -4.44162078e-02  1.30323656e-02\n  1.02123087e-02  4.17834111e-02 -7.48150051e-02 -7.15643764e-02\n  3.21448185e-02 -9.67901200e-03  9.38479453e-02 -3.43068130e-02\n -4.65111993e-02 -1.35359103e-02  3.18018682e-02  4.11326289e-02\n  2.33953409e-02  1.97635591e-02 -3.20446379e-02 -7.17202649e-02\n -4.65890765e-02  3.10956351e-02  8.12955201e-03  3.86220515e-02\n -7.46111851e-03  6.56779408e-02  1.56238407e-03  8.95861238e-02\n -2.32650340e-02  3.53466417e-03 -6.67197108e-02  5.28819486e-02\n -5.58379367e-02  3.92660825e-03 -5.30420654e-02 -7.37054795e-02\n -1.17282756e-01 -1.08704843e-01  1.24496361e-02  1.02050100e-02\n  3.33151855e-02  9.83886495e-02 -1.89714022e-02  9.86037310e-03\n -1.81622542e-02  9.15752947e-02 -2.15130337e-02 -8.23457912e-03\n  1.35313720e-03  1.40350321e-02  1.96488220e-02 -5.36461314e-03\n -3.78509313e-02  7.33651966e-02  4.24725600e-02 -9.10114720e-02\n -4.37168479e-02 -3.88479307e-02  5.77550642e-02  2.51907222e-02\n -3.95152085e-02 -4.78587002e-02  1.76267773e-02 -6.53743893e-02\n  5.85211702e-02  1.79230981e-02  1.72575121e-04  4.24141670e-03\n  5.57925105e-02 -8.29801057e-03 -6.61654174e-02  6.15772558e-03\n -1.69684403e-02  8.66851583e-03  5.30471513e-03 -1.19862175e-02\n -4.87339161e-02 -2.54556574e-02 -8.80097784e-03  2.94967461e-02\n -1.98198147e-02 -2.02281829e-02  3.43963988e-02 -1.29208546e-02\n -3.48419300e-03  1.55068107e-03  1.04000978e-02 -4.86641377e-02\n  2.27357633e-02 -2.30915397e-02 -3.21674906e-02 -2.96233129e-02\n -3.65497172e-02 -1.38640339e-02 -3.34481597e-02 -1.64972972e-02\n -8.24359134e-02 -4.73418385e-02  3.43452357e-02  7.51928836e-02\n -8.54108855e-02  3.19452584e-02 -3.03908009e-02  3.65850795e-03\n  2.51305327e-02 -5.84559664e-02  3.02007049e-03  5.21476790e-02\n  2.75760125e-02 -4.51012291e-02  5.30689768e-02 -4.50853910e-03\n  8.20757076e-03  2.15686690e-02 -2.19605770e-03  8.13051164e-02\n -3.10315248e-02  7.92974234e-02 -1.72868639e-03  1.06696757e-02\n  3.07540521e-02  2.64686272e-02 -5.94958439e-02  4.73694541e-02\n -6.54752105e-02  3.15432101e-02 -5.41600287e-02  1.56782568e-02\n  4.60450202e-02  1.23616755e-02 -2.03902344e-03  1.98992435e-02\n  4.86514978e-02 -3.37691978e-02 -5.39633371e-02 -1.38734048e-02\n -1.36507386e-02  3.46076861e-02 -1.21367760e-02 -3.32612731e-02\n  2.19073631e-02  3.38510498e-02 -8.04509036e-03 -3.10325231e-02\n  7.81826954e-03 -6.89631654e-03 -3.75343673e-02  7.09991320e-04\n  1.45258335e-02 -8.71031173e-03 -3.49156260e-02 -5.38873635e-02\n  1.88825298e-02 -5.99890128e-02  2.96971519e-02 -9.37941205e-03\n  2.03250926e-02 -1.06800057e-01 -5.98381869e-02 -4.98424172e-02\n -3.92378569e-02 -7.68198632e-03  8.02973807e-02  1.22951958e-02\n  5.13591655e-02  3.57456207e-02 -3.82520747e-03  3.77626345e-02\n  1.68866161e-02  2.62703896e-02 -8.26117620e-02  1.13055184e-01\n -5.51222712e-02  1.82145648e-02 -2.59667635e-02  3.23391780e-02\n  6.63555041e-02 -3.33293788e-02 -6.42180666e-02 -4.37439643e-02\n -3.28755639e-02  1.61145963e-02 -5.04654832e-03  4.34687249e-02\n -3.98043208e-02 -2.11730674e-02  6.70961887e-02 -7.32410559e-03\n  2.22396180e-02 -1.75617576e-01  3.10709514e-02 -5.12200221e-03\n  3.05216517e-02 -1.09682251e-02 -3.94878611e-02  6.00611838e-03\n -1.35436011e-02 -6.17956556e-02 -4.95938174e-02 -4.76471260e-02\n  4.06847224e-02 -1.49434553e-02  7.61765579e-04 -6.80380762e-02\n  1.13573845e-03  7.97552392e-02 -2.98955180e-02  5.21825962e-02\n  1.16611607e-02  5.95271401e-02 -2.67425412e-03 -7.24116266e-02\n  1.02838771e-02  1.85327698e-02  5.08708619e-02 -1.13645708e-02\n -3.21597233e-02  2.04225481e-02 -1.91798005e-02 -3.81738953e-02\n  4.60160486e-02 -3.51051018e-02 -1.14454422e-02 -8.49541090e-03\n -1.57261919e-02 -2.95707639e-02  2.31862497e-02 -7.76272640e-02\n -4.64910753e-02  1.89677672e-03 -2.54063923e-02  1.78380273e-02\n -3.72488424e-02  1.37760183e-02  8.42239410e-02 -9.28681903e-03\n -1.97210573e-02 -1.99457109e-02  3.75573337e-02  1.30713684e-02\n  4.16695047e-03 -1.29565699e-02  7.53380265e-03  4.77641337e-02\n -2.99403574e-02  8.69914331e-03  3.45965475e-03  1.88730005e-02\n  7.73407072e-02  3.58132832e-02 -6.99364692e-02  3.81385088e-02\n  2.24956349e-02  1.04728714e-02 -1.07967943e-01 -3.39614116e-02\n  3.86357531e-02 -6.26377314e-02  2.45843679e-02  4.91507463e-02\n -8.57443828e-03 -1.47691015e-02 -3.51594687e-02  6.60216585e-02\n -2.33829264e-02  2.13966016e-02  6.00843392e-02 -1.84037890e-02\n  4.14160043e-02  3.10609806e-02 -4.51114029e-03  4.14034026e-03\n -7.99866486e-03 -1.12671293e-02 -3.07048876e-02 -3.54212560e-02\n  3.53645869e-02  4.66512814e-02  7.76024535e-06 -6.91330060e-02\n -3.02638151e-02 -4.54355925e-02  3.45499031e-02 -5.28308302e-02\n -8.91717337e-03  2.49309354e-02  1.98347624e-02 -8.97293258e-03\n -5.96646033e-03 -2.88162660e-03  5.90698160e-02  3.92234325e-02\n -2.88216560e-03  1.21048733e-03 -2.38735508e-03  1.42524242e-02\n  3.93626913e-02  2.21223943e-02  2.01560892e-02  5.41186295e-02\n  1.22101746e-01  2.27987338e-02 -2.14417726e-02  5.27884252e-02\n  5.57553656e-02 -1.62679423e-03 -2.57540960e-02  3.17833424e-02\n -5.95132485e-02 -2.77561732e-02 -7.82792643e-02  1.26158679e-02\n  5.07285260e-02 -2.31549721e-02 -6.17994294e-02 -2.93219592e-02\n  8.85361806e-03 -9.08682123e-03 -3.77927761e-04 -2.91027613e-02\n  4.16636607e-03  8.78662243e-02  3.67529690e-02 -1.36389276e-02\n -4.24886681e-02 -2.65464764e-02 -4.50527072e-02  4.54360284e-02\n -1.86288282e-02  5.56750521e-02 -6.13112822e-02 -5.75945228e-02\n -1.46122826e-02 -8.42282698e-02  7.61461109e-02  7.78663950e-03\n  1.78703014e-02  7.54739568e-02  4.18446399e-03 -8.88941810e-02\n  1.04905078e-02  8.91638640e-03  1.67768802e-02  9.87412035e-03\n  1.03331180e-02 -1.36759803e-02 -3.28950062e-02  1.61120705e-02\n -2.83869002e-02 -2.43522786e-02 -1.82312261e-02  2.55818237e-02\n  1.67991072e-02 -1.03698716e-01  2.14294586e-02 -8.49717110e-02\n  4.02236991e-02  9.83571168e-03  6.57873452e-02  3.21462490e-02\n -1.56061621e-02 -3.96709889e-02  5.59640117e-02 -6.50822558e-03\n  4.96690534e-02 -3.76322977e-02  3.10450681e-02 -5.06418496e-02\n  4.89117391e-02  2.13184766e-02  2.30005644e-02 -1.49093308e-02\n -6.82209525e-03 -3.29384767e-02  1.86410993e-02 -4.42752205e-02\n  3.15214619e-02  6.67160451e-02  2.61876220e-03 -1.63035691e-02\n  3.80313098e-02  2.12525446e-02  1.11931376e-02  8.78759548e-02\n  3.95069271e-02 -6.28178418e-02 -2.90154777e-02 -3.61027345e-02\n  5.46165295e-02 -2.80641150e-02 -2.25091465e-02  2.05100384e-02\n  4.47070785e-02 -5.49606010e-02 -4.36906517e-02 -3.54113206e-02\n  2.47201696e-02 -1.03789352e-01 -2.30883807e-02  4.95006442e-02\n -3.44843678e-02 -4.84288670e-02 -3.93903814e-02  9.24929231e-02\n -5.47191426e-02 -3.66936997e-02 -2.67105997e-02  5.46520390e-02\n  2.23398879e-02 -1.96586065e-02 -1.80815998e-02 -1.09053351e-01\n -7.79110119e-02  5.04323281e-02 -3.66659425e-02  5.67998067e-02\n  3.77767645e-02 -1.78479198e-02  7.97382593e-02  1.16443513e-02\n -2.07358357e-02  6.54824749e-02 -2.33538114e-02 -4.30281200e-02\n -9.27584171e-02  5.29688643e-03  2.16059387e-02 -2.49800216e-02\n -1.70220644e-03 -3.45957913e-02  2.43737623e-02  2.27459650e-02\n -1.41134104e-02  2.55658161e-02  3.93036082e-02  1.45330597e-02\n  8.61752778e-06 -2.58300006e-02 -9.14985985e-02 -5.27738035e-02\n -2.73620859e-02 -2.36276798e-02  4.52419259e-02  1.96785405e-02\n  6.40434101e-02 -1.86431091e-02 -3.58949862e-02 -1.62726864e-02\n -2.05660481e-02  1.14987735e-02 -1.64302741e-03  1.20085832e-02\n -7.07273260e-02  2.36346219e-02  3.75133269e-02 -2.96248663e-02\n -2.65981839e-03  2.80192140e-02  8.84178504e-02  4.84567359e-02\n  4.43684077e-03 -4.39065285e-02 -1.01139937e-02 -4.37128171e-03\n  1.68495644e-02 -2.27754191e-02 -2.37577390e-02  4.35818769e-02]",
         " 'cause there's nothing left inside my head"
        ],
        [
         "26",
         "26",
         "Shut Up And Raise Your Glass",
         "oh don't you dare look back. just keep your eyes on me. she said you're holding back. she said. . . shut up and dance with me. . . this woman is my destiny. she said. . . ooh ooh. shut up and dance with me. . . so raise your glass if you are wrong. in all the right ways. all my underdogs. . . we will never be never be. anything but loud. and nitty gritty. dirty little freaks. won't you come on and come on and. . . raise your glass. just come on and come on. raise your glass. . . we were victims of the night. the chemical physical. kryptonite. helpless to the bass and the fading light. oh we were bound to get together. bound to get together. . . she took my arm. i don't know how it happened. we took the floor and she said. . . . oh don't you dare look back oh don't you dare look back. just keep your eyes on me just keep your eyes on me. she said you're holding back. she said shut up and dance with me shut up and dance with me. . this woman is my destiny. she said. ooh ooh ooh ooh. shut up and dance with me shut up and dance with me. ooh ooh ooh ooh. shut up and dance with me shut up and dance with me. . slam slam. oh hot damn. what part of party don't you understand. we should just freak out. can't stop. coming in hot. i should be locked up right on the spot. why so serious. . . oh don't you dare look back slam slam oh hot damn. just keep your eyes on me what part of party don't you understand. she said you're holding back we should just freak out. she said shut up and dance with me. . this woman is my destiny can't stop coming in hot i should be locked up. she said right on the spot. ooh ooh it's so on right now. shut up and dance with me. ooh ooh. shut up and dance with me. . . well done christian. we are mere moments from victory. . . this is our night. we are young. . . we are brave. . . we are. bohemians. . . oh don't you dare look back oh. just keep your eyes on me i wanna dance with somebody. i said you're holding back i wanna feel the heat with somebody. she said shut up and dance with me. . this woman is my destiny yeah i wanna dance with somebody. she said. ooh ooh. shut up and dance with me",
         "0.098",
         "0.855",
         "0.048",
         "-0.9709",
         "[ 1.03574507e-02 -1.46040355e-03  4.48148139e-03  7.80029455e-03\n  3.38604413e-02  2.13612579e-02  1.58075187e-02 -5.72834760e-02\n -1.18494555e-02  4.32989001e-02 -5.57538634e-03  8.16681236e-02\n -4.41785641e-02  3.50114033e-02 -3.45323943e-02  7.92424157e-02\n -4.57792124e-03 -1.05943739e-01 -2.61462256e-02  4.85219359e-02\n -7.10405707e-02  1.66373849e-02  4.34719287e-02  5.64783402e-02\n  2.64189169e-02 -4.69034910e-03 -1.30909868e-02  6.18864708e-02\n -5.87120801e-02  1.38823632e-02  9.78001058e-02 -7.37616196e-02\n  2.03396156e-02 -2.78824661e-02 -7.03399479e-02  2.62742527e-02\n  9.69938643e-04 -6.31593168e-02 -2.39993893e-02 -2.18365085e-03\n -1.19446479e-02 -8.05837065e-02 -3.03655956e-03 -1.53784128e-02\n  2.20284425e-02  1.37141906e-03 -2.26162467e-02 -3.57574876e-03\n  2.92338729e-02  1.76131502e-02 -1.36892591e-02  5.90059794e-02\n  1.46700405e-02  4.83733602e-02  1.00382246e-01 -1.47088012e-02\n -5.73711395e-02 -1.20494759e-03  1.14150019e-02  1.33276256e-02\n -2.03607790e-02  7.45532513e-02  2.40107365e-02 -9.49109793e-02\n -2.22760215e-02  7.48559646e-03  7.79900178e-02  1.65454503e-02\n -1.79374043e-03  2.61300616e-02 -5.98250851e-02  2.31962055e-02\n  4.16363776e-03 -6.35824800e-02  5.88971365e-04 -2.83715595e-02\n -2.02208124e-02 -8.99641309e-03 -1.19249998e-02 -1.46582359e-02\n -8.15973338e-03 -6.67530969e-02  2.90391650e-02 -3.21535654e-02\n  4.66698147e-02  1.08020499e-01  1.37313567e-02 -4.79134284e-02\n  1.63899139e-02  3.52141671e-02  3.62416133e-02  1.92783531e-02\n  2.23788316e-04  1.25940479e-02 -2.80679204e-02  1.74519457e-02\n -2.50387788e-02  5.48901930e-02  6.45290986e-02  3.83964553e-02\n -8.83478951e-03  1.50563195e-02 -6.02611480e-03  9.64829698e-03\n  4.15063836e-03 -7.01258406e-02 -4.18986529e-02 -5.24545982e-02\n  2.88665257e-02  3.86835672e-02  2.68810857e-02 -2.41506752e-03\n  7.08883107e-02 -1.93235632e-02 -5.92432544e-02  6.27847621e-05\n -1.50304139e-02 -3.67348343e-02  4.35891896e-02  2.71015055e-02\n -6.47689998e-02 -1.44625818e-02  2.70082019e-02 -3.20697203e-02\n  1.09102875e-01 -1.08901523e-02 -7.25594983e-02 -5.01259342e-02\n -6.13501156e-03 -9.37825162e-03  4.97617945e-03 -1.05260601e-02\n  2.77475622e-02 -3.28650586e-02 -5.28698228e-03  4.66617122e-02\n -1.83292828e-03  3.41043361e-02 -1.11456225e-02  7.92568624e-02\n -3.26196626e-02 -1.35441925e-02  4.30024005e-02 -2.32953746e-02\n  1.75039694e-02  3.06853820e-02  1.49423108e-02  5.00152726e-03\n  3.75011861e-02 -2.70503946e-02  8.27696826e-03  1.15975916e-01\n -3.62448990e-02  1.58985592e-02  4.74364124e-02  5.52751534e-02\n  7.78161660e-02  2.53992043e-02 -8.50076787e-03 -1.34687889e-02\n  1.18691390e-02  8.46443977e-03  1.18979951e-02 -1.12794051e-02\n -4.26574145e-03 -2.43844348e-03 -3.05474526e-03  8.26536343e-02\n -4.72860262e-02  2.00849567e-02 -2.22176146e-02  4.56605852e-02\n  8.22733566e-02 -2.26803422e-02 -9.06128250e-03  4.60034572e-02\n  4.22695577e-02  2.97962166e-02  1.58405304e-02  3.31651308e-02\n -2.87755230e-03 -5.41891844e-04 -1.34946443e-02  5.73913753e-03\n -4.21561748e-02 -8.36826116e-02  8.26782212e-02 -1.81587078e-02\n -7.98953474e-02  6.04985058e-02 -1.09196799e-02 -1.14581911e-02\n -7.57697364e-03  8.32802989e-03  1.00892082e-01 -1.31708598e-02\n -2.53260415e-02 -9.56538469e-02  1.73308421e-02 -6.30122237e-03\n -2.94063776e-03 -1.48311108e-01  3.04786582e-02  1.43383630e-02\n  4.90118153e-02  4.49847896e-03  1.80352700e-03 -4.05592695e-02\n  2.38117408e-02 -2.19314769e-02 -7.09992927e-03  2.16814480e-03\n  1.08101675e-02  6.33043423e-02 -4.71468782e-03  8.69413391e-02\n -6.63537486e-03  1.95892043e-02  2.29439978e-02 -1.97981261e-02\n -1.96635518e-02  1.09009705e-02 -1.54736256e-02 -1.96560733e-02\n -5.24188019e-02 -3.92020531e-02  2.54145190e-02  5.34212030e-02\n  8.51964802e-02 -3.90984677e-02  3.68005596e-02 -4.79484200e-02\n  1.64555795e-02 -3.09507698e-02 -3.53225470e-02  7.26739839e-02\n -4.21030112e-02 -3.18060219e-02 -4.17786371e-03 -4.37585898e-02\n -1.15482174e-02  7.49585824e-03 -2.08765585e-02  8.68720282e-03\n  3.12013086e-02 -6.47712313e-03 -1.98117625e-02 -6.27762452e-02\n -2.57652625e-02  3.91313136e-02  2.90201642e-02  1.27505511e-03\n  1.52732804e-02  2.00174097e-02 -1.41145261e-02 -1.41585907e-02\n -3.02946176e-02  4.27831523e-02 -3.84872630e-02 -5.06563054e-04\n -5.15914634e-02  7.28950799e-02  4.16762531e-02  2.51468103e-02\n -1.66334100e-02  2.49981675e-02 -5.37784062e-02  1.37391733e-02\n -4.92840260e-02 -6.74967514e-03 -4.58140299e-03 -1.05491094e-02\n  3.51222456e-02 -7.93750957e-02 -4.06612493e-02 -8.21858738e-03\n  2.99379341e-02  1.36644309e-02  3.69188674e-02 -1.17546367e-02\n -7.19732642e-02  1.15890540e-02  2.56670900e-02  4.66832854e-02\n  7.86968395e-02  2.85729710e-02  2.13754419e-02 -5.13783805e-02\n  2.95818206e-02  5.86889265e-03  4.31925338e-03  1.31808845e-02\n  1.49786938e-04 -1.54470084e-02 -3.50886248e-02  4.78825457e-02\n  1.28810378e-02  1.42624304e-02  3.86030562e-02 -1.00510493e-01\n -4.06319462e-02 -1.93364359e-02 -1.79795474e-02  3.57223526e-02\n  6.71068905e-03 -1.68684479e-02 -6.73417524e-02  6.18851893e-02\n -1.14950100e-02  4.86192852e-03  5.25485612e-02  4.54515312e-03\n  1.78875346e-02  3.11831068e-02  4.87859882e-02 -2.51492411e-02\n  2.07947027e-02 -2.32612249e-02  1.57895181e-02  5.29337972e-02\n -3.20129353e-03  9.41044688e-02 -7.33905053e-03 -1.55254249e-02\n -9.01116878e-02 -1.70208737e-02 -2.00113282e-02  3.91563661e-02\n  1.20002562e-02  4.59425002e-02  1.02116039e-03 -3.48427556e-02\n -1.84498192e-03  9.76989940e-02  3.07005420e-02 -2.14065574e-02\n  1.57740060e-02  3.39575186e-02  5.70199220e-03 -1.97486058e-02\n  2.59516090e-02 -6.23859279e-03  7.09111914e-02  1.01177320e-02\n  4.60089184e-02 -1.34405848e-02 -2.56944168e-02 -6.26285095e-03\n -1.75116062e-02 -2.15355232e-02 -4.95403074e-02 -3.33788730e-02\n -8.32512137e-03 -2.99579185e-02 -5.58060370e-02  1.83489174e-04\n -8.82274704e-04  5.44636324e-02 -1.28044942e-02  2.66492041e-03\n  5.52324466e-02  1.08781429e-02  2.91126911e-02 -1.17907068e-02\n -4.91884574e-02  3.24131213e-02  2.25460157e-02  5.41616380e-02\n -1.67449974e-02  3.16876881e-02 -5.19338213e-02 -2.76042707e-02\n -5.17858937e-03 -2.42898986e-02  2.71731168e-02 -1.10891452e-02\n  2.01881696e-02  2.73592700e-03  9.99311358e-02  3.08727771e-02\n  1.18138164e-03  1.69124771e-02  2.76397560e-02 -7.34688640e-02\n  3.05526089e-02 -2.75384821e-02 -2.48597432e-02 -5.04216820e-04\n -2.95029283e-02  4.01302287e-03 -2.48851664e-02 -4.84758355e-02\n  1.55216390e-02 -4.68965359e-02 -6.31306618e-02  4.72020358e-02\n -1.15918061e-02 -2.66252290e-02  3.17907445e-02 -2.17317753e-02\n -2.91373208e-02 -2.73871440e-02 -1.80283876e-03 -4.61658929e-03\n -3.56253274e-02  5.83874919e-02  5.68449721e-02  3.60307321e-02\n  5.24595864e-02  8.18144977e-02 -1.75281018e-02 -1.93925090e-02\n -1.52622834e-02  6.82158163e-03 -3.65711190e-02 -5.11639342e-02\n -1.52581567e-02 -5.06579876e-02  3.97759862e-02 -1.00896135e-02\n  1.24042649e-02  4.82018944e-03  6.31885231e-02  2.73751374e-02\n -4.13867719e-02 -1.23241469e-02  5.34213986e-03  6.78951070e-02\n -4.53349538e-02 -2.38193423e-02 -4.21034684e-03 -1.91526879e-02\n  9.43180099e-02 -4.87526208e-02  1.40523845e-02  1.90743264e-02\n  3.10185309e-02 -6.63791075e-02 -3.22442874e-02  5.85950259e-03\n -1.73677795e-03 -1.16025098e-01 -9.10574012e-03  1.32216914e-02\n  6.03474602e-02 -7.97863007e-02 -5.19617181e-03 -1.02932304e-02\n  1.87140964e-02 -1.93873532e-02  1.50622828e-02  2.23428365e-02\n  2.78307032e-02  5.16809486e-02 -2.42736489e-02  7.89259840e-03\n -1.45892613e-04  3.74062024e-02  3.08299921e-02 -8.79591331e-03\n  3.23046707e-02 -1.75945610e-02  8.98917764e-02  1.46177663e-02\n -1.99260600e-02  4.67266925e-02  5.31049967e-02 -4.38903272e-02\n -3.47321257e-02 -6.75724586e-05 -9.88182984e-03 -3.31245549e-02\n -3.59038152e-02 -2.81696022e-02 -3.15055363e-02  3.91570888e-02\n -1.33319600e-02 -2.71638334e-02 -2.95342896e-02 -9.60145611e-03\n  2.76649203e-02 -1.54360160e-02 -3.41231413e-02  3.12366914e-02\n  3.47857103e-02 -2.37868819e-02  8.64581787e-04 -3.88712920e-02\n  1.06433798e-02  3.81996743e-02  6.44623116e-02  1.02799319e-01\n -1.59056745e-02  3.21556889e-02 -5.49821332e-02  1.02985846e-02\n -4.68112528e-02  6.75266236e-02  1.60249835e-03 -1.43196341e-03\n  1.64642297e-02 -5.71189001e-02  1.02409393e-01 -5.40448800e-02\n  4.39804718e-02 -4.53910045e-02  4.23068367e-02  2.68335659e-02\n -7.96109252e-03  1.85987204e-02 -3.21859904e-02 -3.92058603e-02]",
         " shut up and dance with me shut up and dance with me"
        ],
        [
         "27",
         "27",
         "Come What May",
         "never knew i could feel like this. like i'd never seen the sky before. i want to vanish inside your kiss. everyday i love you more and more. . listen to my heart. can you hear it sing. telling me to give you everything. seasons may change winter to spring. but i love you until the end of time. . come what may come what may. i will love you until my dying day. . . suddenly the world seems such a perfect place. suddenly it moves with such a perfect grace. . . suddenly my life doesn't seem such a waste. . . it all revolves around you. . and there's no mountain too high. no river too wide. sing out this song. and i'll be there by your side. storm clouds may gather and stars may collide. . . but i love you. . . i love you. . . until the end of time. . . until the end of time. . . come what may come what may. i will love you. . . suddenly the world seems such a perfect place. . . come what may. . . come what may. . . come what may. come what may",
         "0.033",
         "0.687",
         "0.28",
         "0.9956",
         "[ 2.54571252e-02 -1.42587936e-02  1.96997412e-02  2.52096299e-02\n  9.61071327e-02 -5.53755462e-03 -4.17399360e-03 -3.21119316e-02\n  4.25439253e-02  1.93722721e-03  8.47674906e-03 -6.45320937e-02\n -8.75425339e-03  5.24501950e-02  2.30416078e-02  3.32901031e-02\n  8.05301499e-03 -1.50130736e-02  1.20433420e-02 -5.66819981e-02\n -3.64932045e-02  8.49117618e-03 -1.34906918e-02  5.09656593e-02\n -2.45552510e-02  1.81922615e-02 -4.49363254e-02 -1.23230647e-02\n  1.10104273e-03  5.44386022e-02  3.64454761e-02 -3.43149118e-02\n -8.49379972e-03 -4.73806746e-02  9.45459213e-03 -2.26458330e-02\n -8.13368894e-03 -3.06838769e-02  1.08734421e-01  3.25745088e-03\n -4.30832654e-02  2.00731531e-02 -4.18310650e-02 -8.35286267e-03\n -3.29425535e-03  3.36960219e-02 -7.69047905e-03  1.89883467e-02\n -5.22288382e-02 -1.11737689e-02  9.40037612e-03  2.03596260e-02\n -5.65928547e-03 -2.83520413e-03  4.67444472e-02 -3.66804190e-02\n  5.32860402e-03  2.88301408e-02 -1.00114597e-02  8.07707012e-02\n -5.40391468e-02  4.85141948e-03 -5.53410165e-02  1.28654600e-03\n -3.43050882e-02 -5.64103201e-03  1.01157008e-02  8.99766665e-03\n  2.91882735e-02  1.58241633e-02  5.04314452e-02  8.58439971e-03\n -1.66041497e-02 -1.21425642e-02 -1.95654463e-02  1.42303079e-01\n -2.64362730e-02 -4.08733403e-03  7.69298431e-03 -3.09144985e-02\n  2.16706395e-02 -5.51833697e-02  7.26599470e-02 -4.49131280e-02\n  2.11529285e-02  7.94904307e-02  2.98331827e-02 -1.84346829e-02\n -1.93901698e-03  4.12512682e-02  8.15030374e-03  1.77770723e-02\n  5.76031171e-02 -3.38490456e-02 -4.13791239e-02  4.38048616e-02\n -2.59354133e-02  3.62754241e-02  4.20505889e-02  4.97237779e-05\n -1.16014602e-02  3.88692245e-02 -1.34014953e-02  4.52375896e-02\n -5.47411777e-02 -7.43683651e-02  6.61001503e-02 -1.25171132e-02\n  1.38159990e-02  1.84870698e-02  2.56098397e-02  1.27399084e-03\n  6.00774623e-02 -2.88954210e-02 -7.50999227e-02  3.64359543e-02\n  2.42367964e-02  2.26144399e-02 -3.01464670e-03  1.04946736e-02\n -3.79675888e-02 -9.53597389e-03  1.68798268e-02  1.35372188e-02\n  3.52001451e-02 -3.61891277e-03 -7.02790567e-05  1.93400458e-02\n  1.01105068e-02  1.38506545e-02  3.97304893e-02  8.28136597e-03\n  3.04060914e-02 -9.80832279e-02  3.79697941e-02 -5.51429018e-02\n -4.40028273e-02 -6.61568940e-02 -3.54185048e-03  6.62203506e-02\n -7.75121078e-02 -1.39050158e-02 -7.00438302e-03  5.76379104e-03\n -2.54707597e-02 -3.16858217e-02  2.18684692e-02 -1.01848748e-02\n  8.78943801e-02 -2.88031120e-02 -3.05355769e-02  2.31881849e-02\n -1.71491411e-02 -2.45084930e-02 -2.34470330e-02 -7.57827535e-02\n -4.29886989e-02 -2.52746902e-02  3.49861495e-02  4.28327313e-03\n -1.62840728e-02  6.04280718e-02  1.69076696e-02 -1.77434995e-04\n -1.33190667e-02 -5.53662367e-02 -1.13642449e-02  5.51143065e-02\n -3.45147885e-02  1.02968812e-02 -1.44334566e-02  3.03266793e-02\n  1.18943460e-01 -3.53257619e-02  3.87286604e-03 -3.18299010e-02\n  5.77305518e-02 -1.66289639e-02 -6.69025816e-03 -2.28903648e-02\n  1.68363880e-02 -1.57169010e-02 -1.08419925e-01 -3.55207957e-02\n -6.92937747e-02 -1.71886720e-02  2.83013284e-02 -8.96070004e-02\n  4.40348573e-02  5.33999167e-02 -1.44979982e-02  6.30676970e-02\n  2.44672019e-02  1.82469171e-02  8.22341889e-02  7.68127758e-03\n -2.86572836e-02 -3.42574827e-02 -1.54883116e-02 -6.82395920e-02\n  4.07610685e-02 -1.11383490e-01  1.51957013e-02 -5.03910147e-03\n -3.10357958e-02  5.17804623e-02  1.66287888e-02 -7.87546635e-02\n -2.47108936e-02  1.99893005e-02 -2.04876438e-02  1.97813306e-02\n -1.26608955e-02  2.40849983e-02 -2.70481855e-02  1.00408003e-01\n -1.43755963e-02  5.05394638e-02 -5.10686189e-02  7.14287013e-02\n  7.45874038e-03  1.24939717e-02 -6.08272804e-03 -2.37513259e-02\n -3.65480781e-02 -5.44935167e-02  2.36695390e-02 -1.97596196e-02\n -2.29958296e-02 -5.18618599e-02  2.98431702e-02 -2.46517044e-02\n  1.63735710e-02 -6.69209361e-02  2.02605594e-02 -2.60234196e-02\n  2.54726838e-02 -1.45671619e-02 -7.73138329e-02  3.63448672e-02\n -3.27855423e-02 -7.14255823e-03 -3.89076173e-02  1.09114824e-02\n -3.87883075e-02  3.49211916e-02 -2.21626386e-02 -9.52970423e-03\n -3.60452943e-02  2.04921253e-02  5.46789682e-03  4.02071625e-02\n  2.10196208e-02  2.52435617e-02  5.66766262e-02  8.02681316e-03\n  2.80909427e-02 -2.01934949e-03 -3.13138813e-02 -3.31221474e-03\n -5.85902184e-02  2.83825467e-03 -1.44840181e-02  4.62725870e-02\n -1.04879569e-02 -2.65931208e-02  5.92537932e-02  3.41068618e-02\n  5.66931106e-02 -6.63950741e-02  4.33111675e-02 -6.80082887e-02\n  7.04621226e-02 -2.21725162e-02 -1.34942047e-02  7.52825709e-03\n -6.60019293e-02  6.34059459e-02  3.50515582e-02  9.52516310e-03\n  4.62344214e-02  3.03772017e-02  5.84044941e-02  2.47930698e-02\n  6.09458536e-02  1.44345015e-02 -3.29872482e-02 -1.23438109e-02\n -4.14523529e-03  4.41105803e-03 -5.06163388e-02  6.17100075e-02\n  6.08746856e-02  9.99733992e-03 -5.05155623e-02  3.50080314e-03\n  3.28356996e-02  8.75793770e-03 -1.21207191e-02 -1.26846418e-01\n -4.73422222e-02 -5.97417317e-02 -2.36843228e-02  5.46148568e-02\n -8.82703066e-02 -4.83784154e-02 -1.00206751e-02  3.91379073e-02\n  1.89663116e-02  7.35882064e-03  8.29393119e-02 -4.05329764e-02\n  1.94223449e-02  4.68326658e-02  2.45010504e-03  3.97240706e-02\n -2.81343237e-02 -2.55583953e-02 -5.83374500e-03  5.52209876e-02\n  8.81653465e-03  3.63828652e-02  5.14232600e-03 -4.15960923e-02\n -2.05932353e-02 -8.25507101e-03  3.14135551e-02 -5.44370078e-02\n -3.84169136e-04  1.32868681e-02 -3.24805081e-03 -5.38109615e-03\n -3.84324673e-03  4.58748341e-02  4.42559160e-02  3.15361433e-02\n -2.67568193e-02 -6.19721878e-03 -1.83013212e-02 -8.45195726e-03\n  5.38041331e-02 -1.40738916e-02  1.69341750e-02 -1.85879087e-03\n -1.43847347e-03 -6.10546805e-02  3.14664580e-02  1.02920890e-01\n  2.90043391e-02 -9.09308158e-03 -2.26809904e-02  2.29299604e-03\n -7.82076493e-02 -4.78935242e-03 -6.73293322e-02 -3.48669738e-02\n -1.23448269e-02  6.16228767e-02 -3.30086127e-02 -2.97461562e-02\n -1.26938084e-02 -4.08787169e-02  7.81851560e-02  1.20794857e-02\n -2.77665965e-02 -8.55837017e-03  3.76069173e-02 -7.57382140e-02\n -6.16652444e-02  2.81438418e-02 -4.23587225e-02  1.60162132e-02\n -6.58942014e-02  5.95442466e-02  3.94954011e-02 -3.74589004e-02\n -7.12697878e-02 -7.07765110e-03  2.45078262e-02  3.26438248e-02\n  1.21664954e-02  3.45639489e-03 -1.76809784e-02 -4.83877882e-02\n -5.05551696e-03 -4.71595563e-02  4.45238285e-04  2.66385190e-02\n -5.59907183e-02  1.32280374e-02 -5.50467297e-02 -3.82493809e-02\n -6.53956831e-02 -2.57690083e-02 -9.02040768e-03 -7.47465789e-02\n  4.22466770e-02 -2.03677686e-03  1.45868808e-02  4.21661809e-02\n  1.64030455e-02 -9.59178619e-03  6.26663864e-03  3.58955711e-02\n  6.72851689e-03  4.04144712e-02  3.24736759e-02  9.79072414e-03\n  1.52243720e-02  1.08666131e-02 -6.30996600e-02 -5.41230924e-02\n -1.51377646e-02  3.48202921e-02 -4.60327379e-02  7.01150252e-03\n  1.28143867e-02  2.77578253e-02  6.31311862e-03 -8.86963494e-03\n -3.50039005e-02 -9.07752663e-03 -2.63358429e-02  2.17562839e-02\n  3.68929794e-03 -1.32031261e-03 -3.05238739e-02  3.24979872e-02\n -6.95221266e-03 -2.82855202e-02  2.60257889e-02  6.97440431e-02\n  9.18995664e-02 -4.99587879e-02 -2.80377790e-02  2.57703941e-04\n  1.18724359e-02 -3.65505517e-02  3.53577845e-02 -2.65156236e-02\n  5.94043583e-02 -9.03795362e-02  4.65376973e-02 -4.13044468e-02\n  3.19401287e-02 -4.77198251e-02 -5.04068807e-02 -2.17968319e-02\n -7.49163562e-03  1.40196942e-02  1.33964634e-02  6.07160665e-02\n  1.95372272e-02  1.20079508e-02  3.59872356e-02 -4.41472530e-02\n -4.49636057e-02 -5.14888146e-04 -4.02268954e-02  2.47492231e-02\n  7.24372454e-03 -8.55340362e-02  5.66437654e-02  8.08902923e-03\n  3.85543355e-03  4.71771732e-02 -3.78870703e-02  2.37495881e-02\n -2.14084629e-02 -1.01591591e-02 -2.10165754e-02 -1.69432927e-02\n -3.40808406e-02  7.72660039e-03  9.50310752e-03  5.94161376e-02\n -1.64832752e-02 -2.61086244e-02 -1.32389730e-02  1.94714684e-02\n  6.58392161e-03  1.54323177e-02 -3.61940302e-02  8.92802607e-04\n  2.37245727e-02 -1.79934930e-02 -2.26067118e-02 -3.76611622e-03\n  8.76542088e-03 -7.77592734e-02  5.49456961e-02 -3.46078649e-02\n  3.19112316e-02 -1.65528674e-02 -2.18385155e-03  1.63984708e-02\n -1.79184210e-02  6.71998784e-02 -1.33556838e-03  4.37138714e-02\n  5.82969524e-02 -1.59017406e-02  9.99059305e-02  2.77871266e-02\n  1.07199745e-02 -2.03139558e-02  9.66275260e-02 -5.46334907e-02\n  2.57011801e-02  1.35595808e-02 -5.33666536e-02  4.97734733e-03]",
         " but i love you"
        ],
        [
         "28",
         "28",
         "Elephant Love Medley",
         "all you need is love. . . you're being ridiculous. . . all you need is love. . sung. just one night give me just one night. . . there's no way 'cause you can't pay. . . in the name of love one night in the name of love. . . you crazy fool i won't give in to you. . . it's so easy all you have to do is fall in love. . . love hurts. . . all you have to do is play the game. . . love scars. . . all you have to do is. take on me. . . no no no it ain't me. . . take me on. . . no no no because you'll be gone in a day or two. . . i love you always forever. near or far closer together. everywhere i will be with you. . . love is a battlefield. . . everything i will do for you. . . don't speak. i know just what you're thinking. so please stop explaining. don't tell me 'cause it hurts. . . open up your eyes then you'll realize. here i stand with my everlasting love. need you by my side girl you'll be my pride. you'll never be denied everlasting love. . . what's love got to do got to do with it. what's love but a second hand emotion. what's love got to do got to do with it. who needs a heart when a heart can be broken. . . you're breaking my heart. s'pose i never ever met you. . . what's love got to do with it. . . suppose we never fell in love. . . who needs a heart. . . suppose i kept on singing love songs. . . all of this music breaks my heart. . . yes it breaks my heart. yes it breaks my heart. . . i can't help falling in love with you. . . i'm all out of faith. this is how i feel. i'm cold and i'm ashamed lying naked on the floor. . . take me on. . . illusion never changed into something real. i'm wide awake and i can see the perfect sky is torn. . . they will see us coming from such great heights. come down now they'll say. . . everything looks perfect from far away. come down now but we'll stay. . . 'cause love lifts us up where we belong. where the eagles fly on a mountain high. . . love makes us act like we are fools. throw our lives away for one happy day. . . we can be heroes just for one day. . . though nothing can keep us together. . . we can steal time just for one day. . . we can be heroes forever and ever. we can be lovers just for one day. we can be heroes forever and ever. we can be lovers just for one day. . . and you can tell everybody. . . this is your song. it may be quite simple but now that it's done. i hope you don't mind i hope you don't mind. that i put down in words. . . we can be heroes. . . how wonderful life is. . . we can be heroes. . . how wonderful life is. . . we can be heroes. . . how wonderful life is. . . while you're in the world. i will always love you. and i will always love you. and i will always love you",
         "0.077",
         "0.618",
         "0.305",
         "0.9995",
         "[ 0.02310872  0.00979846  0.01602362  0.00806536  0.0384385   0.03007378\n -0.03136618 -0.03567831  0.00348644  0.03813548  0.01415823  0.02209056\n  0.05891883 -0.02694419  0.04766534 -0.00130934 -0.01646545 -0.1001733\n  0.0090081   0.029694   -0.01935179  0.0023119  -0.04843804  0.01089769\n -0.04162254  0.02782387 -0.01556477  0.03768919  0.00250824  0.00966329\n  0.04444543  0.02330687 -0.00194343  0.00060606 -0.01109401 -0.04674297\n -0.03614168  0.01433579 -0.02434348  0.02739717 -0.04134526  0.01968861\n -0.06772198  0.03268343  0.04272317 -0.01210524  0.027586    0.01335744\n -0.0592279   0.01081749 -0.03336589  0.03888088  0.02847949  0.04531647\n -0.00816552  0.06251538 -0.03584854  0.03474709 -0.00544125  0.01680523\n  0.00757474  0.02594312  0.02246162 -0.01617293  0.00918336  0.13538033\n -0.03391148 -0.04245381  0.015482    0.08426502 -0.01796926  0.05175381\n  0.02742877 -0.05201291 -0.02156224  0.01790583 -0.00515686 -0.02974932\n -0.03754663  0.04626008 -0.04648716 -0.09732122  0.06162684 -0.04096932\n  0.04582622  0.078756    0.00597209 -0.03217545 -0.01903325  0.05267384\n -0.02169547 -0.00779595 -0.01129258  0.01284811 -0.08306819 -0.0208873\n -0.05098388  0.00571123  0.06303228 -0.04262669  0.06443271 -0.00870343\n -0.0017945   0.01933823 -0.00548273 -0.0136395   0.03314379  0.01186696\n  0.01104318 -0.00234295  0.02407097 -0.00506375  0.05650612 -0.01892947\n -0.02807073  0.07706328 -0.02881046  0.04638944 -0.01933429 -0.02788627\n -0.05367723  0.01501161  0.00202037 -0.02338331  0.00107998 -0.01644903\n  0.01494161  0.0221055  -0.032579   -0.01587934  0.00717784 -0.04002512\n  0.04022764 -0.05419649 -0.00023968  0.00387995  0.00584551 -0.00511792\n -0.03231244  0.07752829 -0.09012756 -0.01332779  0.04848353 -0.05147144\n -0.00818937 -0.0026948   0.01815012  0.05796309  0.04688758  0.03781214\n -0.06075075  0.03847202  0.02659257  0.02251588 -0.03530941  0.04044946\n -0.00714866  0.00065418  0.07424708  0.05298608  0.02732051  0.01215587\n -0.036849    0.0203488   0.0648664  -0.03602776 -0.02199555  0.08141665\n -0.00015893 -0.0325372  -0.01944166  0.00461076  0.13152783 -0.01945095\n -0.05615693  0.0148203   0.04674109  0.05722367 -0.08514698 -0.03023606\n  0.06867012  0.04722769  0.04500442 -0.04604164 -0.01392081  0.00963476\n  0.01973783 -0.04249705 -0.00336607  0.02430495 -0.05790166 -0.01876366\n  0.04343455  0.03487796  0.13730904 -0.00983082 -0.03102616 -0.02266454\n  0.0087518  -0.05807979  0.06235895 -0.09442252 -0.05395162 -0.00054467\n  0.04449195  0.08251777  0.03659635 -0.04591038  0.09956657 -0.00987739\n -0.0487171   0.02525924 -0.00684887 -0.00863757 -0.02824839  0.1102632\n -0.01373396  0.00468616  0.03383081  0.00728181  0.02162521  0.03437234\n -0.04558634 -0.00077988 -0.06417056 -0.11105888 -0.0398428   0.03089472\n -0.00615671 -0.04288352  0.03777494 -0.00446545  0.05138638  0.02375486\n -0.0090558  -0.00442706 -0.01302714  0.01281155 -0.02198206  0.04057348\n -0.04706875  0.02235553 -0.05166082  0.00361602 -0.04340117 -0.07990604\n -0.06601585  0.0582268  -0.06302449  0.10560338 -0.00295922 -0.02258216\n -0.00288652  0.01596052  0.0290435  -0.00987865  0.06730585  0.03109736\n -0.01289702  0.00447879 -0.10340589  0.05273592  0.03422977 -0.00169106\n -0.02759594 -0.01075067  0.05126155 -0.04329066  0.02450592 -0.02712352\n  0.03654487 -0.04011954  0.04636854 -0.02194364 -0.01475369 -0.00150184\n -0.02687154 -0.1089205   0.05779667  0.11008812 -0.00792851 -0.02705914\n -0.02393749 -0.01330553  0.04840035 -0.01418965 -0.01310815  0.00355029\n  0.0170387   0.02239565 -0.04142196 -0.04767478  0.01703267  0.07066265\n -0.04211667  0.01765808  0.03040414 -0.02443208  0.02770475 -0.10781155\n -0.0233388  -0.09230087 -0.06885983  0.04039637 -0.0420753  -0.02049467\n  0.02636989 -0.01590736  0.01996421 -0.01709608  0.10683201 -0.03506016\n  0.05564317  0.01853225 -0.01076909  0.05912696 -0.03526461 -0.01954379\n -0.01463371  0.02576644  0.02298863  0.02593237  0.0286347  -0.08184712\n -0.07623842  0.02044178  0.00322897 -0.05886677 -0.02782614  0.0185617\n  0.03819929 -0.02900096 -0.00280651  0.01097835  0.02201468  0.08783258\n -0.0346279  -0.0142799  -0.00218883 -0.01789019  0.03149385 -0.01052794\n  0.01838298 -0.03163189  0.03238544 -0.02024408 -0.05321179  0.01864965\n  0.07815028  0.01811556  0.02365385 -0.10261678 -0.06320115 -0.02087123\n -0.0003846   0.04887395  0.00063162 -0.00029037  0.06368212 -0.0669116\n  0.02243315 -0.00120327  0.01134692 -0.02413396 -0.01060831  0.02941204\n  0.01240685 -0.01033019 -0.03598838  0.01277073 -0.06204947  0.02138202\n  0.06487344  0.02125092 -0.03199732 -0.02884648 -0.0372867  -0.01893778\n  0.05253917 -0.05302842 -0.0063302   0.02740121  0.02181507  0.00058507\n  0.00402063 -0.03849788  0.00991524  0.06455986 -0.02842496 -0.0097054\n  0.00071609 -0.0709044  -0.05662936 -0.05337115  0.02833551 -0.0804698\n  0.01534351  0.01843959  0.03083687 -0.04634098  0.01082766 -0.01499571\n  0.00050539  0.01533859 -0.01593907  0.0189508   0.0009103   0.01913901\n  0.06408142  0.01898891  0.0147397   0.02321634 -0.02263866  0.03568925\n -0.02092639 -0.04509781 -0.00868656 -0.00951759 -0.0199871   0.04016612\n  0.00752947  0.04196109 -0.02911532  0.01732738 -0.01684913 -0.04192618\n  0.031013    0.02417412 -0.01598934 -0.01771783 -0.00073767  0.0741154\n  0.02534546 -0.00469958  0.05758253 -0.07213366  0.06810956 -0.02683895\n -0.01503631 -0.06585614  0.05075467 -0.11674379 -0.03779905 -0.00913792\n  0.00284208  0.00523584 -0.02207649 -0.01957228 -0.01314212  0.01606508\n  0.00248987  0.01007236  0.05081968  0.08870283  0.04622803 -0.03211965\n  0.04321049 -0.02318868  0.00408892  0.02677239  0.04377572 -0.04388899\n  0.10202833  0.04461312 -0.03860693  0.0697843  -0.05635712 -0.00173076\n -0.07765979 -0.06591775  0.01944983 -0.05125256 -0.09472804  0.00829909\n  0.0148789   0.02157916 -0.00836738  0.02666995 -0.00266959 -0.04748794\n  0.00877918 -0.00903103 -0.04051116  0.00113037  0.02267833 -0.0595555\n  0.04185437  0.04479263  0.02818827 -0.03790237  0.0678272   0.05096789\n -0.06364434 -0.05322542  0.04082188 -0.01661574  0.02283624  0.02900519\n -0.03550899  0.0296894  -0.02367227 -0.05227902  0.0085884   0.03003993\n  0.04821224 -0.0533523   0.07292404 -0.00430215 -0.0359976  -0.03329761\n  0.00929409  0.04754365]",
         " it's so easy all you have to do is fall in love"
        ],
        [
         "29",
         "29",
         "Seven Wonders",
         "frank why me i'm just ordinary. . . ordinary is beautiful. i don't need paris i don't need a fancy restaurant or a huge orchestra. just some subtle orchestrations. . sung. i've seen the seven wonders. if you give or take a few. but all them seven wonders well. they can't compare to you. i've been a lot of places. yes i've traveled near and far. but now i know that home is where you are. . niagara falls a leaky faucet. . . what. . . yeahthat a plumber oughta fix. the pyramids. . . uhhuh. . . are really just. a dusty pile of bricks. . . really. . . the taj mahal a fixer upper. the grand canyon just a hole. . . oh no.... . . the grand canal in venice. an italian toilet bowl. . . that's wrong. . . i've seen the seven wonders. if you give or take a few. but all them seven wonders well. they can't compare to you. i've been a lot of places. yes i've traveled near and far. but now i know that home is where you are. . . okay.... . sung. the aurora borealis. . . just a nightlight on the fritz. . . mmm... and stonehenge. . . is just a bunch of rocks. . . la brea's tar. . . the pits. . . how 'bout the leaning tower of pisa. . . looks like something up and broke. . . mount rushmore. . . someone climb up there and tell them boys a joke. . . yes my traveling days are over. get the check i'll pay the bill. 'cause i see all the wonders in your eyes. just standing still.... . . the clock's ticking brenda. i can't i don't wanna be a doctor forever. i wanna make a home with you. . sung. i've been a lot of places. but i've learned now near and far. there's no need to roam. 'cause home is where you are. . . there's no need to roam. 'cause home is where you are. . . yes now i know that. . . home is where you are",
         "0.048",
         "0.834",
         "0.119",
         "0.9705",
         "[ 3.24613675e-02  3.60634290e-02 -4.01960425e-02 -1.35185402e-02\n  8.01805034e-02  5.73464744e-02  1.20793162e-02  4.44117524e-02\n  4.43602949e-02  3.95571068e-02 -1.49897095e-02 -1.40301445e-02\n  8.09012800e-02  2.30250638e-02  2.33951136e-02  2.69133113e-02\n  2.88752299e-02 -1.48738408e-02 -2.43374761e-02  5.00473604e-02\n  2.67070588e-02 -3.96866985e-02 -2.09251605e-02  7.22242370e-02\n  4.11367305e-02  1.02345832e-02  4.31706384e-02  1.74525974e-03\n -1.40245827e-02 -6.18957654e-02  5.60490526e-02 -1.92569140e-02\n -1.22944755e-03 -4.25063297e-02 -2.68038758e-03  2.05444242e-03\n  6.86621368e-02 -6.00495515e-03 -5.52907065e-02 -1.63461640e-02\n -4.76034805e-02 -1.11271115e-02  4.33625206e-02  3.38967368e-02\n -6.19857246e-03  4.56814803e-02 -3.83549891e-02 -3.57836597e-02\n  1.80306919e-02 -8.93187802e-03 -1.85641106e-02  3.50325778e-02\n -3.16310450e-02 -4.40608524e-02  6.00862280e-02 -4.28150379e-04\n -1.80468373e-02 -1.03152469e-01 -1.21825410e-03  1.21583072e-02\n -4.38276529e-02 -3.74743566e-02 -3.47146578e-02  7.65225897e-03\n -5.54492744e-03  2.60618217e-02  1.20601207e-02  2.94419844e-02\n  1.74271576e-02  4.74328585e-02  2.69067232e-02 -6.12715334e-02\n  4.63844873e-02  2.50874856e-03  6.87533244e-02 -3.33295912e-02\n -3.09871510e-02  1.23437792e-02 -5.50262593e-02 -5.54410741e-02\n -2.07932270e-03 -1.02466397e-01  1.31736454e-02  1.56577199e-03\n -2.28705313e-02  5.09045459e-02 -2.07247138e-02 -9.41534340e-03\n -2.75890976e-02  1.23099871e-02 -9.66664124e-03 -3.19409813e-03\n  1.67066860e-03 -3.19366157e-02  7.56317633e-04 -3.36315623e-03\n -3.73651795e-02  4.18326594e-02  2.54616216e-02  3.81399989e-02\n  2.68033780e-02 -1.62474681e-02 -6.03852272e-02  2.74007525e-02\n -5.25913611e-02 -1.98770612e-02  3.18273120e-02 -1.58046838e-02\n -4.28275429e-02 -3.60203907e-02 -2.04332322e-02 -6.86109206e-03\n -7.08071236e-03 -7.55298370e-03 -7.96691328e-02 -5.96699724e-03\n  2.23600212e-03 -1.25962019e-03  1.30638462e-02 -3.92204784e-02\n -2.90191770e-02 -5.96921053e-03 -7.06946431e-03 -1.72523260e-02\n -1.53235681e-02  1.36716440e-02 -3.68368765e-03 -3.39240879e-02\n  8.85021966e-03 -1.98938120e-02 -4.42693271e-02 -3.88901960e-03\n  1.95272751e-02 -5.30793071e-02 -7.27208704e-02  4.52411175e-02\n -2.18769237e-02 -1.59283895e-02  1.52695393e-02  1.99336521e-02\n -2.69531831e-02 -6.17478490e-02 -5.54989986e-02 -3.09645645e-02\n  6.00409433e-02 -8.07178486e-03 -4.18768674e-02  9.40499455e-03\n  5.93104064e-02 -4.61298637e-02 -1.35243675e-02  3.95025350e-02\n  4.43611257e-02 -3.05713434e-03 -9.11707804e-03  3.71505022e-02\n -1.04815448e-02  1.06724305e-02 -7.58354664e-02  9.43050906e-03\n -4.39588213e-03 -2.33609285e-02  4.70449170e-03  2.75172107e-03\n -4.17962000e-02 -5.15889265e-02  2.15359051e-02  3.53334509e-02\n  1.87460352e-02 -1.38679706e-02  2.04745121e-03 -9.97175928e-03\n  5.43632470e-02 -1.80024502e-03 -4.38598357e-02 -3.06487121e-02\n  4.76203635e-02 -1.11105526e-02 -4.04842459e-02 -2.58238241e-03\n -8.62913579e-03 -5.56968078e-02  7.03333179e-03 -1.50431199e-02\n -2.75161900e-02 -3.06833931e-03  8.02078545e-02 -2.33578440e-02\n -1.64212659e-02  3.93707445e-03 -6.35353550e-02 -6.15794659e-02\n  2.33325381e-02 -5.43601951e-03  3.96008305e-02 -7.88133685e-03\n  3.42376232e-02 -6.61449647e-03  3.38128805e-02 -4.97027822e-02\n  2.19852123e-02 -5.37709929e-02 -5.23648039e-02  3.29980813e-02\n -2.28556269e-03  2.36988273e-02  2.22648270e-02  4.12322301e-03\n -3.17687057e-02  5.55410571e-02 -1.51256733e-02  1.21403575e-01\n -1.26154125e-02  3.91593091e-02 -8.85952730e-03  1.22387215e-01\n -7.39975721e-02 -4.30702837e-03  2.60013863e-02  1.20716747e-02\n  3.62024941e-02  4.83517461e-02 -5.53294783e-03 -3.05389557e-02\n -3.39016020e-02 -6.06522113e-02  1.15501806e-02 -5.18833511e-02\n -1.93019863e-02 -5.30466251e-02  3.46240960e-02 -4.39540632e-02\n -4.57159840e-02  4.32557240e-02  1.03389909e-02  2.94533540e-02\n  8.39671120e-02  1.46260113e-02 -4.64994907e-02  2.12088693e-02\n -6.06664978e-02  7.70706357e-03  1.60846487e-02 -2.19430458e-02\n -3.00342534e-02  1.94987822e-02 -3.40963341e-02 -1.32959243e-02\n -9.08360630e-03  2.66887695e-02  4.26699892e-02 -2.77959332e-02\n -1.02482261e-02  3.71584222e-02 -3.12245563e-02 -1.09792557e-02\n  3.37593183e-02 -9.23339918e-04  4.18712795e-02 -1.99798495e-04\n -2.41978317e-02  5.52617460e-02  1.87126510e-02 -1.15593933e-02\n -2.43027695e-02 -4.70660953e-03  3.24525498e-02  5.54110929e-02\n  8.60571861e-04 -1.57902092e-02  2.84868609e-02  5.88924550e-02\n  8.43405351e-03  2.31956318e-02  4.35496634e-03 -4.48221788e-02\n -2.35009193e-02  1.86439194e-02 -1.11344289e-02 -3.23343202e-02\n -3.43304425e-02 -4.05000597e-02  4.97548245e-02 -1.96337719e-02\n  1.57643706e-02 -2.72444990e-02 -3.63513157e-02 -3.25287916e-02\n -4.37428447e-04  4.09593694e-02  5.95177757e-03  8.83901119e-02\n  1.96504244e-03 -8.73704348e-03 -5.23653775e-02  1.12538403e-02\n  2.61172038e-02  4.10575680e-02  4.15647961e-02 -5.80508299e-02\n -4.11062352e-02  2.95331441e-02 -2.41479138e-03  4.86567616e-02\n -2.61827353e-02  3.97605589e-03 -3.11883017e-02  1.94310118e-02\n -2.96199527e-02 -2.00253837e-02 -4.78612771e-03 -3.43282893e-02\n  1.37977581e-02  1.51381614e-02  2.81679910e-02 -2.82278694e-02\n  3.64926644e-02  3.42986025e-02  5.84006794e-02 -8.96984432e-03\n  7.25668296e-02  1.38664588e-01  4.10623588e-02  2.59556528e-02\n -5.79626709e-02  1.92273483e-02  4.52836379e-02 -3.75710651e-02\n  3.39520052e-02 -6.16407022e-02 -1.10383164e-02  2.33775787e-02\n -1.65198073e-02  1.04565378e-02  2.44861078e-02 -2.91785002e-02\n -2.66373120e-02 -4.35386449e-02 -2.44378168e-02  7.17513114e-02\n -2.78129466e-02  1.38804317e-02  1.05722435e-02  1.60683226e-02\n  1.49608897e-02  2.21849848e-02 -1.92305967e-02  5.64539991e-02\n -7.01796589e-03 -3.18577066e-02 -5.73072657e-02 -1.92334559e-02\n -1.00839056e-01  1.19528966e-02  4.09939932e-03  8.84663500e-03\n  1.14757298e-02  7.90364519e-02 -3.66384573e-02  4.31844778e-02\n  3.16285342e-02 -1.06775938e-02 -4.10195813e-02  4.09149379e-02\n  3.38110775e-02  1.11369472e-02  4.45682444e-02  4.37334459e-03\n -1.48794856e-02  5.34179881e-02 -7.48828100e-03 -2.86163716e-03\n -1.08029008e-01 -4.96676974e-02 -4.76986468e-02 -3.63377072e-02\n -5.01966439e-02 -1.02313431e-02  6.40950203e-02 -1.08346837e-02\n -5.25306612e-02 -4.69162092e-02 -5.50755113e-03  6.74711093e-02\n  2.43227594e-02  1.31676125e-03 -2.73279548e-02  1.57673117e-02\n -3.73294577e-02 -4.32886221e-02 -5.51302731e-02  3.25984620e-02\n  1.42375296e-02 -6.76003145e-03  9.38426424e-03  5.70329092e-03\n  9.74635687e-03  4.00737859e-02 -2.92687099e-02 -1.53372856e-02\n  1.95820313e-02 -5.03599979e-02  9.56726167e-03  1.84730925e-02\n -1.73954889e-02  2.54015811e-02  1.01797713e-03  1.22853834e-02\n  1.08704297e-02  8.17006305e-02  4.92328443e-02 -1.31066423e-02\n -2.87747346e-02  8.02672934e-03 -4.03606780e-02  7.13540334e-03\n -1.99256726e-02  4.37678806e-02  4.09975015e-02  3.95469405e-02\n  3.65951993e-02  1.86503865e-02 -9.33444221e-03  7.64329880e-02\n  6.40570140e-03 -8.09108745e-03 -2.71238945e-02  3.54732685e-02\n  2.86739524e-02 -2.55752355e-02 -3.20959501e-02 -3.21932025e-02\n  1.18257672e-01 -1.78936962e-03 -9.61524770e-02  2.84521822e-02\n -2.00471804e-02 -3.58095653e-02 -4.08528969e-02  1.54489819e-02\n  3.55020836e-02 -1.23454079e-01  1.99195519e-02  1.38056334e-02\n  3.79798748e-02 -7.45850876e-02 -4.93988134e-02 -2.29678694e-02\n -2.10968498e-02  4.50257137e-02 -6.97555998e-03 -5.58032328e-03\n -7.17652636e-03 -4.65358235e-02  1.08624632e-02 -2.60868855e-02\n  3.25627960e-02  9.01221763e-03 -3.31261731e-03 -2.47393064e-02\n  5.05642674e-04 -3.35251056e-02  7.03001544e-02 -5.22941537e-02\n -1.86134968e-02  5.88802323e-02 -5.46047352e-02 -1.77138671e-02\n -3.00964862e-02  1.84269883e-02  6.67342693e-02 -5.86951151e-02\n -3.46747339e-02 -2.43816357e-02  4.67371196e-02  3.85560207e-02\n -5.02487347e-02  2.20506918e-02 -7.99655765e-02 -1.23096351e-02\n -2.30735168e-05  6.16661925e-03 -5.97796515e-02  2.55127046e-02\n  4.77962382e-02  5.34257328e-04 -2.86090914e-02 -1.40196010e-02\n -4.57610078e-02  8.77865590e-03  2.54119299e-02  2.70548873e-02\n -3.67650241e-02 -5.04809096e-02  1.04226619e-02 -3.00404406e-03\n -1.82525329e-02  4.80010621e-02  8.32074694e-03 -1.88239627e-02\n -6.03150716e-03 -2.05534957e-02  1.05143741e-01  6.38200156e-03\n -1.94624197e-02 -5.59750758e-02  4.49316502e-02 -2.91764420e-02\n  1.22653348e-02  5.48755154e-02  1.65716857e-02 -1.00162132e-02]",
         " i've seen the seven wonders"
        ],
        [
         "30",
         "30",
         "So Exciting! (The Pitch Song)",
         "so you arranged this rendezvous in order to audition your new show for me hoping i would invest.... . . nailed it in one. . . . . so what's the story of your show. . . the story ah yes uh.... . . there'll be.... lovers. . . and singers. . . and entrepreneurs. . . depravity. . ecstasy. . . love that endures.... . . worthy of even the best raconteur. a tale in the shadows of dear sacrécoeur.... . we. see. a. long the seine upon its filthy shore. the bloated corpses of those. killed the night before. . . but it's a family show. with art both high and low. . . a tale of love. . . and death. . . and sex. . . and money. . . dancing and away we go.... . . sweet satine who plays our ingénue. a sparrow singing up and down each avenue. . . she wears a thin black dress and tells her tale of woe. of pain and loneliness. . . but that's not all as these things go. . she's rather sick with some obscure malaise. no doubt a cruel trick from wilder desperate days. . . but one day singing through her pain. the sun kicks out the rain. and there he stands a lover. . . yes one day everything changes when she meets  a man. . . a man unlike any she has known. he's uh.... . . a ventriloquist. . . no he's a matador striding across the sands of destiny. . . no no no he's a sailor. . . yes a sailor that's it a man who has spent his life voyaging across the turbulent seas. . . he's been searching for a mate. and now it seems like fate. a gift from god above. . . a love divine forevermore. their bodies intertwine.... . . but fate has many other things in store.... . . there's a man who already claims her. an evil gangster who runs this town. . . she's unhappy and no one blames her. . . the most lascivious racketeer around. . . he buys her love. . . he buys her clothes. . . he's rough but this is all the poor girl knows. . . he buys her love. . . there's no escape.... but now a triangle has taken shape. . . and so the sailor driven mad. determined to unseat this cad. swears to risk his life for love. and there's our show all of the above. . . a spectacle of savagery. . . a testament to lunacy haha. . . fun for the whole family. . . and all of it designed by me. . . so exciting. . . the audience will stomp and cheer. . . so delighting. . . it will run for fifty years. . . so exciting. make 'em laugh and make 'em cry. . so delighting. . . and in the end should someone die. . . so exciting. make our dreams reality. . so delighting. . . make it happen just for me. . . me me me me. . . make it happen just for me",
         "0.177",
         "0.589",
         "0.235",
         "0.9897",
         "[-1.56122725e-02 -1.37622692e-02  8.43104161e-03 -1.05233425e-02\n -4.72586416e-03  1.36816604e-02  3.65040191e-02 -3.49153881e-03\n  1.14309555e-02  1.65965706e-02  6.41972944e-02  4.81561609e-02\n -1.66805070e-02  5.42151276e-03  7.60256499e-02 -1.14737228e-02\n  3.65245752e-02 -6.18064851e-02 -5.82987480e-02  3.99834588e-02\n -4.00372334e-02  2.11331360e-02 -2.46245395e-02  7.82895163e-02\n  5.81258908e-02 -6.45970628e-02  3.42175029e-02  3.56947221e-02\n  2.63918787e-02  7.00177066e-03  8.38429388e-03  3.72953601e-02\n -2.16257051e-02 -1.03986859e-02 -5.45779523e-03  5.75368945e-03\n  4.66122897e-03  3.24899070e-02  9.69220884e-03  2.21066978e-02\n -4.87455465e-02 -4.32662899e-03 -2.37642527e-02  3.73750404e-02\n  1.23732965e-02  1.17994873e-02 -8.42212886e-03  1.67187899e-02\n -9.64131858e-03  2.36811489e-02 -7.10473955e-02  2.25064922e-02\n  2.57440656e-02  4.85302135e-02  3.97679470e-02  5.64620011e-02\n -2.75530163e-02 -1.83535682e-03 -2.65529267e-02  1.81047544e-02\n -4.27758768e-02  1.37137817e-02 -1.74216442e-02 -2.43541133e-02\n -5.19716628e-02  8.58889334e-03  2.40230691e-02  4.12300788e-02\n  2.50649657e-02  3.43558714e-02  4.00238745e-02  5.00353426e-03\n -1.82360280e-02  3.94051895e-02 -4.38593552e-02 -1.98676400e-02\n -2.34094821e-02 -4.61228192e-03  2.40580253e-02  7.09653348e-02\n -4.54634950e-02 -9.89585668e-02  1.25582535e-02 -8.68698582e-02\n  3.65014672e-02  1.11795716e-01 -3.99183035e-02  4.91728559e-02\n -2.48023625e-02  4.02125642e-02 -2.92793028e-02 -5.68056405e-02\n -1.74712832e-03  4.26171459e-02 -1.48136821e-02 -3.15343514e-02\n -3.64871621e-02  3.43667679e-02  5.34858070e-02  2.00718176e-02\n  6.37911856e-02 -2.65110447e-03  4.87177400e-03 -1.65220723e-02\n -4.88741063e-02 -1.73730589e-02 -5.18842321e-03 -3.13773379e-02\n -2.66155228e-04  5.29583637e-03 -2.25033313e-02 -1.45987133e-02\n  3.65018547e-02  1.97976199e-03 -3.30862552e-02  2.19113566e-02\n  2.60304175e-02 -5.58012314e-02  1.54784145e-02  1.73773374e-02\n -1.63880363e-02 -5.22791594e-02 -1.13585619e-02  1.88227706e-02\n -2.79030669e-02 -3.17421220e-02  9.10731684e-03 -6.13000840e-02\n  2.73079816e-02  1.36441765e-02  1.43689122e-02  2.01645084e-02\n  4.54719886e-02 -3.30883414e-02 -3.85605022e-02  4.85583134e-02\n -7.32997432e-02 -3.59739140e-02  2.99205142e-03 -3.85076925e-02\n -4.97143641e-02 -8.68066214e-04  5.47404923e-02 -8.22133292e-03\n  3.13646197e-02  1.66731924e-02  5.30675128e-02  3.92973796e-02\n  9.09526553e-03 -1.56617705e-02  1.63153354e-02  8.27975795e-02\n -3.24196108e-02  2.06765588e-02  1.97544415e-02 -9.71209898e-04\n  2.60661747e-02 -3.19943801e-02 -6.64161332e-03  9.60808713e-03\n  1.14769721e-02  6.44933209e-02  8.61972123e-02  2.91854348e-02\n  2.37095598e-02  2.73514935e-03 -1.52417319e-02  5.22586592e-02\n -4.16644737e-02  4.87010479e-02 -1.60083435e-02  4.15111566e-03\n  2.86314730e-03 -2.55121198e-03 -3.50045860e-02 -5.25929853e-02\n  3.64353321e-02 -9.52537265e-03 -5.10607623e-02  5.22847548e-02\n  2.25794055e-02 -6.24651760e-02 -1.53014902e-02 -1.59417763e-02\n -1.18469251e-02 -1.68389697e-02  2.24235021e-02 -6.50779381e-02\n -4.78243120e-02  1.07079126e-01 -5.95813282e-02 -2.00986117e-02\n -3.57489538e-04 -3.12838033e-02  9.06222388e-02 -7.26873726e-02\n -4.84418077e-03 -1.34242168e-02  6.33463189e-02 -5.10177575e-02\n  1.04885139e-02 -1.11832418e-01 -8.40317085e-03  8.38346258e-02\n -1.27835590e-02  2.71243546e-02 -2.00036690e-02  4.88132946e-02\n  2.65451823e-03 -3.26195806e-02 -1.05870381e-01 -9.06155072e-03\n  4.84355539e-02 -3.07757198e-03  2.61845998e-05  8.13459828e-02\n  7.97218736e-03  3.62373590e-02 -2.39335857e-02 -6.00581337e-03\n  7.01188995e-03 -2.20780130e-02 -2.07438078e-02  6.88525755e-03\n -2.24102084e-02 -2.57392768e-02 -8.45684186e-02  3.14609446e-02\n  4.99557368e-02  2.81594042e-03  9.39328372e-02 -9.50583816e-03\n  3.40172537e-02 -2.16557272e-02  2.32897773e-02  7.88895227e-03\n  6.09847791e-02 -4.65701893e-03 -1.28016928e-02  3.65959760e-03\n -8.32591504e-02  3.92845506e-03 -3.81621383e-02  2.06590146e-02\n  6.63343235e-04 -4.28361818e-02  6.46098191e-03 -4.40752283e-02\n -3.51250395e-02  3.36298682e-02 -2.43296176e-02  8.26878997e-04\n  5.76992799e-03  5.51700741e-02 -6.75198901e-03 -3.09670176e-02\n  3.22971307e-02 -1.76924448e-02 -3.94493043e-02  6.34435639e-02\n -4.14211787e-02  3.95073406e-02  3.86782289e-02  2.93394998e-02\n  2.65728077e-03 -1.78050175e-02 -3.72816250e-02 -5.57498895e-02\n -3.80562060e-03 -3.80915999e-02  2.04662625e-02 -9.24852397e-03\n  2.05847993e-02  5.75120281e-03 -2.24700961e-02 -3.83717529e-02\n  1.54977152e-02  3.22196484e-02 -1.05915610e-02  2.22100727e-02\n -1.34194139e-02 -1.23367989e-02 -6.57079788e-03 -2.14483915e-03\n  2.59673502e-02 -6.86031580e-02 -1.60636567e-02  6.38860790e-03\n -3.31137329e-02 -7.64000490e-02  2.33508903e-03  4.07562219e-02\n  3.97649072e-02 -2.03247033e-02 -2.98543982e-02  1.19239399e-02\n  5.47241643e-02  1.56809203e-02  2.26801634e-02 -1.69447660e-01\n -6.33490365e-03 -4.24820818e-02 -6.14352897e-02  7.31535330e-02\n -7.19149485e-02  5.20177037e-02 -1.51589485e-02  5.01154140e-02\n  2.36262586e-02  1.07822055e-03  1.25842132e-02 -2.19473485e-02\n  6.66030273e-02  7.42343962e-02  1.38654895e-02  1.43515887e-02\n  2.10341047e-02 -3.03316936e-02 -7.63880927e-03 -1.95147805e-02\n -1.49534093e-02  6.19113185e-02 -2.76552029e-02 -5.04647605e-02\n  3.27792838e-02  3.82977612e-02  1.87292304e-02  2.61640805e-03\n  1.32816425e-02 -2.95531936e-02 -7.94272218e-03 -9.84591693e-02\n -2.60579102e-02  3.84933837e-02  4.24253643e-02  2.57123150e-02\n -2.95104962e-02  2.04438400e-02 -3.02655506e-03 -2.89575718e-02\n -2.20396370e-02  4.01888117e-02  3.18102203e-02  2.32714368e-03\n  1.18371300e-01  2.57418375e-03 -2.60397550e-02 -6.64561521e-03\n  3.23632360e-02 -5.23008667e-02  1.57363135e-02  4.15676050e-02\n -6.03404753e-02  1.00279106e-02 -1.83004811e-02  3.45308632e-02\n  3.17187458e-02  1.12812454e-02 -2.10741758e-02  1.70743279e-03\n  1.03135954e-03 -2.95580812e-02  2.54271328e-02 -4.94012162e-02\n  2.74218600e-02  2.37448066e-02  2.06479169e-02  2.28296919e-03\n -5.12781627e-02 -5.15502086e-03  1.71186924e-02  3.47064547e-02\n -4.02481370e-02 -6.44900277e-03  1.76274143e-02 -3.38652730e-02\n -1.82712637e-02 -4.82161418e-02  1.08540617e-02 -9.14629735e-03\n -3.05346698e-02  7.39404783e-02  4.72544227e-03 -7.72480434e-03\n -2.93524601e-02  2.79826075e-02  2.48551574e-02 -5.51048014e-03\n  1.41396970e-02 -5.76448254e-03 -1.42696081e-02  2.62236875e-02\n  1.70598342e-03 -3.02908700e-02 -1.57846101e-02  2.26201713e-02\n -5.30606648e-03 -2.92598512e-02  9.23234969e-03 -7.26107210e-02\n  2.93821059e-02 -8.15795735e-03  3.13928202e-02 -8.90919473e-03\n  2.34260168e-02  1.00254444e-02 -3.36978324e-02  4.16788906e-02\n -3.65839601e-02  1.95310749e-02  4.00060639e-02 -2.02943552e-02\n -5.72632346e-03 -2.05693729e-02 -1.43057443e-02 -3.48778144e-02\n -3.86954658e-02 -5.94318919e-02  2.09896290e-03 -3.08471899e-02\n  4.22697701e-02  8.21524784e-02 -3.91441323e-02 -4.86655869e-02\n -1.55036384e-02 -4.76958137e-03  3.51586305e-02  1.06987655e-01\n -2.66864337e-02 -3.55169922e-02  5.79900155e-03  3.57675040e-03\n  9.45932791e-02  1.14713889e-03  1.90575197e-02  9.34889354e-03\n  3.84385288e-02  2.20725480e-02 -1.55390771e-02  4.11346257e-02\n  2.40089688e-02 -1.22618370e-01  1.77851375e-02  4.28338796e-02\n  3.38522829e-02 -3.96215692e-02 -5.11064380e-02  1.78896002e-02\n  1.54011399e-02 -2.63817757e-02 -7.94970337e-03  8.37377384e-02\n  5.73893562e-02  3.80653446e-03  3.67959701e-02 -1.19226068e-01\n -2.06413306e-02  5.56696020e-02 -1.57838520e-02  3.94826978e-02\n  5.26837781e-02 -2.61608493e-02  4.49546911e-02 -5.31711653e-02\n -1.40055632e-02  5.06084934e-02 -3.25574130e-02 -7.59077072e-03\n -4.80611958e-02  2.52850796e-03  3.51885147e-02 -3.78444530e-02\n  3.39778103e-02 -2.53777150e-02  9.36648995e-03 -6.90316665e-04\n -3.76952179e-02  7.44858943e-03  1.57739036e-02 -3.30822319e-02\n -2.46148780e-02 -5.56176109e-03 -4.94625419e-02  2.63474230e-02\n -4.40421291e-02 -3.86238061e-02  6.54230937e-02 -4.88820532e-03\n  3.25270779e-02 -4.86211805e-03 -1.00042159e-02  2.52212267e-02\n -4.22687121e-02 -3.14492092e-04  2.16697566e-02 -1.10373544e-02\n -5.01229279e-02 -3.61265168e-02  2.98679937e-02  4.99621369e-02\n -4.04991489e-03  2.72034556e-02  6.71614408e-02 -1.92767009e-02\n -5.29413670e-02 -7.61549696e-02  9.09132231e-03 -1.45642599e-02\n  4.00749296e-02 -2.48381253e-02 -2.10826658e-02  2.43928488e-02]",
         " she's rather sick with some obscure malaise"
        ],
        [
         "31",
         "31",
         "Your Song",
         "i don't have much money but boy if i did. i'd buy a big house where we both could live. . if i was a sculptor but then again no. or a man who makes potions in a travelin' show. oh i i know it's not much but it's the best i can do. my gift is my song. and this one's for you. . and you can tell everybody this is your song. it may be quite simple but now that it's done. i hope you don't mind. i hope you don't mind. that i put down in words. how wonderful life is while you're in the world. . . how wonderful life is while you're in the world. . . so excuse me forgetting. but these things i do. you see i've forgotten. if they're green or they're blue. anyway the thing is what i really mean. yours are the sweetest eyes that i've ever seen. . . and you can tell everybody this is your song. it may be quite simple but now that it's done. i hope you don't mind. i hope you don't mind. that i put down in words. how wonderful life is while you're in the world. . i hope you don't mind. i hope you don't mind. that i put down in words. how wonderful life is. how wonderful life is. how wonderful life is. while you're in the world",
         "0.02",
         "0.731",
         "0.249",
         "0.9966",
         "[ 1.12917572e-02  2.35985164e-02 -3.43236327e-03  2.51723919e-02\n  9.50113758e-02 -1.09397406e-02 -6.30470738e-02 -1.09869968e-02\n  2.82103661e-02  5.33920154e-02 -1.92773044e-02 -3.41694169e-02\n -1.20710041e-02 -1.58237591e-02  3.17357667e-02  6.62229732e-02\n -2.23633181e-03 -2.07210351e-02 -4.25094664e-02  6.10397523e-03\n  4.43895254e-03  2.82778908e-02 -2.60375030e-02  5.01434430e-02\n  3.32806408e-02 -4.66953218e-02  5.47494590e-02  4.17383611e-02\n -3.70016857e-03 -1.07403491e-02  2.63882075e-02 -6.39086515e-02\n -2.34832447e-02 -4.07681353e-02  4.23220880e-02 -6.56363554e-03\n  2.33685840e-02 -4.41063661e-03  5.63438125e-02  1.19060173e-03\n -7.74257630e-02  3.90847493e-03  1.34162474e-02  3.39314230e-02\n -9.29215550e-02 -2.65628453e-02 -6.21475652e-03 -4.15392146e-02\n -5.43683618e-02  2.88196187e-02 -6.28158525e-02 -5.79433516e-02\n -3.71944485e-03 -1.01435194e-02  9.68391076e-02  3.22939688e-03\n -2.09890921e-02 -4.70310375e-02  2.95836367e-02  4.77715172e-02\n -1.81036219e-02 -1.75732020e-02 -1.41602242e-02 -2.42954143e-03\n -1.70211475e-02  3.28504443e-02 -2.69770380e-02 -7.65154557e-03\n  2.65945606e-02  2.02968027e-02 -2.28831149e-03  1.56706665e-02\n  1.42702628e-02 -1.76013410e-02  4.52878363e-02  2.25697644e-02\n -2.48328838e-02 -2.21051835e-02  3.28643620e-02  3.49729322e-02\n  2.24928763e-02 -7.74455294e-02  8.00309796e-03  1.17691867e-02\n -1.63415838e-02  2.66094673e-02  1.40873305e-02  1.86321989e-03\n -1.76366679e-02  1.77407376e-02 -8.28843005e-03 -3.76993008e-02\n  1.05466926e-02  1.77783705e-02 -1.72143541e-02  1.13088405e-03\n -2.52354871e-02  8.43282267e-02  2.04350427e-02 -5.35120443e-02\n  1.27444729e-01  2.40476280e-02 -1.91297848e-02  2.89464053e-02\n -3.60096507e-02 -4.15724069e-02  1.66730303e-02  3.35449213e-03\n -1.12936869e-02 -5.70704928e-03 -8.46372917e-03  1.44367563e-02\n  1.47242630e-02  3.23711708e-02 -1.13001302e-01  4.87484895e-02\n  2.81883385e-02 -5.22767939e-02 -3.94519884e-03 -3.87475230e-02\n -2.54039336e-02  1.15562938e-02  9.02208406e-03 -1.35610485e-02\n  7.79912865e-04 -2.22895220e-02  3.50641273e-02 -4.55717333e-02\n  3.69690708e-03  2.74616051e-02  2.53995638e-02  1.91981960e-02\n -9.94259142e-04 -5.68522513e-02 -3.55358124e-02  5.01444272e-04\n -3.56500223e-02 -1.51029518e-02  5.11922687e-03  1.73687600e-02\n -3.30727994e-02 -1.28739839e-02  3.75926830e-02 -6.20417334e-02\n  5.06490432e-02  7.64061091e-03 -1.39774466e-02 -6.92334911e-03\n -5.52229304e-03 -5.36441244e-02 -3.61254215e-02  5.28287850e-02\n -2.67172866e-02 -6.36083260e-03 -2.19837925e-03  7.99996604e-04\n  1.45348459e-02  5.90197146e-02  1.85162500e-02 -1.32033052e-02\n -2.46787388e-02  3.55859734e-02 -3.49050611e-02  5.94751276e-02\n  4.10950966e-02 -2.30760071e-02  1.25127388e-02  5.33643290e-02\n  2.31281389e-02  6.17269464e-02 -8.39087646e-03  1.61737669e-02\n  9.16566923e-02  3.54888961e-02  3.36750373e-02  4.42969166e-02\n -4.33390727e-03  4.50360551e-02 -1.34320883e-02  3.88311446e-02\n -1.01882601e-02 -5.21890484e-02  1.22817494e-02 -4.82120141e-02\n -5.70861157e-03 -1.98931284e-02  8.66473559e-03 -9.61346459e-03\n  4.67481371e-03  5.54091902e-03 -5.77729754e-03  5.33129424e-02\n  4.61582094e-03  5.45535795e-02  5.24897017e-02 -4.48602773e-02\n -3.02993767e-02 -4.13704989e-03  4.26558638e-03  7.42278481e-03\n  3.77948619e-02 -9.29161385e-02 -2.52452176e-02  4.84597264e-03\n  2.30634678e-02  2.15973314e-02  4.94466871e-02 -4.47203591e-02\n  1.15554985e-02  5.44572957e-02 -1.83333941e-02 -5.73581969e-03\n -4.00716402e-02  2.58299969e-02  8.79826769e-03  1.59781158e-01\n -3.13504264e-02  7.95162655e-03 -9.62517317e-03 -1.22961039e-02\n  9.90122091e-03  6.28477260e-02 -9.01150703e-03 -3.78900617e-02\n -3.56116444e-02 -3.00277416e-02  1.02044828e-02  6.83665723e-02\n  6.86615240e-05 -3.55159305e-03  3.66886109e-02 -2.34717503e-02\n  3.45621221e-02  7.30117038e-02 -1.66478865e-02  1.62476599e-02\n  7.86633641e-02 -4.90097841e-03 -1.47573762e-02  2.78199147e-02\n -9.94754676e-03  6.89348951e-03  2.01251302e-02 -2.99265813e-02\n  1.71591174e-02 -1.59188267e-02  6.27448363e-03 -2.92941416e-03\n  1.90405380e-02  1.47946468e-02 -1.40070021e-02 -3.46574420e-03\n -1.03065576e-02  4.85067591e-02  1.91395525e-02 -1.89095195e-02\n -1.43233370e-02  9.22592077e-03  7.07502291e-03  2.06447411e-02\n -5.14456667e-02  6.33258093e-03 -6.90328190e-03 -4.43500094e-03\n -4.47631776e-02 -2.35875603e-02 -6.80679157e-02 -1.18815489e-02\n  5.34422090e-03 -2.06180289e-02  1.97738446e-02  1.85716040e-02\n  1.47644719e-02 -4.61395979e-02 -2.21836865e-02  7.77865993e-03\n -3.78153399e-02 -6.95344107e-03  3.89758162e-02  6.43879622e-02\n -3.79093178e-02  2.62666959e-03  3.32296826e-02 -6.65650144e-02\n -1.40550197e-03 -2.17216406e-02  2.43566860e-03  4.00523096e-02\n -5.05026020e-02  2.86864284e-02 -4.17025648e-02  7.26587549e-02\n -4.49533276e-02  4.60409522e-02 -6.76337034e-02  3.63572016e-02\n -2.64353072e-03 -9.30849835e-03  1.21248709e-02 -1.09957285e-01\n  4.61680535e-03 -2.15869155e-02  4.21226807e-02  6.73857704e-02\n  3.35569074e-03 -7.77607923e-03 -4.96372068e-03  1.72802210e-02\n -1.03972964e-02  6.91783847e-03  4.88909483e-02 -7.68498927e-02\n -2.27994397e-02  2.71413252e-02 -2.96572354e-02 -6.16446137e-03\n  2.39301380e-02  4.95902728e-03 -4.28587869e-02  5.66225313e-02\n  5.54638505e-02  4.84354347e-02 -2.63527613e-02 -3.02330591e-02\n -4.68485169e-02  4.75594290e-02 -1.03928391e-02 -1.07350927e-02\n  1.17208045e-02 -4.90512140e-02  1.01764528e-02  1.79943610e-02\n  3.93182039e-03 -2.97850426e-02 -3.25892530e-02  6.78496286e-02\n  4.76162042e-03  1.51353190e-02  7.32230535e-03  3.37602161e-02\n -5.69278316e-04  3.00689936e-02  3.00621856e-02 -1.52072320e-02\n  6.36827275e-02  5.83753996e-02 -1.69576239e-02  4.89255376e-02\n  2.85069272e-02 -1.04369931e-02  9.90470871e-03 -8.69500218e-04\n -6.27484471e-02 -4.01316807e-02 -2.31603999e-02  4.20965329e-02\n  4.66592871e-02  5.20713218e-02 -3.86751294e-02 -1.38711901e-02\n  5.27962903e-03  4.78517711e-02  3.60453762e-02 -5.46415001e-02\n  2.79306769e-02  2.43584923e-02  7.12329894e-02  5.94907552e-02\n -8.57053697e-03  4.20976169e-02  7.61159137e-03  2.53514182e-02\n -6.60158833e-03  1.24285212e-02  1.55112799e-02 -7.02636763e-02\n -7.02075213e-02 -3.61820188e-04  2.18905136e-02 -3.01252473e-02\n -2.17033215e-02 -3.61646637e-02  8.18998273e-03 -8.11832771e-03\n  4.39440738e-03  5.18340729e-02  3.48333977e-02 -1.81886144e-02\n  9.87085793e-03  4.06713225e-02  2.39309277e-02  4.96182367e-02\n  1.13231875e-03  3.41201462e-02  2.95343157e-03 -6.34224562e-04\n  1.63842663e-02  4.61210683e-02 -2.02645790e-02 -7.05106705e-02\n  3.32891755e-02 -7.75663331e-02 -3.71874496e-03  2.68722605e-03\n  2.17133816e-02 -2.76624709e-02 -4.64711338e-03 -8.33837502e-03\n -3.46855968e-02 -4.03839303e-03 -3.62315029e-02 -1.90469995e-02\n -1.16237877e-02  1.82158884e-03 -4.66338322e-02 -5.22648655e-02\n  1.41714588e-02 -1.34302757e-03 -3.98241244e-02 -1.82102546e-02\n -1.96913350e-02  3.00164800e-02  6.61324663e-03 -4.50122021e-02\n -3.92823815e-02 -3.50584872e-02 -4.42051664e-02  9.81503054e-02\n  2.37301290e-02  2.44692955e-02  7.02912435e-02  2.21019872e-02\n  4.60643470e-02 -5.03635071e-02 -3.24174911e-02 -2.26701126e-02\n -6.47547981e-03 -1.68151855e-02  4.27343976e-03  1.17338530e-03\n  4.39555719e-02 -9.36973840e-02  3.65525521e-02 -1.41678192e-02\n  1.47707313e-02 -3.11556160e-02 -2.66522113e-02 -9.68708191e-03\n -5.30346632e-02 -6.66872859e-02  3.28298248e-02  9.54918563e-02\n  6.17451034e-03 -6.76556304e-03  1.66062936e-02 -1.28681868e-01\n -3.01497113e-02  1.70117319e-02 -1.26813138e-02  6.43975940e-03\n  2.52024829e-02 -3.64761613e-02  4.54439148e-02  1.04716104e-02\n -1.93054415e-02  2.85483561e-02  3.34688090e-02 -1.85731947e-02\n -3.55577581e-02  7.17461715e-03  1.78331248e-02 -2.82941945e-02\n -4.76076379e-02  6.09215647e-02  1.84602123e-02  1.05829947e-02\n -2.51192022e-02  4.44068462e-02 -4.17727605e-02 -3.78946145e-03\n -2.49265712e-02  7.31560662e-02 -3.79399844e-02  1.41563611e-02\n  3.63897309e-02 -4.88413759e-02  3.70901302e-02 -3.01443618e-02\n -1.11986119e-02  1.70916468e-02 -4.18474991e-03  1.40629355e-02\n -2.53473893e-02  5.61475148e-03  3.14608961e-02  1.81556158e-02\n  5.74216188e-04 -9.99559369e-03  4.71005403e-02 -1.71386674e-02\n  9.82523616e-03  4.53856913e-03  1.04726829e-01 -1.66598801e-02\n  4.49013337e-02 -3.50855924e-02  2.61775758e-02 -2.68678591e-02\n  5.28131649e-02 -4.38698493e-02  2.44868100e-02  1.75730325e-02]",
         " how wonderful life is while you're in the world"
        ],
        [
         "32",
         "32",
         "I’m Alive (Live)",
         "i am what you want me to be. and i'm your worst fear. you'll find it in me. come closer. come closer. . i am more than memory. i am what might be. i am mystery. you know me. so show me. . when i appear it's. not so clear if. i'm a simple spirit. or i'm flesh and blood. . . but i'm alive i'm alive i am so alive. and i feed on the fear that's behind your eyes. . and i need you to need me. it's no surprise. i'm alive. so alive. i'm alive. . . i am flame and i am fire. i am destruction decay and desire. i'll hurt you. i'll heal you. . i'm your wish your dream come true. and i am your darkest nightmare too. i've shown you. i own you. . and though you made me. you can't tame me. i'm the perfect stranger. who knows you too well. . . and i'm alive i'm alive i am so alive. and i'll tell you the truth if you let me try. you're alive i'm alive and i'll show why. . i'm alive. so alive. i'm alive. . . i'm right behind you. you say forget but i remind you. you can try to hide. you know that i will find you. 'cause if you won't grieve me. you won't leave me behind. . ah oh oh. whoa whoa. . . no no no. i'm alive i'm alive i am so alive. if you climb on my back then we both can fly. if you try to deny me i'll never die. . i'm alive. so alive. i'm alive. yeah yeah. . i'm alive. i'm alive. i'm alive. i'm alive",
         "0.135",
         "0.53",
         "0.335",
         "0.9972",
         "[-1.78748686e-02  2.27878075e-02  7.85460789e-03  1.00340918e-02\n  8.11504647e-02  9.98704731e-02 -5.23888953e-02 -9.82968137e-02\n -2.55152620e-02  4.08802275e-03 -2.50634737e-02  4.77986149e-02\n -8.47256482e-02  1.87262334e-02  1.68397147e-02  7.54426047e-02\n -1.21880593e-02 -2.46935375e-02 -2.78573739e-03  4.32949625e-02\n -2.76380368e-02 -4.95502129e-02 -1.13820815e-02  7.56032541e-02\n -9.33426712e-03 -1.68357044e-02 -1.23360232e-02 -2.84469910e-02\n  1.77530125e-02 -6.69548707e-03 -2.37515066e-02  4.45883684e-02\n -1.73315853e-02 -5.42304106e-02 -3.63321081e-02 -6.91709528e-03\n  3.91157418e-02 -3.43819521e-02 -1.96232591e-02  1.94913074e-02\n -1.88022666e-02 -2.33779978e-02 -7.29976594e-02  1.66285764e-02\n -2.26946045e-02  5.22975996e-02  1.18985046e-02 -2.31949911e-02\n -4.18547774e-03 -8.07347521e-03 -3.96198854e-02 -3.42027820e-03\n  4.55325004e-03  3.21311876e-02  3.45903970e-02 -3.03071365e-03\n -2.56577060e-02  3.09884120e-02  5.24333529e-02  1.73549205e-02\n -3.91582660e-02  8.42433125e-02  9.19341855e-03  6.81749429e-04\n -2.02947743e-02 -6.27402076e-03  5.48128709e-02 -2.34103389e-02\n  1.60414260e-02  3.93811092e-02  3.83304767e-02  5.30788638e-02\n  5.83616309e-02  3.49163376e-02  6.52362630e-02  2.81330328e-02\n  1.61197316e-02 -1.22159515e-02  1.57968402e-02 -7.46303983e-03\n  5.15033230e-02 -7.14192837e-02  7.16136470e-02 -4.37933728e-02\n  4.36302125e-02  1.04614459e-01  8.07292201e-03 -6.05264911e-03\n -8.00640509e-03 -2.04625481e-04  4.62668352e-02  5.90397306e-02\n  3.72260287e-02  6.50995271e-03 -4.40305434e-02  3.96233564e-03\n -2.86893956e-02  1.06665967e-02  4.58039194e-02 -3.57205682e-02\n -2.20590997e-02  8.87761265e-03 -7.76436850e-02  4.61518094e-02\n -8.00875016e-03 -7.09653422e-02  6.54136315e-02  4.21563201e-02\n -4.30193655e-02  6.55154558e-03  2.89274994e-02  1.02163069e-02\n  6.01525791e-02 -1.25588709e-02 -1.03749104e-01  6.20565079e-02\n  2.14952324e-02 -1.48662636e-02  1.92054361e-02  1.11155827e-02\n  1.45465415e-02  3.21495440e-03  5.62941208e-02 -2.67023463e-02\n  2.71340385e-02 -1.23082390e-02 -3.60582359e-02 -1.25173200e-02\n -4.77468185e-02  2.01720353e-02  5.02403593e-03 -5.57540171e-03\n  5.24617024e-02 -2.00474951e-02  5.19483313e-02  3.51973400e-02\n -8.96489099e-02 -1.07427360e-04  1.74562652e-02  6.01381250e-03\n -2.35056467e-02  4.14393134e-02  5.70402257e-02 -3.85076813e-02\n  7.30800023e-03 -3.08588170e-03  2.28895135e-02  1.32581033e-02\n  4.85989377e-02 -2.08576526e-02 -7.30697415e-04  7.94265121e-02\n  2.20942707e-03  2.82179634e-03 -3.41176465e-02  8.09180550e-03\n  7.17646182e-02  7.62398839e-02 -1.27654579e-02  2.73262500e-03\n -1.28042866e-02 -4.34493497e-02 -1.97874308e-02  4.98705208e-02\n -2.08026394e-02 -3.56474426e-03 -4.56388779e-02  1.67377293e-02\n -6.60040826e-02  2.77893990e-02  2.65426934e-02  2.92810295e-02\n  3.35492156e-02  8.41268152e-02 -3.56391585e-03  5.20725846e-02\n  2.29070242e-02  4.92443852e-02  1.13775497e-02  3.17609757e-02\n  2.43882351e-02  2.26530526e-02 -4.18813415e-02  6.08979666e-04\n -6.55026436e-02 -3.23430337e-02  9.77028161e-03 -2.77413167e-02\n -4.39373553e-02 -3.50002460e-02 -5.16417250e-03  7.07370639e-02\n  2.79184021e-02 -5.80178481e-03  4.95686149e-03 -1.44524602e-02\n -7.54726827e-02 -3.01021733e-03  5.50039287e-04 -1.74496882e-02\n -2.77403137e-03 -1.00908235e-01  1.16795739e-02 -2.09797062e-02\n -1.05241977e-03  5.30473366e-02 -3.83278206e-02 -3.39215584e-02\n  1.46840820e-02 -8.56463518e-03 -5.01733907e-02  1.62511989e-02\n -6.82799052e-03  4.60112654e-02 -8.09687898e-02  8.08669552e-02\n -5.08615747e-02 -1.47496695e-02 -2.04022247e-02  1.02007519e-02\n -4.25250782e-03 -2.69842483e-02  2.91273762e-02 -2.01335698e-02\n -2.81819571e-02 -2.79100500e-02  2.34428775e-02  1.94163062e-02\n  6.62509948e-02  6.60064369e-02  3.64845283e-02 -1.20500801e-02\n -3.39294747e-02 -3.80378999e-02 -1.31471851e-03  2.41705924e-02\n  4.67960648e-02 -9.72499419e-03 -3.70172039e-02  2.81051751e-02\n -4.22561215e-03 -1.57472827e-02 -1.23165185e-02  2.40103640e-02\n  1.78200342e-02 -2.51623360e-03  3.53579856e-02  2.03738399e-02\n  1.59347188e-02 -1.89799257e-02  4.54609981e-03 -5.74531918e-03\n -2.38719899e-02  3.01603731e-02 -5.98274311e-03 -1.52726786e-03\n  3.76604460e-02 -5.48864622e-03  6.37755170e-02 -2.67213397e-02\n  9.56555130e-04 -8.87350272e-03 -1.45202866e-02  3.55660282e-02\n -1.63583811e-02 -1.03004817e-02 -5.54307066e-02  4.28373590e-02\n  1.44532602e-02 -3.92339416e-02  7.84257576e-02  4.56943773e-02\n  1.19964248e-02 -5.00300825e-02 -4.21595313e-02  9.13642813e-03\n  4.15101871e-02  4.18933257e-02 -2.05317382e-02  1.84146538e-02\n -2.19565593e-02 -8.93488750e-02  3.74164544e-02  6.24231771e-02\n -2.56510898e-02  1.73446983e-02 -4.93995324e-02 -1.10345175e-02\n  1.91106144e-02 -2.10687518e-02 -3.59035730e-02  7.57721299e-03\n -3.07867266e-02  8.83792993e-03 -6.50824085e-02 -1.77422725e-02\n -1.62422433e-02 -3.08726169e-02  4.05973718e-02 -8.31834152e-02\n  4.92383651e-02 -6.21006638e-02  5.62540516e-02  1.68111399e-02\n -4.28677201e-02  2.00170707e-02  1.15640908e-02 -5.15146356e-04\n -5.78985550e-02 -1.39407888e-02  8.97881389e-02 -1.36754718e-02\n  5.02835214e-02  8.21929425e-02  1.20095313e-02  2.53947405e-03\n -4.46688235e-02 -3.68478224e-02  1.88671723e-02  3.43227796e-02\n  1.62544253e-04  7.06197247e-02  1.49148153e-02  8.36906116e-03\n -3.73559975e-04 -2.07577250e-04  6.31149337e-02  1.18666887e-02\n -1.78145021e-02 -3.21001634e-02  1.71456933e-02  2.96237729e-02\n -4.61063319e-04  3.99756804e-02 -3.57204862e-02  1.91744566e-02\n -3.22981104e-02  3.93398106e-02  9.22626536e-03 -2.20665764e-02\n  7.82420207e-03 -1.27850035e-02  3.86120528e-02  2.53244210e-02\n  6.29186034e-02 -3.03190537e-02 -6.56954348e-02  5.80614954e-02\n  4.59400192e-02 -1.48576694e-02  7.87979085e-03  9.04449541e-03\n -4.48832475e-02 -2.90235616e-02 -3.96347903e-02 -7.10125593e-03\n  4.11358755e-03  1.85116660e-03  1.13274567e-02 -4.18821387e-02\n -3.96197438e-02  2.43519563e-02  7.88801908e-02 -4.01481912e-02\n -5.95030794e-03 -2.18550265e-02  8.19731038e-03  1.72266196e-02\n -3.74721512e-02  1.90407634e-02 -5.54715917e-02  4.16713813e-03\n -3.50507386e-02  7.56254420e-02 -6.52168319e-02  1.52791291e-02\n  5.58307990e-02 -5.65529577e-02  4.54664193e-02  1.38562769e-02\n  5.01380116e-02 -1.71751883e-02  6.69533899e-03 -2.63945595e-03\n  2.70408094e-02 -1.91516858e-02 -2.24911813e-02  2.85201184e-02\n  3.64570203e-03 -4.60069031e-02 -1.53960325e-02 -7.04685822e-02\n -4.11042348e-02 -2.70367414e-03  3.35297128e-03 -5.70244230e-02\n -2.79214624e-02 -3.68791930e-02  4.19151112e-02  1.50802396e-02\n  5.13891578e-02 -4.42847982e-02 -5.20463986e-03  4.44446178e-03\n -4.44904976e-02  3.42900306e-02  4.59401421e-02  5.89841865e-02\n  4.81538795e-04 -3.25376936e-03  1.62357651e-02  3.68470885e-02\n  1.29667781e-02 -4.42863180e-04 -1.20962970e-02  1.15582589e-02\n  5.43685555e-02  2.71086339e-02 -2.80117877e-02 -5.19507751e-02\n  2.09600646e-02  6.89790994e-02  6.48169545e-03  7.75448382e-02\n  4.17827768e-03 -1.33351674e-02 -1.14274658e-02  4.83306497e-02\n  7.27945119e-02 -5.74666634e-02  3.05603556e-02  2.86662020e-02\n  7.18559325e-02 -1.18541829e-02 -3.75187322e-02  2.63869427e-02\n -3.34813222e-02 -1.33418851e-02 -3.61565650e-02  5.82755823e-03\n -8.74008983e-05 -9.83492360e-02 -8.11429396e-02  6.82956027e-03\n  3.77703868e-02 -3.60105820e-02 -5.63481301e-02  2.35899687e-02\n -2.20427942e-03 -7.44024571e-03  3.63631435e-02  5.30549698e-02\n  1.58987623e-02  4.16902266e-02 -2.42849886e-02 -7.21413717e-02\n  3.07905693e-02  8.57501850e-02 -4.08829302e-02  2.16929764e-02\n -3.76168340e-02 -6.36540130e-02  4.50005569e-02  6.07123896e-02\n -2.34524775e-02  9.15607139e-02 -2.13891063e-02 -8.08217451e-02\n -2.41873749e-02 -9.97561291e-02  4.60637249e-02 -1.83742237e-03\n -3.67484018e-02  6.42587617e-02 -5.86477621e-03 -4.27055918e-02\n -5.80585040e-02 -4.66011837e-03  4.95538302e-03 -9.52710584e-03\n  3.99214551e-02  1.42425569e-02 -5.04873581e-02 -1.57552212e-02\n  6.87035695e-02 -7.13374391e-02 -1.32477377e-02  4.47154045e-03\n  9.38418135e-02 -6.06221780e-02  6.76564425e-02 -2.78690383e-02\n -1.65204946e-02 -1.12594105e-02 -2.03799130e-03  4.33453918e-03\n -6.47888519e-03  7.20688095e-03  7.06434948e-03  1.32317171e-02\n  1.92438737e-02 -2.19799560e-02  1.15603365e-01  3.11301034e-02\n  4.94188480e-02 -5.36365807e-02  4.45709899e-02  3.68007533e-02\n -2.29775310e-02 -4.34986204e-02 -2.78907660e-02  9.00702327e-02]",
         " i'm alive"
        ],
        [
         "33",
         "33",
         "Summer Nights - From \"Grease Live!\" Music From The Television Event",
         "summer lovin' had me a blast. summer lovin' happened so fast. met a girl crazy for me. met a boy cute as can be. summer days drifting away. to uh oh those summer nights. . . wella wella wella uh. tell me more tell me more. did you get very far. tell me more tell me more. like does he have a car. ahha ahha ahha ahha. . . she swam by me she got a cramp. he ran by me got my suit damp. i saved her life she nearly drowned. he showed off splashing around. summer sun something's begun. but uh oh those summer nights. . . wella wella wella uh. tell me more tell me more. was it love at first sight. tell me more tell me more. did she put up a fight. ah shoobie doo shoobie doo. shoobie ah do shoobie do. shoobie ah shoobie do. shoobie ah do shoobie do. . . took her bowling in the arcade. we went strolling drank lemonade. we made out under the dock. we stayed out till ten o'clock. summer fling don't mean a thing. but uh oh those summer nights. woah woah woah. . . tell me more tell me more. but you don't gotta brag. tell me more tell me more. 'cause he sounds like a drag. shoodie bop bop shoodie bop bop. shoodie bop bop shoodie bop bop. shoodie bop bop shoodie bop bop. shoodie bop bop yeah. . . he got friendly holding my hand. well she got friendly down in the sand. he was sweet just turned eighteen. well she was good you know what i mean. summer heat boy and girl meet. but uh oh those summer nights. . . tell me more tell me more. how much dough did he spend. tell me more tell me more. could she get me a friend. . . it turned colder that's where it ends. so i told her we'd still be friends. then we made our true love vow. wonder what she's doin' now. summer dreams ripped at the seams. but oh those summer nights. tell me more tell me more",
         "0.029",
         "0.798",
         "0.173",
         "0.9958",
         "[ 6.03217594e-02  5.72789051e-02 -6.48237988e-02 -1.09852487e-02\n  3.09936758e-02 -3.81834209e-02 -4.51423414e-02  8.44011642e-03\n  3.29605490e-02  7.41968900e-02 -7.89125264e-03 -5.32115959e-02\n -2.78750062e-02 -2.06040218e-02  9.85005312e-03  5.13755009e-02\n -3.75070870e-02 -3.26224864e-02 -3.30477431e-02  7.26982811e-03\n  5.60471304e-02 -6.34124642e-03  1.43316630e-02  6.63633496e-02\n  5.42094558e-03 -3.35897766e-02 -1.52429007e-02  1.33580882e-02\n -3.88370119e-02  5.92734516e-02  1.03979722e-01  6.63511455e-02\n -6.33748844e-02 -1.90473888e-02 -6.05025003e-03 -1.96174113e-03\n -2.43767630e-02 -1.50993629e-03 -9.72521084e-04 -4.66745049e-02\n -5.97326048e-02 -1.79336257e-02 -2.41038240e-02 -2.02816930e-02\n -4.42712046e-02  1.39549933e-02  3.79844345e-02 -1.90111119e-02\n -1.12244822e-02 -6.04384986e-04 -8.20969231e-03 -3.78761292e-02\n  1.46618541e-02  8.10474828e-02  2.91341133e-02  1.40571557e-02\n -3.39701101e-02 -4.99274582e-02 -2.23774277e-02 -2.83845086e-02\n -3.06411553e-02  8.35285243e-03  1.94330383e-02  1.38402628e-02\n -2.15049461e-02  2.09106375e-02 -5.06769158e-02 -5.93181849e-02\n -2.92159915e-02  3.93294990e-02  3.38436253e-02 -4.86368611e-02\n -1.77812465e-02 -9.55809560e-03  8.19337368e-02  1.73572041e-02\n -1.05561592e-01  2.07647793e-02 -9.28089693e-02 -5.66047020e-02\n  1.76180918e-02 -8.56711492e-02  4.04895470e-02 -3.25958128e-03\n -1.36923455e-02  4.79044355e-02 -4.94470214e-03 -3.52429077e-02\n -1.16011482e-02 -3.61567549e-02  6.81783333e-02  4.69222739e-02\n -4.72328113e-03 -7.23856091e-02 -5.05872034e-02 -2.86604576e-02\n -4.57770154e-02  2.99396310e-02 -1.17756072e-02  9.44738928e-03\n  1.46749662e-02 -1.56239187e-02 -6.03948459e-02  4.99984808e-02\n -2.43675113e-02 -4.83827898e-03 -1.26461834e-02 -2.87822671e-02\n  5.65592200e-02  2.00836342e-02  8.90957098e-03 -3.45410444e-02\n  8.78962278e-02 -4.44332436e-02 -4.91935425e-02  2.28375979e-02\n -1.20436139e-02  4.51162048e-02  2.85087544e-02  4.11825255e-03\n -4.70501147e-02 -2.85529662e-02  4.84915972e-02 -4.30412181e-02\n  4.67109419e-02 -6.31086752e-02 -1.70251317e-02 -1.94237416e-03\n -1.22890584e-02 -1.16287014e-02  3.76368649e-02 -1.47734294e-02\n  1.01654148e-02 -1.43599445e-02  5.84462509e-02 -5.60468808e-03\n -2.95606721e-02 -5.79301035e-03  7.08258664e-03  4.68127877e-02\n -4.45252620e-02  8.60740244e-03  1.61744300e-02 -1.50042884e-02\n -3.37098017e-02 -5.38828522e-02  3.20779718e-02  4.61833030e-02\n  1.85017176e-02  2.78527522e-03  4.41893786e-02  4.09506708e-02\n -1.14107534e-01 -2.41691209e-02  8.65260884e-02  3.37653644e-02\n -1.19176814e-02  2.24830694e-02 -1.75712835e-02  2.44563515e-03\n -3.80665101e-02 -1.15070278e-02 -3.36064510e-02  6.21278537e-03\n -2.49373484e-02 -3.47161628e-02  2.48535182e-02  6.02143891e-02\n  5.18508181e-02 -3.60934064e-05  1.75497252e-02  4.21968773e-02\n  7.35373721e-02 -2.61182301e-02 -1.22655509e-02 -6.69032987e-03\n  2.58542821e-02  1.21283261e-02 -3.22891064e-02 -1.49016585e-02\n  1.11575341e-02 -2.88825552e-03 -8.85482319e-03 -9.14027616e-02\n  2.74517983e-02  5.63721592e-03  2.30134428e-02 -7.55452663e-02\n  7.82531127e-03  6.81979209e-02  4.37742807e-02  3.79296881e-03\n  6.64115418e-03 -2.00517941e-02  1.13855086e-01 -7.34161139e-02\n -1.68781672e-02 -1.62223987e-02  2.97160223e-02  2.06757407e-03\n  5.17029501e-02 -1.17005281e-01  4.59490567e-02  7.46931136e-03\n  1.09722009e-02  1.18735721e-02  3.83036919e-02 -2.06027888e-02\n -2.68819332e-02  5.81751578e-02  2.31776871e-02  8.43208805e-02\n  3.13942358e-02  6.17645234e-02 -1.16912443e-02  1.07919378e-03\n -4.51296084e-02 -1.66579697e-03  1.53962364e-02  2.50969175e-02\n -8.81343894e-03 -2.76103038e-02 -2.95567382e-02 -4.05639410e-02\n -4.61521484e-02 -5.17462268e-02 -9.49135646e-02 -2.43450981e-02\n  1.22308088e-02  3.97708490e-02  3.97860296e-02 -3.42103317e-02\n -4.98239696e-02 -1.00846170e-02  1.66142788e-02  1.64911058e-02\n  6.45340304e-04  3.07601336e-02 -6.65285811e-02  2.29344945e-02\n -1.68285649e-02  1.24648670e-02 -3.77789624e-02 -6.71223155e-04\n  3.43815014e-02 -8.17798227e-02  2.50775032e-02 -3.90328094e-02\n -2.29461230e-02  5.38779721e-02  6.40924275e-03  3.61158065e-02\n  2.69473568e-02 -1.99871454e-02  2.66676620e-02  1.20770675e-03\n  8.32225196e-03  8.55503082e-02  1.55459531e-02  4.49154191e-02\n -3.09906844e-02  4.26750593e-02  2.04287786e-02  1.97604243e-02\n  1.52502619e-02  1.16949212e-02 -3.07525881e-02  2.37996858e-02\n  4.77693247e-04 -8.12317338e-03  2.09303815e-02 -1.04686491e-01\n  3.08117811e-02 -1.72861852e-04 -2.86617000e-02 -5.12009040e-02\n  5.56703936e-03 -3.59506719e-02  5.34930900e-02  3.24173719e-02\n  4.36771549e-02 -5.69947623e-02  4.19932045e-02 -1.67889986e-02\n  5.09244204e-02 -2.40699947e-02 -5.15144169e-02  1.24154873e-02\n -6.28368556e-02  4.58237901e-02  1.55363949e-02  3.02341823e-02\n  1.02020197e-01 -2.02161307e-03 -4.80419584e-02 -2.75672171e-02\n  1.80513505e-02 -2.89540384e-02 -1.02596283e-02 -8.10871199e-02\n  5.51194027e-02  5.06804623e-02 -4.70579043e-03  1.66455600e-02\n -1.49199683e-02  2.32299753e-02 -1.81979425e-02 -5.81413927e-03\n -4.33239527e-02  7.22433208e-03  3.81411053e-02  2.45399326e-02\n -8.73737503e-04 -1.72287673e-02  1.23770284e-02  6.10441668e-03\n -6.25959737e-03 -3.04733068e-02  2.02067662e-02 -4.47505899e-02\n -6.86642854e-03  7.87452906e-02 -1.30590005e-03 -3.68984938e-02\n  1.95924193e-02 -1.14039471e-02 -2.79681943e-02  2.67514940e-02\n -1.85952149e-02  4.36860649e-03 -3.55972573e-02 -1.56997014e-02\n  4.18905206e-02  3.85981947e-02 -1.08247781e-02 -1.10655008e-02\n -2.14650817e-02  5.87578071e-03  2.28746329e-02  1.07565941e-03\n  1.12780957e-02  2.59749182e-02 -8.77045188e-03 -5.65133197e-03\n  7.35580549e-02 -2.50889137e-02  4.35711332e-02  6.63437098e-02\n -9.57179628e-03 -1.79167595e-02  2.47879792e-03 -1.06714470e-02\n -5.15856184e-02  4.58641414e-04 -1.21174762e-02 -5.08154184e-02\n  2.84890030e-02 -3.00669726e-02  1.40128225e-01 -6.65770844e-02\n -1.92125570e-02 -3.86626646e-02  1.88416839e-02  5.21294512e-02\n  6.20218031e-02  3.49874422e-02  3.19757648e-02 -8.98861364e-02\n  1.48519138e-02  2.22837925e-02  1.52169475e-02 -3.86245847e-02\n  3.37130539e-02  2.97765341e-02  1.38678188e-02 -5.49109764e-02\n -1.07099945e-02 -9.06548835e-03  4.78285328e-02 -6.98350742e-02\n -4.00282480e-02  1.05785811e-02  3.32629569e-02  4.62872759e-02\n  1.60985161e-02  2.40138080e-02  2.55765719e-03  5.74157052e-02\n  5.25532737e-02  1.84409171e-02 -4.15161029e-02  2.01173555e-02\n -4.03334685e-02 -4.08460349e-02 -5.44102713e-02 -8.02721921e-03\n  4.12023440e-02  5.18527701e-02  2.71001700e-02  4.19443147e-03\n -1.05947219e-02  3.48107377e-03 -1.13053052e-02 -1.40675241e-02\n -2.51154471e-02  6.67546242e-02  3.20658311e-02 -2.84081884e-02\n -4.12494093e-02  2.02310849e-02 -1.03599075e-02 -2.83484869e-02\n  3.35514452e-03  6.37910366e-02 -3.39299962e-02  2.80065164e-02\n  5.30490242e-02 -8.60565007e-02  2.46681310e-02 -2.18497142e-02\n -3.88458073e-02  4.33799215e-02 -3.28323841e-02 -2.06152145e-02\n -2.45250855e-02  4.22637612e-02 -3.00024431e-02  4.54653166e-02\n -1.71891432e-02  1.27185117e-02  2.05239058e-02  2.09091343e-02\n  6.60219416e-02 -2.75814030e-02  1.77442413e-02 -5.10601923e-02\n  3.92967761e-02  3.11332056e-04 -4.29563737e-03 -4.30323035e-02\n  8.07997771e-03 -1.28978685e-01  1.62154380e-02 -2.40364075e-02\n  2.35407967e-02 -7.80428797e-02 -7.66565502e-02  4.57114764e-02\n -2.86223684e-02  2.86145769e-02  2.89775953e-02  1.66926961e-02\n  4.99326102e-02  9.44558717e-03  8.00697133e-02 -9.23346505e-02\n -6.38431311e-03 -5.17449016e-03 -2.78408602e-02 -2.82886950e-03\n  1.49299139e-02 -2.64501497e-02  4.00736928e-02  8.32374499e-04\n -2.89658420e-02  1.50970183e-02  1.25877121e-02  1.03635108e-02\n  1.94437522e-03 -2.29921602e-02  1.62124690e-02 -4.00832854e-02\n -3.65841649e-02  3.33388597e-02  4.90372244e-04  2.80325711e-02\n -1.42425830e-02 -3.67808081e-02 -1.31252753e-02 -1.31777516e-02\n  6.61529554e-03 -5.10261301e-03 -6.88403025e-02 -1.20608034e-02\n  2.35120971e-02 -5.28273396e-02 -1.87672232e-03 -1.01753101e-01\n  1.19590769e-02  3.33534107e-02  2.46011782e-02  8.36845562e-02\n -1.95151416e-03 -2.03657970e-02  2.42972095e-02  1.79257430e-02\n -6.19907118e-02 -6.02678843e-02  7.08626956e-02 -2.21160017e-02\n -7.08588911e-03  1.88288148e-02  1.14402644e-01  6.98673446e-03\n  1.06530143e-02 -3.36196125e-02  1.06219180e-01 -3.29649039e-02\n  5.08302003e-02 -2.50255633e-02  9.06033558e-04  1.39830792e-02]",
         " to uh oh those summer nights"
        ],
        [
         "34",
         "34",
         "ABC Café / Red & Black",
         "the time is near. so near it's stirring the blood in their veins. and yet beware. don't let the wine go to your brains. we need a sign. to rally the people. to call them to arms. to bring them in line. . . marius wake up. what's wrong today. you look as if you've seen a ghost. . . some wine and say what's going on. . . a ghost you say a ghost maybe. she was just like a ghost to me. one minute there then she was gone. . . i am agog. i am aghast. is marius in love at last. i've never heard him 'ooh' and 'aah'. you talk of battles to be won. and here he comes like don juan. it's better than an opera. . . it is time for us all. to decide who we are. do we fight for the right. to a night at the opera now. have you asked of yourselves. what's the price you might pay. is this simply a game. for a rich young boy to play. the colours of the world. are changing day by day. . red  the blood of angry men. black  the dark of ages past. red  a world about to dawn. black  the night that ends at last. . . had you seen her today. you might know how it feels. to be struck to the bone. in a moment of breathless delight. had you been there today. you might also have known. how your world may be changed. in just one burst of light. and what was right seems wrong. and what was wrong seems right. . . red. . . i feel my soul on fire. . . black. . . my world if she's not there. . . red. . . it's the colour of desire. . . black. . . it's the colour of despair. . . marius you're no longer a child. i do not doubt you mean it well. but now there is a higher call. who cares about your lonely soul. we strive towards a larger goal. our little lives don't count at all. red. . .  the blood of angry men. black  the dark of ages past. red  a world about to dawn. black  the night that ends at last. . . listen everybody. . . general lamarque is dead. . . lamarque his death is the hour of fate. the people's man. his death is the sign we await. . on his funeral day they will honour his name. with the light of rebellion ablaze in their eyes. with their candles of grief we will kindle our flame. on the tomb of lamarque shall our barricade rise. the time is here. let us welcome it gladly with courage and cheer. . . let us take to the streets with no doubt in our hearts. . . with a jubilant shout. . . they will come one and all. . . they will come when we call",
         "0.126",
         "0.76",
         "0.114",
         "-0.4819",
         "[ 8.73650250e-04 -1.38956895e-02 -9.36544761e-02 -6.86684018e-03\n  7.33622983e-02  1.51595054e-02 -2.09084656e-02 -4.22701612e-02\n  9.87418275e-03  2.22520493e-02  1.19433505e-04  3.58586311e-02\n -3.10779680e-02 -3.74230891e-02 -1.26622217e-02  1.22975372e-02\n  2.95298523e-03 -1.26475021e-02 -4.21984047e-02 -4.78596948e-02\n -1.25788879e-02  2.99516264e-02 -6.35009408e-02  7.24384263e-02\n  1.86584529e-03 -3.50748524e-02  1.75790582e-02  6.18977025e-02\n  1.71502158e-02 -3.97578534e-03  5.93509339e-03 -1.84513628e-04\n -1.45993754e-02  1.31646860e-02 -8.51811767e-02  2.69906875e-02\n  1.33099239e-02 -4.04330855e-03 -6.38943985e-02  4.54890504e-02\n  1.75901293e-03 -1.82788167e-02 -3.67164873e-02 -6.68166298e-03\n  1.26497867e-02 -1.56847648e-02  5.00907078e-02  1.19889865e-03\n -7.14825094e-03 -1.18356021e-02 -9.46953148e-03  4.38276380e-02\n -5.29107579e-04  8.47284347e-02  1.45077880e-03  6.67614639e-02\n -6.96343333e-02  3.52742220e-03 -1.00879772e-02  4.81590303e-03\n -3.36528718e-02 -1.75619125e-02 -2.58630756e-02  3.96698080e-02\n -1.51501736e-02  3.28654051e-02  9.12510604e-03 -2.68579684e-02\n  3.26393284e-02  4.07133549e-02 -1.34342602e-02  4.34619701e-03\n  1.01864031e-02  1.87776387e-02 -4.21685446e-03 -5.53239090e-03\n -9.07397866e-02  2.42914110e-02 -8.30516510e-04  6.46760175e-03\n -4.61658835e-02 -7.54084736e-02  3.53960209e-02 -7.73428427e-03\n  5.50245605e-02  4.89043593e-02 -1.26498248e-02  5.55758029e-02\n -3.17157209e-02 -5.58523647e-03 -1.12876641e-02  4.55052070e-02\n -1.54505465e-02  7.00872466e-02 -1.93155874e-02  2.05207411e-02\n  2.53792387e-02 -3.12656648e-02  4.11700979e-02 -6.77383393e-02\n -1.54992985e-02 -5.08692712e-02 -7.88722858e-02 -6.06071763e-03\n -6.86100125e-03 -5.02464324e-02 -2.61201765e-02 -5.17576039e-02\n -5.94547205e-03  3.43489796e-02  2.03306437e-04 -9.17318091e-03\n  4.67020320e-03 -3.43798846e-03  3.47670354e-02  3.18727270e-02\n -4.10493724e-02 -6.34147152e-02  4.31731679e-02 -5.13788983e-02\n -6.66264892e-02 -8.20580795e-02  2.57437713e-02 -5.75395189e-02\n  5.65936975e-02  5.37305176e-02 -7.07597360e-02 -2.51514185e-02\n -1.48530127e-02 -4.84686568e-02  5.18751778e-02 -1.73190162e-02\n -3.89235531e-04 -5.05086128e-03  3.57815996e-02  2.49705371e-02\n  6.26259670e-02 -6.86366577e-03  3.78439166e-02 -7.71441311e-02\n  3.03016547e-02  1.00937055e-03  4.81516197e-02  2.34422088e-02\n -3.05344984e-02  6.22915337e-03 -1.41568705e-02  3.34454374e-03\n  4.24442720e-03  2.89533082e-02 -2.02752650e-02  6.55095503e-02\n  2.44921707e-02 -4.63133007e-02 -1.23465096e-03  5.44666499e-02\n  9.32029914e-03  6.95327744e-02  2.22262386e-02  3.89612303e-03\n  3.20845395e-02  4.49589081e-02  5.65204136e-02  1.84906442e-02\n -4.04682495e-02 -1.19825350e-02 -4.11881227e-03  5.60774691e-02\n -3.52002010e-02 -7.12733949e-03  6.20375713e-03  4.35089096e-02\n  3.05788983e-02  5.69266938e-02 -1.36552320e-03  3.85366827e-02\n  3.51731591e-02 -2.96173003e-02 -2.22164877e-02  3.40410955e-02\n -5.92478588e-02  1.27563858e-02 -2.40482623e-03 -5.78732900e-02\n -2.36041918e-02  2.58337334e-02  6.90838844e-02 -1.54369026e-02\n -7.02696815e-02 -2.64284797e-02 -2.81409863e-02  4.65933383e-02\n -2.72471085e-02 -3.04509746e-03  2.90676672e-02 -3.70160528e-02\n  4.07616906e-02 -2.44834963e-02 -4.40851860e-02 -5.25238458e-03\n  3.25980484e-02 -9.09645036e-02 -6.70795068e-02  1.19959172e-02\n  1.95946898e-02  1.27663724e-02  9.94003192e-03  5.65395737e-03\n  4.54237051e-02  2.42079608e-02  9.39541403e-03  5.13350964e-03\n -1.02056647e-02  2.27493085e-02 -2.03871727e-02 -1.58006363e-02\n -5.11352457e-02  2.51339818e-03 -8.05536099e-03  1.04808398e-02\n  2.85487324e-02  5.03861718e-03  2.85776164e-02 -5.49398130e-03\n -6.33134991e-02  9.26817209e-03  6.11663423e-03  1.74552631e-02\n  4.67010066e-02 -1.64967738e-02  3.79175469e-02  1.60872377e-02\n  1.36244800e-02 -1.01228476e-01 -6.29203627e-03  5.49728237e-02\n  1.20432777e-02 -6.22620340e-03 -2.94408333e-02  1.98607277e-02\n -3.98357473e-02  1.46601126e-02 -5.74023947e-02 -2.73424834e-02\n  2.48404481e-02  8.99227336e-03 -1.81676149e-02 -2.64721904e-02\n  3.36233824e-02  2.77257562e-02  4.20670994e-02  2.10183337e-02\n -6.53865561e-02 -2.43939273e-02 -4.77032401e-02 -6.99755251e-02\n  1.27052069e-02  3.32376249e-02  2.70256549e-02  1.01198807e-01\n  1.67454425e-02  2.41578240e-02 -8.81257355e-02  1.74170956e-02\n  1.60070062e-02 -7.73255453e-02 -6.43390194e-02 -1.58076119e-02\n  2.65396666e-02 -2.54547149e-02 -1.93263255e-02 -1.00801615e-02\n  5.69434986e-02  1.23613281e-02 -1.45553797e-02  6.12468785e-03\n  1.03673168e-01 -4.43827212e-02  2.08151042e-02 -1.95800252e-02\n -2.83945985e-02 -8.93183127e-02  4.15960513e-02  4.24279198e-02\n  1.51816970e-02 -2.61585321e-02  1.37396073e-02 -3.26314159e-02\n  3.14601474e-02  3.94038763e-03 -2.67354259e-03  2.71398183e-02\n  1.42766058e-01 -1.82500631e-02 -5.19787408e-02 -1.63451582e-02\n  1.79612096e-02  8.31128657e-03  2.81446390e-02 -4.88176085e-02\n -1.41316894e-02 -4.61739227e-02  6.61444804e-03  5.91944121e-02\n -2.12051552e-02  2.33014263e-02  2.31310949e-02  6.31063655e-02\n -1.76364444e-02 -1.50656067e-02  5.76213822e-02 -4.11109999e-03\n  1.71135124e-02  4.71345522e-02  5.24568669e-02 -2.53352779e-03\n  5.86236306e-02 -5.21460846e-02 -1.68844406e-02 -5.87450452e-02\n -2.49798298e-02  5.06841242e-02  2.97743245e-03 -1.38701741e-02\n -5.93147129e-02  5.86949810e-02  6.34657294e-02 -1.35739995e-02\n  2.09448449e-02  3.87021084e-03  8.27537701e-02  2.00468041e-02\n -8.78176652e-03  1.40443072e-02 -3.03625455e-03  1.02001084e-02\n  1.11011006e-02  6.94710910e-02  1.21168874e-03 -2.74138842e-02\n  4.37805168e-02 -7.62551054e-02  8.52731541e-02  7.90311173e-02\n  3.36333402e-02 -6.02149579e-04 -2.59668473e-02  5.18388972e-02\n -1.08508896e-02  2.24340092e-02  2.92606261e-02  3.62721421e-02\n  7.33579858e-04  2.31304597e-02 -3.40428911e-02 -3.26786712e-02\n  1.74029507e-02  7.32632279e-02  1.87694672e-02 -8.83672200e-03\n  5.96622825e-02 -7.41666136e-03  5.41580804e-02  2.91499905e-02\n -4.31255773e-02  1.80107057e-02  3.33918966e-02  2.17705802e-03\n -4.95493300e-02 -2.03643087e-02 -8.04227516e-02  8.83115903e-02\n -4.18561026e-02  3.21612358e-02  2.29351092e-02 -4.00232971e-02\n -1.93225797e-02 -6.94528297e-02  7.25240260e-02  3.83349992e-02\n  4.61116508e-02 -1.97082218e-02  8.69095605e-03  1.16263703e-02\n  4.56521660e-02 -6.64854748e-03 -1.19351102e-02  8.53266343e-02\n  3.80715914e-02  1.64608620e-02  6.23991061e-03 -6.14810735e-02\n  3.58195323e-03 -7.24022388e-02  2.13631080e-04 -2.01874934e-02\n  9.16992780e-03  2.27943808e-02  3.89318056e-02  1.50056286e-02\n  2.29278933e-02 -5.76495267e-02  4.56810854e-02 -7.04160929e-02\n -5.65312011e-03  4.65160348e-02  4.34373580e-02  7.65428990e-02\n  1.93652753e-02  2.76622865e-02  3.37653570e-02  5.73404208e-02\n  4.19619121e-03 -1.57550722e-02 -2.80591156e-02 -5.11021763e-02\n  2.59466190e-02  6.47356361e-03  1.93254147e-02  1.39521137e-02\n -2.27918606e-02  3.97510342e-02 -2.02061851e-02  1.63444933e-02\n -3.97507586e-02 -5.30398749e-02 -9.13170725e-02 -1.12127420e-02\n  7.80761167e-02 -3.75260785e-02  4.03940566e-02 -5.17224008e-03\n  5.91382720e-02 -2.25247927e-02  4.02350761e-02  5.72521910e-02\n  6.63295090e-02  1.69031247e-02 -4.91784327e-02  4.10010070e-02\n  1.66400280e-02 -1.13252074e-01 -7.09571987e-02  1.41972601e-02\n  3.32014374e-02 -8.17812756e-02 -3.56877632e-02 -4.60966211e-03\n  3.71621139e-02  4.70855571e-02 -6.55926019e-02 -5.72393974e-03\n  1.53064542e-02  2.18901224e-02  3.82220233e-03 -4.37416509e-02\n -3.07101160e-02  8.69493261e-02  1.86009202e-02  2.41789594e-03\n -1.42463008e-02 -2.27766037e-02  6.51573688e-02  2.43760515e-02\n  1.56349363e-03  5.06402813e-02 -3.06636118e-03  3.40211950e-02\n -4.92472127e-02 -3.97612639e-02  6.41591623e-02 -5.61897084e-02\n -9.89324003e-02 -1.61619447e-02  3.12969349e-02 -1.02789449e-02\n -4.08559777e-02  1.67678893e-02  3.44540104e-02 -2.71397680e-02\n  2.61263084e-02  3.35111772e-03 -6.71508387e-02 -5.38104512e-02\n -3.18924859e-02 -3.99300642e-02 -3.11733577e-02  7.12935114e-03\n  6.89634634e-03  1.77600421e-02 -2.71551870e-02  8.29154626e-02\n -9.79376119e-03  9.96231195e-03 -3.75897773e-02  4.28920425e-02\n -1.04628056e-01  2.15904061e-02  6.13566954e-03 -2.10439842e-02\n  4.15200032e-02 -3.01671289e-02 -1.97486710e-02  3.04459333e-02\n  7.23976493e-02 -4.93276417e-02  3.71530242e-02  1.04423873e-02\n  1.41270254e-02 -3.19772214e-03  5.44086397e-02  6.81363195e-02]",
         " my world if she's not there"
        ],
        [
         "35",
         "35",
         "Alexander Hamilton",
         "how does a bastard orphan son of a whore and a. scotsman dropped in the middle of a forgotten. spot in the caribbean by providence impoverished in squalor. grow up to be a hero and a scholar. . . the tendollar founding father without a father. got a lot farther by working a lot harder. by being a lot smarter by being a selfstarter. by fourteen they placed him in charge of a trading charter. . and every day while slaves were being slaughtered and carted. away across the waves he struggled and kept his guard up. inside he was longing for something to be a part of. the brother was ready to beg steal borrow or barter. . . then a hurricane came and devastation reigned. our man saw his future drip dripping down the drain. put a pencil to his temple connected it to his brain. and he wrote his first refrain a testament to his pain. . . well the word got around they said this kid is insane man. took up a collection just to send him to the mainland. get your education don't forget from whence you came and. the world's gonna know your name what's your name man. . . alexander hamilton. my name is alexander hamilton. and there's a million things i haven't done. but just you wait just you wait. . . when he was ten his father split full of it debtridden. two years later see alex and his mother bedridden. halfdead sittin' in their own sick the scent thick. . . and alex got better but his mother went quick. . . moved in with a cousin the cousin committed suicide. left him with nothin' but ruined pride something new inside. a voice sayin' alex you gotta fend for yourself. he started retreatin' and readin' every treatise on the shelf. . . there would have been nothin' left to do for someone less astute. he woulda been dead or destitute without a cent of restitution. started workin' clerkin' for his late mother's landlord. tradin' sugar cane and rum and all the things he can't afford. scammin' for every book he can get his hands on. plannin' for the future see him now as he stands on ooh. the bow of a ship headed for a new land. in new york you can be a new man. . . in new york you can be a new man just you wait. in new york you can be a new man just you wait. in new york you can be a new man. . . in new york new york. . . just you wait. . . alexander hamilton alexander hamilton. we are waiting in the wings for you waiting in the wings for you. you could never back down. you never learned to take your time. oh alexander hamilton alexander hamilton. when america sings for you. will they know what you overcame. will they know you rewrote the game. the world will never be the same oh. . . the ship is in the harbor now. see if you can spot him just you wait. another immigrant. comin' up from the bottom just you wait. his enemies destroyed his rep. america forgot him. . . we fought with him. . me i died for him. . me i trusted him. . me i loved him. . and me i'm the damn fool that shot him. . . there's a million things i haven't done. but just you wait. . . what's your name man. . . alexander hamilton",
         "0.105",
         "0.847",
         "0.048",
         "-0.9879",
         "[ 5.57528855e-03 -2.11586542e-02 -1.00804458e-03  1.36628060e-03\n  2.79814657e-02 -5.56797646e-02  3.74944285e-02  2.79452410e-02\n  1.26932445e-03 -9.67404321e-02  2.99079791e-02 -1.92868188e-02\n  3.17461714e-02 -6.12667277e-02 -6.09362125e-03  1.57387834e-02\n -2.18387358e-02  4.16127481e-02 -4.16319557e-02 -1.99507049e-04\n -3.95602547e-02 -2.61980481e-02  6.03899993e-02  2.29906291e-02\n  3.65988053e-02 -1.91078149e-02  1.03066210e-02 -2.28517335e-02\n  2.61675846e-02 -8.23032111e-03  3.51134688e-02 -3.42590623e-02\n -9.49757472e-02 -3.92840356e-02  1.46706989e-02  1.93847176e-02\n -2.00430565e-02 -8.08702037e-03 -1.42438570e-02 -7.84351677e-02\n -2.17447504e-02 -3.05878781e-02  2.71651950e-02  1.25886835e-02\n  2.35788692e-02  5.62558435e-02 -5.61742522e-02 -1.91119481e-02\n  1.32958898e-02 -3.43305767e-02 -1.20790983e-02  5.24405055e-02\n -1.31591186e-02  1.49949249e-02  2.18970422e-02  1.67857613e-02\n -2.28116270e-02  5.03742844e-02 -4.46496299e-03  3.54886102e-03\n -2.58855335e-02 -3.45758423e-02  2.27843840e-02  1.57803819e-02\n -1.61604639e-02  5.10711484e-02 -1.43180611e-02 -7.29553625e-02\n -1.52171659e-03 -3.40716727e-02 -5.77585921e-02  1.71940178e-02\n -1.06725087e-02 -6.02904893e-02 -3.52476239e-02  3.16904597e-02\n -3.38418148e-02  1.19627698e-03  2.97560613e-03 -2.76582893e-02\n  4.94918376e-02 -7.40475506e-02  2.51904689e-02 -3.07098161e-02\n  1.07404545e-01  9.25643593e-02  1.59935169e-02  3.75529658e-03\n  5.92268957e-03  1.39882397e-02  2.89168116e-02 -2.97696237e-03\n  3.93321132e-03  2.91171893e-02 -4.38667610e-02  3.52867991e-02\n  5.53884730e-02 -2.25318186e-02  3.46021280e-02 -5.90808690e-03\n  7.90855885e-02  8.70925095e-03 -2.37093084e-02  2.19000261e-02\n  6.46898104e-03 -6.64257724e-03 -2.39753313e-02 -2.66799107e-02\n -2.91528963e-02  4.99975029e-03  1.91776343e-02  1.86199527e-02\n  8.39638412e-02  4.04858356e-03  7.43250176e-02  2.69356593e-02\n  2.70264447e-02  1.51856029e-02  2.08703261e-02 -9.62738972e-03\n -1.17410971e-02  1.83459986e-02 -9.67536774e-03 -1.91523954e-02\n -6.73618242e-02 -1.09648742e-01 -2.83561628e-02 -3.14546712e-02\n  1.72608085e-02  9.11760405e-02 -4.66242898e-03 -5.40397177e-03\n  3.34158130e-02 -2.47011380e-03 -3.47130047e-03 -1.45267677e-02\n -1.85885727e-02  1.51147805e-02  3.96532007e-02 -1.27732828e-02\n -2.07863133e-02  3.34160365e-02  4.65389118e-02  5.57852648e-02\n -1.63276065e-02 -7.73660420e-03  1.51167130e-02  1.37249427e-02\n  4.95764166e-02  2.86131185e-02 -6.18763417e-02  5.35058491e-02\n  8.57977383e-03  7.42322905e-03  3.86146978e-02 -6.74021849e-03\n  1.87808983e-02  2.19682809e-02 -4.99280123e-03 -3.22273150e-02\n -3.36115323e-02 -3.15516219e-02 -4.25065421e-02  4.67110047e-04\n -2.74993870e-02 -3.33334394e-02  4.30604490e-03  3.70910615e-02\n  3.14717065e-03 -3.03102359e-02  7.12334877e-03 -6.08991552e-03\n  7.89863616e-02  3.16786729e-02 -1.05594553e-03 -6.14761561e-02\n  1.29405214e-02  7.26401247e-03  7.38682449e-02  5.64871170e-02\n -1.09868334e-03  1.40629150e-02 -5.78663731e-03 -3.14508304e-02\n -5.18149734e-02  2.98462044e-02  5.04547805e-02  1.07393172e-02\n  3.37353051e-02 -1.30080972e-02 -4.11270047e-03 -4.88657281e-02\n -2.49052737e-02  7.57521912e-02 -2.77363174e-02 -5.52196503e-02\n -2.54241023e-02 -2.04892270e-02 -1.03893867e-02  1.91262853e-03\n  4.54459479e-03 -1.14122100e-01  7.50242844e-02  4.26738337e-02\n  2.40137912e-02 -6.07798062e-03  5.04093356e-02  3.20947953e-02\n  6.76283985e-03  5.20160682e-02 -1.38527965e-02  7.48131657e-03\n  1.97530929e-02  1.66552309e-02 -3.99365239e-02  1.62066100e-03\n  6.76536327e-03  9.24865622e-03  5.16845435e-02 -3.89323607e-02\n  6.32329145e-03 -2.49559041e-02 -9.94085148e-03  4.22729887e-02\n -2.98624523e-02 -3.29291113e-02 -7.09962938e-03 -4.73368578e-02\n  2.71291588e-03 -1.76221132e-04  5.17152473e-02  5.66265080e-03\n  2.35268241e-03  2.78540719e-02 -3.39692011e-02  7.46708959e-02\n  5.21367155e-02  4.50553335e-02 -1.43404165e-02  3.25377192e-03\n -9.34149921e-02 -3.58848870e-02 -3.50730568e-02  4.56974730e-02\n  1.88318919e-02 -1.30358115e-02  5.67111298e-02  8.54899734e-03\n  7.90237635e-02 -5.23349978e-02 -1.23018995e-02  6.16504345e-03\n -4.31408025e-02  1.45577686e-02 -4.83549088e-02 -5.76761290e-02\n  5.45810908e-05 -3.44789512e-02 -3.75823379e-02 -1.44989593e-02\n -4.15537134e-02  2.08629724e-02  2.70788986e-02  2.63184272e-02\n -3.33705656e-02  2.41560657e-02 -5.21877892e-02 -9.08070616e-03\n -8.88910890e-03 -7.46157467e-02  3.81741002e-02  3.30897234e-02\n  1.11592431e-02  5.34842052e-02 -1.17278686e-02  2.59594452e-02\n  8.94501898e-03 -7.20428419e-04  4.83339205e-02  2.15339456e-02\n  4.83357087e-02 -7.69204041e-03 -1.59542263e-02 -6.12612329e-02\n -3.69624719e-02 -1.02714414e-03 -7.46915303e-03  1.28302425e-01\n  3.54076661e-02 -6.61102831e-02  2.89987270e-02  9.94687807e-03\n  4.12798524e-02  3.50463614e-02 -2.63598897e-02 -1.47157712e-02\n -3.00561544e-02  2.27989648e-02  3.52393128e-02  2.92664319e-02\n  1.12198312e-02  3.53124402e-02 -5.58885522e-02  1.95046086e-02\n -1.37494756e-02  4.01102006e-02 -9.95406602e-03  2.27999082e-03\n  2.05002315e-02  3.49546559e-02 -2.92040221e-03  1.88680422e-02\n  6.64095506e-02 -1.22068450e-02 -1.51247969e-02  1.82381235e-02\n  2.80299205e-02 -3.35305147e-02 -8.54925141e-02  8.49987641e-02\n -2.63425298e-02  7.50023173e-03 -1.97953433e-02  2.94559523e-02\n -4.13102843e-03  3.27898376e-02  1.88321285e-02 -2.72421427e-02\n -1.92328040e-02 -3.10252029e-02  1.04172621e-04 -1.09883929e-02\n  7.11576920e-03  3.05296909e-02  1.37826113e-03  2.51707677e-02\n -7.45884106e-02  5.75387515e-02 -7.02652633e-02 -5.72126592e-03\n -2.15077456e-02 -5.63224358e-03  2.23349575e-02  2.96570994e-02\n  3.33791273e-03  2.60379277e-02 -3.69983092e-02  2.54603717e-02\n  1.67856235e-02  1.64653528e-02 -2.57434342e-02  2.87606027e-02\n -5.44322096e-03  4.00284864e-02  9.90743656e-03 -1.45592941e-02\n  6.70898482e-02  3.40553820e-02  3.25097702e-02 -4.13358621e-02\n -2.13146079e-02 -5.04361913e-02  4.37233187e-02 -2.49799713e-02\n -2.40057781e-02  2.56423699e-03  2.80506015e-02  3.85498106e-02\n  1.23449333e-01 -7.68543268e-03  4.88278717e-02 -2.14032996e-02\n  1.37885176e-02 -4.08429094e-02  5.41435592e-02 -6.54142201e-02\n -1.86404828e-02  5.36427349e-02  4.95528802e-02 -3.40102911e-02\n -9.65319388e-03  3.21062431e-02 -4.38374989e-02  3.04304548e-02\n  7.02226609e-02  5.94134666e-02  1.01875765e-02 -5.69821931e-02\n  1.68434475e-02  9.69901273e-04 -5.43525480e-02 -4.04261090e-02\n -1.04967188e-02  6.78548515e-02 -3.51154990e-02 -1.34671312e-02\n -1.26785999e-02  4.79840022e-03 -6.74140221e-03 -2.68178899e-02\n  2.54235044e-02 -3.32633480e-02 -2.84515079e-02  2.47794855e-02\n -4.51733917e-03 -3.85250002e-02  4.15127724e-02  2.07110774e-02\n -1.27930120e-02 -1.15287611e-02  2.33331285e-02 -5.42861708e-02\n  1.18446480e-02  5.00436164e-02  1.61848636e-03  9.86062828e-03\n  2.95063443e-02 -4.27802932e-03  6.01166263e-02  4.72964719e-02\n -5.39924949e-02 -2.85396148e-02  8.81917775e-03 -2.52417494e-02\n  6.34080023e-02 -3.38259898e-02 -1.66340247e-02 -2.02878714e-02\n -5.36033399e-02 -2.86658052e-02 -8.40288475e-02  1.03014177e-02\n  9.19457376e-02 -3.69014655e-04  7.87580851e-03 -1.54162408e-03\n -4.99919988e-03  5.59496135e-02 -2.20531840e-02  2.33864505e-02\n  2.28007920e-02 -1.08722471e-01  2.55766921e-02  5.66445664e-02\n  2.27829125e-02 -2.04820111e-02  3.49535905e-02 -3.15795355e-02\n -4.26790304e-03  5.65505251e-02  7.06359521e-02  1.04292460e-01\n  7.84238204e-02  3.38195860e-02  7.61735886e-02 -6.02028780e-02\n  5.41368201e-02  5.58481403e-02 -8.37536156e-02  6.92456663e-02\n  6.65956875e-03 -3.64979394e-02 -1.09696509e-02  6.18358999e-02\n -4.44745235e-02 -5.91198802e-02 -6.82303086e-02  1.93276200e-02\n -2.25161295e-03 -6.23929314e-03  3.01202033e-02 -3.15051526e-02\n  2.36848723e-02  1.09535446e-02  4.88569699e-02 -4.84479852e-02\n -2.84287632e-02 -8.63063149e-03  6.46929815e-03  9.80349258e-03\n  1.57121308e-02  3.18094306e-02 -3.27856243e-02  4.66942089e-03\n -7.11479709e-02  7.24040321e-04 -1.42583810e-02  7.88095593e-02\n -3.31461914e-02 -2.79735513e-02 -1.22055039e-02 -5.16174324e-02\n  1.67191010e-02 -3.90858464e-02  1.39120417e-02  2.06271876e-02\n -4.08117548e-02 -6.12091646e-02  1.58776827e-02 -5.92393568e-03\n  1.33210327e-02 -3.00514512e-02 -1.29100271e-02 -2.70924065e-02\n -1.39711183e-02  7.96630699e-03 -4.25038189e-02 -3.09586851e-03\n -1.91781744e-02  4.88806982e-05 -4.47395667e-02  4.39945282e-03]",
         " oh alexander hamilton alexander hamilton"
        ],
        [
         "36",
         "36",
         "Master Of The House",
         "my band of soaks my den of dissolutes. my dirty jokes my always pissed as newts. my sons of whores no no no no not tonight spend their lives in my inn. homing pigeons homing in. they fly through my doors. and they crawl out on all fours. . welcome monsieur sit yourself down. and meet the best innkeeper in town. as for the rest all of 'em crooks. rooking their guests and cooking the books. seldom do you see. honest men like me. a gent of good intent. who's content to be. . master of the house doling out the charm. ready with a handshake and an open palm. tells a saucy tale makes a little stir. customers appreciate a bonviveur. glad to do a friend a favor. doesn't cost me to be nice. but nothing gets you nothing. everything has got a little price. . master of the house keeper of the zoo. ready to relieve 'em of a sou or two. watering the wine making up the weight. pickin' up their knickknacks when they can't see straight. everybody loves a landlord. everybody's bosom friend. i do whatever pleases. jesus won't i bleed 'em in the end. . master of the house quick to catch yer eye. never was a passerby to pass him by. servant to the poor butler to the great. comforter philosopher and lifelong mate. everybody's boon companion. everybody's chaperone. but lock up your valises. jesus won't i skin you to the bone. . food beyond compare. food beyond belief. mix it in a mincer and pretend it's beef. kidney of a horse liver of a cat. filling up the sausages with this and that. residents are more than welcome. bridal suite is occupied. reasonable charges. plus some little extras on the side. oh santa. . charge 'em for the lice extra for the mice. two percent for looking in the mirror twice hand it over. here a little slice there a little cut. three percent for sleeping with the window shut. when it comes to fixing prices. there are a lot of tricks i knows. how it all increases all them bits and pieces. jesus it's amazing how it grows. . . oh sorry love. must get something done about that. sung. i used to dream that i would meet a prince. but god almighty have you seen what's happened since. . master of the house isn't worth my spit. comforter philosopher and lifelong shit. cunning little brain regular voltaire. thinks he's quite a lover but there's not much there. what a cruel trick of nature landed me with such a louse. god knows how i've lasted living with this bastard in the house. . . master of the house. . . master and a half. . . comforter philosopher. . . don't make me laugh. . . servant to the poor butler to the great. . . hypocrite and toady and inebriate. . . everybody bless the landlord. everybody bless his spouse. everybody raise a glass. . . raise it up the master's arse. . . everybody raise a glass to the master of the house",
         "0.103",
         "0.711",
         "0.186",
         "0.9945",
         "[-0.01280103  0.04307462  0.03290112 -0.00508241 -0.00292562 -0.06713674\n -0.00813447  0.03132766  0.08520043  0.03711472 -0.04896757  0.01626248\n  0.02187086 -0.01473264  0.01877275  0.02179064 -0.00626844 -0.06120598\n -0.05595145  0.02831895 -0.08618394  0.01614968 -0.00467123  0.09971259\n  0.0656505   0.03357583 -0.00406375  0.06103233  0.01546306 -0.01727924\n  0.09090696 -0.02842588 -0.06339895 -0.02931862  0.01979137  0.06165346\n -0.00350111  0.03217355 -0.00959357  0.00169526 -0.0064639   0.01149771\n -0.04931505 -0.00182878  0.01599906  0.04054498  0.00215322  0.01958781\n -0.00431769  0.02189711 -0.06140243  0.01971541  0.01246994 -0.03226731\n  0.01560999  0.0070238   0.00471208 -0.01305042  0.02056695  0.03343891\n -0.0129419   0.00659252 -0.0470739  -0.08992004 -0.00642649  0.01205325\n -0.02675995 -0.05338005  0.00921641  0.01529886 -0.02170742 -0.04250722\n  0.01402098  0.0199913   0.0006397   0.00185748 -0.04256094 -0.00425167\n -0.0353657  -0.08623487 -0.00599887 -0.08180671  0.00159479 -0.03463446\n  0.02261581  0.03121766 -0.06273724 -0.01800541  0.00463547  0.02354225\n -0.03712872 -0.00930525 -0.00114506  0.06432574 -0.01069961  0.03984454\n  0.0533973   0.07752044 -0.03050814  0.01491383 -0.02496533 -0.03092577\n -0.06941479  0.03094431 -0.02796411 -0.02373116  0.01169726 -0.03740629\n -0.07779873  0.01659971  0.03518455 -0.01403026 -0.00497627 -0.03148963\n -0.05818549  0.01152916  0.0466487  -0.00205918  0.02638123 -0.00967915\n  0.01524622  0.01098055 -0.04878969 -0.03270652 -0.02454151 -0.03031803\n -0.02356589 -0.0274294   0.03176885  0.01763605  0.03474408  0.01533472\n  0.04996037 -0.02410342 -0.03876472  0.01300076 -0.001258    0.04110504\n  0.02201971  0.04884673 -0.00985955 -0.05866989 -0.00241024  0.01778402\n -0.02958004  0.01735241 -0.06018126 -0.0047106   0.0440939  -0.04969973\n  0.01069521  0.05800833  0.00052975 -0.01552264  0.02814371  0.039145\n  0.04865452  0.01416308  0.00638007 -0.01779739  0.00089736 -0.08570465\n  0.00554888 -0.01125066 -0.03918806  0.00873256 -0.03712872  0.04945142\n -0.03007896  0.01000167 -0.05408391 -0.02297129  0.04874682  0.03455634\n -0.05850378 -0.02287602  0.05996781 -0.01679326 -0.04210015 -0.00749469\n -0.03523502  0.06513226 -0.04514583  0.04923438 -0.00107777 -0.0333011\n  0.00765526 -0.04835322  0.00068541  0.0280717   0.01402893 -0.07666519\n -0.00220384  0.01141577  0.02980121 -0.04079714  0.12668799 -0.05482143\n -0.03939103  0.00371783  0.02202289 -0.13585183 -0.01948231 -0.00984542\n  0.03525052  0.00329922  0.06819919  0.01657026 -0.02024751  0.03166571\n -0.06547449  0.01083438  0.03956675  0.01581142 -0.00368358  0.04822192\n  0.01290022 -0.01832998  0.04554598 -0.0868267   0.00826361 -0.00412907\n -0.11058692 -0.04792773 -0.05705686 -0.02613083  0.00133035  0.014898\n  0.08752465 -0.07522207  0.08041117 -0.05795861  0.00987966  0.02276933\n -0.00623041  0.0726022   0.02791671 -0.00973968  0.05042003  0.03067534\n -0.02009322 -0.02528453  0.02381103  0.01159297  0.0514846   0.01939461\n -0.07762699 -0.02583379 -0.03682605  0.01720798 -0.00417839 -0.00285047\n -0.05773579  0.0508923  -0.01238794 -0.05520884 -0.00815132  0.01291674\n  0.00443915  0.0573448  -0.03724419 -0.00091837  0.00647689  0.05924637\n -0.01442647  0.02353449 -0.03463035  0.03309568 -0.02696396 -0.01256639\n  0.02906949 -0.03010422  0.00715763 -0.03947623 -0.00147246  0.03256252\n  0.00523834  0.01006933 -0.00986366  0.05305546 -0.00141447  0.03376383\n -0.00247249 -0.01645129  0.02144917  0.006075    0.00237584  0.01958716\n -0.03077434 -0.04566243  0.00195273  0.03988546  0.03872349 -0.00908833\n -0.04929134  0.04760128  0.01564699  0.0136587   0.01955543 -0.0604169\n  0.00202155 -0.02338111  0.00398126  0.07013197 -0.02639194 -0.01258945\n -0.02398303  0.04781758  0.01776082  0.03047102  0.03947958  0.04506764\n  0.00253179 -0.02623514  0.07481085  0.01064418 -0.00801311  0.04223524\n -0.02592691  0.0026935   0.03270987  0.01095344 -0.03572977 -0.017706\n -0.0364286   0.03267432  0.03492582  0.00811675 -0.00926707 -0.01229677\n  0.02178853 -0.01955182  0.00910545  0.07962742 -0.02897935 -0.02955751\n  0.04245833  0.00593296 -0.03392304  0.02176967  0.02823949 -0.07762036\n -0.02303067  0.04347836  0.02202477 -0.01912959 -0.04350793  0.01488858\n  0.06400949 -0.03045303 -0.00270611 -0.03143147 -0.05576596 -0.02649081\n -0.02491847  0.02960748  0.01300433  0.05733921  0.01786537  0.00557844\n  0.0837611  -0.01356737  0.0096609  -0.04251987 -0.0519791  -0.01873989\n  0.11053059 -0.01190186  0.00592938 -0.02384203 -0.02417084  0.03489655\n -0.05269063 -0.06883124 -0.00563366 -0.09351828 -0.0119386  -0.04887446\n  0.08776927  0.02288869 -0.00204988  0.02851559  0.01886261  0.01671271\n  0.01228046  0.01995764  0.00278899 -0.04283186 -0.00263447 -0.05988338\n  0.00829166  0.03070955 -0.02011794  0.04160561 -0.0264206  -0.00893654\n  0.01605674 -0.05170567  0.02722261  0.00889022 -0.00657736 -0.02742869\n  0.04794461 -0.01107935 -0.04902307  0.00396892 -0.00506807 -0.01026479\n -0.03908149  0.04511191 -0.00711261 -0.06442185  0.01516239 -0.01163978\n -0.00875457  0.02117429  0.01630091  0.04543091 -0.0054541  -0.01399459\n  0.01453122  0.01971047  0.03888499 -0.05776348  0.00395246  0.01623847\n  0.01534007  0.00940314  0.00923694  0.00132588 -0.03205489 -0.04386168\n  0.08419782 -0.00284618 -0.00457282 -0.03069889 -0.00264525  0.05546661\n  0.00114468  0.06712862  0.01629048 -0.13769089  0.03742184  0.08808291\n  0.08943574  0.00420543 -0.06905429  0.00159045 -0.00654517  0.01046656\n -0.000644    0.03694196  0.02010323  0.01567159  0.0549539  -0.08786051\n  0.05989898  0.02078168 -0.01746156 -0.02201187  0.00120677  0.00228632\n  0.08703689  0.02046548  0.03868834  0.04447693  0.00874139  0.02515042\n  0.00204616  0.02053939 -0.03539773 -0.0637241  -0.02442199 -0.02559418\n  0.03442098  0.02728082 -0.00482671 -0.03585567  0.03435114 -0.08010916\n  0.02388468  0.0427491  -0.04595058  0.00253119  0.0576265   0.01917938\n -0.0006148   0.01589959 -0.00454648  0.06640029  0.0248607  -0.02519345\n  0.0193246   0.02817275 -0.00211178 -0.02696625 -0.05614071 -0.0047601\n  0.0001864  -0.02234248  0.01443933 -0.01598919  0.1376776  -0.02933346\n -0.01487818  0.02792368  0.00580295 -0.0237231  -0.03566346  0.00353999\n -0.03344724  0.01507228]",
         " master of the house"
        ],
        [
         "37",
         "37",
         "One Day More",
         "one day more. another day another destiny. this neverending road to calvary. these men who seem to know my crime. will surely come a second time. one day more. . . i did not live until today. how can i live when we are parted. . . one day more. . . tomorrow you'll be worlds away. and yet with you my world has started. . . one more day all on my own. . . will we ever meet again. . . one more day with him not caring. . . i was born to be with you. . . what a life i might have known. . . and i swear i will be true. . . but he never saw me there. . . one more day before the storm. do i follow where she goes. at the barricades of freedom. shall i join my brothers there. when our ranks begin to form. do i stay or do i dare. will you take your place with me. . . the time is now. the day is here. . . one day more. . . one day more till revolution. we will nip it in the bud. we'll be ready for these schoolboys. they will wet themselves with blood. . . one day more. . . watch them run amuck. catch'm as they fall. never know your luck. when there's a free for all. here a little dip. there a little touch. most of them are goners. so they won't miss much. . . one day to a new beginning. raise the flag of freedom high. every man will be a king. every man will be a king. there's a new world for the winning. there's a new world to be won. do you hear the people sing. . . my place is here. i fight with you. . . one day more. . . we will join these people's heroes i did not live until today. . . we will follow where they go watch them run amuck tomorrow you'll be worlds away. . . we will join these people's heroes. we will follow where they go. we will learn their little secrets. we will know the things they know. . . one day more. . . watch 'em run amuck one more day all on my own. catch 'em as they fall. never know your luck. when there's a freeforall. . . we'll be ready for these schoolboys. . . tomorrow we'll be far away. tomorrow is the judgement day. . . tomorrow we'll discover. what our god in heaven has in store. one more dawn. one more day. one day more",
         "0.035",
         "0.817",
         "0.148",
         "0.9944",
         "[-3.58569734e-02 -4.47985604e-02 -4.04536240e-02 -3.78844067e-02\n  4.51668501e-02 -1.74456630e-02 -5.20294067e-03 -2.46200971e-02\n -4.95567992e-02 -6.67195534e-03 -2.15457063e-02 -2.85093952e-02\n  2.39574052e-02 -3.07958871e-02  2.35129874e-02  3.80046852e-02\n  9.94016416e-03 -2.18211487e-02 -4.99673933e-03  2.23908760e-02\n -2.20052619e-02  3.64124887e-02  3.29775251e-02  7.60428905e-02\n  4.04507201e-03 -1.53765073e-02 -2.79302616e-02  5.23861609e-02\n  1.81416422e-02  1.91185251e-02  4.98138666e-02  8.87784921e-03\n -4.90421206e-02 -3.34285423e-02 -1.93367843e-02 -5.54167572e-03\n  4.79316860e-02  3.21511440e-02  1.68139990e-02  5.30443974e-02\n -6.90862909e-02 -1.78383086e-02 -3.50662917e-02  3.32207829e-02\n  5.12622064e-03  5.03473403e-03  6.31731562e-03 -2.57859519e-03\n -3.26797962e-02  8.96199979e-03  4.15705144e-02  4.50024335e-03\n -1.60092004e-02 -2.95153856e-02 -8.10149871e-03 -1.21811144e-02\n  1.06381923e-02  1.30931018e-02  3.28729264e-02 -1.83122754e-02\n -4.16319743e-02  2.82929633e-02  6.02416042e-03 -2.12341547e-02\n -3.69961150e-02  5.48102260e-02  8.76371488e-02  4.38212641e-02\n  4.94402759e-02  9.15570464e-03  1.30947269e-02  3.27108651e-02\n  3.75193954e-02 -4.29772958e-02 -1.40043022e-02  1.01076007e-01\n  1.32296290e-02 -3.95940244e-03  9.28316731e-03  8.84501077e-03\n -3.05566769e-02 -7.15206563e-02  4.99460995e-02 -5.64534962e-02\n  3.03639378e-02  1.32735670e-01  3.41252573e-02 -4.07316647e-02\n  2.20792950e-03  2.21644007e-02  1.47296619e-02  3.59204877e-03\n -5.10919653e-03  2.03481056e-02 -5.62447868e-02  4.68213968e-02\n -3.64055820e-02  3.88818234e-02 -2.40418268e-03 -7.04085007e-02\n -1.90314837e-02 -7.41083687e-03 -1.03160338e-02  5.63346185e-02\n -1.97934341e-02 -2.50963420e-02  1.47148361e-02  2.30280105e-02\n -5.76667525e-02  1.86569318e-02  4.43631969e-02  1.90597624e-02\n  4.53853533e-02 -1.35652721e-04 -8.86633843e-02  9.93333850e-03\n -3.38751748e-02 -6.66520512e-03  7.99724925e-03  7.29415268e-02\n -2.94346791e-02  3.05499299e-03 -3.22931679e-04 -9.57831666e-02\n -4.43457365e-02 -6.12407848e-02 -2.48744115e-02  9.57623869e-03\n  3.66652906e-02  1.31114079e-02 -2.93583004e-03  3.90343256e-02\n  9.18122157e-02 -5.99912740e-02  1.41908936e-02 -3.74357216e-02\n  2.64923964e-02  9.57870111e-02  2.21513882e-02  4.81449347e-03\n -6.76252320e-02 -1.22386368e-03  6.84260130e-02 -1.46650020e-02\n -5.66267744e-02  2.76447535e-02 -7.17383204e-03 -6.51034201e-03\n  8.79726112e-02 -2.72140768e-03 -8.98050889e-02  7.44959563e-02\n -8.31333250e-02 -1.38311544e-02  2.06583366e-02 -2.53830757e-02\n  4.69834991e-02  9.78500396e-02  3.98311997e-03 -9.39993002e-03\n -5.66903539e-02  7.46403635e-02  3.00073344e-02 -8.57783202e-03\n  2.39767004e-02 -1.85043942e-02  1.94299743e-02  4.97792996e-02\n -3.38816904e-02 -2.17452575e-03  2.30103149e-03  1.42836962e-02\n  9.78710875e-02 -3.14903632e-02  7.71664409e-03 -1.16058234e-02\n  6.18108585e-02  2.31933706e-02  3.69042717e-02 -2.06379686e-02\n -5.92328794e-02  3.68987471e-02 -6.57516643e-02 -6.89857379e-02\n -3.98596004e-02  2.09643357e-02  1.99175905e-02 -8.44152793e-02\n -5.81705663e-03  1.13537937e-01 -5.74775552e-03  4.39278334e-02\n  9.52113234e-03  5.70784556e-03  1.06341681e-02  3.70441042e-02\n  4.70404364e-02 -2.71650646e-02  2.37807836e-02 -6.55378774e-02\n  4.94394079e-02 -1.18575759e-01  3.75107564e-02 -2.59888894e-03\n -4.61030257e-04  4.81989235e-02  3.37078311e-02  2.86677550e-03\n -4.04901989e-02 -2.36838572e-02 -2.04647519e-02 -1.69616360e-02\n -6.86576217e-03  1.84530858e-02  3.17789754e-03  1.20162461e-02\n -7.55928876e-03  9.62299760e-03  4.01466675e-02  5.13970852e-02\n  3.19035389e-02 -1.67635866e-02  2.47378312e-02 -5.92646375e-02\n -4.38853055e-02  1.47222420e-02  5.68876751e-02 -1.03405630e-02\n  3.20023596e-02 -2.93356907e-02 -2.88903457e-03 -2.19923612e-02\n  2.51175929e-03 -1.32155105e-01 -3.07498965e-02  2.74585467e-02\n -8.40555131e-03  9.41617861e-02 -2.89419685e-02  3.53475809e-02\n -2.39099562e-02 -4.48642997e-03 -8.14959705e-02 -2.22261753e-02\n  6.11443706e-02 -8.76852218e-03 -8.50579739e-02 -8.41445625e-02\n -2.48738918e-02 -2.09935103e-02  2.48646531e-02  3.81560214e-02\n  1.04025695e-02  4.06938698e-03 -3.58712189e-02  7.43279606e-02\n -1.33132348e-02 -6.45291954e-02  3.91780995e-02 -1.83050875e-02\n -3.93732600e-02  5.37273474e-02 -2.32912172e-02  5.67938350e-02\n  1.07754627e-02  4.52819234e-03 -7.50594120e-03  3.11766416e-02\n  5.41407466e-02 -2.50552464e-02  4.05457877e-02  3.30779068e-02\n -6.85982257e-02 -1.76147837e-03 -4.72035632e-02  3.89674753e-02\n -1.71008129e-02 -1.31020090e-03 -1.29934680e-02  1.89685635e-02\n -1.18186362e-02 -1.71662644e-02  5.48344254e-02  3.99300233e-02\n -9.42592695e-03  1.92209538e-02 -3.75633426e-02  6.25440776e-02\n -5.60906455e-02 -5.99562749e-02  8.73990357e-03  2.45372336e-02\n  1.22821659e-01  7.28213564e-02 -7.46062100e-02  3.31000239e-02\n  1.60292853e-02  3.62362154e-02  3.84638049e-02 -6.30879626e-02\n -1.17455581e-02 -6.27627522e-02  1.78856310e-02  2.36730441e-03\n -3.20302099e-02 -6.51721880e-02 -2.07377523e-02  7.37305311e-03\n  2.09873375e-02  2.79693864e-03  3.76549028e-02 -3.29143927e-02\n  1.06689325e-02  7.71328732e-02  3.50294039e-02  2.63762716e-02\n  2.08921339e-02  1.51567971e-02 -2.07204297e-02  2.92308554e-02\n -1.63532309e-02  3.95319462e-02  8.57224874e-03  1.53859369e-02\n -1.51661048e-02  1.56313907e-02 -1.11436643e-01  1.33212963e-02\n -5.61642535e-02  1.98124791e-03 -1.48002254e-02 -3.12196873e-02\n -9.11206454e-02  2.79274918e-02 -2.59677358e-02 -4.02411409e-02\n -4.20981534e-02  5.09485975e-02 -3.90176033e-03 -4.61176001e-02\n  4.81791794e-05 -5.03894780e-03  3.32517661e-02  2.58021671e-02\n  3.25900242e-02 -4.88088839e-02 -5.82872238e-03  7.15970099e-02\n  3.32246237e-02  4.22172854e-03 -8.82511958e-05 -3.50251421e-02\n -8.51273388e-02  4.85939011e-02  3.49990316e-02 -5.30263735e-03\n -2.14986037e-03  4.26887199e-02 -2.05440205e-02 -2.14138292e-02\n -1.71053484e-02  4.66912016e-02  1.37133703e-01 -6.08534645e-03\n -2.00532544e-02 -4.57312390e-02  5.43272346e-02 -1.68993212e-02\n -4.81709838e-03  6.83990940e-02 -1.31943766e-02  6.12746459e-03\n -1.63879134e-02 -1.22473650e-02  6.58013374e-02 -6.07087603e-03\n  3.91014628e-02 -7.18190288e-03  4.39557992e-02  2.06520911e-02\n  4.61059622e-02  9.26181022e-03  2.29700916e-02 -4.94872294e-02\n  1.88911427e-02 -7.96892028e-03  5.88242598e-02  1.76275354e-02\n -3.02493833e-02 -4.45494950e-02 -7.52738714e-02 -4.25493196e-02\n -4.41862121e-02  4.14947942e-02 -3.65164839e-02 -5.07676229e-02\n  6.46397695e-02  1.45690450e-02 -1.42898108e-03  3.27458344e-02\n  2.71531809e-02 -3.82899158e-02  1.23892156e-02  1.97238685e-03\n -1.10527240e-02 -5.41553199e-02  1.82941835e-02  3.33791934e-02\n  1.29595604e-02 -8.27528711e-04 -1.57238953e-02 -2.13414412e-02\n -2.19798144e-02  1.78969391e-02  2.50435108e-03 -2.42715259e-03\n  2.11432204e-02  1.61255728e-02 -7.62317842e-03 -1.65145453e-02\n -1.38427112e-02  3.42915580e-02 -4.30999760e-04  1.95685821e-03\n  4.92482074e-02  9.13611706e-03  3.99817340e-02  2.46315543e-02\n -4.17183936e-02 -5.24998792e-02 -3.70691977e-02 -1.12206992e-02\n  9.95607078e-02 -1.81596819e-02  4.80164662e-02 -3.19106355e-02\n  6.96360832e-03 -5.72717860e-02  2.59238873e-02 -2.66718194e-02\n  4.39815111e-02 -8.41819793e-02  1.71003882e-02  2.32193107e-03\n  5.60856052e-02 -2.13073846e-03 -1.04451729e-02 -7.68873841e-02\n -4.99150082e-02  3.81479575e-03  5.53512527e-03 -5.66964829e-03\n  2.33949833e-02  3.45684625e-02 -2.99387015e-02 -6.23770133e-02\n  1.69400014e-02  5.32145239e-02 -8.45112652e-02  6.62696315e-03\n  5.41994162e-02 -9.25027393e-03  3.88986319e-02  5.06816991e-02\n -8.25059935e-02  6.73524216e-02 -8.05260707e-03 -5.36143722e-04\n -1.62003506e-02  2.92183626e-02  3.94290965e-03 -3.86512689e-02\n -5.93201853e-02  8.82065445e-02  5.83518334e-02  5.30048879e-03\n -2.40402538e-02 -7.86168724e-02 -2.34023221e-02 -8.32218006e-02\n  1.18387153e-03  9.76104736e-02 -1.94533281e-02 -1.43011808e-02\n -1.09561905e-02 -4.46031876e-02  2.49479190e-02 -1.83222070e-02\n -4.30463254e-02 -9.37047675e-02  2.31810920e-02 -3.75142619e-02\n  3.94439250e-02 -1.26039721e-02  6.03686161e-02  4.03051935e-02\n -7.97463506e-02  2.69945543e-02  4.45436984e-02  1.07079512e-02\n  4.30096872e-02  1.30966399e-03  1.07683986e-01 -1.36707062e-02\n -3.37965949e-03 -1.69916730e-02  1.19384769e-02  9.10590775e-03\n  5.96214784e-03 -4.32245526e-03 -2.56339759e-02 -2.09316090e-02]",
         " we will follow where they go watch them run amuck tomorrow you'll be worlds away"
        ],
        [
         "38",
         "38",
         "You Learn",
         "i recommend getting your heart trampled on to anyone yeah. i recommend walking around naked in your living room yeah. swallow it down. . . what a jagged little pill. . . it feels so good. . . swimming in your stomach. . . wait until the dust settles. . . you live you learn you love you learn. you cry you learn you lose you learn. you bleed you learn you scream you learn. . . i recommend biting off more than you can chew to anyone. . . i certainly do. . . i recommend sticking your foot in your mouth at any time. . . feel free. . . throw it down. . . the caution blocks you from the wind. . . hold it up. . . to the rays. . . you wait and see when the smoke clears. . you live you learn you love you learn. you cry you learn you lose you learn. you bleed you learn you scream you learn. . i oh.... . . wear it out. . . the way a three year old would do. . . melt it down. . . you're gonna have to eventually anyway. . . the firetrucks are coming up around the bend. . you live you learn you love you learn. you cry you learn you lose you learn. you bleed you learn you scream you learn. . thank you india. you learn you grieve you learn. thank you providence. you choke you learn. thank you disillusionment. you love you learn. you choose you learn. . thank you clarity. you pray you learn. thank you consequence. you ask you learn. thank you thank you silence. you live you learn. ooh...",
         "0.12",
         "0.666",
         "0.214",
         "0.9782",
         "[-0.06256791 -0.07009339 -0.0108462  -0.01214529  0.06372378  0.02124752\n  0.05058532  0.02465814 -0.00947276  0.10550766 -0.04052915 -0.02313694\n  0.00302018 -0.02854396  0.03401745  0.00747702 -0.02110919 -0.00581514\n -0.00388825  0.02209265  0.0461043   0.0026766  -0.04431431  0.05281698\n -0.07734577  0.02222762 -0.01832689  0.01559029  0.02586286 -0.01271415\n  0.03602239  0.01252267 -0.03205434  0.01653606  0.00195932 -0.00279742\n  0.06536381  0.00911335  0.00817786 -0.01234702 -0.05436099  0.008696\n -0.06127689  0.02955119  0.01310807  0.0104064   0.0011234   0.00083998\n -0.01976374 -0.02220928 -0.02876771  0.06056079 -0.0335219   0.08377212\n  0.05963639  0.04330212 -0.01749748  0.01397648 -0.00503334  0.00112723\n -0.06200413  0.06021319  0.03764915 -0.02112924 -0.01198683  0.05563392\n -0.03364795  0.00499955 -0.02911232  0.02231523 -0.07400277  0.00147186\n  0.0058802  -0.06341481  0.02543582  0.04026565  0.01990033 -0.01011709\n  0.01190119 -0.01027748  0.05595356 -0.09527554  0.04602421 -0.01945246\n  0.07742725  0.06972627 -0.00518946  0.0251797  -0.01906074 -0.04483676\n -0.00595914 -0.04747866  0.02517869  0.01678713 -0.03380574  0.00683599\n  0.0267089   0.02019183 -0.00795396  0.00320497  0.0002704   0.03038545\n -0.01297509  0.03312786 -0.04558575 -0.052286    0.04529403 -0.04183309\n  0.00149674  0.00419793  0.00419541 -0.01478909  0.02657318  0.02880183\n  0.01662267  0.0072107   0.04317995  0.02435094  0.00879466 -0.00860662\n  0.00129513  0.03751524  0.03541268 -0.01369931  0.01339129 -0.02013625\n -0.01035633  0.02390633  0.02451052 -0.02818909  0.00548272  0.02712463\n -0.00491704 -0.01088603  0.03924987  0.0016038   0.01323948 -0.04982772\n -0.00603076  0.03576744 -0.0654219  -0.03347865 -0.02505285 -0.02668833\n -0.06590594 -0.07114326  0.00022113 -0.00037619  0.00450145  0.01126622\n -0.01238685  0.05267997  0.02220996 -0.00927662 -0.01320857 -0.00117523\n -0.02231775  0.08006267 -0.02538465 -0.05068044  0.03741582 -0.03671064\n  0.01349911  0.01109492  0.0178172  -0.03898148  0.05329115  0.05472499\n -0.00148379 -0.03260909 -0.02276047  0.03447321  0.06923791 -0.04298207\n  0.01826981 -0.00186292  0.06022685  0.01983796 -0.0100312  -0.00940972\n -0.02185082 -0.01519291 -0.00146252 -0.0043619  -0.01547979  0.03795889\n  0.00732033 -0.03017836  0.00427333  0.02688116  0.01001612 -0.0499682\n -0.01500354  0.02604187  0.05097236 -0.00685482 -0.00854121  0.00628673\n  0.00420354 -0.02723311 -0.01429951 -0.11775515  0.00636214  0.02934918\n  0.03367074 -0.00558354  0.00819954  0.00335839  0.04765324  0.0159976\n -0.02623178  0.09854842  0.00051874  0.00555829  0.02079008  0.03212606\n -0.02039296 -0.01189663  0.01113159 -0.0214523  -0.01868314  0.04017861\n -0.00300018  0.025298   -0.02423169 -0.03837779  0.02663361  0.03033723\n  0.03086445 -0.00065141  0.11526212 -0.02839297  0.04156581  0.00611733\n  0.0556571  -0.02051461  0.01173092 -0.05872418  0.02205138  0.00993226\n  0.00819855 -0.00454725 -0.058738    0.09375319  0.02672709 -0.01747661\n  0.00509949 -0.09229266 -0.00188406  0.01702669  0.00357824  0.03183471\n  0.00364596 -0.03321126  0.01285781 -0.0608766   0.00953183  0.04565787\n  0.02152903 -0.03578566  0.04004608  0.00322471  0.00807788  0.06615298\n -0.04790046 -0.00385906 -0.02722423 -0.0144038   0.02253917 -0.04282253\n  0.00800859 -0.02954078  0.01596816 -0.0190067  -0.02138199  0.04387883\n -0.00471915  0.03714434  0.02729419  0.01591899  0.02846018 -0.02606664\n -0.00644249 -0.0363077   0.00028722 -0.03955595  0.00934158 -0.00873964\n  0.03167442 -0.03028092 -0.02590486  0.01257198  0.04879005  0.00492253\n -0.05725893  0.03305471  0.04653095  0.00455704  0.02013117 -0.12401123\n -0.00902938 -0.04824764 -0.07108414  0.05881703 -0.03680792  0.02675113\n  0.01284867  0.03395227  0.02373933  0.06159653  0.03907738  0.03450467\n  0.03687435  0.02473232 -0.00951613 -0.04458485  0.03217578  0.00471142\n  0.01183638  0.02922854  0.00433311  0.0418008   0.01051096 -0.03719048\n -0.00892613 -0.05594545 -0.03019618 -0.01727926  0.01402631  0.0143326\n  0.04058613 -0.02266417 -0.01719008  0.01476227  0.01160253  0.02769604\n  0.03060142  0.02793132 -0.01299774 -0.02650553  0.00922584 -0.03258579\n  0.04263041 -0.01317621  0.0508524  -0.02175668 -0.04335656  0.07530316\n  0.046751   -0.00702775  0.03218992 -0.01748743  0.00248242  0.00075869\n -0.02422565 -0.01625239 -0.01357661  0.07610949  0.01950669 -0.00204523\n -0.00566437 -0.01228395  0.04879085 -0.05270721  0.04583317 -0.00099712\n  0.05726192  0.03753421 -0.01171772 -0.00539429 -0.01551528  0.03660974\n -0.03479016  0.01091794 -0.02662812 -0.04851655 -0.01163158 -0.02156748\n  0.02939214  0.00955972 -0.03904358  0.03276338 -0.00589013  0.00740665\n -0.02259324 -0.04090385 -0.0303415  -0.02766273 -0.04979211 -0.0013962\n -0.05081678 -0.04087401 -0.01271363 -0.02700934 -0.01076416 -0.03286007\n  0.06978625 -0.00277307  0.00324779 -0.0013863  -0.02303243 -0.03739782\n -0.02675283  0.002008   -0.04842164  0.03176145  0.0724498  -0.01778986\n  0.01839178  0.02425124  0.01594318 -0.02133973  0.0043463   0.08991332\n -0.03350005 -0.00669872  0.03132771  0.04782934  0.00734336 -0.03753084\n  0.01167018  0.01774404  0.04951888 -0.00598958  0.03635863 -0.02736203\n  0.02283022  0.02798155  0.00254688 -0.02789929 -0.0311453   0.03657547\n  0.05189736  0.05311152  0.00627024  0.02482297  0.08491249 -0.00517625\n  0.00532777  0.02783199 -0.02559065 -0.1222861  -0.01644846  0.03328323\n -0.00529556  0.01962445 -0.03924838 -0.06177576 -0.00521367  0.04778972\n  0.05600981 -0.00803828  0.04241805  0.02438996  0.02956646 -0.05213706\n  0.02158546  0.02437894  0.00748731  0.0125746   0.03331821 -0.01447503\n  0.0700881   0.03332499  0.03681441  0.00877302 -0.05190554  0.00550635\n -0.0043146   0.01688665 -0.001723   -0.03141049 -0.01311814  0.01208935\n -0.04921704 -0.0128426   0.0332859  -0.0255363   0.03846466 -0.02816564\n  0.04098206 -0.02594516 -0.07713301  0.02232255 -0.00523853 -0.01801882\n -0.04680556  0.03600562 -0.02190361 -0.04337141  0.04198327 -0.03256412\n  0.01225084  0.0138362   0.01574981 -0.02223417 -0.01870015  0.0194142\n  0.01883778  0.02492868 -0.0154622  -0.05488847  0.00205875  0.00249978\n -0.01115965 -0.05628597  0.04737066  0.01374035  0.04949427 -0.01350971\n -0.01391657  0.03031396]",
         " you cry you learn you lose you learn"
        ],
        [
         "39",
         "39",
         "You Oughta Know",
         "i want you to know that i'm happy for you. i wish nothing but the best for you both. . the perfect version of me. is he perverted like me. would he go down on you in a theatre. so he speaks eloquently. and you can have his baby. i'm sure you'd make a really excellent mother. . 'cause the love that you gave that we made. wasn't able to make it enough for you. to be open wide. and every time you speak his name. does he know why you told me. you'd be there until you died. 'til you died but you're still alive. . and i'm here to remind you. of the mess you left when you went away. it's not fair to deny me. of the cross i bear that you gave to me. you you you oughta know. . you seem very well things look peaceful. i'm not quite as well i thought you should know. did you forget about me mrs. duplicity. i hate to give him so much to live up to. it was a slap in the face. how quickly i was replaced. and are you thinking of me when he fucks you. . 'cause the love that you gave that we made. wasn't able to make it enough for you. to be open wide no. and every time you speak his name. does he know why you told me. you'd be there until you died. 'til you died but you're still alive. . and i'm here to remind you. of the mess you left when you went away. it's not fair to deny me. of the cross i bear that you gave to me. you you you oughta know. . . ohh.... . 'cause the joke that you laid in the bed that was me. and i'm not gonna fade as soon as you close your eyes. and you know it and you know it. and every time i scratch my nails. down someone else's back i hope you feel it. well can you feel it. . and i'm here to remind you. of the mess you left when you went away. it's not fair it's not fair to deny me. of the cross i bear that you gave to me. you you you you you you oughta know. and i'm here to remind you. of the mess you left when you went away. it's not fair to deny me. of the cross i bear that you gave to me. . . you you you oughta know",
         "0.137",
         "0.718",
         "0.146",
         "0.3307",
         "[ 0.0154194   0.00895871 -0.02364945  0.01011731  0.11590288 -0.04705463\n -0.06056792 -0.02345568  0.01869952  0.03175492  0.02918174  0.04423505\n  0.0261989   0.03525582 -0.00294037  0.0641237   0.02355955 -0.00508868\n -0.01487402  0.02627483 -0.01648125  0.00839485  0.01189225  0.06511363\n  0.00427666 -0.02052738  0.00304499  0.00125225  0.05102291  0.0243841\n  0.02903274 -0.02719263 -0.00608669 -0.01480473 -0.00772152  0.00226036\n  0.03626178  0.01365313  0.00266911  0.02539862 -0.03138776 -0.02269737\n -0.03068228 -0.02993557 -0.0333937   0.00813437  0.02778899 -0.02580716\n -0.06843394 -0.01336172 -0.01657129 -0.0253661  -0.02658843  0.01218464\n  0.07817493 -0.0061395  -0.05491343 -0.00568618  0.04827958  0.05206215\n -0.05843452  0.06432241  0.01230154  0.01133871 -0.03933048  0.01256168\n -0.01440019  0.03553447  0.00462253  0.01022169  0.04109792  0.04183172\n  0.02025013  0.02072402 -0.01168942  0.01728092 -0.02375121 -0.06141199\n  0.02691437  0.01522108 -0.01597617 -0.06836738  0.00718156 -0.05648078\n -0.01932638  0.04787508  0.03297608  0.05168075 -0.03486724  0.04537381\n  0.01360111 -0.01698768  0.03455864  0.01272889  0.00288746  0.02166545\n -0.02430482  0.01338575  0.00639524  0.02356168  0.01013807  0.02045757\n  0.00606105  0.00446307  0.00870646 -0.01950351  0.05000849  0.00792692\n  0.05548413  0.01731234 -0.03621098  0.04063138  0.06762429 -0.0303258\n -0.07038423 -0.02106321 -0.0400064  -0.00709995 -0.00082748  0.03619889\n -0.00749378  0.00109996 -0.00636969 -0.0264296  -0.0172432  -0.02423062\n  0.0049411  -0.03747594 -0.01013176  0.05671466  0.00443352  0.04594027\n  0.00748392 -0.02267332  0.0175925   0.00032764 -0.02819792 -0.00807806\n -0.02395553  0.04157117 -0.06024769 -0.03338233  0.01488043 -0.03702044\n  0.07760348  0.00714677  0.00552437 -0.03081958  0.01822604  0.00347273\n  0.08306943  0.01505137 -0.00055849 -0.01398509 -0.02717723  0.0125489\n  0.02688348 -0.00978188 -0.02657624  0.00336954  0.03648574 -0.00367322\n -0.03176301  0.01732208  0.05827726 -0.02464048 -0.0157806   0.01363798\n -0.04221939 -0.03342165  0.03404267  0.05076188  0.05019439  0.00293643\n  0.02066921 -0.01480119  0.01264798 -0.02248015  0.00555672  0.03940506\n  0.06084882 -0.03098742  0.01219066  0.04029021 -0.01545646 -0.00770829\n -0.00675077 -0.02949067  0.02540225  0.04034162 -0.00211542  0.02028774\n  0.02845683 -0.00725025  0.11564932 -0.02703308 -0.05897232 -0.03393216\n  0.05562839  0.00786958  0.04523168 -0.07743493  0.03725272  0.00190389\n -0.03877329  0.02896497  0.02909056  0.00871908 -0.02650743 -0.03877564\n -0.07617717  0.04251362 -0.08938075  0.06693006 -0.02429285  0.02777257\n -0.03745419  0.01262677 -0.03833853 -0.02476039  0.00354444  0.02382196\n -0.03211574 -0.01119207  0.00050177 -0.02678095 -0.01662618  0.03322434\n -0.00762172 -0.0051315   0.07998862 -0.0313242   0.05559787  0.02724105\n  0.00414328  0.02406162 -0.01398782 -0.02721778 -0.02021226  0.0192945\n -0.02480089 -0.00284287  0.01299308  0.00553101 -0.01669703  0.00494128\n  0.02856196  0.01892754  0.002037   -0.01359192 -0.01635936  0.00251697\n -0.0103539   0.06755438  0.01387062  0.02896362  0.05170697 -0.05234263\n  0.03492959 -0.03495301 -0.04752354  0.03070761  0.01967075  0.02551088\n -0.01030961  0.00800203 -0.06943701 -0.00234778  0.01917091 -0.00870106\n  0.01044586 -0.04445152  0.00038016 -0.04537673 -0.06318345  0.03635302\n -0.01402866 -0.00747177 -0.01054334  0.02031142  0.02976773 -0.02264012\n  0.02148174 -0.01398356  0.00525008 -0.02077773 -0.02291507  0.12195615\n  0.00184301 -0.02758958 -0.05349838  0.04196937 -0.03891623  0.03318663\n -0.09604724  0.03268196 -0.01242388  0.00947555 -0.01427399 -0.15351671\n  0.00886667 -0.07331468 -0.00312409  0.04089484 -0.01182057  0.00319405\n -0.00082734  0.00871184  0.03064485  0.05332083  0.05290857 -0.04593785\n  0.01477544  0.05629389  0.01143349 -0.07227722 -0.02841996  0.01451416\n -0.01308729  0.03462598  0.01305921  0.08842737  0.01596824  0.01228571\n  0.06406651 -0.03067142 -0.01054066 -0.00449806  0.04047155 -0.02692057\n -0.00107556 -0.00807683  0.01511331  0.03754597  0.01067447  0.01596304\n  0.02346678 -0.02004384  0.02436042 -0.01029331 -0.00587359  0.00991167\n -0.02272598  0.00219882  0.00497858 -0.04686099 -0.00018252  0.03128799\n  0.02922647  0.00887798 -0.01115719 -0.01987665 -0.08111393 -0.05211448\n  0.0050569   0.03666758  0.01695364  0.00483448 -0.01149107 -0.01986956\n -0.01333235 -0.00743434 -0.01371817 -0.02209552  0.02279003 -0.02254641\n  0.06455223 -0.00567552  0.08512898  0.02749345 -0.03224624 -0.01467558\n -0.04141384  0.03489885  0.01849469 -0.04039567  0.02488491 -0.02726948\n  0.05998939  0.00570729 -0.02486602 -0.00461567 -0.00947356  0.01318444\n  0.01587236  0.03272969  0.015805    0.01847783  0.04683512 -0.02183671\n -0.00296732  0.0235978  -0.04092238  0.0068185  -0.02411871  0.03401963\n  0.0468118  -0.03254597 -0.01388426 -0.04345355 -0.01632691  0.01158699\n  0.04290995  0.01603053  0.02194314 -0.02619646  0.01988054 -0.01052312\n  0.00050396  0.00383517 -0.00857368 -0.02605168 -0.0407922   0.00766174\n -0.02285461 -0.02505358  0.01900024 -0.01157019  0.04509588 -0.05168391\n  0.01932978  0.01622158 -0.01224821  0.00740496  0.0321694  -0.05048057\n -0.00067557  0.00777012  0.00502725  0.00698361  0.01396463  0.02087407\n  0.07576048 -0.01351642  0.0204769   0.00940541  0.04683911 -0.10060855\n -0.01140177 -0.00673951  0.01313298 -0.118477   -0.00346751  0.00325663\n  0.07107583 -0.0723589  -0.01607806 -0.03303986  0.03966717  0.00196938\n  0.02267435  0.04215598  0.04119011  0.03134527  0.01069929 -0.05654718\n  0.00244901  0.07626212 -0.00964016  0.02540211  0.0212643  -0.05641418\n  0.04438835 -0.00177908  0.00548841 -0.00599462 -0.06720957 -0.01508128\n -0.07994764 -0.05624935 -0.01511936 -0.04790084 -0.05506887  0.03184061\n -0.013731    0.05158142 -0.04589285  0.03297293 -0.01155886  0.01230904\n  0.01050471 -0.03817703 -0.06392927 -0.02161114  0.01158039  0.03334538\n  0.04037957  0.01583128  0.00827347 -0.00808299 -0.00494603 -0.01088782\n -0.04266233  0.00066501  0.10080269 -0.00225958 -0.02903786  0.01470683\n  0.04594171 -0.01613501 -0.0284442   0.03084495  0.06773949 -0.06716745\n  0.01708152 -0.03794614  0.05341667  0.0007201   0.02191224  0.0174953\n -0.0106079   0.03646326]",
         " it's not fair to deny me"
        ],
        [
         "40",
         "40",
         "That I Would Be Good",
         "that i would be good even if i did nothing. . . that i would be good even if i got the thumbs down. . . that i would be good even if i got resentful. . . that i would be good even if i gained ten pounds. . . that i would be fine even if i act like a child. . . why won't you accept who i need to be. . . that i would be good even if my hair stays wild. . . does anyone hear me. . . that i would be great if i just stopped standing by. . . everything is fucked when you're not here. . . that i would be grand if i was not all knowing. . . i need to know that i would be loved. even when i am my true self. . . it has to get better. . . that i would be good. even when i am overwhelmed. . . i pray it will be. . . that i would be loved. . . am i loved. . . even when i was fuming. . . i need to hear that i would be good. even if i was clingy. . . that i would be good even if i lost sanity. that i would be good whether with or without you. . oh.... i i would. i i",
         "0.083",
         "0.63",
         "0.287",
         "0.9908",
         "[-0.05563997  0.01398291 -0.0391565  -0.05869158  0.08822169  0.01359307\n -0.00134444 -0.01057915  0.04076986  0.02944518  0.03855889 -0.04015532\n  0.02082809  0.0984047   0.01200847  0.04395667 -0.00726114 -0.01416421\n -0.0160369   0.01483281  0.00527831 -0.0631528   0.04420913  0.00012471\n -0.03108539 -0.00221318  0.05204485  0.07870766  0.01525871 -0.02149908\n  0.00512418 -0.00874338  0.0216685  -0.02312846  0.03265429  0.04024856\n -0.00707738  0.0261774  -0.00667326 -0.05812729  0.00317366  0.01341862\n -0.01771754 -0.09043088 -0.00102058  0.03477155 -0.01827043  0.03537381\n -0.0095681   0.02398116 -0.06038446 -0.01566169 -0.03046634  0.01012799\n  0.04391437 -0.00675169 -0.04343809 -0.01466202 -0.04367495  0.00342156\n -0.02730014  0.06896032  0.00479973  0.0640742  -0.04132859 -0.00796105\n -0.03863689  0.07100872  0.00456384 -0.02807022  0.01452513 -0.01311394\n -0.05159642  0.00851407  0.03477753  0.03725383  0.00254314  0.00439084\n  0.07505519  0.03558201 -0.04795919 -0.04117697  0.01525063  0.00529145\n  0.02407575  0.06743269  0.00223132  0.03778981 -0.06017108  0.03641762\n  0.09566149 -0.03926627  0.02908482  0.03641455 -0.02362777  0.01107151\n  0.0101367   0.04405536  0.06810831 -0.0203598  -0.04671466  0.00419935\n -0.00303352  0.08696112 -0.00606159 -0.0416707   0.01473654 -0.00684991\n -0.02043325  0.03158265  0.00306772  0.03842002  0.09546112 -0.00605376\n -0.08572843 -0.021671    0.07559263 -0.04287048  0.02077188 -0.00251857\n  0.02593499  0.01283546 -0.01935931 -0.01189538  0.03337693 -0.04238654\n  0.02410106 -0.0243062  -0.04760752  0.06913717  0.0014072  -0.02237086\n -0.00017529 -0.04685491 -0.00992002 -0.0616249  -0.08074722  0.01307688\n -0.07165828 -0.00033987 -0.0348661  -0.01304522 -0.00073241  0.02521621\n  0.04058622  0.00235829  0.00026163  0.02990381  0.06628431  0.01958304\n  0.00232045  0.02801851 -0.04861376 -0.03064463 -0.0286942   0.01704548\n  0.00795998  0.0498711  -0.03782982  0.01131495  0.01790064 -0.04707766\n -0.04984936 -0.00312055 -0.0616068   0.00236452 -0.05511068  0.03552765\n -0.011308    0.03055166  0.05356693  0.05265785  0.08072694  0.01861444\n  0.02571004 -0.01897491  0.00725257  0.03007467  0.04378101  0.05336834\n  0.02970045 -0.00491459 -0.00538332 -0.01729699 -0.03946359 -0.05696823\n -0.01084389  0.01104116 -0.01074939  0.04591865  0.01481013 -0.01964824\n  0.07836872  0.07133526  0.03929975  0.00722988 -0.0187577  -0.01415561\n  0.00997465 -0.01325179 -0.04588481 -0.1054263   0.0173218   0.05139454\n -0.0043132   0.00163009  0.04042228  0.03469938  0.0626654   0.03243805\n -0.05971962  0.02993987  0.01103841  0.01147411 -0.01354935  0.0434576\n -0.02214516 -0.01482765 -0.01123941 -0.01088366 -0.00293356  0.0556942\n  0.01039814 -0.03542257 -0.00456442 -0.004092   -0.0328918   0.04371673\n -0.00983429 -0.00431085  0.01915739 -0.04911826  0.04638611 -0.01462098\n  0.00942481  0.00358313 -0.01627818 -0.00666533 -0.029441    0.03918948\n -0.04072795  0.0310142   0.02421474  0.01352701  0.00407151 -0.0399047\n  0.00377818 -0.00700853  0.00033085  0.05333817  0.02122473 -0.01641824\n  0.01940711  0.04460391  0.05378464 -0.05975023 -0.00273725 -0.03054768\n -0.04309581 -0.00198728 -0.00913537  0.00077668  0.02883304  0.04330441\n  0.08575398 -0.00765509 -0.04779342  0.01957237  0.00390237 -0.00147658\n -0.00871301 -0.00627141  0.02138793 -0.04778757 -0.01773883  0.06125683\n  0.01555533  0.01174917  0.02750378 -0.01965968  0.01664022  0.01290496\n -0.02308058 -0.02088244 -0.03245868 -0.00924441 -0.04691247 -0.0066182\n  0.00693262 -0.05580153 -0.03939191  0.05266365 -0.06671459 -0.01105612\n -0.05827185  0.05072812  0.02041093 -0.04088648  0.00583384  0.03278133\n  0.05151384 -0.09277048 -0.00078595  0.06373084 -0.05639204 -0.00889476\n -0.0010243  -0.00612005 -0.0139072   0.00468267  0.04018809  0.02973998\n  0.04112165  0.03807635  0.01057118 -0.06768225  0.01874764 -0.04825871\n -0.05465299  0.04508105  0.02669081  0.05711537 -0.00118508 -0.06007735\n -0.02108126  0.02810853 -0.05834169  0.01268327  0.05545232 -0.04304004\n -0.02215375  0.02985758  0.02201801  0.03299259 -0.01465968 -0.01039125\n -0.00451128  0.0472229  -0.02673572  0.00388552  0.04426142  0.09029161\n -0.00070731  0.02514637  0.06096851 -0.02567469 -0.01541749  0.01059465\n  0.00257476  0.00028844  0.03060552  0.00794074  0.01846879  0.00421473\n -0.06517704  0.00396006 -0.02760068 -0.021812   -0.03455026  0.02922264\n  0.00941437 -0.06986813  0.02726997 -0.00637901  0.00627364 -0.00412799\n -0.00180344  0.03613682  0.00869944  0.00017167 -0.04296779  0.00133574\n -0.01599428  0.01292901  0.02491578 -0.0090405  -0.01632467 -0.02681998\n -0.00164934  0.02129363 -0.03784338  0.00852372 -0.02326859 -0.00949483\n -0.03876158 -0.0279308  -0.06937467 -0.01945971  0.05271442 -0.02068174\n  0.01840969 -0.00446216  0.00756568 -0.00533297  0.03528556  0.1011557\n  0.01657102 -0.05469593  0.03291584 -0.01828155 -0.05579965  0.02197793\n -0.05248559  0.04873868 -0.01981165  0.01340553  0.04232901  0.00526735\n -0.02600222 -0.00436231 -0.00738651  0.01210454 -0.00274327  0.03998162\n -0.04373242  0.02782812 -0.01446478  0.02147264  0.00505153 -0.06944115\n -0.012377    0.03098582  0.01207567  0.0328671   0.04271387  0.00359435\n -0.0430125   0.02574058 -0.00105396 -0.02937983 -0.01277942  0.00520641\n  0.05240558 -0.0423648  -0.00238528 -0.00632128  0.01927263 -0.06216167\n  0.0507806  -0.00105455 -0.02851989 -0.08545725  0.00981233 -0.00598654\n  0.05209412 -0.00584979 -0.07140745  0.00420808 -0.01952497  0.0264882\n -0.01017092  0.07414184  0.02632865 -0.04836514 -0.01447765 -0.08102606\n  0.00664221  0.04413513  0.00193866  0.01575544 -0.01624266 -0.00937444\n  0.07986611  0.00323805 -0.01212791 -0.03243668  0.01275648 -0.02131991\n -0.04368375 -0.06579384 -0.04663659  0.02135601 -0.03302121 -0.02752841\n  0.01336207  0.05803963 -0.0131334   0.08366942  0.04742938 -0.02235593\n  0.05365618  0.01359564 -0.06081614  0.00407871  0.02583996 -0.02032594\n  0.01449563  0.00724253 -0.06109962 -0.02124547  0.03814637  0.00352071\n -0.03430716  0.02010442  0.0633615  -0.02402773 -0.02406128  0.0507961\n  0.03574794  0.00444785 -0.0205384   0.05653775  0.11524229 -0.00565223\n  0.03352482 -0.06234976  0.0094259  -0.02350146  0.02080254  0.01152389\n  0.01961649  0.02164287]",
         " that i would be great if i just stopped standing by"
        ],
        [
         "41",
         "41",
         "Smiling",
         "this is a life of extremes. both sides are slippery and enticing. these are my places off the rails. and this my loose recollection of a falling. i barely remember who i failed. i was just trying to keep it together. . . this is my first wave of my white flag. this is the sound of me hitting bottom. this my surrender if that's what you call it. in the anatomy of my crash. . . and i keep on smiling. keep on moving. can't stand still. . . me the notorious bottom dweller. me the ceilingless brave explorer. lured to the ends of overwhelm. . . this is my first wave of the white flag. this is the sound of me hitting bottom. this my surrender if that's what i call it. in the anatomy of my crash. . . and i keep on smiling. keep on moving. can't stand still. . . such pretty forks in the road. on this continuum i've been bouncing. life flashing promise before my eyes. . . this is my first wave of my white flag. this is the sound of me hitting bottom. this my surrender if i can bare it. in the anatomy of my crash. . . and i keep on smiling. keep on moving. can't stand still",
         "0.091",
         "0.821",
         "0.089",
         "0.144",
         "[-4.99739498e-02 -2.24658735e-02  8.94028414e-03  1.02441059e-02\n  4.85226512e-02  5.23792952e-03  2.79645529e-02  3.74164921e-03\n -1.62146483e-02  1.11354087e-02  3.12281549e-02 -7.30691617e-03\n -1.69680901e-02  1.14703560e-02 -3.93005982e-02  3.25926170e-02\n -9.81007516e-03 -5.43014705e-02  2.41624936e-03  3.17081101e-02\n -1.99213587e-02  6.66097458e-03 -3.76993716e-02  7.49294758e-02\n -3.04542063e-03  2.52160840e-02 -8.02434608e-03  9.47451871e-03\n -1.56915933e-03 -1.56259183e-02  2.95015555e-02  1.84193742e-03\n  2.03597397e-02 -3.82834463e-03 -6.86741024e-02  3.18050794e-02\n  9.11709368e-02  4.57531437e-02 -3.82413454e-02 -1.93956122e-02\n -1.93519406e-02  9.72210139e-04  4.91284244e-02 -3.55876237e-02\n -1.46499248e-02  1.33576849e-02 -7.09335203e-04 -5.27655659e-03\n  3.99061851e-02 -1.41963307e-02 -1.07283015e-02  4.13929224e-02\n  1.53816966e-02 -5.32777980e-02  4.67119478e-02  3.45039391e-03\n -3.43866050e-02  1.27885956e-02  6.68638870e-02  3.04100551e-02\n -3.13129351e-02 -2.13917550e-02  6.12471253e-02  4.41193022e-02\n -4.47515026e-02  6.33167289e-03  2.34669596e-02 -3.81487198e-02\n  3.47232930e-02  3.29024089e-03 -1.55546376e-03  1.69566441e-02\n  3.37258391e-02 -5.10433838e-02  4.18036915e-02  7.46014267e-02\n -6.33590743e-02  3.69817726e-02 -1.00664400e-01 -5.78360483e-02\n  7.70068690e-02 -6.89011514e-02  2.67648813e-03 -1.64266713e-02\n  7.79464692e-02  4.73886319e-02  2.47580297e-02 -4.92427265e-03\n -4.19738283e-03 -1.23563986e-02  1.03274696e-01  1.07365670e-02\n  3.71215749e-03  2.26726718e-02 -2.90125813e-02  2.61615892e-03\n -2.15904787e-02  4.81682420e-02  6.00999184e-02  2.71054227e-02\n -2.12536957e-02  4.13212404e-02 -1.09855765e-02  2.68850401e-02\n -2.35536098e-02 -1.36560034e-02  5.35030961e-02  1.95373525e-03\n -5.16941436e-02  3.68488766e-02  2.88299471e-02  2.77197994e-02\n  3.57138440e-02  6.43235724e-03 -8.60603228e-02  2.52544526e-02\n  1.56167876e-02 -1.53263863e-02  3.16577293e-02  5.56278378e-02\n  5.39737474e-03  6.51714206e-02  2.34739091e-02  2.89896620e-04\n  6.07700041e-03 -1.10430578e-02 -1.86049901e-02 -1.31686649e-03\n  3.21303383e-02  4.30074520e-02 -1.87834874e-02 -7.76056647e-02\n  8.65077879e-03 -2.65799314e-02 -1.94606814e-03 -2.07354594e-02\n -7.94142559e-02 -3.65738347e-02 -5.26424497e-03 -4.63575535e-02\n -6.42215693e-03 -9.15274490e-03  4.27039266e-02 -5.60579225e-02\n -4.99076433e-02  5.63610494e-02 -2.72212434e-03 -6.90331543e-03\n -1.19072031e-02  1.58547629e-02 -3.38032395e-02  8.29662234e-02\n  3.30031663e-02 -3.45912352e-02  4.64154929e-02 -2.92974599e-02\n -3.26698199e-02  5.35939150e-02  4.58304882e-02  4.75562625e-02\n -2.57225689e-02  1.18011422e-01  1.55385758e-03  3.33555639e-02\n -5.03586512e-03 -4.62946557e-02 -5.51995896e-02  3.13916579e-02\n -2.25311378e-03  3.52083221e-02 -4.23583165e-02  3.29043493e-02\n  4.45472971e-02 -7.15130046e-02  1.91087369e-02 -4.78584319e-03\n  5.56249134e-02 -4.49124463e-02 -3.69867086e-02  2.77246647e-02\n  4.32802923e-02  1.40289068e-02 -4.97159548e-02 -3.47529687e-02\n  3.86227109e-02 -1.23328890e-03  6.06458671e-02 -5.31467572e-02\n -3.73898484e-02  6.00334741e-02  2.82511339e-02 -8.30843952e-03\n  3.43905552e-03  6.93780137e-03  9.32008121e-03 -1.84560306e-02\n -2.41197413e-04 -4.55739908e-03 -2.11893413e-02 -3.47760599e-03\n -4.25629551e-03 -1.35956675e-01  3.60833853e-02 -1.07280863e-03\n  1.60792954e-02 -1.81090068e-02  3.41557227e-02  8.41044914e-03\n  2.38988120e-02  7.42514106e-03 -5.84189175e-03  1.46463560e-02\n -1.28834676e-02 -1.94389187e-02 -6.98940456e-02  8.06124955e-02\n -4.06438038e-02 -1.19734351e-02  4.52059060e-02  9.78685543e-03\n -3.41480635e-02  2.54554097e-02  6.23039491e-02 -9.14853532e-03\n -5.20509183e-02 -6.05929457e-02 -5.48774451e-02  2.16308795e-02\n -1.43322628e-02  3.28823961e-02  5.34575209e-02 -4.86492477e-02\n -2.75927689e-02 -5.58091477e-02 -3.45164016e-02 -1.14202490e-02\n  6.56246766e-02 -4.28284667e-02 -5.05042262e-03  2.96948869e-02\n -1.40621765e-02  5.27496496e-03 -1.75804961e-02  4.42088991e-02\n  2.54600067e-02 -8.23266432e-03  4.04920708e-03 -6.60355315e-02\n -2.95216646e-02 -3.78526188e-02  5.12719601e-02 -2.82273833e-02\n -5.58478700e-04  3.71251851e-02 -1.05711184e-02  2.79959477e-02\n  5.10420837e-03 -1.56361740e-02 -2.87631564e-02 -2.35745590e-02\n -1.30384415e-02  3.64043214e-03 -1.16767567e-02  2.09801365e-02\n  1.63701102e-02  3.70882191e-02  8.92623793e-03  4.76573929e-02\n  3.90190305e-03 -1.43215759e-02 -1.21009499e-02  3.02288923e-02\n -5.85157704e-03  1.04263341e-02 -3.48411431e-03 -2.12279838e-02\n  1.01869330e-02  1.07539780e-01  4.53776345e-02  1.57250576e-02\n -3.23335454e-03  1.54481800e-02  1.71070211e-02 -1.23392474e-02\n  9.50585026e-03  1.75499991e-02  8.83516483e-03 -5.06304167e-02\n  6.10451261e-03  4.64066081e-02  8.03745445e-03  2.86464393e-02\n -2.43285745e-02 -3.67190093e-02 -7.12115616e-02  3.92808542e-02\n  7.90761132e-03 -1.74878091e-02  4.89878990e-02 -3.91312875e-02\n  1.21209221e-02 -3.40894163e-02 -6.48197979e-02  4.52753007e-02\n -3.24126449e-03  1.40824849e-02 -2.97186486e-02  5.40287830e-02\n  1.69109553e-02  3.65887061e-02  9.00063738e-02  4.02571224e-02\n -2.98074987e-02  1.25969714e-02  3.11667528e-02 -2.42844746e-02\n  1.99432932e-02  5.51842060e-03  5.83209505e-04  2.58639846e-02\n -1.60689130e-02 -1.46851055e-02  2.20291615e-02 -6.17019227e-03\n -4.29739393e-02 -4.28056950e-03  2.58322526e-02 -4.37024683e-02\n -1.39134135e-02 -3.79910762e-03  6.81757554e-03  1.28081348e-03\n  5.06551675e-02 -3.42983119e-02  2.66215261e-02 -3.11593036e-03\n -3.51155810e-02  1.58239361e-02 -1.58959106e-02 -3.27264285e-03\n  1.18729910e-02  3.84925082e-02  4.45775017e-02  1.73664838e-02\n  8.86661932e-03 -3.21657546e-02 -6.50148168e-02  2.65426878e-02\n  4.38590944e-02 -2.56248266e-02 -4.75815237e-02 -6.07028371e-03\n -4.44830209e-02 -1.49916764e-02  7.49930460e-03  6.68324297e-03\n  9.16150287e-02 -1.57135278e-02  1.96809918e-02  3.43207433e-03\n  3.20389792e-02  5.46148338e-04  8.42132196e-02 -3.80597333e-03\n -3.14316228e-02 -4.54156436e-02  6.75735474e-02 -2.34004445e-02\n -1.63516942e-02  4.22085747e-02 -7.68556669e-02  2.44661304e-03\n  9.22788307e-03  5.31500168e-02 -1.04535613e-02  2.19624327e-03\n -4.99152055e-04 -4.92468430e-03  8.36244151e-02  2.53508426e-02\n -1.49360402e-02 -3.47834872e-03  1.45285903e-02 -2.14081351e-02\n  4.10810448e-02 -1.07560521e-02 -6.04143739e-03  2.68179718e-02\n -4.26772423e-02 -2.84155887e-02  1.14964126e-02 -3.12108621e-02\n -1.20131848e-02  9.35560837e-03  1.88674200e-02 -1.88116450e-04\n -7.24263787e-02 -6.47431239e-02  6.94103017e-02 -1.83668938e-02\n -4.16413471e-02 -6.98844939e-02 -4.85346504e-02  2.52453834e-02\n  3.42998421e-03 -1.65455099e-02 -3.40729430e-02 -5.42849377e-02\n  4.76924106e-02 -5.12714349e-02  4.46534082e-02  2.56507788e-02\n  1.05331966e-03  4.93128449e-02  5.32753244e-02  1.61539707e-02\n  2.04829145e-02 -3.26631195e-03 -1.19508710e-02  9.50792991e-03\n -2.25683674e-03  4.77790646e-02  2.61112694e-02 -3.56370471e-02\n  3.37419920e-02 -1.26998303e-02  2.10552253e-02  1.50106736e-02\n -2.24831840e-03 -6.54069409e-02 -1.75478626e-02 -1.73293762e-02\n  6.75187781e-02  8.64147861e-03 -4.04383987e-02  1.50701059e-02\n  2.71598622e-02 -4.96061929e-02 -6.55439198e-02  7.87336659e-03\n  5.52486107e-02 -9.22954679e-02  6.05782634e-03  5.09429798e-02\n  1.67598426e-02 -1.04873627e-02 -5.84506020e-02  1.68296825e-02\n  6.36193296e-03 -1.65044554e-02  8.95558521e-02 -3.10826786e-02\n  3.54601070e-05  5.77106513e-03  2.49490347e-02 -1.20356362e-02\n -1.43842306e-02  1.06360754e-02 -2.59042569e-02 -5.91287797e-04\n  2.48543383e-03 -1.98512282e-02  2.55073886e-02  2.58565266e-02\n  1.84981432e-02  8.61698166e-02 -2.34595351e-02 -2.95918006e-02\n -2.02043597e-02 -8.13408475e-03 -2.21713297e-02  2.43560169e-02\n -7.74979740e-02 -8.55062250e-03 -2.92331371e-02  6.18404038e-02\n -5.83417714e-02 -2.90340297e-02  3.96731235e-02 -3.85289337e-03\n  3.39144804e-02  9.20945313e-03 -4.76197861e-02  1.34040834e-02\n  6.23699219e-04 -3.76063026e-02 -9.45831276e-03  4.92381975e-02\n -1.86865516e-02 -4.77281623e-02  5.52659445e-02  1.78888980e-02\n  1.87522545e-02  3.01935915e-02  4.16159332e-02 -3.03444061e-02\n -2.45186016e-02 -9.58145224e-03  7.46846572e-02 -1.59967653e-02\n -4.19921093e-02 -4.98674251e-02  1.13965258e-01  7.92421214e-03\n  3.77349816e-02 -4.02644575e-02 -1.68351382e-02  4.32921350e-02\n  4.39558178e-02 -4.08060588e-02 -9.60545614e-02  1.46194436e-02]",
         " can't stand still"
        ],
        [
         "42",
         "42",
         "Head Over Feet",
         "i had no choice. . . but to hear you. . . you stated your case. . . time and again. . . i thought about it. . . you treat me like. . . i'm a princess. . . i'm not used to. . . liking that. you ask how my day was. . you've already won me over in spite of me. . . and don't be alarmed if i fall. . . head over feet. . . and don't be surprised if i love you. . . for all that you are. . . i couldn't help it. it's all your fault. . . your love is thick and it swallowed me whole. you're so much braver than i gave you credit for. that's not lip service. . . you're the best listener that i've ever met. . . let's be best friends. best friends with benefits. what took me so long. . . i've never felt this healthy before. i've never wanted something rational. i am aware now. . . i am aware now. . you've already won me over in spite of me. and don't be alarmed if i fall head over feet. and don't be surprised if i love you for all that you are. i couldn't help it. it's all your fault. . you've already won me over in spite of me. and don't be alarmed if i fall head over feet. and don't be surprised if i love you for all that you are. i couldn't help it. it's all your fault. . knot in my stomach and. . lump in my throat. . . i went to your house. i walked up the stairs. i opened your door without ringing the bell. i walked down the hall. into your room. where i could feel you. and i shouldn't be here without permission. i shouldn't be here",
         "0.123",
         "0.609",
         "0.268",
         "0.9961",
         "[-1.78707782e-02  3.75387780e-02 -2.97036041e-02  8.76522902e-03\n  7.37264529e-02  5.01587801e-02  1.17426505e-02 -2.66862288e-02\n  6.79467171e-02  6.93010539e-02  1.04890380e-03 -1.90877356e-03\n -4.60553244e-02  2.07695998e-02  3.19677107e-02  4.78504375e-02\n  1.38558373e-02 -4.97543961e-02 -2.89591402e-02  3.83412242e-02\n -1.02447476e-02 -1.93875947e-03  8.03322531e-03  8.39102790e-02\n -2.34206505e-02  1.29196914e-02  2.50078663e-02  8.75581875e-02\n -4.54114527e-02 -3.41332555e-02  3.97080742e-02 -6.11292832e-02\n -6.42668549e-03 -3.63711566e-02 -3.18666436e-02 -3.37300934e-02\n -1.67038441e-02 -8.52147117e-03  5.87236434e-02 -1.81733053e-02\n -3.98096219e-02 -9.65100899e-03  5.20737050e-03 -4.41098101e-02\n  8.88522808e-03  1.05048371e-02 -1.50299119e-02 -3.18735130e-02\n  2.58241743e-02  4.66108583e-02 -3.62863988e-02  2.34455289e-03\n -3.17874439e-02  1.03448713e-02  5.83211742e-02  2.54521538e-02\n  6.66439440e-03  7.03028440e-02 -1.23872366e-02  2.29850854e-03\n -6.39211247e-03  3.61597985e-02  1.90974995e-02 -2.96405181e-02\n -4.68779877e-02 -6.98291324e-03  3.23154368e-02  7.66229630e-02\n -3.43186455e-03  2.37747896e-02  1.96795654e-03 -4.90316674e-02\n  2.40916503e-03  2.35861242e-02 -2.15227287e-02  3.64028774e-02\n -2.44891737e-02 -1.12651638e-03 -3.78658883e-02 -5.19052073e-02\n -4.20409441e-02 -8.45574215e-02  2.78697591e-02  1.35880522e-02\n  1.74661372e-02  1.31918907e-01  1.58684701e-02  1.28476536e-02\n  3.26260505e-03  7.72153288e-02  1.93450861e-02 -1.54192951e-02\n  9.44428425e-03  1.08098928e-02 -9.43204537e-02 -2.77668051e-02\n  6.26426935e-02  4.76245023e-02  6.05875663e-02 -3.33355404e-02\n -2.52752919e-02  2.01150752e-03 -6.07820116e-02 -4.67642844e-02\n  5.33175515e-03 -7.29072541e-02  4.64534480e-03  4.88444790e-02\n  3.84598318e-03  1.49598923e-02  3.65804359e-02  5.17274141e-02\n  4.21876609e-02  6.79836841e-03 -9.05789435e-02  2.41292212e-02\n  5.46082249e-03 -2.60658399e-03 -9.50131274e-04  9.28911008e-03\n  1.50553565e-02  4.24080379e-02 -3.74801718e-02  1.82689819e-02\n  2.66603716e-02 -4.79777120e-02 -4.29136679e-03 -3.00180092e-02\n  3.21192630e-02  1.97470803e-02  5.59799373e-02 -2.20114947e-03\n  3.57715711e-02 -6.54927045e-02  1.70547552e-02  5.87200513e-03\n -5.43256365e-02 -1.42994048e-02  2.87851342e-03  1.90374674e-03\n -5.45023233e-02 -4.59101424e-02  2.50700321e-02 -1.46062383e-02\n  5.48767336e-02  8.19689687e-03  8.43530055e-03  6.36477619e-02\n  4.65491414e-02 -3.19582969e-02 -1.71352699e-02  5.06143682e-02\n -8.11859667e-02 -3.30688059e-02 -7.13543408e-03 -6.42861575e-02\n -1.35876918e-02  3.09297238e-02 -2.75062136e-02 -1.50477765e-02\n -3.61227132e-02  6.22922555e-03  1.18311243e-02 -1.27116954e-02\n  4.31656465e-02 -5.75492792e-02 -6.89276122e-03  5.89182749e-02\n -3.83751579e-02  1.91972144e-02  2.86798598e-03  6.59138709e-02\n  3.35980728e-02  1.81756895e-02 -3.51839326e-02 -3.25241126e-02\n  4.34716381e-02 -2.15621404e-02  9.22902860e-03  6.89968988e-02\n  9.78696346e-03 -7.40439445e-02  9.04026814e-03 -4.19047140e-02\n -1.60811879e-02 -5.84666021e-02 -8.90270993e-03  1.94287614e-03\n -1.80947576e-02  6.76860139e-02 -1.55888638e-02  6.51292317e-03\n  6.98373280e-03  2.40346827e-02  1.27164632e-01 -1.86893344e-02\n -1.16843525e-02 -2.54389737e-02  4.95242961e-02 -1.76404566e-02\n  3.16268317e-02 -1.31473780e-01  5.88135757e-02  3.12720835e-02\n -5.08129364e-03  2.62819715e-02  5.01303785e-02  7.00900052e-03\n  2.93607805e-02  1.39533086e-02 -2.78152227e-02  5.38885407e-02\n -3.08128688e-02  1.78538430e-02  3.18883173e-02  4.74108420e-02\n -5.41419582e-03  8.56462028e-03 -1.15514509e-02  4.18717563e-02\n  1.46956500e-02 -1.79415103e-02  3.28415036e-02 -3.24613340e-02\n -1.67998560e-02 -5.90018183e-03 -1.96931278e-03  6.88979849e-02\n -2.86423359e-02 -2.42435560e-02  2.84007825e-02 -2.05629412e-02\n -4.99569736e-02 -5.47168516e-02 -1.66898388e-02 -2.50347238e-02\n  1.78720132e-02 -1.30780870e-02 -3.50003205e-02  3.61719169e-02\n  3.94567475e-03  2.14924235e-02 -1.30438805e-02  1.37535827e-02\n -1.68880075e-02 -1.52931793e-03  9.46615450e-03 -3.09424847e-03\n -4.30926718e-02 -6.25371281e-03 -1.65541458e-03 -1.25626046e-02\n  2.43855342e-02  2.03956123e-02 -3.44448537e-03  7.35661620e-03\n -1.56706180e-02  6.69163093e-02  2.04550866e-02  4.67540324e-02\n -6.20331392e-02  3.92404236e-02  2.10744496e-02  9.38769355e-02\n  1.08597698e-02  5.64034004e-03  9.63335205e-03  2.74759829e-02\n  2.64101429e-04 -8.03874433e-03  2.42338106e-02 -4.20542471e-02\n  3.44334207e-02 -7.33748004e-02 -1.14771249e-02 -9.39033553e-03\n -1.27494559e-02 -3.81335467e-02  2.48853955e-02  1.74430851e-02\n -3.66772967e-03 -1.05163110e-02  3.82702500e-02 -2.66073160e-02\n -5.58208488e-02 -8.92998278e-03  4.82820012e-02 -1.64967179e-02\n  2.70057414e-02  1.79293901e-02 -2.90547982e-02  1.21741500e-02\n  4.79919054e-02  2.38058120e-02 -4.33027707e-02  2.33528465e-02\n -6.97768154e-03  1.35515518e-02  6.36268482e-02 -1.49145395e-01\n -1.33068291e-02 -2.78718192e-02  1.02946917e-02  1.70588363e-02\n -6.79584816e-02 -4.35892530e-02  1.48938289e-02  1.17098466e-02\n  2.51174290e-02  1.29303709e-03  3.59280594e-02  5.32128569e-03\n  6.42867535e-02  5.10741994e-02 -5.53712307e-04 -4.38508391e-03\n  2.74027255e-03 -5.66487908e-02 -3.86204533e-02  4.67705950e-02\n  9.31186322e-03  4.18573320e-02 -3.53094339e-02 -4.08491194e-02\n -6.11766912e-02 -2.43259198e-03  2.75935661e-02  5.43299168e-02\n  7.22802104e-03 -1.22548090e-02  1.78816933e-02 -6.95165545e-02\n -2.08639391e-02  5.97585440e-02 -1.68215539e-02 -6.45417068e-03\n -4.54978719e-02  7.84080289e-03 -2.24667378e-02 -3.35544311e-02\n -6.43764958e-02  3.79000120e-02 -2.74610873e-02 -5.14237396e-02\n  3.06176431e-02 -6.04045484e-03 -6.66605774e-03 -3.00340876e-02\n  2.84331813e-02  1.77444927e-02  1.76555049e-02 -4.01380211e-02\n  1.04031032e-02  5.94766811e-03  3.30638178e-02  2.40989607e-02\n  9.22601949e-03 -3.75912227e-02 -4.20739651e-02 -2.60480810e-02\n -9.40643437e-03  3.62072550e-02  6.48957258e-03  2.25436687e-02\n -4.50831316e-02  2.15024892e-02  7.54438899e-03  2.05355510e-02\n -1.59846488e-02 -9.79827996e-03 -7.01254234e-02 -1.70612950e-02\n -1.62567245e-04  5.91249503e-02 -4.35301848e-03 -3.61159220e-02\n  1.13397921e-02 -2.70664841e-02  5.34019992e-02 -2.71013658e-02\n -6.41803294e-02 -1.70346629e-02  3.43581773e-02 -1.69555377e-02\n -4.74131852e-02 -9.99773853e-03 -3.43862958e-02  1.78881083e-02\n -2.78149731e-02  1.24087464e-02 -2.57161148e-02 -2.18600910e-02\n -2.88367737e-02 -4.43651490e-02 -3.47632472e-03 -7.45415082e-03\n  2.94194464e-02 -6.50660023e-02  5.15427776e-02 -5.23278788e-02\n -6.16105215e-04 -5.54925650e-02 -6.45672670e-03  5.18970676e-02\n  1.60270371e-02  5.76790841e-03  6.09787777e-02  6.61899941e-03\n -1.93754933e-03  2.99949478e-02  1.87931545e-02  1.44729866e-02\n  1.40638715e-02 -4.52302843e-02 -4.08394858e-02 -4.61743772e-02\n -7.20249955e-06  1.81718115e-02 -8.66727065e-03 -1.84614602e-02\n  2.51764040e-02 -1.01964111e-02 -2.64582224e-04 -6.33414544e-04\n  2.51454003e-02 -1.96873080e-02  3.19584385e-02  4.58785370e-02\n -1.30754206e-02 -2.62435265e-02  5.51378205e-02  1.98458862e-02\n  7.69934207e-02  2.65332740e-02  3.18157785e-02  7.55293109e-03\n -2.25250907e-02 -1.34852737e-01  5.93504542e-03 -4.11234982e-02\n -5.01836324e-03 -9.83708128e-02 -1.76536255e-02 -8.37878510e-03\n  5.51698729e-02  3.86452652e-03 -2.43840385e-02 -4.85543348e-02\n -2.57917736e-02  5.20921797e-02 -1.02458140e-02  1.28959119e-02\n  5.36117107e-02  4.53361962e-03 -2.12484822e-02 -7.05883503e-02\n  8.63675624e-02  5.81965521e-02 -2.04068981e-02  4.77729365e-03\n -1.61215700e-02 -4.85738255e-02  7.54008740e-02 -2.92221294e-03\n -8.71902108e-02  1.01085771e-02 -4.93920296e-02 -2.21636761e-02\n  1.69228669e-02 -5.73890246e-02 -7.38825873e-02 -5.93439415e-02\n -5.95334694e-02  3.02670766e-02  1.65342651e-02  2.05964968e-02\n -1.18684247e-02  9.14716627e-04 -4.99480665e-02 -3.09078377e-02\n  3.97307761e-02 -1.53560769e-02 -5.14076352e-02  4.54293974e-02\n -2.11591609e-02 -2.41940636e-02  3.57561489e-03 -1.13752643e-02\n  2.92949541e-03 -4.99969572e-02  6.28421828e-02  3.54571640e-02\n -3.53558585e-02 -3.68194953e-02  4.98832092e-02 -4.18444015e-02\n -6.11037649e-02  3.08986381e-02  3.58274691e-02  4.62907627e-02\n -5.35877235e-03 -1.53822200e-02  1.02274872e-01 -3.99207212e-02\n -3.15841995e-02 -8.38244483e-02  9.58050601e-03 -3.07158474e-02\n  3.50148827e-02 -4.16832455e-02 -1.56044811e-02  8.50657895e-02]",
         " and don't be surprised if i love you for all that you are"
        ],
        [
         "43",
         "43",
         "Found/Tonight",
         "we may not yet have reached our glory. but i will gladly join the fight. and when our children tell their story. they'll tell the story of tonight. they'll tell the story of tonight. tonight. . . have you ever felt like nobody was there. have you ever felt forgotten in the middle of nowhere. have you ever felt like you could disappear. like you could fall and no one would hear. . . well let that lonely feeling wash away. all we see is light. 'cause maybe there's a reason to believe you'll be okay. for forever. 'cause when you don't feel strong enough to stand. you can reach reach out your hand. . . and oh. raise a glass to freedom. something they can never take away. oh. no matter what they tell you. someone will come running. to take you home. raise a glass to all of us. tomorrow there'll be more of us. telling the story of tonight. out of the shadows. the morning is breaking. they'll tell the story of tonight. and all is new. all is new. all is new. it's only a matter of time. . . even when the dark comes crashing through. when you need a friend to carry you. when you're broken on the ground. you will be found. so let the sun come streaming in. 'cause you'll reach up and you'll rise again. if you only look around. you will be found. . . and when our children tell their story. you will be found. they'll tell the story of tonight. whoa. no matter what they tell you. tomorrow there'll be more of us. telling the story of tonight. the story of tonight",
         "0.091",
         "0.763",
         "0.146",
         "0.9239",
         "[-8.14226493e-02 -2.91103907e-02 -2.89552975e-02 -4.12516156e-03\n  1.18974999e-01  1.54365448e-03 -5.34143939e-04 -6.15945123e-02\n  5.16463444e-02  8.33419487e-02 -1.93300713e-02  2.50307042e-02\n  1.54092098e-02 -1.84731111e-02  3.24046463e-02  3.10699139e-02\n -1.71636418e-03 -3.82536626e-03 -5.61788753e-02 -4.81652282e-02\n -4.39207181e-02  1.11803943e-02  1.93607863e-02  5.09148762e-02\n -3.10502220e-02  5.08254021e-03 -7.08442405e-02  5.54662803e-03\n  2.61958241e-02 -1.14031909e-02  4.08121981e-02 -5.24316467e-02\n -3.77326645e-02 -3.35326418e-02  1.46903461e-02  4.94544618e-02\n  9.83472331e-04  1.62487663e-02 -3.36667919e-03  6.57336265e-02\n -4.80838344e-02 -3.69538441e-02 -1.83475148e-02 -6.98763579e-02\n -2.76222229e-02 -2.01099999e-02  1.32673243e-02  5.06815724e-02\n -2.01957878e-02  4.60458425e-04 -1.15045672e-02  1.82026662e-02\n -1.10111721e-02  2.54851487e-02  4.96864803e-02  1.21259149e-02\n  1.21094501e-02  1.36739640e-02  2.35911477e-02  4.93609309e-02\n -3.34819332e-02 -2.02936903e-02  4.05930541e-02  4.37776335e-02\n -6.79279864e-02  1.94776768e-03  1.82263460e-02  1.94351170e-02\n  6.05315827e-02 -2.04637200e-02  3.30871381e-02  8.80736765e-03\n  1.78657044e-02  8.36484227e-03  4.90707112e-03  7.92168826e-02\n -5.31814843e-02  1.49947666e-02  2.16209441e-02  2.40337551e-02\n  8.54961202e-03 -7.66854584e-02  2.97125150e-02 -4.70279679e-02\n  6.97951689e-02  2.03979686e-02  3.93117107e-02 -2.07258463e-02\n -3.62277552e-02  2.32135430e-02  1.73327662e-02 -3.84658761e-02\n -1.50288222e-02  3.52761596e-02 -2.13582758e-02  8.52022171e-02\n  3.05782109e-02 -2.00382480e-03  8.53099953e-03 -2.09373068e-02\n -4.87447791e-02  4.19654092e-03 -6.07308373e-02 -6.72118217e-02\n -2.15712097e-02  1.21702934e-02  1.05086425e-02 -5.57615720e-02\n -3.85330878e-02 -2.21610386e-02 -3.76005750e-03  1.60921570e-02\n  8.70555826e-03 -4.81293118e-03 -1.06433928e-01  2.06863508e-02\n  5.26093505e-02 -1.67760123e-02  4.38787043e-03  1.96964834e-02\n  2.28841398e-02 -2.48778164e-02  4.42918809e-03 -6.57819584e-02\n -7.45746074e-03 -4.52831388e-03  2.77186874e-02 -2.34838873e-02\n -3.39188352e-02  1.67561471e-02  4.08279002e-02 -4.01923098e-02\n  4.72759902e-02 -3.98900807e-02 -1.80826429e-02 -6.37956336e-02\n -2.48330273e-02 -2.08277497e-02  2.37202104e-02 -9.35005397e-03\n -3.61490026e-02 -3.23591419e-02 -3.05586844e-03  2.76108403e-02\n -3.70169617e-02  3.93242110e-03 -1.39302816e-02 -9.66904871e-03\n  7.92250335e-02 -4.49001091e-03 -3.22886072e-02  6.09345101e-02\n  4.56747375e-02 -5.54823093e-02  3.57462689e-02  2.66366452e-02\n  5.19044138e-02  3.07961777e-02  8.90221223e-02 -1.81790348e-02\n  4.93839709e-03  1.02468375e-02 -1.05419336e-02 -2.82447096e-02\n -1.65796392e-02  3.67544591e-02  1.99353392e-03  2.96247881e-02\n  1.47911801e-03  4.56958376e-02 -1.08941086e-02  3.58220041e-02\n  8.38211328e-02  3.41820121e-02  2.43954584e-02 -3.12631875e-02\n  1.21787731e-02 -6.51436970e-02 -4.41855937e-02  3.33401980e-03\n  3.80216651e-02 -1.04778372e-02 -7.78397322e-02 -6.46296665e-02\n -8.11794959e-03  3.42950337e-02  4.92419302e-02 -4.47526462e-02\n -6.67756349e-02  1.36203766e-02 -7.66550153e-02  5.24005964e-02\n  1.85245164e-02 -1.16397208e-02 -3.17465886e-02 -5.77126741e-02\n  3.14991511e-02 -1.50826881e-02  7.53399730e-03 -5.84498327e-03\n  3.62149328e-02 -1.07064694e-01  1.81468530e-03 -3.41115496e-03\n  5.99375069e-02  3.75080388e-03  3.56684849e-02  4.23833868e-03\n -7.96227809e-03  5.68269975e-02 -2.11402271e-02  4.40434925e-02\n  2.70897374e-02 -5.26704779e-03 -4.58229594e-02  4.08043638e-02\n -2.89759189e-02  1.98588129e-02 -4.46626879e-02  2.02483442e-02\n  1.44607704e-02  6.40138518e-03  3.77042009e-03 -5.67673892e-02\n -2.05404330e-02 -6.02336489e-02  7.52844056e-03  3.48528437e-02\n -4.78178682e-03 -5.63613810e-02  3.79085504e-02  9.65656806e-03\n  1.11110397e-02 -8.71493891e-02 -2.58019324e-02 -4.87880036e-02\n -1.21415255e-03 -3.36005203e-02 -1.59789156e-02  5.07091880e-02\n -3.01692765e-02  1.59137808e-02 -4.17521782e-02  3.60949077e-02\n  1.42292702e-03  1.21066114e-03  6.30313298e-05 -3.80635262e-02\n -7.43531808e-03  5.28453325e-04 -6.59455061e-02 -6.19744463e-03\n -1.68132558e-02  2.87274886e-02 -4.03321646e-02 -2.48611886e-02\n  1.22392166e-03 -3.88409831e-02 -1.32624656e-02  5.16525134e-02\n -2.21796297e-02  4.77551669e-02 -6.79306407e-03  1.26914829e-02\n -3.96805210e-03  2.33046710e-03  1.45167625e-02 -3.82994581e-03\n  1.63319670e-02  7.67027540e-03  2.53014863e-02 -4.67419438e-03\n -4.78138104e-02 -3.10961083e-02 -7.69640645e-03 -1.34498498e-03\n  2.94498857e-02  3.50729637e-02  1.62096531e-03 -1.80074237e-02\n  2.11681239e-03 -7.17787966e-02  3.37198488e-02 -2.18111519e-02\n -1.66512746e-02 -1.93268768e-02 -3.63449130e-04 -3.79170030e-02\n  2.67915558e-02 -2.27260496e-03 -1.12371594e-01  5.62719740e-02\n  7.14170411e-02  7.50587359e-02 -5.23952097e-02  4.32811081e-02\n  3.83397229e-02  1.24027785e-02 -3.02237961e-02 -8.26497823e-02\n -1.32413153e-02 -3.86090437e-03  1.07262451e-02  5.43531813e-02\n -7.51122087e-02  6.13589473e-02 -4.35802191e-02  6.89331219e-02\n  7.39515480e-03 -4.32330556e-03  9.21519175e-02 -8.21397000e-04\n  3.26997377e-02  6.03031069e-02  4.70759533e-02  6.22257628e-02\n  2.94501577e-02  1.50174312e-02 -4.03999314e-02 -3.29380073e-02\n  1.79372970e-02  4.81382944e-02  1.14984466e-02 -3.54540646e-02\n -6.84342831e-02 -1.41525017e-02 -1.22448625e-02 -7.81604424e-02\n -3.71054769e-03  3.95829268e-02  1.67534389e-02  3.44107300e-02\n  3.95158166e-03  3.95271406e-02  5.14509976e-02  2.83507514e-03\n -3.35703306e-02  3.53014767e-02 -8.38010106e-03 -3.59086543e-02\n  7.52700632e-03  4.08915197e-03  1.18504167e-02  2.63140667e-02\n  2.72709336e-02  2.84258034e-02 -1.91571694e-02  6.61031902e-02\n  1.86459664e-02  1.41195999e-02  1.15037067e-02 -2.32773386e-02\n -9.96868536e-02  2.39961594e-02 -1.39865093e-02  4.81673330e-02\n  2.21902281e-02  3.86361070e-02 -3.83594353e-03  1.63778535e-03\n  7.49915168e-02 -1.48756793e-02  1.43329836e-02 -3.00135948e-02\n -1.34829443e-03 -8.47553927e-03  5.77631183e-02 -2.60358229e-02\n  4.55113724e-02 -5.69423102e-02 -4.61900160e-02  7.18720555e-02\n -2.96429396e-02  1.14185018e-02 -7.09740072e-02 -4.96400632e-02\n  4.15573223e-03 -4.52530161e-02  8.45228434e-02 -3.55670340e-02\n  1.09163057e-02  6.48247749e-02  6.30361540e-03 -3.75253744e-02\n  2.96917427e-02  7.82284290e-02  5.71964532e-02  2.18363516e-02\n -3.18632163e-02  1.16538256e-02 -2.89413501e-02  3.02727520e-02\n -4.60920408e-02 -3.04741375e-02 -5.75906113e-02 -1.71818696e-02\n -1.40065076e-02 -7.32013583e-02  2.96413302e-02  4.07415330e-02\n -1.75416153e-02 -3.42398509e-02  7.24811247e-03  6.98365318e-03\n -8.31138808e-03 -2.65176333e-02  2.18672138e-02  2.37844456e-02\n  3.28950360e-02 -7.49296090e-03  2.16092281e-02 -2.83072870e-02\n -5.65992370e-02  2.75246110e-02  4.35099825e-02 -4.59390655e-02\n  4.73450590e-03  4.79902476e-02 -3.83989066e-02 -3.41971777e-02\n  4.94632274e-02  6.85920715e-02  1.22602768e-02 -1.73058864e-02\n  2.42051762e-03  9.36776027e-03 -4.76544090e-02  3.69745828e-02\n  3.11872438e-02 -5.28028272e-02 -2.06798799e-02  1.71786919e-02\n  7.13876486e-02 -3.24892104e-02 -1.40494267e-02 -9.97498818e-03\n  3.17640044e-02 -6.79037049e-02  1.01950793e-02 -3.04107200e-02\n -9.42708366e-03 -9.29111913e-02 -4.54352051e-03  1.43250637e-02\n  3.24242897e-02 -4.72382046e-02 -2.57274751e-02 -2.96801552e-02\n -4.87378938e-03 -5.86171374e-02 -3.09174713e-02 -3.76903675e-02\n  3.86648602e-03  2.10404000e-03 -1.04233976e-02 -8.89291987e-02\n -2.42996830e-02  3.54697704e-02  2.00914796e-02  2.06350051e-02\n  6.42092302e-02 -2.12284308e-02  3.64713557e-02  2.59444360e-02\n  2.64955889e-02  3.54640000e-02 -3.47123928e-02  1.21286688e-02\n -6.27387613e-02 -2.74034683e-02 -1.25557929e-03 -4.78028394e-02\n -7.31965080e-02  2.11689435e-02  4.60404716e-02  7.59775657e-03\n  4.49340418e-03  3.27510536e-02 -1.72891244e-02 -3.62108718e-03\n  2.38064546e-02  2.33499780e-02 -9.41654518e-02  6.58910582e-03\n -6.22123778e-02 -1.80518702e-02  2.03786250e-02  4.79596704e-02\n -6.30935505e-02 -3.52115259e-02  3.36654820e-02  9.11780633e-03\n  6.47748238e-04 -2.36576088e-02  6.50444068e-03 -6.31328346e-03\n -6.23926707e-02  2.90186089e-02  5.86648397e-02  5.94541710e-03\n  3.95362638e-02  7.80578377e-03  1.24929398e-02  3.65826041e-02\n  2.00312268e-02 -2.90695336e-02  9.13897157e-02 -1.43879158e-02\n  5.26788384e-02  4.32347617e-04 -2.98891999e-02  4.35366258e-02]",
         " they'll tell the story of tonight"
        ],
        [
         "44",
         "44",
         "Prologue: Once Upon a December",
         "ah ah. ah ah. ah. . . why must you go nana. . . i've stayed too long here. . . . take me to paris with you. . . wherever i go you'll always be with me. . . . . . our lullaby. . when you play it think of an old woman who loves you very very much. . sung. far away long ago. glowing dim as an ember. things my heart used to know. things it yearns to remember. . and a song someone sings. once upon a december",
         "0.0",
         "0.921",
         "0.079",
         "0.7269",
         "[ 3.15026753e-02  2.25630193e-03 -3.77339311e-02  2.11869646e-02\n  4.38681021e-02  6.61903843e-02 -2.89532971e-02 -6.91206288e-03\n  1.26316142e-03 -2.21204548e-03 -4.09578495e-02 -3.00988294e-02\n  3.87879163e-02 -1.82470737e-03  4.11164202e-02  1.13742696e-02\n  6.27764612e-02 -1.44251101e-02 -1.45670604e-02  5.06826192e-02\n -7.37314066e-03 -1.65871866e-02  8.44035298e-03  4.35014591e-02\n  3.26288212e-03  1.61781833e-02  1.42032439e-02  1.28097953e-02\n  3.27945352e-02 -3.64763499e-03  4.21891920e-02  6.07846007e-02\n  3.53026465e-02  3.06154671e-03 -7.65117556e-02 -4.48766537e-02\n -4.09292504e-02 -9.84720141e-03 -2.89428178e-02  4.75990810e-02\n -5.12362458e-02  4.76712212e-02 -4.85426234e-03 -3.36458199e-02\n  9.73411836e-03 -1.49058644e-02 -1.97601411e-03 -1.53186573e-02\n -3.77262682e-02  6.56391028e-03 -1.99267566e-02 -1.65320002e-02\n  1.15876133e-03  5.91339767e-02  6.97264597e-02  5.33747487e-02\n -4.17101234e-02  1.55513063e-02  1.34421885e-02 -2.99236942e-02\n  2.83644274e-02 -2.01102924e-02 -2.63810623e-02 -4.33021560e-02\n -1.48190660e-02  7.72936568e-02  1.04699135e-02 -3.80654596e-02\n -6.36246894e-03  1.02171823e-01  3.96825634e-02 -2.46427357e-02\n -2.15067305e-02  2.54798923e-02  2.17719190e-02  2.04303600e-02\n -9.58866812e-03  9.53536574e-03 -6.29901234e-03 -2.47649588e-02\n  3.37703489e-02 -1.19026028e-01  6.37436137e-02 -6.02876469e-02\n  8.81607411e-04  1.08682632e-01  5.81260864e-03 -4.65342812e-02\n -4.58516292e-02  2.82297246e-02 -7.82615133e-03  6.76099909e-03\n -4.39326838e-02  1.17227212e-02 -2.44016089e-02 -1.53526524e-02\n  1.25264321e-02  6.55689836e-02  5.05738556e-02  3.91804008e-03\n -1.65553726e-02 -1.57994255e-02  1.45998038e-02  1.96565334e-02\n  4.89580492e-03 -4.52687629e-02  5.93426544e-03 -4.34635021e-02\n -2.45850198e-02 -3.26315612e-02 -1.42414933e-02  4.56911325e-03\n  1.32539188e-02 -1.69843454e-02 -1.05268814e-01  3.20601985e-02\n -2.05592401e-02  1.35719758e-02 -1.29554165e-03 -1.83161944e-02\n -3.24740782e-02 -7.09418282e-02  2.52304468e-02  1.15906009e-02\n  2.02796906e-02 -1.94342702e-03  2.23798621e-02 -1.30805271e-02\n  2.34648827e-02  3.56585570e-02  8.33604299e-03  4.28798720e-02\n  4.88874465e-02 -9.86850560e-02 -5.24380282e-02  3.53728570e-02\n -1.44862337e-02 -1.14442944e-03  7.30955601e-03  8.29339325e-02\n -3.44017670e-02 -5.31990789e-02  7.62608321e-03  3.57867554e-02\n -8.86674318e-03 -5.21037867e-03  1.84196793e-02 -9.80174285e-04\n  4.87895869e-02 -3.81468236e-02 -4.28931080e-02  2.50707846e-02\n  3.43657508e-02 -1.22611811e-02 -2.18790174e-02  6.68388307e-02\n  4.51258682e-02 -3.47952498e-03 -2.54746135e-02 -1.99504700e-02\n  3.46066877e-02  1.60057526e-02  3.96944284e-02  1.60405599e-02\n  3.65486704e-02 -4.71623288e-03 -2.10877578e-03  9.11046416e-02\n  2.94368695e-02  2.11120620e-02 -1.15096616e-03  7.69101363e-03\n  6.11525588e-02  5.42685017e-02 -6.87377602e-02 -7.29242787e-02\n  7.30940476e-02 -2.41759866e-02 -2.23461259e-02  3.08946222e-02\n -1.53897824e-02 -1.37581525e-03 -3.59663963e-02 -7.22809881e-02\n -1.90199260e-03 -8.81199259e-03  1.70373023e-02 -2.34487988e-02\n -1.78196058e-02  9.50456690e-03 -5.35722859e-02 -4.35074642e-02\n -8.86275433e-04  8.48934706e-03  1.11010604e-01 -2.69714817e-02\n -3.26753147e-02 -2.06841715e-02  4.00442705e-02 -1.34381754e-02\n  3.85024101e-02 -1.18022673e-01  1.42519278e-02  6.48214221e-02\n -1.23597272e-02  2.35084887e-03 -2.09407285e-02 -4.59162928e-02\n  5.05912825e-02  1.74971316e-02  4.61913599e-03  2.15283688e-02\n -5.39993383e-02  1.47407725e-02  8.08772165e-03  1.38861984e-01\n -6.26922175e-02 -1.48432357e-02 -2.84784357e-03  2.99856178e-02\n  4.92224991e-02  6.09360896e-02  2.06913818e-02 -4.70273457e-02\n -8.33935663e-02 -8.64979774e-02  4.42466047e-03 -8.81148316e-03\n  8.50868411e-03  1.89563353e-02  6.91971183e-02 -3.50162797e-02\n  3.25947702e-02 -8.42071027e-02 -1.62824132e-02 -3.16915959e-02\n  1.25499824e-02 -1.98134538e-02 -7.30350539e-02  2.70453468e-02\n -9.02535617e-02 -1.91786755e-02 -2.18092650e-02  1.53102791e-02\n -4.33389843e-03 -5.21323830e-02 -1.35486834e-02 -4.73983251e-02\n -5.42565286e-02  6.59044161e-02 -7.31291482e-03  8.32611416e-03\n -7.71614984e-02  1.68633126e-02  1.19080069e-04 -1.44905280e-02\n -1.41686164e-02  4.21753302e-02 -7.24006537e-03  1.53497206e-02\n -5.68985008e-02  5.94585165e-02  1.67468954e-02  4.01936956e-02\n -3.91521752e-02 -4.30067405e-02 -2.99654575e-03  1.91109981e-02\n -2.06252770e-03 -5.76550663e-02  2.14154460e-02 -3.10159642e-02\n  4.53096256e-02  3.54799107e-02 -3.98250576e-03  3.08594983e-02\n -1.76021829e-03 -5.05640812e-04  6.52320087e-02  1.40673956e-02\n -1.08924685e-02  2.88897902e-02  1.19618103e-02 -6.52394770e-03\n  3.05760070e-03 -4.37121503e-02 -9.70865041e-02 -4.39833738e-02\n  2.01309249e-02  5.54099642e-02  1.61711872e-02  1.61617827e-02\n  1.11832157e-01  1.17483903e-02 -4.47165668e-02 -7.45311263e-04\n  5.53624891e-02  3.90217453e-02  3.07157766e-02 -1.27732784e-01\n  1.08765624e-02 -5.43086929e-03 -5.41200861e-02 -1.04440833e-02\n -1.03941327e-02  1.74043030e-02 -4.62487489e-02  5.92581034e-02\n -2.53410768e-02  5.66857308e-02  4.44978476e-02 -2.50273403e-02\n  6.89876080e-02  1.85790230e-02  2.19294187e-02  3.31504233e-02\n  3.14610265e-02 -3.27743706e-04  4.78822105e-02  1.03711046e-01\n  1.43518141e-02  6.03050850e-02  4.16037403e-02 -4.12926786e-02\n  2.51413584e-02 -2.92430501e-02  4.75386344e-03  4.94905263e-02\n  1.19221965e-02  3.87121812e-02  4.79444228e-02 -3.85615490e-02\n -5.99634834e-02  2.34527495e-02  7.85572082e-02 -1.96198728e-02\n  7.20561622e-03 -1.55697213e-02  2.56352499e-03 -2.91852895e-02\n -1.22401137e-02  1.69593524e-02  4.59340811e-02  5.88637078e-03\n  2.01957691e-02 -5.28334919e-03  3.31380405e-02  6.25189319e-02\n  2.92872936e-02  1.06649268e-02 -2.13256665e-02 -5.49249128e-02\n -4.46179099e-02 -4.25513946e-02  2.06367322e-03 -1.86640304e-04\n  2.11703591e-05  4.60430458e-02 -7.39696622e-02 -5.36738671e-02\n  2.11326405e-02 -2.63516791e-03  3.32304910e-02  1.21821649e-04\n -2.75916629e-03 -8.41384195e-03  9.27457660e-02 -5.03648631e-02\n -3.89179768e-04 -2.57087983e-02 -1.49683710e-02 -8.47027078e-03\n -8.32129121e-02  2.78443750e-02 -5.06511927e-02 -7.38059804e-02\n -3.84532958e-02 -1.88830160e-02  6.69576675e-02 -2.58063897e-02\n -2.90315282e-02  3.35826650e-02  1.97365470e-02 -3.91409099e-02\n -7.75450142e-03 -1.49773024e-02  3.25627737e-02  6.19015396e-02\n  4.01507020e-02 -4.76395385e-03 -2.10508541e-03  2.84200162e-02\n -2.03397572e-02 -3.60698923e-02  1.33409165e-02 -1.06272940e-02\n -4.25653020e-03  3.00835576e-02  2.15150956e-02 -3.45961354e-03\n  1.25778504e-02 -4.88262177e-02  3.11394092e-02  4.80563827e-02\n -5.61079942e-02 -5.76990133e-04 -4.29984368e-03  1.42164556e-02\n  7.86263589e-03  9.15835612e-03 -1.21429069e-02  1.74657907e-03\n -1.42849572e-02 -4.35162708e-03 -1.86107471e-03 -3.82907763e-02\n  5.14432741e-03  2.55602226e-02 -1.17994715e-02 -2.35482678e-02\n  5.99951064e-03  3.22658792e-02  2.74511874e-02  2.16513462e-02\n  4.10759589e-03  1.53308883e-02  6.99547026e-03  5.82565553e-02\n  4.35026586e-02 -6.41613528e-02  9.87918582e-03  1.16497977e-02\n  1.12989187e-01 -5.63963577e-02  7.73119554e-03 -1.63085517e-02\n -1.06632337e-02 -5.57969250e-02 -1.04322210e-02 -4.34597023e-02\n  1.61257070e-02 -1.11322306e-01  1.09565035e-02 -3.08152363e-02\n  3.92097570e-02 -6.51802197e-02 -3.22363935e-02  3.42977345e-02\n  4.53450810e-03  1.57297961e-02  2.33309083e-02 -3.52684897e-03\n  1.10032819e-02  1.37190549e-02  2.45834272e-02 -6.63459003e-02\n  1.32845417e-02  1.47136217e-02 -5.47601376e-05 -1.81487948e-02\n  1.48268947e-02 -4.47755307e-02  8.64930078e-02  5.56264147e-02\n -2.60544587e-02  6.22836463e-02 -3.72651070e-02 -5.57714654e-03\n -2.69869268e-02  2.69783400e-02  6.18846063e-03 -7.03281537e-02\n -5.71768545e-02 -4.03795205e-03  5.57221845e-02 -3.83549440e-03\n -4.67684958e-03 -1.35269493e-03 -2.68067066e-02 -1.21025424e-02\n -1.86917167e-02 -3.98465618e-02 -2.62453388e-02 -2.67223828e-02\n -2.93742791e-02 -3.04561146e-02  2.12305877e-02 -1.61119010e-02\n -1.36105409e-02 -2.47870591e-02  9.34623331e-02  9.27157626e-02\n -5.12432046e-02 -2.86515504e-02  8.55223835e-03 -2.93815564e-02\n -4.59397063e-02 -1.88883278e-03  8.87410529e-03  2.88699865e-02\n -2.66146306e-02 -2.99728401e-02  8.01219121e-02  2.47918498e-02\n -1.06302276e-02 -8.84754956e-02  4.43018116e-02  1.97621752e-02\n  1.73161477e-02 -3.45037095e-02 -3.65258381e-02  1.35850785e-02]",
         " and a song someone sings"
        ],
        [
         "45",
         "45",
         "Close the Door",
         "these strangers come calling. soon enough they're gone. the twilight is falling. lamps will soon go on. and where does summer go. i will never know. summer used to last endlessly. children all in white. running down the sand to me.... to me.... . these strangers sent packing. what do they expect. so grasping so lacking. why not be direct. the beating of my heart. after they depart. lying wide awake through the night. will you ever come. running home to me you might.... you might.... . i've believed so long i have dared to hope. that the door might open and that you might enter. . playing hide and seek. kisses on my cheek. the lamps begin to glow. in my heart i know. you're a lie that i've waited for. tell them all to go. tell them all  no more. tell them i close the door",
         "0.078",
         "0.869",
         "0.053",
         "-0.4404",
         "[-4.15333882e-02  6.10108748e-02 -1.23969745e-02 -8.66488647e-03\n  6.09352663e-02 -1.53316278e-02 -1.24362577e-03 -3.79977077e-02\n  3.28459702e-02 -3.12319435e-02  9.88798775e-03  1.09678712e-02\n -4.63436432e-02  1.63428928e-03 -4.79301028e-02  3.73251289e-02\n -1.53333526e-02 -3.94602194e-02 -5.76357506e-02  1.18059600e-02\n -6.18955195e-02 -1.38039468e-02 -2.48576552e-02  2.87282057e-02\n  2.77473405e-02 -5.05728042e-03 -5.46350777e-02  8.97116885e-02\n -7.61256553e-03 -1.18163871e-02  7.31375068e-02 -6.54962212e-02\n  7.37365335e-04  1.95276719e-02  3.62109952e-02  7.00912345e-03\n -2.11104304e-02  2.10265331e-02 -4.86786440e-02  2.42251549e-02\n -7.25087523e-02 -3.12727727e-02  8.50569643e-03  3.36737745e-02\n  5.34116616e-03  8.12343694e-03  1.72166210e-02 -2.03132499e-02\n -7.86524557e-04  2.32968256e-02 -2.25994680e-02  1.24870846e-02\n  3.25811282e-02  4.07648385e-02 -4.98463362e-02  1.58198420e-02\n -3.06936093e-02  1.84205603e-02 -7.63155296e-02 -9.08792689e-02\n -3.29018459e-02 -5.40539389e-03 -1.38428016e-02  1.16111152e-02\n -3.49390917e-02 -3.05502061e-02 -2.44458504e-02 -1.03117190e-02\n -2.54565608e-02  5.39470203e-02  3.66821289e-02 -2.94505879e-02\n -3.17698829e-02 -4.41927612e-02  6.27311766e-02  1.60140637e-02\n -3.28962542e-02  2.15962324e-02 -1.44921830e-02 -1.87335759e-02\n -3.67721580e-02 -8.05800408e-02  8.35268479e-03 -4.49566590e-03\n  6.28430173e-02  3.10248528e-02 -8.97227321e-03 -6.72107264e-02\n -1.58488285e-02  1.19130816e-02 -1.34976872e-03  1.20750666e-02\n -9.22376942e-03  1.42672053e-02 -3.96048948e-02  2.65778210e-02\n -5.81106544e-03 -3.52522582e-02  4.10890467e-02 -6.47949129e-02\n  1.84883606e-02 -6.06981218e-02 -6.85602725e-02  2.03237981e-02\n -9.92809422e-03 -1.50400884e-02  3.68736982e-02 -3.50407250e-02\n -7.61413053e-02  4.30015624e-02 -2.43455674e-02  5.49482601e-03\n  3.71273383e-02 -4.72785309e-02  6.44283695e-03  6.13289289e-02\n  4.87111956e-02 -1.58713348e-02  1.08714011e-02  3.72512685e-03\n -3.83377708e-02 -2.21665134e-04  2.54853442e-02 -3.37729268e-02\n -1.06139425e-02  3.65599990e-02 -1.52894342e-02 -1.88001189e-02\n -2.29521599e-02  4.33308147e-02  5.23091406e-02 -3.25052030e-02\n  2.71244254e-02 -6.96284277e-03 -4.23274077e-02  5.74929826e-03\n  9.28992592e-03  1.56832617e-02  1.85895320e-02  3.42766680e-02\n -2.31694598e-02  3.94966155e-02  4.51796725e-02  2.52240840e-02\n -6.30970374e-02 -4.68137600e-02 -9.54966992e-03  2.70037465e-02\n  8.07228088e-02  3.00030853e-03 -3.04070543e-02  5.95588535e-02\n  1.35652805e-02 -9.96159576e-03  7.53297359e-02  3.60638462e-02\n -2.12704372e-02  8.01095068e-02 -1.46986544e-02  5.17216604e-03\n -6.79666251e-02  6.59413487e-02 -5.98948784e-02 -1.68680251e-02\n -4.97214198e-02 -9.13651288e-03 -3.05520203e-02  5.66051528e-02\n  2.82061920e-02  1.05269169e-02  7.49377953e-03  6.90204799e-02\n  4.18418795e-02 -3.85234226e-03 -1.41992169e-02 -7.55542293e-02\n  8.15349594e-02 -5.26415259e-02  2.81777456e-02 -6.09659031e-02\n -2.33595371e-02 -4.41929698e-03 -6.40872642e-02 -1.76574830e-02\n  6.24041706e-02  4.35580015e-02 -4.03892162e-04 -6.37090430e-02\n  2.05552168e-02  2.82205679e-02  2.52599865e-02  2.53171790e-02\n -4.73520253e-03 -2.76936274e-02 -1.46404579e-02 -6.84252381e-02\n  1.41482159e-01  3.50431614e-02 -5.71350940e-03 -4.78232279e-02\n  8.95435363e-02 -1.20449096e-01 -2.30445433e-02  3.59124579e-02\n  5.30336946e-02  6.39721677e-02 -7.77843036e-03 -2.75984891e-02\n -6.04262799e-02  9.40455869e-02  2.71265302e-02  6.82255775e-02\n -3.34435664e-02  3.98186035e-02 -2.75418293e-02 -2.26989128e-02\n -4.20399271e-02 -8.99391621e-03  4.10283655e-02  4.83823055e-03\n  7.64731169e-02 -3.54656614e-02 -5.89192882e-02  7.31421867e-03\n -6.24863803e-02 -4.05885838e-02 -6.33063074e-03 -1.58874132e-02\n -1.02356113e-02 -9.85908043e-03  4.91223261e-02 -8.49505980e-03\n -3.39878649e-02 -7.73284584e-02 -3.32932621e-02 -4.85683978e-02\n -4.49585505e-02 -1.43530723e-02 -2.60083079e-02  2.83346288e-02\n -5.44308200e-02  4.02590027e-03 -3.84865738e-02  1.20097809e-02\n  3.98653634e-02 -4.45581637e-02 -1.02644548e-01 -1.80791430e-02\n -6.54492993e-04  2.41232924e-02 -2.90325731e-02 -5.87135926e-03\n -3.15785259e-02 -5.07169263e-03 -4.48005274e-03 -7.11764768e-02\n -1.56534072e-02  6.65361434e-02  6.11373410e-02  2.51943599e-02\n -3.98699604e-02  6.01965934e-02  2.25043111e-02  5.31181227e-03\n -2.64239851e-02  5.62050426e-03 -2.83382982e-02  1.76964290e-02\n  1.37361111e-02 -5.12042530e-02  8.07609875e-03 -4.33769077e-02\n  6.90306816e-03  7.69360643e-03 -7.01445155e-03 -4.89874408e-02\n  2.15113396e-03  1.08000878e-02  7.66811101e-03 -5.19271456e-02\n  6.53148768e-03 -4.04463261e-02 -1.23889185e-05  8.27543959e-02\n -3.29725468e-03 -1.33447424e-02 -5.00924513e-02 -3.59811299e-02\n -6.88490109e-04  1.23660360e-02 -5.01290895e-03  6.36321455e-02\n  9.95990634e-02 -1.83883104e-02 -5.34304306e-02 -1.43477386e-02\n  4.61319014e-02 -1.10979937e-02 -2.26070695e-02 -6.95272982e-02\n  3.12379897e-02 -4.98897284e-02 -6.29013404e-02  4.76153754e-02\n -5.67724742e-02  1.90596916e-02 -6.95527345e-02 -4.10138443e-03\n -2.89712846e-02 -8.25272873e-05  6.68017417e-02 -3.45587730e-04\n  2.45997459e-02  7.73107773e-03  1.66022368e-02  2.84976996e-02\n -2.36483198e-02 -4.37105671e-02 -2.99535948e-03 -3.43509503e-02\n -2.20872182e-02  8.09286982e-02 -4.04846668e-02 -8.52899924e-02\n -5.52948490e-02  2.09198352e-02 -1.80386808e-02 -2.35975701e-02\n -2.75006462e-02 -6.12827018e-03 -1.69419460e-02 -5.55445114e-03\n  2.66396552e-02  4.14967127e-02  1.08071007e-01 -1.76133122e-03\n -2.33133007e-02  1.97035614e-02 -1.78281106e-02 -6.05469150e-03\n  2.46251933e-02 -1.29229585e-02  1.01517150e-02  3.53568047e-02\n  1.99914165e-02 -2.08617747e-03 -3.08350641e-02  7.15016127e-02\n  1.98506434e-02  1.78517923e-02 -3.79919931e-02 -2.60770712e-02\n -3.70660387e-02  3.79620865e-03 -2.41460949e-02 -5.34595847e-02\n  1.14935357e-03  4.11956273e-02  4.57483120e-02 -6.63868338e-02\n  3.51107642e-02 -4.17642342e-03  2.63230503e-02  3.14922743e-02\n  2.52548456e-02  1.92690990e-04  8.54617581e-02 -1.71861630e-02\n  3.79422754e-02 -2.82992646e-02 -2.96812803e-02  1.24254329e-02\n -3.16813253e-02 -4.53241542e-03 -4.43217950e-03 -6.84487969e-02\n -5.60420714e-02 -5.26725352e-02  9.23332796e-02 -3.45948823e-02\n -4.05096961e-03 -4.14057635e-02  9.36992001e-03 -1.45314904e-02\n -3.28134596e-02  1.11244312e-02  2.17559040e-02  8.57066922e-03\n  3.09643000e-02 -6.48713252e-03 -9.49296355e-02 -3.37434337e-02\n -2.86331549e-02 -6.32257760e-02 -8.26290548e-02 -4.39974517e-02\n  2.07718275e-02  1.64769739e-02  5.45327999e-02 -2.82508824e-02\n  5.23094460e-03 -1.77884568e-02 -1.40585611e-02  4.69738472e-04\n -4.39510960e-03  4.47882116e-02 -1.43930716e-02 -2.19196100e-02\n  1.88134983e-02 -5.09938523e-02  2.59454232e-02 -8.02827924e-02\n  1.53581612e-02 -2.26572007e-02  3.52212861e-02 -1.94155034e-02\n  2.43865550e-02  5.41005321e-02 -6.37918571e-03  2.18320638e-05\n  3.41422670e-02  7.74888024e-02  2.32463796e-03 -3.65526900e-02\n -3.99965141e-03  4.90333699e-02  1.80611014e-02  9.71271377e-03\n  3.96250859e-02 -1.42141990e-02 -1.81876216e-02  3.01643629e-02\n  6.84403330e-02 -2.31235251e-02  3.60840857e-02 -1.76392179e-02\n  7.36936778e-02 -3.09704840e-02  1.24903780e-03 -1.23265630e-03\n -1.51943620e-02 -1.08841076e-01 -3.71361300e-02 -1.95316374e-02\n  2.71704365e-02 -2.89419591e-02 -3.60887796e-02  1.21116173e-04\n  2.94291712e-02  1.89625490e-02 -1.45804801e-03  3.20651680e-02\n  6.42171726e-02  2.19440423e-02  1.98913589e-02 -9.93914381e-02\n -3.83061990e-02 -1.21796066e-02 -4.23790291e-02  3.56936343e-02\n  1.49638420e-02  1.48855848e-03  2.74092946e-02  5.81309348e-02\n  1.58324186e-02  5.24576232e-02 -5.49791381e-03 -4.65266071e-02\n  2.76996894e-03 -1.48080401e-02 -2.85100797e-03 -3.20591442e-02\n -5.52118830e-02  9.51932278e-03  8.27350393e-02  4.69814613e-02\n -1.82414427e-02 -4.31470536e-02  9.34631564e-03  3.94073799e-02\n -1.13981357e-02  1.02957441e-02 -6.15187213e-02 -1.24808624e-02\n  9.16907936e-02 -4.05484363e-02  1.47123430e-02  1.46660386e-02\n  6.18567094e-02 -8.12055990e-02  3.85855213e-02  1.26388660e-02\n -1.88801121e-02  2.88870838e-02 -1.10890167e-02  3.95762324e-02\n -6.82043433e-02  1.44199450e-02  3.76437642e-02 -1.78224239e-02\n  5.00446744e-02  6.93314448e-02  3.55871841e-02  4.06452566e-02\n  5.53039685e-02 -5.26384860e-02  3.45129408e-02 -1.16435122e-02\n  3.12205479e-02  3.23620718e-03 -1.10357767e-02  4.06198688e-02]",
         " you're a lie that i've waited for"
        ],
        [
         "46",
         "46",
         "Land of Yesterday",
         "once i had a palace. here merely a flat. i fled with some diamonds. and that was that. . . it's very tragic. ooh. . . once ladiesin waiting. all bending a knee. now only one ladyinwaiting me. . no fanfares. . . or sedan chairs. . . and no coaches. . . and we sold our broaches. . no afternoon card games with the tsar. . . no caviar. sung. but i say we're not dead now. . . we're not dead now. we're in france instead now. . . let us not be sad. the night's young. and russians are mad so.... let's live in the land of yesterday. live in the grand imperial heyday. let's live in the land of yesterday russia. . . husha. . . let's put on the fancy clothes. and let's wile our woes away. . . in russia. land of yesterday. . . in dire circumstances why wallow in regret. we're out of second chances. why are we here except to forget. we know the world is fickle. life is a leaky sieve. pass me a glass and give me a bow. and drink to the countess nobody now. why should i care as long as i dare to live. . . in the land of yesterday. . . let's run up the bill as if we're still. royalty at play. . in russia land of yesterday. . . the night's young. and russians are mad so.... . . let's live in the land of yesterday. live in the grand imperial heyday. let's live in the land of yesterday russia. husha. . . let's brush off the days of old. and let's hold the world at bay. . . yes here's to. . . russia. . . here's to. . . russia. . . here's to russia. land of yesterday. land of yesterday. hey",
         "0.104",
         "0.783",
         "0.113",
         "0.7757",
         "[-2.49698758e-02  4.93546352e-02  1.08754868e-02  1.93075705e-02\n  6.09848090e-03 -3.22421901e-02  4.63621654e-02  1.58883482e-02\n -1.35171684e-02  2.20348742e-02 -2.30978001e-02 -9.80374403e-03\n -8.46914772e-04 -2.15548486e-03  3.93990986e-02  1.52983079e-02\n  1.00620987e-03 -5.49374186e-02 -2.76171397e-02 -1.49622308e-02\n  3.88533361e-02  5.07461950e-02 -6.65313052e-03  6.82747215e-02\n  3.57407816e-02  4.69707400e-02  9.75867920e-03  3.98971960e-02\n  3.25045101e-02 -1.55824469e-02  7.20988959e-02 -2.17697490e-02\n -4.94786277e-02 -4.16699126e-02 -2.49760635e-02 -1.45615581e-02\n  8.43357202e-03  3.46726179e-03  5.06754816e-02  1.33709982e-02\n -1.32560628e-02 -6.15113927e-03 -9.17547673e-04 -2.83239000e-02\n -4.56216708e-02  1.57795772e-02  4.17415798e-02  4.68155220e-02\n  6.03587590e-02  3.41752209e-02  2.05483986e-04  5.32937534e-02\n -2.91549731e-02  7.41677592e-03  3.53814177e-02  3.49110588e-02\n -1.77686177e-02 -3.10233352e-03  5.89780882e-02  2.74696387e-02\n -6.53453097e-02 -4.75109369e-02  2.36399826e-02 -3.63122039e-02\n -2.23510549e-04  4.12086695e-02 -6.09945953e-02 -4.55287256e-04\n  2.31518149e-02 -3.87713849e-03 -7.84228090e-03  5.36539741e-02\n -1.38318678e-02 -1.78528763e-02  3.41007747e-02  1.21536469e-02\n -6.35863245e-02 -3.03742215e-02 -2.66314875e-02 -5.66268042e-02\n  2.08853874e-02 -8.09539557e-02  4.66425670e-03 -1.08576491e-02\n  9.88408029e-02  9.47273523e-02 -1.43371022e-03 -2.58627851e-02\n -3.42442729e-02  1.83898080e-02 -3.82482111e-02 -1.17457304e-02\n  2.62104552e-02  2.37315726e-02 -6.10576980e-02  1.13327289e-02\n  4.00723293e-02  3.40659358e-02  2.79742908e-02 -5.07036746e-02\n  7.95258433e-02 -5.47764897e-02 -6.71019852e-02 -3.83938961e-02\n -4.71240506e-02 -3.23171131e-02 -5.32669239e-02 -9.93770082e-03\n -1.36023769e-02  6.79431930e-02  4.33765687e-02  9.96632152e-04\n -3.53679247e-02 -6.72612712e-02 -9.20084789e-02  5.45540638e-02\n  4.88139130e-02  4.11994234e-02  3.48628536e-02 -5.17702773e-02\n  3.15511189e-02  2.69963965e-03 -3.58946957e-02 -3.31122335e-03\n -1.54834902e-02 -6.99512064e-02 -2.70966478e-02 -6.10389858e-02\n  2.27728840e-02 -7.52162840e-03  9.61037062e-04 -3.68692679e-03\n  1.80687681e-02 -6.99424893e-02 -7.53461272e-02  3.18953320e-02\n  7.76566565e-03  3.21297273e-02  3.51512507e-02 -2.36708634e-02\n  1.48568954e-02 -3.99914123e-02  4.36150506e-02 -5.79648763e-02\n  1.15784761e-02 -2.21395642e-02 -1.65989883e-02  7.71234632e-02\n  7.18862489e-02  2.28718501e-02 -7.65549317e-02  7.25507289e-02\n  2.10973006e-02 -2.59158872e-02 -3.58473063e-02  4.57124934e-02\n  2.25930624e-02  5.51683642e-02 -2.68796235e-02  1.01289600e-02\n -5.87510914e-02 -1.48349786e-02  4.51204367e-02  1.68684106e-02\n -3.01423762e-02 -6.22067265e-02  7.55067449e-03  9.45266560e-02\n  3.49911414e-02  7.26775452e-02 -4.39965278e-02  1.90425981e-02\n  1.08922273e-01  2.88354177e-02 -3.15725338e-05 -3.42353918e-02\n  6.69315979e-02 -3.76551528e-03 -2.62244735e-02 -2.21839850e-03\n  1.72559160e-03 -1.06002099e-03 -2.00796947e-02 -4.43131737e-02\n -1.21885836e-02 -4.18646522e-02  7.65681714e-02 -8.92816670e-03\n -4.01326790e-02  3.50050107e-02  1.28551573e-02 -2.55046207e-02\n  1.88488290e-02 -4.45383303e-02  6.51999786e-02 -1.07627511e-01\n  3.66324447e-02 -3.37913558e-02  1.04929984e-03 -3.81625295e-02\n -6.83618104e-03 -8.90613720e-02 -5.73896840e-02  2.43830886e-02\n  1.00370377e-01 -1.68703869e-02  4.65422496e-02 -9.48020443e-03\n  2.21827161e-02 -1.82600282e-02 -2.58326344e-02  1.58424687e-03\n  4.90415022e-02 -1.63460150e-02 -2.37051747e-03  3.40179764e-02\n -7.25818574e-02  5.89633659e-02  7.03652273e-04 -2.12652516e-02\n  4.38139439e-02  3.25351655e-02  2.38830522e-02 -3.99664640e-02\n -4.30645533e-02 -1.65336374e-02 -5.26026040e-02 -3.63619030e-02\n  2.56228577e-02 -8.27346668e-02  8.31461791e-03 -3.73821221e-02\n -3.29370648e-02 -6.28420040e-02  2.29036827e-02  4.94362041e-03\n  7.14429142e-03 -1.29247410e-02 -4.49065566e-02  5.64802845e-04\n -4.01295274e-02  8.33303668e-03  1.72349217e-03  1.90327875e-02\n  1.73574116e-03  3.83249857e-02 -1.92943420e-02 -5.64712062e-02\n  2.39802692e-02  6.43904507e-03  6.70145899e-02 -2.46287044e-02\n -1.24493362e-02  9.17098206e-03 -3.22376341e-02 -2.26932988e-02\n -8.34353827e-03  2.74025965e-02 -9.04985424e-03 -2.03555450e-03\n -3.07570938e-02  1.09727653e-02  1.17716268e-02 -2.13277023e-02\n -3.46846431e-02  1.62213631e-02  5.91672026e-03 -2.08969060e-02\n  6.74315244e-02 -3.67435291e-02  4.91027087e-02 -1.45654865e-02\n  4.10517268e-02 -2.53280457e-02 -7.30507895e-02  1.62765570e-02\n  1.48672769e-02  3.00246086e-02  4.34009247e-02 -1.03388680e-02\n -4.14221473e-02 -5.63651137e-02  3.03919688e-02 -2.90295295e-03\n  4.51596640e-02 -1.48133505e-02  1.26248635e-02 -1.91062763e-02\n  6.00695750e-03  4.00660746e-02  5.66049758e-03  5.03960159e-03\n  7.23496377e-02  5.06337248e-02 -3.40752006e-02  3.82475443e-02\n  4.93802875e-02 -1.72715392e-02  1.84185468e-02 -2.45216116e-02\n  3.28730084e-02  6.17991621e-03 -3.19464989e-02  2.05349345e-02\n -3.27347824e-03 -1.82993449e-02 -1.89036075e-02  7.52859786e-02\n -1.83272711e-03  5.08972385e-04  2.74106581e-02 -7.47585669e-02\n -1.86758321e-02 -6.63665403e-03 -1.39732305e-02  3.56952697e-02\n  3.02267205e-02 -1.84387639e-02  8.39931052e-03  8.52916390e-02\n -4.58770730e-02  5.24575487e-02 -1.06122177e-02  4.60605472e-02\n -1.29980057e-01  4.95583825e-02  2.53768004e-02 -7.70549383e-03\n  1.22477822e-02 -4.02345844e-02  2.65232064e-02 -5.49027659e-02\n -9.40408465e-03  1.74240153e-02 -4.01391387e-02 -2.19842996e-02\n -2.83089299e-02  4.99572530e-02 -2.90672835e-02 -4.18668725e-02\n  2.81747449e-02  1.82848610e-02  4.76938523e-02  2.53230985e-02\n  1.39244776e-02 -3.46008278e-02 -2.63710096e-02  4.70339507e-02\n -1.21131688e-02 -1.20332616e-03  6.15326017e-02 -7.76568949e-02\n -7.32820407e-02 -5.19076921e-02 -3.30202319e-02  1.32863000e-02\n -4.89631714e-03  7.26695359e-02 -5.62158674e-02  3.33466614e-03\n  2.05673948e-02 -3.61459097e-03 -2.35353354e-02 -4.38564755e-02\n -1.67171042e-02  5.30567542e-02  3.65902577e-03  5.28246164e-02\n -3.81650664e-02  1.17483232e-02  1.42353969e-02 -1.80540234e-02\n -1.49051787e-03  2.20784359e-02 -1.16990190e-02 -3.74525227e-02\n -2.25245953e-02 -6.85961470e-02  1.06914662e-01  5.17023802e-02\n  2.69676261e-02 -1.66167263e-02 -5.45676937e-03  1.56944152e-02\n  4.03608717e-02  2.64661647e-02  5.51723130e-03  1.28971366e-03\n -5.54763600e-02 -4.08064984e-02 -3.86047661e-02 -1.40136080e-02\n -7.25127906e-02 -3.54242213e-02 -3.88382077e-02 -2.44400054e-02\n -1.84389725e-02  1.67341884e-02 -3.12065445e-02  9.36314464e-03\n -4.92899604e-02  1.60573162e-02  2.31101178e-02 -2.51448993e-02\n -4.66280393e-02  4.69825380e-02 -4.62692268e-02  2.06853934e-02\n  1.99848064e-03 -5.83018027e-02 -1.70499962e-02 -1.22348620e-02\n -8.59084539e-03 -4.59351726e-02 -3.69272679e-02 -3.38065512e-02\n  2.52443124e-02  6.55628368e-03 -7.17569962e-02  1.46319168e-02\n -1.40236998e-02  4.79987934e-02  3.98401124e-03 -5.72062936e-03\n  1.30829606e-02 -1.66011788e-02  2.80456077e-02  5.66152558e-02\n -3.13053839e-02 -1.57407913e-02 -3.93452309e-03 -9.65294056e-03\n  9.62898135e-02 -2.00801864e-02 -6.28604461e-03 -3.93846259e-03\n -5.86142689e-02 -1.20110456e-02  2.68190354e-02 -1.29989116e-02\n  2.54678670e-02 -1.08255900e-01  3.46573740e-02  3.37187648e-02\n  4.26309519e-02 -3.81842591e-02 -4.51694988e-02  4.65932488e-02\n  1.23132244e-02 -4.95511219e-02  1.34050045e-02 -1.53711289e-02\n  2.05688318e-03 -5.23187704e-02 -7.47251231e-03 -9.23758894e-02\n -1.35158757e-02  3.06748655e-02 -3.76051548e-03 -2.22812798e-02\n  2.48258617e-02 -8.08331650e-03  6.43379912e-02  1.83939114e-02\n -3.48138437e-02  6.44674301e-02  6.32013939e-03  1.20893149e-02\n  2.14440469e-02 -2.83928197e-02 -3.56349582e-03 -4.86039557e-02\n -9.98231024e-02 -3.91167216e-02 -9.80612542e-03  2.77368352e-04\n -1.93625633e-02  1.23771513e-02  4.91171703e-03 -4.29913662e-02\n  6.72071590e-04  7.11776093e-02 -4.62664925e-02  5.83295187e-04\n -3.31428796e-02 -2.13231537e-02  1.14393029e-02 -2.82723978e-02\n -5.05309403e-02 -4.63871472e-03  2.45698933e-02  5.13273142e-02\n -4.39803908e-03  4.61297296e-02 -3.48794945e-02 -4.84491669e-04\n -7.62261525e-02  6.62423968e-02  1.59467347e-02  7.76507473e-03\n -1.35923363e-02  3.23166363e-02  8.90241936e-02  6.62982911e-02\n -1.60828140e-02 -5.68384118e-02 -2.57925782e-03 -6.06954284e-03\n -1.36312582e-02 -1.81523208e-02 -3.97062004e-02  6.99253008e-02]",
         " let's live in the land of yesterday"
        ],
        [
         "47",
         "47",
         "The Countess and the Common Man",
         "ever since that first day i saw you at court. i knew i was beneath you. . . you were right darling. you were. . . i noticed you across a room. the most exquisite rose. the tiniest tiara and. that haughty little nose. i flirted with you shamelessly. . . or so the scandal goes.... the countess. . . and the common man. we tiptoed off to peterhof. to have a royal fling. . . my husband was oblivious. counts never know a thing. . . and all of it was perfect. . . 'til you stole my diamond ring. . . the countess and the common man. . . cologne in the bedclothes. the pastry and wine. . . and under the table. your foot touching mine. . . and how my heart beat. when you sent me our sign. . . i loved you.... . . you loved me. and oh it was simply. . . divine.... . . haha. ha ooh. who would have known. my little rose. we're back where we began. . . and i suppose. that you'll propose. another sneaky plan. which i'll resist.... . . until you're kissed. . . for nothing's better than.... . . the countess. . . and the common man.... . . the countess and the common man",
         "0.039",
         "0.807",
         "0.154",
         "0.969",
         "[-4.40316722e-02 -3.90176103e-02 -8.58736318e-03  1.39605924e-02\n  3.79100405e-02  4.03394178e-02  4.33765016e-02  5.00329547e-02\n  9.99614038e-03  4.99941111e-02 -2.89552175e-02 -1.66226346e-02\n  8.78118575e-02  6.00626655e-02  1.57244354e-02 -1.58585757e-02\n  3.82033475e-02  1.66609380e-02 -4.72900756e-02  7.99748525e-02\n  2.40714960e-02  4.94739935e-02 -6.04745874e-04  1.10778533e-01\n  3.07366345e-02 -5.14421752e-03 -8.91759619e-03  2.83717997e-02\n  2.25043856e-02  1.22634636e-03  3.57441790e-02  2.49750707e-02\n -5.24519198e-02 -3.89554836e-02 -2.28314400e-02 -2.26361435e-02\n  1.03270113e-01 -1.78115088e-02  7.78341293e-02  3.54987718e-02\n -4.56916317e-02 -4.18751426e-02 -6.07302114e-02  6.55349484e-03\n  3.21466997e-02 -2.34220596e-03  7.85763487e-02  3.49401385e-02\n -7.07849627e-03  3.21059413e-02  2.10624710e-02  2.87678633e-02\n -1.84842963e-02  1.17295543e-02  5.22635132e-02  2.97629200e-02\n  1.32085383e-02  4.44900282e-02  2.82870997e-02 -2.56405417e-02\n -2.90419441e-02  4.24791276e-02 -5.00959344e-03 -5.61215207e-02\n  2.63270130e-03 -5.43880137e-03 -2.98790019e-02  2.53255609e-02\n  4.77947257e-02 -3.60327177e-02  5.80557548e-02 -5.53171933e-02\n  1.93770938e-02 -2.19777599e-02 -2.05665571e-03  2.15976476e-03\n -4.09932509e-02 -3.00610927e-03 -5.24626747e-02 -2.92675178e-02\n -8.91040079e-03 -7.24948123e-02  1.86898410e-02  4.04636115e-02\n  1.32285496e-02  1.09364524e-01 -1.48133999e-02 -5.41616678e-02\n -1.25447698e-02 -1.86833832e-02  2.89883129e-02  1.32431583e-02\n  1.95488706e-02 -3.80535498e-02 -1.85589064e-02  1.15510877e-02\n  1.57354381e-02 -1.89917870e-02  2.31316984e-02 -2.49429457e-02\n -1.78205725e-02 -5.16406633e-02 -4.48315218e-02 -6.22203350e-02\n -2.91614830e-02 -1.50034390e-02 -8.97066109e-03  2.51419600e-02\n -3.67286848e-03  6.42788876e-03  4.71585728e-02  1.04224915e-02\n  7.16343299e-02  2.94098482e-02 -6.00344203e-02 -7.89748225e-03\n  5.23531344e-04 -3.15967598e-03  2.99383719e-02  3.56384329e-02\n  1.02052391e-02  1.90960467e-02 -2.54851822e-02  1.41293984e-02\n -4.51738872e-02  1.56774987e-02  5.67024387e-02 -4.05772440e-02\n  3.03476527e-02 -1.57694723e-02  4.06333134e-02 -2.68683638e-02\n  4.04276066e-02 -5.07108420e-02 -3.42424698e-02  1.07100485e-02\n -7.44889006e-02  3.98809090e-03 -6.42171428e-02  5.98950572e-02\n -1.72207970e-02 -4.25532386e-02  3.63855138e-02  6.76691253e-03\n  2.72479970e-02 -6.92209648e-03  4.17728536e-03  3.33361477e-02\n  3.63269746e-02 -3.11117456e-03 -5.71409799e-02  4.54342999e-02\n -5.97494952e-02  1.99753083e-02  1.70780458e-02  5.01862131e-02\n -5.35879284e-03  5.25445677e-02 -3.41073833e-02 -4.69619557e-02\n  6.64111152e-02 -5.56245558e-02 -3.26367212e-03 -1.96245126e-02\n  3.45906764e-02 -1.17703639e-02  3.20429206e-02  7.62988180e-02\n -1.60984267e-02  6.30608946e-03 -3.48041579e-02  1.92908086e-02\n  1.92126483e-02 -2.08542664e-02 -1.53737133e-02 -4.69524600e-02\n  4.64425646e-02 -7.70508777e-03  5.27878897e-03  9.25291423e-03\n  2.00731717e-02 -9.07845646e-02 -6.01215586e-02  4.57238377e-04\n -1.34057179e-02  6.92964881e-04  2.92306114e-02 -5.32624200e-02\n -2.82185618e-04  6.74816892e-02  6.33432646e-04  2.59639649e-03\n -1.22382175e-02 -4.37067039e-02  1.30844340e-01 -2.09355373e-02\n -4.40082811e-02 -1.89740490e-02  3.65700796e-02  1.76695213e-02\n  6.67541102e-02 -1.39401913e-01  1.50012374e-02  4.85844873e-02\n  6.55795559e-02  2.18085409e-03 -3.29199284e-02 -3.31692165e-04\n  1.40703730e-02 -1.04511285e-03 -9.62460637e-02  3.42096277e-02\n -8.19927640e-03  7.09465984e-03  3.29341018e-03  7.11135240e-03\n  2.97037512e-02 -2.91579552e-02 -1.05957277e-02 -1.40788080e-03\n  1.79195888e-02  7.08877593e-02  2.78534018e-03 -9.13991220e-03\n -5.64177893e-02  1.17225479e-02  3.59763727e-02  2.28078403e-02\n  4.26047072e-02 -1.35095706e-02  6.02327920e-02 -2.64002886e-02\n  9.40566882e-03  2.52216104e-02  5.44384681e-02 -2.88118683e-02\n -1.53540755e-02  3.70998271e-02 -3.09228562e-02  1.02008414e-02\n -2.30672490e-02  1.72608737e-02  4.26985584e-02 -2.01496724e-02\n -2.42802892e-02 -1.33776935e-02 -6.93995925e-03 -8.60850364e-02\n -7.18547106e-02  2.24898998e-02  1.80158410e-02  1.47189191e-02\n  2.02742834e-02 -1.62813463e-03 -1.49307130e-02 -2.96098664e-02\n  8.05437472e-03  2.55418904e-02 -8.37158470e-04  2.38687498e-04\n -5.64117059e-02  4.44102511e-02  4.66488153e-02  3.48942988e-02\n -4.73931916e-02 -2.67986432e-02 -3.29971164e-02  9.97145846e-03\n  8.99069849e-03 -2.75288187e-02  5.28747886e-02  2.97163446e-02\n -1.34286173e-02 -5.53804487e-02 -4.50900057e-03 -4.84464169e-02\n  3.99706960e-02  2.85550766e-02  3.99099514e-02 -2.40709949e-02\n -8.86593829e-04 -3.68288048e-02  4.17504124e-02  2.42505986e-02\n  1.76060330e-02 -2.09196042e-02 -2.84114014e-02  3.27249020e-02\n  1.14477351e-02  1.45969000e-02  2.33980715e-02  2.54011117e-02\n  4.92540523e-02 -2.55067879e-03 -3.95843461e-02  2.28409227e-02\n  3.23103815e-02 -4.16253693e-03  2.28198301e-02 -1.39856845e-01\n -2.71367878e-02  5.18696308e-02 -4.37187850e-02  1.42467469e-02\n -4.52586450e-02 -2.80595347e-02 -5.41245937e-02  7.97955841e-02\n -6.82896934e-03  2.47590300e-02  4.75773774e-02  2.59722676e-02\n -1.47751451e-03  3.67943905e-02  5.08672781e-02  6.67961733e-03\n  3.73275168e-02  2.11049262e-02  3.29586007e-02  3.55184451e-02\n  1.75871775e-02  6.23077787e-02 -2.09797006e-02  1.20404959e-02\n -8.39522865e-04  4.37978134e-02  1.88610852e-02  7.54704103e-02\n  2.65988223e-02 -2.32035890e-02  7.21407915e-03 -2.05080248e-02\n -6.26452640e-02  7.24895000e-02  3.07720760e-03  4.32124920e-02\n -2.93618888e-02 -3.09676565e-02 -1.92016531e-02 -7.00919479e-02\n  1.79110374e-02  2.38521248e-02  9.56403837e-03  4.76588793e-02\n  2.86326315e-02 -6.92210943e-02 -9.70193185e-03  6.38479888e-02\n  3.10974736e-02  7.89659843e-03  2.73908377e-02 -6.03547804e-02\n -2.34474093e-02 -3.64588201e-02 -2.67539956e-02  3.56586464e-02\n -2.17870194e-02  1.04593616e-02 -1.83465760e-02 -7.12887058e-03\n  3.62447947e-02  1.49159983e-03 -1.29364086e-02  2.11737081e-02\n -2.23494470e-02  1.18376818e-02  3.46246846e-02  1.31687960e-02\n -3.29095647e-02  1.62344947e-02 -2.47925669e-02  5.63758472e-03\n -6.34389967e-02 -1.45233348e-02  1.71140209e-02  1.03810923e-02\n -8.64785165e-03 -2.62718499e-02  7.65613988e-02  1.40489535e-02\n -1.99544281e-02  1.42665934e-02  1.03401467e-02 -7.52333412e-03\n  3.97254489e-02  3.70887481e-02 -5.32297418e-05 -1.87263899e-02\n -2.21652687e-02  1.70612857e-02 -1.98183823e-02  1.83147262e-03\n -2.76018828e-02 -1.56085519e-02  4.39693732e-03  4.72801030e-02\n  3.51641439e-02 -4.31008674e-02  5.48281148e-02  4.28754510e-03\n -4.84623527e-03 -2.56815720e-02  6.57261759e-02  3.50837559e-02\n -7.16588870e-02  5.19775003e-02  3.38589475e-02  1.20887849e-02\n -3.84231135e-02  2.97091193e-02 -2.98617641e-03  9.01537854e-03\n  5.65745495e-03  1.03789391e-02 -2.88090995e-03 -2.85138860e-02\n  1.49624171e-02  9.16970819e-02  2.14592963e-02  5.91001473e-03\n  2.66302135e-02  3.25793438e-02  1.76676773e-02  1.09249470e-03\n  3.37779783e-02  2.97031198e-02  2.41927318e-02  4.63908017e-02\n -2.31045615e-02  8.70731752e-03  2.83845514e-02  5.69686701e-04\n  1.18950829e-01 -5.20952919e-04 -3.91132422e-02 -5.23977028e-03\n  6.48726802e-03 -2.29080636e-02  1.24758938e-02  2.53618248e-02\n -1.54352523e-02 -1.16670027e-01  2.52396818e-02  2.49719080e-02\n  2.93396115e-02 -6.18513338e-02 -5.13769500e-02 -1.68081112e-02\n -6.65817782e-02 -5.33673260e-03 -6.79589435e-02  5.23069240e-02\n  4.79798764e-02 -3.10925324e-03  4.19342332e-02 -4.94067669e-02\n  4.94193509e-02  5.28450422e-02 -6.68467283e-02  4.52528484e-02\n  4.36638445e-02 -4.53855954e-02  6.69973493e-02  2.96995137e-02\n -2.62404475e-02  1.64539199e-02 -6.82489350e-02  7.25586992e-03\n -3.78318019e-02 -4.68943119e-02 -3.54125760e-02 -3.98552716e-02\n -5.28265610e-02  9.03093722e-03 -2.78897211e-02 -1.26562268e-02\n -3.11921425e-02 -2.96452781e-04  2.62052603e-02 -4.67836000e-02\n -4.50313464e-03  2.64079757e-02 -6.72393292e-02  6.17988035e-02\n -4.07006070e-02  2.59944852e-02 -4.01275186e-03  1.20705403e-02\n -7.29998946e-03 -5.38520003e-03  1.17853684e-02 -1.07995672e-02\n  2.74621993e-02  1.50752836e-03  5.74381687e-02  2.02038195e-02\n -1.50565989e-04 -3.13670970e-02 -2.53647491e-02 -2.81309523e-03\n -2.47650798e-02 -1.61078796e-02  8.73348564e-02 -4.59377049e-03\n -1.08138658e-03 -8.16419274e-02 -1.19554810e-04 -1.25836758e-02\n  1.60015374e-02 -5.62824458e-02  1.18995970e-02  2.88537778e-02]",
         " the countess and the common man"
        ],
        [
         "48",
         "48",
         "Meant to Be",
         "what's meant to be is meant to be. i see it at a glance. she's radiant and confident. and born to take this chance. i tried to think of everything. i just forgot romance. i never should have let them dance",
         "0.0",
         "0.725",
         "0.275",
         "0.9032",
         "[-0.00663036  0.00716897 -0.02538351  0.00528331  0.06460871  0.04083912\n  0.01884787 -0.05970589 -0.06890213 -0.04706072  0.00922766  0.05053254\n -0.08717269  0.06683322 -0.01520031  0.02343257  0.03003156 -0.02553983\n -0.00233146  0.00999598 -0.07948929 -0.04383199  0.06059029 -0.00114446\n -0.00123849  0.02153218 -0.01786784  0.01260492  0.01242961  0.01452628\n -0.01153828 -0.03243308  0.00200712 -0.01112547 -0.06812331 -0.01307901\n -0.0064403   0.02473535 -0.02967842 -0.07591276 -0.06338829 -0.00889688\n  0.00348333 -0.04151396  0.05613315 -0.00077062 -0.0473689  -0.00732969\n  0.03145985  0.00902366 -0.03046892  0.06057168  0.00148226 -0.01452784\n  0.03012493  0.03501704 -0.05973567  0.01182405  0.0014152   0.0262185\n -0.00719673  0.02114977 -0.03138724 -0.00915447  0.02459771  0.05043421\n  0.00506964  0.01852276 -0.0007222   0.03168509 -0.03161499  0.01719862\n -0.025639   -0.01656896 -0.02367011  0.00949473 -0.01968257 -0.03881645\n  0.0475406  -0.02779033  0.02553671 -0.0447077   0.02964571 -0.00683661\n -0.0160262   0.00722341  0.05382761  0.00943765 -0.06178614  0.04840721\n  0.02235889  0.04152387  0.02236344 -0.05512614 -0.00737684  0.00745171\n -0.03012233  0.02431315  0.04395097 -0.04739252 -0.03478077 -0.02674684\n -0.02936419  0.07892648 -0.05691015 -0.01994592  0.06175676  0.03882264\n  0.02016927 -0.02453395  0.01742694 -0.00216178  0.02487596  0.05526045\n -0.04706366 -0.00494251  0.00762778 -0.03223535  0.0336515   0.07605714\n -0.0132138   0.0422181  -0.02320524 -0.02340984  0.08473528  0.01361575\n -0.03744493 -0.03518042 -0.03932839 -0.01263924  0.03718108  0.05449511\n  0.05255906 -0.02414886  0.02451308  0.01111281 -0.04976718  0.00365391\n -0.0054724   0.01570817 -0.03841795 -0.02867537  0.01476521  0.00424812\n  0.04663225 -0.00713274 -0.00444147 -0.02565732  0.07259252 -0.05797423\n  0.00336555  0.09654541 -0.02290455  0.00672758  0.00717029  0.02460553\n  0.02472189  0.03002489  0.04322196  0.07098528 -0.02275333  0.01636036\n -0.00148872 -0.01269056  0.00562803  0.04660176 -0.01949434  0.01929904\n -0.05746248  0.05931728 -0.02151017  0.0253687   0.0539929  -0.0401573\n  0.00107404  0.01582657  0.005482    0.04197089 -0.00686606  0.03194893\n  0.03336471 -0.03308298 -0.02305736 -0.02186004 -0.06514695 -0.02428654\n  0.04804642 -0.02950251 -0.01579499 -0.01129311 -0.02842453  0.02844845\n -0.00181225 -0.00408141  0.12832199 -0.02500928 -0.0132126  -0.01944271\n -0.0382983  -0.00366154 -0.0163755  -0.10066161 -0.00395916  0.02943082\n  0.01468339 -0.00050533  0.00082312 -0.01449375 -0.01346095 -0.03031703\n -0.06381547 -0.01110596  0.01748348  0.05943743 -0.02028427  0.0632493\n -0.0232391   0.00122161 -0.01619546 -0.02066062  0.03382047  0.029447\n  0.04510088  0.01457379  0.00322999  0.00741928 -0.02433909 -0.00459873\n -0.02905487 -0.01497324  0.04621212 -0.00297996  0.03298396 -0.01280542\n -0.01650533  0.00649158  0.05237852  0.0113653   0.04759793 -0.01662097\n -0.08665569 -0.00346213  0.00371243  0.00712815 -0.01621574 -0.01886788\n  0.00222674  0.00785385 -0.02079903  0.05569149  0.01391023 -0.08731029\n  0.00359684  0.06018803  0.02464936 -0.01748776  0.00291527  0.03578918\n -0.00781729 -0.02758909  0.00488232  0.01806326  0.0144932   0.01683351\n  0.00742203  0.00346808 -0.01923041 -0.0433326  -0.01494326 -0.04498371\n  0.00052623 -0.01961113  0.00750379 -0.01048805 -0.01348868 -0.00042219\n  0.01632046  0.05107062  0.0527439   0.02750456  0.00661025  0.03315126\n  0.08705587  0.05955419 -0.04983217  0.01519727  0.01862648 -0.03089396\n  0.03040323 -0.03605554 -0.04031722  0.04473875  0.00107981  0.0160877\n -0.03953118  0.01272319  0.05868108 -0.04218915  0.00694805  0.07222257\n -0.02906447 -0.05094141  0.02119972  0.07869488 -0.0214056  -0.01278105\n -0.05121316 -0.01353468 -0.04556332 -0.01689929  0.05193315 -0.02482816\n  0.07264879  0.01131068  0.01290067 -0.01943875 -0.01905981  0.01891481\n -0.00455923  0.03509749  0.04407753  0.08425934  0.02374978 -0.03438827\n -0.02630523  0.00740495  0.03343057  0.00639582 -0.0008813  -0.02594444\n  0.04181993 -0.00444367 -0.00250287 -0.02592812 -0.00805626 -0.02706276\n -0.03610193  0.00527562  0.00327864 -0.03906973 -0.01501545  0.03873244\n -0.03571233 -0.02254025  0.05140826  0.00921761 -0.01968963 -0.02962642\n  0.00358868 -0.03405689 -0.02714285 -0.01710945  0.03534822 -0.00207477\n  0.0127012   0.03787579  0.01601994  0.07584421 -0.01721321 -0.03901723\n  0.00676991  0.02020611  0.05342132  0.03963541 -0.01582048  0.02822306\n  0.03663824  0.01279337 -0.01418697 -0.00054753 -0.00678279  0.00602033\n  0.01949248  0.00623042 -0.01112415  0.00992651 -0.01046767  0.0398478\n  0.04338966 -0.01477035  0.04970661  0.01339861  0.01626285  0.0505176\n -0.04743559  0.02003584  0.03154599  0.06948847 -0.01478235  0.01772615\n -0.00646976 -0.01508671  0.00807382 -0.00520102 -0.02855879 -0.01326407\n -0.02603177 -0.00240985  0.04456476 -0.01669946  0.00587205 -0.05872648\n -0.01811917  0.03875629 -0.07180543 -0.0042489  -0.00216669  0.02051951\n -0.02959532  0.01317373  0.01625968  0.02902107  0.00093504  0.04735642\n -0.03515382 -0.01906611 -0.02763814 -0.03893674 -0.01073377 -0.04607807\n  0.03848633 -0.04495911 -0.01072454  0.01974939  0.0230668  -0.02007376\n -0.00034368  0.07438385  0.0112904  -0.00408857  0.00383556 -0.02410778\n  0.04966255 -0.02495709 -0.01513595  0.02813555 -0.01141112 -0.06116582\n -0.02609762 -0.0625597  -0.003194   -0.07901436 -0.0309493   0.02344255\n  0.03578278  0.00622367 -0.04737432 -0.01308965 -0.0354517   0.07166265\n  0.00736399  0.00851628  0.04036462  0.04919757  0.06995139 -0.04946032\n -0.04410746  0.04835477  0.01454712  0.01937877 -0.0253668  -0.02560705\n  0.08813079 -0.01264594 -0.02334096 -0.03312611 -0.01233622  0.02318227\n -0.06482968 -0.08622301 -0.01762624  0.00443214 -0.00306918 -0.00452474\n -0.01823859  0.00426956  0.00052504  0.04987144 -0.03156685 -0.00680893\n  0.00559251  0.00339932 -0.06568475 -0.01031417  0.01264549 -0.02578538\n  0.02385544 -0.00955875  0.02681494 -0.00814021  0.04175816  0.09233611\n  0.00948716  0.01544836 -0.04831681  0.00331241 -0.01740744  0.02175669\n  0.02060924  0.00876658  0.03910133 -0.00218994  0.08454981 -0.01424112\n  0.00872273 -0.06543196  0.01893263  0.01893586 -0.01958307 -0.03258523\n -0.04684598  0.01201933]",
         "what's meant to be is meant to be"
        ],
        [
         "49",
         "49",
         "Quartet at the Ballet",
         "can this be the evening. can this be the place. am i only dreaming looking at her face. everything i've wanted. suddenly so clear. my past and my future so near.... . . next to me this frightened girl. holding tight as the dancers whirl. keep your nerve and see this through. it's what you've come to do.... . . see that girl. could it be.... . spoken. don't be ridiculous. . singing. i refuse to dream. i refuse to hope. i must stop believing. i will ever find her.... . . she's near at hand yet here i stand. my heart and mind at war.... the times must change the world must change. and love is not what revolution's for.... . someone holds her safe and warm. someone rescues her from the storm. simple things but one thing's clear. it's fate that brought us here.... . . painted wings home love simple things. silver snow fam'ly  simple things. whirling like a ballet she will have and whatever i. all of it have to do i will. things my heart i will simple how. yearns to know help her simple men. find a way... find a way.... . . anastasia",
         "0.035",
         "0.795",
         "0.17",
         "0.9779",
         "[-6.87257349e-02 -1.49532482e-02  1.06966523e-02  2.93081459e-02\n  7.23332465e-02  6.93269968e-02  2.64679501e-03 -4.01141047e-02\n  9.17624449e-04  7.21946135e-02 -7.78442947e-03  6.89597577e-02\n -5.21074645e-02  4.66521792e-02  9.95767675e-03  3.14594768e-02\n  7.12327706e-03 -2.97975317e-02 -2.25151014e-02  2.75790691e-02\n -7.10548013e-02 -2.03722864e-02  1.08368937e-02  2.84929685e-02\n -3.15853842e-02 -1.23844426e-02 -5.62988035e-03 -2.85600927e-02\n -2.22873166e-02  2.76466068e-02  1.65876094e-02  2.77274884e-02\n -5.85617647e-02 -1.01409636e-01 -2.17418168e-02 -4.09785919e-02\n -2.76446790e-02  2.54815146e-02 -2.92412341e-02  1.59396678e-02\n -5.75117469e-02 -9.84596461e-03  3.60490195e-02 -5.42560071e-02\n -2.22882312e-02 -3.35028172e-02 -2.88545471e-02 -4.18212451e-03\n  6.34097960e-03  1.69076268e-02 -3.91062861e-03  1.56914331e-02\n  4.18885116e-04  2.91195568e-02  7.89896492e-03  5.85854873e-02\n -1.88333914e-02 -4.70231008e-03  9.78818815e-03  2.83539630e-02\n  1.50598520e-02  4.60159704e-02 -3.18814069e-02 -2.67283409e-04\n -1.14293126e-02  3.51044089e-02  1.52694779e-02 -2.19998080e-02\n  4.67125922e-02  3.30563486e-02 -1.13080386e-02  4.58022058e-02\n  3.49405706e-02 -2.56334506e-02  2.18135118e-03  7.48048164e-03\n -6.24817535e-02 -4.77894284e-02  5.84915616e-02  1.96869001e-02\n -1.40404981e-02 -4.59314585e-02  3.96827646e-02 -5.48097724e-03\n  3.72347841e-03  8.68755355e-02  6.28071874e-02 -5.37927374e-02\n -1.07114874e-02  1.20146759e-02  3.50562036e-02  4.27362397e-02\n  4.25158553e-02 -2.02515069e-02 -2.96934862e-02  9.18899477e-03\n -7.74488610e-04  3.41965705e-02  4.40477729e-02 -2.47987211e-02\n -3.86363305e-02 -3.65448780e-02 -3.54116000e-02  4.70252298e-02\n -4.34155278e-02 -5.01460694e-02  5.06040715e-02 -4.30002362e-02\n -1.07727656e-02  1.66883208e-02  3.23329903e-02 -2.27109957e-02\n  9.11671743e-02 -1.77363306e-02 -6.22211844e-02  5.02479747e-02\n -1.10534942e-02 -3.09132449e-02  3.49162705e-02 -5.15520871e-02\n -6.04158081e-03  7.27490289e-04  2.04703137e-02 -3.16088088e-02\n  6.18901737e-02  2.35337969e-02 -5.01815081e-02 -5.11839353e-02\n  7.62609718e-03 -2.83691902e-02  4.40518223e-02  1.61159365e-03\n -7.50221498e-03  2.14711614e-02  4.20220941e-03 -2.84962114e-02\n -4.69379313e-03 -3.24044339e-02 -3.96761186e-02  4.65141870e-02\n -2.27121487e-02  1.75438717e-03 -3.75799239e-02 -2.41814163e-02\n -1.77784432e-02  4.99841943e-02 -3.80033366e-02 -2.60455124e-02\n  4.69738580e-02 -5.62378876e-02  6.06680568e-03  8.96283910e-02\n -5.48025742e-02  1.51483882e-02  3.09680104e-02  6.07897947e-03\n -1.96041772e-03  3.26728560e-02  1.11784274e-02  2.28875875e-02\n -1.37197664e-02  9.33819711e-02 -1.23229355e-03  3.21607776e-02\n -1.08715557e-02 -2.16821767e-02 -3.04572508e-02  4.75027673e-02\n  1.83052458e-02  6.70383312e-03 -1.11382939e-02  3.22278515e-02\n  7.24486485e-02  2.04351358e-02 -3.93204354e-02  3.29149663e-02\n  6.22507669e-02 -7.85657484e-03 -3.94049995e-02  8.52332637e-03\n  1.76851489e-02 -1.37903122e-02 -4.77254130e-02 -6.20500818e-02\n -6.72251359e-02 -2.74787247e-02  5.58178276e-02 -4.47092727e-02\n -4.76319306e-02  5.74745052e-02 -2.27269102e-02  6.22636117e-02\n  2.09798981e-02 -1.28905429e-02  1.27931759e-01 -2.47708187e-02\n -7.13233948e-02 -1.09688332e-02  1.95286665e-02 -2.53767557e-02\n -1.96418585e-03 -1.00615345e-01  6.55676378e-03 -1.09388949e-02\n  3.46917547e-02  3.47388089e-02 -1.34860575e-02 -2.78692208e-02\n  2.73230020e-03 -4.39804122e-02 -1.04133906e-02 -4.19738442e-02\n  3.35741090e-03  4.52747829e-02 -2.35713143e-02  7.44664222e-02\n -5.19362204e-02  3.15061510e-02  4.13016853e-04  9.76103533e-04\n  8.49360041e-03 -1.59072243e-02 -3.44536677e-02  2.78556198e-02\n -6.28387630e-02 -4.95890714e-02  6.38572406e-03  5.98661602e-02\n  5.27999327e-02 -6.22852659e-03  9.27762501e-03 -2.63237190e-02\n -4.27612178e-02 -5.63031510e-02 -3.17425579e-02  2.36753970e-02\n -1.02416612e-04 -6.55471114e-03  7.84045842e-04  1.91158131e-02\n -4.53940853e-02  5.69338445e-03 -6.82085603e-02  1.08649293e-02\n -2.62888949e-02 -2.38958523e-02  1.48358904e-02 -4.53963391e-02\n -2.80249622e-02  2.85391510e-02 -1.33344149e-02 -5.14251553e-02\n -8.27960372e-02  5.93693973e-03  2.72021350e-03 -4.99502569e-02\n  1.57705750e-02  4.92340624e-02  5.88335842e-03  3.48124392e-02\n -5.34198917e-02  5.30656092e-02 -3.50951985e-03  2.94417683e-02\n -1.79271605e-02 -9.72830039e-03 -1.23672644e-02 -3.57740698e-03\n  6.39131246e-03 -2.25580912e-02  3.09936311e-02  4.49207472e-03\n  1.24000311e-02 -9.66094993e-03  8.90569855e-03 -2.72336118e-02\n  7.75409117e-02  4.20635641e-02  2.87483893e-02  5.90473078e-02\n -1.48161408e-03  1.39225274e-02  7.53177255e-02  1.78793836e-02\n  3.60359028e-02  9.33774456e-04 -9.75790806e-03 -3.37577127e-02\n  2.50190683e-02  6.06928580e-03  4.25055623e-06  5.49302585e-02\n  1.96383651e-02  4.17638458e-02 -3.49138975e-02  3.06646880e-02\n  7.41086481e-03 -1.85726471e-02 -1.11332079e-02 -1.89299993e-02\n -4.00472991e-02 -1.77710261e-02 -7.79551361e-03  4.35890295e-02\n -1.28302472e-02 -6.02788711e-03 -1.79354325e-02  1.95591580e-02\n  1.59508958e-02  3.75326630e-03  5.04406430e-02 -3.37532274e-02\n  5.07562757e-02  3.78784575e-02  3.52640934e-02  9.82639007e-03\n  1.00265378e-02 -2.35285447e-03  2.48682266e-03 -1.28673995e-02\n  3.27254273e-02  4.88509052e-02 -4.18704487e-02 -1.93703510e-02\n -4.40376289e-02  3.23809199e-02  1.44041851e-02 -6.47294670e-02\n -3.01956702e-02 -2.16592923e-02  4.00829427e-02 -3.32105644e-02\n -5.33272093e-03  2.29745004e-02  2.82624196e-02  1.98747739e-02\n -6.25652075e-02  5.55049116e-03  3.55857350e-02 -1.59769729e-02\n  1.23586208e-02  6.50792988e-03  3.60949188e-02 -1.17867058e-02\n  8.44559446e-02 -2.55364855e-03 -2.96983737e-02 -1.94651205e-02\n  3.38624716e-02  1.48568144e-02  1.54475309e-02  7.51691870e-03\n -2.38231644e-02 -4.47829105e-02 -2.77588498e-02  9.33217537e-03\n  4.95851561e-02 -2.01434307e-02  2.65084859e-02 -5.20188473e-02\n  2.42806189e-02  1.70398094e-02 -2.70630117e-04  1.92897487e-02\n -3.59906815e-02 -2.71269903e-02  4.75051962e-02  1.77799203e-02\n -1.50263244e-02 -2.03661621e-02 -4.74160798e-02  3.51821855e-02\n -2.45694090e-02  5.79387397e-02 -4.06193323e-02 -9.84996744e-03\n -2.65857298e-02  5.22370748e-02  2.45628040e-02  4.90544625e-02\n  4.10267748e-02 -8.16747826e-03  8.64032935e-03  2.97009218e-02\n  4.54491414e-02 -3.76455998e-03  5.44567332e-02  5.60332313e-02\n -2.78344308e-03 -3.65466736e-02 -3.74881290e-02  7.28370971e-04\n  1.56352669e-02 -5.18771894e-02  1.03768203e-02 -5.62264323e-02\n  3.83792184e-02  1.36903692e-02  5.11852428e-02  2.39595529e-02\n -1.26355514e-02 -3.05680018e-02  5.81588410e-02 -3.57705057e-02\n  1.07114762e-03 -5.27347885e-02  1.87072009e-02 -9.69229441e-04\n -4.65214392e-03 -6.54198229e-03  1.59541797e-02 -5.86161530e-03\n -7.82527998e-02  2.66322680e-02  1.88965350e-04 -1.94898136e-02\n  1.24214729e-02 -3.72711346e-02  3.98314409e-02  1.96454991e-02\n  3.16566713e-02  4.65853661e-02  2.03050263e-02  1.09190065e-02\n -6.52427673e-02 -9.40944627e-03  1.67424101e-02  1.89074804e-03\n  2.06336211e-02 -6.53394014e-02  4.20120247e-02 -1.59520209e-02\n  8.67413729e-02 -4.01629396e-02  1.91354696e-02  2.56412346e-02\n  8.59729201e-02 -6.54745921e-02 -5.00159599e-02 -4.45431657e-02\n  4.57368158e-02 -8.80896002e-02 -7.49962330e-02  5.06772660e-02\n  5.78274094e-02 -4.57984544e-02 -5.22078313e-02  4.05788347e-02\n -3.53543162e-02  4.45014723e-02  1.00824411e-03  5.22499308e-02\n  3.18854935e-02  6.87450990e-02 -4.52419817e-02 -1.11513823e-01\n -1.30456910e-02  6.39566332e-02  9.15755332e-03  1.51960272e-02\n  2.20644157e-02 -5.10572158e-02  1.14669137e-01  2.07249448e-02\n  2.56347023e-02  5.21806665e-02  6.03348296e-03 -1.93845313e-02\n -4.68668304e-02 -5.14115021e-02  1.90702640e-02  1.55494576e-02\n -4.83890966e-04 -5.08782193e-02  3.05664521e-02  1.24151316e-02\n  1.16181867e-02  1.65263917e-02 -2.69798050e-03 -1.78486842e-03\n  1.48078380e-02  1.66672058e-02 -4.90264483e-02  7.03062629e-03\n  1.96974948e-02 -5.23204282e-02 -2.74189208e-02 -7.44855404e-02\n  9.59703606e-03 -2.94049066e-02  3.99072468e-02  9.44432393e-02\n  9.47098248e-03  2.81437151e-02 -7.62795359e-02 -2.88505182e-02\n -4.20235582e-02  2.62567401e-02  4.00003828e-02  2.44277064e-02\n -1.97163709e-02 -2.16615442e-02  1.03093781e-01  2.49150191e-02\n -1.87736806e-02 -3.56100388e-02  3.32289226e-02  5.79864904e-02\n -1.22390490e-03 -1.72888916e-02 -2.74048857e-02  2.32635532e-03]",
         " the times must change the world must change"
        ]
       ],
       "shape": {
        "columns": 9,
        "rows": 97
       }
      },
      "text/html": [
       "<div>\n",
       "<style scoped>\n",
       "    .dataframe tbody tr th:only-of-type {\n",
       "        vertical-align: middle;\n",
       "    }\n",
       "\n",
       "    .dataframe tbody tr th {\n",
       "        vertical-align: top;\n",
       "    }\n",
       "\n",
       "    .dataframe thead th {\n",
       "        text-align: right;\n",
       "    }\n",
       "</style>\n",
       "<table border=\"1\" class=\"dataframe\">\n",
       "  <thead>\n",
       "    <tr style=\"text-align: right;\">\n",
       "      <th></th>\n",
       "      <th>Unnamed: 0</th>\n",
       "      <th>title</th>\n",
       "      <th>lyrics</th>\n",
       "      <th>negative</th>\n",
       "      <th>neutral</th>\n",
       "      <th>positive</th>\n",
       "      <th>compound</th>\n",
       "      <th>lyrics_embed</th>\n",
       "      <th>summary</th>\n",
       "    </tr>\n",
       "  </thead>\n",
       "  <tbody>\n",
       "    <tr>\n",
       "      <th>0</th>\n",
       "      <td>0</td>\n",
       "      <td>In a Crowd of Thousands</td>\n",
       "      <td>it was june. i was ten. i still think of that ...</td>\n",
       "      <td>0.022</td>\n",
       "      <td>0.843</td>\n",
       "      <td>0.135</td>\n",
       "      <td>0.9851</td>\n",
       "      <td>[0.0065606576, 0.051238872, -0.07534626, -0.01...</td>\n",
       "      <td>in that crowd of thousands</td>\n",
       "    </tr>\n",
       "    <tr>\n",
       "      <th>1</th>\n",
       "      <td>1</td>\n",
       "      <td>A Rumor in St. Petersburg</td>\n",
       "      <td>the neva flows a new wind blows. and soon it w...</td>\n",
       "      <td>0.074</td>\n",
       "      <td>0.752</td>\n",
       "      <td>0.174</td>\n",
       "      <td>0.9983</td>\n",
       "      <td>[-0.0106800245, -0.011425582, 0.06578234, -0.0...</td>\n",
       "      <td>it's genuine romanov i could never part with it</td>\n",
       "    </tr>\n",
       "    <tr>\n",
       "      <th>2</th>\n",
       "      <td>2</td>\n",
       "      <td>Wake Up</td>\n",
       "      <td>i don't wanna wake up. i want you spread out o...</td>\n",
       "      <td>0.065</td>\n",
       "      <td>0.699</td>\n",
       "      <td>0.236</td>\n",
       "      <td>0.9953</td>\n",
       "      <td>[0.045773048, -0.02060557, -0.02354185, -0.011...</td>\n",
       "      <td>i don't wanna wake up</td>\n",
       "    </tr>\n",
       "    <tr>\n",
       "      <th>3</th>\n",
       "      <td>3</td>\n",
       "      <td>No</td>\n",
       "      <td>my mind is invaded. my gates are ignored. my t...</td>\n",
       "      <td>0.192</td>\n",
       "      <td>0.756</td>\n",
       "      <td>0.052</td>\n",
       "      <td>-0.9688</td>\n",
       "      <td>[-0.008551443, -0.043120474, -0.023232775, 0.0...</td>\n",
       "      <td>do you not understand</td>\n",
       "    </tr>\n",
       "    <tr>\n",
       "      <th>4</th>\n",
       "      <td>4</td>\n",
       "      <td>Perfect</td>\n",
       "      <td>sometimes is never quite enough. if you're fla...</td>\n",
       "      <td>0.052</td>\n",
       "      <td>0.679</td>\n",
       "      <td>0.269</td>\n",
       "      <td>0.9915</td>\n",
       "      <td>[-0.04474713, -0.0011016198, -0.06103466, -0.0...</td>\n",
       "      <td>that wasn't fast enough</td>\n",
       "    </tr>\n",
       "    <tr>\n",
       "      <th>...</th>\n",
       "      <td>...</td>\n",
       "      <td>...</td>\n",
       "      <td>...</td>\n",
       "      <td>...</td>\n",
       "      <td>...</td>\n",
       "      <td>...</td>\n",
       "      <td>...</td>\n",
       "      <td>...</td>\n",
       "      <td>...</td>\n",
       "    </tr>\n",
       "    <tr>\n",
       "      <th>92</th>\n",
       "      <td>92</td>\n",
       "      <td>All Of You</td>\n",
       "      <td>look at this home we need a new foundation. it...</td>\n",
       "      <td>0.037</td>\n",
       "      <td>0.774</td>\n",
       "      <td>0.189</td>\n",
       "      <td>0.9985</td>\n",
       "      <td>[-0.06417248, 0.039549667, 0.011905943, 0.0079...</td>\n",
       "      <td>that's what i'm always saying bro</td>\n",
       "    </tr>\n",
       "    <tr>\n",
       "      <th>93</th>\n",
       "      <td>93</td>\n",
       "      <td>Colombia, Mi Encanto</td>\n",
       "      <td>. . colombia. . . noche de fiesta todos vienen...</td>\n",
       "      <td>0.008</td>\n",
       "      <td>0.956</td>\n",
       "      <td>0.035</td>\n",
       "      <td>0.7906</td>\n",
       "      <td>[0.018363135, 0.023797853, -0.0005636969, -0.0...</td>\n",
       "      <td>aheh aheh aheh aheh aheh aheh aheh aheh encanto</td>\n",
       "    </tr>\n",
       "    <tr>\n",
       "      <th>94</th>\n",
       "      <td>94</td>\n",
       "      <td>Two Oruguitas</td>\n",
       "      <td>two oruguitas in love and yearning. spend ever...</td>\n",
       "      <td>0.011</td>\n",
       "      <td>0.900</td>\n",
       "      <td>0.089</td>\n",
       "      <td>0.9726</td>\n",
       "      <td>[0.0007829615, -0.12832017, 0.0033471142, -0.0...</td>\n",
       "      <td>ay mariposas don't you hold on too tight</td>\n",
       "    </tr>\n",
       "    <tr>\n",
       "      <th>95</th>\n",
       "      <td>95</td>\n",
       "      <td>Goodbye (Live)</td>\n",
       "      <td>oken. this is goodbye. . it's my happy ending....</td>\n",
       "      <td>0.088</td>\n",
       "      <td>0.782</td>\n",
       "      <td>0.130</td>\n",
       "      <td>0.9202</td>\n",
       "      <td>[-0.010454756, -0.0073421397, -0.013250745, -0...</td>\n",
       "      <td>there's only one word left to sing</td>\n",
       "    </tr>\n",
       "    <tr>\n",
       "      <th>96</th>\n",
       "      <td>96</td>\n",
       "      <td>There! Right There!</td>\n",
       "      <td>there right there. look at that tanned well te...</td>\n",
       "      <td>0.061</td>\n",
       "      <td>0.758</td>\n",
       "      <td>0.181</td>\n",
       "      <td>0.9972</td>\n",
       "      <td>[-0.0586678, -0.0033177177, 0.0042198617, -0.0...</td>\n",
       "      <td>swishily gay gay gay gay</td>\n",
       "    </tr>\n",
       "  </tbody>\n",
       "</table>\n",
       "<p>97 rows × 9 columns</p>\n",
       "</div>"
      ],
      "text/plain": [
       "    Unnamed: 0                      title  \\\n",
       "0            0    In a Crowd of Thousands   \n",
       "1            1  A Rumor in St. Petersburg   \n",
       "2            2                    Wake Up   \n",
       "3            3                         No   \n",
       "4            4                    Perfect   \n",
       "..         ...                        ...   \n",
       "92          92                 All Of You   \n",
       "93          93       Colombia, Mi Encanto   \n",
       "94          94              Two Oruguitas   \n",
       "95          95             Goodbye (Live)   \n",
       "96          96        There! Right There!   \n",
       "\n",
       "                                               lyrics  negative  neutral  \\\n",
       "0   it was june. i was ten. i still think of that ...     0.022    0.843   \n",
       "1   the neva flows a new wind blows. and soon it w...     0.074    0.752   \n",
       "2   i don't wanna wake up. i want you spread out o...     0.065    0.699   \n",
       "3   my mind is invaded. my gates are ignored. my t...     0.192    0.756   \n",
       "4   sometimes is never quite enough. if you're fla...     0.052    0.679   \n",
       "..                                                ...       ...      ...   \n",
       "92  look at this home we need a new foundation. it...     0.037    0.774   \n",
       "93  . . colombia. . . noche de fiesta todos vienen...     0.008    0.956   \n",
       "94  two oruguitas in love and yearning. spend ever...     0.011    0.900   \n",
       "95  oken. this is goodbye. . it's my happy ending....     0.088    0.782   \n",
       "96  there right there. look at that tanned well te...     0.061    0.758   \n",
       "\n",
       "    positive  compound                                       lyrics_embed  \\\n",
       "0      0.135    0.9851  [0.0065606576, 0.051238872, -0.07534626, -0.01...   \n",
       "1      0.174    0.9983  [-0.0106800245, -0.011425582, 0.06578234, -0.0...   \n",
       "2      0.236    0.9953  [0.045773048, -0.02060557, -0.02354185, -0.011...   \n",
       "3      0.052   -0.9688  [-0.008551443, -0.043120474, -0.023232775, 0.0...   \n",
       "4      0.269    0.9915  [-0.04474713, -0.0011016198, -0.06103466, -0.0...   \n",
       "..       ...       ...                                                ...   \n",
       "92     0.189    0.9985  [-0.06417248, 0.039549667, 0.011905943, 0.0079...   \n",
       "93     0.035    0.7906  [0.018363135, 0.023797853, -0.0005636969, -0.0...   \n",
       "94     0.089    0.9726  [0.0007829615, -0.12832017, 0.0033471142, -0.0...   \n",
       "95     0.130    0.9202  [-0.010454756, -0.0073421397, -0.013250745, -0...   \n",
       "96     0.181    0.9972  [-0.0586678, -0.0033177177, 0.0042198617, -0.0...   \n",
       "\n",
       "                                             summary  \n",
       "0                         in that crowd of thousands  \n",
       "1    it's genuine romanov i could never part with it  \n",
       "2                              i don't wanna wake up  \n",
       "3                              do you not understand  \n",
       "4                            that wasn't fast enough  \n",
       "..                                               ...  \n",
       "92                 that's what i'm always saying bro  \n",
       "93   aheh aheh aheh aheh aheh aheh aheh aheh encanto  \n",
       "94          ay mariposas don't you hold on too tight  \n",
       "95                there's only one word left to sing  \n",
       "96                          swishily gay gay gay gay  \n",
       "\n",
       "[97 rows x 9 columns]"
      ]
     },
     "execution_count": 22,
     "metadata": {},
     "output_type": "execute_result"
    }
   ],
   "source": [
    "summary = []\n",
    "for lyrics in list_lyrics_df['lyrics']:\n",
    "    summary.append(text_summarizer(lyrics))\n",
    "list_lyrics_df['summary'] = summary\n",
    "list_lyrics_df"
   ]
  },
  {
   "cell_type": "code",
   "execution_count": 26,
   "metadata": {},
   "outputs": [
    {
     "data": {
      "text/plain": [
       "\"The princess to your princehood. at night all alone in my dreams. straightforward straight girl. you will always be my little brothers. feels like we could go on for forever this way this way. but it's beautiful and it's mine. tommy spoken\""
      ]
     },
     "execution_count": 26,
     "metadata": {},
     "output_type": "execute_result"
    }
   ],
   "source": [
    "mood = \"The princess to your princehood\"\n",
    "lyrics_sample = list_lyrics_df.sample(6)['summary']\n",
    "mood = mood + \".\" + \".\".join(lyrics_sample)\n",
    "mood"
   ]
  },
  {
   "cell_type": "code",
   "execution_count": 27,
   "metadata": {},
   "outputs": [
    {
     "data": {
      "text/plain": [
       "239"
      ]
     },
     "execution_count": 27,
     "metadata": {},
     "output_type": "execute_result"
    }
   ],
   "source": [
    "mood = mood[:250] if len(mood) > 250 else mood\n",
    "len(mood)"
   ]
  },
  {
   "cell_type": "code",
   "execution_count": 28,
   "metadata": {},
   "outputs": [
    {
     "data": {
      "application/vnd.microsoft.datawrangler.viewer.v0+json": {
       "columns": [
        {
         "name": "index",
         "rawType": "int64",
         "type": "integer"
        },
        {
         "name": "name",
         "rawType": "object",
         "type": "string"
        },
        {
         "name": "artist",
         "rawType": "object",
         "type": "string"
        }
       ],
       "conversionMethod": "pd.DataFrame",
       "ref": "87f147a5-9d1f-4d24-95d5-9622986d6f81",
       "rows": [
        [
         "0",
         "Puppy Princess",
         "Hot Freaks"
        ],
        [
         "1",
         "Hope Shines Eternal",
         "Sunset Shimmer"
        ],
        [
         "2",
         "Princess",
         "フォーエイト48"
        ],
        [
         "3",
         "Right There in Front of Me",
         "Twilight Sparkle"
        ],
        [
         "4",
         "Legend You Are Meant to Be",
         "Sunset Shimmer"
        ],
        [
         "5",
         "난 널 사랑해 너만 사랑해 2",
         "Stay"
        ],
        [
         "6",
         "Legend of Everfree",
         "Sunset Shimmer"
        ],
        [
         "7",
         "Chs Rally Song",
         "Rainbow Dash"
        ],
        [
         "8",
         "追随光 (电视剧 《你微笑时很美》 主题曲)",
         "Krystal Chan"
        ],
        [
         "9",
         "望歸人（網劇《少女大人》片尾曲）",
         "葉炫清"
        ],
        [
         "10",
         "Friendship Through the Ages",
         "Sunset Shimmer"
        ],
        [
         "11",
         "The Friendship Games",
         "Sunset Shimmer"
        ],
        [
         "12",
         "Princess Peach",
         "Johnny Stimson"
        ],
        [
         "13",
         "Cute Circus",
         "Tsundere Twintails"
        ],
        [
         "14",
         "My Past is Not Today",
         "Sunset Shimmer"
        ],
        [
         "15",
         "白い雪のプリンセスは (feat. 初音ミク)",
         "Noboru"
        ],
        [
         "16",
         "궁",
         "2nd Moon"
        ],
        [
         "17",
         "The Princess and the Prince",
         "Christopher Wong"
        ],
        [
         "18",
         "小公主",
         "蒋蒋"
        ],
        [
         "19",
         "Best Friends Forever",
         "LoliRock"
        ],
        [
         "20",
         "We Will Stand for Everfree",
         "Gloriosa Daisy"
        ],
        [
         "21",
         "Princess's Dream",
         "Flow Music"
        ],
        [
         "22",
         "Twin Sister",
         "Johnny Stimson"
        ],
        [
         "23",
         "Acadeca",
         "Sunset Shimmer"
        ],
        [
         "24",
         "しょーがいゼッタイそーあい宣言♥",
         "Special for Princess!"
        ],
        [
         "25",
         "Power Princess Shining Bright",
         "Ever After High"
        ],
        [
         "26",
         "Princess Bubblegum (Remix)",
         "ilyTOMMY"
        ],
        [
         "27",
         "給某某",
         "Princess Ai"
        ],
        [
         "28",
         "Candle Queen",
         "Ghost and Pals"
        ],
        [
         "29",
         "Unleash the Magic",
         "Abacus Cinch"
        ]
       ],
       "shape": {
        "columns": 2,
        "rows": 30
       }
      },
      "text/html": [
       "<div>\n",
       "<style scoped>\n",
       "    .dataframe tbody tr th:only-of-type {\n",
       "        vertical-align: middle;\n",
       "    }\n",
       "\n",
       "    .dataframe tbody tr th {\n",
       "        vertical-align: top;\n",
       "    }\n",
       "\n",
       "    .dataframe thead th {\n",
       "        text-align: right;\n",
       "    }\n",
       "</style>\n",
       "<table border=\"1\" class=\"dataframe\">\n",
       "  <thead>\n",
       "    <tr style=\"text-align: right;\">\n",
       "      <th></th>\n",
       "      <th>name</th>\n",
       "      <th>artist</th>\n",
       "    </tr>\n",
       "  </thead>\n",
       "  <tbody>\n",
       "    <tr>\n",
       "      <th>0</th>\n",
       "      <td>Puppy Princess</td>\n",
       "      <td>Hot Freaks</td>\n",
       "    </tr>\n",
       "    <tr>\n",
       "      <th>1</th>\n",
       "      <td>Hope Shines Eternal</td>\n",
       "      <td>Sunset Shimmer</td>\n",
       "    </tr>\n",
       "    <tr>\n",
       "      <th>2</th>\n",
       "      <td>Princess</td>\n",
       "      <td>フォーエイト48</td>\n",
       "    </tr>\n",
       "    <tr>\n",
       "      <th>3</th>\n",
       "      <td>Right There in Front of Me</td>\n",
       "      <td>Twilight Sparkle</td>\n",
       "    </tr>\n",
       "    <tr>\n",
       "      <th>4</th>\n",
       "      <td>Legend You Are Meant to Be</td>\n",
       "      <td>Sunset Shimmer</td>\n",
       "    </tr>\n",
       "    <tr>\n",
       "      <th>5</th>\n",
       "      <td>난 널 사랑해 너만 사랑해 2</td>\n",
       "      <td>Stay</td>\n",
       "    </tr>\n",
       "    <tr>\n",
       "      <th>6</th>\n",
       "      <td>Legend of Everfree</td>\n",
       "      <td>Sunset Shimmer</td>\n",
       "    </tr>\n",
       "    <tr>\n",
       "      <th>7</th>\n",
       "      <td>Chs Rally Song</td>\n",
       "      <td>Rainbow Dash</td>\n",
       "    </tr>\n",
       "    <tr>\n",
       "      <th>8</th>\n",
       "      <td>追随光 (电视剧 《你微笑时很美》 主题曲)</td>\n",
       "      <td>Krystal Chan</td>\n",
       "    </tr>\n",
       "    <tr>\n",
       "      <th>9</th>\n",
       "      <td>望歸人（網劇《少女大人》片尾曲）</td>\n",
       "      <td>葉炫清</td>\n",
       "    </tr>\n",
       "    <tr>\n",
       "      <th>10</th>\n",
       "      <td>Friendship Through the Ages</td>\n",
       "      <td>Sunset Shimmer</td>\n",
       "    </tr>\n",
       "    <tr>\n",
       "      <th>11</th>\n",
       "      <td>The Friendship Games</td>\n",
       "      <td>Sunset Shimmer</td>\n",
       "    </tr>\n",
       "    <tr>\n",
       "      <th>12</th>\n",
       "      <td>Princess Peach</td>\n",
       "      <td>Johnny Stimson</td>\n",
       "    </tr>\n",
       "    <tr>\n",
       "      <th>13</th>\n",
       "      <td>Cute Circus</td>\n",
       "      <td>Tsundere Twintails</td>\n",
       "    </tr>\n",
       "    <tr>\n",
       "      <th>14</th>\n",
       "      <td>My Past is Not Today</td>\n",
       "      <td>Sunset Shimmer</td>\n",
       "    </tr>\n",
       "    <tr>\n",
       "      <th>15</th>\n",
       "      <td>白い雪のプリンセスは (feat. 初音ミク)</td>\n",
       "      <td>Noboru</td>\n",
       "    </tr>\n",
       "    <tr>\n",
       "      <th>16</th>\n",
       "      <td>궁</td>\n",
       "      <td>2nd Moon</td>\n",
       "    </tr>\n",
       "    <tr>\n",
       "      <th>17</th>\n",
       "      <td>The Princess and the Prince</td>\n",
       "      <td>Christopher Wong</td>\n",
       "    </tr>\n",
       "    <tr>\n",
       "      <th>18</th>\n",
       "      <td>小公主</td>\n",
       "      <td>蒋蒋</td>\n",
       "    </tr>\n",
       "    <tr>\n",
       "      <th>19</th>\n",
       "      <td>Best Friends Forever</td>\n",
       "      <td>LoliRock</td>\n",
       "    </tr>\n",
       "    <tr>\n",
       "      <th>20</th>\n",
       "      <td>We Will Stand for Everfree</td>\n",
       "      <td>Gloriosa Daisy</td>\n",
       "    </tr>\n",
       "    <tr>\n",
       "      <th>21</th>\n",
       "      <td>Princess's Dream</td>\n",
       "      <td>Flow Music</td>\n",
       "    </tr>\n",
       "    <tr>\n",
       "      <th>22</th>\n",
       "      <td>Twin Sister</td>\n",
       "      <td>Johnny Stimson</td>\n",
       "    </tr>\n",
       "    <tr>\n",
       "      <th>23</th>\n",
       "      <td>Acadeca</td>\n",
       "      <td>Sunset Shimmer</td>\n",
       "    </tr>\n",
       "    <tr>\n",
       "      <th>24</th>\n",
       "      <td>しょーがいゼッタイそーあい宣言♥</td>\n",
       "      <td>Special for Princess!</td>\n",
       "    </tr>\n",
       "    <tr>\n",
       "      <th>25</th>\n",
       "      <td>Power Princess Shining Bright</td>\n",
       "      <td>Ever After High</td>\n",
       "    </tr>\n",
       "    <tr>\n",
       "      <th>26</th>\n",
       "      <td>Princess Bubblegum (Remix)</td>\n",
       "      <td>ilyTOMMY</td>\n",
       "    </tr>\n",
       "    <tr>\n",
       "      <th>27</th>\n",
       "      <td>給某某</td>\n",
       "      <td>Princess Ai</td>\n",
       "    </tr>\n",
       "    <tr>\n",
       "      <th>28</th>\n",
       "      <td>Candle Queen</td>\n",
       "      <td>Ghost and Pals</td>\n",
       "    </tr>\n",
       "    <tr>\n",
       "      <th>29</th>\n",
       "      <td>Unleash the Magic</td>\n",
       "      <td>Abacus Cinch</td>\n",
       "    </tr>\n",
       "  </tbody>\n",
       "</table>\n",
       "</div>"
      ],
      "text/plain": [
       "                             name                 artist\n",
       "0                  Puppy Princess             Hot Freaks\n",
       "1             Hope Shines Eternal         Sunset Shimmer\n",
       "2                        Princess               フォーエイト48\n",
       "3      Right There in Front of Me       Twilight Sparkle\n",
       "4      Legend You Are Meant to Be         Sunset Shimmer\n",
       "5                난 널 사랑해 너만 사랑해 2                   Stay\n",
       "6              Legend of Everfree         Sunset Shimmer\n",
       "7                  Chs Rally Song           Rainbow Dash\n",
       "8          追随光 (电视剧 《你微笑时很美》 主题曲)           Krystal Chan\n",
       "9                望歸人（網劇《少女大人》片尾曲）                    葉炫清\n",
       "10    Friendship Through the Ages         Sunset Shimmer\n",
       "11           The Friendship Games         Sunset Shimmer\n",
       "12                 Princess Peach         Johnny Stimson\n",
       "13                    Cute Circus     Tsundere Twintails\n",
       "14           My Past is Not Today         Sunset Shimmer\n",
       "15        白い雪のプリンセスは (feat. 初音ミク)                 Noboru\n",
       "16                              궁               2nd Moon\n",
       "17    The Princess and the Prince       Christopher Wong\n",
       "18                            小公主                     蒋蒋\n",
       "19           Best Friends Forever               LoliRock\n",
       "20     We Will Stand for Everfree         Gloriosa Daisy\n",
       "21               Princess's Dream             Flow Music\n",
       "22                    Twin Sister         Johnny Stimson\n",
       "23                        Acadeca         Sunset Shimmer\n",
       "24               しょーがいゼッタイそーあい宣言♥  Special for Princess!\n",
       "25  Power Princess Shining Bright        Ever After High\n",
       "26     Princess Bubblegum (Remix)               ilyTOMMY\n",
       "27                            給某某            Princess Ai\n",
       "28                   Candle Queen         Ghost and Pals\n",
       "29              Unleash the Magic           Abacus Cinch"
      ]
     },
     "execution_count": 28,
     "metadata": {},
     "output_type": "execute_result"
    }
   ],
   "source": [
    "search_recs = sp.search(q = mood, type=\"track\", limit=30)\n",
    "\n",
    "recs = []\n",
    "for track in search_recs['tracks']['items']:\n",
    "    recs.append({\n",
    "        'name': track['name'],\n",
    "        'artist': track['artists'][0]['name']\n",
    "    })\n",
    "pd.DataFrame(recs)"
   ]
  }
 ],
 "metadata": {
  "kernelspec": {
   "display_name": "spotify",
   "language": "python",
   "name": "python3"
  },
  "language_info": {
   "codemirror_mode": {
    "name": "ipython",
    "version": 3
   },
   "file_extension": ".py",
   "mimetype": "text/x-python",
   "name": "python",
   "nbconvert_exporter": "python",
   "pygments_lexer": "ipython3",
   "version": "3.13.1"
  }
 },
 "nbformat": 4,
 "nbformat_minor": 2
}
