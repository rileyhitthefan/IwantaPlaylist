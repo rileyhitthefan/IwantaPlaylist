{
 "cells": [
  {
   "cell_type": "code",
   "execution_count": null,
   "metadata": {},
   "outputs": [],
   "source": [
    "import pandas as pd\n",
    "import sqlite3\n",
    "\n",
    "# import data from spotify database as df\n",
    "conn = sqlite3.connect(\"spotify_db/spotify.db\")\n",
    "songs = pd.read_sql_query(\"SELECT * from songs_lyrics\", conn)\n",
    "conn.close()"
   ]
  },
  {
   "cell_type": "code",
   "execution_count": 7,
   "metadata": {},
   "outputs": [
    {
     "data": {
      "application/vnd.microsoft.datawrangler.viewer.v0+json": {
       "columns": [
        {
         "name": "index",
         "rawType": "int64",
         "type": "integer"
        },
        {
         "name": "title",
         "rawType": "object",
         "type": "string"
        },
        {
         "name": "lyrics",
         "rawType": "object",
         "type": "string"
        }
       ],
       "conversionMethod": "pd.DataFrame",
       "ref": "3ac45dda-0e49-4278-8fcc-a0a35f8f370f",
       "rows": [
        [
         "0",
         "In a Crowd of Thousands",
         "it was june. i was ten. i still think of that day now and then. a parade and a girl. and a crowd of thousands. she sat straight as a queen. only eight but so proud and serene. how they cheered. how i stared. in that crowd of thousands. . then i started to run. and to call out her name. as the crowd on the road went wild. i reached out with my hand and looked up. and then she smiled. . the parade travelled on. with the sun in my eyes she was gone. but if i were still ten. in that crowd of thousands. id find her again. . . youre making me feel i was there too. . . maybe you were. make it part of your story. . a parade. . . a parade. . . passing by. . . passing by. . . it was hot. not a cloud in the sky. then a boy. caught my eye. . . in a crowd of thousands. . . he was thin. not too clean. there were guards. but he dodged in between. . yes he made himself seen. in that crowd of thousands. . then he called out my name. and he started to run. through the sun and heat and the crowd. and i tried not to smile but i smiled. and then. he bowed. . i didnt tell you that. . . you didnt have to. i remember. . . the parade travelled on. with the sun in my eyes you were gone. but i knew even then. in a crowd of thousands. id find you again. . your highness"
        ],
        [
         "1",
         "A Rumor in St. Petersburg",
         "the neva flows a new wind blows. and soon it will be spring. . we hear you comrades. the revolution hears you. together we will forge a new russia that will be the envy of all the world. the tsar's st. petersburg is now the people's leningrad. . . they can call it leningrad but it will always be petersburg. . new name same empty stomachs. . . sung. they tell us times are better. well i say they're not. can't cook an empty promise in an empty pot. a brighter day is dawning it's almost at hand. the skies are gray the walls have ears. and he who argues disappears. . . hail our brave new land. . st. petersburg is booming. a city on the rise. . it's really very friendly. . . if you don't mind spies. . . we stand behind our leaders. . . and stand in line for bread. . . we're good and loyal comrades. and our favorite color's red. . . now everyone is equal. professors push the brooms. . . twodozen total strangers live in two small rooms. you hold a revolution. and here's the price you pay. thank goodness for the gossip. . . спасибо за слухи. . . thank goodness for the gossip. that gets us through the day. . hey. have you heard. there's a rumor in st. petersburg. have you heard. what they're saying on the street. . . although the tsar did not survive. one daughter may be still alive. . . the princess anastasia. . . but please do not repeat. . . it's a rumor a legend a mystery. something whispered in an alleyway. or through a crack. it's a rumor that's part of our history. . . they say her royal grandmama will pay a royal sum. . . to someone who can bring the princess back. . . dmitry they've closed another border. . we should've gotten out of russia while we still could. . sung. st. petersburg was lovely when royalty was in. i called myself a count as though i'd always been. i hobnobbed with the royals but then a change of luck. the tsar was dead the royals fled. and comrade now we're stuck. . . vlad i've been thinking about the princess anastasia. . . . oh not you too dmitry. . . it's the rumor the legend the mystery. it's the princess anastasia who will help us fly. you and i friend will go down in history. we'll find a girl to play the part and teach her what to say. dress her up and take her to paris. . . imagine the reward her dear old grandmama would pay. . . who else could pull it off but you and me. . no. . . it was a truck backfiring comrade. that's all it was. . those days are over neighbor against neighbor. there's nothing to be afraid of anymore.nbps. you're shaking. there's a tea shop just steps from here. let me. . . thank you. . . . what's your hurry. . . i can't lose this job. they're not easy to come by. but thank you. . . . i'm here every day. . . a ruble for this painting. it's romanov i swear. . . count yusupov's pajamas comrade. buy the pair. . . i found this in a palace. initialed with an a. it could be anastasia's. now what will someone pay. . . we need something of hers to show the old lady. . how much is that music box. . . ah the music box. it's genuine romanov i could never part with it. . . two cans of beans comrade. . . done. . . . do you believe in fairytales vlad. . . once upon a time i did. . . we're going to create a fairytale the whole world will believe. . sung. now it's risky but not more than usual. we'll need papers we'll need tickets we'll need nerves of steel. . . yes it's risky a lot more than usual. . . we'll try to cross the border with our princess and our plot. . . hopefully disaster won't ensue. . . with luck it all goes smoothly. . . and with luck we won't be shot. . . who else could pull it off but me and you. . . we'll be rich. . . we'll be rich. . . we'll be out. . . we'll be out. . . and st. petersburg will have some more to talk about. . . i heard it from a person i heard it from a person. i heard it from a person who a person who. assured me it was absolutely true. shh. . have you heard. there's a rumor in st. petersburg. have you heard. comrade what do you suppose. . . a fascinating mystery. . . the biggest con in history. . . the princess anastasia. alive or dead. who knows. shh"
        ],
        [
         "2",
         "Wake Up",
         "i don't wanna wake up. i want you spread out on the sheets. said pussy so good. uh pussy so sweet uh. i don't wanna wake up. i want it flowin' through my streams. gettin' me hot. under my feet. i don't wanna wake up. . . please don't wake me up i feel it creepin' yeah. controllin' how you movin' lucid dreamin' dreams. always on the side of different seasons yeahyeah. took the beltway down to your hood it's lit. say you was in the crowd i never looked. lookin' back how things came back around guess i was hooked. burn the bread and then we burn the town we both was cooked yeah. nah nah please don't wake me up feel like i'm dreamin'. any given sunday you can get it willie beamen. i can make your mondays even better like the weekend yeah. that's my coco i'm her icet coco yeah yeah. bend her over for some pipin' it's lit. bust a cloud shoot the lightnin' pop it. pop it now know we can't sleep sleep. . . i don't wanna wake up yeah. want you spread out on the sheets it's lit. say pussy so good pop it. oh pussy so sweet yeah. when i wake up yeah yeah. want a drop top on the beach straight up. gettin' me hot yeah yeah. under my feet. when i wake up. . . you decide if i live or die. when you're close i'm alive i can feel the sky. i just want your body close to me oh. and if i o.d. i'll be alone with no heartbeat. i hope they kill us with a ghost in the lambo'. and the doors goin' up suicide. . . i don't wanna wake up i don't wanna wake up. i want you spread out on the sheets want you spread out on the sheets. 'cause that pussy so good pussy so good yeah. girl that pussy so sweet pussy so sweet. i don't wanna wake up i don't wanna wake up. i want it flowin' through my streams want it flowin' through my streams. ha gettin' me hot gettin' me hot. oh under my feet my feet. i don't wanna wake up yeah"
        ],
        [
         "3",
         "No",
         "my mind is invaded. my gates are ignored. my thoughts are negated. and you're on a roll. . . and i am offended. by your acts of shamelessness. your lack of conscience. and your flagrant steamroll. what part of no do you not understand. do you not understand. . . what part of no do you not understand. do you not understand. . . my sorrow is left off. my rages discounted. . . my fears are founded. this dam is no more. . . what part of no do you not understand. do you not understand. what part of no do you not understand. do you not understand. don't touch me. my body is frozen. thanks to you. and i've sat with these secrets. i'm no longer willing to. what part of no do you not understand. do you not understand. what part of no do you not understand. do you not understand. . . it's easy not to. . . what goes around so much easier not to. to you.... wake up. . what part of no. do you not understand"
        ],
        [
         "4",
         "Perfect",
         "sometimes is never quite enough. if you're flawless then you'll win my love. don't forget to win first place. don't forget to keep that smile on your face. . how long before you screw it up. and how many times do i have to tell you to hurry up. with everything i do for you. the least you can do is keep quiet. . be a good boy. you've got to try a little harder. that simply wasn't good enough. to make us proud. . i'll live through you. i'll make you what i never was. if you're the best then maybe so am i. compared to him compared to her. i'm doing this for your own damn good. you'll make up for what i blew. what's the problem why are you crying. . be a good boy. push a little farther now. that wasn't fast enough. to make us happy. we'll love you just the way you are. if you're perfect"
        ],
        [
         "5",
         "You Shine",
         "mmy spoken. now ive just pulled up in my dads car. mimics breaks squealing and a horn honking. and youre in your pink dress. . sue spoken. blue. . tommy spoken. oooh you always look great in blue. and im wearing my rental tux looking like a total dork. the whole things kinda cheesy but nice. then you drag me onto the dance floor and of course i hate dancing but its the last dance of senior year. and im with the most incredible person i know. . sue spoken. me yeah right. all i do lately is mess up. . tommy spoken. i mean it you dont give yourself enough credit. . tommy. if you could see the. way that you look to me. i bet that you'd be amazed at the sight. you'd see a heart that's. fearless and true. from my point of view. oh you shine. . sue spoken. what about you why is everything so easy for you. . tommy spoken. man if you only knew. half the time i'm just faking it hoping that no one will discover i'm a complete fraud. . sue. i think you hide so much you feel inside. but i know deep down there's. a fire burning bright. from where you stand. it might not be clear. but you shine from here. . both. no doubts no more fears. i see you shine and the dark disappears. . tommy. then i know everything is gonna be fine. because you shine oh how you shine. you shine. . sue spoken. what a surprise gazing into your eyes. i swear that i still. get lost in the light. no photograph could possibly show. the you i know. . both. no doubts no more fears. i see you shine and the dark disappears. i'll be your mirror and you can be mine. look to me and you'll see. just how you shine. . tommy spoken. oh damn i have to go pick up my tux before they close. . sue spoken. tommy thank you. . tommy spoken. i love you. . sue spoken. i love you. he'd never said that before. that's what i remember. most about that day. . sue. no doubts no more fears. i see you shine and the dark disappears. then i know everything is gonna be fine. because you're mine. you shine"
        ],
        [
         "6",
         "All I Really Want",
         "do i stress you out. my sweater's on backwards and inside out. and you say how appropriate. . . and i'd like to dissect everything today. i don't mean to pick you apart you see. but i can't help it. . . and there i go jumping before the gun shot has gone off. slap me with a splintered ruler. . and it would knock me to the floor if i wasn't there already. if only i could hunt the hunter. . . and all i really want. is some patience. a way to calm the angry voice. . . and all i really want. is deliverance. ahh. . . do i wear you out do i wear you out. you must wonder why i'm relentless and all strung out. i'm consumed by the chill of solitary ahh. . . i'm like estella. i like to reel it in. . . and then spit it out. i'm frustrated by your apathy your apathy your apathy... . . and i am frightened by the corrupted ways of this land. if only i could meet the maker. and i am fascinated by the spiritual woman. . . i'm humbled by her humble nature yeah. and what i wouldn't give to find a soul mate. someone else to catch this drift. and what i wouldn't give to meet a kindred. ahh. . . enough about me. let's talk about you for a minute. . . enough about you. let's talk about life for a while. . . the conflicts. . . the craziness. . . and the sound of pretenses is falling. all around all around. . . why are you so petrified of silence. here can you handle this. .                                                                  . did you think about your bills                                bills. your pills                                                                    pills. your deadlines                                                          deadlines. or when you think you're going to die               you're gonna die. or did you long for the next distraction             mmm... . and all i need now is intellectual intercourse       do do do.... a soul to dig the hole much deeper                      oh oh oh. . . and i have no concept of time                                do do do.... other than it is flying. . . if only i could kill the killer                                        ah ah ah... . . and all i really want is some peace man. a place to find some common ground. . . and all i really want is a wavelength. ahhh. . . and all i really want is some comfort ohh. a way to get my hands untied ohh. . . and all i really want is some justice ohh. . . ahh. . . ahhh. and all i really want is some patience. a way to calm me down. . . and all i really want is deliverance. a way to find some common ground"
        ],
        [
         "7",
         "My Petersburg",
         "i grew up on the sly. in the gutters and the streets of petersburg. just a kid on the fly. getting good at getting by in petersburg. . i've bartered for a blanket stolen for my bread. learned to take my chances. and use my head. a russian rat is clever. clever or he ends up dead. . boils down to. there are some who survive some who don't. some give up some give in. me i won't. black and blue welcome to my petersburg. . standing here you can see. from the spires to the piers of petersburg. i'd be down on that quay. selling stolen souvenirs of petersburg. . the palaces above and alleyways below. funny when a city is all you know. how even when you hate it. something in you loves it so. . that's where i learned my stuff. in some rough company. there's a boy growing up who was me. all i've been all i'll be. . we can do what we're told. we can go where we're led. but i learned from my father to see what's ahead. nothing here to hold me. no one that i owe. funny how a boy can grow. funny how a city tells you when it's time to go. . boils down to. there are some who have walls yet to climb. you and i on the fly just in time. but tonight theres a sky and quite a view. . welcome to.... my petersburg"
        ],
        [
         "8",
         "Paris Holds the Key (To Your Heart)",
         "voilà mes amis here's paris. now that we're here follow me. begin with the view as you stroll down la rue. . and soon all paris will be singing to you. ooh. ahh ah. paris holds the key to your heart. and all of paris plays a part. paris turned a page to the new modern age. . . and we'll do it too if we're smart. . . the french have it down to an art. . . everyone's a writer painter poet. everything is avantgarde or chic. . . we'll be in the know before we know it. . . when you're in the know it's oh it's magnifique. to find in paris what you seek. . . . . paris holds the key to her fate. we won't have much longer to wait. and then come what may. we will each go our way. . . i dreamed of a city beyond all compare. it's hard to believe that i'm finally there. . . at last there's a future. . . there's freedom. . . there's hope. . . in the air. . . ahh ahh ahh. . . paris holds the key to your heart. the pleasures of life à la carte. come dance through the night and forget all your woes. the city of light how it glitters and glows. and one never knows what will start. paris hold the key to your heart"
        ],
        [
         "9",
         "Learn to Do It",
         "how do you become the person you've forgotten you ever were. . . take a deep breath. . close your eyes and imagine another time. another world. . . sung. you were born in a palace by the sea. . . a palace by the sea. . . could it be. . . yes it's so. you rode horseback when you were only three. . . horseback riding me. . . horse's name. . . romeo. you threw tantrums and terrorized the cook. ha how the palace shook. . . charming child. . . wrote the book. sung. but you'd behave when you father gave that look. . . imagine how it was. your long forgotten past. . . we've lots and lots to teach you and the time is going fast. . . let's see you walk. . head up regal bearing. . sung. now shoulders back and stand up tall. and do not walk but try to float. . . i feel a little foolish. am i floating. . . like a sinking boat. . . you give a bow. . . what happens now. . . your hand receives a kiss. . . most of all remember this. . . if i can learn to do it. you can learn to do it. . . something in you knows it. . . there's nothing to it. . . follow in my footsteps. shoe by shoe. . . you can learn to do it too. . . now elbows in and sit up straight. and do not slurp the stroganoff. . . i never cared for stroganoff. . . she said that like a romanov. . . the samovar. . . the caviar. . . dessert and then goodnight. . . not until you get this right. . . if i can learn to do it. . . if he can learn to do it. . . you can learn to do it. . . you can learn to do it. . . pull yourself together. . . and you'll pull through it. . . tell yourself it's easy. . . and it's true. you can learn to do it too. . . who is your greatgrandmother. . . queen victoria. . . greatgreat grandmother. . . uh... princess victoria of saxecolburgsaalfeld. . . your best friend is. . . my little brother alexei. . . wrong your best friend is. . . i know who my best friend is. . . what a temper. . . i don't like being contradicted. . . that makes two of us. . . continuing on.... . . i've had it and i hate you both. i'm sorry that we ever met. i'm hungry i'm frightened. and i'm only human don't forget. i don't remember anything. get out and let me be. . anya darling look at me.... . we're all frightened. well slightly now and then. shall we start again. take a breath count to ten. you have courage. and strength you barely know. so blow that little nose. and dry those pretty eyes. a princess like your majesty. can do this if she tries. ready. . . set. . . go. . . now here's your great aunt olga. . . how she frolicked on the volga. . . oh. . . your distant cousin vanya loved his vodka. . . got it anya. . . no. . . the duke of oldenburgh was short. . . louise of boden. . . had a. . . wart. . . count sergei. . . wore a feathered hat. . . i hear he's gotten very fat. . . and i recall his yellow cat. . i don't believe we told her that.... . . if you can learn to do it. . . if i can learn to do it. . . he can learn to do it. . . you can learn to do it. . . pull yourself together. . . and we'll pull through it. . . tell yourself it's easy. . . and it's true. . . you can learn to do it. . . nothing to it. . . you can learn to do it.... . . the caviar the stroganoff the samovar the feathered hat. the cousin drank the duke was short here a wart and there a cat. . the horse's name was romeo so tell me something new. . . ha. . . you can learn to do it too"
        ],
        [
         "10",
         "Stay, I Pray You",
         "how can i desert you. how to tell you why. coachmen hold the horses. stay i pray you. let me have a moment. let me say goodbye. . to  and river forest and waterfall. orchard sea and sky. harsh and sweet and bitter to leave it all. . . i'll bless my homeland 'til i die. how to break the tie. we have shed our tears. and shared our sorrows. though the scars remain. and tears will never dry. i'll bless my homeland 'til i die. . . never to return. . . finally breaking free. . . you are all i know. you have raised me. . . how to turn away. how to close the door. . . how to go where i have never gone before. . . how can i desert you. how to tell you why. coachmen hold the horses. stay i pray you. let me have a moment. let me say goodbye. . . ahahahahahah. ahahahahah. . . ahahah. . . harsh and sweet and bitter to leave it all. i'll bless my homeland 'til i die. . . i'll bless my homeland. . . i'll bless my homeland. . . i'll bless my homeland 'til i die"
        ],
        [
         "11",
         "We'll Go from There",
         "i hope lily's happy to see me. be honest vlad popov how could she not be. . sung. i may have gotten fatter. but maybe that won't matter. bottom line... i'll win her. we'll do some reminiscing. she'll see what she's been missing. over wine.... and dinner. . and though i know i've grown a tiny bit gray. some women say i look distinguished this way. i'll bow as if i'm still a frisky young pup. let's hope that i can straighten up. if she says no we'll all lay low. and we'll go from there. . . hands shaking heart thund'ring. meet the royal mess. start smiling stop wondering. why did i say yes. . . this chance is all i've got. . . keep a grip and take a deep breath. and soon we'll know what's what. put on our show. rewards will flow. and we'll go from there. . . and we'll go from there. . . and we'll go from there. . . and we'll go from there. . . oh what a lovely ride. and what a lovely day. . . for a totally illegal. . . lovely getaway. . . i may have gotten fatter hands shaking. but maybe that won't matter heart thundering. bottom line... meet the royal. i'll win her mess. we'll do some reminiscing start smiling. she'll see what she's been missing stop wondering. over wine why did i say. and dinner yes. . and though i know i've grown a tiny bit gray this chance is all i've got. some women say i look distinguished this way. keep a grip and take a deep breath. i'll bow as if i'm still a frisky young pup and soon we'll know what's what. let's hope that i can straighten up. . . but no more doubt. . . no time to spare. . . we're nearly out. . . so let's prepare. . . we're on our way. to who knows where. and we'll go. and we'll go. and we'll go. from there. . . we'll go from there"
        ],
        [
         "12",
         "Everything to Win",
         "what are they saying. wonder how long they'll be. why should i worry worrying's not like me. nothing to do but pace and stew. and wait till the girl walks in. why panic now with everything to win. . nothing but silence this could be bad. but no let's assume it's good. thought it was foolproof. nothing is foolproof. woah better knock on wood. girl gets a family boy gets rich. and fairytale gets a spin. how can we fail with everything to win. . i wonder if our paths will ever cross again. the way they did when you were eight and i was ten. we said this was goodbye but even so. you never know. you never know.... . i should be glad. that we're breaking free. but nothing is what it was. i didn't know she mattered to me. but now i can see she does. conman and princess get their wish. and fairytale comes true. funny one small part i never knew. with everything to win. the only thing i lose is... you"
        ],
        [
         "13",
         "Charles' Song",
         "was a brother in the trenches with me. we were allies on one side of history. and we fought for the right to go home and lay down and be free. . when i came back from the war i was lost. we had won but what was the cost. i would drink i would cry watch my life pass me by i would say. . my brother in arms has now gone away. promoted advanced allegiance astray. alone in australia until that one day. i found her my muse. my mavis oh how sweet. . she picked me up and brushed off the dust. she won my heart and earned all my trust. my savior that day made the doubt go away. go away go away. . i fell into love her beautiful smile. her wit and her charm they put me on trial. mavis oh mavis just stay for a while. she swept me away my only. . i gave her my life and she ripped out my heart. i left her alone and he tore us apart. he may have saved my life but now he takes it away. . my brother in arms has left me betrayed. hes dead to me now my debts been repaid. alone in a prison cell until that one day. . . ill have my revenge. oh mavis oh mavis. ill take what he gave. oh mavis oh mavis she was the one for you. so theyll know my pain. and one of us will never be the same"
        ],
        [
         "14",
         "At The Beginning - Anastasia",
         " were strangers. starting out on a journey. never dreaming what wed have to go through. now here we are. and i'm suddenly standing. at the beginning with you. . no one told me that i was going to find you. unexpected what you did to my heart. when i lost hope. you were there to remind me. this is the start. . and life is a road i wanna keep going. love is a river i want to keep flowing. life is road now and forever. wonderful journey. i'll be there when the world stops turning. i'll be there when the storm is through. in the end i wanna be standing. at the beginning with you. . we were strangers. on a crazy adventure. never dreaming that dreams would come true. now here we stand unafraid of the future. at the beginning with you. . and life is a road i wanna keep going. love is a river i want to keep flowing. life is road now and forever. wonderful journey. i'll be there when the world stops turning. i'll be there when the storm is through. in the end i wanna be standing. at the beginning with you. . knew there was somebody somewhere. like me alone in the dark. now i know that my dream will live on. i've been waiting so long. nothings gonna tear us apart. . and life is a road i wanna keep going. love is a river i want to keep flowing. life is road now and forever. wonderful journey. i'll be there when the world stops turning. i'll be there when the storm is through. in the end i wanna be standing. at the beginning with you. . life is a road and i wanna keep going. love is a river i want to keep going on. starting out on a journey. life is a road i wanna keep going. love is a river i want to keep flowing. in the end i want to be standing at the beginning. with you"
        ],
        [
         "15",
         "The Neva Flows",
         "be very careful of these rumors that prevail.... be very careful what you say. . i was a boy who lived the truth behind the tale. and no one got away. . . i saw the children as the soldiers closed the gate. the youngest daughter and her pride. . my father leaving on the night they met their fate. his pistol by his side. . . the neva flows a new wind blows. and soon it will be spring. the leaves unfold the tsar lies cold. a revolution is a simple thing. . spoken. i heard the shots. i heard the screams. . but it's the silence after i remember most. . sung. the world stopped breathing. and i was no longer a boy. my father shook his head and told me not to ask. my mother said he died of shame. . but i believe he did a proud and vital task. . and in my father's name. . the neva flows a new wind blows. and soon it will be spring. the leaves unfold the tsar lies cold. could i have pulled the trigger.... if i'd been told. be careful what a dream may bring. . a revolution is a simple thing..."
        ],
        [
         "16",
         "Once Upon a December",
         "dancing bears painted wings. things i almost remember. and a song someone sings. once upon a december. . someone holds me safe and warm. horses prance through a silver storm. figures dancing gracefully. across my memory. . . ahahah. ahahah ahahah. ahahah ahahahah ahah. ahahah ahahahah. ahahah ahahahah. ahahah ahahah. ahahah ahahahahah. . . someone holds me safe and warm. horses prance through a silver storm. figures dancing gracefully. across my memory. . . ahahah. ahah. . . far away long ago. glowing dim as an ember. things my heart used to know. things it yearns to remember. . and a song someone sings. once upon a dеcember"
        ],
        [
         "17",
         "Journey to the Past",
         "heart don't fail me now. courage don't desert me. don't turn back now that we're here. people always say. life is full of choices. no one ever mentions fear. or how the world can seem so vast. on a journey to the past. . somewhere down this road. i know someone's waiting. years of dreams just can't be wrong. arms will open wide. i'll be safe and wanted. finally home where i belong. well starting now i'm learning fast. on this journey to the past. . home love family. there was once a time i must have had them too. home love family. i will never be complete until i find you. . one step at a time. one hope then another. who knows where this road may go. back to who i was. on to find my future. things my heart still needs to know. yes let this be a sign. let this road be mine. let it lead me to my past. and bring me home at last"
        ],
        [
         "18",
         "In My Dreams",
         "they said i was found by the side of a road. there were tracks all around it had recently snowed. in the darkness and cold with the wind in the trees. a girl with no name. and no memories but these.... . rain against a window sheets upon a bed. terrifying nurses whispering overhead. call the child anya give the child a hat. i don't know a thing before that.... . traveling the back roads sleeping in the wood. taking what i needed working when i could. keeping up my courage foolish as it seems. at night all alone in my dreams. . in my dreams shadows call. there's a light at the end of a hall. then my dreams fade away. but i know it all will come back. one day.... . . ah ah. . . i dream of a city beyond all compare. is it paris paris.... a beautiful river a  by a square. and i hear a voice whisper. i'll meet you right there in paris. paris.... . you don't know what it's like. not to know who you are. . to have lived in the shadows. and traveled this far. i've seen flashes of fire. heard the echo of screams. but i still have this faith. in the truth of my dreams. . in my dreams it's all real. and my heart has so much to reveal. and my dreams seem to say. don't be afraid to go on. don't give up hope come what may. i know it all will come back. one day"
        ],
        [
         "19",
         "Still",
         "an underhanded girl. an act of desperation. and to my consternation. i let her go. . she wants what she can get. is that a fair depiction. does she believe her fiction. its hard to know. . is it innocence or guile. or nothing but a childish act of will. she doesn't know she needs you. she willfully misleads you. but still... still. . a son becomes a man at his father's knee. if my father asked questions. well where would we be. . she's nothing but a child. a waif who needs protection. . i feel a strange connection i can't allow. . she said it's all a game. she trembles like a flower. but in her there's a power. i see that now. . i am nothing but a man. with nothing but his orders to fulfill. . i'm innocent she cries. but then you see her eyes. then something in them tells you that she absolutely lies. until your heart replies. but still.... still... still"
        ],
        [
         "20",
         "Crossing a Bridge",
         "look at the sky. look at the water. somebody's . somebody's daughter. who could've known i'd be alone. crossing this . . boats heading in. somebody calling. sun going down. shadows are falling. shimmering view. dangerous too. crossing a . . halfway between where i've been. and where i'm going. in between wondering why. and finally knowing. . thousands of lights. shining below me. somebody waits. somebody know me. . maybe we're sharing. this beautiful night. me on the left bank. you on the right. almost in sight.... crossing a . . every light is like a promise. every light could be a clue. one of them might be you"
        ],
        [
         "21",
         "Do You Hear The People Sing?",
         "do you hear the people sing. singing the song of angry men. it is the music of the people. who will not be slaves again. when the beating of your heart. echoes the beating of the drums. there is a life about to start. when tomorrow comes. . . will you join in our crusade. who will be strong and stand with me. beyond the barricade. is there a world you long to see. then join in the fight. that will give you the right to be free. . . do you hear the people sing. singing the song of angry men. it is the music of the people. who will not be slaves again. when the beating of your heart. echoes the beating of the drums. there is a life about to start. when tomorrow comes. . . will you give all you can give. so that our banner may advance. some will fall and some will live. will you stand up and take your chance. the blood of the martyrs. will water the meadows of france. . . do you hear the people sing. singing the song of angry men. it is the music of the people. who will not be slaves again. when the beating of your heart. echoes the beating of the drums. there is a life about to start. when tomorrow comes"
        ],
        [
         "22",
         "El Tango De Roxanne",
         "roxanne. . . word to the wise my dear. never fall in love with a woman who sells herself. it always ends badly. . . his eyes upon your face. his hand upon your hand. his lips caress your skin. it's more than i can stand. . roxanne. you don't have to wear that dress tonight. walk these streets for money. you don't care if it's wrong or if it is right. . roxanne. you don't have to put on the red light. roxanne. you don't have to put on the red light. roxanne put on the red light. roxanne put on the red light. roxanne put on the red light. roxanne put on the red light. roxanne put on the red light. roxanne put on the red light. . . i am andré dacor benicieux le duc de monroth. you will reject the boy shatter him you will break his heart. . . roxanne put on the red light. roxanne put on the red light. roxanne put on the red light. roxanne put on the red light. help me i'm holding on for dear life roxanne. help me i'm holding on for dear life roxanne. . why does my heart cry. feelings i can't fight. you're free to leave me but. just don't deceive me. and please believe me when i say. i love you. . . you mean nothing to me. i feel nothing for you. you are nothing"
        ],
        [
         "23",
         "Crazy Rolling",
         "i remember when i remember. i remember when i lost my mind. there was something so pleasant about that place. even you emotions have an eco. so much space. . mmm. when you're out there without care. yeah i was out of touch. but it wasn't because i didn't know enough. i just knew to much. . does that make me crazy. does that make me crazy. does that make me crazy. possibly. there's a fire starting in my heart. reaching a fever pitch and it's bringing me out the dark. finally i can see you crystal clear. so go 'head and sell me out and i'll lay your ship bare. . see how i leave with every piece of you. don't underestimate the things that i will do. there's a fire starting in my heart. reaching a fever pitch and its bringing me out the dark. the scars of your love remind me of us. they keep me thinking that we almost had it all. the scars of your love they leave me breathless i can't help feeling. . we could have had it all. rolling in the deep. you had my heart inside of your hand. and you played it to the beat. . . baby i have no story to be told. but i've heard one on you and i'm gonna make your head burn. think of me in the depths of your despair. making a home down there 'cause mine sure won't be shared. . you're gonna wish you never had met me the scars of your love remind me of us. tears are gonna fall rolling in the deep they keep me thinking that we almost had it all. you're gonna wish you never had met me tears are gonna fall the scars of your love they leave me breathless i can't help feeling. . satine  christian ensemble. we could have had it all you're gonna wish you never had met me. rolling in the deep tears are gonna fall rolling in the deep. you had my heart inside of your hand you're gonna wish you never had met me. and you played it to the beat tears are gonna fall rolling in the deep. . . my heroes had the heart. to lose their lives out on a limb. and all i remember is thinking. i wanna be like them. mmhmm ever since i was little. ever since i was little it looked like fun. and it's no coincidence i've come. and i can die when i'm done. . . throw your soul through every open door. count your blessings to find what you look for. turned my sorrow into treasured gold. you pay me back in kind and reap just what you sow. . . you're gonna wish you never had met me. tears are gonna fall rolling in the deep we could've had it all. you're gonna wish you never had met me we could have had it all. it all it all it all tears are gonna fall. . maybe i'm crazy you're gonna wish you never had met me. maybe i'm crazy tears are gonna fall rolling in the deep. you had my heart inside your hand you're gonna wish you never had met me. and you played it you played it. you played it you played it. you played it you played it. . . you played it. to the beat"
        ],
        [
         "24",
         "Someone Else's Skin",
         "there's no phone booth there's no cape. there's no steve mcqueen to help me make my great escape. how can i fly like a hero in the sky. be a shooting star out in the stratosphere. . where's the shadow he might know. where's that searchlight in the sky to point the way to go. through some new cloud to disappear into the crowd. though the future's dark there's one thing crystal clear. that there's no home here. . . son listen to me. we just need a nameyour mother or your father. . . so many voices telling me to choose. . . it can get very expensive people fighting over their children. . . it's like a game where either teami lose. . . nobody's fighting. frankie look at me. nobody's fighting. . . this kind of noise just makes me want to shout. . . frankie just give 'em a name and this all'll be over. it's gonna be okay. . . i'd like to buy a oneway ticket out. . . my brave little soldier do what you have to do. . . rules of the road say don't look back. eyes straight ahead don't jump the track. try a new game. . . i'm sorry frank. . . and pray that i can win. . . i've got no room to move here. . . 'cause i just don't feel at home in mine. so i'll slip down into someone else's skin. . . whoohoo. whoohoo. . . i see the maps from every book i've read. the worlds that i have lived inside my head. i thought a love like theirs could never die. if it can fade away then so can i. . at first you see me then you don't ooh. don't look for me you know i won't even be there. so let the games begin. 'cause i just don't feel at home in mine aah. so i'll slip down into someone else's skin. . . whoohoo. . . into someone else's skin yeah. . . whoohoo. . . i'm gonna run down the street run out of town. i'm gonna run from the whole team and never touch down. run from the books cause it's all been a fake. i'm gonna run from the choices that i don't wanna make. school's not out but i can't wait aah. it's the perfect time to graduate today. . . i've gotta run away now. . . whoohoo. . . i've got to run away. oh yeah yeah. . . whoohoo. . . i know they'll see the truth when i move on. they'll need each other much more once i'm gone. and then i'm flush and he's back on his feet. i'll pick him up and ride down easy street. . no time to cry for all the years ooh. a rusty gas tank full of tears gets you nowhere. not the places i want in. . and i just don't feel at home in mine aah. so i'll slip down into someone else's skin aah. into someone else's skin. into someone else's skin. into someone else's skin. into someone else's skin yeah. into someone else's skin. into someone else's skin. into someone else's skin"
        ],
        [
         "25",
         "Goodbye",
         "it's my happy ending. now it's time to say goodnight. we can stop pretending. tell the spotlight man turn off my light. 'cause the show is done now. and it's time to leave the stage. yeah the good guy won now. and the band has no more songs to play. it's a happy ending so i'll say. . goodbye. goodbye to all the make believe. goodbye. there's no more magic up my sleeve. there's nothing left to act up here. i'll take my bow and disappear. no questions left for answering. there's only one word left to sing. goodbye. . it's a happy ending. to the greatest show on earth. now the curtain's descending. and i hope you got your money's worth. gonna stop the show now. 'cause i wanna leave on top. so get up and go now. 'cause there's nothing left inside my head. everything that's left to say's been said. . but goodbye. goodbye to all the song and dance. goodbye. offstage i stand a better chance. the show is through the parts been played. no standing in the wings afraid. no violins or phony tears. the word thats music to my ears is goodbye. goodbye. goodbye. goodbye. . i'm not afraid of stopping. this end could be my start. i wanna live a life. and not just play a part. i'll walk into the sunset. i'll sail across the sea. the final word. the last you'll hear of me. of me of me. . is goodbye. goodbye to every night alone. goodbye. goodbye to lives i don't own. i'm tired of living on the stage. a life that's only on the page. empty lies are in the past. i've tried before but here's the last goodbye. goodbye. goodbye. goodbye. goodbye"
        ],
        [
         "26",
         "Shut Up And Raise Your Glass",
         "oh don't you dare look back. just keep your eyes on me. she said you're holding back. she said. . . shut up and dance with me. . . this woman is my destiny. she said. . . ooh ooh. shut up and dance with me. . . so raise your glass if you are wrong. in all the right ways. all my underdogs. . . we will never be never be. anything but loud. and nitty gritty. dirty little freaks. won't you come on and come on and. . . raise your glass. just come on and come on. raise your glass. . . we were victims of the night. the chemical physical. kryptonite. helpless to the bass and the fading light. oh we were bound to get together. bound to get together. . . she took my arm. i don't know how it happened. we took the floor and she said. . . . oh don't you dare look back oh don't you dare look back. just keep your eyes on me just keep your eyes on me. she said you're holding back. she said shut up and dance with me shut up and dance with me. . this woman is my destiny. she said. ooh ooh ooh ooh. shut up and dance with me shut up and dance with me. ooh ooh ooh ooh. shut up and dance with me shut up and dance with me. . slam slam. oh hot damn. what part of party don't you understand. we should just freak out. can't stop. coming in hot. i should be locked up right on the spot. why so serious. . . oh don't you dare look back slam slam oh hot damn. just keep your eyes on me what part of party don't you understand. she said you're holding back we should just freak out. she said shut up and dance with me. . this woman is my destiny can't stop coming in hot i should be locked up. she said right on the spot. ooh ooh it's so on right now. shut up and dance with me. ooh ooh. shut up and dance with me. . . well done christian. we are mere moments from victory. . . this is our night. we are young. . . we are brave. . . we are. bohemians. . . oh don't you dare look back oh. just keep your eyes on me i wanna dance with somebody. i said you're holding back i wanna feel the heat with somebody. she said shut up and dance with me. . this woman is my destiny yeah i wanna dance with somebody. she said. ooh ooh. shut up and dance with me"
        ],
        [
         "27",
         "Come What May",
         "never knew i could feel like this. like i'd never seen the sky before. i want to vanish inside your kiss. everyday i love you more and more. . listen to my heart. can you hear it sing. telling me to give you everything. seasons may change winter to spring. but i love you until the end of time. . come what may come what may. i will love you until my dying day. . . suddenly the world seems such a perfect place. suddenly it moves with such a perfect grace. . . suddenly my life doesn't seem such a waste. . . it all revolves around you. . and there's no mountain too high. no river too wide. sing out this song. and i'll be there by your side. storm clouds may gather and stars may collide. . . but i love you. . . i love you. . . until the end of time. . . until the end of time. . . come what may come what may. i will love you. . . suddenly the world seems such a perfect place. . . come what may. . . come what may. . . come what may. come what may"
        ],
        [
         "28",
         "Elephant Love Medley",
         "all you need is love. . . you're being ridiculous. . . all you need is love. . sung. just one night give me just one night. . . there's no way 'cause you can't pay. . . in the name of love one night in the name of love. . . you crazy fool i won't give in to you. . . it's so easy all you have to do is fall in love. . . love hurts. . . all you have to do is play the game. . . love scars. . . all you have to do is. take on me. . . no no no it ain't me. . . take me on. . . no no no because you'll be gone in a day or two. . . i love you always forever. near or far closer together. everywhere i will be with you. . . love is a battlefield. . . everything i will do for you. . . don't speak. i know just what you're thinking. so please stop explaining. don't tell me 'cause it hurts. . . open up your eyes then you'll realize. here i stand with my everlasting love. need you by my side girl you'll be my pride. you'll never be denied everlasting love. . . what's love got to do got to do with it. what's love but a second hand emotion. what's love got to do got to do with it. who needs a heart when a heart can be broken. . . you're breaking my heart. s'pose i never ever met you. . . what's love got to do with it. . . suppose we never fell in love. . . who needs a heart. . . suppose i kept on singing love songs. . . all of this music breaks my heart. . . yes it breaks my heart. yes it breaks my heart. . . i can't help falling in love with you. . . i'm all out of faith. this is how i feel. i'm cold and i'm ashamed lying naked on the floor. . . take me on. . . illusion never changed into something real. i'm wide awake and i can see the perfect sky is torn. . . they will see us coming from such great heights. come down now they'll say. . . everything looks perfect from far away. come down now but we'll stay. . . 'cause love lifts us up where we belong. where the eagles fly on a mountain high. . . love makes us act like we are fools. throw our lives away for one happy day. . . we can be heroes just for one day. . . though nothing can keep us together. . . we can steal time just for one day. . . we can be heroes forever and ever. we can be lovers just for one day. we can be heroes forever and ever. we can be lovers just for one day. . . and you can tell everybody. . . this is your song. it may be quite simple but now that it's done. i hope you don't mind i hope you don't mind. that i put down in words. . . we can be heroes. . . how wonderful life is. . . we can be heroes. . . how wonderful life is. . . we can be heroes. . . how wonderful life is. . . while you're in the world. i will always love you. and i will always love you. and i will always love you"
        ],
        [
         "29",
         "Seven Wonders",
         "frank why me i'm just ordinary. . . ordinary is beautiful. i don't need paris i don't need a fancy restaurant or a huge orchestra. just some subtle orchestrations. . sung. i've seen the seven wonders. if you give or take a few. but all them seven wonders well. they can't compare to you. i've been a lot of places. yes i've traveled near and far. but now i know that home is where you are. . niagara falls a leaky faucet. . . what. . . yeahthat a plumber oughta fix. the pyramids. . . uhhuh. . . are really just. a dusty pile of bricks. . . really. . . the taj mahal a fixer upper. the grand canyon just a hole. . . oh no.... . . the grand canal in venice. an italian toilet bowl. . . that's wrong. . . i've seen the seven wonders. if you give or take a few. but all them seven wonders well. they can't compare to you. i've been a lot of places. yes i've traveled near and far. but now i know that home is where you are. . . okay.... . sung. the aurora borealis. . . just a nightlight on the fritz. . . mmm... and stonehenge. . . is just a bunch of rocks. . . la brea's tar. . . the pits. . . how 'bout the leaning tower of pisa. . . looks like something up and broke. . . mount rushmore. . . someone climb up there and tell them boys a joke. . . yes my traveling days are over. get the check i'll pay the bill. 'cause i see all the wonders in your eyes. just standing still.... . . the clock's ticking brenda. i can't i don't wanna be a doctor forever. i wanna make a home with you. . sung. i've been a lot of places. but i've learned now near and far. there's no need to roam. 'cause home is where you are. . . there's no need to roam. 'cause home is where you are. . . yes now i know that. . . home is where you are"
        ],
        [
         "30",
         "So Exciting! (The Pitch Song)",
         "so you arranged this rendezvous in order to audition your new show for me hoping i would invest.... . . nailed it in one. . . . . so what's the story of your show. . . the story ah yes uh.... . . there'll be.... lovers. . . and singers. . . and entrepreneurs. . . depravity. . ecstasy. . . love that endures.... . . worthy of even the best raconteur. a tale in the shadows of dear sacrécoeur.... . we. see. a. long the seine upon its filthy shore. the bloated corpses of those. killed the night before. . . but it's a family show. with art both high and low. . . a tale of love. . . and death. . . and sex. . . and money. . . dancing and away we go.... . . sweet satine who plays our ingénue. a sparrow singing up and down each avenue. . . she wears a thin black dress and tells her tale of woe. of pain and loneliness. . . but that's not all as these things go. . she's rather sick with some obscure malaise. no doubt a cruel trick from wilder desperate days. . . but one day singing through her pain. the sun kicks out the rain. and there he stands a lover. . . yes one day everything changes when she meets  a man. . . a man unlike any she has known. he's uh.... . . a ventriloquist. . . no he's a matador striding across the sands of destiny. . . no no no he's a sailor. . . yes a sailor that's it a man who has spent his life voyaging across the turbulent seas. . . he's been searching for a mate. and now it seems like fate. a gift from god above. . . a love divine forevermore. their bodies intertwine.... . . but fate has many other things in store.... . . there's a man who already claims her. an evil gangster who runs this town. . . she's unhappy and no one blames her. . . the most lascivious racketeer around. . . he buys her love. . . he buys her clothes. . . he's rough but this is all the poor girl knows. . . he buys her love. . . there's no escape.... but now a triangle has taken shape. . . and so the sailor driven mad. determined to unseat this cad. swears to risk his life for love. and there's our show all of the above. . . a spectacle of savagery. . . a testament to lunacy haha. . . fun for the whole family. . . and all of it designed by me. . . so exciting. . . the audience will stomp and cheer. . . so delighting. . . it will run for fifty years. . . so exciting. make 'em laugh and make 'em cry. . so delighting. . . and in the end should someone die. . . so exciting. make our dreams reality. . so delighting. . . make it happen just for me. . . me me me me. . . make it happen just for me"
        ],
        [
         "31",
         "Your Song",
         "i don't have much money but boy if i did. i'd buy a big house where we both could live. . if i was a sculptor but then again no. or a man who makes potions in a travelin' show. oh i i know it's not much but it's the best i can do. my gift is my song. and this one's for you. . and you can tell everybody this is your song. it may be quite simple but now that it's done. i hope you don't mind. i hope you don't mind. that i put down in words. how wonderful life is while you're in the world. . . how wonderful life is while you're in the world. . . so excuse me forgetting. but these things i do. you see i've forgotten. if they're green or they're blue. anyway the thing is what i really mean. yours are the sweetest eyes that i've ever seen. . . and you can tell everybody this is your song. it may be quite simple but now that it's done. i hope you don't mind. i hope you don't mind. that i put down in words. how wonderful life is while you're in the world. . i hope you don't mind. i hope you don't mind. that i put down in words. how wonderful life is. how wonderful life is. how wonderful life is. while you're in the world"
        ],
        [
         "32",
         "I’m Alive (Live)",
         "i am what you want me to be. and i'm your worst fear. you'll find it in me. come closer. come closer. . i am more than memory. i am what might be. i am mystery. you know me. so show me. . when i appear it's. not so clear if. i'm a simple spirit. or i'm flesh and blood. . . but i'm alive i'm alive i am so alive. and i feed on the fear that's behind your eyes. . and i need you to need me. it's no surprise. i'm alive. so alive. i'm alive. . . i am flame and i am fire. i am destruction decay and desire. i'll hurt you. i'll heal you. . i'm your wish your dream come true. and i am your darkest nightmare too. i've shown you. i own you. . and though you made me. you can't tame me. i'm the perfect stranger. who knows you too well. . . and i'm alive i'm alive i am so alive. and i'll tell you the truth if you let me try. you're alive i'm alive and i'll show why. . i'm alive. so alive. i'm alive. . . i'm right behind you. you say forget but i remind you. you can try to hide. you know that i will find you. 'cause if you won't grieve me. you won't leave me behind. . ah oh oh. whoa whoa. . . no no no. i'm alive i'm alive i am so alive. if you climb on my back then we both can fly. if you try to deny me i'll never die. . i'm alive. so alive. i'm alive. yeah yeah. . i'm alive. i'm alive. i'm alive. i'm alive"
        ],
        [
         "33",
         "Summer Nights - From \"Grease Live!\" Music From The Television Event",
         "summer lovin' had me a blast. summer lovin' happened so fast. met a girl crazy for me. met a boy cute as can be. summer days drifting away. to uh oh those summer nights. . . wella wella wella uh. tell me more tell me more. did you get very far. tell me more tell me more. like does he have a car. ahha ahha ahha ahha. . . she swam by me she got a cramp. he ran by me got my suit damp. i saved her life she nearly drowned. he showed off splashing around. summer sun something's begun. but uh oh those summer nights. . . wella wella wella uh. tell me more tell me more. was it love at first sight. tell me more tell me more. did she put up a fight. ah shoobie doo shoobie doo. shoobie ah do shoobie do. shoobie ah shoobie do. shoobie ah do shoobie do. . . took her bowling in the arcade. we went strolling drank lemonade. we made out under the dock. we stayed out till ten o'clock. summer fling don't mean a thing. but uh oh those summer nights. woah woah woah. . . tell me more tell me more. but you don't gotta brag. tell me more tell me more. 'cause he sounds like a drag. shoodie bop bop shoodie bop bop. shoodie bop bop shoodie bop bop. shoodie bop bop shoodie bop bop. shoodie bop bop yeah. . . he got friendly holding my hand. well she got friendly down in the sand. he was sweet just turned eighteen. well she was good you know what i mean. summer heat boy and girl meet. but uh oh those summer nights. . . tell me more tell me more. how much dough did he spend. tell me more tell me more. could she get me a friend. . . it turned colder that's where it ends. so i told her we'd still be friends. then we made our true love vow. wonder what she's doin' now. summer dreams ripped at the seams. but oh those summer nights. tell me more tell me more"
        ],
        [
         "34",
         "ABC Café / Red & Black",
         "the time is near. so near it's stirring the blood in their veins. and yet beware. don't let the wine go to your brains. we need a sign. to rally the people. to call them to arms. to bring them in line. . . marius wake up. what's wrong today. you look as if you've seen a ghost. . . some wine and say what's going on. . . a ghost you say a ghost maybe. she was just like a ghost to me. one minute there then she was gone. . . i am agog. i am aghast. is marius in love at last. i've never heard him 'ooh' and 'aah'. you talk of battles to be won. and here he comes like don juan. it's better than an opera. . . it is time for us all. to decide who we are. do we fight for the right. to a night at the opera now. have you asked of yourselves. what's the price you might pay. is this simply a game. for a rich young boy to play. the colours of the world. are changing day by day. . red  the blood of angry men. black  the dark of ages past. red  a world about to dawn. black  the night that ends at last. . . had you seen her today. you might know how it feels. to be struck to the bone. in a moment of breathless delight. had you been there today. you might also have known. how your world may be changed. in just one burst of light. and what was right seems wrong. and what was wrong seems right. . . red. . . i feel my soul on fire. . . black. . . my world if she's not there. . . red. . . it's the colour of desire. . . black. . . it's the colour of despair. . . marius you're no longer a child. i do not doubt you mean it well. but now there is a higher call. who cares about your lonely soul. we strive towards a larger goal. our little lives don't count at all. red. . .  the blood of angry men. black  the dark of ages past. red  a world about to dawn. black  the night that ends at last. . . listen everybody. . . general lamarque is dead. . . lamarque his death is the hour of fate. the people's man. his death is the sign we await. . on his funeral day they will honour his name. with the light of rebellion ablaze in their eyes. with their candles of grief we will kindle our flame. on the tomb of lamarque shall our barricade rise. the time is here. let us welcome it gladly with courage and cheer. . . let us take to the streets with no doubt in our hearts. . . with a jubilant shout. . . they will come one and all. . . they will come when we call"
        ],
        [
         "35",
         "Alexander Hamilton",
         "how does a bastard orphan son of a whore and a. scotsman dropped in the middle of a forgotten. spot in the caribbean by providence impoverished in squalor. grow up to be a hero and a scholar. . . the tendollar founding father without a father. got a lot farther by working a lot harder. by being a lot smarter by being a selfstarter. by fourteen they placed him in charge of a trading charter. . and every day while slaves were being slaughtered and carted. away across the waves he struggled and kept his guard up. inside he was longing for something to be a part of. the brother was ready to beg steal borrow or barter. . . then a hurricane came and devastation reigned. our man saw his future drip dripping down the drain. put a pencil to his temple connected it to his brain. and he wrote his first refrain a testament to his pain. . . well the word got around they said this kid is insane man. took up a collection just to send him to the mainland. get your education don't forget from whence you came and. the world's gonna know your name what's your name man. . . alexander hamilton. my name is alexander hamilton. and there's a million things i haven't done. but just you wait just you wait. . . when he was ten his father split full of it debtridden. two years later see alex and his mother bedridden. halfdead sittin' in their own sick the scent thick. . . and alex got better but his mother went quick. . . moved in with a cousin the cousin committed suicide. left him with nothin' but ruined pride something new inside. a voice sayin' alex you gotta fend for yourself. he started retreatin' and readin' every treatise on the shelf. . . there would have been nothin' left to do for someone less astute. he woulda been dead or destitute without a cent of restitution. started workin' clerkin' for his late mother's landlord. tradin' sugar cane and rum and all the things he can't afford. scammin' for every book he can get his hands on. plannin' for the future see him now as he stands on ooh. the bow of a ship headed for a new land. in new york you can be a new man. . . in new york you can be a new man just you wait. in new york you can be a new man just you wait. in new york you can be a new man. . . in new york new york. . . just you wait. . . alexander hamilton alexander hamilton. we are waiting in the wings for you waiting in the wings for you. you could never back down. you never learned to take your time. oh alexander hamilton alexander hamilton. when america sings for you. will they know what you overcame. will they know you rewrote the game. the world will never be the same oh. . . the ship is in the harbor now. see if you can spot him just you wait. another immigrant. comin' up from the bottom just you wait. his enemies destroyed his rep. america forgot him. . . we fought with him. . me i died for him. . me i trusted him. . me i loved him. . and me i'm the damn fool that shot him. . . there's a million things i haven't done. but just you wait. . . what's your name man. . . alexander hamilton"
        ],
        [
         "36",
         "Master Of The House",
         "my band of soaks my den of dissolutes. my dirty jokes my always pissed as newts. my sons of whores no no no no not tonight spend their lives in my inn. homing pigeons homing in. they fly through my doors. and they crawl out on all fours. . welcome monsieur sit yourself down. and meet the best innkeeper in town. as for the rest all of 'em crooks. rooking their guests and cooking the books. seldom do you see. honest men like me. a gent of good intent. who's content to be. . master of the house doling out the charm. ready with a handshake and an open palm. tells a saucy tale makes a little stir. customers appreciate a bonviveur. glad to do a friend a favor. doesn't cost me to be nice. but nothing gets you nothing. everything has got a little price. . master of the house keeper of the zoo. ready to relieve 'em of a sou or two. watering the wine making up the weight. pickin' up their knickknacks when they can't see straight. everybody loves a landlord. everybody's bosom friend. i do whatever pleases. jesus won't i bleed 'em in the end. . master of the house quick to catch yer eye. never was a passerby to pass him by. servant to the poor butler to the great. comforter philosopher and lifelong mate. everybody's boon companion. everybody's chaperone. but lock up your valises. jesus won't i skin you to the bone. . food beyond compare. food beyond belief. mix it in a mincer and pretend it's beef. kidney of a horse liver of a cat. filling up the sausages with this and that. residents are more than welcome. bridal suite is occupied. reasonable charges. plus some little extras on the side. oh santa. . charge 'em for the lice extra for the mice. two percent for looking in the mirror twice hand it over. here a little slice there a little cut. three percent for sleeping with the window shut. when it comes to fixing prices. there are a lot of tricks i knows. how it all increases all them bits and pieces. jesus it's amazing how it grows. . . oh sorry love. must get something done about that. sung. i used to dream that i would meet a prince. but god almighty have you seen what's happened since. . master of the house isn't worth my spit. comforter philosopher and lifelong shit. cunning little brain regular voltaire. thinks he's quite a lover but there's not much there. what a cruel trick of nature landed me with such a louse. god knows how i've lasted living with this bastard in the house. . . master of the house. . . master and a half. . . comforter philosopher. . . don't make me laugh. . . servant to the poor butler to the great. . . hypocrite and toady and inebriate. . . everybody bless the landlord. everybody bless his spouse. everybody raise a glass. . . raise it up the master's arse. . . everybody raise a glass to the master of the house"
        ],
        [
         "37",
         "One Day More",
         "one day more. another day another destiny. this neverending road to calvary. these men who seem to know my crime. will surely come a second time. one day more. . . i did not live until today. how can i live when we are parted. . . one day more. . . tomorrow you'll be worlds away. and yet with you my world has started. . . one more day all on my own. . . will we ever meet again. . . one more day with him not caring. . . i was born to be with you. . . what a life i might have known. . . and i swear i will be true. . . but he never saw me there. . . one more day before the storm. do i follow where she goes. at the barricades of freedom. shall i join my brothers there. when our ranks begin to form. do i stay or do i dare. will you take your place with me. . . the time is now. the day is here. . . one day more. . . one day more till revolution. we will nip it in the bud. we'll be ready for these schoolboys. they will wet themselves with blood. . . one day more. . . watch them run amuck. catch'm as they fall. never know your luck. when there's a free for all. here a little dip. there a little touch. most of them are goners. so they won't miss much. . . one day to a new beginning. raise the flag of freedom high. every man will be a king. every man will be a king. there's a new world for the winning. there's a new world to be won. do you hear the people sing. . . my place is here. i fight with you. . . one day more. . . we will join these people's heroes i did not live until today. . . we will follow where they go watch them run amuck tomorrow you'll be worlds away. . . we will join these people's heroes. we will follow where they go. we will learn their little secrets. we will know the things they know. . . one day more. . . watch 'em run amuck one more day all on my own. catch 'em as they fall. never know your luck. when there's a freeforall. . . we'll be ready for these schoolboys. . . tomorrow we'll be far away. tomorrow is the judgement day. . . tomorrow we'll discover. what our god in heaven has in store. one more dawn. one more day. one day more"
        ],
        [
         "38",
         "You Learn",
         "i recommend getting your heart trampled on to anyone yeah. i recommend walking around naked in your living room yeah. swallow it down. . . what a jagged little pill. . . it feels so good. . . swimming in your stomach. . . wait until the dust settles. . . you live you learn you love you learn. you cry you learn you lose you learn. you bleed you learn you scream you learn. . . i recommend biting off more than you can chew to anyone. . . i certainly do. . . i recommend sticking your foot in your mouth at any time. . . feel free. . . throw it down. . . the caution blocks you from the wind. . . hold it up. . . to the rays. . . you wait and see when the smoke clears. . you live you learn you love you learn. you cry you learn you lose you learn. you bleed you learn you scream you learn. . i oh.... . . wear it out. . . the way a three year old would do. . . melt it down. . . you're gonna have to eventually anyway. . . the firetrucks are coming up around the bend. . you live you learn you love you learn. you cry you learn you lose you learn. you bleed you learn you scream you learn. . thank you india. you learn you grieve you learn. thank you providence. you choke you learn. thank you disillusionment. you love you learn. you choose you learn. . thank you clarity. you pray you learn. thank you consequence. you ask you learn. thank you thank you silence. you live you learn. ooh..."
        ],
        [
         "39",
         "You Oughta Know",
         "i want you to know that i'm happy for you. i wish nothing but the best for you both. . the perfect version of me. is he perverted like me. would he go down on you in a theatre. so he speaks eloquently. and you can have his baby. i'm sure you'd make a really excellent mother. . 'cause the love that you gave that we made. wasn't able to make it enough for you. to be open wide. and every time you speak his name. does he know why you told me. you'd be there until you died. 'til you died but you're still alive. . and i'm here to remind you. of the mess you left when you went away. it's not fair to deny me. of the cross i bear that you gave to me. you you you oughta know. . you seem very well things look peaceful. i'm not quite as well i thought you should know. did you forget about me mrs. duplicity. i hate to give him so much to live up to. it was a slap in the face. how quickly i was replaced. and are you thinking of me when he fucks you. . 'cause the love that you gave that we made. wasn't able to make it enough for you. to be open wide no. and every time you speak his name. does he know why you told me. you'd be there until you died. 'til you died but you're still alive. . and i'm here to remind you. of the mess you left when you went away. it's not fair to deny me. of the cross i bear that you gave to me. you you you oughta know. . . ohh.... . 'cause the joke that you laid in the bed that was me. and i'm not gonna fade as soon as you close your eyes. and you know it and you know it. and every time i scratch my nails. down someone else's back i hope you feel it. well can you feel it. . and i'm here to remind you. of the mess you left when you went away. it's not fair it's not fair to deny me. of the cross i bear that you gave to me. you you you you you you oughta know. and i'm here to remind you. of the mess you left when you went away. it's not fair to deny me. of the cross i bear that you gave to me. . . you you you oughta know"
        ],
        [
         "40",
         "That I Would Be Good",
         "that i would be good even if i did nothing. . . that i would be good even if i got the thumbs down. . . that i would be good even if i got resentful. . . that i would be good even if i gained ten pounds. . . that i would be fine even if i act like a child. . . why won't you accept who i need to be. . . that i would be good even if my hair stays wild. . . does anyone hear me. . . that i would be great if i just stopped standing by. . . everything is fucked when you're not here. . . that i would be grand if i was not all knowing. . . i need to know that i would be loved. even when i am my true self. . . it has to get better. . . that i would be good. even when i am overwhelmed. . . i pray it will be. . . that i would be loved. . . am i loved. . . even when i was fuming. . . i need to hear that i would be good. even if i was clingy. . . that i would be good even if i lost sanity. that i would be good whether with or without you. . oh.... i i would. i i"
        ],
        [
         "41",
         "Smiling",
         "this is a life of extremes. both sides are slippery and enticing. these are my places off the rails. and this my loose recollection of a falling. i barely remember who i failed. i was just trying to keep it together. . . this is my first wave of my white flag. this is the sound of me hitting bottom. this my surrender if that's what you call it. in the anatomy of my crash. . . and i keep on smiling. keep on moving. can't stand still. . . me the notorious bottom dweller. me the ceilingless brave explorer. lured to the ends of overwhelm. . . this is my first wave of the white flag. this is the sound of me hitting bottom. this my surrender if that's what i call it. in the anatomy of my crash. . . and i keep on smiling. keep on moving. can't stand still. . . such pretty forks in the road. on this continuum i've been bouncing. life flashing promise before my eyes. . . this is my first wave of my white flag. this is the sound of me hitting bottom. this my surrender if i can bare it. in the anatomy of my crash. . . and i keep on smiling. keep on moving. can't stand still"
        ],
        [
         "42",
         "Head Over Feet",
         "i had no choice. . . but to hear you. . . you stated your case. . . time and again. . . i thought about it. . . you treat me like. . . i'm a princess. . . i'm not used to. . . liking that. you ask how my day was. . you've already won me over in spite of me. . . and don't be alarmed if i fall. . . head over feet. . . and don't be surprised if i love you. . . for all that you are. . . i couldn't help it. it's all your fault. . . your love is thick and it swallowed me whole. you're so much braver than i gave you credit for. that's not lip service. . . you're the best listener that i've ever met. . . let's be best friends. best friends with benefits. what took me so long. . . i've never felt this healthy before. i've never wanted something rational. i am aware now. . . i am aware now. . you've already won me over in spite of me. and don't be alarmed if i fall head over feet. and don't be surprised if i love you for all that you are. i couldn't help it. it's all your fault. . you've already won me over in spite of me. and don't be alarmed if i fall head over feet. and don't be surprised if i love you for all that you are. i couldn't help it. it's all your fault. . knot in my stomach and. . lump in my throat. . . i went to your house. i walked up the stairs. i opened your door without ringing the bell. i walked down the hall. into your room. where i could feel you. and i shouldn't be here without permission. i shouldn't be here"
        ],
        [
         "43",
         "Found/Tonight",
         "we may not yet have reached our glory. but i will gladly join the fight. and when our children tell their story. they'll tell the story of tonight. they'll tell the story of tonight. tonight. . . have you ever felt like nobody was there. have you ever felt forgotten in the middle of nowhere. have you ever felt like you could disappear. like you could fall and no one would hear. . . well let that lonely feeling wash away. all we see is light. 'cause maybe there's a reason to believe you'll be okay. for forever. 'cause when you don't feel strong enough to stand. you can reach reach out your hand. . . and oh. raise a glass to freedom. something they can never take away. oh. no matter what they tell you. someone will come running. to take you home. raise a glass to all of us. tomorrow there'll be more of us. telling the story of tonight. out of the shadows. the morning is breaking. they'll tell the story of tonight. and all is new. all is new. all is new. it's only a matter of time. . . even when the dark comes crashing through. when you need a friend to carry you. when you're broken on the ground. you will be found. so let the sun come streaming in. 'cause you'll reach up and you'll rise again. if you only look around. you will be found. . . and when our children tell their story. you will be found. they'll tell the story of tonight. whoa. no matter what they tell you. tomorrow there'll be more of us. telling the story of tonight. the story of tonight"
        ],
        [
         "44",
         "Prologue: Once Upon a December",
         "ah ah. ah ah. ah. . . why must you go nana. . . i've stayed too long here. . . . take me to paris with you. . . wherever i go you'll always be with me. . . . . . our lullaby. . when you play it think of an old woman who loves you very very much. . sung. far away long ago. glowing dim as an ember. things my heart used to know. things it yearns to remember. . and a song someone sings. once upon a december"
        ],
        [
         "45",
         "Close the Door",
         "these strangers come calling. soon enough they're gone. the twilight is falling. lamps will soon go on. and where does summer go. i will never know. summer used to last endlessly. children all in white. running down the sand to me.... to me.... . these strangers sent packing. what do they expect. so grasping so lacking. why not be direct. the beating of my heart. after they depart. lying wide awake through the night. will you ever come. running home to me you might.... you might.... . i've believed so long i have dared to hope. that the door might open and that you might enter. . playing hide and seek. kisses on my cheek. the lamps begin to glow. in my heart i know. you're a lie that i've waited for. tell them all to go. tell them all  no more. tell them i close the door"
        ],
        [
         "46",
         "Land of Yesterday",
         "once i had a palace. here merely a flat. i fled with some diamonds. and that was that. . . it's very tragic. ooh. . . once ladiesin waiting. all bending a knee. now only one ladyinwaiting me. . no fanfares. . . or sedan chairs. . . and no coaches. . . and we sold our broaches. . no afternoon card games with the tsar. . . no caviar. sung. but i say we're not dead now. . . we're not dead now. we're in france instead now. . . let us not be sad. the night's young. and russians are mad so.... let's live in the land of yesterday. live in the grand imperial heyday. let's live in the land of yesterday russia. . . husha. . . let's put on the fancy clothes. and let's wile our woes away. . . in russia. land of yesterday. . . in dire circumstances why wallow in regret. we're out of second chances. why are we here except to forget. we know the world is fickle. life is a leaky sieve. pass me a glass and give me a bow. and drink to the countess nobody now. why should i care as long as i dare to live. . . in the land of yesterday. . . let's run up the bill as if we're still. royalty at play. . in russia land of yesterday. . . the night's young. and russians are mad so.... . . let's live in the land of yesterday. live in the grand imperial heyday. let's live in the land of yesterday russia. husha. . . let's brush off the days of old. and let's hold the world at bay. . . yes here's to. . . russia. . . here's to. . . russia. . . here's to russia. land of yesterday. land of yesterday. hey"
        ],
        [
         "47",
         "The Countess and the Common Man",
         "ever since that first day i saw you at court. i knew i was beneath you. . . you were right darling. you were. . . i noticed you across a room. the most exquisite rose. the tiniest tiara and. that haughty little nose. i flirted with you shamelessly. . . or so the scandal goes.... the countess. . . and the common man. we tiptoed off to peterhof. to have a royal fling. . . my husband was oblivious. counts never know a thing. . . and all of it was perfect. . . 'til you stole my diamond ring. . . the countess and the common man. . . cologne in the bedclothes. the pastry and wine. . . and under the table. your foot touching mine. . . and how my heart beat. when you sent me our sign. . . i loved you.... . . you loved me. and oh it was simply. . . divine.... . . haha. ha ooh. who would have known. my little rose. we're back where we began. . . and i suppose. that you'll propose. another sneaky plan. which i'll resist.... . . until you're kissed. . . for nothing's better than.... . . the countess. . . and the common man.... . . the countess and the common man"
        ],
        [
         "48",
         "Meant to Be",
         "what's meant to be is meant to be. i see it at a glance. she's radiant and confident. and born to take this chance. i tried to think of everything. i just forgot romance. i never should have let them dance"
        ],
        [
         "49",
         "Quartet at the Ballet",
         "can this be the evening. can this be the place. am i only dreaming looking at her face. everything i've wanted. suddenly so clear. my past and my future so near.... . . next to me this frightened girl. holding tight as the dancers whirl. keep your nerve and see this through. it's what you've come to do.... . . see that girl. could it be.... . spoken. don't be ridiculous. . singing. i refuse to dream. i refuse to hope. i must stop believing. i will ever find her.... . . she's near at hand yet here i stand. my heart and mind at war.... the times must change the world must change. and love is not what revolution's for.... . someone holds her safe and warm. someone rescues her from the storm. simple things but one thing's clear. it's fate that brought us here.... . . painted wings home love simple things. silver snow fam'ly  simple things. whirling like a ballet she will have and whatever i. all of it have to do i will. things my heart i will simple how. yearns to know help her simple men. find a way... find a way.... . . anastasia"
        ]
       ],
       "shape": {
        "columns": 2,
        "rows": 667
       }
      },
      "text/html": [
       "<div>\n",
       "<style scoped>\n",
       "    .dataframe tbody tr th:only-of-type {\n",
       "        vertical-align: middle;\n",
       "    }\n",
       "\n",
       "    .dataframe tbody tr th {\n",
       "        vertical-align: top;\n",
       "    }\n",
       "\n",
       "    .dataframe thead th {\n",
       "        text-align: right;\n",
       "    }\n",
       "</style>\n",
       "<table border=\"1\" class=\"dataframe\">\n",
       "  <thead>\n",
       "    <tr style=\"text-align: right;\">\n",
       "      <th></th>\n",
       "      <th>title</th>\n",
       "      <th>lyrics</th>\n",
       "    </tr>\n",
       "  </thead>\n",
       "  <tbody>\n",
       "    <tr>\n",
       "      <th>0</th>\n",
       "      <td>In a Crowd of Thousands</td>\n",
       "      <td>it was june. i was ten. i still think of that ...</td>\n",
       "    </tr>\n",
       "    <tr>\n",
       "      <th>1</th>\n",
       "      <td>A Rumor in St. Petersburg</td>\n",
       "      <td>the neva flows a new wind blows. and soon it w...</td>\n",
       "    </tr>\n",
       "    <tr>\n",
       "      <th>2</th>\n",
       "      <td>Wake Up</td>\n",
       "      <td>i don't wanna wake up. i want you spread out o...</td>\n",
       "    </tr>\n",
       "    <tr>\n",
       "      <th>3</th>\n",
       "      <td>No</td>\n",
       "      <td>my mind is invaded. my gates are ignored. my t...</td>\n",
       "    </tr>\n",
       "    <tr>\n",
       "      <th>4</th>\n",
       "      <td>Perfect</td>\n",
       "      <td>sometimes is never quite enough. if you're fla...</td>\n",
       "    </tr>\n",
       "    <tr>\n",
       "      <th>...</th>\n",
       "      <td>...</td>\n",
       "      <td>...</td>\n",
       "    </tr>\n",
       "    <tr>\n",
       "      <th>662</th>\n",
       "      <td>Baby</td>\n",
       "      <td>baby baby tell me what's the antidote. wouldn'...</td>\n",
       "    </tr>\n",
       "    <tr>\n",
       "      <th>663</th>\n",
       "      <td>Till the World Ends</td>\n",
       "      <td>aw. . . this kitten got your tongue tied in kn...</td>\n",
       "    </tr>\n",
       "    <tr>\n",
       "      <th>664</th>\n",
       "      <td>NEL</td>\n",
       "      <td>. . hoy pensé en salir a buscarte pero nel. ll...</td>\n",
       "    </tr>\n",
       "    <tr>\n",
       "      <th>665</th>\n",
       "      <td>hot girl bummer</td>\n",
       "      <td>fuck you and you and you. i hate your friends ...</td>\n",
       "    </tr>\n",
       "    <tr>\n",
       "      <th>666</th>\n",
       "      <td>The Weekend - Funk Wav Remix</td>\n",
       "      <td>you say you got a girl. how you want me. how y...</td>\n",
       "    </tr>\n",
       "  </tbody>\n",
       "</table>\n",
       "<p>667 rows × 2 columns</p>\n",
       "</div>"
      ],
      "text/plain": [
       "                            title  \\\n",
       "0         In a Crowd of Thousands   \n",
       "1       A Rumor in St. Petersburg   \n",
       "2                         Wake Up   \n",
       "3                              No   \n",
       "4                         Perfect   \n",
       "..                            ...   \n",
       "662                          Baby   \n",
       "663           Till the World Ends   \n",
       "664                           NEL   \n",
       "665               hot girl bummer   \n",
       "666  The Weekend - Funk Wav Remix   \n",
       "\n",
       "                                                lyrics  \n",
       "0    it was june. i was ten. i still think of that ...  \n",
       "1    the neva flows a new wind blows. and soon it w...  \n",
       "2    i don't wanna wake up. i want you spread out o...  \n",
       "3    my mind is invaded. my gates are ignored. my t...  \n",
       "4    sometimes is never quite enough. if you're fla...  \n",
       "..                                                 ...  \n",
       "662  baby baby tell me what's the antidote. wouldn'...  \n",
       "663  aw. . . this kitten got your tongue tied in kn...  \n",
       "664  . . hoy pensé en salir a buscarte pero nel. ll...  \n",
       "665  fuck you and you and you. i hate your friends ...  \n",
       "666  you say you got a girl. how you want me. how y...  \n",
       "\n",
       "[667 rows x 2 columns]"
      ]
     },
     "execution_count": 7,
     "metadata": {},
     "output_type": "execute_result"
    }
   ],
   "source": [
    "songs"
   ]
  },
  {
   "cell_type": "markdown",
   "metadata": {},
   "source": [
    "## LDA Model"
   ]
  },
  {
   "cell_type": "code",
   "execution_count": null,
   "metadata": {},
   "outputs": [],
   "source": []
  },
  {
   "cell_type": "markdown",
   "metadata": {},
   "source": [
    "## BERTopic "
   ]
  },
  {
   "cell_type": "code",
   "execution_count": 11,
   "metadata": {},
   "outputs": [],
   "source": [
    "from bertopic import BERTopic\n",
    "topic_model = BERTopic(language=\"multilingual\")\n",
    "topics, probs = topic_model.fit_transform(songs['lyrics'])"
   ]
  },
  {
   "cell_type": "code",
   "execution_count": 12,
   "metadata": {},
   "outputs": [
    {
     "data": {
      "application/vnd.microsoft.datawrangler.viewer.v0+json": {
       "columns": [
        {
         "name": "index",
         "rawType": "int64",
         "type": "integer"
        },
        {
         "name": "Topic",
         "rawType": "int64",
         "type": "integer"
        },
        {
         "name": "Count",
         "rawType": "int64",
         "type": "integer"
        },
        {
         "name": "Name",
         "rawType": "object",
         "type": "string"
        },
        {
         "name": "Representation",
         "rawType": "object",
         "type": "unknown"
        },
        {
         "name": "Representative_Docs",
         "rawType": "object",
         "type": "unknown"
        }
       ],
       "conversionMethod": "pd.DataFrame",
       "ref": "dfb3a99c-a2ce-414f-97f3-3cdb3d6a6d9d",
       "rows": [
        [
         "0",
         "-1",
         "15",
         "-1_the_want_and_your",
         "['the', 'want', 'and', 'your', 'romance', 'bad', 'you', 'from', 'love', 'it']",
         "[\"children grow and women producing. men go working some go stealing. everyone's got to make a living. . lox yeah southside bronx. j.lo yeah southside bronx. yeah yo yo southside bronx. we off the blocks this year off the blocks. went from a little to a lot this year yeah. everybody mad at the rocks that i wear they mad. i know where i'm goin' and i know where i'm from. you hear lox in your ear. yeah we're at the airport out we out. dglock from the block where everybody airforced out. with a new white tee you fresh nothing phony with us. make the money get the mansion bring the homies with us southside bronx. . . don't be fooled by the rocks that i got. i'm still i'm still jenny from the block. used to have a little now i have a lot. no matter where i go i know where i came from from the bronx. don't be fooled by the rocks that i got. i'm still i'm still jenny from the block. used to have a little now i have a lot. no matter where i go i know where i came from southside bronx from the bronx. . . from in living color to movie scripts. to on the 6 to j.lo to this. headline clips. i stay grounded as the amounts roll in. i'm real i thought i told ya i'm real. i'm real even on oprah i'm real. that's just me. nothing phony dont hate on me. what you get is what you see oh southside bronx. . . don't be fooled by the rocks that i got. i'm still i'm still jenny from the block. used to have a little now i have a lot. no matter where i go i know where i came from from the bronx. don't be fooled by the rocks that i got. i'm still i'm still jenny from the block. used to have a little now i have a lot. no matter where i go i know where i came from southside bronix from the bronx. . . i'm down to earth like this. rocking this business. i've grown up so much. i'm in control and loving it. rumors got me laughing kid. i love my life and my public. put god first and can't forget to stay real real. to me it's like breathing yeah southside bronx. . . don't be fooled by the rocks that i got. i'm still i'm still jenny from the block. used to have a little now i have a lot. no matter where i go i know where i came from from the bronx yeah. don't be fooled by the rocks that i got. i'm still i'm still jenny from the block uh yeah uhhuh yeah. used to have a little now i have a lot yeah uhhuh yeah yeah. no matter where i go i know where i came from yo yo. . it take hard work to cash checks uhhuh. so don't be fooled by the rocks that i got they assets. you get back what you put out. if even if you take the good route. can't count the hood out. after a while you'll know who to blend with uhhuh. just keep it real with the ones came in with uhhuh. best thing to do is stay low yeah lox and j.lo. everyone's got to make a living. they act like they don't but they know yeah. . . don't be fooled by the rocks that i got. i'm still i'm still jenny from the block. used to have a little now i have a lot. no matter where i go i know where i came from from the bronx. don't be fooled by the rocks that i got. i'm still i'm still jenny from the block. used to have a little now i have a lot southside bronx. no matter where i go i know where i came from southside bronix from the bronx. don't be fooled by the rocks that i got. i'm still i'm still jenny from the block bronx. used to have a little now i have a lot southside bronx. no matter where i go i know where i came from southside bronx from the bronx. don't be fooled by the rocks that i got. i'm still i'm still jenny from the block bronx. used to have a little now i have a lot southside bronx. no matter where i go i know where i came from southside bronx from the bronx\", \"oh caught in a bad romance. oh caught in a bad romance. . . ra ra ahahah. roma romama. gaga ooh la la. want your bad romance. ra ra ahahah. roma romama. gaga ooh la la. want your bad romance. . . i want your ugly i want your disease. i want your everything as long as it's free. i want your love. love love love i want your love ayy. i want your drama the touch of your hand hey. i want your leatherstudded kiss in the sand. i want your love. love love love i want your love. love love love i want your love. . . you know that i want you. and you know that i need you. i want it bad your bad romance. . . i want your love and i want your revenge. you and me could write a bad romance oh. i want your love and all your lover's revenge. you and me could write a bad romance. oh caught in a bad romance. oh caught in a bad romance. . . ra ra ahahah. roma romama. gaga ooh la la. want your bad romance. . . i want your horror i want your design. 'cause you're a criminal as long as you're mine. i want your love. love love love i want your love. i want your psycho your vertigo schtick hey. want you in my rear window baby you're sick. i want your love. love love love i want your love. love love love i want your love. . . you know that i want you. and you know that i need you 'cause i'm a free bitch baby. i want it bad your bad romance. . . i want your love and i want your revenge. you and me could write a bad romance oh. i want your love and all your lover's revenge. you and me could write a bad romance. oh caught in a bad romance. oh caught in a bad romance. . . ra ra ahahah. roma romama. gaga ooh la la. want your bad romance. ra ra ahahah. roma romama. gaga ooh la la. want your bad romance. . . walk walk fashion baby. work it move that bitch crazy. walk walk fashion baby. work it move that bitch crazy. walk walk fashion baby. work it move that bitch crazy. walk walk passion baby. work it i'm a free bitch baby. . . i want your love and i want your revenge. i want your love i don't wanna be friends. je veux ton amour et je veux ta revanche. je veux ton amour i don't wanna be friends oh. i want your bad romance i want your bad romance. no i don't wanna be friends caught in a bad romance. i want your bad romance i want your bad romance. i don't wanna be friends oh. i want your bad romance i want your bad romance. want your bad romance i want your bad romance. caught in a bad romance. want your bad romance. . . i want your love and i want your revenge. you and me could write a bad romance oh. i want your love and all your lover's revenge. you and me could write a bad romance. oh want your bad romance. caught in a bad romance want your bad romance. oh want your bad romance. caught in a bad romance. . . ra ra ahahah. roma romama. gaga ooh la la. want your bad romance\", \"oh caught in a bad romance. oh caught in a bad romance. . . ra ra ahahah. roma romama. gaga ooh la la. want your bad romance. ra ra ahahah. roma romama. gaga ooh la la. want your bad romance. . . i want your ugly i want your disease. i want your everything as long as it's free. i want your love. love love love i want your love ayy. i want your drama the touch of your hand hey. i want your leatherstudded kiss in the sand. i want your love. love love love i want your love. love love love i want your love. . . you know that i want you. and you know that i need you. i want it bad your bad romance. . . i want your love and i want your revenge. you and me could write a bad romance oh. i want your love and all your lover's revenge. you and me could write a bad romance. oh caught in a bad romance. oh caught in a bad romance. . . ra ra ahahah. roma romama. gaga ooh la la. want your bad romance. . . i want your horror i want your design. 'cause you're a criminal as long as you're mine. i want your love. love love love i want your love. i want your psycho your vertigo schtick hey. want you in my rear window baby you're sick. i want your love. love love love i want your love. love love love i want your love. . . you know that i want you. and you know that i need you 'cause i'm a free bitch baby. i want it bad your bad romance. . . i want your love and i want your revenge. you and me could write a bad romance oh. i want your love and all your lover's revenge. you and me could write a bad romance. oh caught in a bad romance. oh caught in a bad romance. . . ra ra ahahah. roma romama. gaga ooh la la. want your bad romance. ra ra ahahah. roma romama. gaga ooh la la. want your bad romance. . . walk walk fashion baby. work it move that bitch crazy. walk walk fashion baby. work it move that bitch crazy. walk walk fashion baby. work it move that bitch crazy. walk walk passion baby. work it i'm a free bitch baby. . . i want your love and i want your revenge. i want your love i don't wanna be friends. je veux ton amour et je veux ta revanche. je veux ton amour i don't wanna be friends oh. i want your bad romance i want your bad romance. no i don't wanna be friends caught in a bad romance. i want your bad romance i want your bad romance. i don't wanna be friends oh. i want your bad romance i want your bad romance. want your bad romance i want your bad romance. caught in a bad romance. want your bad romance. . . i want your love and i want your revenge. you and me could write a bad romance oh. i want your love and all your lover's revenge. you and me could write a bad romance. oh want your bad romance. caught in a bad romance want your bad romance. oh want your bad romance. caught in a bad romance. . . ra ra ahahah. roma romama. gaga ooh la la. want your bad romance\"]"
        ],
        [
         "1",
         "0",
         "600",
         "0_you_the_and_it",
         "['you', 'the', 'and', 'it', 'me', 'to', 'my', 'that', 'in', 'we']",
         "[\"i want you to know that i'm happy for you. i wish nothing but the best\\u2005for\\u2005you both. . the perfect\\u2005version of me. is he perverted like\\u2005me. would he go down on you in a theatre. so he speaks eloquently. and you can have his baby. i'm sure you'd make a really excellent mother. . 'cause the love that you gave that we made. wasn't able to make it enough for you. to be open wide. and every time you speak his name. does he know why you told me. you'd be there until you died. 'til you died but you're still alive. . and i'm here to remind you. of the mess you left when you went away. it's not fair to deny me. of the cross i bear that you gave to me. you you you oughta know. . you seem very well things look peaceful. i'm not quite as well i thought you should know. did you forget about me mrs. duplicity. i hate to give him so much to live up to. it was a slap in the face. how quickly i was replaced. and are you thinking of me when he fucks you. . 'cause the love that you gave that we made. wasn't able to make it enough for you. to be open wide no. and every time you speak his name. does he know why you told me. you'd be there until you died. 'til you died but you're still alive. . and i'm here to remind you. of the mess you left when you went away. it's not fair to deny me. of the cross i bear that you gave to me. you you you oughta know. . . ohh.... . 'cause the joke that you laid in the bed that was me. and i'm not gonna fade as soon as you close your eyes. and you know it and you know it. and every time i scratch my nails. down someone else's back i hope you feel it. well can you feel it. . and i'm here to remind you. of the mess you left when you went away. it's not fair it's not fair to deny me. of the cross i bear that you gave to me. you you you you you you oughta know. and i'm here to remind you. of the mess you left when you went away. it's not fair to deny me. of the cross i bear that you gave to me. . . you you you oughta know\", \"all you need is love. . . you're being ridiculous. . . all you need is love. . sung. just one night give me\\u2005just\\u2005one night. . . there's no\\u2005way 'cause you can't pay. . . in the\\u2005name of love one night in the name of love. . . you crazy fool i won't give in to you. . . it's so easy all you have to do is fall in love. . . love hurts. . . all you have to do is play the game. . . love scars. . . all you have to do is. take on me. . . no no no it ain't me. . . take me on. . . no no no because you'll be gone in a day or two. . . i love you always forever. near or far closer together. everywhere i will be with you. . . love is a battlefield. . . everything i will do for you. . . don't speak. i know just what you're thinking. so please stop explaining. don't tell me 'cause it hurts. . . open up your eyes then you'll realize. here i stand with my everlasting love. need you by my side girl you'll be my pride. you'll never be denied everlasting love. . . what's love got to do got to do with it. what's love but a second hand emotion. what's love got to do got to do with it. who needs a heart when a heart can be broken. . . you're breaking my heart. s'pose i never ever met you. . . what's love got to do with it. . . suppose we never fell in love. . . who needs a heart. . . suppose i kept on singing love songs. . . all of this music breaks my heart. . . yes it breaks my heart. yes it breaks my heart. . . i can't help falling in love with you. . . i'm all out of faith. this is how i feel. i'm cold and i'm ashamed lying naked on the floor. . . take me on. . . illusion never changed into something real. i'm wide awake and i can see the perfect sky is torn. . . they will see us coming from such great heights. come down now they'll say. . . everything looks perfect from far away. come down now but we'll stay. . . 'cause love lifts us up where we belong. where the eagles fly on a mountain high. . . love makes us act like we are fools. throw our lives away for one happy day. . . we can be heroes just for one day. . . though nothing can keep us together. . . we can steal time just for one day. . . we can be heroes forever and ever. we can be lovers just for one day. we can be heroes forever and ever. we can be lovers just for one day. . . and you can tell everybody. . . this is your song. it may be quite simple but now that it's done. i hope you don't mind i hope you don't mind. that i put down in words. . . we can be heroes. . . how wonderful life is. . . we can be heroes. . . how wonderful life is. . . we can be heroes. . . how wonderful life is. . . while you're in the world. i will always love you. and i will always love you. and i will always love you\", \"look at this home we need a new foundation. it may seem hopeless but we'll get by just fine. look at this family a glowing constellation. so full of stars and everybody wants to shine. but the stars don't shine they burn. and the constellations shift. i think it's time you learn. you're more than just your gift. . . and i'm sorry i held on too tight. just so afraid i'd lose you too. the miracle is not some magic that you've got. the miracle is you. not some gift just you. the miracle is you. . . all of you all of you. . . okay so we gonna talk about bruno. . . that's bruno. . . yeah there's a lot to say about bruno. i'll start okay. pepa i'm sorry 'bout your weddin' didn't mean to be upsettin'. that wasn't a prophecy i could just see you were sweatin'. and i wanted you to know that your bro loves you so. let it in let it out let it rain let it snow let it go. . . that's what i'm always saying bro. . . got a lotta 'pologies i got to say. . . hey uh we're just happy that you're here okay but. . . come into the light. . . the triplets all reunite. . . and no matter what happens we're gonna find our way. . . yo i knew he never left i heard him every day. . . ohohoh ohohoh. ohohoh ohohoh what's that sound. . . ohohoh ohohoh. . . i think it's everyone in town. . . hey. lay down your load lay down your load. we are only down the road we are only down the road. we have no gifts but we are many. and we'll do anything for you. . . it's a dream when we work as a team all of you all of you. you're so strong yeah but sometimes i cry all of you all of you. . . so do i. . . i may not be as strong but i'm getting wiser. . . yeah i need sunlight and fertilizer. come on let's plant somethin' new and watch it fly. . . straight up to the sky let's go. . . the stars don't shine they burn. the constellations glow. the seasons change in turn. . . would you watch our little girl go. . . she takes after you. . . oh. . . hey mariano why so blue. . . i just have so much love inside. . . you know i've got this cousin too. have you met dolores. . . okay i'll take it from here goodbye. . . you talk so loud. you take care of your mother and you make her proud. you write your own poetry every night when you go to sleep. and i'm seizing the moment so would you wake up and notice me. . . dolores i see you. . . and i hear you. . . yes. . . all of you all of you. . . let's get married. . . slow down. . . all of you all of you. . . home sweet home i like the new foundation. . . it isn't perfect. . . neither are we. . . that's true. . . just one more thing before the celebration. . . what. . . we need a doorknob. . . we made this one for you. . . we see how bright you burn. . . we see how brave you've been. . . now see yourself in turn. . . you're the real gift kid let us in. . . open your eyes. abre los ojos. what do you see. . . i see me. all of me\"]"
        ],
        [
         "2",
         "1",
         "52",
         "1_she_you_the_me",
         "['she', 'you', 'the', 'me', 'her', 'and', 'it', 'to', 'ooh', 'my']",
         "[\"betty i won't make assumptions. about why you switched your homeroom but. i think it's 'cause of\\u2005me. betty\\u2005one time i\\u2005was riding on my skateboard. when i\\u2005passed your house. it's like i couldn't breathe. . . you heard the rumors from inez. you can't believe a word she says. most times but this time it was true. the worst thing that i ever did. was what i did to you. . . but if i just showed up at your party. would you have me would you want me. would you tell me to go fuck myself. or lead me to the garden. in the garden would you trust me. if i told you it was just a summer thing. i'm only seventeen i don't know anything. but i know i miss you. . . betty i know where it all went wrong. your favorite song was playing. from the far side of the gym. i was nowhere to be found. i hate the crowds you know that. plus i saw you dance with him. . . you heard the rumors from inez. you can't believe a word she says. most times but this time it was true. the worst thing that i ever did. was what i did to you. . . but if i just showed up at your party. would you have me would you want me. would you tell me to go fuck myself. or lead me to the garden. in the garden would you trust me. if i told you it was just a summer thing. i'm only seventeen i don't know anything. but i know i miss you. . . i was walking home on broken cobblestones. just thinking of you when she pulled up like. a figment of my worst intentions. she said james get in let's drive. those days turned into nights. slept next to her but. i dreamt of you all summer long. . . betty i'm here on your doorstep. and i planned it out for weeks now. but it's finally sinkin' in. betty right now is the last time. i can dream about what happens when. you see my face again. . . the only thing i wanna do. is make it up to you. so i showed up at your party. yeah i showed up at your party. . . yeah i showed up at your party. will you have me will you love me. will you kiss me on the porch. in front of all your stupid friends. if you kiss me will it be just like i dreamed it. will it patch your broken wings. i'm only seventeen i don't know anything. but i know i miss you. . . standing in your cardigan. kissin' in my car again. stopped at a streetlight. you know i miss you\", \"you're on the phone with your girlfriend she's upset. she's goin' off about something that you said. 'cause she doesn't get your humor like i do. i'm in my room it's a typical tuesday night. i'm listening to the kind of music she doesn't like. and she'll never know your story like i do. . . 'cause she wears short skirts i wear tshirts. she's cheer captain and i'm on the bleachers. dreaming 'bout the day when you wake up and find. that what you're lookin' for has been here the whole time. . . if you could see that i'm the onе who understands you. been here all along so why can't you see. you bеlong with me you belong with me. . . walking the streets with you and your wornout jeans. i can't help thinking this is how it ought to be. laughin' on a park bench thinking to myself. hey isn't this easy. and you've got a smile that could light up this whole town. i haven't seen it in a while since she brought you down. you say you're fine i know you better than that. hey what you doin' with a girl like that. . . she wears high heels i wear sneakers. she's cheer captain and i'm on the bleachers. dreaming about the day when you wake up and find. that what you're lookin' for has been here the whole time. . . if you could see that i'm the one who understands you. been here all along so why can't you see. you belong with me. standin' by and waitin' at your back door. all this time how could you not know baby. you belong with me you belong with me. . . oh i remember you. driving to my house in the middle of the night. i'm the one who makes you laugh when you know you're 'bout to cry. i know your favorite songs and you tell me 'bout your dreams. think i know where you belong think i know it's with me. . . can't you see that i'm the one who understands you. been here all along so why can't you see ah. you belong with me. standin' by and waitin' at your back door. all this time how could you not know baby. you belong with me you belong with me. . . you belong with me. have you ever thought just maybe you belong with me. you belong with me\", \". . she was fivefoot four with some money on the floor. and a box that's hidden under her bed. i was only twentytwo with a pocket full of truth. but i gave her everything that i had. we were born and raised in the golden state. mommy's gone and daddy's doing his best. i was brought up great living section 8. social security's paying the rent ohohoh ooh. the landlord called she said you gotta go ooh. little one you just lost your oohooh. yeah. . . she was fivefoot four getting money on tour. but her socks were at the end of my bed. got our names tattooed on each other. just to prove to each other that we'd do what we said. only took a few days 'til our minds were made up. and we thought we should try it again. i was only seventeen when we first tried things. when she first made me feel like a man ohoh oohooh. . . who am i gonna call ooh. who's gonna catch me when i ooh. who's the one you're sleeping with ooh. . . well don't just sit in front of me and wait for me to talk. you can call me up phone works two ways you know. this time baby yeah i think that i'll be just fine. and i wish i could say the same for you. i yeah i do i hey. . . yeah yeah yeah. hey hey hey. yeah yeah yeah. ahah. ahah. ahah. . . . . to those of you in which i choose to always be the closest to. there's something that you need to know. loving me is not a joke. and you can put it all on me you can laugh and you can bleed. and i'll adopt it all because that's just what a buddy does. i loved you from minute one the iced tea to my lemonade. never one to hit and run soaking every minute made. you can give me all your juice i can squeeze it out for you. and all i ask you in exchange love me back through every phase. if it ever comes off wrong or leaves you with a bitter taste. just remember you're the tea. and i'm your sour lemonade i'm your sour lemonade. tropical iced tea and hot pink lemonade\"]"
        ]
       ],
       "shape": {
        "columns": 5,
        "rows": 3
       }
      },
      "text/html": [
       "<div>\n",
       "<style scoped>\n",
       "    .dataframe tbody tr th:only-of-type {\n",
       "        vertical-align: middle;\n",
       "    }\n",
       "\n",
       "    .dataframe tbody tr th {\n",
       "        vertical-align: top;\n",
       "    }\n",
       "\n",
       "    .dataframe thead th {\n",
       "        text-align: right;\n",
       "    }\n",
       "</style>\n",
       "<table border=\"1\" class=\"dataframe\">\n",
       "  <thead>\n",
       "    <tr style=\"text-align: right;\">\n",
       "      <th></th>\n",
       "      <th>Topic</th>\n",
       "      <th>Count</th>\n",
       "      <th>Name</th>\n",
       "      <th>Representation</th>\n",
       "      <th>Representative_Docs</th>\n",
       "    </tr>\n",
       "  </thead>\n",
       "  <tbody>\n",
       "    <tr>\n",
       "      <th>0</th>\n",
       "      <td>-1</td>\n",
       "      <td>15</td>\n",
       "      <td>-1_the_want_and_your</td>\n",
       "      <td>[the, want, and, your, romance, bad, you, from...</td>\n",
       "      <td>[children grow and women producing. men go wor...</td>\n",
       "    </tr>\n",
       "    <tr>\n",
       "      <th>1</th>\n",
       "      <td>0</td>\n",
       "      <td>600</td>\n",
       "      <td>0_you_the_and_it</td>\n",
       "      <td>[you, the, and, it, me, to, my, that, in, we]</td>\n",
       "      <td>[i want you to know that i'm happy for you. i ...</td>\n",
       "    </tr>\n",
       "    <tr>\n",
       "      <th>2</th>\n",
       "      <td>1</td>\n",
       "      <td>52</td>\n",
       "      <td>1_she_you_the_me</td>\n",
       "      <td>[she, you, the, me, her, and, it, to, ooh, my]</td>\n",
       "      <td>[betty i won't make assumptions. about why you...</td>\n",
       "    </tr>\n",
       "  </tbody>\n",
       "</table>\n",
       "</div>"
      ],
      "text/plain": [
       "   Topic  Count                  Name  \\\n",
       "0     -1     15  -1_the_want_and_your   \n",
       "1      0    600      0_you_the_and_it   \n",
       "2      1     52      1_she_you_the_me   \n",
       "\n",
       "                                      Representation  \\\n",
       "0  [the, want, and, your, romance, bad, you, from...   \n",
       "1      [you, the, and, it, me, to, my, that, in, we]   \n",
       "2     [she, you, the, me, her, and, it, to, ooh, my]   \n",
       "\n",
       "                                 Representative_Docs  \n",
       "0  [children grow and women producing. men go wor...  \n",
       "1  [i want you to know that i'm happy for you. i ...  \n",
       "2  [betty i won't make assumptions. about why you...  "
      ]
     },
     "execution_count": 12,
     "metadata": {},
     "output_type": "execute_result"
    }
   ],
   "source": [
    "topic_model.get_topic_info()"
   ]
  }
 ],
 "metadata": {
  "kernelspec": {
   "display_name": "spotify",
   "language": "python",
   "name": "python3"
  },
  "language_info": {
   "codemirror_mode": {
    "name": "ipython",
    "version": 3
   },
   "file_extension": ".py",
   "mimetype": "text/x-python",
   "name": "python",
   "nbconvert_exporter": "python",
   "pygments_lexer": "ipython3",
   "version": "3.13.1"
  }
 },
 "nbformat": 4,
 "nbformat_minor": 2
}
