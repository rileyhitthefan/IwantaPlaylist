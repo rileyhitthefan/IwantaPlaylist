{
 "cells": [
  {
   "cell_type": "code",
   "execution_count": 8,
   "metadata": {},
   "outputs": [],
   "source": [
    "import pandas as pd\n",
    "songs = pd.read_csv('songs_lyrics.csv', index_col=0)"
   ]
  },
  {
   "cell_type": "code",
   "execution_count": 9,
   "metadata": {},
   "outputs": [
    {
     "data": {
      "application/vnd.microsoft.datawrangler.viewer.v0+json": {
       "columns": [
        {
         "name": "index",
         "rawType": "int64",
         "type": "integer"
        },
        {
         "name": "title",
         "rawType": "object",
         "type": "string"
        },
        {
         "name": "lyrics",
         "rawType": "object",
         "type": "string"
        }
       ],
       "conversionMethod": "pd.DataFrame",
       "ref": "98d7e5e3-f44f-4ce7-aa70-a4c566e82d96",
       "rows": [
        [
         "0",
         "In a Crowd of Thousands",
         "it was june. i was ten. i still think of that day now and then. a parade and a girl. and a crowd of thousands. she sat straight as a queen. only eight but so proud and serene. how they cheered. how i stared. in that crowd of thousands. . then i started to run. and to call out her name. as the crowd on the road went wild. i reached out with my hand and looked up. and then she smiled. . the parade travelled on. with the sun in my eyes she was gone. but if i were still ten. in that crowd of thousands. id find her again. . . youre making me feel i was there too. . . maybe you were. make it part of your story. . a parade. . . a parade. . . passing by. . . passing by. . . it was hot. not a cloud in the sky. then a boy. caught my eye. . . in a crowd of thousands. . . he was thin. not too clean. there were guards. but he dodged in between. . yes he made himself seen. in that crowd of thousands. . then he called out my name. and he started to run. through the sun and heat and the crowd. and i tried not to smile but i smiled. and then. he bowed. . i didnt tell you that. . . you didnt have to. i remember. . . the parade travelled on. with the sun in my eyes you were gone. but i knew even then. in a crowd of thousands. id find you again. . your highness"
        ],
        [
         "1",
         "A Rumor in St. Petersburg",
         "the neva flows a new wind blows. and soon it will be spring. . we hear you comrades. the revolution hears you. together we will forge a new russia that will be the envy of all the world. the tsar's st. petersburg is now the people's leningrad. . . they can call it leningrad but it will always be petersburg. . new name same empty stomachs. . . sung. they tell us times are better. well i say they're not. can't cook an empty promise in an empty pot. a brighter day is dawning it's almost at hand. the skies are gray the walls have ears. and he who argues disappears. . . hail our brave new land. . st. petersburg is booming. a city on the rise. . it's really very friendly. . . if you don't mind spies. . . we stand behind our leaders. . . and stand in line for bread. . . we're good and loyal comrades. and our favorite color's red. . . now everyone is equal. professors push the brooms. . . twodozen total strangers live in two small rooms. you hold a revolution. and here's the price you pay. thank goodness for the gossip. . . спасибо за слухи. . . thank goodness for the gossip. that gets us through the day. . hey. have you heard. there's a rumor in st. petersburg. have you heard. what they're saying on the street. . . although the tsar did not survive. one daughter may be still alive. . . the princess anastasia. . . but please do not repeat. . . it's a rumor a legend a mystery. something whispered in an alleyway. or through a crack. it's a rumor that's part of our history. . . they say her royal grandmama will pay a royal sum. . . to someone who can bring the princess back. . . dmitry they've closed another border. . we should've gotten out of russia while we still could. . sung. st. petersburg was lovely when royalty was in. i called myself a count as though i'd always been. i hobnobbed with the royals but then a change of luck. the tsar was dead the royals fled. and comrade now we're stuck. . . vlad i've been thinking about the princess anastasia. . . . oh not you too dmitry. . . it's the rumor the legend the mystery. it's the princess anastasia who will help us fly. you and i friend will go down in history. we'll find a girl to play the part and teach her what to say. dress her up and take her to paris. . . imagine the reward her dear old grandmama would pay. . . who else could pull it off but you and me. . no. . . it was a truck backfiring comrade. that's all it was. . those days are over neighbor against neighbor. there's nothing to be afraid of anymore.nbps. you're shaking. there's a tea shop just steps from here. let me. . . thank you. . . . what's your hurry. . . i can't lose this job. they're not easy to come by. but thank you. . . . i'm here every day. . . a ruble for this painting. it's romanov i swear. . . count yusupov's pajamas comrade. buy the pair. . . i found this in a palace. initialed with an a. it could be anastasia's. now what will someone pay. . . we need something of hers to show the old lady. . how much is that music box. . . ah the music box. it's genuine romanov i could never part with it. . . two cans of beans comrade. . . done. . . . do you believe in fairytales vlad. . . once upon a time i did. . . we're going to create a fairytale the whole world will believe. . sung. now it's risky but not more than usual. we'll need papers we'll need tickets we'll need nerves of steel. . . yes it's risky a lot more than usual. . . we'll try to cross the border with our princess and our plot. . . hopefully disaster won't ensue. . . with luck it all goes smoothly. . . and with luck we won't be shot. . . who else could pull it off but me and you. . . we'll be rich. . . we'll be rich. . . we'll be out. . . we'll be out. . . and st. petersburg will have some more to talk about. . . i heard it from a person i heard it from a person. i heard it from a person who a person who. assured me it was absolutely true. shh. . have you heard. there's a rumor in st. petersburg. have you heard. comrade what do you suppose. . . a fascinating mystery. . . the biggest con in history. . . the princess anastasia. alive or dead. who knows. shh"
        ],
        [
         "2",
         "Wake Up",
         "i don't wanna wake up. i want you spread out on the sheets. said pussy so good. uh pussy so sweet uh. i don't wanna wake up. i want it flowin' through my streams. gettin' me hot. under my feet. i don't wanna wake up. . . please don't wake me up i feel it creepin' yeah. controllin' how you movin' lucid dreamin' dreams. always on the side of different seasons yeahyeah. took the beltway down to your hood it's lit. say you was in the crowd i never looked. lookin' back how things came back around guess i was hooked. burn the bread and then we burn the town we both was cooked yeah. nah nah please don't wake me up feel like i'm dreamin'. any given sunday you can get it willie beamen. i can make your mondays even better like the weekend yeah. that's my coco i'm her icet coco yeah yeah. bend her over for some pipin' it's lit. bust a cloud shoot the lightnin' pop it. pop it now know we can't sleep sleep. . . i don't wanna wake up yeah. want you spread out on the sheets it's lit. say pussy so good pop it. oh pussy so sweet yeah. when i wake up yeah yeah. want a drop top on the beach straight up. gettin' me hot yeah yeah. under my feet. when i wake up. . . you decide if i live or die. when you're close i'm alive i can feel the sky. i just want your body close to me oh. and if i o.d. i'll be alone with no heartbeat. i hope they kill us with a ghost in the lambo'. and the doors goin' up suicide. . . i don't wanna wake up i don't wanna wake up. i want you spread out on the sheets want you spread out on the sheets. 'cause that pussy so good pussy so good yeah. girl that pussy so sweet pussy so sweet. i don't wanna wake up i don't wanna wake up. i want it flowin' through my streams want it flowin' through my streams. ha gettin' me hot gettin' me hot. oh under my feet my feet. i don't wanna wake up yeah"
        ],
        [
         "3",
         "No",
         "my mind is invaded. my gates are ignored. my thoughts are negated. and you're on a roll. . . and i am offended. by your acts of shamelessness. your lack of conscience. and your flagrant steamroll. what part of no do you not understand. do you not understand. . . what part of no do you not understand. do you not understand. . . my sorrow is left off. my rages discounted. . . my fears are founded. this dam is no more. . . what part of no do you not understand. do you not understand. what part of no do you not understand. do you not understand. don't touch me. my body is frozen. thanks to you. and i've sat with these secrets. i'm no longer willing to. what part of no do you not understand. do you not understand. what part of no do you not understand. do you not understand. . . it's easy not to. . . what goes around so much easier not to. to you.... wake up. . what part of no. do you not understand"
        ],
        [
         "4",
         "Perfect",
         "sometimes is never quite enough. if you're flawless then you'll win my love. don't forget to win first place. don't forget to keep that smile on your face. . how long before you screw it up. and how many times do i have to tell you to hurry up. with everything i do for you. the least you can do is keep quiet. . be a good boy. you've got to try a little harder. that simply wasn't good enough. to make us proud. . i'll live through you. i'll make you what i never was. if you're the best then maybe so am i. compared to him compared to her. i'm doing this for your own damn good. you'll make up for what i blew. what's the problem why are you crying. . be a good boy. push a little farther now. that wasn't fast enough. to make us happy. we'll love you just the way you are. if you're perfect"
        ]
       ],
       "shape": {
        "columns": 2,
        "rows": 5
       }
      },
      "text/html": [
       "<div>\n",
       "<style scoped>\n",
       "    .dataframe tbody tr th:only-of-type {\n",
       "        vertical-align: middle;\n",
       "    }\n",
       "\n",
       "    .dataframe tbody tr th {\n",
       "        vertical-align: top;\n",
       "    }\n",
       "\n",
       "    .dataframe thead th {\n",
       "        text-align: right;\n",
       "    }\n",
       "</style>\n",
       "<table border=\"1\" class=\"dataframe\">\n",
       "  <thead>\n",
       "    <tr style=\"text-align: right;\">\n",
       "      <th></th>\n",
       "      <th>title</th>\n",
       "      <th>lyrics</th>\n",
       "    </tr>\n",
       "  </thead>\n",
       "  <tbody>\n",
       "    <tr>\n",
       "      <th>0</th>\n",
       "      <td>In a Crowd of Thousands</td>\n",
       "      <td>it was june. i was ten. i still think of that ...</td>\n",
       "    </tr>\n",
       "    <tr>\n",
       "      <th>1</th>\n",
       "      <td>A Rumor in St. Petersburg</td>\n",
       "      <td>the neva flows a new wind blows. and soon it w...</td>\n",
       "    </tr>\n",
       "    <tr>\n",
       "      <th>2</th>\n",
       "      <td>Wake Up</td>\n",
       "      <td>i don't wanna wake up. i want you spread out o...</td>\n",
       "    </tr>\n",
       "    <tr>\n",
       "      <th>3</th>\n",
       "      <td>No</td>\n",
       "      <td>my mind is invaded. my gates are ignored. my t...</td>\n",
       "    </tr>\n",
       "    <tr>\n",
       "      <th>4</th>\n",
       "      <td>Perfect</td>\n",
       "      <td>sometimes is never quite enough. if you're fla...</td>\n",
       "    </tr>\n",
       "  </tbody>\n",
       "</table>\n",
       "</div>"
      ],
      "text/plain": [
       "                       title  \\\n",
       "0    In a Crowd of Thousands   \n",
       "1  A Rumor in St. Petersburg   \n",
       "2                    Wake Up   \n",
       "3                         No   \n",
       "4                    Perfect   \n",
       "\n",
       "                                              lyrics  \n",
       "0  it was june. i was ten. i still think of that ...  \n",
       "1  the neva flows a new wind blows. and soon it w...  \n",
       "2  i don't wanna wake up. i want you spread out o...  \n",
       "3  my mind is invaded. my gates are ignored. my t...  \n",
       "4  sometimes is never quite enough. if you're fla...  "
      ]
     },
     "execution_count": 9,
     "metadata": {},
     "output_type": "execute_result"
    }
   ],
   "source": [
    "songs.head(5)"
   ]
  },
  {
   "cell_type": "markdown",
   "metadata": {},
   "source": [
    "## BERTopic "
   ]
  },
  {
   "cell_type": "code",
   "execution_count": 18,
   "metadata": {},
   "outputs": [],
   "source": [
    "from bertopic import BERTopic\n",
    "topic_model = BERTopic()\n",
    "topics, probs = topic_model.fit_transform(songs['lyrics'])"
   ]
  },
  {
   "cell_type": "code",
   "execution_count": null,
   "metadata": {},
   "outputs": [],
   "source": []
  }
 ],
 "metadata": {
  "kernelspec": {
   "display_name": "spotify",
   "language": "python",
   "name": "python3"
  },
  "language_info": {
   "codemirror_mode": {
    "name": "ipython",
    "version": 3
   },
   "file_extension": ".py",
   "mimetype": "text/x-python",
   "name": "python",
   "nbconvert_exporter": "python",
   "pygments_lexer": "ipython3",
   "version": "3.13.1"
  }
 },
 "nbformat": 4,
 "nbformat_minor": 2
}
